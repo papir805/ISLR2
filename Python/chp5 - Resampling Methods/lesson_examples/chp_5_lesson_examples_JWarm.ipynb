{
 "cells": [
  {
   "cell_type": "markdown",
   "id": "a62c772b-8401-45bb-8063-b0f35db69841",
   "metadata": {},
   "source": [
    "# Chapter 5 - Resampling Methods"
   ]
  },
  {
   "cell_type": "code",
   "execution_count": 4,
   "id": "4917a902-c200-4511-a350-d03879b7dacf",
   "metadata": {},
   "outputs": [],
   "source": [
    "import pandas as pd\n",
    "import numpy as np\n",
    "import matplotlib.pyplot as plt\n",
    "import seaborn as sns\n",
    "\n",
    "import sklearn.linear_model as skl_lm\n",
    "from sklearn.metrics import mean_squared_error\n",
    "from sklearn.model_selection import train_test_split, LeaveOneOut, KFold, cross_val_score\n",
    "from sklearn.preprocessing import PolynomialFeatures\n",
    "\n",
    "%matplotlib inline\n",
    "plt.style.use('seaborn-white')"
   ]
  },
  {
   "cell_type": "code",
   "execution_count": 5,
   "id": "7d37c988-03e4-444f-b547-3f5696852e6d",
   "metadata": {},
   "outputs": [
    {
     "name": "stdout",
     "output_type": "stream",
     "text": [
      "/Volumes/GoogleDrive/My Drive/Coding/ISLR2/Python/chp5/lesson_examples\n"
     ]
    }
   ],
   "source": [
    "!pwd"
   ]
  },
  {
   "cell_type": "code",
   "execution_count": 7,
   "id": "fbf4c58f-134e-4638-b0a1-b0044f16e943",
   "metadata": {},
   "outputs": [],
   "source": [
    "df1 = pd.read_csv(\"../../../datasets/Auto.csv\", na_values='?').dropna()"
   ]
  },
  {
   "cell_type": "code",
   "execution_count": 8,
   "id": "3c0059e8-7400-4d80-a1b6-9ad6835ff073",
   "metadata": {},
   "outputs": [
    {
     "name": "stdout",
     "output_type": "stream",
     "text": [
      "<class 'pandas.core.frame.DataFrame'>\n",
      "Int64Index: 392 entries, 0 to 396\n",
      "Data columns (total 9 columns):\n",
      " #   Column        Non-Null Count  Dtype  \n",
      "---  ------        --------------  -----  \n",
      " 0   mpg           392 non-null    float64\n",
      " 1   cylinders     392 non-null    int64  \n",
      " 2   displacement  392 non-null    float64\n",
      " 3   horsepower    392 non-null    float64\n",
      " 4   weight        392 non-null    int64  \n",
      " 5   acceleration  392 non-null    float64\n",
      " 6   year          392 non-null    int64  \n",
      " 7   origin        392 non-null    int64  \n",
      " 8   name          392 non-null    object \n",
      "dtypes: float64(4), int64(4), object(1)\n",
      "memory usage: 30.6+ KB\n"
     ]
    }
   ],
   "source": [
    "df1.info()"
   ]
  },
  {
   "cell_type": "markdown",
   "id": "422d3222-11e5-41de-95f4-5c22ed94ea0a",
   "metadata": {},
   "source": [
    "# 5.1 Cross-Validation"
   ]
  },
  {
   "cell_type": "markdown",
   "id": "a453104c-d62b-42d1-8706-20391227a1c3",
   "metadata": {},
   "source": [
    "## Figure 5.2 - Validation Set Approach"
   ]
  },
  {
   "cell_type": "code",
   "execution_count": 21,
   "id": "e0e9d6a4-0ab1-4fb2-950f-169266ef8b98",
   "metadata": {},
   "outputs": [],
   "source": [
    "t_prop = 0.5\n",
    "p_order = np.arange(1, 11)\n",
    "r_state = np.arange(0, 10)\n",
    "\n",
    "X, Y = np.meshgrid(p_order, r_state, indexing='ij')\n",
    "Z = np.zeros((p_order.size, r_state.size))\n",
    "\n",
    "regr = skl_lm.LinearRegression()\n",
    "\n",
    "# Geberate 10 random splits of the dataset\n",
    "for (i,j), v in np.ndenumerate(Z):\n",
    "    poly = PolynomialFeatures(degree=int(X[i,j]))\n",
    "    X_poly = poly.fit_transform(df1.horsepower.values.reshape(-1,1))\n",
    "    \n",
    "    X_train, X_test, y_train, y_test = train_test_split(X_poly, df1.mpg.ravel(), test_size=t_prop, random_state=Y[i,j])\n",
    "    regr.fit(X_train, y_train)\n",
    "    "
   ]
  },
  {
   "cell_type": "code",
   "execution_count": 34,
   "id": "0dbf7a6c-1cf1-4c47-bd9c-08ba4faee2dc",
   "metadata": {},
   "outputs": [
    {
     "data": {
      "text/plain": [
       "(392,)"
      ]
     },
     "execution_count": 34,
     "metadata": {},
     "output_type": "execute_result"
    }
   ],
   "source": [
    "df1.mpg.shape"
   ]
  },
  {
   "cell_type": "code",
   "execution_count": null,
   "id": "a44d20e4-f034-46d6-8eee-3327f6edf96c",
   "metadata": {},
   "outputs": [],
   "source": []
  }
 ],
 "metadata": {
  "kernelspec": {
   "display_name": "Python 3 (ipykernel)",
   "language": "python",
   "name": "python3"
  },
  "language_info": {
   "codemirror_mode": {
    "name": "ipython",
    "version": 3
   },
   "file_extension": ".py",
   "mimetype": "text/x-python",
   "name": "python",
   "nbconvert_exporter": "python",
   "pygments_lexer": "ipython3",
   "version": "3.10.4"
  }
 },
 "nbformat": 4,
 "nbformat_minor": 5
}
