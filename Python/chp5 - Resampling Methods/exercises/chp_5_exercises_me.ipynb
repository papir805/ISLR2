{
 "cells": [
  {
   "cell_type": "markdown",
   "id": "6437fc31-a560-4896-945a-17c881be0974",
   "metadata": {},
   "source": [
    "# Chapter 5 Exercises"
   ]
  },
  {
   "cell_type": "code",
   "execution_count": 250,
   "id": "ad414a2a-6ad7-4500-b65d-d1f8dee2ca8d",
   "metadata": {},
   "outputs": [],
   "source": [
    "import numpy as np\n",
    "import pandas as pd\n",
    "\n",
    "from sklearn.linear_model import LogisticRegression\n",
    "\n",
    "import statsmodels.api as sm\n",
    "import statsmodels.formula.api as smf\n",
    "\n",
    "import rpy2.robjects as robjects\n",
    "\n",
    "from scipy.stats import t\n",
    "\n",
    "import matplotlib.pyplot as plt"
   ]
  },
  {
   "cell_type": "markdown",
   "id": "1517fe66-ded3-420a-b67f-6bfbdcfe5a73",
   "metadata": {},
   "source": [
    "## Applied Exercises"
   ]
  },
  {
   "cell_type": "markdown",
   "id": "febd371e-8e2f-42bf-b0d9-d3c3e59bf1d1",
   "metadata": {},
   "source": [
    "### Exercise 5\n",
    "In Chapter 4, we used logistic regression to predict the probability of `default` using `income` and `balance` on the `Default` data set.  We will now estimate the test error of this logistic regression model using the validation set approach.  Do not forget to set a random seed before beginning your analysis."
   ]
  },
  {
   "cell_type": "code",
   "execution_count": 2,
   "id": "7d77131d-2da9-42d8-8bbe-3f2a10b381a9",
   "metadata": {},
   "outputs": [],
   "source": [
    "default_df = pd.read_csv('../../../datasets/Default.csv')"
   ]
  },
  {
   "cell_type": "code",
   "execution_count": 3,
   "id": "975db064-9066-4e30-a5b6-7139a5ddce27",
   "metadata": {},
   "outputs": [
    {
     "data": {
      "text/html": [
       "<div>\n",
       "<style scoped>\n",
       "    .dataframe tbody tr th:only-of-type {\n",
       "        vertical-align: middle;\n",
       "    }\n",
       "\n",
       "    .dataframe tbody tr th {\n",
       "        vertical-align: top;\n",
       "    }\n",
       "\n",
       "    .dataframe thead th {\n",
       "        text-align: right;\n",
       "    }\n",
       "</style>\n",
       "<table border=\"1\" class=\"dataframe\">\n",
       "  <thead>\n",
       "    <tr style=\"text-align: right;\">\n",
       "      <th></th>\n",
       "      <th>default</th>\n",
       "      <th>student</th>\n",
       "      <th>balance</th>\n",
       "      <th>income</th>\n",
       "    </tr>\n",
       "  </thead>\n",
       "  <tbody>\n",
       "    <tr>\n",
       "      <th>0</th>\n",
       "      <td>No</td>\n",
       "      <td>No</td>\n",
       "      <td>729.526495</td>\n",
       "      <td>44361.625074</td>\n",
       "    </tr>\n",
       "    <tr>\n",
       "      <th>1</th>\n",
       "      <td>No</td>\n",
       "      <td>Yes</td>\n",
       "      <td>817.180407</td>\n",
       "      <td>12106.134700</td>\n",
       "    </tr>\n",
       "    <tr>\n",
       "      <th>2</th>\n",
       "      <td>No</td>\n",
       "      <td>No</td>\n",
       "      <td>1073.549164</td>\n",
       "      <td>31767.138947</td>\n",
       "    </tr>\n",
       "    <tr>\n",
       "      <th>3</th>\n",
       "      <td>No</td>\n",
       "      <td>No</td>\n",
       "      <td>529.250605</td>\n",
       "      <td>35704.493935</td>\n",
       "    </tr>\n",
       "    <tr>\n",
       "      <th>4</th>\n",
       "      <td>No</td>\n",
       "      <td>No</td>\n",
       "      <td>785.655883</td>\n",
       "      <td>38463.495879</td>\n",
       "    </tr>\n",
       "  </tbody>\n",
       "</table>\n",
       "</div>"
      ],
      "text/plain": [
       "  default student      balance        income\n",
       "0      No      No   729.526495  44361.625074\n",
       "1      No     Yes   817.180407  12106.134700\n",
       "2      No      No  1073.549164  31767.138947\n",
       "3      No      No   529.250605  35704.493935\n",
       "4      No      No   785.655883  38463.495879"
      ]
     },
     "execution_count": 3,
     "metadata": {},
     "output_type": "execute_result"
    }
   ],
   "source": [
    "default_df.head()"
   ]
  },
  {
   "cell_type": "markdown",
   "id": "a174900b-e951-45bb-a4f2-96bb57f64dc4",
   "metadata": {},
   "source": [
    "#### 5a) Fit a logistic regression model that uses `income` and `balance` to predict `default`."
   ]
  },
  {
   "cell_type": "code",
   "execution_count": 4,
   "id": "d77c2a96-7f8d-43be-8d62-bafd4c0c8c71",
   "metadata": {},
   "outputs": [],
   "source": [
    "X = default_df[['balance', 'income']]\n",
    "y = default_df['default']\n",
    "\n",
    "lr_model = LogisticRegression(penalty='none')\n",
    "lr_fit = lr_model.fit(X, y)"
   ]
  },
  {
   "cell_type": "code",
   "execution_count": 5,
   "id": "2573d3a9-2f8c-4417-aa68-6d78cacec2b8",
   "metadata": {},
   "outputs": [
    {
     "data": {
      "text/plain": [
       "0.9737"
      ]
     },
     "execution_count": 5,
     "metadata": {},
     "output_type": "execute_result"
    }
   ],
   "source": [
    "lr_preds = lr_fit.predict(X)\n",
    "accuracy = sum(lr_preds == y) / len(y)\n",
    "\n",
    "accuracy"
   ]
  },
  {
   "cell_type": "code",
   "execution_count": 6,
   "id": "d149e00f-be3b-42dc-ae93-2eff61b36998",
   "metadata": {},
   "outputs": [],
   "source": [
    "# from sklearn.metrics import accuracy_score\n",
    "# acc_score = accuracy_score(y, lr_preds)\n",
    "# acc_score"
   ]
  },
  {
   "cell_type": "markdown",
   "id": "be38ef26-c05b-4e3f-bedc-157f767dd409",
   "metadata": {},
   "source": [
    "#### 5b) Using the validation set approach, estimate the test error of this model.  In order to do this, you must perform the following steps:\n",
    "  * i. Split the sample set into a training set and a validation set.\n",
    "  * ii. Fit a multiple logistic regression model using only the training observations.\n",
    "  * iii. Obtain a prediction of default status for each individual in the validation set by computing the posterior probability of default for that individual, and classifying the individual to the `default` category if the posterior probability is greater than 0.5.\n",
    "  * iv. Compute the validation set error, which is the fraction of the observations in the validation set that are misclassified.m"
   ]
  },
  {
   "cell_type": "code",
   "execution_count": 7,
   "id": "5c45a101-f5cc-4689-af96-832511c1cadb",
   "metadata": {},
   "outputs": [],
   "source": [
    "num_observations = default_df.shape[0]\n",
    "n = 8000\n",
    "\n",
    "np.random.seed(0)\n",
    "train_idx = np.random.choice(np.arange(0, num_observations), n)\n",
    "\n",
    "default_train_mask = default_df.index.isin(train_idx)\n",
    "default_test_mask = ~default_train_mask"
   ]
  },
  {
   "cell_type": "code",
   "execution_count": 8,
   "id": "0bc77304-03b6-4bdf-bdf8-660a4e2c92be",
   "metadata": {},
   "outputs": [],
   "source": [
    "X = default_df[['balance', 'income']]\n",
    "y = default_df['default']\n",
    "\n",
    "X_train = X[default_train_mask]\n",
    "y_train = y[default_train_mask]\n",
    "\n",
    "X_test = X[default_test_mask]\n",
    "y_test = y[default_test_mask]\n",
    "\n",
    "lr_model = LogisticRegression(penalty='none')\n",
    "lr_fit = lr_model.fit(X_train, y_train)"
   ]
  },
  {
   "cell_type": "code",
   "execution_count": 9,
   "id": "9a618314-8170-4864-b49e-3374690493fe",
   "metadata": {},
   "outputs": [
    {
     "data": {
      "text/plain": [
       "0.9730031236055332"
      ]
     },
     "execution_count": 9,
     "metadata": {},
     "output_type": "execute_result"
    }
   ],
   "source": [
    "lr_preds = lr_fit.predict(X_test)\n",
    "accuracy = sum(lr_preds == y_test) / len(y_test)\n",
    "\n",
    "accuracy"
   ]
  },
  {
   "cell_type": "markdown",
   "id": "c67dc4a9-a015-4c2c-a92e-76a02cb1d55b",
   "metadata": {},
   "source": [
    "#### 5c) Repeat the process in (b) three times, using three different splits of the observations into a training set and a validation set.  Comment on the results obtained."
   ]
  },
  {
   "cell_type": "code",
   "execution_count": 10,
   "id": "c39f60e8-8d49-4700-95f2-3e945d25150d",
   "metadata": {},
   "outputs": [],
   "source": [
    "def generate_test_accuracy(df, N = 5000, get_dummy=False):\n",
    "    num_observations = df.shape[0]\n",
    "    n = N\n",
    "\n",
    "    train_idx = np.random.choice(np.arange(0, num_observations), n)\n",
    "\n",
    "    train_mask = df.index.isin(train_idx)\n",
    "    test_mask = ~train_mask\n",
    "    \n",
    "    X = df[['balance', 'income']]\n",
    "    y = df['default']\n",
    "    \n",
    "    if get_dummy == True:\n",
    "        student_dummy = pd.get_dummies(default_df['student'], drop_first=True)\n",
    "        X = pd.concat([X, student_dummy], axis=1)\n",
    "\n",
    "    X_train = X[train_mask]\n",
    "    y_train = y[train_mask]\n",
    "\n",
    "    X_test = X[test_mask]\n",
    "    y_test = y[test_mask]\n",
    "\n",
    "    lr_model = LogisticRegression(penalty='none')\n",
    "    lr_fit = lr_model.fit(X_train, y_train)\n",
    "    \n",
    "    lr_preds = lr_fit.predict(X_test)\n",
    "    accuracy = sum(lr_preds == y_test) / len(y_test)\n",
    "\n",
    "    return accuracy"
   ]
  },
  {
   "cell_type": "code",
   "execution_count": 11,
   "id": "be0113fb-9fe8-45b6-93f4-ac189a3219b4",
   "metadata": {},
   "outputs": [
    {
     "data": {
      "text/plain": [
       "0.9666592078764824"
      ]
     },
     "execution_count": 11,
     "metadata": {},
     "output_type": "execute_result"
    }
   ],
   "source": [
    "generate_test_accuracy(default_df, N = 8000)"
   ]
  },
  {
   "cell_type": "code",
   "execution_count": 12,
   "id": "f8432c01-3d22-419a-ac17-714852332467",
   "metadata": {},
   "outputs": [
    {
     "data": {
      "text/plain": [
       "0.9654088050314465"
      ]
     },
     "execution_count": 12,
     "metadata": {},
     "output_type": "execute_result"
    }
   ],
   "source": [
    "generate_test_accuracy(default_df, N = 8000)"
   ]
  },
  {
   "cell_type": "code",
   "execution_count": 13,
   "id": "ad3f3464-8977-4a71-94f1-1b96bacc953b",
   "metadata": {},
   "outputs": [
    {
     "data": {
      "text/plain": [
       "0.9662483589348337"
      ]
     },
     "execution_count": 13,
     "metadata": {},
     "output_type": "execute_result"
    }
   ],
   "source": [
    "test_accuracies = []\n",
    "\n",
    "for _ in range(5):\n",
    "    test_accuracy = generate_test_accuracy(default_df, N = 8000)\n",
    "    test_accuracies.append(test_accuracy)\n",
    "    \n",
    "np.mean(test_accuracies)"
   ]
  },
  {
   "cell_type": "markdown",
   "id": "e24fd383-5eda-42fc-867d-61a027a92acc",
   "metadata": {},
   "source": [
    "Using a validation set approach, we see some variation in the testing accuracy.  This is due to fitting the slightly different models that result from being fit on different train/test splits."
   ]
  },
  {
   "cell_type": "markdown",
   "id": "750032cb-dc91-4ff8-b97a-67218c007968",
   "metadata": {},
   "source": [
    "#### 5d) Now consider a logistic regression model that predicts the probability of `default` using `income`, `balance`, and a dummy variable for `student`.  Estimate the test error for this model using the validation set approach.  Comment on whether or not including. adummy variable for `student` leads to a reduction in the test error rate."
   ]
  },
  {
   "cell_type": "code",
   "execution_count": 14,
   "id": "54b66466-d171-4e02-a16b-0d85a61f7f7a",
   "metadata": {},
   "outputs": [
    {
     "data": {
      "text/plain": [
       "0.967425256581883"
      ]
     },
     "execution_count": 14,
     "metadata": {},
     "output_type": "execute_result"
    }
   ],
   "source": [
    "np.random.seed(0)\n",
    "train_idx = np.random.choice(np.arange(0, num_observations), n)\n",
    "\n",
    "default_train_mask = default_df.index.isin(train_idx)\n",
    "default_test_mask = ~default_train_mask\n",
    "\n",
    "student_dummy = pd.get_dummies(default_df['student'], drop_first=True)\n",
    "\n",
    "X = default_df[['balance', 'income']]\n",
    "X_dummy = pd.concat([X, student_dummy], axis=1)\n",
    "y = default_df['default']\n",
    "\n",
    "X_train = X_dummy[default_train_mask]\n",
    "y_train = y[default_train_mask]\n",
    "\n",
    "X_test = X_dummy[default_test_mask]\n",
    "y_test = y[default_test_mask]\n",
    "\n",
    "lr_model_dummy = LogisticRegression(penalty='none')\n",
    "lr_fit_dummy = lr_model_dummy.fit(X_train, y_train)\n",
    "\n",
    "lr_preds = lr_fit_dummy.predict(X_test)\n",
    "accuracy = sum(lr_preds == y_test) / len(y_test)\n",
    "\n",
    "accuracy"
   ]
  },
  {
   "cell_type": "code",
   "execution_count": 15,
   "id": "9963586a-147b-4822-8dd0-f8b31722960a",
   "metadata": {},
   "outputs": [
    {
     "data": {
      "text/plain": [
       "0.9658317036022307"
      ]
     },
     "execution_count": 15,
     "metadata": {},
     "output_type": "execute_result"
    }
   ],
   "source": [
    "test_accuracies = []\n",
    "for _ in range(5):\n",
    "    test_accuracy = generate_test_accuracy(default_df, N = 8000, get_dummy=True)\n",
    "    test_accuracies.append(test_accuracy)\n",
    "    \n",
    "np.mean(test_accuracies)"
   ]
  },
  {
   "cell_type": "markdown",
   "id": "399b9b6a-4cf7-47f6-a3d0-32c86ef49e91",
   "metadata": {},
   "source": [
    "There's very minor differences in testing accuracy when `student` is included.  It doesn't seem to add much predictive power to the model."
   ]
  },
  {
   "cell_type": "markdown",
   "id": "136c7162-361d-4b42-9ef9-edc828564e56",
   "metadata": {},
   "source": [
    "### Exercise 6\n",
    "We continue to consider the use of a logstic regression model to predict the probability of `default` using `income` and `balance` on the `Default` data set.  In particular, we will now compute estimates for the standard errors of the `income` and `balance` logistic regression coefficients in two different ways: (1) using the bootstrap, and (2) using teh stsandard formula for computing the standard errors in the `glm()` function.  Do not forget to set a random seed before beginning your analysis."
   ]
  },
  {
   "cell_type": "markdown",
   "id": "862e93de-6ec5-4119-8e4d-a73b6ae6734e",
   "metadata": {},
   "source": [
    "#### 6a) Using the `summary()` and `glm()` functions, determine the estimated standard errors for the coefficients associated with `income` and `balance` in a multiple logistic regression model that uses both predictors."
   ]
  },
  {
   "cell_type": "code",
   "execution_count": 16,
   "id": "e1cafde4-c8be-4218-97c5-93ac10079e84",
   "metadata": {},
   "outputs": [
    {
     "data": {
      "text/plain": [
       "array([[5.56605147e-03, 2.01987432e-05]])"
      ]
     },
     "execution_count": 16,
     "metadata": {},
     "output_type": "execute_result"
    }
   ],
   "source": [
    "lr_fit.coef_"
   ]
  },
  {
   "cell_type": "code",
   "execution_count": 17,
   "id": "d376c25a-3b98-44be-af49-1962d19bd0ad",
   "metadata": {},
   "outputs": [
    {
     "data": {
      "text/plain": [
       "array([-11.43300146])"
      ]
     },
     "execution_count": 17,
     "metadata": {},
     "output_type": "execute_result"
    }
   ],
   "source": [
    "lr_fit.intercept_"
   ]
  },
  {
   "cell_type": "code",
   "execution_count": 18,
   "id": "58d8eddc-97c3-4c14-ba1a-53f74bed37fa",
   "metadata": {},
   "outputs": [
    {
     "data": {
      "text/html": [
       "<table class=\"simpletable\">\n",
       "<caption>Generalized Linear Model Regression Results</caption>\n",
       "<tr>\n",
       "  <th>Dep. Variable:</th>   <td>['default[No]', 'default[Yes]']</td> <th>  No. Observations:  </th>  <td> 10000</td> \n",
       "</tr>\n",
       "<tr>\n",
       "  <th>Model:</th>                         <td>GLM</td>               <th>  Df Residuals:      </th>  <td>  9997</td> \n",
       "</tr>\n",
       "<tr>\n",
       "  <th>Model Family:</th>               <td>Binomial</td>             <th>  Df Model:          </th>  <td>     2</td> \n",
       "</tr>\n",
       "<tr>\n",
       "  <th>Link Function:</th>                <td>Logit</td>              <th>  Scale:             </th> <td>  1.0000</td>\n",
       "</tr>\n",
       "<tr>\n",
       "  <th>Method:</th>                       <td>IRLS</td>               <th>  Log-Likelihood:    </th> <td> -789.48</td>\n",
       "</tr>\n",
       "<tr>\n",
       "  <th>Date:</th>                   <td>Sun, 22 Jan 2023</td>         <th>  Deviance:          </th> <td>  1579.0</td>\n",
       "</tr>\n",
       "<tr>\n",
       "  <th>Time:</th>                       <td>01:33:25</td>             <th>  Pearson chi2:      </th> <td>6.95e+03</td>\n",
       "</tr>\n",
       "<tr>\n",
       "  <th>No. Iterations:</th>                 <td>9</td>                <th>  Pseudo R-squ. (CS):</th>  <td>0.1256</td> \n",
       "</tr>\n",
       "<tr>\n",
       "  <th>Covariance Type:</th>            <td>nonrobust</td>            <th>                     </th>     <td> </td>   \n",
       "</tr>\n",
       "</table>\n",
       "<table class=\"simpletable\">\n",
       "<tr>\n",
       "      <td></td>         <th>coef</th>     <th>std err</th>      <th>z</th>      <th>P>|z|</th>  <th>[0.025</th>    <th>0.975]</th>  \n",
       "</tr>\n",
       "<tr>\n",
       "  <th>Intercept</th> <td>   11.5405</td> <td>    0.435</td> <td>   26.544</td> <td> 0.000</td> <td>   10.688</td> <td>   12.393</td>\n",
       "</tr>\n",
       "<tr>\n",
       "  <th>income</th>    <td>-2.081e-05</td> <td> 4.99e-06</td> <td>   -4.174</td> <td> 0.000</td> <td>-3.06e-05</td> <td> -1.1e-05</td>\n",
       "</tr>\n",
       "<tr>\n",
       "  <th>balance</th>   <td>   -0.0056</td> <td>    0.000</td> <td>  -24.835</td> <td> 0.000</td> <td>   -0.006</td> <td>   -0.005</td>\n",
       "</tr>\n",
       "</table>"
      ],
      "text/plain": [
       "<class 'statsmodels.iolib.summary.Summary'>\n",
       "\"\"\"\n",
       "                        Generalized Linear Model Regression Results                        \n",
       "===========================================================================================\n",
       "Dep. Variable:     ['default[No]', 'default[Yes]']   No. Observations:                10000\n",
       "Model:                                         GLM   Df Residuals:                     9997\n",
       "Model Family:                             Binomial   Df Model:                            2\n",
       "Link Function:                               Logit   Scale:                          1.0000\n",
       "Method:                                       IRLS   Log-Likelihood:                -789.48\n",
       "Date:                             Sun, 22 Jan 2023   Deviance:                       1579.0\n",
       "Time:                                     01:33:25   Pearson chi2:                 6.95e+03\n",
       "No. Iterations:                                  9   Pseudo R-squ. (CS):             0.1256\n",
       "Covariance Type:                         nonrobust                                         \n",
       "==============================================================================\n",
       "                 coef    std err          z      P>|z|      [0.025      0.975]\n",
       "------------------------------------------------------------------------------\n",
       "Intercept     11.5405      0.435     26.544      0.000      10.688      12.393\n",
       "income     -2.081e-05   4.99e-06     -4.174      0.000   -3.06e-05    -1.1e-05\n",
       "balance       -0.0056      0.000    -24.835      0.000      -0.006      -0.005\n",
       "==============================================================================\n",
       "\"\"\""
      ]
     },
     "execution_count": 18,
     "metadata": {},
     "output_type": "execute_result"
    }
   ],
   "source": [
    "glm_fit = smf.glm(formula='default ~ income + balance', \n",
    "                  data = default_df, \n",
    "                  family = sm.families.Binomial()\n",
    "              ).fit()\n",
    "glm_fit.summary()"
   ]
  },
  {
   "cell_type": "code",
   "execution_count": 19,
   "id": "f9eba22b-edad-42de-9258-2026fafa8d86",
   "metadata": {},
   "outputs": [
    {
     "data": {
      "text/plain": [
       "Intercept    0.434772\n",
       "income       0.000005\n",
       "balance      0.000227\n",
       "dtype: float64"
      ]
     },
     "execution_count": 19,
     "metadata": {},
     "output_type": "execute_result"
    }
   ],
   "source": [
    "glm_fit.bse"
   ]
  },
  {
   "cell_type": "markdown",
   "id": "2e8b23f1-8765-45d2-8a16-da0d01b3c9cb",
   "metadata": {},
   "source": [
    "#### 6b) Write a function, `boot.fn()`, that takes as inpute the `Default` data set as well as an index of the observations, and that outputs the coefficient estimates for `income` and `balance` in the multiple logistic regression model."
   ]
  },
  {
   "cell_type": "code",
   "execution_count": 20,
   "id": "11676af0-8e29-476e-be12-02e8e6a5c35f",
   "metadata": {},
   "outputs": [],
   "source": [
    "def boot_fn(data, index):\n",
    "    model = smf.glm(formula = 'default ~ income + balance', \n",
    "                    data = data, \n",
    "                    subset = index,\n",
    "                    family = sm.families.Binomial()\n",
    "                   )\n",
    "    fit = model.fit()\n",
    "    coefficients = fit.params\n",
    "    \n",
    "    return coefficients"
   ]
  },
  {
   "cell_type": "markdown",
   "id": "665616c3-d9ec-492a-8906-0c3669f88fd3",
   "metadata": {},
   "source": [
    "#### 6c) Use the `boot()` function together with your `boot.fn()` function to estimate the standard errors of the logistic regression coefficients for `income` and `balance`."
   ]
  },
  {
   "cell_type": "code",
   "execution_count": 21,
   "id": "a44d5aa0-e1cd-47fd-9ac8-0b4787e6fc1c",
   "metadata": {},
   "outputs": [],
   "source": [
    "intercepts = []\n",
    "income_coefficients = []\n",
    "balance_coefficients = []\n",
    "\n",
    "for _ in range(1000):\n",
    "    \n",
    "    bstrap_idx = np.random.choice(np.arange(0, default_df.shape[0]), default_df.shape[0])\n",
    "    results = boot_fn(default_df, bstrap_idx)\n",
    "    intercept = results[0]\n",
    "    income_coefficient = results[1]\n",
    "    balance_coefficient = results[2]\n",
    "    \n",
    "    intercepts.append(intercept)\n",
    "    income_coefficients.append(income_coefficient)\n",
    "    balance_coefficients.append(balance_coefficient)"
   ]
  },
  {
   "cell_type": "code",
   "execution_count": 22,
   "id": "da27fb52-dac7-4ebb-9d14-4ca43e1cbf91",
   "metadata": {},
   "outputs": [
    {
     "data": {
      "text/plain": [
       "(0.442485522171379, 4.776114150752502e-06, 0.0002320902537453382)"
      ]
     },
     "execution_count": 22,
     "metadata": {},
     "output_type": "execute_result"
    }
   ],
   "source": [
    "np.std(intercepts), np.std(income_coefficients), np.std(balance_coefficients)"
   ]
  },
  {
   "cell_type": "markdown",
   "id": "a5d6b351-f4da-4166-a831-df6333a084a8",
   "metadata": {},
   "source": [
    "#### 6d) Comment on the estimated standard errors obtained using the `glm()` function and using your bootstrap function."
   ]
  },
  {
   "cell_type": "markdown",
   "id": "80f9993f-d02c-4a49-b64f-1234dc0728f2",
   "metadata": {},
   "source": [
    "The standard errors from `glm()` are very close to the bootstrap estimates, however there is some variation in the bootstrap estimates as each of the bootstrap estimates was obtained by fitting a Logistic Regression model on different training data and validated on different testing data."
   ]
  },
  {
   "cell_type": "markdown",
   "id": "c25d4a55-15a6-4e86-b021-d7c551d9fe2e",
   "metadata": {},
   "source": [
    "### Exercise 7\n",
    "In Section 5.3.2 and 5.3.3, we saw that the `cv.glm()` function can be used in order to compute the LOOCV test error estimate.  Alternatively, one could compute those quantities using just the `glm()` and `predict.glm()` functions, and a for loop.  You will now take this approach in order to compute the LOOCV error for a simple logistic regression model on the `Weekly` data set.  Recall that in the context of classification problems, the LOOCV error is given in (5.4)."
   ]
  },
  {
   "cell_type": "code",
   "execution_count": 23,
   "id": "6b17e0a4-ba53-4115-8adf-a036309ec46d",
   "metadata": {},
   "outputs": [],
   "source": [
    "weekly_df = pd.read_csv(\"../../../datasets/Weekly.csv\")\n",
    "\n",
    "weekly_df['Direction_int'] = weekly_df['Direction'].map({'Down':0, 'Up':1})"
   ]
  },
  {
   "cell_type": "code",
   "execution_count": 24,
   "id": "4d75f974-2c58-44d7-9e9d-534767fabbcb",
   "metadata": {},
   "outputs": [
    {
     "data": {
      "text/html": [
       "<div>\n",
       "<style scoped>\n",
       "    .dataframe tbody tr th:only-of-type {\n",
       "        vertical-align: middle;\n",
       "    }\n",
       "\n",
       "    .dataframe tbody tr th {\n",
       "        vertical-align: top;\n",
       "    }\n",
       "\n",
       "    .dataframe thead th {\n",
       "        text-align: right;\n",
       "    }\n",
       "</style>\n",
       "<table border=\"1\" class=\"dataframe\">\n",
       "  <thead>\n",
       "    <tr style=\"text-align: right;\">\n",
       "      <th></th>\n",
       "      <th>Year</th>\n",
       "      <th>Lag1</th>\n",
       "      <th>Lag2</th>\n",
       "      <th>Lag3</th>\n",
       "      <th>Lag4</th>\n",
       "      <th>Lag5</th>\n",
       "      <th>Volume</th>\n",
       "      <th>Today</th>\n",
       "      <th>Direction</th>\n",
       "      <th>Direction_int</th>\n",
       "    </tr>\n",
       "  </thead>\n",
       "  <tbody>\n",
       "    <tr>\n",
       "      <th>0</th>\n",
       "      <td>1990</td>\n",
       "      <td>0.816</td>\n",
       "      <td>1.572</td>\n",
       "      <td>-3.936</td>\n",
       "      <td>-0.229</td>\n",
       "      <td>-3.484</td>\n",
       "      <td>0.154976</td>\n",
       "      <td>-0.270</td>\n",
       "      <td>Down</td>\n",
       "      <td>0</td>\n",
       "    </tr>\n",
       "    <tr>\n",
       "      <th>1</th>\n",
       "      <td>1990</td>\n",
       "      <td>-0.270</td>\n",
       "      <td>0.816</td>\n",
       "      <td>1.572</td>\n",
       "      <td>-3.936</td>\n",
       "      <td>-0.229</td>\n",
       "      <td>0.148574</td>\n",
       "      <td>-2.576</td>\n",
       "      <td>Down</td>\n",
       "      <td>0</td>\n",
       "    </tr>\n",
       "    <tr>\n",
       "      <th>2</th>\n",
       "      <td>1990</td>\n",
       "      <td>-2.576</td>\n",
       "      <td>-0.270</td>\n",
       "      <td>0.816</td>\n",
       "      <td>1.572</td>\n",
       "      <td>-3.936</td>\n",
       "      <td>0.159837</td>\n",
       "      <td>3.514</td>\n",
       "      <td>Up</td>\n",
       "      <td>1</td>\n",
       "    </tr>\n",
       "    <tr>\n",
       "      <th>3</th>\n",
       "      <td>1990</td>\n",
       "      <td>3.514</td>\n",
       "      <td>-2.576</td>\n",
       "      <td>-0.270</td>\n",
       "      <td>0.816</td>\n",
       "      <td>1.572</td>\n",
       "      <td>0.161630</td>\n",
       "      <td>0.712</td>\n",
       "      <td>Up</td>\n",
       "      <td>1</td>\n",
       "    </tr>\n",
       "    <tr>\n",
       "      <th>4</th>\n",
       "      <td>1990</td>\n",
       "      <td>0.712</td>\n",
       "      <td>3.514</td>\n",
       "      <td>-2.576</td>\n",
       "      <td>-0.270</td>\n",
       "      <td>0.816</td>\n",
       "      <td>0.153728</td>\n",
       "      <td>1.178</td>\n",
       "      <td>Up</td>\n",
       "      <td>1</td>\n",
       "    </tr>\n",
       "  </tbody>\n",
       "</table>\n",
       "</div>"
      ],
      "text/plain": [
       "   Year   Lag1   Lag2   Lag3   Lag4   Lag5    Volume  Today Direction  \\\n",
       "0  1990  0.816  1.572 -3.936 -0.229 -3.484  0.154976 -0.270      Down   \n",
       "1  1990 -0.270  0.816  1.572 -3.936 -0.229  0.148574 -2.576      Down   \n",
       "2  1990 -2.576 -0.270  0.816  1.572 -3.936  0.159837  3.514        Up   \n",
       "3  1990  3.514 -2.576 -0.270  0.816  1.572  0.161630  0.712        Up   \n",
       "4  1990  0.712  3.514 -2.576 -0.270  0.816  0.153728  1.178        Up   \n",
       "\n",
       "   Direction_int  \n",
       "0              0  \n",
       "1              0  \n",
       "2              1  \n",
       "3              1  \n",
       "4              1  "
      ]
     },
     "execution_count": 24,
     "metadata": {},
     "output_type": "execute_result"
    }
   ],
   "source": [
    "weekly_df.head()"
   ]
  },
  {
   "cell_type": "markdown",
   "id": "0e4fa766-d02a-490f-89aa-29dfc60c9c2c",
   "metadata": {},
   "source": [
    "#### 7a) Fit a logistic regression model that predicts `Direction` Using `Lag1` and `Lag2`"
   ]
  },
  {
   "cell_type": "code",
   "execution_count": 25,
   "id": "15873f3a-3c3f-4e07-b6d6-e7aa6caf33ba",
   "metadata": {},
   "outputs": [
    {
     "data": {
      "text/html": [
       "<table class=\"simpletable\">\n",
       "<caption>Generalized Linear Model Regression Results</caption>\n",
       "<tr>\n",
       "  <th>Dep. Variable:</th>     <td>Direction_int</td>  <th>  No. Observations:  </th>  <td>  1089</td> \n",
       "</tr>\n",
       "<tr>\n",
       "  <th>Model:</th>                  <td>GLM</td>       <th>  Df Residuals:      </th>  <td>  1086</td> \n",
       "</tr>\n",
       "<tr>\n",
       "  <th>Model Family:</th>        <td>Binomial</td>     <th>  Df Model:          </th>  <td>     2</td> \n",
       "</tr>\n",
       "<tr>\n",
       "  <th>Link Function:</th>         <td>Logit</td>      <th>  Scale:             </th> <td>  1.0000</td>\n",
       "</tr>\n",
       "<tr>\n",
       "  <th>Method:</th>                <td>IRLS</td>       <th>  Log-Likelihood:    </th> <td> -744.11</td>\n",
       "</tr>\n",
       "<tr>\n",
       "  <th>Date:</th>            <td>Sun, 22 Jan 2023</td> <th>  Deviance:          </th> <td>  1488.2</td>\n",
       "</tr>\n",
       "<tr>\n",
       "  <th>Time:</th>                <td>01:34:36</td>     <th>  Pearson chi2:      </th> <td>1.09e+03</td>\n",
       "</tr>\n",
       "<tr>\n",
       "  <th>No. Iterations:</th>          <td>4</td>        <th>  Pseudo R-squ. (CS):</th> <td>0.007303</td>\n",
       "</tr>\n",
       "<tr>\n",
       "  <th>Covariance Type:</th>     <td>nonrobust</td>    <th>                     </th>     <td> </td>   \n",
       "</tr>\n",
       "</table>\n",
       "<table class=\"simpletable\">\n",
       "<tr>\n",
       "      <td></td>         <th>coef</th>     <th>std err</th>      <th>z</th>      <th>P>|z|</th>  <th>[0.025</th>    <th>0.975]</th>  \n",
       "</tr>\n",
       "<tr>\n",
       "  <th>Intercept</th> <td>    0.2212</td> <td>    0.061</td> <td>    3.599</td> <td> 0.000</td> <td>    0.101</td> <td>    0.342</td>\n",
       "</tr>\n",
       "<tr>\n",
       "  <th>Lag1</th>      <td>   -0.0387</td> <td>    0.026</td> <td>   -1.477</td> <td> 0.140</td> <td>   -0.090</td> <td>    0.013</td>\n",
       "</tr>\n",
       "<tr>\n",
       "  <th>Lag2</th>      <td>    0.0602</td> <td>    0.027</td> <td>    2.270</td> <td> 0.023</td> <td>    0.008</td> <td>    0.112</td>\n",
       "</tr>\n",
       "</table>"
      ],
      "text/plain": [
       "<class 'statsmodels.iolib.summary.Summary'>\n",
       "\"\"\"\n",
       "                 Generalized Linear Model Regression Results                  \n",
       "==============================================================================\n",
       "Dep. Variable:          Direction_int   No. Observations:                 1089\n",
       "Model:                            GLM   Df Residuals:                     1086\n",
       "Model Family:                Binomial   Df Model:                            2\n",
       "Link Function:                  Logit   Scale:                          1.0000\n",
       "Method:                          IRLS   Log-Likelihood:                -744.11\n",
       "Date:                Sun, 22 Jan 2023   Deviance:                       1488.2\n",
       "Time:                        01:34:36   Pearson chi2:                 1.09e+03\n",
       "No. Iterations:                     4   Pseudo R-squ. (CS):           0.007303\n",
       "Covariance Type:            nonrobust                                         \n",
       "==============================================================================\n",
       "                 coef    std err          z      P>|z|      [0.025      0.975]\n",
       "------------------------------------------------------------------------------\n",
       "Intercept      0.2212      0.061      3.599      0.000       0.101       0.342\n",
       "Lag1          -0.0387      0.026     -1.477      0.140      -0.090       0.013\n",
       "Lag2           0.0602      0.027      2.270      0.023       0.008       0.112\n",
       "==============================================================================\n",
       "\"\"\""
      ]
     },
     "execution_count": 25,
     "metadata": {},
     "output_type": "execute_result"
    }
   ],
   "source": [
    "glm_fit = smf.glm(formula='Direction_int ~ Lag1 + Lag2', \n",
    "                  data = weekly_df, \n",
    "                  family = sm.families.Binomial()\n",
    "              ).fit()\n",
    "glm_fit.summary()"
   ]
  },
  {
   "cell_type": "markdown",
   "id": "ecfe2d5e-585a-4b01-9334-603c36bd75b9",
   "metadata": {},
   "source": [
    "#### 7b) Fit a logistic regression model that predicts `Direction` and using `Lag1` and `Lag2` *using all but the first observation.*"
   ]
  },
  {
   "cell_type": "code",
   "execution_count": 26,
   "id": "7e04be65-8f2b-45c6-8513-bd5e7430cc2f",
   "metadata": {},
   "outputs": [
    {
     "data": {
      "text/html": [
       "<table class=\"simpletable\">\n",
       "<caption>Generalized Linear Model Regression Results</caption>\n",
       "<tr>\n",
       "  <th>Dep. Variable:</th>     <td>Direction_int</td>  <th>  No. Observations:  </th>  <td>  1088</td> \n",
       "</tr>\n",
       "<tr>\n",
       "  <th>Model:</th>                  <td>GLM</td>       <th>  Df Residuals:      </th>  <td>  1085</td> \n",
       "</tr>\n",
       "<tr>\n",
       "  <th>Model Family:</th>        <td>Binomial</td>     <th>  Df Model:          </th>  <td>     2</td> \n",
       "</tr>\n",
       "<tr>\n",
       "  <th>Link Function:</th>         <td>Logit</td>      <th>  Scale:             </th> <td>  1.0000</td>\n",
       "</tr>\n",
       "<tr>\n",
       "  <th>Method:</th>                <td>IRLS</td>       <th>  Log-Likelihood:    </th> <td> -743.26</td>\n",
       "</tr>\n",
       "<tr>\n",
       "  <th>Date:</th>            <td>Sun, 22 Jan 2023</td> <th>  Deviance:          </th> <td>  1486.5</td>\n",
       "</tr>\n",
       "<tr>\n",
       "  <th>Time:</th>                <td>01:34:36</td>     <th>  Pearson chi2:      </th> <td>1.09e+03</td>\n",
       "</tr>\n",
       "<tr>\n",
       "  <th>No. Iterations:</th>          <td>4</td>        <th>  Pseudo R-squ. (CS):</th> <td>0.007373</td>\n",
       "</tr>\n",
       "<tr>\n",
       "  <th>Covariance Type:</th>     <td>nonrobust</td>    <th>                     </th>     <td> </td>   \n",
       "</tr>\n",
       "</table>\n",
       "<table class=\"simpletable\">\n",
       "<tr>\n",
       "      <td></td>         <th>coef</th>     <th>std err</th>      <th>z</th>      <th>P>|z|</th>  <th>[0.025</th>    <th>0.975]</th>  \n",
       "</tr>\n",
       "<tr>\n",
       "  <th>Intercept</th> <td>    0.2232</td> <td>    0.061</td> <td>    3.630</td> <td> 0.000</td> <td>    0.103</td> <td>    0.344</td>\n",
       "</tr>\n",
       "<tr>\n",
       "  <th>Lag1</th>      <td>   -0.0384</td> <td>    0.026</td> <td>   -1.466</td> <td> 0.143</td> <td>   -0.090</td> <td>    0.013</td>\n",
       "</tr>\n",
       "<tr>\n",
       "  <th>Lag2</th>      <td>    0.0608</td> <td>    0.027</td> <td>    2.291</td> <td> 0.022</td> <td>    0.009</td> <td>    0.113</td>\n",
       "</tr>\n",
       "</table>"
      ],
      "text/plain": [
       "<class 'statsmodels.iolib.summary.Summary'>\n",
       "\"\"\"\n",
       "                 Generalized Linear Model Regression Results                  \n",
       "==============================================================================\n",
       "Dep. Variable:          Direction_int   No. Observations:                 1088\n",
       "Model:                            GLM   Df Residuals:                     1085\n",
       "Model Family:                Binomial   Df Model:                            2\n",
       "Link Function:                  Logit   Scale:                          1.0000\n",
       "Method:                          IRLS   Log-Likelihood:                -743.26\n",
       "Date:                Sun, 22 Jan 2023   Deviance:                       1486.5\n",
       "Time:                        01:34:36   Pearson chi2:                 1.09e+03\n",
       "No. Iterations:                     4   Pseudo R-squ. (CS):           0.007373\n",
       "Covariance Type:            nonrobust                                         \n",
       "==============================================================================\n",
       "                 coef    std err          z      P>|z|      [0.025      0.975]\n",
       "------------------------------------------------------------------------------\n",
       "Intercept      0.2232      0.061      3.630      0.000       0.103       0.344\n",
       "Lag1          -0.0384      0.026     -1.466      0.143      -0.090       0.013\n",
       "Lag2           0.0608      0.027      2.291      0.022       0.009       0.113\n",
       "==============================================================================\n",
       "\"\"\""
      ]
     },
     "execution_count": 26,
     "metadata": {},
     "output_type": "execute_result"
    }
   ],
   "source": [
    "glm_fit = smf.glm(formula='Direction_int ~ Lag1 + Lag2', \n",
    "                  data = weekly_df[1:], \n",
    "                  family = sm.families.Binomial()\n",
    "              ).fit()\n",
    "glm_fit.summary()"
   ]
  },
  {
   "cell_type": "code",
   "execution_count": 29,
   "id": "cc7b3bea-1cc8-494a-9ad6-b9e7be7ae96f",
   "metadata": {},
   "outputs": [],
   "source": [
    "X = weekly_df.loc[1:, ['Lag1', 'Lag2']]\n",
    "y = weekly_df.loc[1:, 'Direction_int']\n",
    "\n",
    "lr_model = LogisticRegression(penalty='none')\n",
    "lr_fit = lr_model.fit(X, y)"
   ]
  },
  {
   "cell_type": "code",
   "execution_count": 31,
   "id": "6e96dab6-7a21-4c4f-94c6-2f4e2440277e",
   "metadata": {},
   "outputs": [
    {
     "data": {
      "text/plain": [
       "array([0.22324305])"
      ]
     },
     "execution_count": 31,
     "metadata": {},
     "output_type": "execute_result"
    }
   ],
   "source": [
    "lr_fit.intercept_"
   ]
  },
  {
   "cell_type": "code",
   "execution_count": 32,
   "id": "dd0678e4-715e-44e5-b1a0-3c48f4735c96",
   "metadata": {},
   "outputs": [
    {
     "data": {
      "text/plain": [
       "array([[-0.03843317,  0.06084763]])"
      ]
     },
     "execution_count": 32,
     "metadata": {},
     "output_type": "execute_result"
    }
   ],
   "source": [
    "lr_fit.coef_"
   ]
  },
  {
   "cell_type": "markdown",
   "id": "c2d69a09-ed64-4f3d-b1d6-72fc9420ecf2",
   "metadata": {},
   "source": [
    "#### 7c) Use the model from (b) to predict the direction of the first observation.  You can do this by predicting that the first observation will go up if $P(Direction = \"Up\"|Lag1, Lag2) > 0.5$.  Was this observation correctly classified?"
   ]
  },
  {
   "cell_type": "code",
   "execution_count": 33,
   "id": "8a723e99-d5b5-461e-a8a8-f26ed2d8c26e",
   "metadata": {},
   "outputs": [
    {
     "name": "stdout",
     "output_type": "stream",
     "text": [
      "Predicted probability of 0 (down): 0.42860767947955714\n",
      "Predicted probability of 1 (up): 0.5713923205204429\n"
     ]
    }
   ],
   "source": [
    "glm_pred = glm_fit.predict(weekly_df.loc[[0], ['Lag1', 'Lag2']])\n",
    "print(f\"Predicted probability of 0 (down): {1- glm_pred[0]}\")\n",
    "print(f\"Predicted probability of 1 (up): {glm_pred[0]}\")"
   ]
  },
  {
   "cell_type": "code",
   "execution_count": 34,
   "id": "c842fe8f-2897-4979-9415-080b1a9a09bd",
   "metadata": {},
   "outputs": [
    {
     "data": {
      "text/plain": [
       "0    0.571392\n",
       "dtype: float64"
      ]
     },
     "execution_count": 34,
     "metadata": {},
     "output_type": "execute_result"
    }
   ],
   "source": [
    "glm_pred"
   ]
  },
  {
   "cell_type": "code",
   "execution_count": 30,
   "id": "e608a28b-043e-42cf-993a-bae330f10269",
   "metadata": {},
   "outputs": [
    {
     "data": {
      "text/plain": [
       "array([1])"
      ]
     },
     "execution_count": 30,
     "metadata": {},
     "output_type": "execute_result"
    }
   ],
   "source": [
    "lr_preds = lr_fit.predict(weekly_df.loc[[0], ['Lag1', 'Lag2']])\n",
    "# accuracy = sum(lr_preds == y) / len(y)\n",
    "lr_preds"
   ]
  },
  {
   "cell_type": "code",
   "execution_count": 39,
   "id": "8f50e9ac-ca80-4da6-a0f0-d60c3fd8e330",
   "metadata": {},
   "outputs": [
    {
     "data": {
      "text/plain": [
       "1"
      ]
     },
     "execution_count": 39,
     "metadata": {},
     "output_type": "execute_result"
    }
   ],
   "source": [
    "lr_preds[0]"
   ]
  },
  {
   "cell_type": "code",
   "execution_count": 43,
   "id": "7e7e58ce-cc02-448d-8706-54fd6357cc55",
   "metadata": {},
   "outputs": [
    {
     "data": {
      "text/plain": [
       "1"
      ]
     },
     "execution_count": 43,
     "metadata": {},
     "output_type": "execute_result"
    }
   ],
   "source": [
    "y[3]"
   ]
  },
  {
   "cell_type": "markdown",
   "id": "8a35f1fd-3894-4ee5-ac19-8b8883b1aae0",
   "metadata": {},
   "source": [
    "#### 7d) Write a for loop from $i=1$ to $i=n$, where $n$ is the number of observations in the data set, that performs each of the following steps:\n",
    "  * i. Fit a logistic regression model using all but the $i$th observation to predict `Direction` using `Lag1` and `Lag2`.\n",
    "  * ii. Compute the posterior probability of the market moving up for the $i$th observation.\n",
    "  * iii. Use the posterior probability for the $i$th observation in order to predict whether or not the market moves up.\n",
    "  * iv. Determine whether or not an error was made in predicting the direction for the $i$th obsevation.  If an error was made, then indicate this as a 1, and otherwise indicate is at a 0."
   ]
  },
  {
   "cell_type": "code",
   "execution_count": 37,
   "id": "2518ccc4-c8b2-4e63-9a1b-ba3984b1fcad",
   "metadata": {},
   "outputs": [
    {
     "data": {
      "text/html": [
       "<div>\n",
       "<style scoped>\n",
       "    .dataframe tbody tr th:only-of-type {\n",
       "        vertical-align: middle;\n",
       "    }\n",
       "\n",
       "    .dataframe tbody tr th {\n",
       "        vertical-align: top;\n",
       "    }\n",
       "\n",
       "    .dataframe thead th {\n",
       "        text-align: right;\n",
       "    }\n",
       "</style>\n",
       "<table border=\"1\" class=\"dataframe\">\n",
       "  <thead>\n",
       "    <tr style=\"text-align: right;\">\n",
       "      <th></th>\n",
       "      <th>Lag1</th>\n",
       "      <th>Lag2</th>\n",
       "    </tr>\n",
       "  </thead>\n",
       "  <tbody>\n",
       "    <tr>\n",
       "      <th>1</th>\n",
       "      <td>-0.27</td>\n",
       "      <td>0.816</td>\n",
       "    </tr>\n",
       "  </tbody>\n",
       "</table>\n",
       "</div>"
      ],
      "text/plain": [
       "   Lag1   Lag2\n",
       "1 -0.27  0.816"
      ]
     },
     "execution_count": 37,
     "metadata": {},
     "output_type": "execute_result"
    }
   ],
   "source": [
    "test_mask = weekly_df.index.isin([1])\n",
    "\n",
    "weekly_df[test_mask][['Lag1', 'Lag2']]"
   ]
  },
  {
   "cell_type": "code",
   "execution_count": 79,
   "id": "13e684d6-69d0-45d2-9661-01c1e5cb8d72",
   "metadata": {
    "tags": []
   },
   "outputs": [
    {
     "name": "stdout",
     "output_type": "stream",
     "text": [
      "Error Rate: 0.44995408631772266\n"
     ]
    }
   ],
   "source": [
    "n = weekly_df.shape[0]\n",
    "errors = []\n",
    "\n",
    "for i in range(n):\n",
    "    test_mask = weekly_df.index.isin([i])\n",
    "    train_mask = ~test_mask\n",
    "    \n",
    "    X_train = weekly_df[train_mask][['Lag1', 'Lag2']]\n",
    "    y_train = weekly_df[train_mask]['Direction_int']\n",
    "    \n",
    "    X_test = weekly_df[test_mask][['Lag1', 'Lag2']]\n",
    "    y_test = weekly_df[test_mask]['Direction_int']\n",
    "\n",
    "    lr_model = LogisticRegression(penalty='none')\n",
    "    lr_fit = lr_model.fit(X_train, y_train)\n",
    "    \n",
    "    lr_pred = lr_fit.predict(X_test)\n",
    "    \n",
    "    #print(i)\n",
    "    \n",
    "    if lr_pred[0] != y_test.values[0]:\n",
    "        errors.append(1)\n",
    "    else:\n",
    "        errors.append(0)"
   ]
  },
  {
   "cell_type": "markdown",
   "id": "68516f5a-8376-45ae-ad48-ae96e5acccfc",
   "metadata": {},
   "source": [
    "#### 7e) Take the average of the $n$ numbers obtaing in (d)iv in order to obtain the LOOCV estimate for the test error.  Comment on the results."
   ]
  },
  {
   "cell_type": "code",
   "execution_count": 80,
   "id": "33266ec4-025b-4ecf-be5e-47a10b59a915",
   "metadata": {},
   "outputs": [
    {
     "name": "stdout",
     "output_type": "stream",
     "text": [
      "Error Rate: 0.44995408631772266\n"
     ]
    }
   ],
   "source": [
    "error_rate = np.mean(errors)        \n",
    "print(f\"Error Rate: {error_rate}\")"
   ]
  },
  {
   "cell_type": "markdown",
   "id": "abc6b5fa-b07a-4054-a1a0-421263f49538",
   "metadata": {},
   "source": [
    "Using LOOCV, we estimate the error rate of our model to be about 45%.  In other words, if we were to use the model to make a prediction based on new data, the model would typically make an incorrect classification roughly 45% of the time.  \n",
    "\n",
    "Because LOOCV generates and creates many different models based on many different train/test splits of the dataset, the LOOCV estimate of the error rate should be closer to the true error rate of the model, as compared to the validation set approach where only a single model is trained on one train/test split of the dataset."
   ]
  },
  {
   "cell_type": "markdown",
   "id": "e197d1a1-a0a6-49a5-a0e4-5cd1360e9cc6",
   "metadata": {},
   "source": [
    "### Exercise 8\n",
    "We will now perform cross-validation on a simulated data set."
   ]
  },
  {
   "cell_type": "markdown",
   "id": "b2fb255d-e88c-4da7-abb7-05473047eea2",
   "metadata": {},
   "source": [
    "#### 8a) Generate a simulated data set as follows:"
   ]
  },
  {
   "cell_type": "code",
   "execution_count": 92,
   "id": "37333c7c-59e4-4327-b050-eda80bd7e620",
   "metadata": {},
   "outputs": [],
   "source": [
    "data = robjects.r(\"\"\"\n",
    "set.seed(1)\n",
    "x <- rnorm(100)\n",
    "\"\"\")\n",
    "\n",
    "x = np.array(data)\n",
    "x = np.sort(x)\n",
    "\n",
    "data = robjects.r(\"\"\"\n",
    "set.seed(1)\n",
    "x <- rnorm(100)\n",
    "y <- x - 2 * x^2 + rnorm(100)\n",
    "\"\"\")\n",
    "\n",
    "y = np.array(data)\n",
    "y = np.sort(y)"
   ]
  },
  {
   "cell_type": "markdown",
   "id": "d40d7918-a2d9-4f4a-88e2-a7d203592fba",
   "metadata": {},
   "source": [
    "In this data set, what is $n$ and what is $p$?  Write out the model used to generate the data in equation form."
   ]
  },
  {
   "cell_type": "markdown",
   "id": "e4ea8c91-222c-4189-a386-e8b78fe2c2ea",
   "metadata": {},
   "source": [
    "There are 100 observations ($n=100$) and 1 predictor ($p=1$)\n",
    "\n",
    "The equation is: $y = x - 2x^2 + \\epsilon \\text{, where } \\epsilon \\sim N(0,1)$"
   ]
  },
  {
   "cell_type": "markdown",
   "id": "7be152b8-1540-4cc5-9b64-abdf8b6186d7",
   "metadata": {},
   "source": [
    "#### Exercise 8b) Create a scatter plot of $X$ against $Y$.  Comment on what you find."
   ]
  },
  {
   "cell_type": "code",
   "execution_count": 93,
   "id": "386dc799-579a-4e9b-9e8c-ee80cfd39d0c",
   "metadata": {},
   "outputs": [
    {
     "data": {
      "image/png": "[encoded data removed]",
      "text/plain": [
       "<Figure size 432x288 with 1 Axes>"
      ]
     },
     "metadata": {
      "needs_background": "light"
     },
     "output_type": "display_data"
    }
   ],
   "source": [
    "plt.scatter(x, y)\n",
    "plt.xlabel('X')\n",
    "plt.ylabel('y');"
   ]
  },
  {
   "cell_type": "markdown",
   "id": "82465768-c590-4b80-a00e-69e650a58654",
   "metadata": {},
   "source": [
    "The scatter plot shows some curvature indicating the relationship between X and Y is likely to be non-linear.  We know the true relationship to be quadratic however without that knowledge, a cubic or even quartic relationship also appear reasonable.  \n",
    "\n",
    "Without knowing the true relationship, further investigation is necessary."
   ]
  },
  {
   "cell_type": "markdown",
   "id": "23f0f5a5-5042-4df8-a009-71c9df740edb",
   "metadata": {},
   "source": [
    "#### 8c) Set a random seed, and then compute LOOCV errors that result from fitting the following four models using least squares:\n",
    "\n",
    "  * i. $Y = \\beta_0 + \\beta_1 X + \\epsilon$\n",
    "  * ii. $Y = \\beta_0 + \\beta_1 X +\\beta_2 x^2 + \\epsilon$\n",
    "  * iii. $Y = \\beta_0 + \\beta_1 X + \\beta_2 x^2 + \\beta_3 x^3 + \\epsilon$\n",
    "  * iv. $Y = \\beta_0 + \\beta_1 X + \\beta_2 x^2 + \\beta_3 x^3 + \\beta_4 x^4 + \\epsilon$\n",
    "  \n",
    "Note you may find it helpful to use the `data.frame()` function to create a single data set containing both $X$ and $Y$."
   ]
  },
  {
   "cell_type": "code",
   "execution_count": 163,
   "id": "a0e9728d-7828-446c-914b-d7c0ef94d820",
   "metadata": {},
   "outputs": [],
   "source": [
    "df = pd.DataFrame(np.concatenate((x.reshape(-1,1), y.reshape(-1,1)), axis=1), columns = ['x', 'y'])\n",
    "#df.head()"
   ]
  },
  {
   "cell_type": "code",
   "execution_count": 164,
   "id": "d15e2f17-d6a4-44dd-a323-82637388c4ce",
   "metadata": {},
   "outputs": [
    {
     "data": {
      "text/html": [
       "<table class=\"simpletable\">\n",
       "<caption>OLS Regression Results</caption>\n",
       "<tr>\n",
       "  <th>Dep. Variable:</th>            <td>y</td>        <th>  R-squared:         </th> <td>   0.876</td>\n",
       "</tr>\n",
       "<tr>\n",
       "  <th>Model:</th>                   <td>OLS</td>       <th>  Adj. R-squared:    </th> <td>   0.875</td>\n",
       "</tr>\n",
       "<tr>\n",
       "  <th>Method:</th>             <td>Least Squares</td>  <th>  F-statistic:       </th> <td>   692.4</td>\n",
       "</tr>\n",
       "<tr>\n",
       "  <th>Date:</th>             <td>Sun, 22 Jan 2023</td> <th>  Prob (F-statistic):</th> <td>3.22e-46</td>\n",
       "</tr>\n",
       "<tr>\n",
       "  <th>Time:</th>                 <td>15:26:32</td>     <th>  Log-Likelihood:    </th> <td> -134.87</td>\n",
       "</tr>\n",
       "<tr>\n",
       "  <th>No. Observations:</th>      <td>   100</td>      <th>  AIC:               </th> <td>   273.7</td>\n",
       "</tr>\n",
       "<tr>\n",
       "  <th>Df Residuals:</th>          <td>    98</td>      <th>  BIC:               </th> <td>   278.9</td>\n",
       "</tr>\n",
       "<tr>\n",
       "  <th>Df Model:</th>              <td>     1</td>      <th>                     </th>     <td> </td>   \n",
       "</tr>\n",
       "<tr>\n",
       "  <th>Covariance Type:</th>      <td>nonrobust</td>    <th>                     </th>     <td> </td>   \n",
       "</tr>\n",
       "</table>\n",
       "<table class=\"simpletable\">\n",
       "<tr>\n",
       "      <td></td>         <th>coef</th>     <th>std err</th>      <th>t</th>      <th>P>|t|</th>  <th>[0.025</th>    <th>0.975]</th>  \n",
       "</tr>\n",
       "<tr>\n",
       "  <th>Intercept</th> <td>   -1.8519</td> <td>    0.095</td> <td>  -19.523</td> <td> 0.000</td> <td>   -2.040</td> <td>   -1.664</td>\n",
       "</tr>\n",
       "<tr>\n",
       "  <th>x</th>         <td>    2.7725</td> <td>    0.105</td> <td>   26.314</td> <td> 0.000</td> <td>    2.563</td> <td>    2.982</td>\n",
       "</tr>\n",
       "</table>\n",
       "<table class=\"simpletable\">\n",
       "<tr>\n",
       "  <th>Omnibus:</th>       <td>61.061</td> <th>  Durbin-Watson:     </th> <td>   0.118</td>\n",
       "</tr>\n",
       "<tr>\n",
       "  <th>Prob(Omnibus):</th> <td> 0.000</td> <th>  Jarque-Bera (JB):  </th> <td> 224.688</td>\n",
       "</tr>\n",
       "<tr>\n",
       "  <th>Skew:</th>          <td>-2.150</td> <th>  Prob(JB):          </th> <td>1.62e-49</td>\n",
       "</tr>\n",
       "<tr>\n",
       "  <th>Kurtosis:</th>      <td> 8.953</td> <th>  Cond. No.          </th> <td>    1.17</td>\n",
       "</tr>\n",
       "</table><br/><br/>Notes:<br/>[1] Standard Errors assume that the covariance matrix of the errors is correctly specified."
      ],
      "text/plain": [
       "<class 'statsmodels.iolib.summary.Summary'>\n",
       "\"\"\"\n",
       "                            OLS Regression Results                            \n",
       "==============================================================================\n",
       "Dep. Variable:                      y   R-squared:                       0.876\n",
       "Model:                            OLS   Adj. R-squared:                  0.875\n",
       "Method:                 Least Squares   F-statistic:                     692.4\n",
       "Date:                Sun, 22 Jan 2023   Prob (F-statistic):           3.22e-46\n",
       "Time:                        15:26:32   Log-Likelihood:                -134.87\n",
       "No. Observations:                 100   AIC:                             273.7\n",
       "Df Residuals:                      98   BIC:                             278.9\n",
       "Df Model:                           1                                         \n",
       "Covariance Type:            nonrobust                                         \n",
       "==============================================================================\n",
       "                 coef    std err          t      P>|t|      [0.025      0.975]\n",
       "------------------------------------------------------------------------------\n",
       "Intercept     -1.8519      0.095    -19.523      0.000      -2.040      -1.664\n",
       "x              2.7725      0.105     26.314      0.000       2.563       2.982\n",
       "==============================================================================\n",
       "Omnibus:                       61.061   Durbin-Watson:                   0.118\n",
       "Prob(Omnibus):                  0.000   Jarque-Bera (JB):              224.688\n",
       "Skew:                          -2.150   Prob(JB):                     1.62e-49\n",
       "Kurtosis:                       8.953   Cond. No.                         1.17\n",
       "==============================================================================\n",
       "\n",
       "Notes:\n",
       "[1] Standard Errors assume that the covariance matrix of the errors is correctly specified.\n",
       "\"\"\""
      ]
     },
     "execution_count": 164,
     "metadata": {},
     "output_type": "execute_result"
    }
   ],
   "source": [
    "linear_fit = smf.ols(formula='y ~ x', data = df).fit()\n",
    "linear_fit.summary()"
   ]
  },
  {
   "cell_type": "markdown",
   "id": "cf7a1522-2012-4623-97d6-b9894fba1a5d",
   "metadata": {},
   "source": [
    "##### 8ci) $Y = \\beta_0 + \\beta_1 X + \\epsilon$"
   ]
  },
  {
   "cell_type": "code",
   "execution_count": 165,
   "id": "0636994b-4e8d-4b67-8167-171796d5f511",
   "metadata": {},
   "outputs": [],
   "source": [
    "n = df.shape[0]\n",
    "errors = np.array([])\n",
    "\n",
    "for i in range(n):\n",
    "    test_mask = df.index.isin([i])\n",
    "    train_mask = ~test_mask\n",
    "    \n",
    "    df_train = df[train_mask]\n",
    "    df_test = df[test_mask]\n",
    "\n",
    "    linear_model = smf.ols(formula='y ~ x', data = df_train)\n",
    "    linear_fit = linear_model.fit()\n",
    "    \n",
    "    linear_pred = linear_fit.predict(df_test['x'])\n",
    "    \n",
    "    #print(i)\n",
    "    error = df_test['y'] - linear_pred\n",
    "    \n",
    "    errors = np.append(errors, error)\n",
    "    \n",
    "linear_error = np.mean(errors**2)"
   ]
  },
  {
   "cell_type": "code",
   "execution_count": 166,
   "id": "8671f6db-12c6-4aa2-b14e-237b5cbc2c30",
   "metadata": {},
   "outputs": [
    {
     "data": {
      "text/html": [
       "<table class=\"simpletable\">\n",
       "<caption>OLS Regression Results</caption>\n",
       "<tr>\n",
       "  <th>Dep. Variable:</th>            <td>y</td>        <th>  R-squared:         </th> <td>   0.883</td>\n",
       "</tr>\n",
       "<tr>\n",
       "  <th>Model:</th>                   <td>OLS</td>       <th>  Adj. R-squared:    </th> <td>   0.882</td>\n",
       "</tr>\n",
       "<tr>\n",
       "  <th>Method:</th>             <td>Least Squares</td>  <th>  F-statistic:       </th> <td>   731.6</td>\n",
       "</tr>\n",
       "<tr>\n",
       "  <th>Date:</th>             <td>Sun, 22 Jan 2023</td> <th>  Prob (F-statistic):</th> <td>5.65e-47</td>\n",
       "</tr>\n",
       "<tr>\n",
       "  <th>Time:</th>                 <td>15:26:33</td>     <th>  Log-Likelihood:    </th> <td> -130.09</td>\n",
       "</tr>\n",
       "<tr>\n",
       "  <th>No. Observations:</th>      <td>    99</td>      <th>  AIC:               </th> <td>   264.2</td>\n",
       "</tr>\n",
       "<tr>\n",
       "  <th>Df Residuals:</th>          <td>    97</td>      <th>  BIC:               </th> <td>   269.4</td>\n",
       "</tr>\n",
       "<tr>\n",
       "  <th>Df Model:</th>              <td>     1</td>      <th>                     </th>     <td> </td>   \n",
       "</tr>\n",
       "<tr>\n",
       "  <th>Covariance Type:</th>      <td>nonrobust</td>    <th>                     </th>     <td> </td>   \n",
       "</tr>\n",
       "</table>\n",
       "<table class=\"simpletable\">\n",
       "<tr>\n",
       "      <td></td>         <th>coef</th>     <th>std err</th>      <th>t</th>      <th>P>|t|</th>  <th>[0.025</th>    <th>0.975]</th>  \n",
       "</tr>\n",
       "<tr>\n",
       "  <th>Intercept</th> <td>   -1.8335</td> <td>    0.092</td> <td>  -19.958</td> <td> 0.000</td> <td>   -2.016</td> <td>   -1.651</td>\n",
       "</tr>\n",
       "<tr>\n",
       "  <th>x</th>         <td>    2.8494</td> <td>    0.105</td> <td>   27.048</td> <td> 0.000</td> <td>    2.640</td> <td>    3.059</td>\n",
       "</tr>\n",
       "</table>\n",
       "<table class=\"simpletable\">\n",
       "<tr>\n",
       "  <th>Omnibus:</th>       <td>58.092</td> <th>  Durbin-Watson:     </th> <td>   0.123</td>\n",
       "</tr>\n",
       "<tr>\n",
       "  <th>Prob(Omnibus):</th> <td> 0.000</td> <th>  Jarque-Bera (JB):  </th> <td> 206.210</td>\n",
       "</tr>\n",
       "<tr>\n",
       "  <th>Skew:</th>          <td>-2.056</td> <th>  Prob(JB):          </th> <td>1.67e-45</td>\n",
       "</tr>\n",
       "<tr>\n",
       "  <th>Kurtosis:</th>      <td> 8.752</td> <th>  Cond. No.          </th> <td>    1.18</td>\n",
       "</tr>\n",
       "</table><br/><br/>Notes:<br/>[1] Standard Errors assume that the covariance matrix of the errors is correctly specified."
      ],
      "text/plain": [
       "<class 'statsmodels.iolib.summary.Summary'>\n",
       "\"\"\"\n",
       "                            OLS Regression Results                            \n",
       "==============================================================================\n",
       "Dep. Variable:                      y   R-squared:                       0.883\n",
       "Model:                            OLS   Adj. R-squared:                  0.882\n",
       "Method:                 Least Squares   F-statistic:                     731.6\n",
       "Date:                Sun, 22 Jan 2023   Prob (F-statistic):           5.65e-47\n",
       "Time:                        15:26:33   Log-Likelihood:                -130.09\n",
       "No. Observations:                  99   AIC:                             264.2\n",
       "Df Residuals:                      97   BIC:                             269.4\n",
       "Df Model:                           1                                         \n",
       "Covariance Type:            nonrobust                                         \n",
       "==============================================================================\n",
       "                 coef    std err          t      P>|t|      [0.025      0.975]\n",
       "------------------------------------------------------------------------------\n",
       "Intercept     -1.8335      0.092    -19.958      0.000      -2.016      -1.651\n",
       "x              2.8494      0.105     27.048      0.000       2.640       3.059\n",
       "==============================================================================\n",
       "Omnibus:                       58.092   Durbin-Watson:                   0.123\n",
       "Prob(Omnibus):                  0.000   Jarque-Bera (JB):              206.210\n",
       "Skew:                          -2.056   Prob(JB):                     1.67e-45\n",
       "Kurtosis:                       8.752   Cond. No.                         1.18\n",
       "==============================================================================\n",
       "\n",
       "Notes:\n",
       "[1] Standard Errors assume that the covariance matrix of the errors is correctly specified.\n",
       "\"\"\""
      ]
     },
     "execution_count": 166,
     "metadata": {},
     "output_type": "execute_result"
    }
   ],
   "source": [
    "linear_fit.summary()"
   ]
  },
  {
   "cell_type": "markdown",
   "id": "3ffd527f-dbef-4841-85b8-1b831508b0bc",
   "metadata": {},
   "source": [
    "##### 8cii) $Y = \\beta_0 + \\beta_1 X +\\beta_2 x^2 + \\epsilon$"
   ]
  },
  {
   "cell_type": "code",
   "execution_count": 167,
   "id": "b33aa90e-70c5-460a-93c6-b9ace04b2d32",
   "metadata": {},
   "outputs": [],
   "source": [
    "n = df.shape[0]\n",
    "errors = np.array([])\n",
    "\n",
    "for i in range(n):\n",
    "    test_mask = df.index.isin([i])\n",
    "    train_mask = ~test_mask\n",
    "    \n",
    "    df_train = df[train_mask]\n",
    "    df_test = df[test_mask]\n",
    "\n",
    "    quad_model = smf.ols(formula='y ~ x + I(x**2)', data = df_train)\n",
    "    quad_fit = quad_model.fit()\n",
    "    \n",
    "    quad_pred = quad_fit.predict(df_test['x'])\n",
    "    \n",
    "    #print(i)\n",
    "    error = df_test['y'] - quad_pred\n",
    "    \n",
    "    errors = np.append(errors, error)\n",
    "    \n",
    "quad_error = np.mean(errors**2)"
   ]
  },
  {
   "cell_type": "code",
   "execution_count": 168,
   "id": "8d4929bc-5eb2-46a7-a35b-993144211687",
   "metadata": {},
   "outputs": [
    {
     "data": {
      "text/html": [
       "<table class=\"simpletable\">\n",
       "<caption>OLS Regression Results</caption>\n",
       "<tr>\n",
       "  <th>Dep. Variable:</th>            <td>y</td>        <th>  R-squared:         </th> <td>   0.883</td>\n",
       "</tr>\n",
       "<tr>\n",
       "  <th>Model:</th>                   <td>OLS</td>       <th>  Adj. R-squared:    </th> <td>   0.882</td>\n",
       "</tr>\n",
       "<tr>\n",
       "  <th>Method:</th>             <td>Least Squares</td>  <th>  F-statistic:       </th> <td>   731.6</td>\n",
       "</tr>\n",
       "<tr>\n",
       "  <th>Date:</th>             <td>Sun, 22 Jan 2023</td> <th>  Prob (F-statistic):</th> <td>5.65e-47</td>\n",
       "</tr>\n",
       "<tr>\n",
       "  <th>Time:</th>                 <td>15:26:34</td>     <th>  Log-Likelihood:    </th> <td> -130.09</td>\n",
       "</tr>\n",
       "<tr>\n",
       "  <th>No. Observations:</th>      <td>    99</td>      <th>  AIC:               </th> <td>   264.2</td>\n",
       "</tr>\n",
       "<tr>\n",
       "  <th>Df Residuals:</th>          <td>    97</td>      <th>  BIC:               </th> <td>   269.4</td>\n",
       "</tr>\n",
       "<tr>\n",
       "  <th>Df Model:</th>              <td>     1</td>      <th>                     </th>     <td> </td>   \n",
       "</tr>\n",
       "<tr>\n",
       "  <th>Covariance Type:</th>      <td>nonrobust</td>    <th>                     </th>     <td> </td>   \n",
       "</tr>\n",
       "</table>\n",
       "<table class=\"simpletable\">\n",
       "<tr>\n",
       "      <td></td>         <th>coef</th>     <th>std err</th>      <th>t</th>      <th>P>|t|</th>  <th>[0.025</th>    <th>0.975]</th>  \n",
       "</tr>\n",
       "<tr>\n",
       "  <th>Intercept</th> <td>   -1.8335</td> <td>    0.092</td> <td>  -19.958</td> <td> 0.000</td> <td>   -2.016</td> <td>   -1.651</td>\n",
       "</tr>\n",
       "<tr>\n",
       "  <th>x</th>         <td>    2.8494</td> <td>    0.105</td> <td>   27.048</td> <td> 0.000</td> <td>    2.640</td> <td>    3.059</td>\n",
       "</tr>\n",
       "</table>\n",
       "<table class=\"simpletable\">\n",
       "<tr>\n",
       "  <th>Omnibus:</th>       <td>58.092</td> <th>  Durbin-Watson:     </th> <td>   0.123</td>\n",
       "</tr>\n",
       "<tr>\n",
       "  <th>Prob(Omnibus):</th> <td> 0.000</td> <th>  Jarque-Bera (JB):  </th> <td> 206.210</td>\n",
       "</tr>\n",
       "<tr>\n",
       "  <th>Skew:</th>          <td>-2.056</td> <th>  Prob(JB):          </th> <td>1.67e-45</td>\n",
       "</tr>\n",
       "<tr>\n",
       "  <th>Kurtosis:</th>      <td> 8.752</td> <th>  Cond. No.          </th> <td>    1.18</td>\n",
       "</tr>\n",
       "</table><br/><br/>Notes:<br/>[1] Standard Errors assume that the covariance matrix of the errors is correctly specified."
      ],
      "text/plain": [
       "<class 'statsmodels.iolib.summary.Summary'>\n",
       "\"\"\"\n",
       "                            OLS Regression Results                            \n",
       "==============================================================================\n",
       "Dep. Variable:                      y   R-squared:                       0.883\n",
       "Model:                            OLS   Adj. R-squared:                  0.882\n",
       "Method:                 Least Squares   F-statistic:                     731.6\n",
       "Date:                Sun, 22 Jan 2023   Prob (F-statistic):           5.65e-47\n",
       "Time:                        15:26:34   Log-Likelihood:                -130.09\n",
       "No. Observations:                  99   AIC:                             264.2\n",
       "Df Residuals:                      97   BIC:                             269.4\n",
       "Df Model:                           1                                         \n",
       "Covariance Type:            nonrobust                                         \n",
       "==============================================================================\n",
       "                 coef    std err          t      P>|t|      [0.025      0.975]\n",
       "------------------------------------------------------------------------------\n",
       "Intercept     -1.8335      0.092    -19.958      0.000      -2.016      -1.651\n",
       "x              2.8494      0.105     27.048      0.000       2.640       3.059\n",
       "==============================================================================\n",
       "Omnibus:                       58.092   Durbin-Watson:                   0.123\n",
       "Prob(Omnibus):                  0.000   Jarque-Bera (JB):              206.210\n",
       "Skew:                          -2.056   Prob(JB):                     1.67e-45\n",
       "Kurtosis:                       8.752   Cond. No.                         1.18\n",
       "==============================================================================\n",
       "\n",
       "Notes:\n",
       "[1] Standard Errors assume that the covariance matrix of the errors is correctly specified.\n",
       "\"\"\""
      ]
     },
     "execution_count": 168,
     "metadata": {},
     "output_type": "execute_result"
    }
   ],
   "source": [
    "quad_fit.summary()"
   ]
  },
  {
   "cell_type": "markdown",
   "id": "08523f20-e0b3-4a95-a5e8-3b2c5fef28fe",
   "metadata": {},
   "source": [
    "##### 8ciii) $Y = \\beta_0 + \\beta_1 X + \\beta_2 x^2 + \\beta_3 x^3 + \\epsilon$"
   ]
  },
  {
   "cell_type": "code",
   "execution_count": 169,
   "id": "2a490a56-6061-410b-9054-f58398686f24",
   "metadata": {},
   "outputs": [],
   "source": [
    "n = df.shape[0]\n",
    "errors = np.array([])\n",
    "\n",
    "for i in range(n):\n",
    "    test_mask = df.index.isin([i])\n",
    "    train_mask = ~test_mask\n",
    "    \n",
    "    df_train = df[train_mask]\n",
    "    df_test = df[test_mask]\n",
    "\n",
    "    cubic_model = smf.ols(formula='y ~ x + I(x**2) + I(x**3)', data = df_train)\n",
    "    cubic_fit = cubic_model.fit()\n",
    "    \n",
    "    cubic_pred = cubic_fit.predict(df_test['x'])\n",
    "    \n",
    "    #print(i)\n",
    "    error = df_test['y'] - cubic_pred\n",
    "    \n",
    "    errors = np.append(errors, error)\n",
    "    \n",
    "cubic_error = np.mean(errors**2)"
   ]
  },
  {
   "cell_type": "code",
   "execution_count": 170,
   "id": "1b735b3f-7b8d-4201-979b-99da20425907",
   "metadata": {},
   "outputs": [
    {
     "data": {
      "text/html": [
       "<table class=\"simpletable\">\n",
       "<caption>OLS Regression Results</caption>\n",
       "<tr>\n",
       "  <th>Dep. Variable:</th>            <td>y</td>        <th>  R-squared:         </th> <td>   0.883</td>\n",
       "</tr>\n",
       "<tr>\n",
       "  <th>Model:</th>                   <td>OLS</td>       <th>  Adj. R-squared:    </th> <td>   0.882</td>\n",
       "</tr>\n",
       "<tr>\n",
       "  <th>Method:</th>             <td>Least Squares</td>  <th>  F-statistic:       </th> <td>   731.6</td>\n",
       "</tr>\n",
       "<tr>\n",
       "  <th>Date:</th>             <td>Sun, 22 Jan 2023</td> <th>  Prob (F-statistic):</th> <td>5.65e-47</td>\n",
       "</tr>\n",
       "<tr>\n",
       "  <th>Time:</th>                 <td>15:26:35</td>     <th>  Log-Likelihood:    </th> <td> -130.09</td>\n",
       "</tr>\n",
       "<tr>\n",
       "  <th>No. Observations:</th>      <td>    99</td>      <th>  AIC:               </th> <td>   264.2</td>\n",
       "</tr>\n",
       "<tr>\n",
       "  <th>Df Residuals:</th>          <td>    97</td>      <th>  BIC:               </th> <td>   269.4</td>\n",
       "</tr>\n",
       "<tr>\n",
       "  <th>Df Model:</th>              <td>     1</td>      <th>                     </th>     <td> </td>   \n",
       "</tr>\n",
       "<tr>\n",
       "  <th>Covariance Type:</th>      <td>nonrobust</td>    <th>                     </th>     <td> </td>   \n",
       "</tr>\n",
       "</table>\n",
       "<table class=\"simpletable\">\n",
       "<tr>\n",
       "      <td></td>         <th>coef</th>     <th>std err</th>      <th>t</th>      <th>P>|t|</th>  <th>[0.025</th>    <th>0.975]</th>  \n",
       "</tr>\n",
       "<tr>\n",
       "  <th>Intercept</th> <td>   -1.8335</td> <td>    0.092</td> <td>  -19.958</td> <td> 0.000</td> <td>   -2.016</td> <td>   -1.651</td>\n",
       "</tr>\n",
       "<tr>\n",
       "  <th>x</th>         <td>    2.8494</td> <td>    0.105</td> <td>   27.048</td> <td> 0.000</td> <td>    2.640</td> <td>    3.059</td>\n",
       "</tr>\n",
       "</table>\n",
       "<table class=\"simpletable\">\n",
       "<tr>\n",
       "  <th>Omnibus:</th>       <td>58.092</td> <th>  Durbin-Watson:     </th> <td>   0.123</td>\n",
       "</tr>\n",
       "<tr>\n",
       "  <th>Prob(Omnibus):</th> <td> 0.000</td> <th>  Jarque-Bera (JB):  </th> <td> 206.210</td>\n",
       "</tr>\n",
       "<tr>\n",
       "  <th>Skew:</th>          <td>-2.056</td> <th>  Prob(JB):          </th> <td>1.67e-45</td>\n",
       "</tr>\n",
       "<tr>\n",
       "  <th>Kurtosis:</th>      <td> 8.752</td> <th>  Cond. No.          </th> <td>    1.18</td>\n",
       "</tr>\n",
       "</table><br/><br/>Notes:<br/>[1] Standard Errors assume that the covariance matrix of the errors is correctly specified."
      ],
      "text/plain": [
       "<class 'statsmodels.iolib.summary.Summary'>\n",
       "\"\"\"\n",
       "                            OLS Regression Results                            \n",
       "==============================================================================\n",
       "Dep. Variable:                      y   R-squared:                       0.883\n",
       "Model:                            OLS   Adj. R-squared:                  0.882\n",
       "Method:                 Least Squares   F-statistic:                     731.6\n",
       "Date:                Sun, 22 Jan 2023   Prob (F-statistic):           5.65e-47\n",
       "Time:                        15:26:35   Log-Likelihood:                -130.09\n",
       "No. Observations:                  99   AIC:                             264.2\n",
       "Df Residuals:                      97   BIC:                             269.4\n",
       "Df Model:                           1                                         \n",
       "Covariance Type:            nonrobust                                         \n",
       "==============================================================================\n",
       "                 coef    std err          t      P>|t|      [0.025      0.975]\n",
       "------------------------------------------------------------------------------\n",
       "Intercept     -1.8335      0.092    -19.958      0.000      -2.016      -1.651\n",
       "x              2.8494      0.105     27.048      0.000       2.640       3.059\n",
       "==============================================================================\n",
       "Omnibus:                       58.092   Durbin-Watson:                   0.123\n",
       "Prob(Omnibus):                  0.000   Jarque-Bera (JB):              206.210\n",
       "Skew:                          -2.056   Prob(JB):                     1.67e-45\n",
       "Kurtosis:                       8.752   Cond. No.                         1.18\n",
       "==============================================================================\n",
       "\n",
       "Notes:\n",
       "[1] Standard Errors assume that the covariance matrix of the errors is correctly specified.\n",
       "\"\"\""
      ]
     },
     "execution_count": 170,
     "metadata": {},
     "output_type": "execute_result"
    }
   ],
   "source": [
    "cubic_fit.summary()"
   ]
  },
  {
   "cell_type": "markdown",
   "id": "1a4849b8-2be4-4f3a-8eb4-7c83219d7990",
   "metadata": {},
   "source": [
    "##### 8civ) $Y = \\beta_0 + \\beta_1 X + \\beta_2 x^2 + \\beta_3 x^3 + \\beta_4 x^4 + \\epsilon$"
   ]
  },
  {
   "cell_type": "code",
   "execution_count": 171,
   "id": "191dc32a-6396-4d30-b4d2-f627fadf5695",
   "metadata": {},
   "outputs": [],
   "source": [
    "n = df.shape[0]\n",
    "errors = np.array([])\n",
    "\n",
    "for i in range(n):\n",
    "    test_mask = df.index.isin([i])\n",
    "    train_mask = ~test_mask\n",
    "    \n",
    "    df_train = df[train_mask]\n",
    "    df_test = df[test_mask]\n",
    "\n",
    "    quartic_model = smf.ols(formula='y ~ x + I(x**2) + I(x**3) + I(x**4)', data = df_train)\n",
    "    quartic_fit = quartic_model.fit()\n",
    "    \n",
    "    quartic_pred = quartic_fit.predict(df_test['x'])\n",
    "    \n",
    "    #print(i)\n",
    "    error = df_test['y'] - quartic_pred\n",
    "    \n",
    "    errors = np.append(errors, error)\n",
    "    \n",
    "quartic_error = np.mean(errors**2)"
   ]
  },
  {
   "cell_type": "code",
   "execution_count": 172,
   "id": "d32ed05c-ac37-477f-83e1-f5f190d07022",
   "metadata": {},
   "outputs": [
    {
     "data": {
      "text/html": [
       "<table class=\"simpletable\">\n",
       "<caption>OLS Regression Results</caption>\n",
       "<tr>\n",
       "  <th>Dep. Variable:</th>            <td>y</td>        <th>  R-squared:         </th> <td>   0.883</td>\n",
       "</tr>\n",
       "<tr>\n",
       "  <th>Model:</th>                   <td>OLS</td>       <th>  Adj. R-squared:    </th> <td>   0.882</td>\n",
       "</tr>\n",
       "<tr>\n",
       "  <th>Method:</th>             <td>Least Squares</td>  <th>  F-statistic:       </th> <td>   731.6</td>\n",
       "</tr>\n",
       "<tr>\n",
       "  <th>Date:</th>             <td>Sun, 22 Jan 2023</td> <th>  Prob (F-statistic):</th> <td>5.65e-47</td>\n",
       "</tr>\n",
       "<tr>\n",
       "  <th>Time:</th>                 <td>15:26:37</td>     <th>  Log-Likelihood:    </th> <td> -130.09</td>\n",
       "</tr>\n",
       "<tr>\n",
       "  <th>No. Observations:</th>      <td>    99</td>      <th>  AIC:               </th> <td>   264.2</td>\n",
       "</tr>\n",
       "<tr>\n",
       "  <th>Df Residuals:</th>          <td>    97</td>      <th>  BIC:               </th> <td>   269.4</td>\n",
       "</tr>\n",
       "<tr>\n",
       "  <th>Df Model:</th>              <td>     1</td>      <th>                     </th>     <td> </td>   \n",
       "</tr>\n",
       "<tr>\n",
       "  <th>Covariance Type:</th>      <td>nonrobust</td>    <th>                     </th>     <td> </td>   \n",
       "</tr>\n",
       "</table>\n",
       "<table class=\"simpletable\">\n",
       "<tr>\n",
       "      <td></td>         <th>coef</th>     <th>std err</th>      <th>t</th>      <th>P>|t|</th>  <th>[0.025</th>    <th>0.975]</th>  \n",
       "</tr>\n",
       "<tr>\n",
       "  <th>Intercept</th> <td>   -1.8335</td> <td>    0.092</td> <td>  -19.958</td> <td> 0.000</td> <td>   -2.016</td> <td>   -1.651</td>\n",
       "</tr>\n",
       "<tr>\n",
       "  <th>x</th>         <td>    2.8494</td> <td>    0.105</td> <td>   27.048</td> <td> 0.000</td> <td>    2.640</td> <td>    3.059</td>\n",
       "</tr>\n",
       "</table>\n",
       "<table class=\"simpletable\">\n",
       "<tr>\n",
       "  <th>Omnibus:</th>       <td>58.092</td> <th>  Durbin-Watson:     </th> <td>   0.123</td>\n",
       "</tr>\n",
       "<tr>\n",
       "  <th>Prob(Omnibus):</th> <td> 0.000</td> <th>  Jarque-Bera (JB):  </th> <td> 206.210</td>\n",
       "</tr>\n",
       "<tr>\n",
       "  <th>Skew:</th>          <td>-2.056</td> <th>  Prob(JB):          </th> <td>1.67e-45</td>\n",
       "</tr>\n",
       "<tr>\n",
       "  <th>Kurtosis:</th>      <td> 8.752</td> <th>  Cond. No.          </th> <td>    1.18</td>\n",
       "</tr>\n",
       "</table><br/><br/>Notes:<br/>[1] Standard Errors assume that the covariance matrix of the errors is correctly specified."
      ],
      "text/plain": [
       "<class 'statsmodels.iolib.summary.Summary'>\n",
       "\"\"\"\n",
       "                            OLS Regression Results                            \n",
       "==============================================================================\n",
       "Dep. Variable:                      y   R-squared:                       0.883\n",
       "Model:                            OLS   Adj. R-squared:                  0.882\n",
       "Method:                 Least Squares   F-statistic:                     731.6\n",
       "Date:                Sun, 22 Jan 2023   Prob (F-statistic):           5.65e-47\n",
       "Time:                        15:26:37   Log-Likelihood:                -130.09\n",
       "No. Observations:                  99   AIC:                             264.2\n",
       "Df Residuals:                      97   BIC:                             269.4\n",
       "Df Model:                           1                                         \n",
       "Covariance Type:            nonrobust                                         \n",
       "==============================================================================\n",
       "                 coef    std err          t      P>|t|      [0.025      0.975]\n",
       "------------------------------------------------------------------------------\n",
       "Intercept     -1.8335      0.092    -19.958      0.000      -2.016      -1.651\n",
       "x              2.8494      0.105     27.048      0.000       2.640       3.059\n",
       "==============================================================================\n",
       "Omnibus:                       58.092   Durbin-Watson:                   0.123\n",
       "Prob(Omnibus):                  0.000   Jarque-Bera (JB):              206.210\n",
       "Skew:                          -2.056   Prob(JB):                     1.67e-45\n",
       "Kurtosis:                       8.752   Cond. No.                         1.18\n",
       "==============================================================================\n",
       "\n",
       "Notes:\n",
       "[1] Standard Errors assume that the covariance matrix of the errors is correctly specified.\n",
       "\"\"\""
      ]
     },
     "execution_count": 172,
     "metadata": {},
     "output_type": "execute_result"
    }
   ],
   "source": [
    "quartic_fit.summary()"
   ]
  },
  {
   "cell_type": "code",
   "execution_count": 176,
   "id": "84cf6763-438c-43e1-9582-224ff5d84501",
   "metadata": {},
   "outputs": [
    {
     "name": "stdout",
     "output_type": "stream",
     "text": [
      "Linear LOOCV error: 0.9622\n",
      "Quadratic LOOCV error: 0.1758\n",
      "Cubic LOOCV error: 0.0821\n",
      "Quartic LOOCV error: 0.0926\n"
     ]
    }
   ],
   "source": [
    "print(f\"Linear LOOCV error: {linear_error:.4f}\")\n",
    "print(f\"Quadratic LOOCV error: {quad_error:.4f}\")\n",
    "print(f\"Cubic LOOCV error: {cubic_error:.4f}\")\n",
    "print(f\"Quartic LOOCV error: {quartic_error:.4f}\")"
   ]
  },
  {
   "cell_type": "markdown",
   "id": "9163f527-a277-4e40-9c0e-493d6d286de0",
   "metadata": {},
   "source": [
    "#### 8d) Repeat (c) using another random seed, and report your results.  Are your results the same as what you got in (c)? Why?"
   ]
  },
  {
   "cell_type": "markdown",
   "id": "63ffdf59-3605-411b-90f2-8190ffa0b264",
   "metadata": {},
   "source": [
    "Because LOOCV will always split the dataset into the same n splits, where n is the number of observations in your dataset, there's no randomness in the splitting process.  As a result, setting a random seed when performing LOOCV isn't necessary and we would expect to get the same LOOCV error even when using a different random seed.  "
   ]
  },
  {
   "cell_type": "markdown",
   "id": "dc3d2243-202f-46d5-b84a-8a77cefdbca6",
   "metadata": {},
   "source": [
    "#### 8e) Which of the models in (c) had the smallest LOOCV error?  Is this what you expected?  Explain your answer."
   ]
  },
  {
   "cell_type": "markdown",
   "id": "bbb4834a-48aa-49fe-9b92-eb0f0901899d",
   "metadata": {},
   "source": [
    "The cubic model had the lowest LOOCV error, despite the true relationship being quadratic.  This is normal and because of the random error term included when generating the model.  The degree of the model with the lowest LOOCV error isn't guaranteed to be the same as the degree of the true model, however we would expect them to be close, which is the case here.  The true model has degree 2, while the model with the lowest LOOCV has degree 3."
   ]
  },
  {
   "cell_type": "markdown",
   "id": "c3a0b1b6-c834-4e52-a84e-2954477763d1",
   "metadata": {},
   "source": [
    "#### 8f) Comment on the statistical significance of the coefficient estimates that results from fitting each of the models in (c) using least squares.  Do these results agree with the conclusions drawn on the cross-validation results?"
   ]
  },
  {
   "cell_type": "markdown",
   "id": "c2af9bf0-c8d1-4f1e-bfca-a489664a7407",
   "metadata": {},
   "source": [
    "##### Linear model"
   ]
  },
  {
   "cell_type": "code",
   "execution_count": 177,
   "id": "412a7c9c-3b91-41b0-af02-2d4c123c3ed0",
   "metadata": {},
   "outputs": [
    {
     "data": {
      "text/html": [
       "<div>\n",
       "<style scoped>\n",
       "    .dataframe tbody tr th:only-of-type {\n",
       "        vertical-align: middle;\n",
       "    }\n",
       "\n",
       "    .dataframe tbody tr th {\n",
       "        vertical-align: top;\n",
       "    }\n",
       "\n",
       "    .dataframe thead th {\n",
       "        text-align: right;\n",
       "    }\n",
       "</style>\n",
       "<table border=\"1\" class=\"dataframe\">\n",
       "  <thead>\n",
       "    <tr style=\"text-align: right;\">\n",
       "      <th></th>\n",
       "      <th>coef</th>\n",
       "      <th>std err</th>\n",
       "      <th>t</th>\n",
       "      <th>P&gt;|t|</th>\n",
       "    </tr>\n",
       "  </thead>\n",
       "  <tbody>\n",
       "    <tr>\n",
       "      <th>Intercept</th>\n",
       "      <td>-1.8335</td>\n",
       "      <td>0.092</td>\n",
       "      <td>-19.958</td>\n",
       "      <td>0.0</td>\n",
       "    </tr>\n",
       "    <tr>\n",
       "      <th>x</th>\n",
       "      <td>2.8494</td>\n",
       "      <td>0.105</td>\n",
       "      <td>27.048</td>\n",
       "      <td>0.0</td>\n",
       "    </tr>\n",
       "  </tbody>\n",
       "</table>\n",
       "</div>"
      ],
      "text/plain": [
       "             coef  std err       t  P>|t|\n",
       "Intercept -1.8335    0.092 -19.958    0.0\n",
       "x          2.8494    0.105  27.048    0.0"
      ]
     },
     "execution_count": 177,
     "metadata": {},
     "output_type": "execute_result"
    }
   ],
   "source": [
    "linear_results = linear_fit.summary().tables[1]\n",
    "\n",
    "results_as_html = linear_results.as_html()\n",
    "results_df = pd.read_html(results_as_html, header=0, index_col=0)[0]\n",
    "\n",
    "results_df[['coef', 'std err', 't', 'P>|t|']]"
   ]
  },
  {
   "cell_type": "markdown",
   "id": "34272b9f-6778-492f-aec9-e3b796741c63",
   "metadata": {},
   "source": [
    "In the linear model, with degree 1, the linear term ($x$) has a P-value of approximately 0, indicating the linear term is statistically significant in regards to the model's predictive power. "
   ]
  },
  {
   "cell_type": "code",
   "execution_count": 179,
   "id": "b4023588-f871-4a66-b40e-b124803b25a4",
   "metadata": {},
   "outputs": [
    {
     "data": {
      "text/html": [
       "<div>\n",
       "<style scoped>\n",
       "    .dataframe tbody tr th:only-of-type {\n",
       "        vertical-align: middle;\n",
       "    }\n",
       "\n",
       "    .dataframe tbody tr th {\n",
       "        vertical-align: top;\n",
       "    }\n",
       "\n",
       "    .dataframe thead th {\n",
       "        text-align: right;\n",
       "    }\n",
       "</style>\n",
       "<table border=\"1\" class=\"dataframe\">\n",
       "  <thead>\n",
       "    <tr style=\"text-align: right;\">\n",
       "      <th></th>\n",
       "      <th>coef</th>\n",
       "      <th>std err</th>\n",
       "      <th>t</th>\n",
       "      <th>P&gt;|t|</th>\n",
       "    </tr>\n",
       "  </thead>\n",
       "  <tbody>\n",
       "    <tr>\n",
       "      <th>Intercept</th>\n",
       "      <td>-1.2254</td>\n",
       "      <td>0.046</td>\n",
       "      <td>-26.463</td>\n",
       "      <td>0.0</td>\n",
       "    </tr>\n",
       "    <tr>\n",
       "      <th>x</th>\n",
       "      <td>2.8576</td>\n",
       "      <td>0.043</td>\n",
       "      <td>66.778</td>\n",
       "      <td>0.0</td>\n",
       "    </tr>\n",
       "    <tr>\n",
       "      <th>I(x ** 2)</th>\n",
       "      <td>-0.8006</td>\n",
       "      <td>0.036</td>\n",
       "      <td>-22.179</td>\n",
       "      <td>0.0</td>\n",
       "    </tr>\n",
       "  </tbody>\n",
       "</table>\n",
       "</div>"
      ],
      "text/plain": [
       "             coef  std err       t  P>|t|\n",
       "Intercept -1.2254    0.046 -26.463    0.0\n",
       "x          2.8576    0.043  66.778    0.0\n",
       "I(x ** 2) -0.8006    0.036 -22.179    0.0"
      ]
     },
     "execution_count": 179,
     "metadata": {},
     "output_type": "execute_result"
    }
   ],
   "source": [
    "quad_results = quad_fit.summary().tables[1]\n",
    "\n",
    "results_as_html = quad_results.as_html()\n",
    "results_df = pd.read_html(results_as_html, header=0, index_col=0)[0]\n",
    "\n",
    "results_df[['coef', 'std err', 't', 'P>|t|']]"
   ]
  },
  {
   "cell_type": "markdown",
   "id": "2c3b9e53-6882-4b55-aa09-b7af8ce53206",
   "metadata": {},
   "source": [
    "In the quadratic model, with degree 2, the linear term ($x$) and quadratic term ($x^2$) have a P-value of approximately 0, indicating both terms are statistically significant in regards to the model's predictive power. "
   ]
  },
  {
   "cell_type": "code",
   "execution_count": 180,
   "id": "f717e959-d330-4e16-8359-cc4d1eea60cf",
   "metadata": {},
   "outputs": [
    {
     "data": {
      "text/html": [
       "<div>\n",
       "<style scoped>\n",
       "    .dataframe tbody tr th:only-of-type {\n",
       "        vertical-align: middle;\n",
       "    }\n",
       "\n",
       "    .dataframe tbody tr th {\n",
       "        vertical-align: top;\n",
       "    }\n",
       "\n",
       "    .dataframe thead th {\n",
       "        text-align: right;\n",
       "    }\n",
       "</style>\n",
       "<table border=\"1\" class=\"dataframe\">\n",
       "  <thead>\n",
       "    <tr style=\"text-align: right;\">\n",
       "      <th></th>\n",
       "      <th>coef</th>\n",
       "      <th>std err</th>\n",
       "      <th>t</th>\n",
       "      <th>P&gt;|t|</th>\n",
       "    </tr>\n",
       "  </thead>\n",
       "  <tbody>\n",
       "    <tr>\n",
       "      <th>Intercept</th>\n",
       "      <td>-1.2106</td>\n",
       "      <td>0.034</td>\n",
       "      <td>-35.774</td>\n",
       "      <td>0.0</td>\n",
       "    </tr>\n",
       "    <tr>\n",
       "      <th>x</th>\n",
       "      <td>2.4350</td>\n",
       "      <td>0.055</td>\n",
       "      <td>43.926</td>\n",
       "      <td>0.0</td>\n",
       "    </tr>\n",
       "    <tr>\n",
       "      <th>I(x ** 2)</th>\n",
       "      <td>-0.7911</td>\n",
       "      <td>0.026</td>\n",
       "      <td>-30.000</td>\n",
       "      <td>0.0</td>\n",
       "    </tr>\n",
       "    <tr>\n",
       "      <th>I(x ** 3)</th>\n",
       "      <td>0.1951</td>\n",
       "      <td>0.021</td>\n",
       "      <td>9.228</td>\n",
       "      <td>0.0</td>\n",
       "    </tr>\n",
       "  </tbody>\n",
       "</table>\n",
       "</div>"
      ],
      "text/plain": [
       "             coef  std err       t  P>|t|\n",
       "Intercept -1.2106    0.034 -35.774    0.0\n",
       "x          2.4350    0.055  43.926    0.0\n",
       "I(x ** 2) -0.7911    0.026 -30.000    0.0\n",
       "I(x ** 3)  0.1951    0.021   9.228    0.0"
      ]
     },
     "execution_count": 180,
     "metadata": {},
     "output_type": "execute_result"
    }
   ],
   "source": [
    "cubic_results = cubic_fit.summary().tables[1]\n",
    "\n",
    "results_as_html = cubic_results.as_html()\n",
    "results_df = pd.read_html(results_as_html, header=0, index_col=0)[0]\n",
    "\n",
    "results_df[['coef', 'std err', 't', 'P>|t|']]"
   ]
  },
  {
   "cell_type": "markdown",
   "id": "2c1bbfde-c61a-442e-b0bb-d78a6f64e392",
   "metadata": {},
   "source": [
    "In the cubic model, with degree 3, the linear term ($x$), quadratic term ($x^2$), and cubic term ($x^3$) have P-values of approximately 0, indicating all three terms are statistically significant in regards to the model's predictive power. "
   ]
  },
  {
   "cell_type": "code",
   "execution_count": 181,
   "id": "85fb7810-c103-4adb-8485-6a71ec4c47a6",
   "metadata": {},
   "outputs": [
    {
     "data": {
      "text/html": [
       "<div>\n",
       "<style scoped>\n",
       "    .dataframe tbody tr th:only-of-type {\n",
       "        vertical-align: middle;\n",
       "    }\n",
       "\n",
       "    .dataframe tbody tr th {\n",
       "        vertical-align: top;\n",
       "    }\n",
       "\n",
       "    .dataframe thead th {\n",
       "        text-align: right;\n",
       "    }\n",
       "</style>\n",
       "<table border=\"1\" class=\"dataframe\">\n",
       "  <thead>\n",
       "    <tr style=\"text-align: right;\">\n",
       "      <th></th>\n",
       "      <th>coef</th>\n",
       "      <th>std err</th>\n",
       "      <th>t</th>\n",
       "      <th>P&gt;|t|</th>\n",
       "    </tr>\n",
       "  </thead>\n",
       "  <tbody>\n",
       "    <tr>\n",
       "      <th>Intercept</th>\n",
       "      <td>-1.1688</td>\n",
       "      <td>0.039</td>\n",
       "      <td>-29.626</td>\n",
       "      <td>0.000</td>\n",
       "    </tr>\n",
       "    <tr>\n",
       "      <th>x</th>\n",
       "      <td>2.4392</td>\n",
       "      <td>0.055</td>\n",
       "      <td>44.638</td>\n",
       "      <td>0.000</td>\n",
       "    </tr>\n",
       "    <tr>\n",
       "      <th>I(x ** 2)</th>\n",
       "      <td>-0.9229</td>\n",
       "      <td>0.071</td>\n",
       "      <td>-12.908</td>\n",
       "      <td>0.000</td>\n",
       "    </tr>\n",
       "    <tr>\n",
       "      <th>I(x ** 3)</th>\n",
       "      <td>0.1964</td>\n",
       "      <td>0.021</td>\n",
       "      <td>9.426</td>\n",
       "      <td>0.000</td>\n",
       "    </tr>\n",
       "    <tr>\n",
       "      <th>I(x ** 4)</th>\n",
       "      <td>0.0354</td>\n",
       "      <td>0.018</td>\n",
       "      <td>1.979</td>\n",
       "      <td>0.051</td>\n",
       "    </tr>\n",
       "  </tbody>\n",
       "</table>\n",
       "</div>"
      ],
      "text/plain": [
       "             coef  std err       t  P>|t|\n",
       "Intercept -1.1688    0.039 -29.626  0.000\n",
       "x          2.4392    0.055  44.638  0.000\n",
       "I(x ** 2) -0.9229    0.071 -12.908  0.000\n",
       "I(x ** 3)  0.1964    0.021   9.426  0.000\n",
       "I(x ** 4)  0.0354    0.018   1.979  0.051"
      ]
     },
     "execution_count": 181,
     "metadata": {},
     "output_type": "execute_result"
    }
   ],
   "source": [
    "quartic_results = quartic_fit.summary().tables[1]\n",
    "\n",
    "results_as_html = quartic_results.as_html()\n",
    "results_df = pd.read_html(results_as_html, header=0, index_col=0)[0]\n",
    "\n",
    "results_df[['coef', 'std err', 't', 'P>|t|']]"
   ]
  },
  {
   "cell_type": "markdown",
   "id": "508b42e1-bd14-48d0-a280-7d01e0e723f4",
   "metadata": {},
   "source": [
    "In the quartic model, with degree 4, the linear term ($x$), quadratic term ($x^2$), and cubic term ($x^3$) have P-values of approximately 0, indicating all three terms are statistically significant in regards to the model's predictive power.  The quartic term($x^4$) has p-value greater than the typical cutoff of ($\\alpha=0.05$), indicating that the quartic term doesn't significantly improve the model's predictive power."
   ]
  },
  {
   "cell_type": "markdown",
   "id": "f4162b17-789b-4bfe-9fa3-5e7deea0eef8",
   "metadata": {},
   "source": [
    "Because the linear, quadratic, and cubic terms are all statistically significant, that's why we see an initial increase in LOOCV error going from a linear model to a cubic model, then a decrease in LOOCV error in the quartic model.  Adding the quadratic term to the linear model increases predictive power, resulting in a lower LOOCV error for the quadratic model.  This happens again when adding the cubic term to the quadratic model, which increases predictive power of the cubic model as compared to the quadratic model.  However, since the quartic term is not statistically significant, addind it to the model doesn't help improve predictive power and actually leads to more error."
   ]
  },
  {
   "cell_type": "markdown",
   "id": "29568bec-e3f4-4524-b27a-987490419fe8",
   "metadata": {},
   "source": [
    "### Exercise 9\n",
    "We will now consider the `Boston` housing data set, from the `ISLR2` library."
   ]
  },
  {
   "cell_type": "code",
   "execution_count": 182,
   "id": "47c36abb-2bde-4f38-a12e-fa9e5920b0c3",
   "metadata": {},
   "outputs": [],
   "source": [
    "boston_df = pd.read_csv('../../../datasets/Boston.csv')"
   ]
  },
  {
   "cell_type": "code",
   "execution_count": 183,
   "id": "bd61b94a-c0d4-4c46-9307-4aba831291dd",
   "metadata": {},
   "outputs": [
    {
     "data": {
      "text/html": [
       "<div>\n",
       "<style scoped>\n",
       "    .dataframe tbody tr th:only-of-type {\n",
       "        vertical-align: middle;\n",
       "    }\n",
       "\n",
       "    .dataframe tbody tr th {\n",
       "        vertical-align: top;\n",
       "    }\n",
       "\n",
       "    .dataframe thead th {\n",
       "        text-align: right;\n",
       "    }\n",
       "</style>\n",
       "<table border=\"1\" class=\"dataframe\">\n",
       "  <thead>\n",
       "    <tr style=\"text-align: right;\">\n",
       "      <th></th>\n",
       "      <th>Unnamed: 0</th>\n",
       "      <th>crim</th>\n",
       "      <th>zn</th>\n",
       "      <th>indus</th>\n",
       "      <th>chas</th>\n",
       "      <th>nox</th>\n",
       "      <th>rm</th>\n",
       "      <th>age</th>\n",
       "      <th>dis</th>\n",
       "      <th>rad</th>\n",
       "      <th>tax</th>\n",
       "      <th>ptratio</th>\n",
       "      <th>lstat</th>\n",
       "      <th>medv</th>\n",
       "    </tr>\n",
       "  </thead>\n",
       "  <tbody>\n",
       "    <tr>\n",
       "      <th>0</th>\n",
       "      <td>1</td>\n",
       "      <td>0.00632</td>\n",
       "      <td>18.0</td>\n",
       "      <td>2.31</td>\n",
       "      <td>0</td>\n",
       "      <td>0.538</td>\n",
       "      <td>6.575</td>\n",
       "      <td>65.2</td>\n",
       "      <td>4.0900</td>\n",
       "      <td>1</td>\n",
       "      <td>296</td>\n",
       "      <td>15.3</td>\n",
       "      <td>4.98</td>\n",
       "      <td>24.0</td>\n",
       "    </tr>\n",
       "    <tr>\n",
       "      <th>1</th>\n",
       "      <td>2</td>\n",
       "      <td>0.02731</td>\n",
       "      <td>0.0</td>\n",
       "      <td>7.07</td>\n",
       "      <td>0</td>\n",
       "      <td>0.469</td>\n",
       "      <td>6.421</td>\n",
       "      <td>78.9</td>\n",
       "      <td>4.9671</td>\n",
       "      <td>2</td>\n",
       "      <td>242</td>\n",
       "      <td>17.8</td>\n",
       "      <td>9.14</td>\n",
       "      <td>21.6</td>\n",
       "    </tr>\n",
       "    <tr>\n",
       "      <th>2</th>\n",
       "      <td>3</td>\n",
       "      <td>0.02729</td>\n",
       "      <td>0.0</td>\n",
       "      <td>7.07</td>\n",
       "      <td>0</td>\n",
       "      <td>0.469</td>\n",
       "      <td>7.185</td>\n",
       "      <td>61.1</td>\n",
       "      <td>4.9671</td>\n",
       "      <td>2</td>\n",
       "      <td>242</td>\n",
       "      <td>17.8</td>\n",
       "      <td>4.03</td>\n",
       "      <td>34.7</td>\n",
       "    </tr>\n",
       "    <tr>\n",
       "      <th>3</th>\n",
       "      <td>4</td>\n",
       "      <td>0.03237</td>\n",
       "      <td>0.0</td>\n",
       "      <td>2.18</td>\n",
       "      <td>0</td>\n",
       "      <td>0.458</td>\n",
       "      <td>6.998</td>\n",
       "      <td>45.8</td>\n",
       "      <td>6.0622</td>\n",
       "      <td>3</td>\n",
       "      <td>222</td>\n",
       "      <td>18.7</td>\n",
       "      <td>2.94</td>\n",
       "      <td>33.4</td>\n",
       "    </tr>\n",
       "    <tr>\n",
       "      <th>4</th>\n",
       "      <td>5</td>\n",
       "      <td>0.06905</td>\n",
       "      <td>0.0</td>\n",
       "      <td>2.18</td>\n",
       "      <td>0</td>\n",
       "      <td>0.458</td>\n",
       "      <td>7.147</td>\n",
       "      <td>54.2</td>\n",
       "      <td>6.0622</td>\n",
       "      <td>3</td>\n",
       "      <td>222</td>\n",
       "      <td>18.7</td>\n",
       "      <td>5.33</td>\n",
       "      <td>36.2</td>\n",
       "    </tr>\n",
       "  </tbody>\n",
       "</table>\n",
       "</div>"
      ],
      "text/plain": [
       "   Unnamed: 0     crim    zn  indus  chas    nox     rm   age     dis  rad  \\\n",
       "0           1  0.00632  18.0   2.31     0  0.538  6.575  65.2  4.0900    1   \n",
       "1           2  0.02731   0.0   7.07     0  0.469  6.421  78.9  4.9671    2   \n",
       "2           3  0.02729   0.0   7.07     0  0.469  7.185  61.1  4.9671    2   \n",
       "3           4  0.03237   0.0   2.18     0  0.458  6.998  45.8  6.0622    3   \n",
       "4           5  0.06905   0.0   2.18     0  0.458  7.147  54.2  6.0622    3   \n",
       "\n",
       "   tax  ptratio  lstat  medv  \n",
       "0  296     15.3   4.98  24.0  \n",
       "1  242     17.8   9.14  21.6  \n",
       "2  242     17.8   4.03  34.7  \n",
       "3  222     18.7   2.94  33.4  \n",
       "4  222     18.7   5.33  36.2  "
      ]
     },
     "execution_count": 183,
     "metadata": {},
     "output_type": "execute_result"
    }
   ],
   "source": [
    "boston_df.head()"
   ]
  },
  {
   "cell_type": "markdown",
   "id": "fc3f019b-12a1-453f-892b-8b6324b4af56",
   "metadata": {},
   "source": [
    "#### 9a) Based on this data set, provide an estimate for the population mean of `medv`.  Call this estimate $\\hat{\\mu}$."
   ]
  },
  {
   "cell_type": "code",
   "execution_count": 240,
   "id": "a5fe5661-fe6a-4e43-875b-15c0b05ddc82",
   "metadata": {},
   "outputs": [
    {
     "data": {
      "text/plain": [
       "22.532806324110677"
      ]
     },
     "execution_count": 240,
     "metadata": {},
     "output_type": "execute_result"
    }
   ],
   "source": [
    "mu_hat = boston_df['medv'].mean()\n",
    "mu_hat"
   ]
  },
  {
   "cell_type": "markdown",
   "id": "659ff938-a711-436b-a311-d831a525f579",
   "metadata": {},
   "source": [
    "#### 9b) Provide an estimate of the standard error of $\\hat{\\mu}$.  Interpret this result.\n",
    "*Hint: We can compute the standard error of the sample mean by dividing the sample standard deviation by the square root of the number of observations.*"
   ]
  },
  {
   "cell_type": "code",
   "execution_count": 241,
   "id": "7a1b8db7-843e-4abb-b50e-e744c5a7c991",
   "metadata": {},
   "outputs": [
    {
     "data": {
      "text/plain": [
       "0.40886114749753505"
      ]
     },
     "execution_count": 241,
     "metadata": {},
     "output_type": "execute_result"
    }
   ],
   "source": [
    "n = boston_df.shape[0]\n",
    "\n",
    "samp_std_dev = boston_df['medv'].std()\n",
    "\n",
    "sigma_mu_hat = samp_std_dev / np.sqrt(n)\n",
    "\n",
    "sigma_mu_hat"
   ]
  },
  {
   "cell_type": "markdown",
   "id": "ea76e24c-e0e9-4a26-ac3b-b489e7e1dc77",
   "metadata": {},
   "source": [
    "Interpretation: The standard error of an estimate of the population value quantifies how much error our estimate of the true value will have.  A larger standard error indicates our estimates have less accuracy and are likely to be very different from the true value we're estimating.  A lower standard error indicates our estimates will often be close to the true value and thus are better estimates.  In short, less error, means better estimates.  \n",
    "\n",
    "When using the sample mean ($\\bar{x}_{\\text{medv}}$) to estimate the true population mean ($\\mu_{\\text{medv}}$), we typically expect our estimate to be off by about $\\pm \\sigma_{\\hat{\\mu}}$ or $\\pm0.4089$."
   ]
  },
  {
   "cell_type": "markdown",
   "id": "24779bc0-1b9b-4f22-92a3-7e58df7309be",
   "metadata": {},
   "source": [
    "#### 9c) Now estimate the standard error of $\\hat{\\mu}$ using the bootstrap.  How does this compare to your answer from (b)?"
   ]
  },
  {
   "cell_type": "markdown",
   "id": "61dbffb3-8a74-4a2e-b906-b45c0947c33b",
   "metadata": {},
   "source": [
    "$$SE(\\hat{\\mu})=\\sqrt{\\frac{1}{n-1}\\sum_{r=1}^{n}(\\hat{\\mu}_{r} - \\mu_{\\hat{\\mu}}})^2$$\n",
    "$$SE_{B}(\\hat{\\mu})=\\sqrt{\\frac{1}{B-1}\\sum_{r=1}^{B}(\\hat{\\mu}^{*r} - \\frac{1}{B}\\sum_{r\\prime=1}^{B}\\hat{\\mu}^{*r\\prime}})^2$$"
   ]
  },
  {
   "cell_type": "code",
   "execution_count": 242,
   "id": "7990eb0f-5a81-4ee4-9576-d5bc55a5a408",
   "metadata": {},
   "outputs": [],
   "source": [
    "bstrap_mu_hats = np.array([])\n",
    "B = 1000\n",
    "\n",
    "for _ in range(B):\n",
    "    bstrap_sample = boston_df.sample(n = n, replace=True)\n",
    "    bstrap_mu_hat = bstrap_sample['medv'].mean()\n",
    "    bstrap_mu_hats = np.append(bstrap_mu_hats, bstrap_mu_hat)\n",
    "    \n",
    "mu_of_bstrap_mu_hats = 1 / B * np.sum(bstrap_mu_hats)\n",
    "squared_deviations_of_bstrap_mu_hats = (bstrap_mu_hats - mu_of_bstrap_mu_hats)**2\n",
    "variance_of_bstrap_mu_hats = 1 / (B - 1) * np.sum(squared_deviations_of_bstrap_mu_hats)\n",
    "std_error_of_bstrap_mu_hats = np.sqrt(variance_of_bstrap_mu_hats)"
   ]
  },
  {
   "cell_type": "code",
   "execution_count": 243,
   "id": "18a89137-98b7-47af-a62f-5d7d1c6c7f45",
   "metadata": {},
   "outputs": [
    {
     "data": {
      "text/plain": [
       "0.41221890871758177"
      ]
     },
     "execution_count": 243,
     "metadata": {},
     "output_type": "execute_result"
    }
   ],
   "source": [
    "std_error_of_bstrap_mu_hats"
   ]
  },
  {
   "cell_type": "markdown",
   "id": "225487ed-63a3-4332-8d1a-380dd1d9d3f3",
   "metadata": {},
   "source": [
    "The standard error of mu hat from the bootstrap ($SE_{B}(\\hat{\\mu})$) is very close to the standard error of mu hat ($SE(\\hat{\\mu})$) calculated from the formula: $SE(\\hat{\\mu}) = \\frac{s_{\\bar{x}}}{\\sqrt{n}}$."
   ]
  },
  {
   "cell_type": "markdown",
   "id": "cc8d5e7a-9e65-43e8-8b07-1bc18853254f",
   "metadata": {},
   "source": [
    "#### 9d) Based on the bootstrap estimate from (c), provie a 95% confidence interval for the mean of `medv`.  Compare it to the results obtained using `t.test(Boston$medv)`.\n",
    "*Hint: You can approximate a 95% confidence interval using the formula $[\\hat{\\mu} - 2SE(\\hat{\\mu}), \\hat{\\mu}+2SE(\\hat{\\mu})]$.*"
   ]
  },
  {
   "cell_type": "code",
   "execution_count": 244,
   "id": "40c2ee3f-8bfc-41a6-9730-68c3a3faf891",
   "metadata": {},
   "outputs": [
    {
     "data": {
      "text/plain": [
       "(21.715715739877087, 23.364591374747416)"
      ]
     },
     "execution_count": 244,
     "metadata": {},
     "output_type": "execute_result"
    }
   ],
   "source": [
    "bstrap_mu_lower_bound = mu_of_bstrap_mu_hats - 2 * std_error_of_bstrap_mu_hats\n",
    "bstrap_mu_upper_bound = mu_of_bstrap_mu_hats + 2 * std_error_of_bstrap_mu_hats\n",
    "\n",
    "bstrap_mu_lower_bound, bstrap_mu_upper_bound"
   ]
  },
  {
   "cell_type": "markdown",
   "id": "c964b085-4ea4-4c60-80ce-f251e051ab10",
   "metadata": {},
   "source": [
    "Using the bootstrap process, our ~95% confidence interval for the true population mean `medv` is: $21.700 < \\mu < 23.348$"
   ]
  },
  {
   "cell_type": "markdown",
   "id": "d6bc855f-1c6d-4e2f-a40c-706bee2774c6",
   "metadata": {},
   "source": [
    "##### Comparing against `t.test(Boston$medv)`\n",
    "In R, this command would calculate the 95% confidence interval using the formula:\n",
    "$$\\hat{\\mu}\\pm t_c \\frac{s_x}{\\sqrt{n}}, \\text{ where } \\hat{\\mu}=\\bar{x}$$\n",
    "$$\\hat{\\mu} - t_c \\frac{s_x}{\\sqrt{n}} < \\mu < \\hat{\\mu} + t_c \\frac{s_x}{\\sqrt{n}}$$\n",
    "\n",
    "We can replicate this behavior in Python as follows:"
   ]
  },
  {
   "cell_type": "code",
   "execution_count": 248,
   "id": "2a920f53-a5e0-46dd-8c53-b89340bf86aa",
   "metadata": {},
   "outputs": [
    {
     "data": {
      "text/plain": [
       "(21.729528014578595, 23.33608463364276)"
      ]
     },
     "execution_count": 248,
     "metadata": {},
     "output_type": "execute_result"
    }
   ],
   "source": [
    "conf_level = 0.95\n",
    "alpha = 1 - conf_level\n",
    "\n",
    "t_critical = t.ppf(q = 1 - alpha/2, df = n-1)\n",
    "\n",
    "mu_lower_bound = mu_hat - t_critical * sigma_mu_hat\n",
    "mu_upper_bound = mu_hat + t_critical * sigma_mu_hat\n",
    "\n",
    "mu_lower_bound, mu_upper_bound"
   ]
  },
  {
   "cell_type": "markdown",
   "id": "dd82aafa-0a8d-44d4-92c8-c51f76c72885",
   "metadata": {},
   "source": [
    "The confidence interval of $\\hat{\\mu}$ is quite close to the one generated from the more standard approach that uses the t-distribution.  This will be a nice tool to have for when we want to use confidence intervals, however no formula exists for constructing the confidence interval for our parameter of interest."
   ]
  },
  {
   "cell_type": "markdown",
   "id": "3d19e7b9-4f69-4248-8fa1-5be0e771e722",
   "metadata": {},
   "source": [
    "#### 9e) Based on this data set, provide an estimate, $\\hat{\\mu}_{\\text{med}}$, for the median value of `medv` in the population."
   ]
  },
  {
   "cell_type": "code",
   "execution_count": 249,
   "id": "983e0674-2409-4b1b-a1b3-4db0f6cb5096",
   "metadata": {},
   "outputs": [
    {
     "data": {
      "text/plain": [
       "21.2"
      ]
     },
     "execution_count": 249,
     "metadata": {},
     "output_type": "execute_result"
    }
   ],
   "source": [
    "mu_hat_med = boston_df['medv'].median()\n",
    "mu_hat_med"
   ]
  },
  {
   "cell_type": "markdown",
   "id": "20a302e5-2437-42d7-aa2f-addf49f406b1",
   "metadata": {},
   "source": [
    "#### 9f) We now would like to estimate the standard error of $\\hat{\\mu}_{\\text{med}}$.  Unfortunately, there is no simple formula for computing the standard error of the median.  Instead, estimate the standard error of the median using the bootstrap.  Comment on your findings.\n",
    "\n",
    "$$SE_{B}(\\hat{\\mu}_{\\text{medv}})=\\sqrt{\\frac{1}{B-1}\\sum_{r=1}^{B}(\\hat{\\mu}_{\\text{medv}}^{*r} - \\frac{1}{B}\\sum_{r\\prime=1}^{B}\\hat{\\mu}_{\\text{medv}}^{*r\\prime}})^2$$"
   ]
  },
  {
   "cell_type": "code",
   "execution_count": 272,
   "id": "ce0f60a1-a85d-46f9-aae9-0d0b66663926",
   "metadata": {},
   "outputs": [],
   "source": [
    "bstrap_median_hats = np.array([])\n",
    "B = 1000\n",
    "\n",
    "for i in range(B):\n",
    "    bstrap_sample = boston_df.sample(n = n, replace=True, random_state=i)\n",
    "    bstrap_median_hat = bstrap_sample['medv'].median()\n",
    "    bstrap_median_hats = np.append(bstrap_median_hats, bstrap_median_hat)\n",
    "    \n",
    "mu_of_bstrap_median_hats = 1 / B * np.sum(bstrap_median_hats)\n",
    "squared_deviations_of_bstrap_median_hats = (bstrap_median_hats - mu_of_bstrap_median_hats)**2\n",
    "variance_of_bstrap_median_hats = 1 / (B - 1) * np.sum(squared_deviations_of_bstrap_median_hats)\n",
    "std_error_of_bstrap_median_hats = np.sqrt(variance_of_bstrap_median_hats)"
   ]
  },
  {
   "cell_type": "code",
   "execution_count": 273,
   "id": "011ddadc-1fb9-47f9-acac-ab798443c894",
   "metadata": {},
   "outputs": [
    {
     "data": {
      "text/plain": [
       "0.39204966897440774"
      ]
     },
     "execution_count": 273,
     "metadata": {},
     "output_type": "execute_result"
    }
   ],
   "source": [
    "std_error_of_bstrap_median_hats"
   ]
  },
  {
   "cell_type": "markdown",
   "id": "af001df3-3b28-42f3-a406-de2e01221424",
   "metadata": {},
   "source": [
    "The standard error of the population median value tells us how much our estimate of the population median value will typically be off from the true value.  In this case, if we use the sample median value of `medv` from the Boston dataset to estimate the true median value of `medv`, it's likely that our estimate will be off by as much as 0.392.\n",
    "\n",
    "Because the standard error was generated from a bootstrap process, the 0.392 is just an estimate of the standard error of $\\hat{\\mu}_{\\text{medv}}$ and is subject to some variability, but we expect it should be close to the true standard error, most of the time.  \n",
    "\n",
    "Because there is no formula to calculate the standard error for $\\hat{\\mu}_{\\text{medv}}$, the best we can do is estimate it using the bootstrap process."
   ]
  },
  {
   "cell_type": "markdown",
   "id": "929b2576-2d33-4a68-85b7-fbdae0b7c0db",
   "metadata": {},
   "source": [
    "#### 9g) Based on this data set, provide an estimate for the tenth percentile of `medv` in Boston census tracts.  Call this quantity $\\hat{\\mu}_{0.1}$. (You can use the `quantile()` function.)"
   ]
  },
  {
   "cell_type": "code",
   "execution_count": 254,
   "id": "bf8c1cd0-ba99-4edd-a8f0-674dd2d8e139",
   "metadata": {},
   "outputs": [
    {
     "data": {
      "text/plain": [
       "12.75"
      ]
     },
     "execution_count": 254,
     "metadata": {},
     "output_type": "execute_result"
    }
   ],
   "source": [
    "mu_hat_point_1 = boston_df['medv'].quantile(q=0.1)\n",
    "mu_hat_point_1"
   ]
  },
  {
   "cell_type": "markdown",
   "id": "a550f6e9-76b1-4445-bb86-04df9273eab8",
   "metadata": {},
   "source": [
    "#### 9h) Use the bootstrap to estimate the standard error of $\\hat{\\mu}_{0.1}$.  Comment on your findings."
   ]
  },
  {
   "cell_type": "code",
   "execution_count": 274,
   "id": "7bb775fb-8362-46c0-b0d4-22aad3429dd6",
   "metadata": {},
   "outputs": [],
   "source": [
    "bstrap_point_1_hats = np.array([])\n",
    "B = 1000\n",
    "quantile = 0.1\n",
    "\n",
    "for i in range(B):\n",
    "    bstrap_sample = boston_df.sample(n = n, replace=True, random_state=i)\n",
    "    bstrap_point_1_hat = bstrap_sample['medv'].quantile(q=quantile)\n",
    "    bstrap_point_1_hats = np.append(bstrap_point_1_hats, bstrap_point_1_hat)\n",
    "    \n",
    "mu_of_bstrap_point_1_hats = 1 / B * np.sum(bstrap_point_1_hats)\n",
    "squared_deviations_of_bstrap_point_1_hats = (bstrap_point_1_hats - mu_of_bstrap_point_1_hats)**2\n",
    "variance_of_bstrap_point_1_hats = 1 / (B - 1) * np.sum(squared_deviations_of_bstrap_point_1_hats)\n",
    "std_error_of_bstrap_point_1_hats = np.sqrt(variance_of_bstrap_point_1_hats)"
   ]
  },
  {
   "cell_type": "code",
   "execution_count": 275,
   "id": "27ccca92-1596-4203-8415-324256e06c92",
   "metadata": {},
   "outputs": [
    {
     "data": {
      "text/plain": [
       "0.4992672283109169"
      ]
     },
     "execution_count": 275,
     "metadata": {},
     "output_type": "execute_result"
    }
   ],
   "source": [
    "std_error_of_bstrap_point_1_hats"
   ]
  },
  {
   "cell_type": "markdown",
   "id": "cac9a120-7f35-43a5-8749-22e86c572ebd",
   "metadata": {},
   "source": [
    "The standard error of the population 10th percentile `medv` tells us how much our estimate of the population 10th percentile `medv` will typically be off from the true value.  In this case, if we use the sample 10th percentile of `medv` from the Boston dataset to estimate the true 10th percentile value of `medv`, it's likely that our estimate will be off by as much as 0.499.\n",
    "\n",
    "Because the standard error was generated from a bootstrap process, the 0.499 is just an estimate of the standard error of $\\hat{\\mu}_{0.1}$ and is subject to some variability, but we expect it should be close to the true standard error, most of the time.  \n",
    "\n",
    "Because there is no formula to calculate the standard error for $\\hat{\\mu}_{0.1}$, the best we can do is estimate it using the bootstrap process."
   ]
  },
  {
   "cell_type": "markdown",
   "id": "0543ccdd-71e1-476f-983a-603d9f130c4a",
   "metadata": {},
   "source": [
    "# The end"
   ]
  }
 ],
 "metadata": {
  "jupytext": {
   "formats": "ipynb,auto:percent"
  },
  "kernelspec": {
   "display_name": "Python 3 (ipykernel)",
   "language": "python",
   "name": "python3"
  },
  "language_info": {
   "codemirror_mode": {
    "name": "ipython",
    "version": 3
   },
   "file_extension": ".py",
   "mimetype": "text/x-python",
   "name": "python",
   "nbconvert_exporter": "python",
   "pygments_lexer": "ipython3",
   "version": "3.9.12"
  }
 },
 "nbformat": 4,
 "nbformat_minor": 5
}
