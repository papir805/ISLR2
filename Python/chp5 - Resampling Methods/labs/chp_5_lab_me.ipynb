{
 "cells": [
  {
   "cell_type": "markdown",
   "id": "baa3ed09-da5c-4459-af7e-64c300ace29c",
   "metadata": {},
   "source": [
    "# 5.3 Lab: Cross-Validation and the Bootstrap"
   ]
  },
  {
   "cell_type": "code",
   "execution_count": null,
   "id": "971b8db2-93b9-48d1-b7a1-532cd9eb8fb7",
   "metadata": {},
   "outputs": [],
   "source": [
    "import numpy as np\n",
    "import pandas as pd\n",
    "import matplotlib.pyplot as plt\n",
    "\n",
    "import rpy2.robjects as robjects\n",
    "from rpy2.robjects.conversion import localconverter\n",
    "from rpy2.robjects import pandas2ri\n",
    "\n",
    "import statsmodels.formula.api as smf\n",
    "\n",
    "%load_ext rpy2.ipython"
   ]
  },
  {
   "cell_type": "markdown",
   "id": "7de60a8c-442a-4cf8-a098-1f4d43548616",
   "metadata": {},
   "source": [
    "## 5.3.1 The Validation Set Approach"
   ]
  },
  {
   "cell_type": "markdown",
   "id": "8cc83c3f-29e6-459e-bfcd-34d8f6d66c0e",
   "metadata": {},
   "source": [
    "### Checking that training indices match"
   ]
  },
  {
   "cell_type": "code",
   "execution_count": null,
   "id": "bac918b6-fbd5-4a7c-b431-e68012c64811",
   "metadata": {},
   "outputs": [],
   "source": [
    "%%R\n",
    "library(ISLR2)\n",
    "set.seed(1)\n",
    "train <- sort(sample(392, 196))"
   ]
  },
  {
   "cell_type": "code",
   "execution_count": null,
   "id": "f5ea3595-44ed-4c3b-816a-3a55aad1224a",
   "metadata": {},
   "outputs": [],
   "source": [
    "%%R\n",
    "train"
   ]
  },
  {
   "cell_type": "code",
   "execution_count": null,
   "id": "d1c183fb-bef6-4854-9edc-d36330912731",
   "metadata": {},
   "outputs": [],
   "source": [
    "data = robjects.r(\"\"\"\n",
    "library(ISLR2)\n",
    "set.seed(1)\n",
    "train <- sample(392, 196)\n",
    "\"\"\")\n",
    "\n",
    "train_idx = np.array(data)\n",
    "train_idx = np.sort(train_idx)"
   ]
  },
  {
   "cell_type": "code",
   "execution_count": null,
   "id": "0b0cd6a5-8fed-420a-aeb0-845ff628404d",
   "metadata": {},
   "outputs": [],
   "source": [
    "train_idx"
   ]
  },
  {
   "cell_type": "markdown",
   "id": "99669d0b-a1b9-4a40-8fa9-a392ee4f7ad3",
   "metadata": {},
   "source": [
    "Complete: Training indices match"
   ]
  },
  {
   "cell_type": "markdown",
   "id": "1a68b583-80de-47d1-bd85-bf91d37b9b3f",
   "metadata": {},
   "source": [
    "### Checking that indexing in R and Python return same rows"
   ]
  },
  {
   "cell_type": "markdown",
   "id": "741719d6-876a-47f4-88b4-d3c7bd74dbab",
   "metadata": {},
   "source": [
    "#### Using .iloc"
   ]
  },
  {
   "cell_type": "code",
   "execution_count": null,
   "id": "8d4bc67a-8168-417f-b123-f1974b65359d",
   "metadata": {},
   "outputs": [],
   "source": [
    "%%R\n",
    "Auto[sort(train), ]"
   ]
  },
  {
   "cell_type": "code",
   "execution_count": null,
   "id": "07abd7e2-9aad-4bf2-9ba0-ca96be169846",
   "metadata": {},
   "outputs": [],
   "source": [
    "auto_df = pd.read_csv(\"../../../datasets/Auto.csv\", na_values='?')\n",
    "\n",
    "# Reset index labels to start at 1 to match R's behavior\n",
    "auto_df = auto_df.set_index(keys=np.arange(1, len(auto_df) + 1))\n",
    "\n",
    "# Drow rows that contain '?' values that represent na values\n",
    "auto_df = auto_df.dropna()"
   ]
  },
  {
   "cell_type": "code",
   "execution_count": null,
   "id": "b171cafe-0fce-4e1d-a213-5b94785760ea",
   "metadata": {},
   "outputs": [],
   "source": [
    "auto_df[-1:]"
   ]
  },
  {
   "cell_type": "code",
   "execution_count": null,
   "id": "4d81fc83-a252-4849-8b6c-04a6b923177f",
   "metadata": {},
   "outputs": [],
   "source": []
  },
  {
   "cell_type": "code",
   "execution_count": null,
   "id": "afbbee55-f135-459c-8e89-e0136bf8d845",
   "metadata": {},
   "outputs": [],
   "source": [
    "# .loc uses index labels to access rows from the dataframe.  Because auto_df originally had 397 rows, before dropping na values, the rows were labelled 1-397.\n",
    "auto_df.loc[397]"
   ]
  },
  {
   "cell_type": "code",
   "execution_count": null,
   "id": "526cf3d9-948f-481b-8fc7-7d87c358aa08",
   "metadata": {},
   "outputs": [],
   "source": [
    "# .iloc uses integer labels to access rows from the dataframe.  After dropping the 5 na values from auto_df, there are only 392 rows remaining.  These rows have integer labels ranging from 0 (first row) to 391 (last row).  Indexing in R behaves like .iloc in that it uses integer labels.  This is why sample(392, 196) was used in generating the training index labels in R, there are 392 rows in the dataframe to sample from.\n",
    "auto_df.iloc[392 - 1]"
   ]
  },
  {
   "cell_type": "code",
   "execution_count": null,
   "id": "cf464eb3-11d5-40c3-8339-c2d0bb56f942",
   "metadata": {},
   "outputs": [],
   "source": [
    "# Using subtracting 1 from train_idx ensures the labels generated in R, which go from 1-392, now range from 0-391 so they work in P\n",
    "auto_df.iloc[train_idx-1]"
   ]
  },
  {
   "cell_type": "markdown",
   "id": "d3c7a430-7549-41f8-8296-d4a428fd6cf1",
   "metadata": {},
   "source": [
    "Complete: same rows are returned using the training indices using .iloc"
   ]
  },
  {
   "cell_type": "markdown",
   "id": "d5526e50-058b-4d80-865c-311c28c085c0",
   "metadata": {},
   "source": [
    "#### Using a boolean mask"
   ]
  },
  {
   "cell_type": "code",
   "execution_count": null,
   "id": "c508f122-4b71-4852-b238-6a1e08a0e0b1",
   "metadata": {},
   "outputs": [],
   "source": [
    "## Since boolean masks work using integer labels for indexing, this approach also can be used instead of .iloc, and it might be preferred since it's much easier to get the testing indices by negating the training indices.\n",
    "\n",
    "auto_df_no_gaps = auto_df.copy(deep=True)\n",
    "\n",
    "auto_df_no_gaps= auto_df_no_gaps.set_index(np.arange(1, auto_df_no_gaps.shape[0] + 1))\n",
    "\n",
    "auto_train_mask_no_gaps = auto_df_no_gaps.index.isin(train_idx)\n",
    "\n",
    "auto_test_maks_no_gaps = ~auto_train_mask_no_gaps"
   ]
  },
  {
   "cell_type": "code",
   "execution_count": null,
   "id": "0d01fbf4-77dc-4310-8140-8bf17b92c245",
   "metadata": {},
   "outputs": [],
   "source": [
    "auto_df_no_gaps[auto_train_mask_no_gaps]"
   ]
  },
  {
   "cell_type": "code",
   "execution_count": null,
   "id": "42863614-e7e9-4528-865e-6e2579c18893",
   "metadata": {},
   "outputs": [],
   "source": [
    "auto_df_no_gaps.loc[train_idx]"
   ]
  },
  {
   "cell_type": "markdown",
   "id": "4f65c56b-d80e-4051-a96d-f49c995f87a4",
   "metadata": {},
   "source": [
    "### Checking that lm and smf.ols produce same model"
   ]
  },
  {
   "cell_type": "code",
   "execution_count": null,
   "id": "e84c8c11-7ec3-425d-8ca0-cd64735a382c",
   "metadata": {},
   "outputs": [],
   "source": [
    "%%R\n",
    "lm.fit <- lm(mpg ~ horsepower, data = Auto, subset = train)"
   ]
  },
  {
   "cell_type": "code",
   "execution_count": null,
   "id": "107da2c7-6d3b-4466-bf18-b5020565c22f",
   "metadata": {},
   "outputs": [],
   "source": [
    "%%R\n",
    "summary(lm.fit)"
   ]
  },
  {
   "cell_type": "code",
   "execution_count": null,
   "id": "123e0bce-e2e7-449c-aa35-81f333e93c33",
   "metadata": {},
   "outputs": [],
   "source": [
    "lm_model = smf.ols(formula = 'mpg ~ horsepower', data = auto_df.iloc[train_idx-1])\n",
    "lm_fit = lm_model.fit()"
   ]
  },
  {
   "cell_type": "code",
   "execution_count": null,
   "id": "0e12616b-e579-44b4-9c99-b98bdd1be9c0",
   "metadata": {},
   "outputs": [],
   "source": [
    "lm_fit.summary()"
   ]
  },
  {
   "cell_type": "markdown",
   "id": "54dac52f-f77b-419e-b03c-418b2120ffe1",
   "metadata": {},
   "source": [
    "Complete: R's lm function and Python's smf.ols return the same model"
   ]
  },
  {
   "cell_type": "markdown",
   "id": "950e4d57-8917-40b8-895f-85c4eb961fcc",
   "metadata": {},
   "source": [
    "### Creating test indices for Python and checking that same rows are returned in R and Python"
   ]
  },
  {
   "cell_type": "code",
   "execution_count": null,
   "id": "c3420fbc-d180-4a7c-a754-dbfd40a110a1",
   "metadata": {},
   "outputs": [],
   "source": [
    "# because R using integer index labels when doing stuff like Auto[train, ], we need to use .iloc on our df in Python to copy the behavior.  Using .set_index, changes row labels, but not integer labels, and the integer labels always begin at 0, so we use np.arange(0, 392) to produce the indices 0 to 391, for the 392 entries in the auto_df.  Next, because train_idx is the list of integer row labels from R, which begins integer labels at 1, we need to subtract 1 from each entry to match the row integer labels in Python.  Using the set() function allows us to find the set difference, or the integer indices for rows not in our training set.  Because the set difference returns a set, which is treated as a single element, we can't use it with .iloc to get the rows we want, instead we convert the set to a list first.\n",
    "test_idx = list(set(np.arange(0,392)) - set(train_idx-1))"
   ]
  },
  {
   "cell_type": "code",
   "execution_count": null,
   "id": "23422848-975b-426d-a2ee-f16568b89384",
   "metadata": {},
   "outputs": [],
   "source": [
    "auto_df.iloc[test_idx]"
   ]
  },
  {
   "cell_type": "code",
   "execution_count": null,
   "id": "f887c8c4-2a1d-4a50-b83c-2787c4e1e860",
   "metadata": {},
   "outputs": [],
   "source": [
    "%%R\n",
    "Auto[-train, c(1,9)]"
   ]
  },
  {
   "cell_type": "markdown",
   "id": "8c5a22d9-6246-4ec4-94a7-5d7d7bd5276b",
   "metadata": {},
   "source": [
    "Complete: test indices return the same rows in R and Python"
   ]
  },
  {
   "cell_type": "markdown",
   "id": "e9441963-1c05-45f6-b57e-299ba605f35e",
   "metadata": {},
   "source": [
    "### Checking that MSE of testing data matches in R and Python"
   ]
  },
  {
   "cell_type": "code",
   "execution_count": null,
   "id": "a2e58fa4-7cb4-4f9c-a231-6c3e086c89db",
   "metadata": {},
   "outputs": [],
   "source": [
    "%%R\n",
    "attach(Auto)\n",
    "mean((mpg - predict(lm.fit, Auto))[-train]^2)"
   ]
  },
  {
   "cell_type": "code",
   "execution_count": null,
   "id": "3862df21-81cb-4f36-ae60-d55e6989ac39",
   "metadata": {},
   "outputs": [],
   "source": [
    "pred = lm_fit.predict(auto_df.iloc[test_idx]['horsepower'])\n",
    "((auto_df.iloc[test_idx]['mpg'] - pred)**2).mean()"
   ]
  },
  {
   "cell_type": "markdown",
   "id": "9b03f546-88db-45c4-8235-5c5f319ad57a",
   "metadata": {},
   "source": [
    "Complete: MSE matches in R and Python"
   ]
  },
  {
   "cell_type": "markdown",
   "id": "887b62bd-7c93-4a9e-9523-bb4a3d1246a5",
   "metadata": {},
   "source": [
    "### Polynomial Fits"
   ]
  },
  {
   "cell_type": "code",
   "execution_count": null,
   "id": "86388446-f9bd-488c-acd3-2a360d26704a",
   "metadata": {},
   "outputs": [],
   "source": [
    "#### Checking that "
   ]
  },
  {
   "cell_type": "code",
   "execution_count": null,
   "id": "7d113e1c-9da2-4109-9200-14adf64d8cc3",
   "metadata": {},
   "outputs": [],
   "source": [
    "%%R\n",
    "lm.fit2 <- lm(mpg ~ poly(horsepower, 2), data = Auto,\n",
    "             subset = train)\n",
    "mean((mpg - predict(lm.fit2, Auto))[-train]^2)"
   ]
  },
  {
   "cell_type": "code",
   "execution_count": null,
   "id": "7b164383-7df9-45af-bff0-1c0a3f6daba9",
   "metadata": {},
   "outputs": [],
   "source": [
    "## http://davmre.github.io/blog/python/2013/12/15/orthogonal_poly\n",
    "\n",
    "def ortho_poly_fit(x, degree = 1):\n",
    "    n = degree + 1\n",
    "    x = np.asarray(x).flatten()\n",
    "    if(degree >= len(np.unique(x))):\n",
    "            stop(\"'degree' must be less than number of unique points\")\n",
    "    xbar = np.mean(x)\n",
    "    x = x - xbar\n",
    "    X = np.fliplr(np.vander(x, n))\n",
    "    q,r = np.linalg.qr(X)\n",
    "\n",
    "    z = np.diag(np.diag(r))\n",
    "    raw = np.dot(q, z)\n",
    "\n",
    "    norm2 = np.sum(raw**2, axis=0)\n",
    "    alpha = (np.sum((raw**2)*np.reshape(x,(-1,1)), axis=0)/norm2 + xbar)[:degree]\n",
    "    Z = raw / np.sqrt(norm2)\n",
    "    return Z[:,1:], norm2, alpha"
   ]
  },
  {
   "cell_type": "code",
   "execution_count": null,
   "id": "1dc9e8c5-3349-40a1-9fca-bae78302b286",
   "metadata": {},
   "outputs": [],
   "source": [
    "%%R\n",
    "horsepower[sort(train)]"
   ]
  },
  {
   "cell_type": "code",
   "execution_count": null,
   "id": "55128a3e-765f-4244-94e8-9b53594a2d12",
   "metadata": {},
   "outputs": [],
   "source": [
    "auto_df.iloc[train_idx-1]['horsepower']"
   ]
  },
  {
   "cell_type": "code",
   "execution_count": null,
   "id": "ec69994e-5821-46f2-8171-db45c3561807",
   "metadata": {},
   "outputs": [],
   "source": [
    "%%R\n",
    "poly(horsepower[sort(train)], 2)[61:70,]"
   ]
  },
  {
   "cell_type": "code",
   "execution_count": null,
   "id": "c972bece-fbca-47b3-8c30-dd80ceeee7a9",
   "metadata": {},
   "outputs": [],
   "source": [
    "ortho_poly_fit(auto_df.iloc[train_idx-1]['horsepower'], 2)[0][60:70]"
   ]
  },
  {
   "cell_type": "code",
   "execution_count": null,
   "id": "3426a53c-9409-46a8-a27d-290bfb50a330",
   "metadata": {},
   "outputs": [],
   "source": [
    "%%R\n",
    "summary(lm.fit2)"
   ]
  },
  {
   "cell_type": "code",
   "execution_count": null,
   "id": "d19ca82a-ee1f-4576-be92-7d40330ba01e",
   "metadata": {},
   "outputs": [],
   "source": [
    "lm_fit2  = smf.ols(formula = 'mpg ~ ortho_poly_fit(horsepower, 2)[0]', data = auto_df.iloc[train_idx-1]).fit()"
   ]
  },
  {
   "cell_type": "code",
   "execution_count": null,
   "id": "8c6fab60-4ce7-406d-b8aa-8c833bec9b87",
   "metadata": {},
   "outputs": [],
   "source": [
    "lm_fit2.summary()"
   ]
  },
  {
   "cell_type": "code",
   "execution_count": null,
   "id": "f45c6164-84a3-44fd-ab57-f3e14f03843d",
   "metadata": {},
   "outputs": [],
   "source": [
    "lm_model2  = smf.ols(formula = 'mpg ~ ortho_poly_fit(horsepower, 2)[0]', data = auto_df_no_gaps, subset=train_idx)\n",
    "lm_fit2 = lm_model2.fit(method='qr')"
   ]
  },
  {
   "cell_type": "code",
   "execution_count": null,
   "id": "01e708a9-8d1a-43b2-896f-e085ca558896",
   "metadata": {},
   "outputs": [],
   "source": [
    "lm_fit2.summary()"
   ]
  },
  {
   "cell_type": "code",
   "execution_count": null,
   "id": "98a3e5f0-574f-4658-a9c4-692ed76ef6ea",
   "metadata": {},
   "outputs": [],
   "source": [
    "import sklearn.preprocessing"
   ]
  },
  {
   "cell_type": "code",
   "execution_count": null,
   "id": "c388c5b4-55c1-4bcb-abe9-9040876598f7",
   "metadata": {},
   "outputs": [],
   "source": [
    "polynomial_features = sklearn.preprocessing.PolynomialFeatures(2, include_bias=False)"
   ]
  },
  {
   "cell_type": "code",
   "execution_count": null,
   "id": "9ca4db7b-4615-4c6e-9037-fb5979e3f53c",
   "metadata": {
    "tags": []
   },
   "outputs": [],
   "source": [
    "polynomial_features.fit_transform(np.array(auto_df_no_gaps['horsepower']).reshape(-1,1))"
   ]
  },
  {
   "cell_type": "code",
   "execution_count": null,
   "id": "b415b9e3-d423-44ee-9ec4-029c63009772",
   "metadata": {},
   "outputs": [],
   "source": [
    "lm_model3  = smf.ols(formula = 'mpg ~ polynomial_features.fit_transform(np.array(horsepower).reshape(-1,1))', data = auto_df_no_gaps, subset=train_idx)\n",
    "lm_fit3 = lm_model3.fit(method='qr')"
   ]
  },
  {
   "cell_type": "code",
   "execution_count": null,
   "id": "0a2ed668-9193-42aa-bb5a-deef8ede93ad",
   "metadata": {},
   "outputs": [],
   "source": [
    "lm_fit3.summary()"
   ]
  },
  {
   "cell_type": "code",
   "execution_count": null,
   "id": "89b0d568-f81a-4aa3-9ae0-58b531f5a33b",
   "metadata": {},
   "outputs": [],
   "source": [
    "%%R\n",
    "lm.fit3 <- lm(mpg ~ poly(horsepower, 3), data=Auto, subset=train)\n",
    "summary(lm.fit3)"
   ]
  },
  {
   "cell_type": "code",
   "execution_count": null,
   "id": "dc64ba77-b015-412e-87fb-5934dc1f5bea",
   "metadata": {},
   "outputs": [],
   "source": [
    "lm_model3 = smf.ols(formula='mpg ~ ortho_poly_fit(horsepower, 3)[0]', data=auto_df_no_gaps, subset=train_idx)\n",
    "\n",
    "lm_fit3 = lm_model3.fit()\n",
    "\n",
    "lm_fit3.summary()"
   ]
  },
  {
   "cell_type": "code",
   "execution_count": null,
   "id": "79bc1836-6937-4aba-b939-31201aeb2b44",
   "metadata": {},
   "outputs": [],
   "source": [
    "%%R\n",
    "mean((mpg - predict(lm.fit3, Auto))[-train]^2)"
   ]
  },
  {
   "cell_type": "code",
   "execution_count": null,
   "id": "1a85bce1-e75e-4ac9-b358-62ac27e29b07",
   "metadata": {},
   "outputs": [],
   "source": [
    "pred3 = lm_fit3.predict(auto_df_no_gaps[~auto_train_mask_no_gaps])\n",
    "\n",
    "((pred3 - auto_df_no_gaps[~auto_train_mask_no_gaps]['mpg'])**2).mean()"
   ]
  },
  {
   "cell_type": "code",
   "execution_count": null,
   "id": "2a021dfd-4251-4541-865d-5af6acf5ddf4",
   "metadata": {},
   "outputs": [],
   "source": [
    "%%R\n",
    "set.seed(2)\n",
    "train <- sample(392, 196)\n",
    "lm.fit <- lm(mpg ~ horsepower, subset = train)\n",
    "mean((mpg - predict(lm.fit, Auto))[-train]^2)"
   ]
  },
  {
   "cell_type": "code",
   "execution_count": null,
   "id": "89d1fb51-a6ab-4b74-b3e2-7cf1930f817b",
   "metadata": {},
   "outputs": [],
   "source": [
    "data = robjects.r(\"\"\"\n",
    "library(ISLR2)\n",
    "set.seed(2)\n",
    "train <- sample(392, 196)\n",
    "\"\"\")\n",
    "\n",
    "new_train_idx = np.array(data)\n",
    "new_train_idx = np.sort(new_train_idx)\n",
    "\n",
    "new_auto_train_mask_no_gaps = auto_df_no_gaps.index.isin(new_train_idx)"
   ]
  },
  {
   "cell_type": "code",
   "execution_count": null,
   "id": "bb54b82c-c2a0-4ed4-89d9-1105a584aa9b",
   "metadata": {},
   "outputs": [],
   "source": [
    "lm_model = smf.ols(formula='mpg ~ horsepower', data = auto_df_no_gaps, subset = new_train_idx)\n",
    "\n",
    "lm_fit = lm_model.fit()\n",
    "\n",
    "pred = lm_fit.predict(auto_df_no_gaps[~new_auto_train_mask_no_gaps]['horsepower'])\n",
    "\n",
    "((pred - auto_df_no_gaps[~new_auto_train_mask_no_gaps]['mpg'])**2).mean()"
   ]
  },
  {
   "cell_type": "code",
   "execution_count": null,
   "id": "e547520b-00d3-4f39-a3c0-1e6e178bc55d",
   "metadata": {},
   "outputs": [],
   "source": [
    "%%R\n",
    "lm.fit2 <- lm(mpg ~ poly(horsepower, 2), data = Auto, subset = train)\n",
    "mean((mpg - predict(lm.fit2, Auto))[-train]^2)"
   ]
  },
  {
   "cell_type": "code",
   "execution_count": null,
   "id": "ad63fa93-6134-494b-9b51-97b620a08b79",
   "metadata": {},
   "outputs": [],
   "source": [
    "lm_model2 = smf.ols(formula='mpg ~ ortho_poly_fit(horsepower, 2)[0]', data = auto_df_no_gaps, subset = new_train_idx)\n",
    "\n",
    "lm_fit2 = lm_model2.fit()\n",
    "\n",
    "pred2 = lm_fit2.predict(auto_df_no_gaps[~new_auto_train_mask_no_gaps]['horsepower'])\n",
    "\n",
    "((pred2 - auto_df_no_gaps[~new_auto_train_mask_no_gaps]['mpg'])**2).mean()"
   ]
  },
  {
   "cell_type": "code",
   "execution_count": null,
   "id": "2361356c-7c76-4faa-9c49-12c2efc560e3",
   "metadata": {},
   "outputs": [],
   "source": [
    "%%R\n",
    "lm.fit3 <- lm(mpg ~ poly(horsepower, 3), data = Auto, subset = train)\n",
    "mean((mpg - predict(lm.fit3, Auto))[-train]^2)"
   ]
  },
  {
   "cell_type": "code",
   "execution_count": null,
   "id": "94a6d5a0-4da8-4999-b591-60aa2e90b851",
   "metadata": {},
   "outputs": [],
   "source": [
    "lm_model3 = smf.ols(formula='mpg ~ ortho_poly_fit(horsepower, 3)[0]', data = auto_df_no_gaps, subset = new_train_idx)\n",
    "\n",
    "lm_fit3 = lm_model3.fit()\n",
    "\n",
    "pred2 = lm_fit3.predict(auto_df_no_gaps[~new_auto_train_mask_no_gaps]['horsepower'])\n",
    "\n",
    "((pred2 - auto_df_no_gaps[~new_auto_train_mask_no_gaps]['mpg'])**2).mean()"
   ]
  },
  {
   "cell_type": "markdown",
   "id": "d71d8280-82bf-42e4-8f22-759c818387b9",
   "metadata": {},
   "source": [
    "## 5.3.2 Leave-One-Out Cross-Validation"
   ]
  },
  {
   "cell_type": "code",
   "execution_count": null,
   "id": "d6433786-21b8-4a7f-bbdc-c316fad34835",
   "metadata": {},
   "outputs": [],
   "source": [
    "%%R\n",
    "glm.fit <- glm(mpg ~ horsepower, data = Auto)\n",
    "coef(glm.fit)"
   ]
  },
  {
   "cell_type": "code",
   "execution_count": null,
   "id": "c59d2c81-8019-4a72-a237-9ad6ef074e3e",
   "metadata": {},
   "outputs": [],
   "source": [
    "glm_model = smf.glm(formula='mpg ~ horsepower', data=auto_df_no_gaps)\n",
    "glm_fit = glm_model.fit()\n",
    "glm_fit.params"
   ]
  },
  {
   "cell_type": "code",
   "execution_count": null,
   "id": "63621bdb-fb64-402e-a65e-aa491b66bfbe",
   "metadata": {},
   "outputs": [],
   "source": [
    "%%R\n",
    "lm.fit <- lm(mpg ~ horsepower, data = Auto)\n",
    "coef(lm.fit)"
   ]
  },
  {
   "cell_type": "code",
   "execution_count": null,
   "id": "9bf22026-6c88-4d2f-b34b-04a390c2d150",
   "metadata": {},
   "outputs": [],
   "source": [
    "lm_model = smf.ols(formula = 'mpg ~ horsepower', data=auto_df_no_gaps)\n",
    "lm_fit = lm_model.fit()\n",
    "lm_fit.params"
   ]
  },
  {
   "cell_type": "code",
   "execution_count": null,
   "id": "01f576fa-f9d7-45e9-94ec-ab9d24c98813",
   "metadata": {},
   "outputs": [],
   "source": [
    "%%R\n",
    "library(boot)\n",
    "glm.fit <- glm(mpg ~ horsepower, data = Auto)\n",
    "cv.err <- cv.glm(Auto, glm.fit)\n",
    "cv.err$delta"
   ]
  },
  {
   "cell_type": "code",
   "execution_count": null,
   "id": "2f6ed6b7-e06f-42b4-87e2-0374684b2294",
   "metadata": {},
   "outputs": [],
   "source": [
    "from sklearn.model_selection import cross_val_score, LeaveOneOut"
   ]
  },
  {
   "cell_type": "code",
   "execution_count": null,
   "id": "4dd98575-97cd-40f5-bae2-19b8cef95a44",
   "metadata": {},
   "outputs": [],
   "source": [
    "glm_model = smf.glm(formula='mpg ~ horsepower', data=auto_df_no_gaps)\n",
    "glm_fit = glm_model.fit()"
   ]
  },
  {
   "cell_type": "code",
   "execution_count": null,
   "id": "d9d5041d-9397-49ef-ac6f-c367275a0654",
   "metadata": {},
   "outputs": [],
   "source": [
    "import statsmodels.api as sm\n",
    "from sklearn.base import BaseEstimator, RegressorMixin\n",
    "\n",
    "class SMWrapper(BaseEstimator, RegressorMixin):\n",
    "    \"\"\" A universal sklearn-style wrapper for statsmodels regressors \"\"\"\n",
    "    def __init__(self, model_class, formula, fit_intercept=True):\n",
    "        self.model_class = model_class\n",
    "        self.fit_intercept = fit_intercept\n",
    "        self.formula = formula\n",
    "    def fit(self, X, y):\n",
    "        if self.fit_intercept:\n",
    "            X = sm.add_constant(X)\n",
    "        data = pd.DataFrame(np.concatenate((X,y), axis=1), \n",
    "                            columns=['horsepower', 'mpg'])\n",
    "        self.model_ = self.model_class(self.formula, data)\n",
    "        self.results_ = self.model_.fit()\n",
    "        return self\n",
    "    def predict(self, X):\n",
    "        horsepower = pd.DataFrame(X, columns = ['horsepower'])\n",
    "        if self.fit_intercept:\n",
    "            X = sm.add_constant(horsepower)\n",
    "        return self.results_.predict(horsepower)"
   ]
  },
  {
   "cell_type": "code",
   "execution_count": null,
   "id": "00f4cc9c-d50c-4448-bad4-000ae3ced3b3",
   "metadata": {},
   "outputs": [],
   "source": [
    "X = auto_df_no_gaps['horsepower'].values.reshape(-1,1)\n",
    "y = auto_df_no_gaps['mpg'].values.reshape(-1,1)"
   ]
  },
  {
   "cell_type": "code",
   "execution_count": null,
   "id": "c9c93027-14f4-4b66-97e7-2a7ab676ad24",
   "metadata": {
    "tags": []
   },
   "outputs": [],
   "source": [
    "## The main code for SMWrapper was taken from: https://stackoverflow.com/questions/41045752/using-statsmodel-estimations-with-scikit-learn-cross-validation-is-it-possible, however I adapted it slightly to be able to work with the smf.glm command.  The changes are as follows:\n",
    "## 1) I had to create a self.formula attribute for use in creating the model in the fit method.\n",
    "\n",
    "## 2) I had to concatenate X and y into a pandas df to be passed when creating the model in the fit method.\n",
    "\n",
    "## 3) When creating the model, I have to pass self.formula from step 1) and the pandas df from step 2)\n",
    "\n",
    "## 4) I had to convert X into a pandas df when making predictions using the predict method.\n",
    "\n",
    "import statsmodels.api as sm\n",
    "from sklearn.base import BaseEstimator, RegressorMixin\n",
    "\n",
    "class SMWrapper(BaseEstimator, RegressorMixin):\n",
    "    \"\"\" A universal sklearn-style wrapper for statsmodels regressors \"\"\"\n",
    "    def __init__(self, model_class, formula, fit_intercept=True):\n",
    "        self.model_class = model_class\n",
    "        self.fit_intercept = fit_intercept\n",
    "        self.formula = formula  ## 1)\n",
    "    def fit(self, X, y):\n",
    "        if self.fit_intercept:\n",
    "            X = sm.add_constant(X)\n",
    "        data = pd.DataFrame(np.concatenate((X,y), axis=1), \n",
    "                            columns=['horsepower', 'mpg']) ## 2)\n",
    "        self.model_ = self.model_class(self.formula, data) ## 3)\n",
    "        self.results_ = self.model_.fit()\n",
    "        return self\n",
    "    def predict(self, X):\n",
    "        horsepower = pd.DataFrame(X, columns = ['horsepower']) ##4)\n",
    "        if self.fit_intercept:\n",
    "            X = sm.add_constant(horsepower)\n",
    "        return self.results_.predict(horsepower)\n",
    "\n",
    "\n",
    "X = auto_df_no_gaps['horsepower'].values.reshape(-1,1)\n",
    "y = auto_df_no_gaps['mpg'].values.reshape(-1,1)\n",
    "\n",
    "loo = LeaveOneOut()\n",
    "\n",
    "\n",
    "scores = cross_val_score(estimator = SMWrapper(smf.glm, \n",
    "                                      formula='mpg ~ horsepower',\n",
    "                                      fit_intercept=False), \n",
    "                            X=X, y=y, cv = loo, scoring = 'neg_mean_squared_error', error_score='raise')"
   ]
  },
  {
   "cell_type": "code",
   "execution_count": null,
   "id": "c19176f9-34cc-49b5-ba0e-434015e9108b",
   "metadata": {},
   "outputs": [],
   "source": [
    "np.mean(np.abs(scores))"
   ]
  },
  {
   "cell_type": "code",
   "execution_count": null,
   "id": "d20f8584-e406-41bb-aebc-b3e002e47126",
   "metadata": {},
   "outputs": [],
   "source": [
    "import statsmodels.api as sm\n",
    "from sklearn.base import BaseEstimator, RegressorMixin\n",
    "\n",
    "class SMWrapper(BaseEstimator, RegressorMixin):\n",
    "    \"\"\" A universal sklearn-style wrapper for statsmodels regressors \"\"\"\n",
    "    def __init__(self, model_class, fit_intercept=True):\n",
    "        self.model_class = model_class\n",
    "        self.fit_intercept = fit_intercept\n",
    "    def fit(self, X, y):\n",
    "        if self.fit_intercept:\n",
    "            X = sm.add_constant(X)\n",
    "        self.model_ = self.model_class(y, X)\n",
    "        self.results_ = self.model_.fit()\n",
    "        return self\n",
    "    def predict(self, X):\n",
    "        if self.fit_intercept:\n",
    "            X = sm.add_constant(X)\n",
    "        return self.results_.predict(X)\n",
    "\n",
    "from sklearn.datasets import make_regression\n",
    "from sklearn.model_selection import cross_val_score\n",
    "from sklearn.linear_model import LinearRegression\n",
    "\n",
    "X, y = make_regression(random_state=1, n_samples=300, noise=100)\n",
    "\n",
    "print(cross_val_score(SMWrapper(sm.OLS), X, y, scoring='r2'))\n",
    "print(cross_val_score(LinearRegression(), X, y, scoring='r2'))"
   ]
  },
  {
   "cell_type": "code",
   "execution_count": null,
   "id": "0d5f15d5-ae38-4772-826b-86308b47d28a",
   "metadata": {},
   "outputs": [],
   "source": [
    "## http://www.science.smith.edu/~jcrouser/SDS293/labs/lab7-py.html\n",
    "\n",
    "X = auto_df_no_gaps['horsepower'].values.reshape(-1,1)\n",
    "y = auto_df_no_gaps['mpg'].values.reshape(-1,1)\n",
    "\n",
    "loo = LeaveOneOut()\n",
    "\n",
    "skl_lm_model = sklearn.linear_model.LinearRegression()\n",
    "\n",
    "scores = cross_val_score(skl_lm_model, X, y, cv = loo, scoring='neg_mean_squared_error')\n",
    "\n",
    "np.mean(np.abs(scores))"
   ]
  },
  {
   "cell_type": "code",
   "execution_count": null,
   "id": "60101c94-1d28-403f-8548-9a95295bf16a",
   "metadata": {},
   "outputs": [],
   "source": [
    "%%R\n",
    "cv.error <- rep(0, 10)\n",
    "for (i in 1:10) {\n",
    "    glm.fit <- glm(mpg ~ poly(horsepower, i), data = Auto)\n",
    "    cv.error[i] <- cv.glm(Auto, glm.fit)$delta[1]\n",
    "}\n",
    "cv.error"
   ]
  },
  {
   "cell_type": "code",
   "execution_count": null,
   "id": "1e991073-d4ac-4f6b-b470-58ff2efaa2af",
   "metadata": {},
   "outputs": [],
   "source": [
    "def ortho_poly_predict(x, alpha, norm2, degree = 1):\n",
    "    x = np.asarray(x).flatten()\n",
    "    n = degree + 1\n",
    "    Z = np.empty((len(x), n))\n",
    "    Z[:,0] = 1\n",
    "    if degree > 0:\n",
    "        Z[:, 1] = x - alpha[0]\n",
    "    if degree > 1:\n",
    "      for i in np.arange(1,degree):\n",
    "          Z[:, i+1] = (x - alpha[i]) * Z[:, i] - (norm2[i] / norm2[i-1]) * Z[:, i-1]\n",
    "    Z /= np.sqrt(norm2)\n",
    "    return Z[:,1:]"
   ]
  },
  {
   "cell_type": "code",
   "execution_count": null,
   "id": "bb9a9c41-7115-4388-9512-b18bd5de0a76",
   "metadata": {},
   "outputs": [],
   "source": [
    "## As much as I'd like to cross_validate using the smf.glm function to replicate the R code, it's going to be difficult to iterate over different powers for the polynomial fit unless I can figure out a way to use the ortho_poly_fit() in the formula= parameter when calling to SMWrapper, otherwise I have to manually type out the formula 'mpg ~ hp1 + hp2 + ...' and also modify the SWMrapper class accordingly in the SWMrapper fit and predict methods...It's probably better to switch to sklearn at this point and using LinearRegression and PolynomialFeatures instead.\n",
    "\n",
    "import statsmodels.api as sm\n",
    "from sklearn.base import BaseEstimator, RegressorMixin\n",
    "\n",
    "class SMWrapper(BaseEstimator, RegressorMixin):\n",
    "    \"\"\" A universal sklearn-style wrapper for statsmodels regressors \"\"\"\n",
    "    def __init__(self, model_class, formula, fit_intercept=True):\n",
    "        self.model_class = model_class\n",
    "        self.fit_intercept = fit_intercept\n",
    "        self.formula = formula  ## 1)\n",
    "    def fit(self, X, y):\n",
    "        if self.fit_intercept:\n",
    "            X = sm.add_constant(X)\n",
    "        X, self.norm2_, self.alpha_ = ortho_poly_fit(X, 2)\n",
    "        \n",
    "        \n",
    "        data = pd.DataFrame(np.concatenate((X,y), axis=1), \n",
    "                            columns=['hp1', 'hp2', 'mpg']) ## 2)\n",
    "        self.model_ = self.model_class(self.formula, data) ## 3)\n",
    "        self.results_ = self.model_.fit()\n",
    "        return self\n",
    "    def predict(self, X):\n",
    "        X = ortho_poly_predict(X, self.alpha_, self.norm2_, 2)\n",
    "        horsepower = pd.DataFrame(X, columns = ['hp1', 'hp2']) ##4)\n",
    "        if self.fit_intercept:\n",
    "            X = sm.add_constant(horsepower)\n",
    "        return self.results_.predict(horsepower)\n",
    "\n",
    "\n",
    "X = auto_df_no_gaps['horsepower'].values.reshape(-1,1)\n",
    "y = auto_df_no_gaps['mpg'].values.reshape(-1,1)\n",
    "\n",
    "loo = LeaveOneOut()\n",
    "\n",
    "\n",
    "scores = cross_val_score(estimator = SMWrapper(smf.glm, \n",
    "                                      formula='mpg ~ hp1 + hp2',\n",
    "                                      fit_intercept=False), \n",
    "                            X=X, y=y, cv = loo, scoring = 'neg_mean_squared_error', error_score='raise')"
   ]
  },
  {
   "cell_type": "code",
   "execution_count": null,
   "id": "4dd9067d-1b29-4f6c-ab25-a93764b74fdf",
   "metadata": {},
   "outputs": [],
   "source": [
    "np.mean(np.abs(scores))"
   ]
  },
  {
   "cell_type": "code",
   "execution_count": null,
   "id": "d5eb1f17-cc96-4ed2-b829-1ce16de04fcb",
   "metadata": {},
   "outputs": [],
   "source": [
    "cv_error = []\n",
    "\n",
    "for i in range(1,11):\n",
    "    polynomial_features = sklearn.preprocessing.PolynomialFeatures(i, include_bias=False)\n",
    "\n",
    "    scores = cross_val_score(skl_lm_model, polynomial_features.fit_transform(X), y, cv = loo, scoring='neg_mean_squared_error')\n",
    "    \n",
    "    mean_score = np.mean(np.abs(scores))\n",
    "    \n",
    "    cv_error.append(mean_score)"
   ]
  },
  {
   "cell_type": "code",
   "execution_count": null,
   "id": "e3279974-e14b-4612-b73a-50a1d9f44d0b",
   "metadata": {},
   "outputs": [],
   "source": [
    "cv_error"
   ]
  },
  {
   "cell_type": "markdown",
   "id": "ad3f426b-17f0-494e-8578-5a8265b30d8a",
   "metadata": {},
   "source": [
    "## 5.3.3 k-Fold Cross-Validation"
   ]
  },
  {
   "cell_type": "code",
   "execution_count": null,
   "id": "462759e9-4db6-443e-80cf-507dd0968aa0",
   "metadata": {},
   "outputs": [],
   "source": [
    "%%R\n",
    "set.seed(17)\n",
    "cv.error.10 <- rep(0, 10)\n",
    "for (i in 1:10) {\n",
    "    glm.fit <- glm(mpg ~ poly(horsepower, i), data = Auto)\n",
    "    cv.error.10[i] <- cv.glm(Auto, glm.fit, K = 10)$delta[1]\n",
    "}\n",
    "cv.error.10"
   ]
  },
  {
   "cell_type": "code",
   "execution_count": null,
   "id": "19219a18-a8a5-409c-96ec-98f7d06827c9",
   "metadata": {},
   "outputs": [],
   "source": [
    "cv_error_10 = []\n",
    "\n",
    "for i in range(1,11):\n",
    "    polynomial_features = sklearn.preprocessing.PolynomialFeatures(i, include_bias=False)\n",
    "\n",
    "    scores = cross_val_score(skl_lm_model, polynomial_features.fit_transform(X), y, cv = 10, scoring='neg_mean_squared_error')\n",
    "    \n",
    "    mean_score = np.mean(np.abs(scores))\n",
    "    \n",
    "    cv_error_10.append(mean_score)"
   ]
  },
  {
   "cell_type": "code",
   "execution_count": null,
   "id": "d761a4a0-3e8f-45c8-bb6b-a22b1e34e3d2",
   "metadata": {},
   "outputs": [],
   "source": [
    "cv_error_10"
   ]
  },
  {
   "cell_type": "markdown",
   "id": "483edd91-662b-43d0-a5c7-b45cc2b7ddd1",
   "metadata": {},
   "source": [
    "## 5.3.4 The Bootstrap"
   ]
  },
  {
   "cell_type": "markdown",
   "id": "d6048885-19be-4e43-9d55-126ebf58e1a9",
   "metadata": {},
   "source": [
    "### Estimating the Accuracy of a Statistic of Interest"
   ]
  },
  {
   "cell_type": "code",
   "execution_count": null,
   "id": "498f4fff-d285-487c-8e8e-761ae6e33547",
   "metadata": {},
   "outputs": [],
   "source": [
    "%%R\n",
    "alpha.fn <- function(data, index) {\n",
    "    X <- data$X[index]\n",
    "    Y <- data$Y[index]\n",
    "    (var(Y) - cov(X, Y)) / (var(X) + var(Y) - 2 * cov(X, Y))\n",
    "}"
   ]
  },
  {
   "cell_type": "code",
   "execution_count": null,
   "id": "e819ff38-856a-4c79-8e3b-580db7e65920",
   "metadata": {},
   "outputs": [],
   "source": [
    "%%R\n",
    "alpha.fn(Portfolio, 1:100)"
   ]
  },
  {
   "cell_type": "code",
   "execution_count": null,
   "id": "cb230e72-101a-4606-8c8f-630f58f5473e",
   "metadata": {},
   "outputs": [],
   "source": [
    "pfolio_df = pd.read_csv(\"../../../datasets/Portfolio.csv\")\n",
    "pfolio_df = pfolio_df.set_index(np.arange(1, pfolio_df.shape[0] + 1))"
   ]
  },
  {
   "cell_type": "code",
   "execution_count": null,
   "id": "18e249ca-2a09-4664-93e8-01874e3afb11",
   "metadata": {},
   "outputs": [],
   "source": [
    "def alpha_fn(data, index):\n",
    "    X = data.loc[index]['X']\n",
    "    Y = data.loc[index]['Y']\n",
    "    var_x = np.var(X, ddof=1)\n",
    "    var_y = np.var(Y, ddof=1)\n",
    "    cov_x_y = np.cov(X, Y, ddof=1)[0][1]\n",
    "    \n",
    "    return (var_y - cov_x_y) / (var_x + var_y - 2 * cov_x_y)"
   ]
  },
  {
   "cell_type": "code",
   "execution_count": null,
   "id": "adbe2647-b26f-414e-8ae5-47f2c1030611",
   "metadata": {},
   "outputs": [],
   "source": [
    "alpha_fn(pfolio_df, np.arange(1,101))"
   ]
  },
  {
   "cell_type": "code",
   "execution_count": null,
   "id": "a4373547-4a19-40b6-8b19-0146645e3a37",
   "metadata": {},
   "outputs": [],
   "source": [
    "%%R\n",
    "Portfolio$X[1:10]"
   ]
  },
  {
   "cell_type": "code",
   "execution_count": null,
   "id": "ca0b7820-0d55-48e5-9910-4d296649c65e",
   "metadata": {},
   "outputs": [],
   "source": [
    "pfolio_df.loc[1:10]['X']"
   ]
  },
  {
   "cell_type": "code",
   "execution_count": null,
   "id": "f92154cf-593a-488a-941c-9b4b4fec9cec",
   "metadata": {},
   "outputs": [],
   "source": [
    "pfolio_df.head()"
   ]
  },
  {
   "cell_type": "code",
   "execution_count": null,
   "id": "4101ba2f-2376-478b-a942-87e1d3237d4e",
   "metadata": {},
   "outputs": [],
   "source": [
    "X = pfolio_df[1:10]['X']\n",
    "Y = pfolio_df[1:10]['Y']"
   ]
  },
  {
   "cell_type": "code",
   "execution_count": null,
   "id": "5e6b780a-e17e-4d15-a231-4254be1d3a6f",
   "metadata": {},
   "outputs": [],
   "source": [
    "%%R\n",
    "var(Portfolio$X)"
   ]
  },
  {
   "cell_type": "code",
   "execution_count": null,
   "id": "b0c4ea15-1cd6-4694-bf2b-65f7ff715d75",
   "metadata": {},
   "outputs": [],
   "source": [
    "np.var(pfolio_df['X'], ddof=1)"
   ]
  },
  {
   "cell_type": "code",
   "execution_count": null,
   "id": "dce8ed9d-68fe-457a-adc6-d6f29da6744e",
   "metadata": {},
   "outputs": [],
   "source": [
    "pfolio_df['X'].var()"
   ]
  },
  {
   "cell_type": "code",
   "execution_count": null,
   "id": "80dff2ed-86f5-4339-a669-19b7af369f39",
   "metadata": {},
   "outputs": [],
   "source": [
    "%%R\n",
    "var(Portfolio$Y)"
   ]
  },
  {
   "cell_type": "code",
   "execution_count": null,
   "id": "0f419810-9a56-46e1-84a7-7acdd5ff175e",
   "metadata": {},
   "outputs": [],
   "source": [
    "np.var(pfolio_df['Y'], ddof=1)"
   ]
  },
  {
   "cell_type": "code",
   "execution_count": null,
   "id": "b10c1aad-dbc4-468c-9b5d-3f8f6d6981a9",
   "metadata": {},
   "outputs": [],
   "source": [
    "pfolio_df['Y'].var()"
   ]
  },
  {
   "cell_type": "code",
   "execution_count": null,
   "id": "5c8f1544-8752-46b9-b322-417611d95631",
   "metadata": {},
   "outputs": [],
   "source": [
    "%%R\n",
    "cov(Portfolio$X, Portfolio$Y)"
   ]
  },
  {
   "cell_type": "code",
   "execution_count": null,
   "id": "bb33cbfa-7841-43b0-bc8d-1dcdb1e6f9b1",
   "metadata": {},
   "outputs": [],
   "source": [
    "np.cov(pfolio_df['X'], pfolio_df['Y'])[0][1]"
   ]
  },
  {
   "cell_type": "code",
   "execution_count": null,
   "id": "bebb3c0b-be93-418c-b4b4-1095b44ffedc",
   "metadata": {},
   "outputs": [],
   "source": [
    "%%R\n",
    "set.seed(7)\n",
    "alpha.fn(Portfolio, sample(100, 100, replace=T))"
   ]
  },
  {
   "cell_type": "code",
   "execution_count": null,
   "id": "7c68087c-47c6-4285-9984-93547dfa2f2f",
   "metadata": {},
   "outputs": [],
   "source": [
    "%%R\n",
    "set.seed(7)\n",
    "sort(sample(100, 100, replace=T))"
   ]
  },
  {
   "cell_type": "code",
   "execution_count": null,
   "id": "3e24bd8f-f495-4201-9664-7a94f10e910f",
   "metadata": {},
   "outputs": [],
   "source": [
    "data = robjects.r(\"\"\"\n",
    "set.seed(7)\n",
    "train <- sample(100, 100, replace=T)\n",
    "\"\"\")\n",
    "\n",
    "bstrap_idx = np.array(data)\n",
    "bstrap_idx = np.sort(bstrap_idx)"
   ]
  },
  {
   "cell_type": "code",
   "execution_count": null,
   "id": "a7753848-79c3-4579-ba09-dccb79be8438",
   "metadata": {},
   "outputs": [],
   "source": [
    "alpha_fn(pfolio_df, bstrap_idx)"
   ]
  },
  {
   "cell_type": "code",
   "execution_count": null,
   "id": "0c62bb2d-3e5f-44c3-aac8-606ce540a7a9",
   "metadata": {},
   "outputs": [],
   "source": [
    "%%R\n",
    "boot(Portfolio, alpha.fn, R = 1000)"
   ]
  },
  {
   "cell_type": "code",
   "execution_count": null,
   "id": "263a1707-bc5f-41bc-8345-b65fba303bbd",
   "metadata": {},
   "outputs": [],
   "source": [
    "alphas = []\n",
    "n = pfolio_df.shape[0]\n",
    "for _ in range(1000):\n",
    "    idx = np.random.choice(np.arange(1, n+1), n)\n",
    "    alpha = alpha_fn(pfolio_df, idx)\n",
    "    alphas.append(alpha)\n",
    "    \n",
    "original_alpha = alpha_fn(pfolio_df, np.arange(1, n+1))\n",
    "alpha_bstrap_mean = np.mean(alphas)\n",
    "alpha_bstrap_std = np.std(alphas)\n",
    "\n",
    "## Bias = bootstrap realization of the statistic - the original statistic from the original data\n",
    "alpha_bias = alpha_bstrap_mean - original_alpha\n",
    "\n",
    "print(f'Original Alpha: {original_alpha}')\n",
    "print(f'Alpha Bias: {alpha_bias}')\n",
    "print(f'Alpha Std: {alpha_bstrap_std}')"
   ]
  },
  {
   "cell_type": "markdown",
   "id": "6a7cb5cd-7edb-4ed9-89f3-a176fdc94efb",
   "metadata": {},
   "source": [
    "### Estimating the Accuracy of a Linear Regression Model"
   ]
  },
  {
   "cell_type": "code",
   "execution_count": null,
   "id": "1be0656c-b54f-42ba-932c-8441a8afc74a",
   "metadata": {},
   "outputs": [],
   "source": [
    "%%R\n",
    "boot.fn <- function(data, index)\n",
    "    coef(lm(mpg ~ horsepower, data = data, subset = index))\n",
    "boot.fn(Auto, 1:392)"
   ]
  },
  {
   "cell_type": "code",
   "execution_count": null,
   "id": "4e658f53-75f8-490e-bebf-3bbde0567c1a",
   "metadata": {},
   "outputs": [],
   "source": [
    "def boot_fn(data, index):\n",
    "    model = smf.glm(formula = 'mpg ~ horsepower', data = data, subset = index)\n",
    "    fit = model.fit()\n",
    "    coefficients = fit.params\n",
    "    \n",
    "    return coefficients"
   ]
  },
  {
   "cell_type": "code",
   "execution_count": null,
   "id": "f9e43d20-510a-46f5-9d2c-d80bea79259d",
   "metadata": {},
   "outputs": [],
   "source": [
    "boot_fn(auto_df_no_gaps, np.arange(1, 393))"
   ]
  },
  {
   "cell_type": "code",
   "execution_count": null,
   "id": "921c4cec-f786-47b3-add4-76a2b7caec15",
   "metadata": {},
   "outputs": [],
   "source": [
    "%%R\n",
    "set.seed(1)\n",
    "boot.fn(Auto, sample(392, 392, replace = T))"
   ]
  },
  {
   "cell_type": "code",
   "execution_count": null,
   "id": "7ffbbb87-ae69-415c-a942-a0dd7660bf2d",
   "metadata": {},
   "outputs": [],
   "source": [
    "data = robjects.r(\"\"\"\n",
    "set.seed(1)\n",
    "samp <- sample(392, 392, replace=T)\n",
    "\"\"\")\n",
    "\n",
    "bstrap_idx = np.array(data)\n",
    "bstrap_idx = np.sort(bstrap_idx)"
   ]
  },
  {
   "cell_type": "code",
   "execution_count": null,
   "id": "783cf2dd-31b1-409e-8c90-e754635bc3b0",
   "metadata": {},
   "outputs": [],
   "source": [
    "boot_fn(auto_df_no_gaps, bstrap_idx)"
   ]
  },
  {
   "cell_type": "code",
   "execution_count": null,
   "id": "8fb99a65-4c45-4849-8869-4947bfc805e0",
   "metadata": {},
   "outputs": [],
   "source": [
    "%%R\n",
    "boot.fn(Auto, sample(392, 392, replace = T))"
   ]
  },
  {
   "cell_type": "code",
   "execution_count": null,
   "id": "1c220c1d-c1a1-4997-811d-bfb48ee16607",
   "metadata": {},
   "outputs": [],
   "source": [
    "idx = np.random.choice(np.arange(1,393), 392)\n",
    "boot_fn(auto_df_no_gaps, idx)"
   ]
  },
  {
   "cell_type": "code",
   "execution_count": null,
   "id": "58f2d537-c07b-4fb1-bfe7-8c3ddb3d5092",
   "metadata": {},
   "outputs": [],
   "source": [
    "%%R\n",
    "boot(Auto, boot.fn, 1000)"
   ]
  },
  {
   "cell_type": "code",
   "execution_count": null,
   "id": "e6c46acb-f85f-4b9d-9801-258790948776",
   "metadata": {},
   "outputs": [],
   "source": [
    "%%R\n",
    "myBootstrap <- boot(Auto, boot.fn, 1000)\n",
    "\n",
    "head(myBootstrap$t)"
   ]
  },
  {
   "cell_type": "code",
   "execution_count": null,
   "id": "89aa69a4-61d0-4839-9e4e-effffb75a797",
   "metadata": {},
   "outputs": [],
   "source": [
    "%%R\n",
    "myBootstrap$t0"
   ]
  },
  {
   "cell_type": "code",
   "execution_count": null,
   "id": "c920b000-9519-45e6-a0d3-75c547d49ca2",
   "metadata": {},
   "outputs": [],
   "source": [
    "intercepts = []\n",
    "slopes = []\n",
    "\n",
    "n = auto_df_no_gaps.shape[0]\n",
    "\n",
    "for _ in range(1000):\n",
    "    idx = np.random.choice(np.arange(1, n+1), n)\n",
    "    param = boot_fn(auto_df_no_gaps, idx)\n",
    "    intercept = param[0]\n",
    "    slope = param[1]\n",
    "    intercepts.append(intercept)\n",
    "    slopes.append(slope)\n",
    "\n",
    "original_intercept = boot_fn(auto_df_no_gaps, np.arange(1, 393))[0]\n",
    "original_slope = boot_fn(auto_df_no_gaps, np.arange(1, 393))[1]\n",
    "intercept_bstrap_mean = np.mean(intercepts)\n",
    "intercept_bstrap_std = np.std(intercepts)\n",
    "slope_bstrap_mean = np.mean(slopes)\n",
    "slope_bstrap_std = np.std(slopes)\n",
    "\n",
    "## Bias = bootstrap realization of the statistic - the original statistic from the original data\n",
    "## bias for intercepts\n",
    "intercept_bias = intercept_bstrap_mean - original_intercept\n",
    "\n",
    "## bias for slopes\n",
    "slope_bias = slope_bstrap_mean - original_slope\n",
    "\n",
    "print(f'Original Intercept: {original_intercept}')\n",
    "print(f'Bstrap Intercept Bias: {intercept_bias}')\n",
    "print(f'Bstrap Intercept Std: {intercept_bstrap_std}')\n",
    "print(f'Original Slope: {original_slope}')\n",
    "print(f'Bstrap Slope Bias: {slope_bias}')\n",
    "print(f'Bstrap Slope Std: {slope_bstrap_std}')"
   ]
  },
  {
   "cell_type": "code",
   "execution_count": null,
   "id": "57299887-57d8-496a-9544-8e543f979b48",
   "metadata": {},
   "outputs": [],
   "source": [
    "%%R\n",
    "summary(lm(mpg ~ horsepower, data = Auto))$coef"
   ]
  },
  {
   "cell_type": "code",
   "execution_count": null,
   "id": "e8027c3c-4560-44b9-b4ba-28c86eb12b49",
   "metadata": {},
   "outputs": [],
   "source": [
    "results = smf.ols(formula = 'mpg ~ horsepower', data = auto_df_no_gaps).fit().summary().tables[1]"
   ]
  },
  {
   "cell_type": "code",
   "execution_count": null,
   "id": "f0d4195d-d043-4ba7-9c74-9ec762e5a6c0",
   "metadata": {},
   "outputs": [],
   "source": [
    "## https://stackoverflow.com/questions/51734180/converting-statsmodels-summary-object-to-pandas-dataframe\n",
    "\n",
    "results_as_html = results.as_html()\n",
    "results_df = pd.read_html(results_as_html, header=0, index_col=0)[0]\n",
    "\n",
    "results_df[['coef', 'std err', 't', 'P>|t|']]"
   ]
  },
  {
   "cell_type": "code",
   "execution_count": null,
   "id": "16bdc454-405e-42ac-a9c6-1e0d6f89d7a9",
   "metadata": {},
   "outputs": [],
   "source": [
    "%%R\n",
    "boot.fn <- function(data, index)\n",
    "    coef(\n",
    "      lm(mpg ~ horsepower + I(horsepower^2),\n",
    "        data = data, subset = index)\n",
    "    )\n",
    "\n",
    "set.seed(1)\n",
    "boot(Auto, boot.fn, 1000)"
   ]
  },
  {
   "cell_type": "code",
   "execution_count": null,
   "id": "06ec9a20-07c7-4555-8ca7-7e31483f7c01",
   "metadata": {},
   "outputs": [],
   "source": [
    "## What does I do in the formula: https://stackoverflow.com/questions/24192428/what-does-the-capital-letter-i-in-r-linear-regression-formula-mean\n",
    "\n",
    "def boot_fn(data, index):\n",
    "    model = smf.ols(formula='mpg ~ horsepower + I(horsepower**2)', \n",
    "                    data=data, \n",
    "                    subset=index)\n",
    "    fit = model.fit()\n",
    "    params = fit.params\n",
    "    \n",
    "    return params"
   ]
  },
  {
   "cell_type": "code",
   "execution_count": null,
   "id": "16ae939e-48b7-445d-88b7-f6f592d2a5a2",
   "metadata": {},
   "outputs": [],
   "source": [
    "boot_fn(auto_df_no_gaps, np.arange(1, auto_df_no_gaps.shape[0]+1))"
   ]
  },
  {
   "cell_type": "code",
   "execution_count": null,
   "id": "ecc3eca3-2299-462f-b21b-3dcba0b2eb6c",
   "metadata": {},
   "outputs": [],
   "source": [
    "intercepts = []\n",
    "hp_1s = []\n",
    "hp_2s = []\n",
    "\n",
    "n = auto_df_no_gaps.shape[0]\n",
    "\n",
    "for _ in range(1000):\n",
    "    idx = np.random.choice(np.arange(1, n+1), n)\n",
    "    param = boot_fn(auto_df_no_gaps, idx)\n",
    "    intercept = param[0]\n",
    "    hp_1 = param[1]\n",
    "    hp_2 = param[2]\n",
    "    intercepts.append(intercept)\n",
    "    hp_1s.append(hp_1)\n",
    "    hp_2s.append(hp_2)\n",
    "\n",
    "original_intercept = boot_fn(auto_df_no_gaps, np.arange(1, 393))[0]\n",
    "original_hp_1 = boot_fn(auto_df_no_gaps, np.arange(1, 393))[1]\n",
    "original_hp_2 = boot_fn(auto_df_no_gaps, np.arange(1, 393))[2]\n",
    "\n",
    "intercept_bstrap_mean = np.mean(intercepts)\n",
    "intercept_bstrap_std = np.std(intercepts)\n",
    "\n",
    "hp_1_bstrap_mean = np.mean(hp_1s)\n",
    "hp_1_bstrap_std = np.std(hp_1s)\n",
    "\n",
    "hp_2_bstrap_mean = np.mean(hp_2s)\n",
    "hp_2_bstrap_std = np.std(hp_2s)\n",
    "\n",
    "## Bias = bootstrap realization of the statistic - the original statistic from the original data\n",
    "## bias for intercepts\n",
    "intercept_bias = intercept_bstrap_mean - original_intercept\n",
    "\n",
    "## bias for horsepower\n",
    "hp_1_bias = hp_1_bstrap_mean - original_hp_1\n",
    "\n",
    "## bias for horsepower**2\n",
    "hp_2_bias = hp_2_bstrap_mean - original_hp_2"
   ]
  },
  {
   "cell_type": "code",
   "execution_count": null,
   "id": "4c3d9770-8fc5-443e-803a-7265c31dcac4",
   "metadata": {},
   "outputs": [],
   "source": [
    "print(f'Original Intercept: {original_intercept}')\n",
    "print(f'Bstrap Intercept Bias: {intercept_bias}')\n",
    "print(f'Bstrap Intercept Std: {intercept_bstrap_std}')\n",
    "print()\n",
    "print(f'Original Slope: {original_hp_1}')\n",
    "print(f'Bstrap horsepower Bias: {hp_1_bias}')\n",
    "print(f'Bstrap horsepower Std: {hp_1_bstrap_std}')\n",
    "print()\n",
    "print(f'Original Slope: {original_hp_2}')\n",
    "print(f'Bstrap horsepower**2 Bias: {hp_2_bias}')\n",
    "print(f'Bstrap horsepower**2 Std: {hp_2_bstrap_std}')"
   ]
  },
  {
   "cell_type": "code",
   "execution_count": null,
   "id": "028fbcc0-346a-4e79-863f-3928410c49bb",
   "metadata": {},
   "outputs": [],
   "source": [
    "%%R\n",
    "summary(\n",
    "    lm(mpg ~ horsepower + I(horsepower^2), data = Auto)\n",
    ")$coef"
   ]
  },
  {
   "cell_type": "code",
   "execution_count": null,
   "id": "e0c20474-381c-451e-b372-0de82fb82a9f",
   "metadata": {},
   "outputs": [],
   "source": [
    "model = smf.ols(formula = 'mpg ~ horsepower + I(horsepower**2)',\n",
    "                data = auto_df_no_gaps)\n",
    "fit = model.fit()\n",
    "\n",
    "results = fit.summary().tables[1]"
   ]
  },
  {
   "cell_type": "code",
   "execution_count": null,
   "id": "bb44676a-ca39-4c39-8114-07c97db3bcd2",
   "metadata": {},
   "outputs": [],
   "source": [
    "results_as_html = results.as_html()\n",
    "results_df = pd.read_html(results_as_html, header=0, index_col=0)[0]\n",
    "\n",
    "results_df[['coef', 'std err', 't', 'P>|t|']]"
   ]
  },
  {
   "cell_type": "markdown",
   "id": "db42cb44-2396-47c3-b9ba-41b9da448a98",
   "metadata": {},
   "source": [
    "# The End"
   ]
  },
  {
   "cell_type": "code",
   "execution_count": null,
   "id": "0737a3c0-6c80-47ec-b0a4-fb8a2ff9b9dd",
   "metadata": {},
   "outputs": [],
   "source": []
  },
  {
   "cell_type": "code",
   "execution_count": null,
   "id": "8e52d811-c9db-4c66-8fc8-62efc533c38b",
   "metadata": {},
   "outputs": [],
   "source": []
  },
  {
   "cell_type": "code",
   "execution_count": null,
   "id": "2e7ea2fc-443c-4fee-ab6e-7c43f25120ca",
   "metadata": {},
   "outputs": [],
   "source": []
  },
  {
   "cell_type": "markdown",
   "id": "669e35b0-0ea3-4ae3-96f6-933d74b75588",
   "metadata": {
    "tags": []
   },
   "source": [
    "# Extra stuff"
   ]
  },
  {
   "cell_type": "code",
   "execution_count": null,
   "id": "45f1d71f-5a11-4c0e-a78e-95b6f3f26fc4",
   "metadata": {},
   "outputs": [],
   "source": [
    "type(glm_model)"
   ]
  },
  {
   "cell_type": "code",
   "execution_count": null,
   "id": "7a3f3f6b-0f2e-479f-93e2-e188b7cacb22",
   "metadata": {},
   "outputs": [],
   "source": [
    "import glmnet_python\n",
    "from glmnet import glmnet; from glmnetPlot import glmnetPlot\n",
    "from glmnetPrint import glmnetPrint; from glmnetCoef import glmnetCoef; from glmnetPredict import glmnetPredict\n",
    "from cvglmnet import cvglmnet; from cvglmnetCoef import cvglmnetCoef\n",
    "from cvglmnetPlot import cvglmnetPlot; from cvglmnetPredict import cvglmnetPredict"
   ]
  },
  {
   "cell_type": "code",
   "execution_count": null,
   "id": "a812eb3f-7262-4610-af57-4e07ef7afd3c",
   "metadata": {},
   "outputs": [],
   "source": [
    "import statsmodels.api as sm"
   ]
  },
  {
   "cell_type": "code",
   "execution_count": null,
   "id": "8e2639ad-7f98-447a-895b-cfc5a2884173",
   "metadata": {},
   "outputs": [],
   "source": [
    "X = sm.add_constant(auto_df_no_gaps['horsepower'].astype(np.float64).values)\n",
    "\n",
    "glm_fit = glmnet(x = X, y = auto_df_no_gaps['mpg'].astype(np.float64).values, family='gaussian')"
   ]
  },
  {
   "cell_type": "code",
   "execution_count": null,
   "id": "22f98eea-bfcc-456e-a245-29716bee731d",
   "metadata": {
    "tags": []
   },
   "outputs": [],
   "source": [
    "glmnetCoef(glm_fit)"
   ]
  },
  {
   "cell_type": "code",
   "execution_count": null,
   "id": "5a494551-e3ed-40be-a54d-9190e697fcff",
   "metadata": {},
   "outputs": [],
   "source": [
    "polynomial_features.fit_transform(np.array(auto_df['horsepower'][0:4]).reshape(-1, 1))[:,1:]"
   ]
  },
  {
   "cell_type": "code",
   "execution_count": null,
   "id": "2f075e92-1c2f-4789-9bc0-24251a1d6ad3",
   "metadata": {},
   "outputs": [],
   "source": [
    "%%R\n",
    "horsepower[1:3]"
   ]
  },
  {
   "cell_type": "code",
   "execution_count": null,
   "id": "f736d344-d7ff-4d04-843b-5aeac09694ff",
   "metadata": {},
   "outputs": [],
   "source": [
    "def poly(x, p):\n",
    "    x = np.array(x)\n",
    "    X = np.transpose(np.vstack((x**k for k in range(p+1))))\n",
    "    return np.linalg.qr(X)[0][:,1:]"
   ]
  },
  {
   "cell_type": "code",
   "execution_count": null,
   "id": "0faacc0b-e036-410c-980b-1ddba0032686",
   "metadata": {},
   "outputs": [],
   "source": [
    "poly(auto_df['horsepower'][0:4], 2)"
   ]
  },
  {
   "cell_type": "code",
   "execution_count": null,
   "id": "eb14fb09-94ea-4911-b6c8-c1c271d878d9",
   "metadata": {},
   "outputs": [],
   "source": [
    "auto_df[['horsepower_poly_1', 'horsepower_poly_2'] "
   ]
  },
  {
   "cell_type": "code",
   "execution_count": null,
   "id": "d3dae4f9-7309-439b-9c98-fab20533184f",
   "metadata": {},
   "outputs": [],
   "source": [
    "lm_model2 = smf.ols(formula = 'mpg ~ poly(horsepower,2)', data = auto_df.iloc[train_idx-1])\n",
    "lm_fit2 = lm_model2.fit()\n",
    "pred = lm_fit2.predict(auto_df.iloc[test_idx]['horsepower'])\n",
    "((auto_df.iloc[test_idx]['mpg'] - pred)**2).mean()"
   ]
  },
  {
   "cell_type": "code",
   "execution_count": null,
   "id": "e99e9562-21de-4b5c-9d18-3a6d8d245c6b",
   "metadata": {},
   "outputs": [],
   "source": []
  },
  {
   "cell_type": "code",
   "execution_count": null,
   "id": "c6704b0f-ea31-44f9-8312-935851f9e21c",
   "metadata": {},
   "outputs": [],
   "source": [
    "lm_model2 = smf.ols(formula = 'mpg ~ poly(horsepower, 2)', data = auto_df.iloc[train_idx-1])"
   ]
  },
  {
   "cell_type": "code",
   "execution_count": null,
   "id": "c1f48819-7f0a-46dd-8a23-149fada350d0",
   "metadata": {},
   "outputs": [],
   "source": [
    "lm_fit2 = lm_model2.fit()"
   ]
  },
  {
   "cell_type": "code",
   "execution_count": null,
   "id": "1c471ce5-9a93-4e8c-8464-dfd1a0abae05",
   "metadata": {},
   "outputs": [],
   "source": [
    "pred = lm_fit2.predict(auto_df.iloc[test_idx]['horsepower'])\n",
    "((auto_df.iloc[test_idx]['mpg'] - pred)**2).mean()"
   ]
  },
  {
   "cell_type": "code",
   "execution_count": null,
   "id": "06f30af5-5f45-4f35-a037-72c6bb6d7932",
   "metadata": {},
   "outputs": [],
   "source": [
    "lm_fit2.predict(auto_df['horsepower'][1])"
   ]
  },
  {
   "cell_type": "code",
   "execution_count": null,
   "id": "85e2d329-8e05-4dc9-a664-b2f5b477f3e7",
   "metadata": {},
   "outputs": [],
   "source": [
    "lm_fit2.summary()"
   ]
  },
  {
   "cell_type": "code",
   "execution_count": null,
   "id": "f339bc79-4b7c-4a4d-b94a-d28b37552589",
   "metadata": {},
   "outputs": [],
   "source": [
    "auto_df['horsepower'][0]"
   ]
  },
  {
   "cell_type": "code",
   "execution_count": null,
   "id": "bafca683-eec1-437c-ba11-6db0d1d9cebd",
   "metadata": {},
   "outputs": [],
   "source": [
    "lm_model2 = smf.ols(formula = 'mpg ~ polynomial_features.fit_transform(np.array(auto_df.iloc[train_idx-1][\"horsepower\"]).reshape(-1,1))[:,1:]', data = auto_df.iloc[train_idx-1])\n",
    "\n",
    "lm_fit2 = lm_model2.fit()\n",
    "\n",
    "# poly.fit_transform(np.array(auto_df['horsepower'][0:4]).reshape(-1, 1))"
   ]
  },
  {
   "cell_type": "code",
   "execution_count": null,
   "id": "0cd5c951-a226-4fb7-bd63-074cc58b6450",
   "metadata": {},
   "outputs": [],
   "source": [
    "lm_fit2.summary()"
   ]
  },
  {
   "cell_type": "code",
   "execution_count": null,
   "id": "3e232317-4677-42b8-ab00-70ef71e7caeb",
   "metadata": {
    "tags": []
   },
   "outputs": [],
   "source": [
    "polynomial_features.fit_transform(np.array(auto_df.iloc[train_idx-1][\"horsepower\"]).reshape(-1,1))[:,1:]"
   ]
  },
  {
   "cell_type": "code",
   "execution_count": null,
   "id": "8b2c4a08-191c-4d26-ab3a-928513af6414",
   "metadata": {},
   "outputs": [],
   "source": [
    "def ortho_poly_fit(x, degree = 1):\n",
    "    n = degree + 1\n",
    "    x = np.asarray(x).flatten()\n",
    "    if(degree >= len(np.unique(x))):\n",
    "            stop(\"'degree' must be less than number of unique points\")\n",
    "    xbar = np.mean(x)\n",
    "    x = x - xbar\n",
    "    X = np.fliplr(np.vander(x, n))\n",
    "    q,r = np.linalg.qr(X)\n",
    "\n",
    "    z = np.diag(np.diag(r))\n",
    "    raw = np.dot(q, z)\n",
    "\n",
    "    norm2 = np.sum(raw**2, axis=0)\n",
    "    alpha = (np.sum((raw**2)*np.reshape(x,(-1,1)), axis=0)/norm2 + xbar)[:degree]\n",
    "    Z = raw / np.sqrt(norm2)\n",
    "    return Z[:,1:]##, norm2, alpha"
   ]
  },
  {
   "cell_type": "code",
   "execution_count": null,
   "id": "95c11748-6854-4966-ba42-78ad145ae665",
   "metadata": {},
   "outputs": [],
   "source": [
    "X = ortho_poly_fit(auto_df['horsepower'][0:20], 2)\n",
    "X"
   ]
  },
  {
   "cell_type": "code",
   "execution_count": null,
   "id": "e757dbfa-e1bf-4a97-aa61-60ca964355e6",
   "metadata": {
    "tags": []
   },
   "outputs": [],
   "source": [
    "lm_model2 = smf.ols(formula = 'mpg ~ ortho_poly_fit(horsepower, 2)', data = auto_df.iloc[train_idx-1])\n",
    "\n",
    "lm_fit2 = lm_model2.fit(method='qr')\n",
    "\n",
    "# poly.fit_transform(np.array(auto_df['horsepower'][0:4]).reshape(-1, 1))"
   ]
  },
  {
   "cell_type": "code",
   "execution_count": null,
   "id": "72c4067e-9c82-41ad-81f5-eed5f00e2b30",
   "metadata": {},
   "outputs": [],
   "source": [
    "lm_fit2.summary()"
   ]
  },
  {
   "cell_type": "code",
   "execution_count": null,
   "id": "c5b4e5f6-262d-4ce5-9986-1254559edaf9",
   "metadata": {
    "tags": []
   },
   "outputs": [],
   "source": [
    "ortho_poly_fit(auto_df.iloc[train_idx - 1]['horsepower'], 2)"
   ]
  },
  {
   "cell_type": "code",
   "execution_count": null,
   "id": "2ef80989-22bc-4ebb-aac0-58eeac9b5b39",
   "metadata": {},
   "outputs": [],
   "source": [
    "X = ortho_poly_fit(auto_df.iloc[train_idx-1]['horsepower'], 2)"
   ]
  },
  {
   "cell_type": "code",
   "execution_count": null,
   "id": "734f93a0-4659-488a-a4e7-a3dd5ae4f132",
   "metadata": {},
   "outputs": [],
   "source": [
    "X"
   ]
  },
  {
   "cell_type": "code",
   "execution_count": null,
   "id": "10c78e89-054a-4b9f-86dc-1f901b7652b6",
   "metadata": {
    "tags": []
   },
   "outputs": [],
   "source": [
    "X_df = pd.DataFrame(data={'h1':X[:,0], 'h2':X[:,1], 'mpg': auto_df['horsepower']})"
   ]
  },
  {
   "cell_type": "code",
   "execution_count": null,
   "id": "beb22be2-68db-45ca-81ae-afe2161d8fd3",
   "metadata": {},
   "outputs": [],
   "source": [
    "\n",
    "\n",
    "lm_model2 = smf.ols(formula = 'mpg ~ h1 + h2', data = X_df.iloc[train_idx-1])\n",
    "\n",
    "lm_fit2 = lm_model2.fit()\n",
    "lm_fit2.summary()\n",
    "# poly.fit_transform(np.array(auto_df['horsepower'][0:4]).reshape(-1, 1))"
   ]
  },
  {
   "cell_type": "code",
   "execution_count": null,
   "id": "b920e175-fe05-43b4-867d-f7a633e0f204",
   "metadata": {},
   "outputs": [],
   "source": [
    "auto_df.set_index(1, auto_df.shape[0]+1)"
   ]
  },
  {
   "cell_type": "code",
   "execution_count": null,
   "id": "9415fd84-b353-4a6e-9f58-2dacbebe0401",
   "metadata": {},
   "outputs": [],
   "source": [
    "test = auto_df.set_index(np.arange(1,auto_df.shape[0]+1))"
   ]
  },
  {
   "cell_type": "code",
   "execution_count": null,
   "id": "09c581cf-1dc4-4285-b9a3-2aa1b9e9acb9",
   "metadata": {},
   "outputs": [],
   "source": [
    "test.loc[train_idx]"
   ]
  },
  {
   "cell_type": "code",
   "execution_count": null,
   "id": "b6dba1e5-2f5e-4306-ae3e-7d950c6ccb7a",
   "metadata": {},
   "outputs": [],
   "source": [
    "lm_model2 = smf.ols(formula = 'mpg ~ ortho_poly_fit(horsepower, 2)', data = test, subset=train_idx)\n",
    "\n",
    "lm_fit2 = lm_model2.fit(method='qr')\n",
    "\n",
    "lm_fit2.summary()"
   ]
  },
  {
   "cell_type": "code",
   "execution_count": null,
   "id": "db45c9ec-6f85-4526-8aa7-7e7fa15a518b",
   "metadata": {},
   "outputs": [],
   "source": [
    "lm_fit2.fittedvalues"
   ]
  },
  {
   "cell_type": "code",
   "execution_count": null,
   "id": "8ef3a47d-9311-4c2d-8cbe-e2a186d823fb",
   "metadata": {},
   "outputs": [],
   "source": [
    "auto_df.iloc[train_idx-1]['mpg']"
   ]
  },
  {
   "cell_type": "code",
   "execution_count": null,
   "id": "54514e9a-7d76-4dbb-9635-31325d9439e9",
   "metadata": {},
   "outputs": [],
   "source": [
    "ortho_poly_fit(auto_df.iloc[train_idx-1]['horsepower'], 2)"
   ]
  },
  {
   "cell_type": "code",
   "execution_count": null,
   "id": "734e47b9-012a-47cf-a32b-ab1f773578ba",
   "metadata": {},
   "outputs": [],
   "source": []
  }
 ],
 "metadata": {
  "kernelspec": {
   "display_name": "Python 3 (ipykernel)",
   "language": "python",
   "name": "python3"
  },
  "language_info": {
   "codemirror_mode": {
    "name": "ipython",
    "version": 3
   },
   "file_extension": ".py",
   "mimetype": "text/x-python",
   "name": "python",
   "nbconvert_exporter": "python",
   "pygments_lexer": "ipython3",
   "version": "3.9.12"
  }
 },
 "nbformat": 4,
 "nbformat_minor": 5
}
