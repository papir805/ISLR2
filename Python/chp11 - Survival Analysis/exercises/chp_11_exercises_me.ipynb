{
 "cells": [
  {
   "cell_type": "markdown",
   "id": "4960b219-899d-48c2-8fe6-ca20d2b78eb1",
   "metadata": {},
   "source": [
    "# Chapter 11 Exercises"
   ]
  },
  {
   "cell_type": "code",
   "execution_count": 1,
   "id": "6c3633db-190a-42e5-8271-2026e0a7cb37",
   "metadata": {},
   "outputs": [],
   "source": [
    "import matplotlib.pyplot as plt\n",
    "\n",
    "import numpy as np\n",
    "import pandas as pd\n",
    "\n",
    "from lifelines import KaplanMeierFitter, CoxPHFitter\n",
    "from lifelines.statistics import logrank_test\n",
    "\n",
    "import survive\n",
    "\n",
    "import rpy2.robjects as robjects\n",
    "\n",
    "from scipy import stats\n",
    "\n",
    "%load_ext rpy2.ipython"
   ]
  },
  {
   "cell_type": "markdown",
   "id": "69f2ecb9-d269-4e57-b422-642b5b074fb6",
   "metadata": {},
   "source": [
    "## Conceptual Exercises"
   ]
  },
  {
   "cell_type": "markdown",
   "id": "46359bb0-959f-4d80-9252-cd104b32791f",
   "metadata": {},
   "source": [
    "### Exercise 2\n",
    "\n",
    "We conduct a study with $n=4$ participants who have just purchased cell phones, in order to model the time unti phone replacement.  The first participant replaces her phone after 1.2 years.  The second participant still has nt replaced her phone at the end of the two-year study period.  The third participant changes her phone and is lost to follow up (but has not yet replaced her phone) 1.5 years into the study.  The fourth participant replaces her phone after 0.2 years.\n",
    "\n",
    "For each of the four participants $(i=1,...,4)$, answer the following questions using the notation introduced in Section 11.1:"
   ]
  },
  {
   "cell_type": "markdown",
   "id": "5cd92ac5-6781-45c5-867c-c6fbf7e8b008",
   "metadata": {},
   "source": [
    "#### 2a) Is the participant's cell phone replacement time censored?\n",
    "A participant's cell phone replacement time is not censored if they replaced their phone before the 2 year study period was over, anything else is considered censored.\n",
    "   * $i = 1$ is not censored because they replaced their phone in 1.2 years, which is before the end of the two year study period.\n",
    "   * $i = 2$ is censored because they haven't replaced their cell phone by the study's end.\n",
    "   * $i = 3$ is censored because to the best of our knowledge, this person hasn't replaced their phone.  Despite being lost to follow up, we can't assume they've replaced it.  Only observations where we have data showing the phone was replaced are to be considered uncensored.\n",
    "   * $i = 4$ is not censored because they replaced their phone before the study was over."
   ]
  },
  {
   "cell_type": "markdown",
   "id": "298a172c-ae77-4136-b62e-babe9c085ca0",
   "metadata": {},
   "source": [
    "#### 2b) Is the value of $c_i$ known, and if so, then what is it?\n",
    "If a time is censored, then $c_i$ will exist and equal the time of censoring\n",
    "   * $c_1$ does not exist, observation 1 was not censored\n",
    "   * $c_2 = 2$ because observation 2 was censored when the study ended at 2 years\n",
    "   * $c_3 = 1.5$ because observation 3 was censored when they were lost to follow up at 1.5 years into the study\n",
    "   * $c_4$ does not exist, observation 4 was not censored"
   ]
  },
  {
   "cell_type": "markdown",
   "id": "af2612a6-d289-4b0d-accc-7955f865d9d6",
   "metadata": {},
   "source": [
    "#### 2c) Is the value of $t_i$ known, and if so, then what is it?\n",
    "If a time is not censored, then $t_i$ will exist and equal the time when a participant replaced their phone.\n",
    "    \n",
    "   * $t_1 = 1.2$ because observation 1 replaced their phone after 1.2 years\n",
    "   * $t_2$ does not exist because observation 2 never replaced their phone during the study\n",
    "   * $t_3$ does not exist because observation 3 never replaced their phone\n",
    "   * $t_4 = 0.2$ because observation 4 replaced their phone after 0.2 years"
   ]
  },
  {
   "cell_type": "markdown",
   "id": "e81225f0-fbac-48e0-bd3a-8f3d46c0e412",
   "metadata": {},
   "source": [
    "#### 2d) Is the value of $y_i$ known, and if so, then what is it?\n",
    "$$y_i = min(c_i, t_i)$$\n",
    "   \n",
    "   * $y_1=min(c_1,t_1)=t_1=1.2$ since $c_1$ does not exist\n",
    "   * $y_2=min(c_2,t_2)=c_2=2$ since $t_2$ does not exist\n",
    "   * $y_3=min(c_3,t_3)=c_3=1.5$ since $t_3$ does not exist\n",
    "   * $y_4=min(c_4,t_4)=t_4=0.2$ since $c_4$ does not exist"
   ]
  },
  {
   "cell_type": "markdown",
   "id": "767bb31f-a191-4476-aece-427c74500c90",
   "metadata": {},
   "source": [
    "#### 2e) Is the value of $\\delta_i$ known, and if so, then what is it?\n",
    "\n",
    "$\\delta_i$ indicates whether observation $i$ was censored or not.\n",
    "    \n",
    "$\\begin{equation}\n",
    "    \\delta =\n",
    "    \\left\\{\n",
    "    \\begin{aligned}\n",
    "    \\ 1\\ \\ \\ \\  & \\text{if }  & T \\leq &C \\text{ then the observation is not censored}\\\\\n",
    "    \\ 0 \\ \\ \\ \\ & \\text{if }   & T >  &C  \\text{ then the observation is censored}\n",
    "    \\end{aligned}\n",
    "    \\right.\n",
    "\\end{equation}$\n",
    "\n",
    "   * $\\delta_1 = 1$ because observation 1 was not censored\n",
    "   * $\\delta_2 = 0$ because observation 2 was censored\n",
    "   * $\\delta_3 = 0$ because observation 3 was censored\n",
    "   * $\\delta_4 = 1$ because observation 4 was not censored."
   ]
  },
  {
   "cell_type": "markdown",
   "id": "07ddd987-1572-4f3d-88c1-981ea16b4a5f",
   "metadata": {},
   "source": [
    "### Exercise 3\n",
    "For the example in Exercise 2, report the values of $K, d_1,...,d_K, r_1,...,r_K, \\text{ and } q_1,...q_K$, where this notation was defined in Section 11.3\n",
    "\n",
    " * $K=2$ because there are 2 unique \"death\" times among the non-censored patients\n",
    " * $d_1=0.2$ because this is the first unique death time among the non-censored patients\n",
    " * $d_K=d_2=1.2$ because this is the last unique death time among the non-censored patients\n",
    " * $r_1=4$ because there are 4 patients \"alive\" (in the study) just before $d_1$\n",
    " * $r_K=r_2=3$ because there are 3 patients \"alive\" (in the study) just before $d_2$\n",
    " * $q_1=1$ because one patient died at time $d_1$\n",
    " * $q_K=q_2=1$ because one patient died at time $d_2$"
   ]
  },
  {
   "cell_type": "markdown",
   "id": "5c6a3707-3e89-4e52-a99e-5d1b792f840a",
   "metadata": {},
   "source": [
    "### Exercise 4\n",
    "This problem makes use of the Kaplan-Meier survival curve displayed in Figure 11.9.  The raw data that went into plotting this survival curve is given in Table 11.4.  The coviariate column of that table is not needed for this problem."
   ]
  },
  {
   "cell_type": "markdown",
   "id": "ed299c20-7b7d-422f-9823-0fcf3ec674e1",
   "metadata": {},
   "source": [
    "![image](./images/fig_11_9.png)"
   ]
  },
  {
   "cell_type": "markdown",
   "id": "02ec2500-7f13-46b5-af09-6582611952cb",
   "metadata": {},
   "source": [
    "#### 4a) What is the estimated probability of survival past 50 days?"
   ]
  },
  {
   "cell_type": "markdown",
   "id": "13f6a9ec-dbd6-48f5-9d7f-13aed8bca005",
   "metadata": {},
   "source": [
    "Each point on a Kaplan Meier curve shows the estimated probability of surviving past the time indicated on the horizontal axis relative to that point.  \n",
    "\n",
    "Using figure 11.9 above, $P(T>50) = 0.6$.  In other words, there's a 60% chance of survival beyond 50 days."
   ]
  },
  {
   "cell_type": "markdown",
   "id": "52f05480-ab7e-4d92-b803-82f45cc9a258",
   "metadata": {},
   "source": [
    "#### 4b) Write out an analytical expression for the estimated survival function."
   ]
  },
  {
   "cell_type": "markdown",
   "id": "8a3f3223-44eb-41a1-bfe7-b03b8efdac4c",
   "metadata": {},
   "source": [
    "![image](./images/tab_11_4.png)"
   ]
  },
  {
   "cell_type": "markdown",
   "id": "38767efb-2e3f-47e8-91fe-7289f30d3a2e",
   "metadata": {},
   "source": [
    "Using the relationship $\\hat{S}(t)=\\hat{S}(d_k)$ and the equation below, with $k = 1, 2, 3$, because there are three unique \"death\" times for non-censored subjects:\n",
    "\\begin{equation*}\n",
    "  \\hat{S}(d_k)=\\prod_{j=1}^{k} (\\frac{r_j - q_j}{r_j})\n",
    "\\end{equation*}\n",
    "\n",
    "\n",
    "\\begin{equation*}\n",
    "  \\hat{S}(d_1)=\\prod_{j=1}^{1} (\\frac{r_j - q_j}{r_j})=\\frac{r_1 - q_1}{r_1}=\\frac{5-1}{5}=0.8\n",
    "\\end{equation*}\n",
    "\n",
    "\\begin{equation*}\n",
    "  \\hat{S}(d_2)=\\prod_{j=1}^{2} (\\frac{r_j - q_j}{r_j})=\\frac{r_1 - q_1}{r_1}\\cdot\\frac{r_2 - q_2}{r_2}=\\frac{5-1}{5}\\cdot\\frac{4-1}{4}=0.6\n",
    "\\end{equation*}\n",
    "\n",
    "\\begin{equation*}\n",
    "  \\hat{S}(d_3)=\\prod_{j=1}^{3} (\\frac{r_j - q_j}{r_j})=\\frac{r_1 - q_1}{r_1}\\cdot\\frac{r_2 - q_2}{r_2}\\cdot\\frac{r_3-q_3}{r_3}=\\frac{5-1}{5}\\cdot\\frac{4-1}{4}\\cdot\\frac{3-1}{3}=0.4\n",
    "\\end{equation*}\n"
   ]
  },
  {
   "cell_type": "markdown",
   "id": "6bca6cc3-6315-4363-a7d8-f8a908c786d6",
   "metadata": {},
   "source": [
    "$\\begin{equation}\n",
    "    \\hat{S}(t) =\n",
    "    \\left\\{\n",
    "    \\begin{aligned}\n",
    "    \\ 1\\ \\ \\ \\  & \\text{if }  & t < 26.5 \\\\\n",
    "    \\ 0.8  \\ \\ \\ \\ & \\text{if }   & 26.5 \\leq t <  37.2 \\\\\n",
    "    \\ 0.6  \\ \\ \\ \\ & \\text{if }   & 37.2 \\leq t <  57.3 \\\\\n",
    "    \\ 0.4  \\ \\ \\ \\ & \\text{if }   & 57.3 \\leq  t \\\\\n",
    "    \\end{aligned}\n",
    "    \\right.\n",
    "\\end{equation}$"
   ]
  },
  {
   "cell_type": "markdown",
   "id": "0e212ce4-a242-4340-b247-e81af869468c",
   "metadata": {},
   "source": [
    "##### Confirming using Python"
   ]
  },
  {
   "cell_type": "code",
   "execution_count": 2,
   "id": "9ac19167-caa3-4537-9412-aa90e9b04b69",
   "metadata": {},
   "outputs": [],
   "source": [
    "obs_y = [26.5, 37.2, 57.3, 90.8, 20.2, 89.8]\n",
    "cens_indicator = [1, 1, 1, 0, 0, 0]\n",
    "cov_x = [0.1, 11, -0.3, 2.8, 1.8, 0.4]\n",
    "\n",
    "ex_4_df = pd.DataFrame(data={\"obs_y\":obs_y, \"cens_indicator\":cens_indicator, \"cov_x\":cov_x})"
   ]
  },
  {
   "cell_type": "code",
   "execution_count": 3,
   "id": "1238fa9f-6f25-40e1-8a58-7642ac4b08c2",
   "metadata": {},
   "outputs": [
    {
     "data": {
      "text/html": [
       "<div>\n",
       "<style scoped>\n",
       "    .dataframe tbody tr th:only-of-type {\n",
       "        vertical-align: middle;\n",
       "    }\n",
       "\n",
       "    .dataframe tbody tr th {\n",
       "        vertical-align: top;\n",
       "    }\n",
       "\n",
       "    .dataframe thead th {\n",
       "        text-align: right;\n",
       "    }\n",
       "</style>\n",
       "<table border=\"1\" class=\"dataframe\">\n",
       "  <thead>\n",
       "    <tr style=\"text-align: right;\">\n",
       "      <th></th>\n",
       "      <th>obs_y</th>\n",
       "      <th>cens_indicator</th>\n",
       "      <th>cov_x</th>\n",
       "    </tr>\n",
       "  </thead>\n",
       "  <tbody>\n",
       "    <tr>\n",
       "      <th>0</th>\n",
       "      <td>20.2</td>\n",
       "      <td>0</td>\n",
       "      <td>1.8</td>\n",
       "    </tr>\n",
       "    <tr>\n",
       "      <th>1</th>\n",
       "      <td>26.5</td>\n",
       "      <td>1</td>\n",
       "      <td>0.1</td>\n",
       "    </tr>\n",
       "    <tr>\n",
       "      <th>2</th>\n",
       "      <td>37.2</td>\n",
       "      <td>1</td>\n",
       "      <td>11.0</td>\n",
       "    </tr>\n",
       "    <tr>\n",
       "      <th>3</th>\n",
       "      <td>57.3</td>\n",
       "      <td>1</td>\n",
       "      <td>-0.3</td>\n",
       "    </tr>\n",
       "    <tr>\n",
       "      <th>4</th>\n",
       "      <td>89.8</td>\n",
       "      <td>0</td>\n",
       "      <td>0.4</td>\n",
       "    </tr>\n",
       "    <tr>\n",
       "      <th>5</th>\n",
       "      <td>90.8</td>\n",
       "      <td>0</td>\n",
       "      <td>2.8</td>\n",
       "    </tr>\n",
       "  </tbody>\n",
       "</table>\n",
       "</div>"
      ],
      "text/plain": [
       "   obs_y  cens_indicator  cov_x\n",
       "0   20.2               0    1.8\n",
       "1   26.5               1    0.1\n",
       "2   37.2               1   11.0\n",
       "3   57.3               1   -0.3\n",
       "4   89.8               0    0.4\n",
       "5   90.8               0    2.8"
      ]
     },
     "execution_count": 3,
     "metadata": {},
     "output_type": "execute_result"
    }
   ],
   "source": [
    "ex_4_df = ex_4_df.sort_values(by=['obs_y']).reset_index(drop=True)\n",
    "ex_4_df"
   ]
  },
  {
   "cell_type": "markdown",
   "id": "53e5bf4e-0dae-4e1e-8b89-89e8afa697e8",
   "metadata": {},
   "source": [
    "###### Confirming using the lifelines package in Python"
   ]
  },
  {
   "cell_type": "code",
   "execution_count": 4,
   "id": "a70881c5-d5ee-4716-a08b-b19ecdd32987",
   "metadata": {},
   "outputs": [
    {
     "data": {
      "text/plain": [
       "<lifelines.KaplanMeierFitter:\"KM_estimate\", fitted with 6 total observations, 3 right-censored observations>"
      ]
     },
     "execution_count": 4,
     "metadata": {},
     "output_type": "execute_result"
    }
   ],
   "source": [
    "kmf = KaplanMeierFitter()\n",
    "\n",
    "T = ex_4_df['obs_y']\n",
    "E = ex_4_df['cens_indicator']\n",
    "\n",
    "kmf.fit( T, event_observed=E, alpha=1)"
   ]
  },
  {
   "cell_type": "code",
   "execution_count": 5,
   "id": "cd459b16-adb0-4cbc-9a8b-201771e44ccc",
   "metadata": {},
   "outputs": [
    {
     "data": {
      "image/png": "[encoded data removed]",
      "text/plain": [
       "<Figure size 432x288 with 1 Axes>"
      ]
     },
     "metadata": {
      "needs_background": "light"
     },
     "output_type": "display_data"
    }
   ],
   "source": [
    "fig, ax = plt.subplots(1,1)\n",
    "kmf.plot_survival_function(ax=ax)\n",
    "plt.xlabel('Time in Days')\n",
    "plt.ylabel(\"Estimated Probability of Survival\")\n",
    "ax.set_ylim([0,1.03])\n",
    "ax.set_xticks(np.arange(0, 91, 10))\n",
    "ax.get_legend().remove();"
   ]
  },
  {
   "cell_type": "code",
   "execution_count": 6,
   "id": "f00788fb-6dbe-4762-8b04-453dd825cbc9",
   "metadata": {},
   "outputs": [
    {
     "data": {
      "text/plain": [
       "0.6000000000000001"
      ]
     },
     "execution_count": 6,
     "metadata": {},
     "output_type": "execute_result"
    }
   ],
   "source": [
    "kmf.predict(50)"
   ]
  },
  {
   "cell_type": "markdown",
   "id": "68b6f08a-929a-4faa-b871-2e72db084139",
   "metadata": {},
   "source": [
    "###### Confirming using the survive package in Python"
   ]
  },
  {
   "cell_type": "code",
   "execution_count": 7,
   "id": "dd3d4ab9-1840-484b-a593-e145ab58c1aa",
   "metadata": {},
   "outputs": [
    {
     "data": {
      "text/plain": [
       "KaplanMeier(conf_level=0.95, conf_type='log-log', n_boot=500,\n",
       "            random_state=None, tie_break='discrete', var_type='greenwood')"
      ]
     },
     "execution_count": 7,
     "metadata": {},
     "output_type": "execute_result"
    }
   ],
   "source": [
    "surv = survive.SurvivalData('obs_y', status='cens_indicator', data=ex_4_df)\n",
    "\n",
    "km = survive.KaplanMeier()\n",
    "km.fit(surv)"
   ]
  },
  {
   "cell_type": "code",
   "execution_count": 8,
   "id": "e45f7b47-7015-493b-86cd-ca58e488b0c5",
   "metadata": {},
   "outputs": [
    {
     "data": {
      "image/png": "[encoded data removed]",
      "text/plain": [
       "<Figure size 432x288 with 1 Axes>"
      ]
     },
     "metadata": {
      "needs_background": "light"
     },
     "output_type": "display_data"
    }
   ],
   "source": [
    "km.plot(ci=False)\n",
    "plt.xlabel('Time in Days')\n",
    "plt.ylabel(\"Estimated Probability of Survival\");"
   ]
  },
  {
   "cell_type": "code",
   "execution_count": 9,
   "id": "5b02bbc3-003c-4ac0-8935-3fb6caff42c8",
   "metadata": {},
   "outputs": [
    {
     "data": {
      "text/html": [
       "<div>\n",
       "<style scoped>\n",
       "    .dataframe tbody tr th:only-of-type {\n",
       "        vertical-align: middle;\n",
       "    }\n",
       "\n",
       "    .dataframe tbody tr th {\n",
       "        vertical-align: top;\n",
       "    }\n",
       "\n",
       "    .dataframe thead th {\n",
       "        text-align: right;\n",
       "    }\n",
       "</style>\n",
       "<table border=\"1\" class=\"dataframe\">\n",
       "  <thead>\n",
       "    <tr style=\"text-align: right;\">\n",
       "      <th>group</th>\n",
       "      <th>0</th>\n",
       "    </tr>\n",
       "    <tr>\n",
       "      <th>time</th>\n",
       "      <th></th>\n",
       "    </tr>\n",
       "  </thead>\n",
       "  <tbody>\n",
       "    <tr>\n",
       "      <th>50</th>\n",
       "      <td>0.6</td>\n",
       "    </tr>\n",
       "  </tbody>\n",
       "</table>\n",
       "</div>"
      ],
      "text/plain": [
       "group    0\n",
       "time      \n",
       "50     0.6"
      ]
     },
     "execution_count": 9,
     "metadata": {},
     "output_type": "execute_result"
    }
   ],
   "source": [
    "km.predict([50])"
   ]
  },
  {
   "cell_type": "markdown",
   "id": "cc9aceef-c8b3-4c5b-be04-c7104e9f686d",
   "metadata": {},
   "source": [
    "### Exercise 5\n",
    "\n",
    "Sketch the survival function given by the equation\n",
    "\n",
    "$\\begin{equation}\n",
    "    \\hat{S}(t) =\n",
    "    \\left\\{\n",
    "    \\begin{aligned}\n",
    "    \\ 0.8\\ \\ \\ \\  & \\text{if }  & t < 31 \\\\\n",
    "    \\ 0.5  \\ \\ \\ \\ & \\text{if }   & 31 \\leq t <  77 \\\\\n",
    "    \\ 0.22  \\ \\ \\ \\ & \\text{if }   & 77 \\leq  t \\\\\n",
    "    \\end{aligned}\n",
    "    \\right.\n",
    "\\end{equation}$"
   ]
  },
  {
   "cell_type": "code",
   "execution_count": 10,
   "id": "b3d70335-f502-4c70-b36a-3310e32d5a07",
   "metadata": {},
   "outputs": [
    {
     "data": {
      "image/png": "[encoded data removed]",
      "text/plain": [
       "<Figure size 432x288 with 1 Axes>"
      ]
     },
     "metadata": {
      "needs_background": "light"
     },
     "output_type": "display_data"
    }
   ],
   "source": [
    "x_s = [0, 31, 77, 100]\n",
    "y_s = [0.8, 0.5, 0.22, 0.22]\n",
    "fig, ax = plt.subplots(1,1)\n",
    "ax.step(x_s, y_s, where='post')\n",
    "ax.set_xlabel('Time in Days')\n",
    "ax.set_ylabel('Estimated Probability of Survival')\n",
    "ax.set_ylim([0,1.03]);"
   ]
  },
  {
   "cell_type": "markdown",
   "id": "2e6be59a-d67c-4fe5-b82c-0bc0fe85c314",
   "metadata": {},
   "source": [
    "### Exercise 6\n",
    "This problem makes use of the data in Figure 11.1.  In completing this problem, you can refer to the observaton times as $y_1,...,y_4$.  The ordering of these observation times can be seen from Figure 11.1; their exact values are not required."
   ]
  },
  {
   "cell_type": "markdown",
   "id": "b3d35282-5b69-418a-959b-40d21e792376",
   "metadata": {},
   "source": [
    "![image](./images/fig_11_1.png)"
   ]
  },
  {
   "cell_type": "markdown",
   "id": "8a53f94d-3249-4db9-bf64-992048313d43",
   "metadata": {},
   "source": [
    "#### 6a) Report the values of $\\delta_1,...,\\delta_4, K, d_1,...,d_K, r_1,...r_K, \\text{ and } q_1,...,q_K$\n",
    "\n",
    " * $\\delta_1 = \\delta_3 = 1$ because patients 1 & 3 are not censored\n",
    " * $\\delta_2 = \\delta_4 = 0$ because patients 2 and 4 are censored\n",
    " * $K=2$ because there are two unique \"death\" times among non censored patients\n",
    " * $d_1 \\approx 150$ because the first unique \"death\" time is roughly 150 days\n",
    " * $d_K = d_2 = 300$ because the second, or last, \"death\" time is 300 days\n",
    " * $r_1 = 4$ because there are 4 patients at risk (still in the study) at $d_1$\n",
    " * $r_K = r_2 = 2$ because there are 2 patients at risk (still in the study) at $d_2$\n",
    " * $q_1 = 1$ because one patient \"died\" at $d_1$\n",
    " * $q_K = q_2 = 1$ because one patient \"died\" at $d_2$"
   ]
  },
  {
   "cell_type": "markdown",
   "id": "3e041ead-2cf5-47f9-a410-0e0665c40d41",
   "metadata": {},
   "source": [
    "#### 6b) Sketch the Kaplan-Meier survival curve corresponding to this data set.  (You do not need to use any software to do this - you can sketch it by hand using the results obtained in (a).)"
   ]
  },
  {
   "cell_type": "code",
   "execution_count": 11,
   "id": "29155ed5-ee3f-4654-9b44-dd81b90b9d41",
   "metadata": {},
   "outputs": [
    {
     "data": {
      "image/png": "[encoded data removed]",
      "text/plain": [
       "<Figure size 432x288 with 1 Axes>"
      ]
     },
     "metadata": {
      "needs_background": "light"
     },
     "output_type": "display_data"
    }
   ],
   "source": [
    "x_s = [0, 150, 300, 365]\n",
    "y_s = [1, 0.75, 3/8, 3/8]\n",
    "fig, ax = plt.subplots(1,1)\n",
    "ax.step(x_s, y_s, where='post')\n",
    "ax.set_xlabel('Time in Days')\n",
    "ax.set_ylabel('Estimated Probability of Survival')\n",
    "ax.set_ylim([0,1.03]);"
   ]
  },
  {
   "cell_type": "markdown",
   "id": "3d11205c-c77b-4a60-80f0-3173a2822313",
   "metadata": {},
   "source": [
    "#### 6c) Based on the survival curve estimated in (b), what is the probability that the event occurs within 200 days?  What is the probability that the event does not occur within 310 days?\n",
    "\n",
    "$P(t\\leq200) = 1 - P(t>200) = 1 - 0.75 = 0.25$\n",
    "\n",
    "$P((t\\leq310)^{C}) = P(t>310) = 0.375$"
   ]
  },
  {
   "cell_type": "markdown",
   "id": "e7f7dcc6-ff5d-4127-96cb-23dc16a0e2d4",
   "metadata": {},
   "source": [
    "#### 6d) Write out an expression for the estimated survival curve from (b).\n",
    "\n",
    "$\\begin{equation}\n",
    "    \\hat{S}(t) =\n",
    "    \\left\\{\n",
    "    \\begin{aligned}\n",
    "    \\ 1\\ \\ \\ \\  & \\text{if }  & t < 150 \\\\\n",
    "    \\ 0.75  \\ \\ \\ \\ & \\text{if }   & 150 \\leq t <  300 \\\\\n",
    "    \\ 0.375  \\ \\ \\ \\ & \\text{if }   & 300 \\leq  t \\\\\n",
    "    \\end{aligned}\n",
    "    \\right.\n",
    "\\end{equation}$"
   ]
  },
  {
   "cell_type": "markdown",
   "id": "703e95f2-bba6-4bb4-a70e-90b26459a713",
   "metadata": {},
   "source": [
    "### Exercise 7\n",
    "In this problem, we will derive (11.5) and (11.6), which are needed for the construction of the log-rank test statistic (11.8).  Recall the notation in Table 11.1"
   ]
  },
  {
   "cell_type": "markdown",
   "id": "71480c24-2e06-41ed-ad70-4effc55a39b0",
   "metadata": {},
   "source": [
    "![image](./images/table_11_1.png)"
   ]
  },
  {
   "cell_type": "markdown",
   "id": "f04bfe44-e070-468f-b565-b34bcab1f396",
   "metadata": {},
   "source": [
    "#### 7a) Assume that there is no difference between the survival functions of the two groups.  Then we can think of $q_{1k}$ as the number of failures if we draw $r_{1k}$ observations, without replacement, from a risk set of $r_k$  observations that contains a total of $q_k$ failures.  Argue that $q_{1k}$ follows a *hypergeometric distribution*.  Write the parameters of this distribution in terms of $r_{1k}, r_k,$ and $q_k$."
   ]
  },
  {
   "cell_type": "markdown",
   "id": "b278bc92-6388-400c-a4bc-66b41da75d9d",
   "metadata": {},
   "source": [
    "$q_{1k}$ follows a hypergeometric distribution because:\n",
    "\n",
    "* The population or set to be sampled is a finite population consisting of $N=r_{k}$ observations\n",
    "* Each observation selected is either a success or a failure, where success is defined as a death occuring, and there are $M=q_{k}$ successes in the population.\n",
    "* A sample of $n=r_{1k}$ observations are selected without replacement in such a way that each subset of size $n$ is equally likely to be chosen.\n",
    "\n",
    "$h(x; n, M, N)=h(q_{1k}; r_{1k}, q_k, r_k)$"
   ]
  },
  {
   "cell_type": "markdown",
   "id": "8420a56e-94e0-4793-8b8e-8a39de658526",
   "metadata": {},
   "source": [
    "#### 7b) Given your previous answer, and the properties of the hypergeometric distribution, what are the mean and variance of $q_{1k}$?  Compare your answers to (11.5) and (11.6)"
   ]
  },
  {
   "cell_type": "markdown",
   "id": "9c78c788-0b07-4207-8273-39afcf573dca",
   "metadata": {},
   "source": [
    "![image](./images/expected_value_q_1k.png)"
   ]
  },
  {
   "cell_type": "markdown",
   "id": "eba41e30-ee0b-4d97-8094-3bbe836f998c",
   "metadata": {},
   "source": [
    "![image](./images/variance_q_1k.png)"
   ]
  },
  {
   "cell_type": "markdown",
   "id": "a965f954-ad51-4265-a8c0-520f9335b8be",
   "metadata": {},
   "source": [
    "$E(q_{1k})=n\\cdot\\frac{M}{N}=r_{1k}\\cdot\\frac{q_k}{r_k}=\\frac{r_{1k}}{r_k}\\cdot q_k$, which is the same as (11.5)\n",
    "\n",
    "$V(q_{1k})=(\\frac{N-n}{N-1})\\cdot n \\cdot \\frac{M}{N} \\cdot (1-\\frac{M}{N})$\n",
    "\n",
    "$=(\\frac{r_k-r_{1k}}{r_k-1})\\cdot r_{1k} \\cdot \\frac{q_k}{r_k} \\cdot (1-\\frac{q_k}{r_k})$\n",
    "\n",
    "$=(\\frac{r_k-r_{1k}}{r_k-1})\\cdot r_{1k} \\cdot \\frac{q_k}{r_k} \\cdot (\\frac{r_k - q_k}{r_k})$\n",
    "\n",
    "$=q_k(r_{1k}/r_k)(\\frac{r_k - r_{1k}}{r_k-1})(\\frac{r_k - q_k}{r_k})$\n",
    "\n",
    "$=q_k(r_{1k}/r_k)(\\frac{r_k - r_{1k}}{r_k})(\\frac{r_k - q_k}{r_k-1})$\n",
    "\n",
    "$=q_k(r_{1k}/r_k)(1-\\frac{r_{1k}}{r_k})(\\frac{r_k - q_k}{r_k-1})$\n",
    "\n",
    "$=\\frac{q_k(r_{1k}/r_k)(1-r_{1k}/r_k)(r_k - q_k)}{r_k-1}$, which is the same as (11.6)"
   ]
  },
  {
   "cell_type": "markdown",
   "id": "20a7e762-a76c-43d4-9e57-a33d850a2e7d",
   "metadata": {},
   "source": [
    "### Exercise 8\n",
    "Recall that the survival function $S(t)$, the hazard function $h(t)$, and the density function $f(t)$ are defined in (11.2), (11.9), and (11.11), respectively.  Furthermore, define $F(t) = 1 - S(t)$.  Show that the following relationships hold:\n",
    "    \n",
    "$$f(t) = dF(t)/dt$$\n",
    "$$S(t) = exp \\bigl( -\\int_0^th(u)du \\bigr)$$"
   ]
  },
  {
   "cell_type": "markdown",
   "id": "6796c712-05b7-4bf7-96db-b4810fbe4105",
   "metadata": {},
   "source": [
    "![image](./images/survival_function.png)"
   ]
  },
  {
   "cell_type": "markdown",
   "id": "14357f13-553d-45fe-acf7-e37e03b9b155",
   "metadata": {},
   "source": [
    "![image](./images/hazard_function.png)"
   ]
  },
  {
   "cell_type": "markdown",
   "id": "2bcffdc7-07c3-45ce-adea-5f9745503aa5",
   "metadata": {},
   "source": [
    "![image](./images/density_function.png)"
   ]
  },
  {
   "cell_type": "markdown",
   "id": "de9c8164-4f82-4e6b-8862-a1f7bcd32fe8",
   "metadata": {},
   "source": [
    "For the relationships given in the problem to hold, the relationship between $S(t)$ in (11.2), $h(t)$ in (11.9), and $f(t)$ in (11.11) have to hold.\n",
    "\n",
    "That relationship is described on pg 470, which is summarized as follows:\n",
    "\n",
    "$$h(t)=lim_{\\Delta t\\to 0}\\frac{Pr(t<T\\leq t + \\Delta t | T > t)}{\\Delta t}$$\n",
    "$$h(t)=lim_{\\Delta t\\to 0}\\frac{\\frac{Pr((t<T\\leq t + \\Delta t) \\cap (T > t))}{Pr(T > t)}}{\\Delta t}$$\n",
    "\n",
    "$$h(t)=lim_{\\Delta t\\to 0}\\frac{Pr((t<T\\leq t + \\Delta t) \\cap (T > t))}{Pr(T > t)\\cdot {\\Delta t}}$$\n",
    "\n",
    "Since survival longer than time t ($T > t$) must occur for survival between time t and t + $\\Delta t$ to be possible ($t < T \\leq t + \\Delta t$), the probability expression in the numerator can be simplified.\n",
    "\n",
    "$$h(t)=lim_{\\Delta t\\to 0}\\frac{Pr(t<T\\leq t + \\Delta t)}{Pr(T > t)\\cdot {\\Delta t}}$$\n",
    "\n",
    "Since $Pr(T > t)$ doesn't depend on $\\Delta t$, we can factor it out of the limit.\n",
    "$$h(t)=\\frac{1}{Pr(T > t)} \\cdot lim_{\\Delta t\\to 0}\\frac{Pr(t<T\\leq t + \\Delta t)}{\\Delta t}$$\n",
    "$$h(t)=\\frac{1}{S(t)} \\cdot f(t)$$\n",
    "$$h(t)=\\frac{1}{S(t)} \\cdot f(t)}$$\n",
    "$$h(t)=\\frac{f(t)}{S(t)}{\\blacksquare}$$\n",
    "\n",
    "In exercise 8, $S(t)$ and $f(t)$ are defined for us, along with $F(t)$.  Using those equations, we can check if the relationship still holds:\n",
    "$$F(t) = 1 - S(t)$$\n",
    "$$F(t) = 1 - exp(-\\int_0^t h(u)du)$$\n",
    "$$f(t) = \\frac{dF(t)}{dt}$$\n",
    "$$\\frac{d}{dt}[F(t)] = \\frac{d}{dt}[1-exp(-\\int_0^t h(u)du)]$$\n",
    "$$\\frac{dF(t)}{dt} = -exp(-\\int_0^t h(u)du)\\cdot\\frac{d}{dt}[-\\int_0^t h(u)du]$$\n",
    "$$\\frac{dF(t)}{dt} = -exp(-\\int_0^t h(u)du)\\cdot[-h(t)]$$\n",
    "$$\\frac{dF(t)}{dt} = h(t) \\cdot exp(-\\int_0^t h(u)du)$$\n",
    "$$f(t) = h(t) \\cdot exp(-\\int_0^t h(u)du)$$\n",
    "\n",
    "$$h(t)=\\frac{f(t)}{S(t)}$$\n",
    "$$h(t)=\\frac{h(t) \\cdot exp(-\\int_0^t h(u)du)}{exp(-\\int_0^t h(u)du)}$$\n",
    "$$h(t)=h(t){\\blacksquare}$$\n",
    "\n",
    "The relationships in (11.2), (11.9), and (11.11) hold for the the $f(t)$ and $S(t)$ given in the problem."
   ]
  },
  {
   "cell_type": "markdown",
   "id": "13c5119f-b8b2-45d1-8b6c-2f622530490e",
   "metadata": {},
   "source": [
    "### Exercise 9\n",
    "In this exercise, we will explore the consequences of assuming that the survival times follow an exponential distribution."
   ]
  },
  {
   "cell_type": "markdown",
   "id": "0de85767-99f1-4dc0-9e65-d946c1c4958f",
   "metadata": {},
   "source": [
    "#### 9a) Suppose that survival time follows an $Exp(\\lambda)$ distribution, so that its density function is $f(t) = \\lambda exp(-\\lambda t)$.  Using the relationships provided in Exercise 8, show that $S(t)=exp(-\\lambda t)$."
   ]
  },
  {
   "cell_type": "markdown",
   "id": "d22e6c6e-5dc7-42b3-808d-b4a22ac44dd2",
   "metadata": {},
   "source": [
    "Starting using the relationship from exercise 8:\n",
    "\n",
    "$$f(t)=\\frac{d}{dt}[F(t)]$$\n",
    "$$f(t)=\\frac{d}{dt}[1 - S(t)]$$\n",
    "$$f(t)=0-\\frac{d}{dt}[S(t)]$$\n",
    "$$-f(t)=\\frac{d}{dt}[S(t)]$$\n",
    "$$\\int -f(t)=S(t)$$\n",
    "$$S(t) = \\int -\\lambda exp(-\\lambda t)$$\n",
    "$$S(t) = exp(-\\lambda t) \\blacksquare$$ "
   ]
  },
  {
   "cell_type": "markdown",
   "id": "251bdf81-4173-4c43-9f2f-020e235e1a60",
   "metadata": {},
   "source": [
    "#### 9b) Now suppose that each of $n$ independent surival times follows an $Exp(\\lambda)$ distribution.  Write out an expression for the likelihood function (11.13)."
   ]
  },
  {
   "cell_type": "markdown",
   "id": "369c4a99-8551-4596-a8a2-ae355540abbe",
   "metadata": {},
   "source": [
    "![image](./images/likelihood_function.png)"
   ]
  },
  {
   "cell_type": "markdown",
   "id": "5ebcf3a2-be95-4e9c-a951-74ff21cc6fc0",
   "metadata": {},
   "source": [
    "\\begin{equation*}\n",
    "  L=\\prod_{i=1}^{n} [\\lambda exp(-\\lambda y_i)]^{\\delta_i} [exp(-\\lambda y_i)]^{1-\\delta_i} = \\prod_{i=1}^{n} \\lambda^{\\delta_i} exp(-\\lambda y_i)\n",
    "\\end{equation*}\n",
    "\n",
    "\\begin{equation*}\n",
    "  L=\\lambda^{\\sum_{i=1}^{n} \\delta_i}\\cdot exp\\bigl(-\\lambda \\sum_{i=1}^{n} y_i\\bigr)\n",
    "\\end{equation*}"
   ]
  },
  {
   "cell_type": "markdown",
   "id": "1adaca4b-8598-4046-88c5-f64652b9fc97",
   "metadata": {},
   "source": [
    "#### 9c) Show that the maximum likelihood estimator for $\\lambda$ is \n",
    "\n",
    "\\begin{equation*}\n",
    "  \\hat{\\lambda} = \\sum_{i=1}^{n}\\delta_i / \\sum_{i=1}^{n} y_i\n",
    "\\end{equation*}\n",
    "\n",
    "Applying the natural logarithm to our likelihood function from 9b) allows us to use properties of logarithms to simplify the equation so that taking the derivative is easier later.\n",
    "\\begin{equation*}\n",
    "  ln(L)=ln\\Bigl(\\lambda^{\\sum_{i=1}^{n} \\delta_i}\\cdot exp\\bigl(-\\lambda \\sum_{i=1}^{n} y_i\\bigr)\\Bigr)\n",
    "\\end{equation*}\n",
    "\n",
    "\\begin{equation*}\n",
    "  ln(L)=ln\\lambda \\sum_{i=1}^{n}\\delta_i - \\lambda \\sum_{i=1}^{n}y_i\n",
    "\\end{equation*}\n",
    "\n",
    "\\begin{equation*}\n",
    "  \\frac{d}{d\\lambda}[ln(L)]=\\frac{d}{d\\lambda}\\biggl[ln\\lambda \\sum_{i=1}^{n}\\delta_i - \\lambda \\sum_{i=1}^{n}y_i\\biggr]\n",
    "\\end{equation*}\n",
    "\n",
    "\\begin{equation*}\n",
    "  \\frac{1}{L}\\frac{dL}{d\\lambda}=\\frac{1}{\\lambda}\\sum_{i=1}^{n} \\delta_i - \\sum_{i=1}^{n}y_i\n",
    "\\end{equation*}\n",
    "\n",
    "\\begin{equation*}\n",
    "  \\frac{dL}{d\\lambda}=[\\frac{1}{\\lambda} \\sum_{i=1}^{n} \\delta_i - \\sum_{i=1}^{n}y_i]\\cdot L\n",
    "\\end{equation*}\n",
    "\n",
    "\\begin{equation*}\n",
    "  0=[\\frac{1}{\\lambda} \\sum_{i=1}^{n} \\delta_i - \\sum_{i=1}^{n}y_i]\\cdot L\n",
    "\\end{equation*}\n",
    "\n",
    "\\begin{equation*}\n",
    "  0=\\frac{1}{\\lambda} \\sum_{i=1}^{n} \\delta_i - \\sum_{i=1}^{n}y_i\n",
    "\\end{equation*}\n",
    "\n",
    "\\begin{equation*}\n",
    "  \\sum_{i=1}^{n}y_i = \\frac{1}{\\lambda} \\sum_{i=1}^{n} \\delta_i\n",
    "\\end{equation*}\n",
    "\n",
    "\\begin{equation*}\n",
    "  \\lambda = \\frac{\\sum_{i=1}^{n} \\delta_i}{\\sum_{i=1}^{n}y_i}\n",
    "\\end{equation*}"
   ]
  },
  {
   "cell_type": "markdown",
   "id": "51f6e687-02af-450b-bb7e-fdf0c6a954a4",
   "metadata": {},
   "source": [
    "#### 9d) Use your answer to (c) to derive an estimator of the mean survival time.\n",
    "\n",
    "\\begin{equation*}\n",
    "  E(y_i) = 1 / \\lambda\n",
    "\\end{equation*}\n",
    "\n",
    "\\begin{equation*}\n",
    "  E(y_i) = \\frac{1}{\\frac{\\sum_{i=1}^{n} \\delta_i}{\\sum_{i=1}^{n} y_i}}\n",
    "\\end{equation*}\n",
    "\n",
    "\\begin{equation*}\n",
    "  E(y_i) = \\frac{\\sum_{i=1}^{n} y_i}{\\sum_{i=1}^{n} \\delta_i}\n",
    "\\end{equation*}"
   ]
  },
  {
   "cell_type": "markdown",
   "id": "164e6ea5-35ac-4698-b972-d32d88f2a9d4",
   "metadata": {},
   "source": [
    "## Applied Exercises"
   ]
  },
  {
   "cell_type": "markdown",
   "id": "681b2051-aadb-45fa-afdd-0dba6288e359",
   "metadata": {},
   "source": [
    "### Exercise 10\n",
    "This exercises focuses on the brain tumor data, which is included in the ISLR2 R library"
   ]
  },
  {
   "cell_type": "markdown",
   "id": "d9a8a662-5903-4f31-ac2a-c0944f1b3893",
   "metadata": {},
   "source": [
    "#### 10a) Plot the Kaplan-Meier survival curve with $\\pm1$ standard error bands, using the `survfit()` function in the `survival` package.\n",
    "\n",
    "In Python, both the `lifelines` and `survive` modules can produce Kaplan-Meier curves.  `survive` is a great choice if you want to closely mimic R's `survival` package, however it can't fit CoxPH models and it doesn't provide an easy way to access standard errors of the coefficients.  For some of the exercises, I'll use both Python libraries, but for other exercises, I'll only be able to use the `lifelines` library, due to `survival`'s limitations."
   ]
  },
  {
   "cell_type": "code",
   "execution_count": 12,
   "id": "7e985b61-ec76-47c8-85ba-624b6d7c38d6",
   "metadata": {},
   "outputs": [],
   "source": [
    "brain_cancer_df = pd.read_csv(\"../datasets/BrainCancer.csv\", index_col=0)"
   ]
  },
  {
   "cell_type": "markdown",
   "id": "ebc865e7-2a59-4a77-8481-4bed94fd2768",
   "metadata": {},
   "source": [
    "##### Using lifelines"
   ]
  },
  {
   "cell_type": "code",
   "execution_count": 13,
   "id": "6dbf8f43-aa96-44c4-9a4e-df9b0f718449",
   "metadata": {},
   "outputs": [
    {
     "data": {
      "text/plain": [
       "<lifelines.KaplanMeierFitter:\"KM_estimate\", fitted with 88 total observations, 53 right-censored observations>"
      ]
     },
     "execution_count": 13,
     "metadata": {},
     "output_type": "execute_result"
    }
   ],
   "source": [
    "# Get two tailed alpha for +/- 1 error bands\n",
    "z_crit = -1\n",
    "left_tail_alpha = stats.norm.cdf(z_crit)\n",
    "two_tail_alpha = 2 * left_tail_alpha\n",
    "\n",
    "kmf = KaplanMeierFitter(alpha = two_tail_alpha)\n",
    "kmf.fit(brain_cancer_df['time'], brain_cancer_df['status'])"
   ]
  },
  {
   "cell_type": "code",
   "execution_count": 14,
   "id": "895702b8-b0fe-447c-9ddf-a92de9b64256",
   "metadata": {},
   "outputs": [
    {
     "data": {
      "image/png": "[encoded data removed]",
      "text/plain": [
       "<Figure size 432x288 with 1 Axes>"
      ]
     },
     "metadata": {
      "needs_background": "light"
     },
     "output_type": "display_data"
    }
   ],
   "source": [
    "fig, ax = plt.subplots(1,1)\n",
    "kmf.plot_survival_function(ax=ax)\n",
    "plt.xlabel('Months')\n",
    "plt.ylabel('Estimated Probability of Survival')\n",
    "ax.set_ylim([0,1.03])\n",
    "ax.set_xticks(np.arange(0, 81, 10))\n",
    "ax.get_legend().remove();"
   ]
  },
  {
   "cell_type": "markdown",
   "id": "bf83fa75-3671-4f2e-bb80-7664fb076c36",
   "metadata": {},
   "source": [
    "##### Using survive"
   ]
  },
  {
   "cell_type": "code",
   "execution_count": 15,
   "id": "8b8eaa91-25bf-4684-b116-6277de07761e",
   "metadata": {},
   "outputs": [
    {
     "data": {
      "text/plain": [
       "KaplanMeier(conf_level=0.6826894921370859, conf_type='log-log', n_boot=500,\n",
       "            random_state=None, tie_break='discrete', var_type='greenwood')"
      ]
     },
     "execution_count": 15,
     "metadata": {},
     "output_type": "execute_result"
    }
   ],
   "source": [
    "surv = survive.SurvivalData('time', status='status', data=brain_cancer_df)\n",
    "\n",
    "km_surv = survive.KaplanMeier(conf_level=1 - two_tail_alpha)\n",
    "km_surv.fit(surv)"
   ]
  },
  {
   "cell_type": "code",
   "execution_count": 16,
   "id": "8a5481d6-7e15-4309-9357-66c3fe85f5d2",
   "metadata": {},
   "outputs": [
    {
     "data": {
      "image/png": "[encoded data removed]",
      "text/plain": [
       "<Figure size 432x288 with 1 Axes>"
      ]
     },
     "metadata": {
      "needs_background": "light"
     },
     "output_type": "display_data"
    }
   ],
   "source": [
    "km_surv.plot()\n",
    "plt.xlabel('Months')\n",
    "plt.ylabel('Estimated Probability of Survival');"
   ]
  },
  {
   "cell_type": "code",
   "execution_count": 17,
   "id": "96002898-6ed2-494d-ac31-604cada00af5",
   "metadata": {},
   "outputs": [
    {
     "data": {
      "text/plain": [
       "Kaplan-Meier estimator\n",
       "\n",
       " total  events  censored\n",
       "    88      35        53\n",
       "\n",
       " time  events  at risk  estimate  std. error  68% c.i. lower  68% c.i. upper\n",
       " 0.07       1       88  0.988636    0.011299        0.969411        0.995804\n",
       " 1.41       1       86  0.977141    0.015979        0.954181        0.988663\n",
       " 3.38       1       83  0.965368    0.019651        0.939136        0.980411\n",
       " 4.16       1       82  0.953595    0.022665        0.924635        0.971597\n",
       " 4.56       1       81  0.941822    0.025258        0.910500        0.962408\n",
       " 6.10       1       78  0.929748    0.027670        0.896190        0.952742\n",
       " 6.23       1       77  0.917673    0.029829        0.882123        0.942848\n",
       " 6.30       1       76  0.905598    0.031787        0.868250        0.932768\n",
       " 6.39       1       75  0.893524    0.033578        0.854538        0.922534\n",
       " 6.82       1       74  0.881449    0.035229        0.840962        0.912167\n",
       " 6.92       1       73  0.869374    0.036757        0.827504        0.901686\n",
       " 7.05       1       72  0.857300    0.038178        0.814151        0.891102\n",
       " 7.25       1       70  0.845053    0.039549        0.800668        0.880295\n",
       " 8.98       1       69  0.832805    0.040828        0.787276        0.869402\n",
       " 9.77       1       68  0.820558    0.042024        0.773966        0.858430\n",
       "10.82       1       65  0.807934    0.043232        0.760260        0.847089\n",
       "11.02       1       64  0.795310    0.044361        0.746633        0.835674\n",
       "11.57       1       61  0.782273    0.045510        0.732569        0.823861\n",
       "14.00       1       59  0.769014    0.046630        0.718311        0.811800\n",
       "14.62       1       57  0.755522    0.047724        0.703847        0.799483\n",
       "16.43       1       55  0.741785    0.048793        0.689163        0.786898\n",
       "16.92       1       54  0.728049    0.049786        0.674560        0.774243\n",
       "19.90       1       49  0.713191    0.050938        0.658667        0.760617\n",
       "20.69       1       47  0.698016    0.052066        0.642489        0.746656\n",
       "22.03       1       46  0.682842    0.053099        0.626413        0.732609\n",
       "25.02       1       43  0.666962    0.054187        0.609578        0.717912\n",
       "29.70       1       40  0.650288    0.055338        0.591890        0.702487\n",
       "31.15       1       38  0.633175    0.056466        0.573795        0.686608\n",
       "31.25       1       37  0.616062    0.057474        0.555832        0.670623\n",
       "33.41       1       32  0.596810    0.058814        0.535401        0.652826\n",
       "35.93       1       28  0.575496    0.060453        0.512621        0.633269\n",
       "39.54       1       25  0.552476    0.062264        0.487991        0.612196\n",
       "46.16       1       18  0.521783    0.065937        0.453853        0.585288\n",
       "47.80       1       16  0.489171    0.069414        0.418113        0.556362\n",
       "51.02       1       13  0.451543    0.073570        0.376849        0.523214"
      ]
     },
     "execution_count": 17,
     "metadata": {},
     "output_type": "execute_result"
    }
   ],
   "source": [
    "km_surv.summary"
   ]
  },
  {
   "cell_type": "markdown",
   "id": "6d72b280-ed49-4066-a497-cff9f159deea",
   "metadata": {},
   "source": [
    "Both libraries behave fairly similarly when it comes to plotting the curve.  `survive` is perhaps a little nicer as it automatically plots small markers indicating when an observation became censored. `survive` also produces a nice summary output, making it very similar to R."
   ]
  },
  {
   "cell_type": "markdown",
   "id": "64f030e4-7b99-42b2-9e74-e1bfa6326b5c",
   "metadata": {},
   "source": [
    "#### 10b) Draw a bootstrap sample of size $n=88$ from the pairs $(y_i,\\delta_i)$, and compute the resulting Kaplan-Meier survival curve.  Repeat this process $B=200$ times.  Use the results to obtain an estimate of the standard error of the Kaplan-Meier survival curve at each timepoint.  Compare this to the standard errors obtained in (a)."
   ]
  },
  {
   "cell_type": "markdown",
   "id": "65433efe-ba19-4235-91e4-c312c6e24cfb",
   "metadata": {},
   "source": [
    "##### Using survive\n",
    "The survive library makes it very convenient to estimate the standard error using the bootstrap because one can specify `var_type='bootstrap'` and `n_boot=` when creating the model, which will perform the bootstrap process for us.  The one downside is that it doesn't show the standard error for each timepoint, like the question asks, it only shows the standard error for uncensored times in our dataset (status = 1)."
   ]
  },
  {
   "cell_type": "code",
   "execution_count": 18,
   "id": "fe6451f4-1400-4454-902d-0efc53c2187b",
   "metadata": {},
   "outputs": [],
   "source": [
    "# Setting a dummy column \"group\", which will enable us to group by this field when creating the model.  This enables one to access the km.summary.table object, which is a DataFrame where I can return the unncesored times and the standard error of the coefficient at those times.  I wasn't able to figure out a way to access the km.summary.table object unless a group label was specified, which is why I had to create a dummy one in the first place.\n",
    "brain_cancer_df['group']='a'"
   ]
  },
  {
   "cell_type": "code",
   "execution_count": 19,
   "id": "fbce4f08-66b2-4d1e-b948-468e0af0ba18",
   "metadata": {},
   "outputs": [
    {
     "data": {
      "text/plain": [
       "KaplanMeier(conf_level=0.6826894921370859, conf_type='log', n_boot=200,\n",
       "            random_state=1, tie_break='discrete', var_type='bootstrap')"
      ]
     },
     "execution_count": 19,
     "metadata": {},
     "output_type": "execute_result"
    }
   ],
   "source": [
    "surv = survive.SurvivalData('time', status='status', group='group',data=brain_cancer_df)\n",
    "\n",
    "km = survive.KaplanMeier(conf_level=1 - two_tail_alpha, conf_type='log', n_boot=200, var_type='bootstrap', random_state=1)\n",
    "km.fit(surv)"
   ]
  },
  {
   "cell_type": "code",
   "execution_count": 20,
   "id": "3f6b1c06-6b73-416c-bba7-f1a6054cfd8c",
   "metadata": {},
   "outputs": [
    {
     "data": {
      "text/html": [
       "<div>\n",
       "<style scoped>\n",
       "    .dataframe tbody tr th:only-of-type {\n",
       "        vertical-align: middle;\n",
       "    }\n",
       "\n",
       "    .dataframe tbody tr th {\n",
       "        vertical-align: top;\n",
       "    }\n",
       "\n",
       "    .dataframe thead th {\n",
       "        text-align: right;\n",
       "    }\n",
       "</style>\n",
       "<table border=\"1\" class=\"dataframe\">\n",
       "  <thead>\n",
       "    <tr style=\"text-align: right;\">\n",
       "      <th></th>\n",
       "      <th>time</th>\n",
       "      <th>std. error</th>\n",
       "    </tr>\n",
       "  </thead>\n",
       "  <tbody>\n",
       "    <tr>\n",
       "      <th>0</th>\n",
       "      <td>0.07</td>\n",
       "      <td>0.011719</td>\n",
       "    </tr>\n",
       "    <tr>\n",
       "      <th>1</th>\n",
       "      <td>1.41</td>\n",
       "      <td>0.015125</td>\n",
       "    </tr>\n",
       "    <tr>\n",
       "      <th>2</th>\n",
       "      <td>3.38</td>\n",
       "      <td>0.018734</td>\n",
       "    </tr>\n",
       "    <tr>\n",
       "      <th>3</th>\n",
       "      <td>4.16</td>\n",
       "      <td>0.022315</td>\n",
       "    </tr>\n",
       "    <tr>\n",
       "      <th>4</th>\n",
       "      <td>4.56</td>\n",
       "      <td>0.024629</td>\n",
       "    </tr>\n",
       "    <tr>\n",
       "      <th>5</th>\n",
       "      <td>6.10</td>\n",
       "      <td>0.026727</td>\n",
       "    </tr>\n",
       "    <tr>\n",
       "      <th>6</th>\n",
       "      <td>6.23</td>\n",
       "      <td>0.029731</td>\n",
       "    </tr>\n",
       "    <tr>\n",
       "      <th>7</th>\n",
       "      <td>6.30</td>\n",
       "      <td>0.031439</td>\n",
       "    </tr>\n",
       "    <tr>\n",
       "      <th>8</th>\n",
       "      <td>6.39</td>\n",
       "      <td>0.033632</td>\n",
       "    </tr>\n",
       "    <tr>\n",
       "      <th>9</th>\n",
       "      <td>6.82</td>\n",
       "      <td>0.035353</td>\n",
       "    </tr>\n",
       "    <tr>\n",
       "      <th>10</th>\n",
       "      <td>6.92</td>\n",
       "      <td>0.037519</td>\n",
       "    </tr>\n",
       "    <tr>\n",
       "      <th>11</th>\n",
       "      <td>7.05</td>\n",
       "      <td>0.039342</td>\n",
       "    </tr>\n",
       "    <tr>\n",
       "      <th>12</th>\n",
       "      <td>7.25</td>\n",
       "      <td>0.040515</td>\n",
       "    </tr>\n",
       "    <tr>\n",
       "      <th>13</th>\n",
       "      <td>8.98</td>\n",
       "      <td>0.040028</td>\n",
       "    </tr>\n",
       "    <tr>\n",
       "      <th>14</th>\n",
       "      <td>9.77</td>\n",
       "      <td>0.040886</td>\n",
       "    </tr>\n",
       "    <tr>\n",
       "      <th>15</th>\n",
       "      <td>10.82</td>\n",
       "      <td>0.042395</td>\n",
       "    </tr>\n",
       "    <tr>\n",
       "      <th>16</th>\n",
       "      <td>11.02</td>\n",
       "      <td>0.043071</td>\n",
       "    </tr>\n",
       "    <tr>\n",
       "      <th>17</th>\n",
       "      <td>11.57</td>\n",
       "      <td>0.044249</td>\n",
       "    </tr>\n",
       "    <tr>\n",
       "      <th>18</th>\n",
       "      <td>14.00</td>\n",
       "      <td>0.044460</td>\n",
       "    </tr>\n",
       "    <tr>\n",
       "      <th>19</th>\n",
       "      <td>14.62</td>\n",
       "      <td>0.045691</td>\n",
       "    </tr>\n",
       "    <tr>\n",
       "      <th>20</th>\n",
       "      <td>16.43</td>\n",
       "      <td>0.046636</td>\n",
       "    </tr>\n",
       "    <tr>\n",
       "      <th>21</th>\n",
       "      <td>16.92</td>\n",
       "      <td>0.047725</td>\n",
       "    </tr>\n",
       "    <tr>\n",
       "      <th>22</th>\n",
       "      <td>19.90</td>\n",
       "      <td>0.048455</td>\n",
       "    </tr>\n",
       "    <tr>\n",
       "      <th>23</th>\n",
       "      <td>20.69</td>\n",
       "      <td>0.050812</td>\n",
       "    </tr>\n",
       "    <tr>\n",
       "      <th>24</th>\n",
       "      <td>22.03</td>\n",
       "      <td>0.053373</td>\n",
       "    </tr>\n",
       "    <tr>\n",
       "      <th>25</th>\n",
       "      <td>25.02</td>\n",
       "      <td>0.054170</td>\n",
       "    </tr>\n",
       "    <tr>\n",
       "      <th>26</th>\n",
       "      <td>29.70</td>\n",
       "      <td>0.055930</td>\n",
       "    </tr>\n",
       "    <tr>\n",
       "      <th>27</th>\n",
       "      <td>31.15</td>\n",
       "      <td>0.057715</td>\n",
       "    </tr>\n",
       "    <tr>\n",
       "      <th>28</th>\n",
       "      <td>31.25</td>\n",
       "      <td>0.059628</td>\n",
       "    </tr>\n",
       "    <tr>\n",
       "      <th>29</th>\n",
       "      <td>33.41</td>\n",
       "      <td>0.060579</td>\n",
       "    </tr>\n",
       "    <tr>\n",
       "      <th>30</th>\n",
       "      <td>35.93</td>\n",
       "      <td>0.062141</td>\n",
       "    </tr>\n",
       "    <tr>\n",
       "      <th>31</th>\n",
       "      <td>39.54</td>\n",
       "      <td>0.064469</td>\n",
       "    </tr>\n",
       "    <tr>\n",
       "      <th>32</th>\n",
       "      <td>46.16</td>\n",
       "      <td>0.070249</td>\n",
       "    </tr>\n",
       "    <tr>\n",
       "      <th>33</th>\n",
       "      <td>47.80</td>\n",
       "      <td>0.071483</td>\n",
       "    </tr>\n",
       "    <tr>\n",
       "      <th>34</th>\n",
       "      <td>51.02</td>\n",
       "      <td>0.075996</td>\n",
       "    </tr>\n",
       "  </tbody>\n",
       "</table>\n",
       "</div>"
      ],
      "text/plain": [
       "     time  std. error\n",
       "0    0.07    0.011719\n",
       "1    1.41    0.015125\n",
       "2    3.38    0.018734\n",
       "3    4.16    0.022315\n",
       "4    4.56    0.024629\n",
       "5    6.10    0.026727\n",
       "6    6.23    0.029731\n",
       "7    6.30    0.031439\n",
       "8    6.39    0.033632\n",
       "9    6.82    0.035353\n",
       "10   6.92    0.037519\n",
       "11   7.05    0.039342\n",
       "12   7.25    0.040515\n",
       "13   8.98    0.040028\n",
       "14   9.77    0.040886\n",
       "15  10.82    0.042395\n",
       "16  11.02    0.043071\n",
       "17  11.57    0.044249\n",
       "18  14.00    0.044460\n",
       "19  14.62    0.045691\n",
       "20  16.43    0.046636\n",
       "21  16.92    0.047725\n",
       "22  19.90    0.048455\n",
       "23  20.69    0.050812\n",
       "24  22.03    0.053373\n",
       "25  25.02    0.054170\n",
       "26  29.70    0.055930\n",
       "27  31.15    0.057715\n",
       "28  31.25    0.059628\n",
       "29  33.41    0.060579\n",
       "30  35.93    0.062141\n",
       "31  39.54    0.064469\n",
       "32  46.16    0.070249\n",
       "33  47.80    0.071483\n",
       "34  51.02    0.075996"
      ]
     },
     "execution_count": 20,
     "metadata": {},
     "output_type": "execute_result"
    }
   ],
   "source": [
    "km.summary.table('a')[['time', 'std. error']]"
   ]
  },
  {
   "cell_type": "markdown",
   "id": "83ba1a17-4322-444e-a24d-678f1102e7af",
   "metadata": {},
   "source": [
    "Comparing the standard errors from the bootstrap in survive is very close to the standard errors generated by using the survive library in part a) to fit the model on our data.  "
   ]
  },
  {
   "cell_type": "markdown",
   "id": "0138226e-765d-42c3-a359-2b10009cf9c8",
   "metadata": {},
   "source": [
    "##### Using lifelines\n",
    "Unfortunately, lifelines doesn't have any built in way to estimate the standard error using the bootstrap.  Furthermore, it doesn't provide any easily accesible output of what the standard error is when fitting the model, unlike survive.  Because of this deficiency, although we perform the bootstrap process and estimate the standard errors that way, we won't have anything from the lifelines library used in part a) to compare it to."
   ]
  },
  {
   "cell_type": "code",
   "execution_count": 21,
   "id": "fd6f0d18-e0d7-464a-959b-b5ce6eb4abcb",
   "metadata": {},
   "outputs": [],
   "source": [
    "B = 200\n",
    "num_observations = brain_cancer_df.shape[0]\n",
    "\n",
    "idx = kmf.survival_function_.index\n",
    "bstrap_df = pd.DataFrame(data=[], index=idx)\n",
    "\n",
    "kmf_bootstrap = KaplanMeierFitter(alpha = two_tail_alpha)\n",
    "\n",
    "\n",
    "for i in range(B):\n",
    "    new_sample = brain_cancer_df.sample(n = num_observations,\n",
    "                                        replace = True,\n",
    "                                        random_state=i)\n",
    "    kmf_bootstrap.fit(new_sample['time'], new_sample['status'])\n",
    "    \n",
    "    survival_func = kmf_bootstrap.survival_function_\n",
    "    survival_func.rename(columns={\"KM_estimate\":F\"session_{i+1}\"}, inplace=True)\n",
    "    \n",
    "    \n",
    "    bstrap_df = bstrap_df.merge(survival_func, \n",
    "                                how='left', \n",
    "                                left_index=True,\n",
    "                                right_index=True)"
   ]
  },
  {
   "cell_type": "code",
   "execution_count": 22,
   "id": "4b187415-f38d-4c9a-84b8-c383c4a8d62b",
   "metadata": {},
   "outputs": [
    {
     "data": {
      "text/html": [
       "<div>\n",
       "<style scoped>\n",
       "    .dataframe tbody tr th:only-of-type {\n",
       "        vertical-align: middle;\n",
       "    }\n",
       "\n",
       "    .dataframe tbody tr th {\n",
       "        vertical-align: top;\n",
       "    }\n",
       "\n",
       "    .dataframe thead th {\n",
       "        text-align: right;\n",
       "    }\n",
       "</style>\n",
       "<table border=\"1\" class=\"dataframe\">\n",
       "  <thead>\n",
       "    <tr style=\"text-align: right;\">\n",
       "      <th></th>\n",
       "      <th>time</th>\n",
       "      <th>std_err</th>\n",
       "    </tr>\n",
       "  </thead>\n",
       "  <tbody>\n",
       "    <tr>\n",
       "      <th>0</th>\n",
       "      <td>0.00</td>\n",
       "      <td>0.000000</td>\n",
       "    </tr>\n",
       "    <tr>\n",
       "      <th>1</th>\n",
       "      <td>0.07</td>\n",
       "      <td>0.008796</td>\n",
       "    </tr>\n",
       "    <tr>\n",
       "      <th>2</th>\n",
       "      <td>1.18</td>\n",
       "      <td>0.010428</td>\n",
       "    </tr>\n",
       "    <tr>\n",
       "      <th>3</th>\n",
       "      <td>1.41</td>\n",
       "      <td>0.014635</td>\n",
       "    </tr>\n",
       "    <tr>\n",
       "      <th>4</th>\n",
       "      <td>1.54</td>\n",
       "      <td>0.016831</td>\n",
       "    </tr>\n",
       "    <tr>\n",
       "      <th>...</th>\n",
       "      <td>...</td>\n",
       "      <td>...</td>\n",
       "    </tr>\n",
       "    <tr>\n",
       "      <th>82</th>\n",
       "      <td>65.02</td>\n",
       "      <td>0.074959</td>\n",
       "    </tr>\n",
       "    <tr>\n",
       "      <th>83</th>\n",
       "      <td>67.38</td>\n",
       "      <td>0.073821</td>\n",
       "    </tr>\n",
       "    <tr>\n",
       "      <th>84</th>\n",
       "      <td>73.74</td>\n",
       "      <td>0.072977</td>\n",
       "    </tr>\n",
       "    <tr>\n",
       "      <th>85</th>\n",
       "      <td>78.75</td>\n",
       "      <td>0.073408</td>\n",
       "    </tr>\n",
       "    <tr>\n",
       "      <th>86</th>\n",
       "      <td>82.56</td>\n",
       "      <td>0.073893</td>\n",
       "    </tr>\n",
       "  </tbody>\n",
       "</table>\n",
       "<p>87 rows × 2 columns</p>\n",
       "</div>"
      ],
      "text/plain": [
       "     time   std_err\n",
       "0    0.00  0.000000\n",
       "1    0.07  0.008796\n",
       "2    1.18  0.010428\n",
       "3    1.41  0.014635\n",
       "4    1.54  0.016831\n",
       "..    ...       ...\n",
       "82  65.02  0.074959\n",
       "83  67.38  0.073821\n",
       "84  73.74  0.072977\n",
       "85  78.75  0.073408\n",
       "86  82.56  0.073893\n",
       "\n",
       "[87 rows x 2 columns]"
      ]
     },
     "execution_count": 22,
     "metadata": {},
     "output_type": "execute_result"
    }
   ],
   "source": [
    "standard_errors = np.array([])\n",
    "for i in range(bstrap_df.shape[0]):\n",
    "    squared_error = (bstrap_df.iloc[i] - bstrap_df.iloc[i].mean())**2\n",
    "    variance = (squared_error).mean()\n",
    "    standard_error = np.sqrt(variance)\n",
    "    standard_errors = np.append(standard_errors, standard_error)\n",
    "    \n",
    "errors_df = pd.DataFrame({'time':bstrap_df.index.values,\n",
    "                          'std_err':standard_errors})\n",
    "errors_df"
   ]
  },
  {
   "cell_type": "markdown",
   "id": "e31b02a7-775e-4fd8-a732-0785e5dd0c4a",
   "metadata": {},
   "source": [
    "#### 10c) Fit a Cox proportional hazards model that uses all of the predictors to predict survival.  Summarize the main findings.\n",
    "\n",
    "The `survive` library has no functionality for CoxPH models, however `lifelines` does and will be used to answer any questions relating to a CoxPH model."
   ]
  },
  {
   "cell_type": "code",
   "execution_count": 23,
   "id": "7820b551-6fa5-4993-ba67-930dfd98a1fe",
   "metadata": {},
   "outputs": [
    {
     "data": {
      "text/html": [
       "<div>\n",
       "<style scoped>\n",
       "    .dataframe tbody tr th:only-of-type {\n",
       "        vertical-align: middle;\n",
       "    }\n",
       "\n",
       "    .dataframe tbody tr th {\n",
       "        vertical-align: top;\n",
       "    }\n",
       "\n",
       "    .dataframe thead th {\n",
       "        text-align: right;\n",
       "    }\n",
       "</style>\n",
       "<table border=\"1\" class=\"dataframe\">\n",
       "  <tbody>\n",
       "    <tr>\n",
       "      <th>model</th>\n",
       "      <td>lifelines.CoxPHFitter</td>\n",
       "    </tr>\n",
       "    <tr>\n",
       "      <th>duration col</th>\n",
       "      <td>'time'</td>\n",
       "    </tr>\n",
       "    <tr>\n",
       "      <th>event col</th>\n",
       "      <td>'status'</td>\n",
       "    </tr>\n",
       "    <tr>\n",
       "      <th>baseline estimation</th>\n",
       "      <td>breslow</td>\n",
       "    </tr>\n",
       "    <tr>\n",
       "      <th>number of observations</th>\n",
       "      <td>87</td>\n",
       "    </tr>\n",
       "    <tr>\n",
       "      <th>number of events observed</th>\n",
       "      <td>35</td>\n",
       "    </tr>\n",
       "    <tr>\n",
       "      <th>partial log-likelihood</th>\n",
       "      <td>-116.75</td>\n",
       "    </tr>\n",
       "    <tr>\n",
       "      <th>time fit was run</th>\n",
       "      <td>2023-01-28 07:44:31 UTC</td>\n",
       "    </tr>\n",
       "  </tbody>\n",
       "</table>\n",
       "</div><table border=\"1\" class=\"dataframe\">\n",
       "  <thead>\n",
       "    <tr style=\"text-align: right;\">\n",
       "      <th style=\"min-width: 12px;\"></th>\n",
       "      <th style=\"min-width: 12px;\">coef</th>\n",
       "      <th style=\"min-width: 12px;\">exp(coef)</th>\n",
       "      <th style=\"min-width: 12px;\">se(coef)</th>\n",
       "      <th style=\"min-width: 12px;\">coef lower 95%</th>\n",
       "      <th style=\"min-width: 12px;\">coef upper 95%</th>\n",
       "      <th style=\"min-width: 12px;\">exp(coef) lower 95%</th>\n",
       "      <th style=\"min-width: 12px;\">exp(coef) upper 95%</th>\n",
       "      <th style=\"min-width: 12px;\">cmp to</th>\n",
       "      <th style=\"min-width: 12px;\">z</th>\n",
       "      <th style=\"min-width: 12px;\">p</th>\n",
       "      <th style=\"min-width: 12px;\">-log2(p)</th>\n",
       "    </tr>\n",
       "  </thead>\n",
       "  <tbody>\n",
       "    <tr>\n",
       "      <th>diagnosis[T.LG glioma]</th>\n",
       "      <td>-1.24</td>\n",
       "      <td>0.29</td>\n",
       "      <td>0.58</td>\n",
       "      <td>-2.38</td>\n",
       "      <td>-0.10</td>\n",
       "      <td>0.09</td>\n",
       "      <td>0.90</td>\n",
       "      <td>0.00</td>\n",
       "      <td>-2.14</td>\n",
       "      <td>0.03</td>\n",
       "      <td>4.95</td>\n",
       "    </tr>\n",
       "    <tr>\n",
       "      <th>diagnosis[T.Meningioma]</th>\n",
       "      <td>-2.15</td>\n",
       "      <td>0.12</td>\n",
       "      <td>0.45</td>\n",
       "      <td>-3.04</td>\n",
       "      <td>-1.27</td>\n",
       "      <td>0.05</td>\n",
       "      <td>0.28</td>\n",
       "      <td>0.00</td>\n",
       "      <td>-4.78</td>\n",
       "      <td>&lt;0.005</td>\n",
       "      <td>19.14</td>\n",
       "    </tr>\n",
       "    <tr>\n",
       "      <th>diagnosis[T.Other]</th>\n",
       "      <td>-1.27</td>\n",
       "      <td>0.28</td>\n",
       "      <td>0.62</td>\n",
       "      <td>-2.48</td>\n",
       "      <td>-0.06</td>\n",
       "      <td>0.08</td>\n",
       "      <td>0.94</td>\n",
       "      <td>0.00</td>\n",
       "      <td>-2.05</td>\n",
       "      <td>0.04</td>\n",
       "      <td>4.65</td>\n",
       "    </tr>\n",
       "    <tr>\n",
       "      <th>gtv</th>\n",
       "      <td>0.03</td>\n",
       "      <td>1.03</td>\n",
       "      <td>0.02</td>\n",
       "      <td>-0.01</td>\n",
       "      <td>0.08</td>\n",
       "      <td>0.99</td>\n",
       "      <td>1.08</td>\n",
       "      <td>0.00</td>\n",
       "      <td>1.54</td>\n",
       "      <td>0.12</td>\n",
       "      <td>3.00</td>\n",
       "    </tr>\n",
       "    <tr>\n",
       "      <th>ki</th>\n",
       "      <td>-0.05</td>\n",
       "      <td>0.95</td>\n",
       "      <td>0.02</td>\n",
       "      <td>-0.09</td>\n",
       "      <td>-0.02</td>\n",
       "      <td>0.91</td>\n",
       "      <td>0.98</td>\n",
       "      <td>0.00</td>\n",
       "      <td>-3.00</td>\n",
       "      <td>&lt;0.005</td>\n",
       "      <td>8.54</td>\n",
       "    </tr>\n",
       "    <tr>\n",
       "      <th>loc[T.Supratentorial]</th>\n",
       "      <td>0.44</td>\n",
       "      <td>1.55</td>\n",
       "      <td>0.70</td>\n",
       "      <td>-0.94</td>\n",
       "      <td>1.82</td>\n",
       "      <td>0.39</td>\n",
       "      <td>6.17</td>\n",
       "      <td>0.00</td>\n",
       "      <td>0.63</td>\n",
       "      <td>0.53</td>\n",
       "      <td>0.91</td>\n",
       "    </tr>\n",
       "    <tr>\n",
       "      <th>sex[T.Male]</th>\n",
       "      <td>0.18</td>\n",
       "      <td>1.20</td>\n",
       "      <td>0.36</td>\n",
       "      <td>-0.52</td>\n",
       "      <td>0.89</td>\n",
       "      <td>0.59</td>\n",
       "      <td>2.44</td>\n",
       "      <td>0.00</td>\n",
       "      <td>0.51</td>\n",
       "      <td>0.61</td>\n",
       "      <td>0.71</td>\n",
       "    </tr>\n",
       "    <tr>\n",
       "      <th>stereo[T.SRT]</th>\n",
       "      <td>0.18</td>\n",
       "      <td>1.19</td>\n",
       "      <td>0.60</td>\n",
       "      <td>-1.00</td>\n",
       "      <td>1.36</td>\n",
       "      <td>0.37</td>\n",
       "      <td>3.88</td>\n",
       "      <td>0.00</td>\n",
       "      <td>0.30</td>\n",
       "      <td>0.77</td>\n",
       "      <td>0.38</td>\n",
       "    </tr>\n",
       "  </tbody>\n",
       "</table><br><div>\n",
       "<style scoped>\n",
       "    .dataframe tbody tr th:only-of-type {\n",
       "        vertical-align: middle;\n",
       "    }\n",
       "\n",
       "    .dataframe tbody tr th {\n",
       "        vertical-align: top;\n",
       "    }\n",
       "\n",
       "    .dataframe thead th {\n",
       "        text-align: right;\n",
       "    }\n",
       "</style>\n",
       "<table border=\"1\" class=\"dataframe\">\n",
       "  <tbody>\n",
       "    <tr>\n",
       "      <th>Concordance</th>\n",
       "      <td>0.79</td>\n",
       "    </tr>\n",
       "    <tr>\n",
       "      <th>Partial AIC</th>\n",
       "      <td>249.50</td>\n",
       "    </tr>\n",
       "    <tr>\n",
       "      <th>log-likelihood ratio test</th>\n",
       "      <td>41.37 on 8 df</td>\n",
       "    </tr>\n",
       "    <tr>\n",
       "      <th>-log2(p) of ll-ratio test</th>\n",
       "      <td>19.10</td>\n",
       "    </tr>\n",
       "  </tbody>\n",
       "</table>\n",
       "</div>"
      ],
      "text/latex": [
       "\\begin{tabular}{lrrrrrrrrrrr}\n",
       " & coef & exp(coef) & se(coef) & coef lower 95% & coef upper 95% & exp(coef) lower 95% & exp(coef) upper 95% & cmp to & z & p & -log2(p) \\\\\n",
       "covariate &  &  &  &  &  &  &  &  &  &  &  \\\\\n",
       "diagnosis[T.LG glioma] & -1.24 & 0.29 & 0.58 & -2.38 & -0.10 & 0.09 & 0.90 & 0.00 & -2.14 & 0.03 & 4.95 \\\\\n",
       "diagnosis[T.Meningioma] & -2.15 & 0.12 & 0.45 & -3.04 & -1.27 & 0.05 & 0.28 & 0.00 & -4.78 & 0.00 & 19.14 \\\\\n",
       "diagnosis[T.Other] & -1.27 & 0.28 & 0.62 & -2.48 & -0.06 & 0.08 & 0.94 & 0.00 & -2.05 & 0.04 & 4.65 \\\\\n",
       "gtv & 0.03 & 1.03 & 0.02 & -0.01 & 0.08 & 0.99 & 1.08 & 0.00 & 1.54 & 0.12 & 3.00 \\\\\n",
       "ki & -0.05 & 0.95 & 0.02 & -0.09 & -0.02 & 0.91 & 0.98 & 0.00 & -3.00 & 0.00 & 8.54 \\\\\n",
       "loc[T.Supratentorial] & 0.44 & 1.55 & 0.70 & -0.94 & 1.82 & 0.39 & 6.17 & 0.00 & 0.63 & 0.53 & 0.91 \\\\\n",
       "sex[T.Male] & 0.18 & 1.20 & 0.36 & -0.52 & 0.89 & 0.59 & 2.44 & 0.00 & 0.51 & 0.61 & 0.71 \\\\\n",
       "stereo[T.SRT] & 0.18 & 1.19 & 0.60 & -1.00 & 1.36 & 0.37 & 3.88 & 0.00 & 0.30 & 0.77 & 0.38 \\\\\n",
       "\\end{tabular}\n"
      ],
      "text/plain": [
       "<lifelines.CoxPHFitter: fitted with 87 total observations, 52 right-censored observations>\n",
       "             duration col = 'time'\n",
       "                event col = 'status'\n",
       "      baseline estimation = breslow\n",
       "   number of observations = 87\n",
       "number of events observed = 35\n",
       "   partial log-likelihood = -116.75\n",
       "         time fit was run = 2023-01-28 07:44:31 UTC\n",
       "\n",
       "---\n",
       "                          coef  exp(coef)   se(coef)   coef lower 95%   coef upper 95%  exp(coef) lower 95%  exp(coef) upper 95%\n",
       "covariate                                                                                                                       \n",
       "diagnosis[T.LG glioma]   -1.24       0.29       0.58            -2.38            -0.10                 0.09                 0.90\n",
       "diagnosis[T.Meningioma]  -2.15       0.12       0.45            -3.04            -1.27                 0.05                 0.28\n",
       "diagnosis[T.Other]       -1.27       0.28       0.62            -2.48            -0.06                 0.08                 0.94\n",
       "gtv                       0.03       1.03       0.02            -0.01             0.08                 0.99                 1.08\n",
       "ki                       -0.05       0.95       0.02            -0.09            -0.02                 0.91                 0.98\n",
       "loc[T.Supratentorial]     0.44       1.55       0.70            -0.94             1.82                 0.39                 6.17\n",
       "sex[T.Male]               0.18       1.20       0.36            -0.52             0.89                 0.59                 2.44\n",
       "stereo[T.SRT]             0.18       1.19       0.60            -1.00             1.36                 0.37                 3.88\n",
       "\n",
       "                          cmp to     z      p   -log2(p)\n",
       "covariate                                               \n",
       "diagnosis[T.LG glioma]      0.00 -2.14   0.03       4.95\n",
       "diagnosis[T.Meningioma]     0.00 -4.78 <0.005      19.14\n",
       "diagnosis[T.Other]          0.00 -2.05   0.04       4.65\n",
       "gtv                         0.00  1.54   0.12       3.00\n",
       "ki                          0.00 -3.00 <0.005       8.54\n",
       "loc[T.Supratentorial]       0.00  0.63   0.53       0.91\n",
       "sex[T.Male]                 0.00  0.51   0.61       0.71\n",
       "stereo[T.SRT]               0.00  0.30   0.77       0.38\n",
       "---\n",
       "Concordance = 0.79\n",
       "Partial AIC = 249.50\n",
       "log-likelihood ratio test = 41.37 on 8 df\n",
       "-log2(p) of ll-ratio test = 19.10"
      ]
     },
     "metadata": {},
     "output_type": "display_data"
    }
   ],
   "source": [
    "cph_ll = CoxPHFitter()\n",
    "cph_ll_fit = cph_ll.fit(brain_cancer_df.dropna(), 'time', 'status', formula='sex + diagnosis + loc + ki + gtv + stereo')\n",
    "\n",
    "cph_ll_fit.print_summary()"
   ]
  },
  {
   "cell_type": "markdown",
   "id": "c33ee799-ca83-497c-afb4-231bd1343825",
   "metadata": {},
   "source": [
    "When reading the summary output, the interpretation changes based on whether the coefficient is for a qualitative or quantitative factor.  \n",
    "\n",
    "When looking at qualitative factors, the coefficient is how many times lower or greater the estimated hazard will be between a given level and the baseline level.  For instance, patients with a Diagnosis of T.Menigioma have an estimated hazard rate of $e^{-2.15}=0.12$ times lower than those of the baseline Diagnosis level HG Glioma.  \n",
    "\n",
    "For quantitative factors, the coefficient is how many times lower or greater the estimated hazard becomes when that factor is increased by one unit.  For instance, an increase of one unit of gtv produces an estimated hazard rate that is $e^{0.03}=1.03$ times higher than before.\n",
    "\n",
    "The summary indicates that Supratentorial, Male, and SRT produce the largest increases in the hazard rate, however none have p-values that are statistically significant.  Of the variables that are statistically significant at $\\alpha=0.05$, Diagnosis LG glioma, Diagnosis Meningioma, Diagnosis Other, and ki, all of their coefficients indicate they'll reduce the hazard rate, with Diagnosis meningioma producing the largest reduction."
   ]
  },
  {
   "cell_type": "markdown",
   "id": "cc7ef497-9666-4311-b7d0-fc9c9ce03faa",
   "metadata": {},
   "source": [
    "#### 10d) Stratify the data by the value of `ki`.  (Since only one observation has `ki=40`, you can group that observation together with the observations that have `ki=60`.) Plot the Kaplan-Meier survival curves for each of the five strata, adjusted for the other predictors."
   ]
  },
  {
   "cell_type": "code",
   "execution_count": 24,
   "id": "a94a62b3-ffd5-429b-a35d-b99f6d35d4ea",
   "metadata": {},
   "outputs": [
    {
     "data": {
      "text/plain": [
       "array([ 90,  70,  80, 100,  60,  40])"
      ]
     },
     "execution_count": 24,
     "metadata": {},
     "output_type": "execute_result"
    }
   ],
   "source": [
    "brain_cancer_df['ki'].unique()"
   ]
  },
  {
   "cell_type": "code",
   "execution_count": 25,
   "id": "56e78fc9-4e25-481d-b9e3-8f9caa5919df",
   "metadata": {},
   "outputs": [],
   "source": [
    "def ki_grouper(x):\n",
    "    if x in [40, 60]:\n",
    "        return 'A'\n",
    "    elif x == 70:\n",
    "        return 'B'\n",
    "    elif x == 80:\n",
    "        return 'C'\n",
    "    elif x == 90:\n",
    "        return 'D'\n",
    "    elif x == 100:\n",
    "        return 'E'"
   ]
  },
  {
   "cell_type": "code",
   "execution_count": 26,
   "id": "50c5ce94-2612-40c4-b8b5-f2318d7f6378",
   "metadata": {},
   "outputs": [
    {
     "data": {
      "text/plain": [
       "KaplanMeier(conf_level=0.95, conf_type='log-log', n_boot=500,\n",
       "            random_state=None, tie_break='discrete', var_type='greenwood')"
      ]
     },
     "execution_count": 26,
     "metadata": {},
     "output_type": "execute_result"
    }
   ],
   "source": [
    "brain_cancer_df['group'] = brain_cancer_df['ki'].apply(ki_grouper)\n",
    "\n",
    "surv_by_ki = survive.SurvivalData(time='time',\n",
    "                                  status='status', \n",
    "                                  group='group',\n",
    "                                  data=brain_cancer_df)\n",
    "km = survive.KaplanMeier()\n",
    "km.fit(surv_by_ki)"
   ]
  },
  {
   "cell_type": "code",
   "execution_count": 27,
   "id": "007fbeea-6e96-4b3a-9176-2905fc204615",
   "metadata": {},
   "outputs": [
    {
     "data": {
      "image/png": "[encoded data removed]",
      "text/plain": [
       "<Figure size 864x576 with 1 Axes>"
      ]
     },
     "metadata": {
      "needs_background": "light"
     },
     "output_type": "display_data"
    }
   ],
   "source": [
    "fig, ax = plt.subplots(1,1, figsize=(12,8))\n",
    "km.plot(ci=False, ax=ax);"
   ]
  },
  {
   "cell_type": "markdown",
   "id": "760713fe-e8a9-4ed8-8100-0187a47f98b4",
   "metadata": {},
   "source": [
    "## Exercise 11\n",
    "This example makes use of the data in Table 11.4\n",
    "\n",
    "![image](./images/tab_11_4.png)"
   ]
  },
  {
   "cell_type": "markdown",
   "id": "8f90a580-5311-448a-8ddb-af4959e6f5e0",
   "metadata": {},
   "source": [
    "#### 11a) Create two groups of observations.  In Group 1, $X < 2$, whereas in Group 2, $X \\geq 2$.  Plot the Kaplan-Meier survival curves corresponding to the two groups.  Be sure to label the curves so that it is clear which curve corresponds to which group.  By eye, does there appear to be a difference between the two groups' survival curves?"
   ]
  },
  {
   "cell_type": "code",
   "execution_count": 28,
   "id": "9d7ed583-22f4-4d81-9d48-ff2c1987c66f",
   "metadata": {},
   "outputs": [],
   "source": [
    "def grouper(x):\n",
    "    if x < 2:\n",
    "        return \"group 1\"\n",
    "    else:\n",
    "        return \"group 2\""
   ]
  },
  {
   "cell_type": "code",
   "execution_count": 29,
   "id": "379cae88-98d2-4205-a1e0-148deceff675",
   "metadata": {},
   "outputs": [],
   "source": [
    "ex_4_df['group'] = ex_4_df['cov_x'].apply(grouper)"
   ]
  },
  {
   "cell_type": "code",
   "execution_count": 30,
   "id": "730b2782-63ef-449c-9c81-3e2fd0a1c4ca",
   "metadata": {},
   "outputs": [
    {
     "data": {
      "text/html": [
       "<div>\n",
       "<style scoped>\n",
       "    .dataframe tbody tr th:only-of-type {\n",
       "        vertical-align: middle;\n",
       "    }\n",
       "\n",
       "    .dataframe tbody tr th {\n",
       "        vertical-align: top;\n",
       "    }\n",
       "\n",
       "    .dataframe thead th {\n",
       "        text-align: right;\n",
       "    }\n",
       "</style>\n",
       "<table border=\"1\" class=\"dataframe\">\n",
       "  <thead>\n",
       "    <tr style=\"text-align: right;\">\n",
       "      <th></th>\n",
       "      <th>obs_y</th>\n",
       "      <th>cens_indicator</th>\n",
       "      <th>cov_x</th>\n",
       "      <th>group</th>\n",
       "    </tr>\n",
       "  </thead>\n",
       "  <tbody>\n",
       "    <tr>\n",
       "      <th>0</th>\n",
       "      <td>20.2</td>\n",
       "      <td>0</td>\n",
       "      <td>1.8</td>\n",
       "      <td>group 1</td>\n",
       "    </tr>\n",
       "    <tr>\n",
       "      <th>1</th>\n",
       "      <td>26.5</td>\n",
       "      <td>1</td>\n",
       "      <td>0.1</td>\n",
       "      <td>group 1</td>\n",
       "    </tr>\n",
       "    <tr>\n",
       "      <th>2</th>\n",
       "      <td>37.2</td>\n",
       "      <td>1</td>\n",
       "      <td>11.0</td>\n",
       "      <td>group 2</td>\n",
       "    </tr>\n",
       "    <tr>\n",
       "      <th>3</th>\n",
       "      <td>57.3</td>\n",
       "      <td>1</td>\n",
       "      <td>-0.3</td>\n",
       "      <td>group 1</td>\n",
       "    </tr>\n",
       "    <tr>\n",
       "      <th>4</th>\n",
       "      <td>89.8</td>\n",
       "      <td>0</td>\n",
       "      <td>0.4</td>\n",
       "      <td>group 1</td>\n",
       "    </tr>\n",
       "    <tr>\n",
       "      <th>5</th>\n",
       "      <td>90.8</td>\n",
       "      <td>0</td>\n",
       "      <td>2.8</td>\n",
       "      <td>group 2</td>\n",
       "    </tr>\n",
       "  </tbody>\n",
       "</table>\n",
       "</div>"
      ],
      "text/plain": [
       "   obs_y  cens_indicator  cov_x    group\n",
       "0   20.2               0    1.8  group 1\n",
       "1   26.5               1    0.1  group 1\n",
       "2   37.2               1   11.0  group 2\n",
       "3   57.3               1   -0.3  group 1\n",
       "4   89.8               0    0.4  group 1\n",
       "5   90.8               0    2.8  group 2"
      ]
     },
     "execution_count": 30,
     "metadata": {},
     "output_type": "execute_result"
    }
   ],
   "source": [
    "ex_4_df"
   ]
  },
  {
   "cell_type": "code",
   "execution_count": 31,
   "id": "8592f9b0-e71f-4204-966e-16778694315e",
   "metadata": {},
   "outputs": [
    {
     "data": {
      "text/plain": [
       "KaplanMeier(conf_level=0.95, conf_type='log-log', n_boot=500,\n",
       "            random_state=None, tie_break='discrete', var_type='greenwood')"
      ]
     },
     "execution_count": 31,
     "metadata": {},
     "output_type": "execute_result"
    }
   ],
   "source": [
    "surv = survive.SurvivalData(time='obs_y',\n",
    "                            status='cens_indicator', \n",
    "                            group='group',\n",
    "                            data=ex_4_df)\n",
    "km = survive.KaplanMeier()\n",
    "km.fit(surv)"
   ]
  },
  {
   "cell_type": "code",
   "execution_count": 32,
   "id": "2cec57cd-8132-4d40-bfb3-11bdf464133f",
   "metadata": {},
   "outputs": [
    {
     "data": {
      "image/png": "[encoded data removed]",
      "text/plain": [
       "<Figure size 864x576 with 1 Axes>"
      ]
     },
     "metadata": {
      "needs_background": "light"
     },
     "output_type": "display_data"
    }
   ],
   "source": [
    "fig, ax = plt.subplots(1,1, figsize=(12,8))\n",
    "km.plot(ci=False, ax=ax);"
   ]
  },
  {
   "cell_type": "markdown",
   "id": "d0e383f4-0862-4c1f-8cc4-5a7c56619648",
   "metadata": {},
   "source": [
    "Visually, there isn't any indication that one group has better survival rates than the other and overall, any differences are minor.  We see that in the short run, group 2 has survival rates about 40% higher, until roughly 38 units of time.  At that point, group 1 has higher surival rates by about 15-20% until 55 units of time, when group 2 takes the lead again with about a 20% higher survival rate until the study is over."
   ]
  },
  {
   "cell_type": "markdown",
   "id": "3d1e0ab8-2973-47e8-85b9-de27c9c15beb",
   "metadata": {},
   "source": [
    "#### 11b) Fit Cox's proportional hazards model, using the group indicator as a covariate.  What is the estimated coefficient?  Write a sentence providing the interpretation of this coefficient, in terms of the hazard or the instantaneous probability of the event.  Is there evidence that the true coefficient value is non-zero?"
   ]
  },
  {
   "cell_type": "code",
   "execution_count": 33,
   "id": "9f39ac19-552f-495a-966b-f478c8d15f79",
   "metadata": {},
   "outputs": [
    {
     "data": {
      "text/html": [
       "<div>\n",
       "<style scoped>\n",
       "    .dataframe tbody tr th:only-of-type {\n",
       "        vertical-align: middle;\n",
       "    }\n",
       "\n",
       "    .dataframe tbody tr th {\n",
       "        vertical-align: top;\n",
       "    }\n",
       "\n",
       "    .dataframe thead th {\n",
       "        text-align: right;\n",
       "    }\n",
       "</style>\n",
       "<table border=\"1\" class=\"dataframe\">\n",
       "  <tbody>\n",
       "    <tr>\n",
       "      <th>model</th>\n",
       "      <td>lifelines.CoxPHFitter</td>\n",
       "    </tr>\n",
       "    <tr>\n",
       "      <th>duration col</th>\n",
       "      <td>'obs_y'</td>\n",
       "    </tr>\n",
       "    <tr>\n",
       "      <th>event col</th>\n",
       "      <td>'cens_indicator'</td>\n",
       "    </tr>\n",
       "    <tr>\n",
       "      <th>baseline estimation</th>\n",
       "      <td>breslow</td>\n",
       "    </tr>\n",
       "    <tr>\n",
       "      <th>number of observations</th>\n",
       "      <td>6</td>\n",
       "    </tr>\n",
       "    <tr>\n",
       "      <th>number of events observed</th>\n",
       "      <td>3</td>\n",
       "    </tr>\n",
       "    <tr>\n",
       "      <th>partial log-likelihood</th>\n",
       "      <td>-4.06</td>\n",
       "    </tr>\n",
       "    <tr>\n",
       "      <th>time fit was run</th>\n",
       "      <td>2023-01-28 07:44:32 UTC</td>\n",
       "    </tr>\n",
       "  </tbody>\n",
       "</table>\n",
       "</div><table border=\"1\" class=\"dataframe\">\n",
       "  <thead>\n",
       "    <tr style=\"text-align: right;\">\n",
       "      <th style=\"min-width: 12px;\"></th>\n",
       "      <th style=\"min-width: 12px;\">coef</th>\n",
       "      <th style=\"min-width: 12px;\">exp(coef)</th>\n",
       "      <th style=\"min-width: 12px;\">se(coef)</th>\n",
       "      <th style=\"min-width: 12px;\">coef lower 95%</th>\n",
       "      <th style=\"min-width: 12px;\">coef upper 95%</th>\n",
       "      <th style=\"min-width: 12px;\">exp(coef) lower 95%</th>\n",
       "      <th style=\"min-width: 12px;\">exp(coef) upper 95%</th>\n",
       "      <th style=\"min-width: 12px;\">cmp to</th>\n",
       "      <th style=\"min-width: 12px;\">z</th>\n",
       "      <th style=\"min-width: 12px;\">p</th>\n",
       "      <th style=\"min-width: 12px;\">-log2(p)</th>\n",
       "    </tr>\n",
       "  </thead>\n",
       "  <tbody>\n",
       "    <tr>\n",
       "      <th>group[T.group 2]</th>\n",
       "      <td>-0.34</td>\n",
       "      <td>0.71</td>\n",
       "      <td>1.24</td>\n",
       "      <td>-2.76</td>\n",
       "      <td>2.08</td>\n",
       "      <td>0.06</td>\n",
       "      <td>8.02</td>\n",
       "      <td>0.00</td>\n",
       "      <td>-0.28</td>\n",
       "      <td>0.78</td>\n",
       "      <td>0.35</td>\n",
       "    </tr>\n",
       "  </tbody>\n",
       "</table><br><div>\n",
       "<style scoped>\n",
       "    .dataframe tbody tr th:only-of-type {\n",
       "        vertical-align: middle;\n",
       "    }\n",
       "\n",
       "    .dataframe tbody tr th {\n",
       "        vertical-align: top;\n",
       "    }\n",
       "\n",
       "    .dataframe thead th {\n",
       "        text-align: right;\n",
       "    }\n",
       "</style>\n",
       "<table border=\"1\" class=\"dataframe\">\n",
       "  <tbody>\n",
       "    <tr>\n",
       "      <th>Concordance</th>\n",
       "      <td>0.56</td>\n",
       "    </tr>\n",
       "    <tr>\n",
       "      <th>Partial AIC</th>\n",
       "      <td>10.11</td>\n",
       "    </tr>\n",
       "    <tr>\n",
       "      <th>log-likelihood ratio test</th>\n",
       "      <td>0.08 on 1 df</td>\n",
       "    </tr>\n",
       "    <tr>\n",
       "      <th>-log2(p) of ll-ratio test</th>\n",
       "      <td>0.36</td>\n",
       "    </tr>\n",
       "  </tbody>\n",
       "</table>\n",
       "</div>"
      ],
      "text/latex": [
       "\\begin{tabular}{lrrrrrrrrrrr}\n",
       " & coef & exp(coef) & se(coef) & coef lower 95% & coef upper 95% & exp(coef) lower 95% & exp(coef) upper 95% & cmp to & z & p & -log2(p) \\\\\n",
       "covariate &  &  &  &  &  &  &  &  &  &  &  \\\\\n",
       "group[T.group 2] & -0.34 & 0.71 & 1.24 & -2.76 & 2.08 & 0.06 & 8.02 & 0.00 & -0.28 & 0.78 & 0.35 \\\\\n",
       "\\end{tabular}\n"
      ],
      "text/plain": [
       "<lifelines.CoxPHFitter: fitted with 6 total observations, 3 right-censored observations>\n",
       "             duration col = 'obs_y'\n",
       "                event col = 'cens_indicator'\n",
       "      baseline estimation = breslow\n",
       "   number of observations = 6\n",
       "number of events observed = 3\n",
       "   partial log-likelihood = -4.06\n",
       "         time fit was run = 2023-01-28 07:44:32 UTC\n",
       "\n",
       "---\n",
       "                   coef  exp(coef)   se(coef)   coef lower 95%   coef upper 95%  exp(coef) lower 95%  exp(coef) upper 95%\n",
       "covariate                                                                                                                \n",
       "group[T.group 2]  -0.34       0.71       1.24            -2.76             2.08                 0.06                 8.02\n",
       "\n",
       "                   cmp to     z    p   -log2(p)\n",
       "covariate                                      \n",
       "group[T.group 2]     0.00 -0.28 0.78       0.35\n",
       "---\n",
       "Concordance = 0.56\n",
       "Partial AIC = 10.11\n",
       "log-likelihood ratio test = 0.08 on 1 df\n",
       "-log2(p) of ll-ratio test = 0.36"
      ]
     },
     "metadata": {},
     "output_type": "display_data"
    }
   ],
   "source": [
    "cph_ll = CoxPHFitter()\n",
    "cph_ll_fit = cph_ll.fit(ex_4_df, 'obs_y', 'cens_indicator', formula='group')\n",
    "\n",
    "cph_ll_fit.print_summary()"
   ]
  },
  {
   "cell_type": "markdown",
   "id": "2286fa09-7d0e-4fea-a611-8c9dd491bcb8",
   "metadata": {},
   "source": [
    "The estimated coefficient is -0.34 for group 2, which means that the risk for those in group 2 is $\\approx 0.71 \\text{ times (i.e. } e^{-0.34})$ the risk for those in the baseline group (group 1).  Because the p-value is so high $(p=0.78)$, there isn't sufficient evidence to conclude that the true coefficient value is non-zero, indicating no difference in risk between the two groups."
   ]
  },
  {
   "cell_type": "markdown",
   "id": "7a6039ba-6057-4dc8-9d50-cb0f1d228650",
   "metadata": {},
   "source": [
    "#### 11c) Recall from Section 11.5.2 that in the case of a single binary covariate, the log-rank test statistic should be identical to the score statistic from the Cox model.  Conduct a log-rank test to determine whether there is a difference between the survival curves for the two groups.  How does the *p*-value for the log-rank test statistic compare to the *p*-value for the score statistic for the Cox model from (b)?\n",
    "\n",
    "`survive` also didn't have any way to perform a log-rank test, but `lifelines` did."
   ]
  },
  {
   "cell_type": "code",
   "execution_count": 34,
   "id": "adaf6943-0de7-471f-b824-9b33bff04189",
   "metadata": {},
   "outputs": [
    {
     "data": {
      "text/html": [
       "<div>\n",
       "<style scoped>\n",
       "    .dataframe tbody tr th:only-of-type {\n",
       "        vertical-align: middle;\n",
       "    }\n",
       "\n",
       "    .dataframe tbody tr th {\n",
       "        vertical-align: top;\n",
       "    }\n",
       "\n",
       "    .dataframe thead th {\n",
       "        text-align: right;\n",
       "    }\n",
       "</style>\n",
       "<table border=\"1\" class=\"dataframe\">\n",
       "  <tbody>\n",
       "    <tr>\n",
       "      <th>t_0</th>\n",
       "      <td>-1</td>\n",
       "    </tr>\n",
       "    <tr>\n",
       "      <th>null_distribution</th>\n",
       "      <td>chi squared</td>\n",
       "    </tr>\n",
       "    <tr>\n",
       "      <th>degrees_of_freedom</th>\n",
       "      <td>1</td>\n",
       "    </tr>\n",
       "    <tr>\n",
       "      <th>test_name</th>\n",
       "      <td>logrank_test</td>\n",
       "    </tr>\n",
       "  </tbody>\n",
       "</table>\n",
       "</div><table border=\"1\" class=\"dataframe\">\n",
       "  <thead>\n",
       "    <tr style=\"text-align: right;\">\n",
       "      <th></th>\n",
       "      <th>test_statistic</th>\n",
       "      <th>p</th>\n",
       "      <th>-log2(p)</th>\n",
       "    </tr>\n",
       "  </thead>\n",
       "  <tbody>\n",
       "    <tr>\n",
       "      <th>0</th>\n",
       "      <td>0.08</td>\n",
       "      <td>0.78</td>\n",
       "      <td>0.35</td>\n",
       "    </tr>\n",
       "  </tbody>\n",
       "</table>"
      ],
      "text/latex": [
       "\\begin{tabular}{lrrr}\n",
       " & test_statistic & p & -log2(p) \\\\\n",
       "0 & 0.08 & 0.78 & 0.35 \\\\\n",
       "\\end{tabular}\n"
      ],
      "text/plain": [
       "<lifelines.StatisticalResult: logrank_test>\n",
       "               t_0 = -1\n",
       " null_distribution = chi squared\n",
       "degrees_of_freedom = 1\n",
       "         test_name = logrank_test\n",
       "\n",
       "---\n",
       " test_statistic    p  -log2(p)\n",
       "           0.08 0.78      0.35"
      ]
     },
     "metadata": {},
     "output_type": "display_data"
    }
   ],
   "source": [
    "group_1 = (ex_4_df['group'] == 'group 1')\n",
    "group_2 = (ex_4_df['group'] == 'group 2')\n",
    "\n",
    "results = logrank_test(ex_4_df['obs_y'][group_1], \n",
    "                       ex_4_df['obs_y'][group_2],\n",
    "                       event_observed_A=ex_4_df['cens_indicator'][group_1],\n",
    "                       event_observed_B=ex_4_df['cens_indicator'][group_2]\n",
    "                      )\n",
    "\n",
    "results.print_summary()"
   ]
  },
  {
   "cell_type": "markdown",
   "id": "4f621c3f-8813-4689-9665-6a7bf7ff1fc6",
   "metadata": {},
   "source": [
    "As expected, the test statistic from the log-rank test (0.08) is the same as the log-likelihood ratio test score from the Cox model.  Furthermore, the *p*-value from the log-rank test (0.78) is the same as the *p*-value for the coefficient from the Cox model."
   ]
  },
  {
   "cell_type": "markdown",
   "id": "f3dc7eca-c73e-4025-924f-fb836306b9b0",
   "metadata": {},
   "source": [
    "The End"
   ]
  }
 ],
 "metadata": {
  "jupytext": {
   "formats": "ipynb,py:percent"
  },
  "kernelspec": {
   "display_name": "Python 3 (ipykernel)",
   "language": "python",
   "name": "python3"
  },
  "language_info": {
   "codemirror_mode": {
    "name": "ipython",
    "version": 3
   },
   "file_extension": ".py",
   "mimetype": "text/x-python",
   "name": "python",
   "nbconvert_exporter": "python",
   "pygments_lexer": "ipython3",
   "version": "3.11.3"
  }
 },
 "nbformat": 4,
 "nbformat_minor": 5
}
