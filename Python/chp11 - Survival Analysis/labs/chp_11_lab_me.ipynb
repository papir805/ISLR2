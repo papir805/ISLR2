{
 "cells": [
  {
   "cell_type": "markdown",
   "id": "ac130df2-2b14-48af-8102-1e6151f766d1",
   "metadata": {},
   "source": [
    "# 11.8 Lab: Survival Analysis"
   ]
  },
  {
   "cell_type": "code",
   "execution_count": 1,
   "id": "90441e3d-ad8f-475b-a0c4-27c6153fd142",
   "metadata": {},
   "outputs": [],
   "source": [
    "import numpy as np\n",
    "import pandas as pd\n",
    "import matplotlib.pyplot as plt\n",
    "\n",
    "import rpy2.robjects as robjects\n",
    "from rpy2.robjects.conversion import localconverter\n",
    "from rpy2.robjects import pandas2ri\n",
    "\n",
    "from lifelines import KaplanMeierFitter, CoxPHFitter\n",
    "from lifelines.statistics import logrank_test\n",
    "\n",
    "import survive\n",
    "\n",
    "from sksurv.compare import compare_survival\n",
    "import sksurv\n",
    "\n",
    "%load_ext rpy2.ipython"
   ]
  },
  {
   "cell_type": "markdown",
   "id": "c9eb0e04-9267-4a8d-ba72-dbb414464e02",
   "metadata": {},
   "source": [
    "## 11.8.1 Brain Cancer Data"
   ]
  },
  {
   "cell_type": "code",
   "execution_count": 2,
   "id": "51684cee-ce36-4ce7-9bba-3fdbc14c9b28",
   "metadata": {},
   "outputs": [
    {
     "name": "stdout",
     "output_type": "stream",
     "text": [
      "[1] \"sex\"       \"diagnosis\" \"loc\"       \"ki\"        \"gtv\"       \"stereo\"   \n",
      "[7] \"status\"    \"time\"     \n"
     ]
    }
   ],
   "source": [
    "%%R\n",
    "library(ISLR2)\n",
    "names(BrainCancer)"
   ]
  },
  {
   "cell_type": "code",
   "execution_count": 3,
   "id": "9604b663-d06e-45f8-8bc4-8bc4c5b82028",
   "metadata": {},
   "outputs": [
    {
     "data": {
      "text/plain": [
       "['sex', 'diagnosis', 'loc', 'ki', 'gtv', 'stereo', 'status', 'time']"
      ]
     },
     "execution_count": 3,
     "metadata": {},
     "output_type": "execute_result"
    }
   ],
   "source": [
    "data = robjects.r(\"\"\"\n",
    "library(ISLR2)\n",
    "xdata <- BrainCancer\n",
    "\"\"\")\n",
    "with localconverter(robjects.default_converter + pandas2ri.converter):\n",
    "    brain_cancer_df = robjects.conversion.rpy2py(data)\n",
    "    \n",
    "brain_cancer_df.columns.values.tolist()"
   ]
  },
  {
   "cell_type": "code",
   "execution_count": 4,
   "id": "114d82a4-6ddf-4973-a148-972753de0099",
   "metadata": {},
   "outputs": [
    {
     "name": "stdout",
     "output_type": "stream",
     "text": [
      "sex\n",
      "Female   Male \n",
      "    45     43 \n"
     ]
    }
   ],
   "source": [
    "%%R\n",
    "attach(BrainCancer)\n",
    "table(sex)"
   ]
  },
  {
   "cell_type": "code",
   "execution_count": 5,
   "id": "701bf2ba-838b-4a7a-91f6-2b43bf3ef6d8",
   "metadata": {},
   "outputs": [
    {
     "data": {
      "text/html": [
       "<div>\n",
       "<style scoped>\n",
       "    .dataframe tbody tr th:only-of-type {\n",
       "        vertical-align: middle;\n",
       "    }\n",
       "\n",
       "    .dataframe tbody tr th {\n",
       "        vertical-align: top;\n",
       "    }\n",
       "\n",
       "    .dataframe thead th {\n",
       "        text-align: right;\n",
       "    }\n",
       "</style>\n",
       "<table border=\"1\" class=\"dataframe\">\n",
       "  <thead>\n",
       "    <tr style=\"text-align: right;\">\n",
       "      <th></th>\n",
       "      <th>Female</th>\n",
       "      <th>Male</th>\n",
       "    </tr>\n",
       "  </thead>\n",
       "  <tbody>\n",
       "    <tr>\n",
       "      <th>sex</th>\n",
       "      <td>45</td>\n",
       "      <td>43</td>\n",
       "    </tr>\n",
       "  </tbody>\n",
       "</table>\n",
       "</div>"
      ],
      "text/plain": [
       "     Female  Male\n",
       "sex      45    43"
      ]
     },
     "execution_count": 5,
     "metadata": {},
     "output_type": "execute_result"
    }
   ],
   "source": [
    "brain_cancer_df['sex'].value_counts().to_frame().T"
   ]
  },
  {
   "cell_type": "code",
   "execution_count": 6,
   "id": "7e25e37e-9a8d-4251-9565-640057459323",
   "metadata": {},
   "outputs": [
    {
     "name": "stdout",
     "output_type": "stream",
     "text": [
      "diagnosis\n",
      "Meningioma  LG glioma  HG glioma      Other \n",
      "        42          9         22         14 \n"
     ]
    }
   ],
   "source": [
    "%%R\n",
    "table(diagnosis)"
   ]
  },
  {
   "cell_type": "code",
   "execution_count": 7,
   "id": "bd3ce198-e3de-42e5-81ba-5003914e88cd",
   "metadata": {},
   "outputs": [
    {
     "data": {
      "text/html": [
       "<div>\n",
       "<style scoped>\n",
       "    .dataframe tbody tr th:only-of-type {\n",
       "        vertical-align: middle;\n",
       "    }\n",
       "\n",
       "    .dataframe tbody tr th {\n",
       "        vertical-align: top;\n",
       "    }\n",
       "\n",
       "    .dataframe thead th {\n",
       "        text-align: right;\n",
       "    }\n",
       "</style>\n",
       "<table border=\"1\" class=\"dataframe\">\n",
       "  <thead>\n",
       "    <tr style=\"text-align: right;\">\n",
       "      <th></th>\n",
       "      <th>Meningioma</th>\n",
       "      <th>LG glioma</th>\n",
       "      <th>HG glioma</th>\n",
       "      <th>Other</th>\n",
       "    </tr>\n",
       "  </thead>\n",
       "  <tbody>\n",
       "    <tr>\n",
       "      <th>diagnosis</th>\n",
       "      <td>42</td>\n",
       "      <td>9</td>\n",
       "      <td>22</td>\n",
       "      <td>14</td>\n",
       "    </tr>\n",
       "  </tbody>\n",
       "</table>\n",
       "</div>"
      ],
      "text/plain": [
       "           Meningioma  LG glioma  HG glioma  Other\n",
       "diagnosis          42          9         22     14"
      ]
     },
     "execution_count": 7,
     "metadata": {},
     "output_type": "execute_result"
    }
   ],
   "source": [
    "brain_cancer_df['diagnosis'].value_counts().sort_index().to_frame().T"
   ]
  },
  {
   "cell_type": "code",
   "execution_count": 8,
   "id": "adee05ad-6ce2-4cd5-aac1-bdb2262da73f",
   "metadata": {},
   "outputs": [
    {
     "name": "stdout",
     "output_type": "stream",
     "text": [
      "status\n",
      " 0  1 \n",
      "53 35 \n"
     ]
    }
   ],
   "source": [
    "%%R\n",
    "table(status)"
   ]
  },
  {
   "cell_type": "code",
   "execution_count": 9,
   "id": "619d0c1e-b62c-4156-88f3-cd34111af085",
   "metadata": {},
   "outputs": [
    {
     "data": {
      "text/html": [
       "<div>\n",
       "<style scoped>\n",
       "    .dataframe tbody tr th:only-of-type {\n",
       "        vertical-align: middle;\n",
       "    }\n",
       "\n",
       "    .dataframe tbody tr th {\n",
       "        vertical-align: top;\n",
       "    }\n",
       "\n",
       "    .dataframe thead th {\n",
       "        text-align: right;\n",
       "    }\n",
       "</style>\n",
       "<table border=\"1\" class=\"dataframe\">\n",
       "  <thead>\n",
       "    <tr style=\"text-align: right;\">\n",
       "      <th></th>\n",
       "      <th>0</th>\n",
       "      <th>1</th>\n",
       "    </tr>\n",
       "  </thead>\n",
       "  <tbody>\n",
       "    <tr>\n",
       "      <th>status</th>\n",
       "      <td>53</td>\n",
       "      <td>35</td>\n",
       "    </tr>\n",
       "  </tbody>\n",
       "</table>\n",
       "</div>"
      ],
      "text/plain": [
       "         0   1\n",
       "status  53  35"
      ]
     },
     "execution_count": 9,
     "metadata": {},
     "output_type": "execute_result"
    }
   ],
   "source": [
    "brain_cancer_df['status'].value_counts().to_frame().T"
   ]
  },
  {
   "cell_type": "markdown",
   "id": "485078d9-5d1a-4b84-8f04-34b500fcfdea",
   "metadata": {},
   "source": [
    "### Kaplan Meier Survival Curve"
   ]
  },
  {
   "cell_type": "code",
   "execution_count": 10,
   "id": "9800dec6-bfd3-4f61-b002-8e5ee738ad90",
   "metadata": {},
   "outputs": [
    {
     "data": {
      "image/png": "[encoded data removed]"
     },
     "metadata": {},
     "output_type": "display_data"
    }
   ],
   "source": [
    "%%R\n",
    "library(survival)\n",
    "fit.surv <- survfit(Surv(time, status) ~ 1)\n",
    "plot(fit.surv, xlab = 'Months',\n",
    "    ylab = 'Estimated Probability of Survival')"
   ]
  },
  {
   "cell_type": "markdown",
   "id": "d28261d8-fda7-40f5-beb2-a7595d6d1d83",
   "metadata": {},
   "source": [
    "#### Different Python Libraries\n",
    "In Python, there are several libraries that can replicate parts of what R does in this lab, however I was unable to find any single library that did *all* of the things that R did.  The closest to an exact match was the `lifelines` library, as it could fit both KaplanMeier and CoxPH models, however there were a few areas that it fell short.\n",
    "\n",
    "Another Python library, `survive`, could only fit KaplanMeier models, but the use of this library felt very similar to that of R.  For instance, there is a `survive.SurvivalData()` object that one can create based on time and status information from your dataset, which behaves in exactly the same way as the `Surv()` function in R.  After creating the object containing the survival data in R or Python, you then fit the model to that data.\n",
    "\n",
    "Lastly, there's a Python library I didn't explore as much as the other two called `scikit-survival`.  This library was able to mimic the behavior of R's `survdiff()` function where `lifelines` and `survive` could not."
   ]
  },
  {
   "cell_type": "markdown",
   "id": "d611b6bc-b158-4c3b-814d-5fbaab93ff6c",
   "metadata": {},
   "source": [
    "##### Using Lifelines"
   ]
  },
  {
   "cell_type": "code",
   "execution_count": 11,
   "id": "a26cd648-21eb-4ba0-9dbd-c2b768f3fc1a",
   "metadata": {},
   "outputs": [
    {
     "data": {
      "image/png": "[encoded data removed]",
      "text/plain": [
       "<Figure size 576x432 with 1 Axes>"
      ]
     },
     "metadata": {
      "needs_background": "light"
     },
     "output_type": "display_data"
    }
   ],
   "source": [
    "kmf_ll = KaplanMeierFitter()\n",
    "kmf_ll.fit(durations=brain_cancer_df['time'], event_observed=brain_cancer_df['status'])\n",
    "\n",
    "fig, ax = plt.subplots(1,1, figsize=(8,6))\n",
    "\n",
    "kmf_ll.plot_survival_function()\n",
    "plt.xlabel('Months')\n",
    "plt.yticks(np.arange(0, 1.1, 0.2))\n",
    "plt.ylabel('Estimated Probability of Survival')\n",
    "ax.get_legend().remove();"
   ]
  },
  {
   "cell_type": "markdown",
   "id": "a6de4520-5c0a-4736-a610-9671324e8235",
   "metadata": {},
   "source": [
    "By default, `lifelines` represents the uncertainty of the estimate using shading on the graph to represent the confidence interval for each timepoint, which is different than in R.  By tinkering with `matplotlib` some, this can be overcome, but would be overkill and unncessary."
   ]
  },
  {
   "cell_type": "markdown",
   "id": "1ea5d305-6210-4f4d-a6f1-26a58c57bb2b",
   "metadata": {},
   "source": [
    "##### Using Survive"
   ]
  },
  {
   "cell_type": "code",
   "execution_count": 12,
   "id": "305ec8ee-d2be-4244-a54e-19bf2a5b55cf",
   "metadata": {},
   "outputs": [
    {
     "data": {
      "image/png": "[encoded data removed]",
      "text/plain": [
       "<Figure size 576x432 with 1 Axes>"
      ]
     },
     "metadata": {
      "needs_background": "light"
     },
     "output_type": "display_data"
    }
   ],
   "source": [
    "brain_cancer_df['status'] = np.float64(brain_cancer_df['status'])\n",
    "\n",
    "kmf_surv = survive.KaplanMeier()\n",
    "\n",
    "surv_data = survive.SurvivalData(time=brain_cancer_df['time'], status=brain_cancer_df['status'])\n",
    "\n",
    "kmf_surv_fit = kmf_surv.fit(surv_data)\n",
    "\n",
    "fig, ax = plt.subplots(1,1, figsize=(8,6))\n",
    "\n",
    "kmf_surv_fit.plot(ci_style='lines', ax=ax)\n",
    "plt.xlabel('Months')\n",
    "plt.ylabel('Estimated Probability of Survival');"
   ]
  },
  {
   "cell_type": "markdown",
   "id": "b1c2ce92-778d-4345-878d-b28973e601f4",
   "metadata": {},
   "source": [
    "`survive` represents the confidence intervals using dashed lines as opposed to the shading of `lifelines`.  By default, the curve also shows vertical bars representing censoring events, something that R doesn't do."
   ]
  },
  {
   "cell_type": "markdown",
   "id": "31e7beb5-ac83-412d-a31e-68c806ab9849",
   "metadata": {},
   "source": [
    "#### By Gender"
   ]
  },
  {
   "cell_type": "code",
   "execution_count": 13,
   "id": "816e137d-80fa-44c6-b61c-da7e9b5cb312",
   "metadata": {},
   "outputs": [
    {
     "data": {
      "image/png": "[encoded data removed]"
     },
     "metadata": {},
     "output_type": "display_data"
    }
   ],
   "source": [
    "%%R\n",
    "fit.sex <- survfit(Surv(time, status) ~ sex)\n",
    "plot(fit.sex, xlab = 'Months',\n",
    "    ylab = 'Estimated Probability of Survival', col = c(2,4))\n",
    "legend('bottomleft', levels(sex), col = c(2,4), lty = 1)"
   ]
  },
  {
   "cell_type": "markdown",
   "id": "6ee88ec6-4a66-4213-ab13-15a30fe19187",
   "metadata": {},
   "source": [
    "##### Using Lifelines"
   ]
  },
  {
   "cell_type": "code",
   "execution_count": 14,
   "id": "ef9bebd5-e50f-4ed8-91d6-1b5566834375",
   "metadata": {},
   "outputs": [
    {
     "data": {
      "image/png": "[encoded data removed]",
      "text/plain": [
       "<Figure size 576x432 with 1 Axes>"
      ]
     },
     "metadata": {
      "needs_background": "light"
     },
     "output_type": "display_data"
    }
   ],
   "source": [
    "fig, ax = plt.subplots(1,1, figsize=(8,6))\n",
    "\n",
    "male = (brain_cancer_df['sex'] == 'Male')\n",
    "female = (brain_cancer_df['sex'] == 'Female')\n",
    "\n",
    "kmf_ll.fit(brain_cancer_df['time'][male], event_observed=brain_cancer_df['status'][male], label='Male')\n",
    "kmf_ll.survival_function_.plot(ax=ax)\n",
    "\n",
    "kmf_ll.fit(brain_cancer_df['time'][female], event_observed=brain_cancer_df['status'][female], label='Female')\n",
    "kmf_ll.survival_function_.plot(ax=ax)\n",
    "\n",
    "plt.xlabel('Months')\n",
    "plt.yticks(np.arange(0, 1.1, 0.2))\n",
    "plt.ylabel('Estimated Probability of Survival');"
   ]
  },
  {
   "cell_type": "markdown",
   "id": "2fd574c2-d641-4e70-86d8-b5dbc6d912b3",
   "metadata": {},
   "source": [
    "With `lifelines` it's also possible to plot the survival curve for different levels of a predictor, such as gender in this case, and without any shading representing the confidence intervals.  Unfortunately, `lifelines` won't automatically generate a plot for each level of the predictor.  Instead, we have to partition the dataset by level, fit the model once for each partition of the data, and then plot the survival curve on a shared axis."
   ]
  },
  {
   "cell_type": "markdown",
   "id": "dc9e2949-1920-42e8-857d-6d26dfda5635",
   "metadata": {},
   "source": [
    "##### Using Survive"
   ]
  },
  {
   "cell_type": "code",
   "execution_count": 15,
   "id": "9410f23f-ec23-4939-832a-d7171335e520",
   "metadata": {},
   "outputs": [
    {
     "data": {
      "image/png": "[encoded data removed]",
      "text/plain": [
       "<Figure size 576x432 with 1 Axes>"
      ]
     },
     "metadata": {
      "needs_background": "light"
     },
     "output_type": "display_data"
    }
   ],
   "source": [
    "brain_cancer_df['status'] = np.float64(brain_cancer_df['status'])\n",
    "\n",
    "kmf_surv = survive.KaplanMeier()\n",
    "\n",
    "surv_data = survive.SurvivalData(time='time', status='status', group='sex', data=brain_cancer_df)\n",
    "\n",
    "kmf_surv_fit = kmf_surv.fit(surv_data)\n",
    "\n",
    "fig, ax = plt.subplots(1,1, figsize=(8,6))\n",
    "\n",
    "kmf_surv.plot(ax=ax, ci=False)\n",
    "\n",
    "plt.xlabel('Months')\n",
    "plt.yticks(np.arange(0, 1.1, 0.2))\n",
    "plt.ylabel('Estimated Probability of Survival');"
   ]
  },
  {
   "cell_type": "markdown",
   "id": "c083db39-6da4-42c8-9734-88489aca35c2",
   "metadata": {},
   "source": [
    "`survive` is a little easier to use when plotting a survival curve based on different levels of a predictor, as one can specify the `group=` parameter and it will automatically fit a different survival curve and plot it for each level of the predictor."
   ]
  },
  {
   "cell_type": "markdown",
   "id": "6d326f16-28a5-4c6f-80f1-7532a970a7d5",
   "metadata": {},
   "source": [
    "### Log-Rank Test"
   ]
  },
  {
   "cell_type": "code",
   "execution_count": 16,
   "id": "a1467df9-8ef1-4632-a777-dbbe5f55e565",
   "metadata": {},
   "outputs": [
    {
     "name": "stdout",
     "output_type": "stream",
     "text": [
      "Call:\n",
      "survdiff(formula = Surv(time, status) ~ sex)\n",
      "\n",
      "            N Observed Expected (O-E)^2/E (O-E)^2/V\n",
      "sex=Female 45       15     18.5     0.676      1.44\n",
      "sex=Male   43       20     16.5     0.761      1.44\n",
      "\n",
      " Chisq= 1.4  on 1 degrees of freedom, p= 0.2 \n"
     ]
    }
   ],
   "source": [
    "%%R\n",
    "logrank.test <- survdiff(Surv(time, status) ~ sex)\n",
    "logrank.test"
   ]
  },
  {
   "cell_type": "markdown",
   "id": "89a71908-7aa8-4783-bfa9-8f9f99dea061",
   "metadata": {},
   "source": [
    "#### Using Lifelines"
   ]
  },
  {
   "cell_type": "code",
   "execution_count": 17,
   "id": "61972fd1-91bd-4e3f-b060-81013500ac11",
   "metadata": {},
   "outputs": [
    {
     "data": {
      "text/html": [
       "<div>\n",
       "<style scoped>\n",
       "    .dataframe tbody tr th:only-of-type {\n",
       "        vertical-align: middle;\n",
       "    }\n",
       "\n",
       "    .dataframe tbody tr th {\n",
       "        vertical-align: top;\n",
       "    }\n",
       "\n",
       "    .dataframe thead th {\n",
       "        text-align: right;\n",
       "    }\n",
       "</style>\n",
       "<table border=\"1\" class=\"dataframe\">\n",
       "  <tbody>\n",
       "    <tr>\n",
       "      <th>t_0</th>\n",
       "      <td>-1</td>\n",
       "    </tr>\n",
       "    <tr>\n",
       "      <th>null_distribution</th>\n",
       "      <td>chi squared</td>\n",
       "    </tr>\n",
       "    <tr>\n",
       "      <th>degrees_of_freedom</th>\n",
       "      <td>1</td>\n",
       "    </tr>\n",
       "    <tr>\n",
       "      <th>test_name</th>\n",
       "      <td>logrank_test</td>\n",
       "    </tr>\n",
       "  </tbody>\n",
       "</table>\n",
       "</div><table border=\"1\" class=\"dataframe\">\n",
       "  <thead>\n",
       "    <tr style=\"text-align: right;\">\n",
       "      <th></th>\n",
       "      <th>test_statistic</th>\n",
       "      <th>p</th>\n",
       "      <th>-log2(p)</th>\n",
       "    </tr>\n",
       "  </thead>\n",
       "  <tbody>\n",
       "    <tr>\n",
       "      <th>0</th>\n",
       "      <td>1.44</td>\n",
       "      <td>0.23</td>\n",
       "      <td>2.12</td>\n",
       "    </tr>\n",
       "  </tbody>\n",
       "</table>"
      ],
      "text/latex": [
       "\\begin{tabular}{lrrr}\n",
       " & test_statistic & p & -log2(p) \\\\\n",
       "0 & 1.44 & 0.23 & 2.12 \\\\\n",
       "\\end{tabular}\n"
      ],
      "text/plain": [
       "<lifelines.StatisticalResult: logrank_test>\n",
       "               t_0 = -1\n",
       " null_distribution = chi squared\n",
       "degrees_of_freedom = 1\n",
       "         test_name = logrank_test\n",
       "\n",
       "---\n",
       " test_statistic    p  -log2(p)\n",
       "           1.44 0.23      2.12"
      ]
     },
     "metadata": {},
     "output_type": "display_data"
    }
   ],
   "source": [
    "male = (brain_cancer_df['sex'] == 'Male')\n",
    "female = (brain_cancer_df['sex'] == 'Female')\n",
    "\n",
    "results = logrank_test(brain_cancer_df['time'][male], \n",
    "                       brain_cancer_df['time'][female],\n",
    "                       event_observed_A=brain_cancer_df['status'][male],\n",
    "                       event_observed_B=brain_cancer_df['status'][female]\n",
    "                      )\n",
    "\n",
    "results.print_summary()"
   ]
  },
  {
   "cell_type": "markdown",
   "id": "55fe1fdb-c80d-459b-94e4-95512fcb9270",
   "metadata": {},
   "source": [
    "`lifelines` was able to perform a Log-Rank test, however the output wasn't as verbose as the ouput found in R.  Both R and Python had the same chi-square test_statistic, degrees of freedom, p-value, and -log2(p), but R also showed the group sizes, as well as observed and expected counts."
   ]
  },
  {
   "cell_type": "markdown",
   "id": "64576538-94b8-4872-a224-58d766a8d45f",
   "metadata": {},
   "source": [
    "#### Using survive\n",
    "As far as I was able to tell, the `survive` library didn't have any way to perform a Log-Rank test."
   ]
  },
  {
   "cell_type": "markdown",
   "id": "57aa8ecd-f2f7-4023-a52e-cfa9cde327c0",
   "metadata": {},
   "source": [
    "#### Using scikit-survival\n",
    "`scikit-survival` was able to peform the Log-Rank test and generate output that most closely resembled R's output, however it was still missing a thing or two."
   ]
  },
  {
   "cell_type": "code",
   "execution_count": 18,
   "id": "31085612-3531-4b84-acd1-a6fc434869bd",
   "metadata": {},
   "outputs": [
    {
     "name": "stdout",
     "output_type": "stream",
     "text": [
      "Scikit-survival Chi-Square Test Statistic: 1.440\n",
      "Scikit-survival P-Value: 0.2301\n"
     ]
    },
    {
     "data": {
      "text/html": [
       "<div>\n",
       "<style scoped>\n",
       "    .dataframe tbody tr th:only-of-type {\n",
       "        vertical-align: middle;\n",
       "    }\n",
       "\n",
       "    .dataframe tbody tr th {\n",
       "        vertical-align: top;\n",
       "    }\n",
       "\n",
       "    .dataframe thead th {\n",
       "        text-align: right;\n",
       "    }\n",
       "</style>\n",
       "<table border=\"1\" class=\"dataframe\">\n",
       "  <thead>\n",
       "    <tr style=\"text-align: right;\">\n",
       "      <th></th>\n",
       "      <th>counts</th>\n",
       "      <th>observed</th>\n",
       "      <th>expected</th>\n",
       "      <th>statistic</th>\n",
       "    </tr>\n",
       "    <tr>\n",
       "      <th>group</th>\n",
       "      <th></th>\n",
       "      <th></th>\n",
       "      <th></th>\n",
       "      <th></th>\n",
       "    </tr>\n",
       "  </thead>\n",
       "  <tbody>\n",
       "    <tr>\n",
       "      <th>Female</th>\n",
       "      <td>45</td>\n",
       "      <td>15</td>\n",
       "      <td>18.539466</td>\n",
       "      <td>-3.539466</td>\n",
       "    </tr>\n",
       "    <tr>\n",
       "      <th>Male</th>\n",
       "      <td>43</td>\n",
       "      <td>20</td>\n",
       "      <td>16.460534</td>\n",
       "      <td>3.539466</td>\n",
       "    </tr>\n",
       "  </tbody>\n",
       "</table>\n",
       "</div>"
      ],
      "text/plain": [
       "        counts  observed   expected  statistic\n",
       "group                                         \n",
       "Female      45        15  18.539466  -3.539466\n",
       "Male        43        20  16.460534   3.539466"
      ]
     },
     "execution_count": 18,
     "metadata": {},
     "output_type": "execute_result"
    }
   ],
   "source": [
    "x = []\n",
    "\n",
    "for item in zip(brain_cancer_df['status'].astype(bool), brain_cancer_df['time']):\n",
    "    x.append(item)\n",
    "\n",
    "x = np.array(x, dtype='bool,f').flatten()\n",
    "\n",
    "test_stat, p_val, surv_counts, covar = compare_survival(x, brain_cancer_df['sex'], return_stats=True)\n",
    "\n",
    "print(f'Scikit-survival Chi-Square Test Statistic: {test_stat:.3f}')\n",
    "print(f'Scikit-survival P-Value: {p_val:.4f}')\n",
    "surv_counts"
   ]
  },
  {
   "cell_type": "markdown",
   "id": "767ba9d2-8138-4ca5-b3ec-bfcb65d7449b",
   "metadata": {},
   "source": [
    "### Cox Proportional Hazards (CoxPH) model"
   ]
  },
  {
   "cell_type": "code",
   "execution_count": 19,
   "id": "941f0330-9f13-4519-a3ba-4527f490ae08",
   "metadata": {},
   "outputs": [
    {
     "name": "stdout",
     "output_type": "stream",
     "text": [
      "Call:\n",
      "coxph(formula = Surv(time, status) ~ sex)\n",
      "\n",
      "  n= 88, number of events= 35 \n",
      "\n",
      "          coef exp(coef) se(coef)     z Pr(>|z|)\n",
      "sexMale 0.4077    1.5033   0.3420 1.192    0.233\n",
      "\n",
      "        exp(coef) exp(-coef) lower .95 upper .95\n",
      "sexMale     1.503     0.6652     0.769     2.939\n",
      "\n",
      "Concordance= 0.565  (se = 0.045 )\n",
      "Likelihood ratio test= 1.44  on 1 df,   p=0.2\n",
      "Wald test            = 1.42  on 1 df,   p=0.2\n",
      "Score (logrank) test = 1.44  on 1 df,   p=0.2\n",
      "\n"
     ]
    }
   ],
   "source": [
    "%%R\n",
    "fit.cox <- coxph(Surv(time, status) ~ sex)\n",
    "summary(fit.cox)"
   ]
  },
  {
   "cell_type": "markdown",
   "id": "e2d230f0-8cf7-4093-8150-ccd1911a8571",
   "metadata": {},
   "source": [
    "#### Different Python Libraries\n",
    "I didn't play around with `scikit-survival` for CoxPH models, however the [documentation](https://scikit-survival.readthedocs.io/en/stable/api/generated/sksurv.linear_model.CoxPHSurvivalAnalysis.html) indicates it should be possible.  \n",
    "\n",
    "The `survive` library wasn't able to fix CoxPH models, however `lifelines` could, and will be used predominantly for the remainder of the lab."
   ]
  },
  {
   "cell_type": "markdown",
   "id": "3b9aacf0-b359-46c8-8421-e08c7f74e190",
   "metadata": {},
   "source": [
    "##### Using Lifelines and sex as a predictor"
   ]
  },
  {
   "cell_type": "code",
   "execution_count": 20,
   "id": "bca95cce-bbb9-44e4-a5f3-a34c55518dff",
   "metadata": {
    "tags": []
   },
   "outputs": [
    {
     "data": {
      "text/html": [
       "<div>\n",
       "<style scoped>\n",
       "    .dataframe tbody tr th:only-of-type {\n",
       "        vertical-align: middle;\n",
       "    }\n",
       "\n",
       "    .dataframe tbody tr th {\n",
       "        vertical-align: top;\n",
       "    }\n",
       "\n",
       "    .dataframe thead th {\n",
       "        text-align: right;\n",
       "    }\n",
       "</style>\n",
       "<table border=\"1\" class=\"dataframe\">\n",
       "  <tbody>\n",
       "    <tr>\n",
       "      <th>model</th>\n",
       "      <td>lifelines.CoxPHFitter</td>\n",
       "    </tr>\n",
       "    <tr>\n",
       "      <th>duration col</th>\n",
       "      <td>'time'</td>\n",
       "    </tr>\n",
       "    <tr>\n",
       "      <th>event col</th>\n",
       "      <td>'status'</td>\n",
       "    </tr>\n",
       "    <tr>\n",
       "      <th>baseline estimation</th>\n",
       "      <td>breslow</td>\n",
       "    </tr>\n",
       "    <tr>\n",
       "      <th>number of observations</th>\n",
       "      <td>88</td>\n",
       "    </tr>\n",
       "    <tr>\n",
       "      <th>number of events observed</th>\n",
       "      <td>35</td>\n",
       "    </tr>\n",
       "    <tr>\n",
       "      <th>partial log-likelihood</th>\n",
       "      <td>-137.43</td>\n",
       "    </tr>\n",
       "    <tr>\n",
       "      <th>time fit was run</th>\n",
       "      <td>2023-01-30 07:20:06 UTC</td>\n",
       "    </tr>\n",
       "  </tbody>\n",
       "</table>\n",
       "</div><table border=\"1\" class=\"dataframe\">\n",
       "  <thead>\n",
       "    <tr style=\"text-align: right;\">\n",
       "      <th style=\"min-width: 12px;\"></th>\n",
       "      <th style=\"min-width: 12px;\">coef</th>\n",
       "      <th style=\"min-width: 12px;\">exp(coef)</th>\n",
       "      <th style=\"min-width: 12px;\">se(coef)</th>\n",
       "      <th style=\"min-width: 12px;\">coef lower 95%</th>\n",
       "      <th style=\"min-width: 12px;\">coef upper 95%</th>\n",
       "      <th style=\"min-width: 12px;\">exp(coef) lower 95%</th>\n",
       "      <th style=\"min-width: 12px;\">exp(coef) upper 95%</th>\n",
       "      <th style=\"min-width: 12px;\">cmp to</th>\n",
       "      <th style=\"min-width: 12px;\">z</th>\n",
       "      <th style=\"min-width: 12px;\">p</th>\n",
       "      <th style=\"min-width: 12px;\">-log2(p)</th>\n",
       "    </tr>\n",
       "  </thead>\n",
       "  <tbody>\n",
       "    <tr>\n",
       "      <th>sex[T.Male]</th>\n",
       "      <td>0.41</td>\n",
       "      <td>1.50</td>\n",
       "      <td>0.34</td>\n",
       "      <td>-0.26</td>\n",
       "      <td>1.08</td>\n",
       "      <td>0.77</td>\n",
       "      <td>2.94</td>\n",
       "      <td>0.00</td>\n",
       "      <td>1.19</td>\n",
       "      <td>0.23</td>\n",
       "      <td>2.10</td>\n",
       "    </tr>\n",
       "  </tbody>\n",
       "</table><br><div>\n",
       "<style scoped>\n",
       "    .dataframe tbody tr th:only-of-type {\n",
       "        vertical-align: middle;\n",
       "    }\n",
       "\n",
       "    .dataframe tbody tr th {\n",
       "        vertical-align: top;\n",
       "    }\n",
       "\n",
       "    .dataframe thead th {\n",
       "        text-align: right;\n",
       "    }\n",
       "</style>\n",
       "<table border=\"1\" class=\"dataframe\">\n",
       "  <tbody>\n",
       "    <tr>\n",
       "      <th>Concordance</th>\n",
       "      <td>0.56</td>\n",
       "    </tr>\n",
       "    <tr>\n",
       "      <th>Partial AIC</th>\n",
       "      <td>276.86</td>\n",
       "    </tr>\n",
       "    <tr>\n",
       "      <th>log-likelihood ratio test</th>\n",
       "      <td>1.44 on 1 df</td>\n",
       "    </tr>\n",
       "    <tr>\n",
       "      <th>-log2(p) of ll-ratio test</th>\n",
       "      <td>2.12</td>\n",
       "    </tr>\n",
       "  </tbody>\n",
       "</table>\n",
       "</div>"
      ],
      "text/latex": [
       "\\begin{tabular}{lrrrrrrrrrrr}\n",
       " & coef & exp(coef) & se(coef) & coef lower 95% & coef upper 95% & exp(coef) lower 95% & exp(coef) upper 95% & cmp to & z & p & -log2(p) \\\\\n",
       "covariate &  &  &  &  &  &  &  &  &  &  &  \\\\\n",
       "sex[T.Male] & 0.41 & 1.50 & 0.34 & -0.26 & 1.08 & 0.77 & 2.94 & 0.00 & 1.19 & 0.23 & 2.10 \\\\\n",
       "\\end{tabular}\n"
      ],
      "text/plain": [
       "<lifelines.CoxPHFitter: fitted with 88 total observations, 53 right-censored observations>\n",
       "             duration col = 'time'\n",
       "                event col = 'status'\n",
       "      baseline estimation = breslow\n",
       "   number of observations = 88\n",
       "number of events observed = 35\n",
       "   partial log-likelihood = -137.43\n",
       "         time fit was run = 2023-01-30 07:20:06 UTC\n",
       "\n",
       "---\n",
       "              coef  exp(coef)   se(coef)   coef lower 95%   coef upper 95%  exp(coef) lower 95%  exp(coef) upper 95%\n",
       "covariate                                                                                                           \n",
       "sex[T.Male]   0.41       1.50       0.34            -0.26             1.08                 0.77                 2.94\n",
       "\n",
       "              cmp to    z    p   -log2(p)\n",
       "covariate                                \n",
       "sex[T.Male]     0.00 1.19 0.23       2.10\n",
       "---\n",
       "Concordance = 0.56\n",
       "Partial AIC = 276.86\n",
       "log-likelihood ratio test = 1.44 on 1 df\n",
       "-log2(p) of ll-ratio test = 2.12"
      ]
     },
     "metadata": {},
     "output_type": "display_data"
    }
   ],
   "source": [
    "cph_ll = CoxPHFitter()\n",
    "cph_ll_fit = cph_ll.fit(brain_cancer_df, 'time', 'status', formula='sex')\n",
    "\n",
    "cph_ll_fit.print_summary()"
   ]
  },
  {
   "cell_type": "markdown",
   "id": "9e5fc693-468a-42c8-a7fd-4accc83c0be1",
   "metadata": {},
   "source": [
    "`lifelines` matches R's output, for the most part.  There are some minor differences like R showing output for the Wald Test, or the score of the logrank test, while `lifelines` shows a confidence interval for both the coef and the exp(coef).  Overall, both are very similar."
   ]
  },
  {
   "cell_type": "code",
   "execution_count": 21,
   "id": "91493d67-ab0f-41b7-b4e6-4de27a3d028e",
   "metadata": {},
   "outputs": [
    {
     "name": "stdout",
     "output_type": "stream",
     "text": [
      "    test \n",
      "1.438822 \n"
     ]
    }
   ],
   "source": [
    "%%R\n",
    "summary(fit.cox)$logtest[1]"
   ]
  },
  {
   "cell_type": "code",
   "execution_count": 22,
   "id": "8eb508f0-479c-49c2-8881-db92e341e941",
   "metadata": {},
   "outputs": [
    {
     "name": "stdout",
     "output_type": "stream",
     "text": [
      "test \n",
      "1.42 \n"
     ]
    }
   ],
   "source": [
    "%%R\n",
    "summary(fit.cox)$waldtest[1]"
   ]
  },
  {
   "cell_type": "code",
   "execution_count": 23,
   "id": "173f3917-71a6-4544-8144-4f648ea58a04",
   "metadata": {},
   "outputs": [
    {
     "name": "stdout",
     "output_type": "stream",
     "text": [
      "    test \n",
      "1.440495 \n"
     ]
    }
   ],
   "source": [
    "%%R\n",
    "summary(fit.cox)$sctest[1]"
   ]
  },
  {
   "cell_type": "code",
   "execution_count": 24,
   "id": "25c2c181-a510-4cdd-90c6-b494c8d9133a",
   "metadata": {},
   "outputs": [
    {
     "name": "stdout",
     "output_type": "stream",
     "text": [
      "[1] 1.440495\n"
     ]
    }
   ],
   "source": [
    "%%R\n",
    "logrank.test$chisq"
   ]
  },
  {
   "cell_type": "markdown",
   "id": "6fe230af-1f43-4d40-9c41-4a8c3a2e8eff",
   "metadata": {},
   "source": [
    "In `lifelines`, the `print_summary()` function returns None and indexing into the output to get individual values isn't possible like it is in R.  The reasoning behind why the lab in R extracts the values individually that are shown above is to show more decimals.  If we want to see more decimals in `lifelines`, we can set the `decimals=` parameter.  "
   ]
  },
  {
   "cell_type": "code",
   "execution_count": 25,
   "id": "2e878651-e22a-49b9-ae12-4540b22d5d0e",
   "metadata": {},
   "outputs": [
    {
     "data": {
      "text/html": [
       "<div>\n",
       "<style scoped>\n",
       "    .dataframe tbody tr th:only-of-type {\n",
       "        vertical-align: middle;\n",
       "    }\n",
       "\n",
       "    .dataframe tbody tr th {\n",
       "        vertical-align: top;\n",
       "    }\n",
       "\n",
       "    .dataframe thead th {\n",
       "        text-align: right;\n",
       "    }\n",
       "</style>\n",
       "<table border=\"1\" class=\"dataframe\">\n",
       "  <tbody>\n",
       "    <tr>\n",
       "      <th>model</th>\n",
       "      <td>lifelines.CoxPHFitter</td>\n",
       "    </tr>\n",
       "    <tr>\n",
       "      <th>duration col</th>\n",
       "      <td>'time'</td>\n",
       "    </tr>\n",
       "    <tr>\n",
       "      <th>event col</th>\n",
       "      <td>'status'</td>\n",
       "    </tr>\n",
       "    <tr>\n",
       "      <th>baseline estimation</th>\n",
       "      <td>breslow</td>\n",
       "    </tr>\n",
       "    <tr>\n",
       "      <th>number of observations</th>\n",
       "      <td>88</td>\n",
       "    </tr>\n",
       "    <tr>\n",
       "      <th>number of events observed</th>\n",
       "      <td>35</td>\n",
       "    </tr>\n",
       "    <tr>\n",
       "      <th>partial log-likelihood</th>\n",
       "      <td>-137.429287</td>\n",
       "    </tr>\n",
       "    <tr>\n",
       "      <th>time fit was run</th>\n",
       "      <td>2023-01-30 07:20:06 UTC</td>\n",
       "    </tr>\n",
       "  </tbody>\n",
       "</table>\n",
       "</div><table border=\"1\" class=\"dataframe\">\n",
       "  <thead>\n",
       "    <tr style=\"text-align: right;\">\n",
       "      <th style=\"min-width: 12px;\"></th>\n",
       "      <th style=\"min-width: 12px;\">coef</th>\n",
       "      <th style=\"min-width: 12px;\">exp(coef)</th>\n",
       "      <th style=\"min-width: 12px;\">se(coef)</th>\n",
       "      <th style=\"min-width: 12px;\">coef lower 95%</th>\n",
       "      <th style=\"min-width: 12px;\">coef upper 95%</th>\n",
       "      <th style=\"min-width: 12px;\">exp(coef) lower 95%</th>\n",
       "      <th style=\"min-width: 12px;\">exp(coef) upper 95%</th>\n",
       "      <th style=\"min-width: 12px;\">cmp to</th>\n",
       "      <th style=\"min-width: 12px;\">z</th>\n",
       "      <th style=\"min-width: 12px;\">p</th>\n",
       "      <th style=\"min-width: 12px;\">-log2(p)</th>\n",
       "    </tr>\n",
       "  </thead>\n",
       "  <tbody>\n",
       "    <tr>\n",
       "      <th>sex[T.Male]</th>\n",
       "      <td>0.407668</td>\n",
       "      <td>1.503309</td>\n",
       "      <td>0.342004</td>\n",
       "      <td>-0.262648</td>\n",
       "      <td>1.077984</td>\n",
       "      <td>0.769013</td>\n",
       "      <td>2.938750</td>\n",
       "      <td>0.000000</td>\n",
       "      <td>1.191998</td>\n",
       "      <td>0.233262</td>\n",
       "      <td>2.099977</td>\n",
       "    </tr>\n",
       "  </tbody>\n",
       "</table><br><div>\n",
       "<style scoped>\n",
       "    .dataframe tbody tr th:only-of-type {\n",
       "        vertical-align: middle;\n",
       "    }\n",
       "\n",
       "    .dataframe tbody tr th {\n",
       "        vertical-align: top;\n",
       "    }\n",
       "\n",
       "    .dataframe thead th {\n",
       "        text-align: right;\n",
       "    }\n",
       "</style>\n",
       "<table border=\"1\" class=\"dataframe\">\n",
       "  <tbody>\n",
       "    <tr>\n",
       "      <th>Concordance</th>\n",
       "      <td>0.564664</td>\n",
       "    </tr>\n",
       "    <tr>\n",
       "      <th>Partial AIC</th>\n",
       "      <td>276.858574</td>\n",
       "    </tr>\n",
       "    <tr>\n",
       "      <th>log-likelihood ratio test</th>\n",
       "      <td>1.438822 on 1 df</td>\n",
       "    </tr>\n",
       "    <tr>\n",
       "      <th>-log2(p) of ll-ratio test</th>\n",
       "      <td>2.118226</td>\n",
       "    </tr>\n",
       "  </tbody>\n",
       "</table>\n",
       "</div>"
      ],
      "text/latex": [
       "\\begin{tabular}{lrrrrrrrrrrr}\n",
       " & coef & exp(coef) & se(coef) & coef lower 95% & coef upper 95% & exp(coef) lower 95% & exp(coef) upper 95% & cmp to & z & p & -log2(p) \\\\\n",
       "covariate &  &  &  &  &  &  &  &  &  &  &  \\\\\n",
       "sex[T.Male] & 0.407668 & 1.503309 & 0.342004 & -0.262648 & 1.077984 & 0.769013 & 2.938750 & 0.000000 & 1.191998 & 0.233262 & 2.099977 \\\\\n",
       "\\end{tabular}\n"
      ],
      "text/plain": [
       "<lifelines.CoxPHFitter: fitted with 88 total observations, 53 right-censored observations>\n",
       "             duration col = 'time'\n",
       "                event col = 'status'\n",
       "      baseline estimation = breslow\n",
       "   number of observations = 88\n",
       "number of events observed = 35\n",
       "   partial log-likelihood = -137.429287\n",
       "         time fit was run = 2023-01-30 07:20:06 UTC\n",
       "\n",
       "---\n",
       "                coef  exp(coef)   se(coef)   coef lower 95%   coef upper 95%  exp(coef) lower 95%  exp(coef) upper 95%\n",
       "covariate                                                                                                             \n",
       "sex[T.Male] 0.407668   1.503309   0.342004        -0.262648         1.077984             0.769013             2.938750\n",
       "\n",
       "              cmp to        z        p   -log2(p)\n",
       "covariate                                        \n",
       "sex[T.Male] 0.000000 1.191998 0.233262   2.099977\n",
       "---\n",
       "Concordance = 0.564664\n",
       "Partial AIC = 276.858574\n",
       "log-likelihood ratio test = 1.438822 on 1 df\n",
       "-log2(p) of ll-ratio test = 2.118226"
      ]
     },
     "metadata": {},
     "output_type": "display_data"
    }
   ],
   "source": [
    "cph_ll_fit.print_summary(decimals=6)"
   ]
  },
  {
   "cell_type": "code",
   "execution_count": 26,
   "id": "c8cd152a-816c-4e94-aab4-6089968d3792",
   "metadata": {},
   "outputs": [
    {
     "name": "stdout",
     "output_type": "stream",
     "text": [
      "Call:\n",
      "coxph(formula = Surv(time, status) ~ sex + diagnosis + loc + \n",
      "    ki + gtv + stereo)\n",
      "\n",
      "                       coef exp(coef) se(coef)      z        p\n",
      "sexMale             0.18375   1.20171  0.36036  0.510  0.61012\n",
      "diagnosisLG glioma  0.91502   2.49683  0.63816  1.434  0.15161\n",
      "diagnosisHG glioma  2.15457   8.62414  0.45052  4.782 1.73e-06\n",
      "diagnosisOther      0.88570   2.42467  0.65787  1.346  0.17821\n",
      "locSupratentorial   0.44119   1.55456  0.70367  0.627  0.53066\n",
      "ki                 -0.05496   0.94653  0.01831 -3.001  0.00269\n",
      "gtv                 0.03429   1.03489  0.02233  1.536  0.12466\n",
      "stereoSRT           0.17778   1.19456  0.60158  0.296  0.76760\n",
      "\n",
      "Likelihood ratio test=41.37  on 8 df, p=1.776e-06\n",
      "n= 87, number of events= 35 \n",
      "   (1 observation deleted due to missingness)\n"
     ]
    }
   ],
   "source": [
    "%%R\n",
    "fit.all <- coxph(\n",
    "Surv(time, status) ~ sex + diagnosis + loc + ki + gtv + stereo)\n",
    "fit.all"
   ]
  },
  {
   "cell_type": "markdown",
   "id": "2b6959b5-ca9c-4fc2-a176-2c9c5f9e8343",
   "metadata": {},
   "source": [
    "#### Using Lifelines and all predictors"
   ]
  },
  {
   "cell_type": "code",
   "execution_count": 27,
   "id": "db4333bd-f416-4ceb-aeb5-6086b47aeeca",
   "metadata": {},
   "outputs": [
    {
     "data": {
      "text/html": [
       "<div>\n",
       "<style scoped>\n",
       "    .dataframe tbody tr th:only-of-type {\n",
       "        vertical-align: middle;\n",
       "    }\n",
       "\n",
       "    .dataframe tbody tr th {\n",
       "        vertical-align: top;\n",
       "    }\n",
       "\n",
       "    .dataframe thead th {\n",
       "        text-align: right;\n",
       "    }\n",
       "</style>\n",
       "<table border=\"1\" class=\"dataframe\">\n",
       "  <tbody>\n",
       "    <tr>\n",
       "      <th>model</th>\n",
       "      <td>lifelines.CoxPHFitter</td>\n",
       "    </tr>\n",
       "    <tr>\n",
       "      <th>duration col</th>\n",
       "      <td>'time'</td>\n",
       "    </tr>\n",
       "    <tr>\n",
       "      <th>event col</th>\n",
       "      <td>'status'</td>\n",
       "    </tr>\n",
       "    <tr>\n",
       "      <th>baseline estimation</th>\n",
       "      <td>breslow</td>\n",
       "    </tr>\n",
       "    <tr>\n",
       "      <th>number of observations</th>\n",
       "      <td>87</td>\n",
       "    </tr>\n",
       "    <tr>\n",
       "      <th>number of events observed</th>\n",
       "      <td>35</td>\n",
       "    </tr>\n",
       "    <tr>\n",
       "      <th>partial log-likelihood</th>\n",
       "      <td>-116.75</td>\n",
       "    </tr>\n",
       "    <tr>\n",
       "      <th>time fit was run</th>\n",
       "      <td>2023-01-30 07:20:07 UTC</td>\n",
       "    </tr>\n",
       "  </tbody>\n",
       "</table>\n",
       "</div><table border=\"1\" class=\"dataframe\">\n",
       "  <thead>\n",
       "    <tr style=\"text-align: right;\">\n",
       "      <th style=\"min-width: 12px;\"></th>\n",
       "      <th style=\"min-width: 12px;\">coef</th>\n",
       "      <th style=\"min-width: 12px;\">exp(coef)</th>\n",
       "      <th style=\"min-width: 12px;\">se(coef)</th>\n",
       "      <th style=\"min-width: 12px;\">coef lower 95%</th>\n",
       "      <th style=\"min-width: 12px;\">coef upper 95%</th>\n",
       "      <th style=\"min-width: 12px;\">exp(coef) lower 95%</th>\n",
       "      <th style=\"min-width: 12px;\">exp(coef) upper 95%</th>\n",
       "      <th style=\"min-width: 12px;\">cmp to</th>\n",
       "      <th style=\"min-width: 12px;\">z</th>\n",
       "      <th style=\"min-width: 12px;\">p</th>\n",
       "      <th style=\"min-width: 12px;\">-log2(p)</th>\n",
       "    </tr>\n",
       "  </thead>\n",
       "  <tbody>\n",
       "    <tr>\n",
       "      <th>diagnosis[T.LG glioma]</th>\n",
       "      <td>0.92</td>\n",
       "      <td>2.50</td>\n",
       "      <td>0.64</td>\n",
       "      <td>-0.34</td>\n",
       "      <td>2.17</td>\n",
       "      <td>0.71</td>\n",
       "      <td>8.72</td>\n",
       "      <td>0.00</td>\n",
       "      <td>1.43</td>\n",
       "      <td>0.15</td>\n",
       "      <td>2.72</td>\n",
       "    </tr>\n",
       "    <tr>\n",
       "      <th>diagnosis[T.HG glioma]</th>\n",
       "      <td>2.15</td>\n",
       "      <td>8.62</td>\n",
       "      <td>0.45</td>\n",
       "      <td>1.27</td>\n",
       "      <td>3.04</td>\n",
       "      <td>3.57</td>\n",
       "      <td>20.85</td>\n",
       "      <td>0.00</td>\n",
       "      <td>4.78</td>\n",
       "      <td>&lt;0.005</td>\n",
       "      <td>19.14</td>\n",
       "    </tr>\n",
       "    <tr>\n",
       "      <th>diagnosis[T.Other]</th>\n",
       "      <td>0.89</td>\n",
       "      <td>2.42</td>\n",
       "      <td>0.66</td>\n",
       "      <td>-0.40</td>\n",
       "      <td>2.18</td>\n",
       "      <td>0.67</td>\n",
       "      <td>8.80</td>\n",
       "      <td>0.00</td>\n",
       "      <td>1.35</td>\n",
       "      <td>0.18</td>\n",
       "      <td>2.49</td>\n",
       "    </tr>\n",
       "    <tr>\n",
       "      <th>gtv</th>\n",
       "      <td>0.03</td>\n",
       "      <td>1.03</td>\n",
       "      <td>0.02</td>\n",
       "      <td>-0.01</td>\n",
       "      <td>0.08</td>\n",
       "      <td>0.99</td>\n",
       "      <td>1.08</td>\n",
       "      <td>0.00</td>\n",
       "      <td>1.54</td>\n",
       "      <td>0.12</td>\n",
       "      <td>3.00</td>\n",
       "    </tr>\n",
       "    <tr>\n",
       "      <th>ki</th>\n",
       "      <td>-0.05</td>\n",
       "      <td>0.95</td>\n",
       "      <td>0.02</td>\n",
       "      <td>-0.09</td>\n",
       "      <td>-0.02</td>\n",
       "      <td>0.91</td>\n",
       "      <td>0.98</td>\n",
       "      <td>0.00</td>\n",
       "      <td>-3.00</td>\n",
       "      <td>&lt;0.005</td>\n",
       "      <td>8.54</td>\n",
       "    </tr>\n",
       "    <tr>\n",
       "      <th>loc[T.Supratentorial]</th>\n",
       "      <td>0.44</td>\n",
       "      <td>1.55</td>\n",
       "      <td>0.70</td>\n",
       "      <td>-0.94</td>\n",
       "      <td>1.82</td>\n",
       "      <td>0.39</td>\n",
       "      <td>6.17</td>\n",
       "      <td>0.00</td>\n",
       "      <td>0.63</td>\n",
       "      <td>0.53</td>\n",
       "      <td>0.91</td>\n",
       "    </tr>\n",
       "    <tr>\n",
       "      <th>sex[T.Male]</th>\n",
       "      <td>0.18</td>\n",
       "      <td>1.20</td>\n",
       "      <td>0.36</td>\n",
       "      <td>-0.52</td>\n",
       "      <td>0.89</td>\n",
       "      <td>0.59</td>\n",
       "      <td>2.44</td>\n",
       "      <td>0.00</td>\n",
       "      <td>0.51</td>\n",
       "      <td>0.61</td>\n",
       "      <td>0.71</td>\n",
       "    </tr>\n",
       "    <tr>\n",
       "      <th>stereo[T.SRT]</th>\n",
       "      <td>0.18</td>\n",
       "      <td>1.19</td>\n",
       "      <td>0.60</td>\n",
       "      <td>-1.00</td>\n",
       "      <td>1.36</td>\n",
       "      <td>0.37</td>\n",
       "      <td>3.88</td>\n",
       "      <td>0.00</td>\n",
       "      <td>0.30</td>\n",
       "      <td>0.77</td>\n",
       "      <td>0.38</td>\n",
       "    </tr>\n",
       "  </tbody>\n",
       "</table><br><div>\n",
       "<style scoped>\n",
       "    .dataframe tbody tr th:only-of-type {\n",
       "        vertical-align: middle;\n",
       "    }\n",
       "\n",
       "    .dataframe tbody tr th {\n",
       "        vertical-align: top;\n",
       "    }\n",
       "\n",
       "    .dataframe thead th {\n",
       "        text-align: right;\n",
       "    }\n",
       "</style>\n",
       "<table border=\"1\" class=\"dataframe\">\n",
       "  <tbody>\n",
       "    <tr>\n",
       "      <th>Concordance</th>\n",
       "      <td>0.79</td>\n",
       "    </tr>\n",
       "    <tr>\n",
       "      <th>Partial AIC</th>\n",
       "      <td>249.50</td>\n",
       "    </tr>\n",
       "    <tr>\n",
       "      <th>log-likelihood ratio test</th>\n",
       "      <td>41.37 on 8 df</td>\n",
       "    </tr>\n",
       "    <tr>\n",
       "      <th>-log2(p) of ll-ratio test</th>\n",
       "      <td>19.10</td>\n",
       "    </tr>\n",
       "  </tbody>\n",
       "</table>\n",
       "</div>"
      ],
      "text/latex": [
       "\\begin{tabular}{lrrrrrrrrrrr}\n",
       " & coef & exp(coef) & se(coef) & coef lower 95% & coef upper 95% & exp(coef) lower 95% & exp(coef) upper 95% & cmp to & z & p & -log2(p) \\\\\n",
       "covariate &  &  &  &  &  &  &  &  &  &  &  \\\\\n",
       "diagnosis[T.LG glioma] & 0.92 & 2.50 & 0.64 & -0.34 & 2.17 & 0.71 & 8.72 & 0.00 & 1.43 & 0.15 & 2.72 \\\\\n",
       "diagnosis[T.HG glioma] & 2.15 & 8.62 & 0.45 & 1.27 & 3.04 & 3.57 & 20.85 & 0.00 & 4.78 & 0.00 & 19.14 \\\\\n",
       "diagnosis[T.Other] & 0.89 & 2.42 & 0.66 & -0.40 & 2.18 & 0.67 & 8.80 & 0.00 & 1.35 & 0.18 & 2.49 \\\\\n",
       "gtv & 0.03 & 1.03 & 0.02 & -0.01 & 0.08 & 0.99 & 1.08 & 0.00 & 1.54 & 0.12 & 3.00 \\\\\n",
       "ki & -0.05 & 0.95 & 0.02 & -0.09 & -0.02 & 0.91 & 0.98 & 0.00 & -3.00 & 0.00 & 8.54 \\\\\n",
       "loc[T.Supratentorial] & 0.44 & 1.55 & 0.70 & -0.94 & 1.82 & 0.39 & 6.17 & 0.00 & 0.63 & 0.53 & 0.91 \\\\\n",
       "sex[T.Male] & 0.18 & 1.20 & 0.36 & -0.52 & 0.89 & 0.59 & 2.44 & 0.00 & 0.51 & 0.61 & 0.71 \\\\\n",
       "stereo[T.SRT] & 0.18 & 1.19 & 0.60 & -1.00 & 1.36 & 0.37 & 3.88 & 0.00 & 0.30 & 0.77 & 0.38 \\\\\n",
       "\\end{tabular}\n"
      ],
      "text/plain": [
       "<lifelines.CoxPHFitter: fitted with 87 total observations, 52 right-censored observations>\n",
       "             duration col = 'time'\n",
       "                event col = 'status'\n",
       "      baseline estimation = breslow\n",
       "   number of observations = 87\n",
       "number of events observed = 35\n",
       "   partial log-likelihood = -116.75\n",
       "         time fit was run = 2023-01-30 07:20:07 UTC\n",
       "\n",
       "---\n",
       "                         coef  exp(coef)   se(coef)   coef lower 95%   coef upper 95%  exp(coef) lower 95%  exp(coef) upper 95%\n",
       "covariate                                                                                                                      \n",
       "diagnosis[T.LG glioma]   0.92       2.50       0.64            -0.34             2.17                 0.71                 8.72\n",
       "diagnosis[T.HG glioma]   2.15       8.62       0.45             1.27             3.04                 3.57                20.85\n",
       "diagnosis[T.Other]       0.89       2.42       0.66            -0.40             2.18                 0.67                 8.80\n",
       "gtv                      0.03       1.03       0.02            -0.01             0.08                 0.99                 1.08\n",
       "ki                      -0.05       0.95       0.02            -0.09            -0.02                 0.91                 0.98\n",
       "loc[T.Supratentorial]    0.44       1.55       0.70            -0.94             1.82                 0.39                 6.17\n",
       "sex[T.Male]              0.18       1.20       0.36            -0.52             0.89                 0.59                 2.44\n",
       "stereo[T.SRT]            0.18       1.19       0.60            -1.00             1.36                 0.37                 3.88\n",
       "\n",
       "                         cmp to     z      p   -log2(p)\n",
       "covariate                                              \n",
       "diagnosis[T.LG glioma]     0.00  1.43   0.15       2.72\n",
       "diagnosis[T.HG glioma]     0.00  4.78 <0.005      19.14\n",
       "diagnosis[T.Other]         0.00  1.35   0.18       2.49\n",
       "gtv                        0.00  1.54   0.12       3.00\n",
       "ki                         0.00 -3.00 <0.005       8.54\n",
       "loc[T.Supratentorial]      0.00  0.63   0.53       0.91\n",
       "sex[T.Male]                0.00  0.51   0.61       0.71\n",
       "stereo[T.SRT]              0.00  0.30   0.77       0.38\n",
       "---\n",
       "Concordance = 0.79\n",
       "Partial AIC = 249.50\n",
       "log-likelihood ratio test = 41.37 on 8 df\n",
       "-log2(p) of ll-ratio test = 19.10"
      ]
     },
     "metadata": {},
     "output_type": "display_data"
    }
   ],
   "source": [
    "cph_all_ll = CoxPHFitter()\n",
    "cph_all_ll_fit = cph_ll.fit(brain_cancer_df[brain_cancer_df['diagnosis'].isnull()==False], 'time', 'status', formula='sex + diagnosis + loc + ki + gtv + stereo')\n",
    "\n",
    "cph_all_ll_fit.print_summary()"
   ]
  },
  {
   "cell_type": "code",
   "execution_count": 28,
   "id": "db985aeb-5038-497f-a9c5-2af0adb61217",
   "metadata": {},
   "outputs": [
    {
     "name": "stdout",
     "output_type": "stream",
     "text": [
      "   diagnosis    sex            loc       ki      gtv stereo\n",
      "1 Meningioma Female Supratentorial 81.02273 8.660795    SRT\n",
      "2  LG glioma Female Supratentorial 81.02273 8.660795    SRT\n",
      "3  HG glioma Female Supratentorial 81.02273 8.660795    SRT\n",
      "4      Other Female Supratentorial 81.02273 8.660795    SRT\n"
     ]
    }
   ],
   "source": [
    "%%R\n",
    "modaldata <- data.frame(\n",
    "    diagnosis = levels(diagnosis),\n",
    "    sex = rep(\"Female\", 4),\n",
    "    loc = rep('Supratentorial', 4),\n",
    "    ki = rep(mean(ki), 4),\n",
    "    gtv = rep(mean(gtv), 4),\n",
    "    stereo = rep(\"SRT\", 4)\n",
    ")\n",
    "\n",
    "modaldata"
   ]
  },
  {
   "cell_type": "markdown",
   "id": "51c640e8-53b8-41ee-9808-f944f5c4554d",
   "metadata": {},
   "source": [
    "While it's possible to recreate the R code for the `modaldata` `data.frame` in Python, with the `lifelines` library, it isn't necessary, as will soon be seen.  To use `lifelines`, all that's really needed is the first line of code that stores the unique diagnosis levels into a variable called `levels.`.  I've included the code below to also recreate the `modaldata` anyways, but left it commented out."
   ]
  },
  {
   "cell_type": "code",
   "execution_count": 29,
   "id": "aaf18d90-ae83-4b56-861f-9f0fcf680dd6",
   "metadata": {},
   "outputs": [],
   "source": [
    "levels = brain_cancer_df[brain_cancer_df['diagnosis'].isnull()==False]['diagnosis'].unique()[[0,2,1,3]]\n",
    "\n",
    "# # This step is redundant when using lifelines\n",
    "# modal_data_df = pd.DataFrame(data = [levels,\n",
    "#                                      np.repeat(\"Female\", 4),\n",
    "#                                      np.repeat(\"Supratentorial\", 4),\n",
    "#                                      np.repeat(brain_cancer_df['ki'].mean(), 4),\n",
    "#                                      np.repeat(brain_cancer_df['gtv'].mean(), 4),\n",
    "#                                      np.repeat(\"SRT\", 4)],\n",
    "#                                      columns = ['diagnosis', \n",
    "#                                                 'sex', \n",
    "#                                                 'loc', \n",
    "#                                                 'ki', \n",
    "#                                                 'gtv', \n",
    "#                                                 'stereo']\n",
    "#                             )\n",
    "\n",
    "# modal_data_df"
   ]
  },
  {
   "cell_type": "markdown",
   "id": "21420061-a7d1-4d0b-a2a4-0c478221d813",
   "metadata": {},
   "source": [
    "#### Survival Curve by Diagnosis"
   ]
  },
  {
   "cell_type": "code",
   "execution_count": 30,
   "id": "b45ce4b1-44a6-4904-9c52-de68d81cbb78",
   "metadata": {},
   "outputs": [
    {
     "data": {
      "image/png": "[encoded data removed]"
     },
     "metadata": {},
     "output_type": "display_data"
    }
   ],
   "source": [
    "%%R\n",
    "survplots <- survfit(fit.all, newdata = modaldata)\n",
    "plot(survplots, xlab = 'Months',\n",
    "    ylab = 'Survival Probability', col = 2:5)\n",
    "legend('bottomleft', levels(diagnosis), col = 2:5, lty = 1)"
   ]
  },
  {
   "cell_type": "markdown",
   "id": "906a7580-dd60-4318-b0eb-5b40e8170b3b",
   "metadata": {},
   "source": [
    "##### Using Lifelines"
   ]
  },
  {
   "cell_type": "code",
   "execution_count": 31,
   "id": "67b8c583-0ad9-487f-a381-e6291ea9d7db",
   "metadata": {},
   "outputs": [
    {
     "data": {
      "image/png": "[encoded data removed]",
      "text/plain": [
       "<Figure size 576x432 with 1 Axes>"
      ]
     },
     "metadata": {
      "needs_background": "light"
     },
     "output_type": "display_data"
    }
   ],
   "source": [
    "fig, ax = plt.subplots(1,1, figsize=(8,6))\n",
    "cph_all_ll_fit.plot_partial_effects_on_outcome(covariates='diagnosis', \n",
    "                                               values=levels, \n",
    "                                               plot_baseline=False, \n",
    "                                               ax = ax)\n",
    "plt.xlabel('Months')\n",
    "plt.ylabel('Survival Probability');"
   ]
  },
  {
   "cell_type": "markdown",
   "id": "126b8b39-2545-49ac-bd94-5531b9535f23",
   "metadata": {},
   "source": [
    "`lifelines` is able to plot a survival curve based on diagnosis level automatically, as long as the the `covariates=` and `values=` parameters are specified."
   ]
  },
  {
   "cell_type": "markdown",
   "id": "b9947b64-29a2-4084-8f90-ae7b45886345",
   "metadata": {},
   "source": [
    "## 11.8.2 Publication Data"
   ]
  },
  {
   "cell_type": "markdown",
   "id": "94cc4fc7-44c9-4399-b430-51cd32baf571",
   "metadata": {},
   "source": [
    "### Kaplan Meier Survival Curve by posres"
   ]
  },
  {
   "cell_type": "code",
   "execution_count": 32,
   "id": "8d4c8f4d-c735-4201-9db4-917c49859508",
   "metadata": {},
   "outputs": [
    {
     "data": {
      "image/png": "[encoded data removed]"
     },
     "metadata": {},
     "output_type": "display_data"
    }
   ],
   "source": [
    "%%R\n",
    "fit.posres <- survfit(\n",
    "    Surv(time,  status) ~ posres, data = Publication\n",
    ")\n",
    "plot(fit.posres, xlab='Months',\n",
    "    ylab = 'Probability of Not Being Published', col = 3:4)\n",
    "legend(\"topright\", c(\"Negative Result\", \"Positive Result\"),\n",
    "      col = 3:4, lty = 1)"
   ]
  },
  {
   "cell_type": "code",
   "execution_count": 33,
   "id": "73254200-cb6e-4c72-a901-e81bf373eec0",
   "metadata": {},
   "outputs": [],
   "source": [
    "data = robjects.r(\"\"\"\n",
    "library(ISLR2)\n",
    "xdata <- Publication\n",
    "\"\"\")\n",
    "with localconverter(robjects.default_converter + pandas2ri.converter):\n",
    "    publication_df = robjects.conversion.rpy2py(data)"
   ]
  },
  {
   "cell_type": "markdown",
   "id": "434fc33e-55dc-4b31-b92a-3ae40b7712af",
   "metadata": {},
   "source": [
    "#### Using Lifelines"
   ]
  },
  {
   "cell_type": "code",
   "execution_count": 34,
   "id": "cdf6dc12-28f6-41b5-804d-1db23b305c29",
   "metadata": {},
   "outputs": [
    {
     "data": {
      "image/png": "[encoded data removed]",
      "text/plain": [
       "<Figure size 576x432 with 1 Axes>"
      ]
     },
     "metadata": {
      "needs_background": "light"
     },
     "output_type": "display_data"
    }
   ],
   "source": [
    "fig, ax = plt.subplots(1,1, figsize=(8,6))\n",
    "\n",
    "for level in publication_df['posres'].unique():\n",
    "\n",
    "    idx = (publication_df['posres'] == level)\n",
    "\n",
    "    if level == 1:\n",
    "        label = \"Positive Result\"\n",
    "    else:\n",
    "        label = \"Negative Result\"\n",
    "        \n",
    "    kmf_ll.fit(publication_df['time'][idx], \n",
    "               event_observed=publication_df['status'][idx], \n",
    "               label=label)\n",
    "    kmf_ll.survival_function_.plot(ax=ax)\n",
    "\n",
    "\n",
    "plt.xlabel('Months')\n",
    "plt.yticks(np.arange(0, 1.1, 0.2))\n",
    "plt.ylabel('Probability of Not Being Published');"
   ]
  },
  {
   "cell_type": "markdown",
   "id": "7766a994-35d4-4e63-82c1-d6fa7fccd9c3",
   "metadata": {},
   "source": [
    "### CoxPH by posres"
   ]
  },
  {
   "cell_type": "code",
   "execution_count": 35,
   "id": "113fdebb-2ae8-4962-b3c2-13615f0d8b5c",
   "metadata": {},
   "outputs": [
    {
     "name": "stdout",
     "output_type": "stream",
     "text": [
      "Call:\n",
      "coxph(formula = Surv(time, status) ~ posres, data = Publication)\n",
      "\n",
      "         coef exp(coef) se(coef)     z    p\n",
      "posres 0.1481    1.1596   0.1616 0.916 0.36\n",
      "\n",
      "Likelihood ratio test=0.83  on 1 df, p=0.3611\n",
      "n= 244, number of events= 156 \n"
     ]
    }
   ],
   "source": [
    "%%R\n",
    "fit.pub <- coxph(Surv(time, status) ~ posres,\n",
    "                data = Publication)\n",
    "fit.pub"
   ]
  },
  {
   "cell_type": "markdown",
   "id": "23bfdd2a-b302-4e12-bddd-274f98f5fd6d",
   "metadata": {},
   "source": [
    "#### Using Lifelines and posres as a predictor"
   ]
  },
  {
   "cell_type": "code",
   "execution_count": 36,
   "id": "a95723f7-8df4-4775-a74d-d692d7648be9",
   "metadata": {},
   "outputs": [
    {
     "data": {
      "text/html": [
       "<div>\n",
       "<style scoped>\n",
       "    .dataframe tbody tr th:only-of-type {\n",
       "        vertical-align: middle;\n",
       "    }\n",
       "\n",
       "    .dataframe tbody tr th {\n",
       "        vertical-align: top;\n",
       "    }\n",
       "\n",
       "    .dataframe thead th {\n",
       "        text-align: right;\n",
       "    }\n",
       "</style>\n",
       "<table border=\"1\" class=\"dataframe\">\n",
       "  <tbody>\n",
       "    <tr>\n",
       "      <th>model</th>\n",
       "      <td>lifelines.CoxPHFitter</td>\n",
       "    </tr>\n",
       "    <tr>\n",
       "      <th>duration col</th>\n",
       "      <td>'time'</td>\n",
       "    </tr>\n",
       "    <tr>\n",
       "      <th>event col</th>\n",
       "      <td>'status'</td>\n",
       "    </tr>\n",
       "    <tr>\n",
       "      <th>baseline estimation</th>\n",
       "      <td>breslow</td>\n",
       "    </tr>\n",
       "    <tr>\n",
       "      <th>number of observations</th>\n",
       "      <td>244</td>\n",
       "    </tr>\n",
       "    <tr>\n",
       "      <th>number of events observed</th>\n",
       "      <td>156</td>\n",
       "    </tr>\n",
       "    <tr>\n",
       "      <th>partial log-likelihood</th>\n",
       "      <td>-723.47</td>\n",
       "    </tr>\n",
       "    <tr>\n",
       "      <th>time fit was run</th>\n",
       "      <td>2023-01-30 07:20:08 UTC</td>\n",
       "    </tr>\n",
       "  </tbody>\n",
       "</table>\n",
       "</div><table border=\"1\" class=\"dataframe\">\n",
       "  <thead>\n",
       "    <tr style=\"text-align: right;\">\n",
       "      <th style=\"min-width: 12px;\"></th>\n",
       "      <th style=\"min-width: 12px;\">coef</th>\n",
       "      <th style=\"min-width: 12px;\">exp(coef)</th>\n",
       "      <th style=\"min-width: 12px;\">se(coef)</th>\n",
       "      <th style=\"min-width: 12px;\">coef lower 95%</th>\n",
       "      <th style=\"min-width: 12px;\">coef upper 95%</th>\n",
       "      <th style=\"min-width: 12px;\">exp(coef) lower 95%</th>\n",
       "      <th style=\"min-width: 12px;\">exp(coef) upper 95%</th>\n",
       "      <th style=\"min-width: 12px;\">cmp to</th>\n",
       "      <th style=\"min-width: 12px;\">z</th>\n",
       "      <th style=\"min-width: 12px;\">p</th>\n",
       "      <th style=\"min-width: 12px;\">-log2(p)</th>\n",
       "    </tr>\n",
       "  </thead>\n",
       "  <tbody>\n",
       "    <tr>\n",
       "      <th>posres</th>\n",
       "      <td>0.15</td>\n",
       "      <td>1.16</td>\n",
       "      <td>0.16</td>\n",
       "      <td>-0.17</td>\n",
       "      <td>0.46</td>\n",
       "      <td>0.84</td>\n",
       "      <td>1.59</td>\n",
       "      <td>0.00</td>\n",
       "      <td>0.92</td>\n",
       "      <td>0.36</td>\n",
       "      <td>1.48</td>\n",
       "    </tr>\n",
       "  </tbody>\n",
       "</table><br><div>\n",
       "<style scoped>\n",
       "    .dataframe tbody tr th:only-of-type {\n",
       "        vertical-align: middle;\n",
       "    }\n",
       "\n",
       "    .dataframe tbody tr th {\n",
       "        vertical-align: top;\n",
       "    }\n",
       "\n",
       "    .dataframe thead th {\n",
       "        text-align: right;\n",
       "    }\n",
       "</style>\n",
       "<table border=\"1\" class=\"dataframe\">\n",
       "  <tbody>\n",
       "    <tr>\n",
       "      <th>Concordance</th>\n",
       "      <td>0.50</td>\n",
       "    </tr>\n",
       "    <tr>\n",
       "      <th>Partial AIC</th>\n",
       "      <td>1448.95</td>\n",
       "    </tr>\n",
       "    <tr>\n",
       "      <th>log-likelihood ratio test</th>\n",
       "      <td>0.83 on 1 df</td>\n",
       "    </tr>\n",
       "    <tr>\n",
       "      <th>-log2(p) of ll-ratio test</th>\n",
       "      <td>1.47</td>\n",
       "    </tr>\n",
       "  </tbody>\n",
       "</table>\n",
       "</div>"
      ],
      "text/latex": [
       "\\begin{tabular}{lrrrrrrrrrrr}\n",
       " & coef & exp(coef) & se(coef) & coef lower 95% & coef upper 95% & exp(coef) lower 95% & exp(coef) upper 95% & cmp to & z & p & -log2(p) \\\\\n",
       "covariate &  &  &  &  &  &  &  &  &  &  &  \\\\\n",
       "posres & 0.15 & 1.16 & 0.16 & -0.17 & 0.46 & 0.84 & 1.59 & 0.00 & 0.92 & 0.36 & 1.48 \\\\\n",
       "\\end{tabular}\n"
      ],
      "text/plain": [
       "<lifelines.CoxPHFitter: fitted with 244 total observations, 88 right-censored observations>\n",
       "             duration col = 'time'\n",
       "                event col = 'status'\n",
       "      baseline estimation = breslow\n",
       "   number of observations = 244\n",
       "number of events observed = 156\n",
       "   partial log-likelihood = -723.47\n",
       "         time fit was run = 2023-01-30 07:20:08 UTC\n",
       "\n",
       "---\n",
       "            coef  exp(coef)   se(coef)   coef lower 95%   coef upper 95%  exp(coef) lower 95%  exp(coef) upper 95%\n",
       "covariate                                                                                                         \n",
       "posres      0.15       1.16       0.16            -0.17             0.46                 0.84                 1.59\n",
       "\n",
       "            cmp to    z    p   -log2(p)\n",
       "covariate                              \n",
       "posres        0.00 0.92 0.36       1.48\n",
       "---\n",
       "Concordance = 0.50\n",
       "Partial AIC = 1448.95\n",
       "log-likelihood ratio test = 0.83 on 1 df\n",
       "-log2(p) of ll-ratio test = 1.47"
      ]
     },
     "metadata": {},
     "output_type": "display_data"
    }
   ],
   "source": [
    "cph_ll = CoxPHFitter()\n",
    "cph_ll_fit = cph_ll.fit(publication_df, 'time', 'status', formula='posres')\n",
    "\n",
    "cph_ll_fit.print_summary()"
   ]
  },
  {
   "cell_type": "markdown",
   "id": "7ea1beaf-0067-49a1-a912-3cc6f3ebe6dd",
   "metadata": {},
   "source": [
    "Like before, the output from fitting a CoxPH model using `lifelines` is very similar to that of R."
   ]
  },
  {
   "cell_type": "code",
   "execution_count": 37,
   "id": "8e6497c1-4245-4cab-ac0d-a3d669e76c56",
   "metadata": {},
   "outputs": [
    {
     "name": "stdout",
     "output_type": "stream",
     "text": [
      "Call:\n",
      "survdiff(formula = Surv(time, status) ~ posres, data = Publication)\n",
      "\n",
      "           N Observed Expected (O-E)^2/E (O-E)^2/V\n",
      "posres=0 146       87     92.6     0.341     0.844\n",
      "posres=1  98       69     63.4     0.498     0.844\n",
      "\n",
      " Chisq= 0.8  on 1 degrees of freedom, p= 0.4 \n"
     ]
    }
   ],
   "source": [
    "%%R\n",
    "logrank.test <- survdiff(Surv(time, status) ~ posres,\n",
    "                        data = Publication)\n",
    "logrank.test"
   ]
  },
  {
   "cell_type": "markdown",
   "id": "42b63ec8-f80b-49ee-aaa5-72e33c8b8f97",
   "metadata": {},
   "source": [
    "#### Using Lifelines"
   ]
  },
  {
   "cell_type": "code",
   "execution_count": 38,
   "id": "0e9e8401-58b0-417c-880a-69508854ba49",
   "metadata": {},
   "outputs": [
    {
     "data": {
      "text/html": [
       "<div>\n",
       "<style scoped>\n",
       "    .dataframe tbody tr th:only-of-type {\n",
       "        vertical-align: middle;\n",
       "    }\n",
       "\n",
       "    .dataframe tbody tr th {\n",
       "        vertical-align: top;\n",
       "    }\n",
       "\n",
       "    .dataframe thead th {\n",
       "        text-align: right;\n",
       "    }\n",
       "</style>\n",
       "<table border=\"1\" class=\"dataframe\">\n",
       "  <tbody>\n",
       "    <tr>\n",
       "      <th>t_0</th>\n",
       "      <td>-1</td>\n",
       "    </tr>\n",
       "    <tr>\n",
       "      <th>null_distribution</th>\n",
       "      <td>chi squared</td>\n",
       "    </tr>\n",
       "    <tr>\n",
       "      <th>degrees_of_freedom</th>\n",
       "      <td>1</td>\n",
       "    </tr>\n",
       "    <tr>\n",
       "      <th>test_name</th>\n",
       "      <td>logrank_test</td>\n",
       "    </tr>\n",
       "  </tbody>\n",
       "</table>\n",
       "</div><table border=\"1\" class=\"dataframe\">\n",
       "  <thead>\n",
       "    <tr style=\"text-align: right;\">\n",
       "      <th></th>\n",
       "      <th>test_statistic</th>\n",
       "      <th>p</th>\n",
       "      <th>-log2(p)</th>\n",
       "    </tr>\n",
       "  </thead>\n",
       "  <tbody>\n",
       "    <tr>\n",
       "      <th>0</th>\n",
       "      <td>0.84</td>\n",
       "      <td>0.36</td>\n",
       "      <td>1.48</td>\n",
       "    </tr>\n",
       "  </tbody>\n",
       "</table>"
      ],
      "text/latex": [
       "\\begin{tabular}{lrrr}\n",
       " & test_statistic & p & -log2(p) \\\\\n",
       "0 & 0.84 & 0.36 & 1.48 \\\\\n",
       "\\end{tabular}\n"
      ],
      "text/plain": [
       "<lifelines.StatisticalResult: logrank_test>\n",
       "               t_0 = -1\n",
       " null_distribution = chi squared\n",
       "degrees_of_freedom = 1\n",
       "         test_name = logrank_test\n",
       "\n",
       "---\n",
       " test_statistic    p  -log2(p)\n",
       "           0.84 0.36      1.48"
      ]
     },
     "metadata": {},
     "output_type": "display_data"
    }
   ],
   "source": [
    "neg = (publication_df['posres'] == 0)\n",
    "pos = (publication_df['posres'] == 1)\n",
    "\n",
    "results = logrank_test(publication_df['time'][neg], \n",
    "                       publication_df['time'][pos],\n",
    "                       event_observed_A=publication_df['status'][neg],\n",
    "                       event_observed_B=publication_df['status'][pos]\n",
    "                      )\n",
    "\n",
    "results.print_summary()"
   ]
  },
  {
   "cell_type": "markdown",
   "id": "073965f4-6c8b-43e0-a528-a214b76ee940",
   "metadata": {},
   "source": [
    "Again, `lifelines` can perform a Log-Rank test, however the output is less basic as compared to R."
   ]
  },
  {
   "cell_type": "markdown",
   "id": "d859d441-3fdc-4fc8-aef7-3b04072bab90",
   "metadata": {},
   "source": [
    "#### Using scikit-survival"
   ]
  },
  {
   "cell_type": "code",
   "execution_count": 39,
   "id": "8c3d6bce-198c-42f5-816e-68561820919e",
   "metadata": {},
   "outputs": [
    {
     "name": "stdout",
     "output_type": "stream",
     "text": [
      "Scikit-survival Chi-Square Test Statistic: 0.844\n",
      "Scikit-survival P-Value: 0.3583\n"
     ]
    },
    {
     "name": "stderr",
     "output_type": "stream",
     "text": [
      "/Users/rancher/opt/anaconda3/envs/ox/lib/python3.9/site-packages/sksurv/compare.py:115: FutureWarning: In a future version, the Index constructor will not infer numeric dtypes when passed object-dtype sequences (matching Series behavior)\n",
      "  table.index = pandas.Index(groups, name=\"group\")\n"
     ]
    },
    {
     "data": {
      "text/html": [
       "<div>\n",
       "<style scoped>\n",
       "    .dataframe tbody tr th:only-of-type {\n",
       "        vertical-align: middle;\n",
       "    }\n",
       "\n",
       "    .dataframe tbody tr th {\n",
       "        vertical-align: top;\n",
       "    }\n",
       "\n",
       "    .dataframe thead th {\n",
       "        text-align: right;\n",
       "    }\n",
       "</style>\n",
       "<table border=\"1\" class=\"dataframe\">\n",
       "  <thead>\n",
       "    <tr style=\"text-align: right;\">\n",
       "      <th></th>\n",
       "      <th>counts</th>\n",
       "      <th>observed</th>\n",
       "      <th>expected</th>\n",
       "      <th>statistic</th>\n",
       "    </tr>\n",
       "    <tr>\n",
       "      <th>group</th>\n",
       "      <th></th>\n",
       "      <th></th>\n",
       "      <th></th>\n",
       "      <th></th>\n",
       "    </tr>\n",
       "  </thead>\n",
       "  <tbody>\n",
       "    <tr>\n",
       "      <th>0</th>\n",
       "      <td>146</td>\n",
       "      <td>87</td>\n",
       "      <td>92.61852</td>\n",
       "      <td>-5.61852</td>\n",
       "    </tr>\n",
       "    <tr>\n",
       "      <th>1</th>\n",
       "      <td>98</td>\n",
       "      <td>69</td>\n",
       "      <td>63.38148</td>\n",
       "      <td>5.61852</td>\n",
       "    </tr>\n",
       "  </tbody>\n",
       "</table>\n",
       "</div>"
      ],
      "text/plain": [
       "       counts  observed  expected  statistic\n",
       "group                                       \n",
       "0         146        87  92.61852   -5.61852\n",
       "1          98        69  63.38148    5.61852"
      ]
     },
     "execution_count": 39,
     "metadata": {},
     "output_type": "execute_result"
    }
   ],
   "source": [
    "x = []\n",
    "\n",
    "for item in zip(publication_df['status'].astype(bool), publication_df['time']):\n",
    "    x.append(item)\n",
    "\n",
    "x = np.array(x, dtype='bool,f').flatten()\n",
    "\n",
    "test_stat, p_val, surv_counts, covar = compare_survival(x, publication_df['posres'], return_stats=True)\n",
    "\n",
    "print(f'Scikit-survival Chi-Square Test Statistic: {test_stat:.3f}')\n",
    "print(f'Scikit-survival P-Value: {p_val:.4f}')\n",
    "surv_counts"
   ]
  },
  {
   "cell_type": "code",
   "execution_count": 40,
   "id": "aa52b822-64db-42dd-b313-e4b18216ef70",
   "metadata": {},
   "outputs": [
    {
     "name": "stdout",
     "output_type": "stream",
     "text": [
      "Call:\n",
      "coxph(formula = Surv(time, status) ~ . - mech, data = Publication)\n",
      "\n",
      "               coef  exp(coef)   se(coef)      z       p\n",
      "posres    5.708e-01  1.770e+00  1.760e-01  3.244 0.00118\n",
      "multi    -4.086e-02  9.600e-01  2.512e-01 -0.163 0.87079\n",
      "clinend   5.462e-01  1.727e+00  2.620e-01  2.085 0.03710\n",
      "sampsize  4.678e-06  1.000e+00  1.472e-05  0.318 0.75070\n",
      "budget    4.385e-03  1.004e+00  2.465e-03  1.779 0.07518\n",
      "impact    5.832e-02  1.060e+00  6.676e-03  8.735 < 2e-16\n",
      "\n",
      "Likelihood ratio test=149.2  on 6 df, p=< 2.2e-16\n",
      "n= 244, number of events= 156 \n"
     ]
    }
   ],
   "source": [
    "%%R\n",
    "fit.pub2 <- coxph(Surv(time, status) ~ . - mech,\n",
    "                 data = Publication)\n",
    "fit.pub2"
   ]
  },
  {
   "cell_type": "markdown",
   "id": "bfd2feee-cbf9-4f56-8e39-180bd7fc04af",
   "metadata": {},
   "source": [
    "#### Using Lifelines and all predictors but mech"
   ]
  },
  {
   "cell_type": "code",
   "execution_count": 41,
   "id": "4ef1e02a-ed89-47ca-a018-947a6fd23f0e",
   "metadata": {},
   "outputs": [
    {
     "data": {
      "text/html": [
       "<div>\n",
       "<style scoped>\n",
       "    .dataframe tbody tr th:only-of-type {\n",
       "        vertical-align: middle;\n",
       "    }\n",
       "\n",
       "    .dataframe tbody tr th {\n",
       "        vertical-align: top;\n",
       "    }\n",
       "\n",
       "    .dataframe thead th {\n",
       "        text-align: right;\n",
       "    }\n",
       "</style>\n",
       "<table border=\"1\" class=\"dataframe\">\n",
       "  <tbody>\n",
       "    <tr>\n",
       "      <th>model</th>\n",
       "      <td>lifelines.CoxPHFitter</td>\n",
       "    </tr>\n",
       "    <tr>\n",
       "      <th>duration col</th>\n",
       "      <td>'time'</td>\n",
       "    </tr>\n",
       "    <tr>\n",
       "      <th>event col</th>\n",
       "      <td>'status'</td>\n",
       "    </tr>\n",
       "    <tr>\n",
       "      <th>baseline estimation</th>\n",
       "      <td>breslow</td>\n",
       "    </tr>\n",
       "    <tr>\n",
       "      <th>number of observations</th>\n",
       "      <td>244</td>\n",
       "    </tr>\n",
       "    <tr>\n",
       "      <th>number of events observed</th>\n",
       "      <td>156</td>\n",
       "    </tr>\n",
       "    <tr>\n",
       "      <th>partial log-likelihood</th>\n",
       "      <td>-649.26</td>\n",
       "    </tr>\n",
       "    <tr>\n",
       "      <th>time fit was run</th>\n",
       "      <td>2023-01-30 07:20:08 UTC</td>\n",
       "    </tr>\n",
       "  </tbody>\n",
       "</table>\n",
       "</div><table border=\"1\" class=\"dataframe\">\n",
       "  <thead>\n",
       "    <tr style=\"text-align: right;\">\n",
       "      <th style=\"min-width: 12px;\"></th>\n",
       "      <th style=\"min-width: 12px;\">coef</th>\n",
       "      <th style=\"min-width: 12px;\">exp(coef)</th>\n",
       "      <th style=\"min-width: 12px;\">se(coef)</th>\n",
       "      <th style=\"min-width: 12px;\">coef lower 95%</th>\n",
       "      <th style=\"min-width: 12px;\">coef upper 95%</th>\n",
       "      <th style=\"min-width: 12px;\">exp(coef) lower 95%</th>\n",
       "      <th style=\"min-width: 12px;\">exp(coef) upper 95%</th>\n",
       "      <th style=\"min-width: 12px;\">cmp to</th>\n",
       "      <th style=\"min-width: 12px;\">z</th>\n",
       "      <th style=\"min-width: 12px;\">p</th>\n",
       "      <th style=\"min-width: 12px;\">-log2(p)</th>\n",
       "    </tr>\n",
       "  </thead>\n",
       "  <tbody>\n",
       "    <tr>\n",
       "      <th>budget</th>\n",
       "      <td>0.00</td>\n",
       "      <td>1.00</td>\n",
       "      <td>0.00</td>\n",
       "      <td>-0.00</td>\n",
       "      <td>0.01</td>\n",
       "      <td>1.00</td>\n",
       "      <td>1.01</td>\n",
       "      <td>0.00</td>\n",
       "      <td>1.78</td>\n",
       "      <td>0.08</td>\n",
       "      <td>3.73</td>\n",
       "    </tr>\n",
       "    <tr>\n",
       "      <th>clinend</th>\n",
       "      <td>0.55</td>\n",
       "      <td>1.73</td>\n",
       "      <td>0.26</td>\n",
       "      <td>0.03</td>\n",
       "      <td>1.06</td>\n",
       "      <td>1.03</td>\n",
       "      <td>2.89</td>\n",
       "      <td>0.00</td>\n",
       "      <td>2.08</td>\n",
       "      <td>0.04</td>\n",
       "      <td>4.75</td>\n",
       "    </tr>\n",
       "    <tr>\n",
       "      <th>impact</th>\n",
       "      <td>0.06</td>\n",
       "      <td>1.06</td>\n",
       "      <td>0.01</td>\n",
       "      <td>0.05</td>\n",
       "      <td>0.07</td>\n",
       "      <td>1.05</td>\n",
       "      <td>1.07</td>\n",
       "      <td>0.00</td>\n",
       "      <td>8.74</td>\n",
       "      <td>&lt;0.005</td>\n",
       "      <td>58.52</td>\n",
       "    </tr>\n",
       "    <tr>\n",
       "      <th>multi</th>\n",
       "      <td>-0.04</td>\n",
       "      <td>0.96</td>\n",
       "      <td>0.25</td>\n",
       "      <td>-0.53</td>\n",
       "      <td>0.45</td>\n",
       "      <td>0.59</td>\n",
       "      <td>1.57</td>\n",
       "      <td>0.00</td>\n",
       "      <td>-0.16</td>\n",
       "      <td>0.87</td>\n",
       "      <td>0.20</td>\n",
       "    </tr>\n",
       "    <tr>\n",
       "      <th>posres</th>\n",
       "      <td>0.57</td>\n",
       "      <td>1.77</td>\n",
       "      <td>0.18</td>\n",
       "      <td>0.23</td>\n",
       "      <td>0.92</td>\n",
       "      <td>1.25</td>\n",
       "      <td>2.50</td>\n",
       "      <td>0.00</td>\n",
       "      <td>3.24</td>\n",
       "      <td>&lt;0.005</td>\n",
       "      <td>9.73</td>\n",
       "    </tr>\n",
       "    <tr>\n",
       "      <th>sampsize</th>\n",
       "      <td>0.00</td>\n",
       "      <td>1.00</td>\n",
       "      <td>0.00</td>\n",
       "      <td>-0.00</td>\n",
       "      <td>0.00</td>\n",
       "      <td>1.00</td>\n",
       "      <td>1.00</td>\n",
       "      <td>0.00</td>\n",
       "      <td>0.32</td>\n",
       "      <td>0.75</td>\n",
       "      <td>0.41</td>\n",
       "    </tr>\n",
       "  </tbody>\n",
       "</table><br><div>\n",
       "<style scoped>\n",
       "    .dataframe tbody tr th:only-of-type {\n",
       "        vertical-align: middle;\n",
       "    }\n",
       "\n",
       "    .dataframe tbody tr th {\n",
       "        vertical-align: top;\n",
       "    }\n",
       "\n",
       "    .dataframe thead th {\n",
       "        text-align: right;\n",
       "    }\n",
       "</style>\n",
       "<table border=\"1\" class=\"dataframe\">\n",
       "  <tbody>\n",
       "    <tr>\n",
       "      <th>Concordance</th>\n",
       "      <td>0.80</td>\n",
       "    </tr>\n",
       "    <tr>\n",
       "      <th>Partial AIC</th>\n",
       "      <td>1310.53</td>\n",
       "    </tr>\n",
       "    <tr>\n",
       "      <th>log-likelihood ratio test</th>\n",
       "      <td>149.25 on 6 df</td>\n",
       "    </tr>\n",
       "    <tr>\n",
       "      <th>-log2(p) of ll-ratio test</th>\n",
       "      <td>96.18</td>\n",
       "    </tr>\n",
       "  </tbody>\n",
       "</table>\n",
       "</div>"
      ],
      "text/latex": [
       "\\begin{tabular}{lrrrrrrrrrrr}\n",
       " & coef & exp(coef) & se(coef) & coef lower 95% & coef upper 95% & exp(coef) lower 95% & exp(coef) upper 95% & cmp to & z & p & -log2(p) \\\\\n",
       "covariate &  &  &  &  &  &  &  &  &  &  &  \\\\\n",
       "budget & 0.00 & 1.00 & 0.00 & -0.00 & 0.01 & 1.00 & 1.01 & 0.00 & 1.78 & 0.08 & 3.73 \\\\\n",
       "clinend & 0.55 & 1.73 & 0.26 & 0.03 & 1.06 & 1.03 & 2.89 & 0.00 & 2.08 & 0.04 & 4.75 \\\\\n",
       "impact & 0.06 & 1.06 & 0.01 & 0.05 & 0.07 & 1.05 & 1.07 & 0.00 & 8.74 & 0.00 & 58.52 \\\\\n",
       "multi & -0.04 & 0.96 & 0.25 & -0.53 & 0.45 & 0.59 & 1.57 & 0.00 & -0.16 & 0.87 & 0.20 \\\\\n",
       "posres & 0.57 & 1.77 & 0.18 & 0.23 & 0.92 & 1.25 & 2.50 & 0.00 & 3.24 & 0.00 & 9.73 \\\\\n",
       "sampsize & 0.00 & 1.00 & 0.00 & -0.00 & 0.00 & 1.00 & 1.00 & 0.00 & 0.32 & 0.75 & 0.41 \\\\\n",
       "\\end{tabular}\n"
      ],
      "text/plain": [
       "<lifelines.CoxPHFitter: fitted with 244 total observations, 88 right-censored observations>\n",
       "             duration col = 'time'\n",
       "                event col = 'status'\n",
       "      baseline estimation = breslow\n",
       "   number of observations = 244\n",
       "number of events observed = 156\n",
       "   partial log-likelihood = -649.26\n",
       "         time fit was run = 2023-01-30 07:20:08 UTC\n",
       "\n",
       "---\n",
       "            coef  exp(coef)   se(coef)   coef lower 95%   coef upper 95%  exp(coef) lower 95%  exp(coef) upper 95%\n",
       "covariate                                                                                                         \n",
       "budget      0.00       1.00       0.00            -0.00             0.01                 1.00                 1.01\n",
       "clinend     0.55       1.73       0.26             0.03             1.06                 1.03                 2.89\n",
       "impact      0.06       1.06       0.01             0.05             0.07                 1.05                 1.07\n",
       "multi      -0.04       0.96       0.25            -0.53             0.45                 0.59                 1.57\n",
       "posres      0.57       1.77       0.18             0.23             0.92                 1.25                 2.50\n",
       "sampsize    0.00       1.00       0.00            -0.00             0.00                 1.00                 1.00\n",
       "\n",
       "            cmp to     z      p   -log2(p)\n",
       "covariate                                 \n",
       "budget        0.00  1.78   0.08       3.73\n",
       "clinend       0.00  2.08   0.04       4.75\n",
       "impact        0.00  8.74 <0.005      58.52\n",
       "multi         0.00 -0.16   0.87       0.20\n",
       "posres        0.00  3.24 <0.005       9.73\n",
       "sampsize      0.00  0.32   0.75       0.41\n",
       "---\n",
       "Concordance = 0.80\n",
       "Partial AIC = 1310.53\n",
       "log-likelihood ratio test = 149.25 on 6 df\n",
       "-log2(p) of ll-ratio test = 96.18"
      ]
     },
     "metadata": {},
     "output_type": "display_data"
    }
   ],
   "source": [
    "cph_ll = CoxPHFitter()\n",
    "cph_ll_fit = cph_ll.fit(publication_df, 'time', 'status', formula='posres + multi + clinend + sampsize + budget + impact')\n",
    "\n",
    "cph_ll_fit.print_summary()"
   ]
  },
  {
   "cell_type": "markdown",
   "id": "ff31fb10-5971-411c-a548-2296c806deab",
   "metadata": {},
   "source": [
    "## 11.8.3 Call Center Data"
   ]
  },
  {
   "cell_type": "code",
   "execution_count": 42,
   "id": "e5bd4278-1329-4bde-b03c-bc3a94a2684f",
   "metadata": {},
   "outputs": [],
   "source": [
    "%%R\n",
    "set.seed(4)\n",
    "N <- 2000\n",
    "Operators <- sample(5:15, N, replace = T)\n",
    "Center <- sample(c(\"A\", \"B\", \"C\"), N, replace = T)\n",
    "Time <- sample(c(\"Morn.\", \"After.\", \"Even.\"), N, replace = T)\n",
    "X <- model.matrix( ~ Operators + Center + Time)[, -1]"
   ]
  },
  {
   "cell_type": "code",
   "execution_count": 43,
   "id": "831b27cf-a148-4eb8-9934-448a885010b6",
   "metadata": {},
   "outputs": [
    {
     "name": "stdout",
     "output_type": "stream",
     "text": [
      "  Operators CenterB CenterC TimeEven. TimeMorn.\n",
      "1        12       1       0         0         1\n",
      "2        15       0       0         0         0\n",
      "3         7       0       1         1         0\n",
      "4         7       0       0         0         0\n",
      "5        11       0       1         0         1\n"
     ]
    }
   ],
   "source": [
    "%%R\n",
    "X[1:5, ]"
   ]
  },
  {
   "cell_type": "code",
   "execution_count": 44,
   "id": "949793dd-ec0e-4314-a178-a0eeeb44bf03",
   "metadata": {},
   "outputs": [
    {
     "data": {
      "text/html": [
       "<div>\n",
       "<style scoped>\n",
       "    .dataframe tbody tr th:only-of-type {\n",
       "        vertical-align: middle;\n",
       "    }\n",
       "\n",
       "    .dataframe tbody tr th {\n",
       "        vertical-align: top;\n",
       "    }\n",
       "\n",
       "    .dataframe thead th {\n",
       "        text-align: right;\n",
       "    }\n",
       "</style>\n",
       "<table border=\"1\" class=\"dataframe\">\n",
       "  <thead>\n",
       "    <tr style=\"text-align: right;\">\n",
       "      <th></th>\n",
       "      <th>Operators</th>\n",
       "      <th>Center_B</th>\n",
       "      <th>Center_C</th>\n",
       "      <th>Time_Even.</th>\n",
       "      <th>Time_Morn.</th>\n",
       "    </tr>\n",
       "  </thead>\n",
       "  <tbody>\n",
       "    <tr>\n",
       "      <th>1</th>\n",
       "      <td>12</td>\n",
       "      <td>1</td>\n",
       "      <td>0</td>\n",
       "      <td>0</td>\n",
       "      <td>1</td>\n",
       "    </tr>\n",
       "    <tr>\n",
       "      <th>2</th>\n",
       "      <td>15</td>\n",
       "      <td>0</td>\n",
       "      <td>0</td>\n",
       "      <td>0</td>\n",
       "      <td>0</td>\n",
       "    </tr>\n",
       "    <tr>\n",
       "      <th>3</th>\n",
       "      <td>7</td>\n",
       "      <td>0</td>\n",
       "      <td>1</td>\n",
       "      <td>1</td>\n",
       "      <td>0</td>\n",
       "    </tr>\n",
       "    <tr>\n",
       "      <th>4</th>\n",
       "      <td>7</td>\n",
       "      <td>0</td>\n",
       "      <td>0</td>\n",
       "      <td>0</td>\n",
       "      <td>0</td>\n",
       "    </tr>\n",
       "    <tr>\n",
       "      <th>5</th>\n",
       "      <td>11</td>\n",
       "      <td>0</td>\n",
       "      <td>1</td>\n",
       "      <td>0</td>\n",
       "      <td>1</td>\n",
       "    </tr>\n",
       "  </tbody>\n",
       "</table>\n",
       "</div>"
      ],
      "text/plain": [
       "   Operators  Center_B  Center_C  Time_Even.  Time_Morn.\n",
       "1         12         1         0           0           1\n",
       "2         15         0         0           0           0\n",
       "3          7         0         1           1           0\n",
       "4          7         0         0           0           0\n",
       "5         11         0         1           0           1"
      ]
     },
     "execution_count": 44,
     "metadata": {},
     "output_type": "execute_result"
    }
   ],
   "source": [
    "r_data = robjects.r(\"\"\"\n",
    "set.seed(4)\n",
    "N <- 2000\n",
    "Operators <- sample(5:15, N, replace = T)\n",
    "Center <- sample(c(\"A\", \"B\", \"C\"), N, replace = T)\n",
    "Time <- sample(c(\"Morn.\", \"After.\", \"Even.\"), N, replace = T)\n",
    "X_df = data.frame(Operators, Center, Time)\n",
    "\"\"\")\n",
    "\n",
    "with localconverter(robjects.default_converter + pandas2ri.converter):\n",
    "    call_center_df = robjects.conversion.rpy2py(r_data)\n",
    "    \n",
    "call_center_df_dummies = pd.get_dummies(call_center_df, columns=['Center', 'Time'], drop_first=True)\n",
    "\n",
    "call_center_df_dummies[0:5]"
   ]
  },
  {
   "cell_type": "code",
   "execution_count": 45,
   "id": "3b2c8016-0e3b-462d-ba4e-1884437ef9fb",
   "metadata": {},
   "outputs": [],
   "source": [
    "%%R\n",
    "true.beta <- c(0.04, -0.3, 0, 0.2, -0.2)\n",
    "h.fn <- function(x) return(0.00001 * x)"
   ]
  },
  {
   "cell_type": "code",
   "execution_count": 46,
   "id": "2552c189-046a-406a-9a8b-690cc3bac62d",
   "metadata": {},
   "outputs": [
    {
     "name": "stderr",
     "output_type": "stream",
     "text": [
      "R[write to console]: Loading required package: rms\n",
      "\n",
      "R[write to console]: Loading required package: Hmisc\n",
      "\n",
      "R[write to console]: Loading required package: lattice\n",
      "\n",
      "R[write to console]: Loading required package: Formula\n",
      "\n",
      "R[write to console]: Loading required package: ggplot2\n",
      "\n",
      "R[write to console]: \n",
      "Attaching package: ‘Hmisc’\n",
      "\n",
      "\n",
      "R[write to console]: The following objects are masked from ‘package:base’:\n",
      "\n",
      "    format.pval, units\n",
      "\n",
      "\n",
      "R[write to console]: Loading required package: SparseM\n",
      "\n",
      "R[write to console]: \n",
      "Attaching package: ‘SparseM’\n",
      "\n",
      "\n",
      "R[write to console]: The following object is masked from ‘package:base’:\n",
      "\n",
      "    backsolve\n",
      "\n",
      "\n",
      "R[write to console]: Loading required package: mgcv\n",
      "\n",
      "R[write to console]: Loading required package: nlme\n",
      "\n",
      "R[write to console]: This is mgcv 1.8-40. For overview type 'help(\"mgcv-package\")'.\n",
      "\n"
     ]
    }
   ],
   "source": [
    "%%R\n",
    "library(coxed)"
   ]
  },
  {
   "cell_type": "code",
   "execution_count": 47,
   "id": "b48b1013-40dd-44ed-b2ec-42ca15055fe1",
   "metadata": {},
   "outputs": [
    {
     "name": "stdout",
     "output_type": "stream",
     "text": [
      "[1] \"data\"             \"xdata\"            \"baseline\"         \"xb\"              \n",
      "[5] \"exp.xb\"           \"betas\"            \"ind.survive\"      \"marg.effect\"     \n",
      "[9] \"marg.effect.data\"\n"
     ]
    }
   ],
   "source": [
    "%%R\n",
    "queuing <- sim.survdata(N = N, T = 1000, X = X,\n",
    "beta = true.beta, hazard.fun = h.fn)\n",
    "\n",
    "names(queuing)"
   ]
  },
  {
   "cell_type": "markdown",
   "id": "65873a6d-39c2-42dc-9080-798eb0cd627d",
   "metadata": {},
   "source": [
    "Because of the randomness when generating simulated survival data using `sim.survdata` in R, it would be difficult to reproduce in Python, however by accessing the data property of the simulated data, I can use the `robjects` library to get it into Python."
   ]
  },
  {
   "cell_type": "code",
   "execution_count": 48,
   "id": "8dd47e77-68c5-4f86-9585-79118c18802b",
   "metadata": {},
   "outputs": [],
   "source": [
    "r_data = robjects.r(\"\"\"\n",
    "queuing_data <- queuing$data\n",
    "\"\"\")\n",
    "\n",
    "with localconverter(robjects.default_converter + pandas2ri.converter):\n",
    "    queuing_df = robjects.conversion.rpy2py(r_data)"
   ]
  },
  {
   "cell_type": "code",
   "execution_count": 49,
   "id": "226d6343-fa41-4464-a078-18705f979890",
   "metadata": {},
   "outputs": [
    {
     "name": "stdout",
     "output_type": "stream",
     "text": [
      "  Operators CenterB CenterC TimeEven. TimeMorn.   y failed\n",
      "1        12       1       0         0         1 344   TRUE\n",
      "2        15       0       0         0         0 241   TRUE\n",
      "3         7       0       1         1         0 187   TRUE\n",
      "4         7       0       0         0         0 279   TRUE\n",
      "5        11       0       1         0         1 954   TRUE\n",
      "6         7       1       0         0         1 455   TRUE\n"
     ]
    }
   ],
   "source": [
    "%%R\n",
    "head(queuing$data)"
   ]
  },
  {
   "cell_type": "code",
   "execution_count": 50,
   "id": "67080315-598e-408d-808a-8de021f846bc",
   "metadata": {},
   "outputs": [
    {
     "data": {
      "text/html": [
       "<div>\n",
       "<style scoped>\n",
       "    .dataframe tbody tr th:only-of-type {\n",
       "        vertical-align: middle;\n",
       "    }\n",
       "\n",
       "    .dataframe tbody tr th {\n",
       "        vertical-align: top;\n",
       "    }\n",
       "\n",
       "    .dataframe thead th {\n",
       "        text-align: right;\n",
       "    }\n",
       "</style>\n",
       "<table border=\"1\" class=\"dataframe\">\n",
       "  <thead>\n",
       "    <tr style=\"text-align: right;\">\n",
       "      <th></th>\n",
       "      <th>Operators</th>\n",
       "      <th>CenterB</th>\n",
       "      <th>CenterC</th>\n",
       "      <th>TimeEven.</th>\n",
       "      <th>TimeMorn.</th>\n",
       "      <th>y</th>\n",
       "      <th>failed</th>\n",
       "    </tr>\n",
       "  </thead>\n",
       "  <tbody>\n",
       "    <tr>\n",
       "      <th>1</th>\n",
       "      <td>12.0</td>\n",
       "      <td>1.0</td>\n",
       "      <td>0.0</td>\n",
       "      <td>0.0</td>\n",
       "      <td>1.0</td>\n",
       "      <td>344</td>\n",
       "      <td>True</td>\n",
       "    </tr>\n",
       "    <tr>\n",
       "      <th>2</th>\n",
       "      <td>15.0</td>\n",
       "      <td>0.0</td>\n",
       "      <td>0.0</td>\n",
       "      <td>0.0</td>\n",
       "      <td>0.0</td>\n",
       "      <td>241</td>\n",
       "      <td>True</td>\n",
       "    </tr>\n",
       "    <tr>\n",
       "      <th>3</th>\n",
       "      <td>7.0</td>\n",
       "      <td>0.0</td>\n",
       "      <td>1.0</td>\n",
       "      <td>1.0</td>\n",
       "      <td>0.0</td>\n",
       "      <td>187</td>\n",
       "      <td>True</td>\n",
       "    </tr>\n",
       "    <tr>\n",
       "      <th>4</th>\n",
       "      <td>7.0</td>\n",
       "      <td>0.0</td>\n",
       "      <td>0.0</td>\n",
       "      <td>0.0</td>\n",
       "      <td>0.0</td>\n",
       "      <td>279</td>\n",
       "      <td>True</td>\n",
       "    </tr>\n",
       "    <tr>\n",
       "      <th>5</th>\n",
       "      <td>11.0</td>\n",
       "      <td>0.0</td>\n",
       "      <td>1.0</td>\n",
       "      <td>0.0</td>\n",
       "      <td>1.0</td>\n",
       "      <td>954</td>\n",
       "      <td>True</td>\n",
       "    </tr>\n",
       "  </tbody>\n",
       "</table>\n",
       "</div>"
      ],
      "text/plain": [
       "   Operators  CenterB  CenterC  TimeEven.  TimeMorn.    y  failed\n",
       "1       12.0      1.0      0.0        0.0        1.0  344    True\n",
       "2       15.0      0.0      0.0        0.0        0.0  241    True\n",
       "3        7.0      0.0      1.0        1.0        0.0  187    True\n",
       "4        7.0      0.0      0.0        0.0        0.0  279    True\n",
       "5       11.0      0.0      1.0        0.0        1.0  954    True"
      ]
     },
     "execution_count": 50,
     "metadata": {},
     "output_type": "execute_result"
    }
   ],
   "source": [
    "queuing_df.head()"
   ]
  },
  {
   "cell_type": "code",
   "execution_count": 51,
   "id": "d5b00f1f-e927-450f-8527-f03629f300e4",
   "metadata": {},
   "outputs": [
    {
     "name": "stdout",
     "output_type": "stream",
     "text": [
      "[1] 0.89\n"
     ]
    }
   ],
   "source": [
    "%%R\n",
    "mean(queuing$data$failed)"
   ]
  },
  {
   "cell_type": "code",
   "execution_count": 52,
   "id": "e825ba87-474a-4f30-aec0-fe1dbdecaaf2",
   "metadata": {},
   "outputs": [
    {
     "data": {
      "text/plain": [
       "0.89"
      ]
     },
     "execution_count": 52,
     "metadata": {},
     "output_type": "execute_result"
    }
   ],
   "source": [
    "queuing_df['failed'].mean()"
   ]
  },
  {
   "cell_type": "code",
   "execution_count": 53,
   "id": "8da0f14f-534b-4b1d-b339-782cb0cb5842",
   "metadata": {
    "tags": []
   },
   "outputs": [],
   "source": [
    "%%R\n",
    "par(mfrow = c(1,2))\n",
    "fit.Center <- survfit(Surv(y, failed) ~ Center,\n",
    "                      data = queuing$data)"
   ]
  },
  {
   "cell_type": "markdown",
   "id": "588d9033-ac93-4a57-b53b-22e68f9cf3dc",
   "metadata": {},
   "source": [
    "#### Using Lifelines\n",
    "In `lifelines`, if we want to segment by different levels of a predictor, we have to fit a KaplanMeier curve separately for each level."
   ]
  },
  {
   "cell_type": "code",
   "execution_count": 54,
   "id": "2c98d552-b106-44ec-80c0-f078a0fa99fd",
   "metadata": {},
   "outputs": [
    {
     "data": {
      "text/plain": [
       "<lifelines.KaplanMeierFitter:\"Call Center C\", fitted with 650 total observations, 73 right-censored observations>"
      ]
     },
     "execution_count": 54,
     "metadata": {},
     "output_type": "execute_result"
    }
   ],
   "source": [
    "center_b_idx = (queuing_df['CenterB'] == 1)\n",
    "center_c_idx = (queuing_df['CenterC'] == 1)\n",
    "center_a_idx = (~(center_b_idx) & ~(center_c_idx))\n",
    "\n",
    "kmf_ll_a = KaplanMeierFitter(label='Call Center A')\n",
    "kmf_ll_a.fit(durations=queuing_df['y'][center_a_idx], \n",
    "             event_observed=queuing_df['failed'][center_a_idx])\n",
    "\n",
    "kmf_ll_b = KaplanMeierFitter(label='Call Center B')\n",
    "kmf_ll_b.fit(durations=queuing_df['y'][center_b_idx], \n",
    "             event_observed=queuing_df['failed'][center_b_idx])\n",
    "\n",
    "kmf_ll_c = KaplanMeierFitter(label='Call Center C')\n",
    "kmf_ll_c.fit(durations=queuing_df['y'][center_c_idx],\n",
    "             event_observed=queuing_df['failed'][center_c_idx])"
   ]
  },
  {
   "cell_type": "code",
   "execution_count": 55,
   "id": "a277d72d-db59-469d-8fd0-728b6ac15bc2",
   "metadata": {},
   "outputs": [
    {
     "data": {
      "image/png": "[encoded data removed]"
     },
     "metadata": {},
     "output_type": "display_data"
    }
   ],
   "source": [
    "%%R\n",
    "plot(fit.Center, xlab = 'Seconds',\n",
    "    ylab = 'Probability of Still Being on Hold',\n",
    "    col = c(2, 4, 5))\n",
    "legend(\"topright\",\n",
    "      c(\"Call Center A\", \"Call Center B\", \"Call Center C\"),\n",
    "      col = c(2, 4, 5), lty = 1)"
   ]
  },
  {
   "cell_type": "code",
   "execution_count": 56,
   "id": "2db1406a-e2ab-45fe-863a-0d148edc12d1",
   "metadata": {},
   "outputs": [
    {
     "data": {
      "image/png": "[encoded data removed]",
      "text/plain": [
       "<Figure size 576x432 with 1 Axes>"
      ]
     },
     "metadata": {
      "needs_background": "light"
     },
     "output_type": "display_data"
    }
   ],
   "source": [
    "fig, ax = plt.subplots(1,1, figsize=(8,6))\n",
    "\n",
    "kmf_ll_a.survival_function_.plot(ax=ax)\n",
    "plt.xlabel('Seconds')\n",
    "plt.yticks(np.arange(0, 1.1, 0.2))\n",
    "plt.ylabel('Probability of Still Being on Hold')\n",
    "\n",
    "kmf_ll_b.survival_function_.plot(ax=ax)\n",
    "plt.xlabel('Seconds')\n",
    "plt.yticks(np.arange(0, 1.1, 0.2))\n",
    "plt.ylabel('Probability of Still Being on Hold')\n",
    "\n",
    "\n",
    "kmf_ll_c.survival_function_.plot(ax=ax)\n",
    "plt.xlabel('Seconds')\n",
    "plt.yticks(np.arange(0, 1.1, 0.2))\n",
    "plt.ylabel('Probability of Still Being on Hold');"
   ]
  },
  {
   "cell_type": "code",
   "execution_count": 57,
   "id": "8def124a-ad5e-4eae-9c8c-760448bc17d8",
   "metadata": {},
   "outputs": [
    {
     "data": {
      "image/png": "[encoded data removed]"
     },
     "metadata": {},
     "output_type": "display_data"
    }
   ],
   "source": [
    "%%R\n",
    "fit.Time <- survfit(Surv(y, failed) ~ Time,\n",
    "                    data = queuing$data)\n",
    "plot(fit.Time, xlab = \"Seconds\",\n",
    "    ylab = 'Probability of Still Being on Hold',\n",
    "    col = c(2, 4, 5))\n",
    "legend(\"topright\", c(\"Morning\", \"Afternoon\", \"Evening\"),\n",
    "      col = c(5, 2, 4), lty = 1)"
   ]
  },
  {
   "cell_type": "markdown",
   "id": "9466099c-2743-4cce-96d1-da2c9b7de1e9",
   "metadata": {},
   "source": [
    "#### Using Lifelines"
   ]
  },
  {
   "cell_type": "code",
   "execution_count": 58,
   "id": "ca29de2c-e9e5-4228-9b28-edb12b0243f5",
   "metadata": {},
   "outputs": [
    {
     "data": {
      "image/png": "[encoded data removed]",
      "text/plain": [
       "<Figure size 576x432 with 1 Axes>"
      ]
     },
     "metadata": {
      "needs_background": "light"
     },
     "output_type": "display_data"
    }
   ],
   "source": [
    "time_morn_idx = (queuing_df['TimeMorn.'] == 1)\n",
    "time_even_idx = (queuing_df['TimeEven.'] == 1)\n",
    "time_after_idx = (~(time_morn_idx) & ~(time_even_idx))\n",
    "\n",
    "kmf_ll_morn = KaplanMeierFitter(label='Morning')\n",
    "kmf_ll_morn.fit(durations=queuing_df['y'][time_morn_idx], \n",
    "             event_observed=queuing_df['failed'][time_morn_idx])\n",
    "\n",
    "kmf_ll_after = KaplanMeierFitter(label='Afternoon')\n",
    "kmf_ll_after.fit(durations=queuing_df['y'][time_after_idx], \n",
    "             event_observed=queuing_df['failed'][time_after_idx])\n",
    "\n",
    "kmf_ll_even = KaplanMeierFitter(label='Evening')\n",
    "kmf_ll_even.fit(durations=queuing_df['y'][time_even_idx],\n",
    "             event_observed=queuing_df['failed'][time_even_idx])\n",
    "\n",
    "fig, ax = plt.subplots(1,1, figsize=(8,6))\n",
    "\n",
    "kmf_ll_morn.survival_function_.plot(ax=ax)\n",
    "plt.xlabel('Seconds')\n",
    "plt.yticks(np.arange(0, 1.1, 0.2))\n",
    "plt.ylabel('Probability of Still Being on Hold')\n",
    "\n",
    "kmf_ll_after.survival_function_.plot(ax=ax)\n",
    "plt.xlabel('Seconds')\n",
    "plt.yticks(np.arange(0, 1.1, 0.2))\n",
    "plt.ylabel('Probability of Still Being on Hold')\n",
    "\n",
    "\n",
    "kmf_ll_even.survival_function_.plot(ax=ax)\n",
    "plt.xlabel('Seconds')\n",
    "plt.yticks(np.arange(0, 1.1, 0.2))\n",
    "plt.ylabel('Probability of Still Being on Hold');"
   ]
  },
  {
   "cell_type": "code",
   "execution_count": 59,
   "id": "b0028a20-b535-4293-9589-88a45d308129",
   "metadata": {},
   "outputs": [
    {
     "name": "stdout",
     "output_type": "stream",
     "text": [
      "Call:\n",
      "survdiff(formula = Surv(y, failed) ~ Center, data = queuing$data)\n",
      "\n",
      "           N Observed Expected (O-E)^2/E (O-E)^2/V\n",
      "Center=A 683      603      579     0.971      1.45\n",
      "Center=B 667      600      701    14.641     24.64\n",
      "Center=C 650      577      499    12.062     17.05\n",
      "\n",
      " Chisq= 28.3  on 2 degrees of freedom, p= 7e-07 \n"
     ]
    }
   ],
   "source": [
    "%%R\n",
    "survdiff(Surv(y, failed) ~ Center, data = queuing$data)"
   ]
  },
  {
   "cell_type": "markdown",
   "id": "c5eb0923-7ddf-4b0f-bb2b-5f14d37d9809",
   "metadata": {},
   "source": [
    "#### Using scikit-survival\n",
    "Again, `scikit-survival` does a good job of recreating most of the output of R's `survdiff()` function."
   ]
  },
  {
   "cell_type": "code",
   "execution_count": 60,
   "id": "167c66f0-1b37-4bbc-a078-b3596c5faa04",
   "metadata": {},
   "outputs": [
    {
     "name": "stdout",
     "output_type": "stream",
     "text": [
      "Scikit-survival Chi-Square Test Statistic: 28.261\n",
      "Scikit-survival P-Value: 0.0000\n"
     ]
    },
    {
     "data": {
      "text/html": [
       "<div>\n",
       "<style scoped>\n",
       "    .dataframe tbody tr th:only-of-type {\n",
       "        vertical-align: middle;\n",
       "    }\n",
       "\n",
       "    .dataframe tbody tr th {\n",
       "        vertical-align: top;\n",
       "    }\n",
       "\n",
       "    .dataframe thead th {\n",
       "        text-align: right;\n",
       "    }\n",
       "</style>\n",
       "<table border=\"1\" class=\"dataframe\">\n",
       "  <thead>\n",
       "    <tr style=\"text-align: right;\">\n",
       "      <th></th>\n",
       "      <th>counts</th>\n",
       "      <th>observed</th>\n",
       "      <th>expected</th>\n",
       "      <th>statistic</th>\n",
       "    </tr>\n",
       "    <tr>\n",
       "      <th>group</th>\n",
       "      <th></th>\n",
       "      <th></th>\n",
       "      <th></th>\n",
       "      <th></th>\n",
       "    </tr>\n",
       "  </thead>\n",
       "  <tbody>\n",
       "    <tr>\n",
       "      <th>A</th>\n",
       "      <td>683</td>\n",
       "      <td>603</td>\n",
       "      <td>579.281031</td>\n",
       "      <td>23.718969</td>\n",
       "    </tr>\n",
       "    <tr>\n",
       "      <th>B</th>\n",
       "      <td>667</td>\n",
       "      <td>600</td>\n",
       "      <td>701.330745</td>\n",
       "      <td>-101.330745</td>\n",
       "    </tr>\n",
       "    <tr>\n",
       "      <th>C</th>\n",
       "      <td>650</td>\n",
       "      <td>577</td>\n",
       "      <td>499.388224</td>\n",
       "      <td>77.611776</td>\n",
       "    </tr>\n",
       "  </tbody>\n",
       "</table>\n",
       "</div>"
      ],
      "text/plain": [
       "       counts  observed    expected   statistic\n",
       "group                                          \n",
       "A         683       603  579.281031   23.718969\n",
       "B         667       600  701.330745 -101.330745\n",
       "C         650       577  499.388224   77.611776"
      ]
     },
     "execution_count": 60,
     "metadata": {},
     "output_type": "execute_result"
    }
   ],
   "source": [
    "centers = call_center_df['Center'].values\n",
    "x = []\n",
    "\n",
    "for item in zip(queuing_df['failed'].astype(bool), queuing_df['y']):\n",
    "    x.append(item)\n",
    "\n",
    "x = np.array(x, dtype='bool,f').flatten()\n",
    "\n",
    "test_stat, p_val, surv_counts, covar = compare_survival(x, centers, return_stats=True)\n",
    "\n",
    "print(f'Scikit-survival Chi-Square Test Statistic: {test_stat:.3f}')\n",
    "print(f'Scikit-survival P-Value: {p_val:.4f}')\n",
    "surv_counts"
   ]
  },
  {
   "cell_type": "code",
   "execution_count": 61,
   "id": "807b978e-d408-4664-8956-0aaa415d9b63",
   "metadata": {},
   "outputs": [
    {
     "name": "stdout",
     "output_type": "stream",
     "text": [
      "Call:\n",
      "survdiff(formula = Surv(y, failed) ~ Time, data = queuing$data)\n",
      "\n",
      "              N Observed Expected (O-E)^2/E (O-E)^2/V\n",
      "Time=After. 688      616      619    0.0135     0.021\n",
      "Time=Even.  653      582      468   27.6353    38.353\n",
      "Time=Morn.  659      582      693   17.7381    29.893\n",
      "\n",
      " Chisq= 46.8  on 2 degrees of freedom, p= 7e-11 \n"
     ]
    }
   ],
   "source": [
    "%%R\n",
    "survdiff(Surv(y, failed) ~ Time, data = queuing$data)"
   ]
  },
  {
   "cell_type": "markdown",
   "id": "bd09ac68-3888-437c-abf2-61ed99b0d250",
   "metadata": {},
   "source": [
    "#### Using scikit-survival"
   ]
  },
  {
   "cell_type": "code",
   "execution_count": 62,
   "id": "5b1dbb28-525a-423f-9661-a2e1fd60727d",
   "metadata": {},
   "outputs": [
    {
     "name": "stdout",
     "output_type": "stream",
     "text": [
      "Scikit-survival Chi-Square Test Statistic: 46.787\n",
      "Scikit-survival P-Value: 6.925298148953775e-11\n"
     ]
    },
    {
     "data": {
      "text/html": [
       "<div>\n",
       "<style scoped>\n",
       "    .dataframe tbody tr th:only-of-type {\n",
       "        vertical-align: middle;\n",
       "    }\n",
       "\n",
       "    .dataframe tbody tr th {\n",
       "        vertical-align: top;\n",
       "    }\n",
       "\n",
       "    .dataframe thead th {\n",
       "        text-align: right;\n",
       "    }\n",
       "</style>\n",
       "<table border=\"1\" class=\"dataframe\">\n",
       "  <thead>\n",
       "    <tr style=\"text-align: right;\">\n",
       "      <th></th>\n",
       "      <th>counts</th>\n",
       "      <th>observed</th>\n",
       "      <th>expected</th>\n",
       "      <th>statistic</th>\n",
       "    </tr>\n",
       "    <tr>\n",
       "      <th>group</th>\n",
       "      <th></th>\n",
       "      <th></th>\n",
       "      <th></th>\n",
       "      <th></th>\n",
       "    </tr>\n",
       "  </thead>\n",
       "  <tbody>\n",
       "    <tr>\n",
       "      <th>After.</th>\n",
       "      <td>688</td>\n",
       "      <td>616</td>\n",
       "      <td>618.894245</td>\n",
       "      <td>-2.894245</td>\n",
       "    </tr>\n",
       "    <tr>\n",
       "      <th>Even.</th>\n",
       "      <td>653</td>\n",
       "      <td>582</td>\n",
       "      <td>468.245400</td>\n",
       "      <td>113.754600</td>\n",
       "    </tr>\n",
       "    <tr>\n",
       "      <th>Morn.</th>\n",
       "      <td>659</td>\n",
       "      <td>582</td>\n",
       "      <td>692.860355</td>\n",
       "      <td>-110.860355</td>\n",
       "    </tr>\n",
       "  </tbody>\n",
       "</table>\n",
       "</div>"
      ],
      "text/plain": [
       "        counts  observed    expected   statistic\n",
       "group                                           \n",
       "After.     688       616  618.894245   -2.894245\n",
       "Even.      653       582  468.245400  113.754600\n",
       "Morn.      659       582  692.860355 -110.860355"
      ]
     },
     "execution_count": 62,
     "metadata": {},
     "output_type": "execute_result"
    }
   ],
   "source": [
    "times = call_center_df['Time']\n",
    "x = []\n",
    "\n",
    "for item in zip(queuing_df['failed'].astype(bool), queuing_df['y']):\n",
    "    x.append(item)\n",
    "\n",
    "x = np.array(x, dtype='bool,f').flatten()\n",
    "\n",
    "test_stat, p_val, surv_counts, covar = compare_survival(x, times, return_stats=True)\n",
    "\n",
    "print(f'Scikit-survival Chi-Square Test Statistic: {test_stat:.3f}')\n",
    "print(f'Scikit-survival P-Value: {p_val}')\n",
    "surv_counts"
   ]
  },
  {
   "cell_type": "code",
   "execution_count": 63,
   "id": "d488415d-88f9-4170-8298-8c717a9838e3",
   "metadata": {},
   "outputs": [
    {
     "name": "stdout",
     "output_type": "stream",
     "text": [
      "Call:\n",
      "coxph(formula = Surv(y, failed) ~ ., data = queuing$data)\n",
      "\n",
      "              coef exp(coef) se(coef)      z        p\n",
      "Operators  0.04174   1.04263  0.00759  5.500  3.8e-08\n",
      "CenterB   -0.21879   0.80349  0.05793 -3.777 0.000159\n",
      "CenterC    0.07930   1.08253  0.05850  1.356 0.175256\n",
      "TimeEven.  0.20904   1.23249  0.05820  3.592 0.000328\n",
      "TimeMorn. -0.17352   0.84070  0.05811 -2.986 0.002828\n",
      "\n",
      "Likelihood ratio test=102.8  on 5 df, p=< 2.2e-16\n",
      "n= 2000, number of events= 1780 \n"
     ]
    }
   ],
   "source": [
    "%%R\n",
    "fit.queuing <- coxph(Surv(y, failed) ~ .,\n",
    "                    data = queuing$data)\n",
    "fit.queuing"
   ]
  },
  {
   "cell_type": "code",
   "execution_count": 64,
   "id": "a100a24f-163c-461e-ba6e-825d718aeb8e",
   "metadata": {},
   "outputs": [],
   "source": [
    "y = np.array(queuing_df['y'])\n",
    "failed = np.array(queuing_df['failed'])\n",
    "\n",
    "call_center_df['y'] = y\n",
    "call_center_df['failed'] = failed"
   ]
  },
  {
   "cell_type": "markdown",
   "id": "dc00369f-5fb4-453c-99a6-e1e364fe9ee8",
   "metadata": {},
   "source": [
    "#### Using Lifelines"
   ]
  },
  {
   "cell_type": "code",
   "execution_count": 65,
   "id": "4c3660c8-eade-4690-b800-36b16bfbe997",
   "metadata": {},
   "outputs": [
    {
     "data": {
      "text/html": [
       "<div>\n",
       "<style scoped>\n",
       "    .dataframe tbody tr th:only-of-type {\n",
       "        vertical-align: middle;\n",
       "    }\n",
       "\n",
       "    .dataframe tbody tr th {\n",
       "        vertical-align: top;\n",
       "    }\n",
       "\n",
       "    .dataframe thead th {\n",
       "        text-align: right;\n",
       "    }\n",
       "</style>\n",
       "<table border=\"1\" class=\"dataframe\">\n",
       "  <tbody>\n",
       "    <tr>\n",
       "      <th>model</th>\n",
       "      <td>lifelines.CoxPHFitter</td>\n",
       "    </tr>\n",
       "    <tr>\n",
       "      <th>duration col</th>\n",
       "      <td>'y'</td>\n",
       "    </tr>\n",
       "    <tr>\n",
       "      <th>event col</th>\n",
       "      <td>'failed'</td>\n",
       "    </tr>\n",
       "    <tr>\n",
       "      <th>baseline estimation</th>\n",
       "      <td>breslow</td>\n",
       "    </tr>\n",
       "    <tr>\n",
       "      <th>number of observations</th>\n",
       "      <td>2000</td>\n",
       "    </tr>\n",
       "    <tr>\n",
       "      <th>number of events observed</th>\n",
       "      <td>1780</td>\n",
       "    </tr>\n",
       "    <tr>\n",
       "      <th>partial log-likelihood</th>\n",
       "      <td>-11699.73</td>\n",
       "    </tr>\n",
       "    <tr>\n",
       "      <th>time fit was run</th>\n",
       "      <td>2023-01-30 07:20:12 UTC</td>\n",
       "    </tr>\n",
       "  </tbody>\n",
       "</table>\n",
       "</div><table border=\"1\" class=\"dataframe\">\n",
       "  <thead>\n",
       "    <tr style=\"text-align: right;\">\n",
       "      <th style=\"min-width: 12px;\"></th>\n",
       "      <th style=\"min-width: 12px;\">coef</th>\n",
       "      <th style=\"min-width: 12px;\">exp(coef)</th>\n",
       "      <th style=\"min-width: 12px;\">se(coef)</th>\n",
       "      <th style=\"min-width: 12px;\">coef lower 95%</th>\n",
       "      <th style=\"min-width: 12px;\">coef upper 95%</th>\n",
       "      <th style=\"min-width: 12px;\">exp(coef) lower 95%</th>\n",
       "      <th style=\"min-width: 12px;\">exp(coef) upper 95%</th>\n",
       "      <th style=\"min-width: 12px;\">cmp to</th>\n",
       "      <th style=\"min-width: 12px;\">z</th>\n",
       "      <th style=\"min-width: 12px;\">p</th>\n",
       "      <th style=\"min-width: 12px;\">-log2(p)</th>\n",
       "    </tr>\n",
       "  </thead>\n",
       "  <tbody>\n",
       "    <tr>\n",
       "      <th>Center[T.B]</th>\n",
       "      <td>-0.22</td>\n",
       "      <td>0.80</td>\n",
       "      <td>0.06</td>\n",
       "      <td>-0.33</td>\n",
       "      <td>-0.11</td>\n",
       "      <td>0.72</td>\n",
       "      <td>0.90</td>\n",
       "      <td>0.00</td>\n",
       "      <td>-3.78</td>\n",
       "      <td>&lt;0.005</td>\n",
       "      <td>12.62</td>\n",
       "    </tr>\n",
       "    <tr>\n",
       "      <th>Center[T.C]</th>\n",
       "      <td>0.08</td>\n",
       "      <td>1.08</td>\n",
       "      <td>0.06</td>\n",
       "      <td>-0.04</td>\n",
       "      <td>0.19</td>\n",
       "      <td>0.97</td>\n",
       "      <td>1.21</td>\n",
       "      <td>0.00</td>\n",
       "      <td>1.36</td>\n",
       "      <td>0.18</td>\n",
       "      <td>2.51</td>\n",
       "    </tr>\n",
       "    <tr>\n",
       "      <th>Operators</th>\n",
       "      <td>0.04</td>\n",
       "      <td>1.04</td>\n",
       "      <td>0.01</td>\n",
       "      <td>0.03</td>\n",
       "      <td>0.06</td>\n",
       "      <td>1.03</td>\n",
       "      <td>1.06</td>\n",
       "      <td>0.00</td>\n",
       "      <td>5.50</td>\n",
       "      <td>&lt;0.005</td>\n",
       "      <td>24.65</td>\n",
       "    </tr>\n",
       "    <tr>\n",
       "      <th>Time[T.Even.]</th>\n",
       "      <td>0.21</td>\n",
       "      <td>1.23</td>\n",
       "      <td>0.06</td>\n",
       "      <td>0.09</td>\n",
       "      <td>0.32</td>\n",
       "      <td>1.10</td>\n",
       "      <td>1.38</td>\n",
       "      <td>0.00</td>\n",
       "      <td>3.59</td>\n",
       "      <td>&lt;0.005</td>\n",
       "      <td>11.57</td>\n",
       "    </tr>\n",
       "    <tr>\n",
       "      <th>Time[T.Morn.]</th>\n",
       "      <td>-0.17</td>\n",
       "      <td>0.84</td>\n",
       "      <td>0.06</td>\n",
       "      <td>-0.29</td>\n",
       "      <td>-0.06</td>\n",
       "      <td>0.75</td>\n",
       "      <td>0.94</td>\n",
       "      <td>0.00</td>\n",
       "      <td>-2.99</td>\n",
       "      <td>&lt;0.005</td>\n",
       "      <td>8.47</td>\n",
       "    </tr>\n",
       "  </tbody>\n",
       "</table><br><div>\n",
       "<style scoped>\n",
       "    .dataframe tbody tr th:only-of-type {\n",
       "        vertical-align: middle;\n",
       "    }\n",
       "\n",
       "    .dataframe tbody tr th {\n",
       "        vertical-align: top;\n",
       "    }\n",
       "\n",
       "    .dataframe thead th {\n",
       "        text-align: right;\n",
       "    }\n",
       "</style>\n",
       "<table border=\"1\" class=\"dataframe\">\n",
       "  <tbody>\n",
       "    <tr>\n",
       "      <th>Concordance</th>\n",
       "      <td>0.57</td>\n",
       "    </tr>\n",
       "    <tr>\n",
       "      <th>Partial AIC</th>\n",
       "      <td>23409.45</td>\n",
       "    </tr>\n",
       "    <tr>\n",
       "      <th>log-likelihood ratio test</th>\n",
       "      <td>102.81 on 5 df</td>\n",
       "    </tr>\n",
       "    <tr>\n",
       "      <th>-log2(p) of ll-ratio test</th>\n",
       "      <td>66.00</td>\n",
       "    </tr>\n",
       "  </tbody>\n",
       "</table>\n",
       "</div>"
      ],
      "text/latex": [
       "\\begin{tabular}{lrrrrrrrrrrr}\n",
       " & coef & exp(coef) & se(coef) & coef lower 95% & coef upper 95% & exp(coef) lower 95% & exp(coef) upper 95% & cmp to & z & p & -log2(p) \\\\\n",
       "covariate &  &  &  &  &  &  &  &  &  &  &  \\\\\n",
       "Center[T.B] & -0.22 & 0.80 & 0.06 & -0.33 & -0.11 & 0.72 & 0.90 & 0.00 & -3.78 & 0.00 & 12.62 \\\\\n",
       "Center[T.C] & 0.08 & 1.08 & 0.06 & -0.04 & 0.19 & 0.97 & 1.21 & 0.00 & 1.36 & 0.18 & 2.51 \\\\\n",
       "Operators & 0.04 & 1.04 & 0.01 & 0.03 & 0.06 & 1.03 & 1.06 & 0.00 & 5.50 & 0.00 & 24.65 \\\\\n",
       "Time[T.Even.] & 0.21 & 1.23 & 0.06 & 0.09 & 0.32 & 1.10 & 1.38 & 0.00 & 3.59 & 0.00 & 11.57 \\\\\n",
       "Time[T.Morn.] & -0.17 & 0.84 & 0.06 & -0.29 & -0.06 & 0.75 & 0.94 & 0.00 & -2.99 & 0.00 & 8.47 \\\\\n",
       "\\end{tabular}\n"
      ],
      "text/plain": [
       "<lifelines.CoxPHFitter: fitted with 2000 total observations, 220 right-censored observations>\n",
       "             duration col = 'y'\n",
       "                event col = 'failed'\n",
       "      baseline estimation = breslow\n",
       "   number of observations = 2000\n",
       "number of events observed = 1780\n",
       "   partial log-likelihood = -11699.73\n",
       "         time fit was run = 2023-01-30 07:20:12 UTC\n",
       "\n",
       "---\n",
       "                coef  exp(coef)   se(coef)   coef lower 95%   coef upper 95%  exp(coef) lower 95%  exp(coef) upper 95%\n",
       "covariate                                                                                                             \n",
       "Center[T.B]    -0.22       0.80       0.06            -0.33            -0.11                 0.72                 0.90\n",
       "Center[T.C]     0.08       1.08       0.06            -0.04             0.19                 0.97                 1.21\n",
       "Operators       0.04       1.04       0.01             0.03             0.06                 1.03                 1.06\n",
       "Time[T.Even.]   0.21       1.23       0.06             0.09             0.32                 1.10                 1.38\n",
       "Time[T.Morn.]  -0.17       0.84       0.06            -0.29            -0.06                 0.75                 0.94\n",
       "\n",
       "                cmp to     z      p   -log2(p)\n",
       "covariate                                     \n",
       "Center[T.B]       0.00 -3.78 <0.005      12.62\n",
       "Center[T.C]       0.00  1.36   0.18       2.51\n",
       "Operators         0.00  5.50 <0.005      24.65\n",
       "Time[T.Even.]     0.00  3.59 <0.005      11.57\n",
       "Time[T.Morn.]     0.00 -2.99 <0.005       8.47\n",
       "---\n",
       "Concordance = 0.57\n",
       "Partial AIC = 23409.45\n",
       "log-likelihood ratio test = 102.81 on 5 df\n",
       "-log2(p) of ll-ratio test = 66.00"
      ]
     },
     "metadata": {},
     "output_type": "display_data"
    }
   ],
   "source": [
    "cph_ll = CoxPHFitter()\n",
    "cph_ll_fit = cph_ll.fit(call_center_df, 'y', 'failed', formula='Operators + Center + Time')\n",
    "\n",
    "cph_ll_fit.print_summary()"
   ]
  },
  {
   "cell_type": "markdown",
   "id": "317926e0-fa92-4294-87f1-80fae4bb59d8",
   "metadata": {},
   "source": [
    "The End"
   ]
  }
 ],
 "metadata": {
  "jupytext": {
   "formats": "ipynb,py:percent"
  },
  "kernelspec": {
   "display_name": "Python 3 (ipykernel)",
   "language": "python",
   "name": "python3"
  },
  "language_info": {
   "codemirror_mode": {
    "name": "ipython",
    "version": 3
   },
   "file_extension": ".py",
   "mimetype": "text/x-python",
   "name": "python",
   "nbconvert_exporter": "python",
   "pygments_lexer": "ipython3",
   "version": "3.9.12"
  },
  "toc-showtags": false
 },
 "nbformat": 4,
 "nbformat_minor": 5
}
