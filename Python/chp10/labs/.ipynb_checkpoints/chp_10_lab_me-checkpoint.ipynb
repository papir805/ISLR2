{
 "cells": [
  {
   "cell_type": "code",
   "execution_count": 1,
   "id": "084fb53b-4db1-4b92-a3e5-c276a5121010",
   "metadata": {},
   "outputs": [
    {
     "name": "stderr",
     "output_type": "stream",
     "text": [
      "2022-12-27 01:37:06.595981: I tensorflow/core/platform/cpu_feature_guard.cc:193] This TensorFlow binary is optimized with oneAPI Deep Neural Network Library (oneDNN) to use the following CPU instructions in performance-critical operations:  AVX2 FMA\n",
      "To enable them in other operations, rebuild TensorFlow with the appropriate compiler flags.\n"
     ]
    }
   ],
   "source": [
    "import pandas as pd\n",
    "import numpy as np\n",
    "\n",
    "import rpy2.robjects as robjects\n",
    "from rpy2.robjects.conversion import localconverter\n",
    "from rpy2.robjects import pandas2ri\n",
    "\n",
    "import statsmodels.formula.api as smf\n",
    "import statsmodels.api as sm\n",
    "\n",
    "import patsy\n",
    "#from sklearn.linear_model import RidgeCV\n",
    "\n",
    "#import sklearn\n",
    "\n",
    "import tensorflow as tf\n",
    "#from tensorflow import keras\n",
    "import tensorflow.keras as keras\n",
    "from tensorflow.keras import layers\n",
    "\n",
    "import matplotlib.pyplot as plt\n",
    "\n",
    "import os\n",
    "\n",
    "#from keras.preprocessing import image as image_utils\n",
    "from keras.applications.imagenet_utils import decode_predictions\n",
    "from keras.applications.imagenet_utils import preprocess_input\n",
    "\n",
    "#from scipy import sparse\n",
    "#from itertools import chain\n",
    "\n",
    "import glmnet_python\n",
    "from glmnet import glmnet; from glmnetPlot import glmnetPlot\n",
    "from glmnetPredict import glmnetPredict\n",
    "\n",
    "from cvglmnet import cvglmnet\n",
    "from cvglmnetPlot import cvglmnetPlot; from cvglmnetPredict import cvglmnetPredict"
   ]
  },
  {
   "cell_type": "markdown",
   "id": "f7b1561e-626b-4eda-a861-47c0226e6452",
   "metadata": {},
   "source": [
    "# 10.9.1 A Single Layer Network on the Hitters Data"
   ]
  },
  {
   "cell_type": "code",
   "execution_count": 2,
   "id": "46317695-7707-4e42-91ac-73e9b2575fd8",
   "metadata": {},
   "outputs": [],
   "source": [
    "Gitters = pd.read_csv('/Users/rancher/Google Drive/Coding/ISLR2/datasets/Hitters.csv')\n",
    "\n",
    "Gitters = Gitters.dropna()\n",
    "\n",
    "# R starts indexing at 1, Python starts indexing at 0, this is to make sure the indices of the dataframes match\n",
    "Gitters = Gitters.set_index(keys=np.arange(1,264)) \n",
    "\n",
    "n = Gitters.shape[0]\n",
    "ntest = n // 3\n",
    "\n",
    "data = robjects.r(\"\"\"\n",
    "library(ISLR2)\n",
    "n <- nrow(na.omit(Hitters))\n",
    "set.seed(13)\n",
    "ntest <- trunc(n / 3)\n",
    "testid <- sample(1:n, ntest)\n",
    "\"\"\")\n",
    "\n",
    "testid = np.sort(np.array(data))\n",
    "test_mask = Gitters.index.isin(testid)"
   ]
  },
  {
   "cell_type": "code",
   "execution_count": 3,
   "id": "99eff012-0d30-4f13-9968-93b72cf4830e",
   "metadata": {},
   "outputs": [],
   "source": [
    "def formula_from_cols(df, y):\n",
    "    return y + ' ~ ' + ' + '.join([col for col in df.columns if not col==y])"
   ]
  },
  {
   "cell_type": "code",
   "execution_count": 4,
   "id": "36fde575-9b7e-4d71-b0bf-8706acbc1407",
   "metadata": {},
   "outputs": [
    {
     "data": {
      "text/plain": [
       "254.6686528837497"
      ]
     },
     "execution_count": 4,
     "metadata": {},
     "output_type": "execute_result"
    }
   ],
   "source": [
    "formula_string = formula_from_cols(Gitters, 'Salary')\n",
    "\n",
    "lmodel = smf.ols(formula=formula_string, data = sm.add_constant(Gitters[~test_mask]))\n",
    "\n",
    "lfit = lmodel.fit()\n",
    "\n",
    "lpred = lfit.predict(Gitters[test_mask])\n",
    "\n",
    "np.mean(abs(lpred - Gitters[test_mask]['Salary']))"
   ]
  },
  {
   "cell_type": "code",
   "execution_count": 5,
   "id": "49057207-c5e5-4291-b541-61557f63aa2e",
   "metadata": {},
   "outputs": [],
   "source": [
    "x = patsy.dmatrix(formula_like = 'AtBat + Hits + HmRun + Runs + RBI + Walks + Years + CAtBat + CHits + CHmRun + CRuns + CRBI + CWalks + League + Division + PutOuts + Assists + Errors + NewLeague - 1', data = Gitters)\n",
    "\n",
    "x_scale = patsy.scale(x, ddof=1)\n",
    "\n",
    "y = np.array(Gitters['Salary'])"
   ]
  },
  {
   "cell_type": "code",
   "execution_count": 6,
   "id": "43035dec-63f1-4d66-be0f-e9f76174b704",
   "metadata": {},
   "outputs": [
    {
     "data": {
      "text/plain": [
       "['League[A]',\n",
       " 'League[N]',\n",
       " 'Division[T.W]',\n",
       " 'NewLeague[T.N]',\n",
       " 'AtBat',\n",
       " 'Hits',\n",
       " 'HmRun',\n",
       " 'Runs',\n",
       " 'RBI',\n",
       " 'Walks',\n",
       " 'Years',\n",
       " 'CAtBat',\n",
       " 'CHits',\n",
       " 'CHmRun',\n",
       " 'CRuns',\n",
       " 'CRBI',\n",
       " 'CWalks',\n",
       " 'PutOuts',\n",
       " 'Assists',\n",
       " 'Errors']"
      ]
     },
     "execution_count": 6,
     "metadata": {},
     "output_type": "execute_result"
    }
   ],
   "source": [
    "x.design_info.column_names"
   ]
  },
  {
   "cell_type": "code",
   "execution_count": 7,
   "id": "2dd1ff17-5b77-4ec4-b3b2-f0c8b9255ebe",
   "metadata": {},
   "outputs": [
    {
     "data": {
      "text/plain": [
       "(263, 20)"
      ]
     },
     "execution_count": 7,
     "metadata": {},
     "output_type": "execute_result"
    }
   ],
   "source": [
    "x_scale.shape"
   ]
  },
  {
   "cell_type": "code",
   "execution_count": 8,
   "id": "e8b3d56e-157f-4125-aed5-702580ab1815",
   "metadata": {},
   "outputs": [
    {
     "data": {
      "text/plain": [
       "(176, 20)"
      ]
     },
     "execution_count": 8,
     "metadata": {},
     "output_type": "execute_result"
    }
   ],
   "source": [
    "x_scale[~test_mask].shape"
   ]
  },
  {
   "cell_type": "code",
   "execution_count": 9,
   "id": "9eb6a255-7315-4ff1-8d56-7d709f9bcde1",
   "metadata": {},
   "outputs": [
    {
     "data": {
      "text/plain": [
       "(176,)"
      ]
     },
     "execution_count": 9,
     "metadata": {},
     "output_type": "execute_result"
    }
   ],
   "source": [
    "y[~test_mask].shape"
   ]
  },
  {
   "cell_type": "code",
   "execution_count": 10,
   "id": "dd572ccf-bd4d-4c86-8a06-b641f8fbed61",
   "metadata": {
    "tags": []
   },
   "outputs": [
    {
     "data": {
      "text/plain": [
       "[0.9427058754986926,\n",
       " -0.9427058754986926,\n",
       " 0.9792988113777307,\n",
       " -0.9284170990118696,\n",
       " 1.2922477864706194,\n",
       " 1.355582511837019,\n",
       " -0.8701242575199089,\n",
       " 0.753911192775226,\n",
       " -0.018803747162034392,\n",
       " -0.2815200590374653,\n",
       " 0.7694010081772826,\n",
       " 0.7655336927472222,\n",
       " 0.6337764794940891,\n",
       " -0.6112046464962497,\n",
       " 0.4220412770176512,\n",
       " 0.017261308407232237,\n",
       " -0.2509550732807127,\n",
       " -0.031118080360665493,\n",
       " 2.083252981719132,\n",
       " 2.4834117511926994]"
      ]
     },
     "execution_count": 10,
     "metadata": {},
     "output_type": "execute_result"
    }
   ],
   "source": [
    "x_scale.tolist()[4]"
   ]
  },
  {
   "cell_type": "code",
   "execution_count": 11,
   "id": "1795bd35-7032-40d1-a1d2-102136463665",
   "metadata": {},
   "outputs": [],
   "source": [
    "X_train = x_scale[~test_mask]\n",
    "X_test = x_scale[test_mask]\n",
    "\n",
    "y_train = Gitters[~test_mask]['Salary']\n",
    "y_test = Gitters[test_mask]['Salary']\n",
    "\n",
    "# Old code that was from before I discovered the cvglmnet module for Python that more closely mimics the cv.glmnet function from R\n",
    "\n",
    "# ridge_cv = RidgeCV(scoring='neg_mean_absolute_error').fit(X_train, y_train)\n",
    "\n",
    "# rpred = ridge_cv.predict(X_test)\n",
    "\n",
    "# np.mean(abs(y_test - rpred))\n",
    "\n",
    "\n",
    "cvfit = cvglmnet(x = x_scale[~test_mask], y = y[~test_mask], ptype='mae')\n",
    "\n",
    "cpred = cvglmnetPredict(cvfit, newx = x_scale[test_mask], s = 'lambda_min')"
   ]
  },
  {
   "cell_type": "code",
   "execution_count": 12,
   "id": "8d495d49-17aa-4611-98a5-2c9680d7920c",
   "metadata": {},
   "outputs": [
    {
     "data": {
      "text/plain": [
       "427.2936419595149"
      ]
     },
     "execution_count": 12,
     "metadata": {},
     "output_type": "execute_result"
    }
   ],
   "source": [
    "np.mean(abs(y[test_mask] - cpred))"
   ]
  },
  {
   "cell_type": "markdown",
   "id": "7369c9a0-d87a-4023-b8bf-5dd96625615d",
   "metadata": {},
   "source": [
    "I'm getting a much higher MAE than the ISLR textbook does (they get 252.2994) and I'm not entirely sure why.  As far as I can tell, the inputs, `x_scale` and `y` are the same as in the textbook, however the predictions (`cpred`) are slightly different, leading to a different MAE.  I need to investigate further."
   ]
  },
  {
   "cell_type": "code",
   "execution_count": 13,
   "id": "d07aa882-4d27-4198-b62e-6312fcb0a91c",
   "metadata": {},
   "outputs": [
    {
     "name": "stderr",
     "output_type": "stream",
     "text": [
      "2022-12-27 01:37:13.985907: I tensorflow/core/platform/cpu_feature_guard.cc:193] This TensorFlow binary is optimized with oneAPI Deep Neural Network Library (oneDNN) to use the following CPU instructions in performance-critical operations:  AVX2 FMA\n",
      "To enable them in other operations, rebuild TensorFlow with the appropriate compiler flags.\n"
     ]
    }
   ],
   "source": [
    "modnn = keras.Sequential(\n",
    "    [\n",
    "            layers.Dense(units = 50, activation='relu'),\n",
    "            layers.Dropout(rate=0.4),\n",
    "            layers.Dense(units=1)\n",
    "    ]\n",
    ")"
   ]
  },
  {
   "cell_type": "code",
   "execution_count": 14,
   "id": "b7bcb6a1-691a-4995-bcf3-c72a4a9c63dd",
   "metadata": {},
   "outputs": [],
   "source": [
    "modnn.compile(loss=tf.keras.losses.MeanSquaredError(), optimizer='rmsprop', metrics=tf.keras.losses.MeanAbsoluteError())"
   ]
  },
  {
   "cell_type": "code",
   "execution_count": 15,
   "id": "9104eaac-4f73-4b7c-a66d-7bcdb185351a",
   "metadata": {
    "tags": []
   },
   "outputs": [],
   "source": [
    "history = modnn.fit(X_train, \n",
    "                    y_train, \n",
    "                    epochs=1500, \n",
    "                    batch_size=32, \n",
    "                    validation_data=(X_test, y_test),\n",
    "                    verbose=0)"
   ]
  },
  {
   "cell_type": "code",
   "execution_count": 16,
   "id": "27a6f9da-731d-4370-b487-d626fccf14ba",
   "metadata": {},
   "outputs": [
    {
     "data": {
      "image/png": "[encoded data removed]",
      "text/plain": [
       "<Figure size 576x432 with 2 Axes>"
      ]
     },
     "metadata": {
      "needs_background": "light"
     },
     "output_type": "display_data"
    }
   ],
   "source": [
    "fig, ax = plt.subplots(2, 1, sharex = True, figsize=(8,6))\n",
    "ax[0].plot(history.history['loss'])\n",
    "ax[0].plot(history.history['val_loss'])\n",
    "ax[0].set_title('model loss')\n",
    "ax[0].set_ylabel('loss')\n",
    "ax[0].set_xlabel('epoch')\n",
    "ax[0].legend(['Train', 'Validation'])\n",
    "\n",
    "ax[1].plot(history.history['mean_absolute_error'])\n",
    "ax[1].plot(history.history['val_mean_absolute_error'])\n",
    "ax[1].set_title('model mean_abs_error')\n",
    "ax[1].set_ylabel('mean_abs_error')\n",
    "ax[1].set_xlabel('epoch')\n",
    "ax[1].legend(['Train', 'Validation'])\n",
    "plt.tight_layout();"
   ]
  },
  {
   "cell_type": "code",
   "execution_count": 17,
   "id": "edf426e0-9ccc-4d6b-803f-19cdeba52f5d",
   "metadata": {},
   "outputs": [
    {
     "name": "stdout",
     "output_type": "stream",
     "text": [
      "3/3 [==============================] - 0s 3ms/step\n"
     ]
    }
   ],
   "source": [
    "npred = modnn.predict(X_test)"
   ]
  },
  {
   "cell_type": "code",
   "execution_count": 18,
   "id": "5e93af7b-1486-4b6e-8b7d-58c5a6c73a3b",
   "metadata": {
    "tags": []
   },
   "outputs": [
    {
     "data": {
      "text/plain": [
       "252.06016840301163"
      ]
     },
     "execution_count": 18,
     "metadata": {},
     "output_type": "execute_result"
    }
   ],
   "source": [
    "np.mean(abs(y_test - npred.flatten()))"
   ]
  },
  {
   "cell_type": "markdown",
   "id": "e35bc4df-bd9b-4e59-87b7-a6841e6ecd2c",
   "metadata": {},
   "source": [
    "# 10.9.2 A Multilayer Network on the MNIST Digit Data"
   ]
  },
  {
   "cell_type": "code",
   "execution_count": 19,
   "id": "3228b5ec-6558-4ebe-8d6d-920ba0274264",
   "metadata": {},
   "outputs": [],
   "source": [
    "(x_train, g_train), (x_test, g_test) = keras.datasets.mnist.load_data()"
   ]
  },
  {
   "cell_type": "code",
   "execution_count": 20,
   "id": "acb73f94-0203-4b59-bf89-00e172a15e20",
   "metadata": {},
   "outputs": [
    {
     "data": {
      "text/plain": [
       "(60000, 28, 28)"
      ]
     },
     "execution_count": 20,
     "metadata": {},
     "output_type": "execute_result"
    }
   ],
   "source": [
    "x_train.shape"
   ]
  },
  {
   "cell_type": "code",
   "execution_count": 21,
   "id": "c88c5b5a-e0b0-482c-8b0d-7bff56eaa320",
   "metadata": {},
   "outputs": [
    {
     "data": {
      "text/plain": [
       "(10000, 28, 28)"
      ]
     },
     "execution_count": 21,
     "metadata": {},
     "output_type": "execute_result"
    }
   ],
   "source": [
    "x_test.shape"
   ]
  },
  {
   "cell_type": "code",
   "execution_count": 23,
   "id": "ccb49e60-5647-4997-8eed-7fa5c4fbc6f5",
   "metadata": {},
   "outputs": [],
   "source": [
    "x_train = np.reshape(x_train, newshape=(x_train.shape[0], 784))\n",
    "x_test = np.reshape(x_test, newshape=(x_test.shape[0], 784))"
   ]
  },
  {
   "cell_type": "code",
   "execution_count": 24,
   "id": "62e0c0bd-21bd-40ea-92c8-f62368b3a5df",
   "metadata": {},
   "outputs": [
    {
     "data": {
      "text/plain": [
       "(60000, 784)"
      ]
     },
     "execution_count": 24,
     "metadata": {},
     "output_type": "execute_result"
    }
   ],
   "source": [
    "x_train.shape"
   ]
  },
  {
   "cell_type": "code",
   "execution_count": 25,
   "id": "083bbd87-1b43-4973-a819-f3a771f7d87d",
   "metadata": {},
   "outputs": [],
   "source": [
    "# y_train = pd.get_dummies(g_train)\n",
    "# y_test = pd.get_dummies(g_test)\n",
    "\n",
    "y_train = keras.utils.to_categorical(g_train, num_classes=10)\n",
    "y_test = keras.utils.to_categorical(g_test, num_classes=10)"
   ]
  },
  {
   "cell_type": "code",
   "execution_count": 26,
   "id": "741e0f54-554e-4542-a4ab-8705348b1b23",
   "metadata": {},
   "outputs": [
    {
     "data": {
      "text/plain": [
       "array([1., 0., 0., 0., 0., 0., 0., 0., 0., 0.], dtype=float32)"
      ]
     },
     "execution_count": 26,
     "metadata": {},
     "output_type": "execute_result"
    }
   ],
   "source": [
    "y_train[1]"
   ]
  },
  {
   "cell_type": "code",
   "execution_count": 27,
   "id": "9760d464-651d-4b59-8c4c-266bf81beab8",
   "metadata": {},
   "outputs": [
    {
     "data": {
      "text/plain": [
       "(60000, 10)"
      ]
     },
     "execution_count": 27,
     "metadata": {},
     "output_type": "execute_result"
    }
   ],
   "source": [
    "y_train.shape"
   ]
  },
  {
   "cell_type": "code",
   "execution_count": 28,
   "id": "fbe2da79-1fd1-42f3-a014-3632a404757c",
   "metadata": {},
   "outputs": [],
   "source": [
    "x_train = x_train / 255\n",
    "x_test = x_test / 255"
   ]
  },
  {
   "cell_type": "code",
   "execution_count": 29,
   "id": "9cdbe26b-01a5-43b5-9190-541cae97938f",
   "metadata": {},
   "outputs": [],
   "source": [
    "modelnn = keras.Sequential(\n",
    "    [\n",
    "            layers.Dense(units=256, activation='relu'),\n",
    "            layers.Dropout(rate=0.4),\n",
    "            layers.Dense(units=128, activation='relu'),\n",
    "            layers.Dropout(rate=0.3),\n",
    "            layers.Dense(units=10, activation='softmax')\n",
    "    ]\n",
    ")"
   ]
  },
  {
   "cell_type": "code",
   "execution_count": 30,
   "id": "49642772-cc44-4ec2-aea5-ae2a6d98e238",
   "metadata": {},
   "outputs": [],
   "source": [
    "modelnn.compile(loss='categorical_crossentropy', optimizer='rmsprop', metrics='accuracy')"
   ]
  },
  {
   "cell_type": "code",
   "execution_count": 31,
   "id": "f1475b56-2923-4742-8160-671b8127be2f",
   "metadata": {
    "tags": []
   },
   "outputs": [],
   "source": [
    "history = modelnn.fit(x_train, \n",
    "                      y_train, \n",
    "                      epochs=30, \n",
    "                      batch_size=128, \n",
    "                      validation_split=0.2,\n",
    "                      verbose=0)"
   ]
  },
  {
   "cell_type": "code",
   "execution_count": 32,
   "id": "15792b3b-0306-4aaa-ab78-ee2fa3cce992",
   "metadata": {},
   "outputs": [
    {
     "name": "stdout",
     "output_type": "stream",
     "text": [
      "Model: \"sequential_1\"\n",
      "_________________________________________________________________\n",
      " Layer (type)                Output Shape              Param #   \n",
      "=================================================================\n",
      " dense_2 (Dense)             (None, 256)               200960    \n",
      "                                                                 \n",
      " dropout_1 (Dropout)         (None, 256)               0         \n",
      "                                                                 \n",
      " dense_3 (Dense)             (None, 128)               32896     \n",
      "                                                                 \n",
      " dropout_2 (Dropout)         (None, 128)               0         \n",
      "                                                                 \n",
      " dense_4 (Dense)             (None, 10)                1290      \n",
      "                                                                 \n",
      "=================================================================\n",
      "Total params: 235,146\n",
      "Trainable params: 235,146\n",
      "Non-trainable params: 0\n",
      "_________________________________________________________________\n"
     ]
    }
   ],
   "source": [
    "modelnn.summary()"
   ]
  },
  {
   "cell_type": "code",
   "execution_count": 33,
   "id": "a3831aec-b7e4-4cd4-bebf-f004a1844258",
   "metadata": {},
   "outputs": [
    {
     "data": {
      "image/png": "[encoded data removed]",
      "text/plain": [
       "<Figure size 576x432 with 2 Axes>"
      ]
     },
     "metadata": {
      "needs_background": "light"
     },
     "output_type": "display_data"
    }
   ],
   "source": [
    "fig, ax = plt.subplots(2, 1, sharex = True, figsize=(8,6))\n",
    "\n",
    "ax[0].plot(history.history['loss'])\n",
    "ax[0].plot(history.history['val_loss'])\n",
    "ax[0].set_title('model loss')\n",
    "ax[0].set_ylabel('loss')\n",
    "ax[0].set_xlabel('epoch')\n",
    "ax[0].legend(['Train', 'Validation'])\n",
    "\n",
    "ax[1].plot(history.history['accuracy'])\n",
    "ax[1].plot(history.history['val_accuracy'])\n",
    "ax[1].set_title('model accuracy')\n",
    "ax[1].set_ylabel('accuracy')\n",
    "ax[1].set_xlabel('epoch')\n",
    "ax[1].legend(['Train', 'Validation'])\n",
    "plt.tight_layout();"
   ]
  },
  {
   "cell_type": "code",
   "execution_count": 34,
   "id": "94f1f462-d2b8-4dae-b2b4-f56f1cedaa58",
   "metadata": {},
   "outputs": [
    {
     "name": "stdout",
     "output_type": "stream",
     "text": [
      "313/313 [==============================] - 0s 1ms/step\n"
     ]
    }
   ],
   "source": [
    "y_proba = modelnn.predict(x_test)\n",
    "y_pred_classes = np.argmax(y_proba, axis=1)"
   ]
  },
  {
   "cell_type": "code",
   "execution_count": 35,
   "id": "08a949a3-74f8-423b-8f5e-2928c8032606",
   "metadata": {},
   "outputs": [
    {
     "data": {
      "text/plain": [
       "0.9824"
      ]
     },
     "execution_count": 35,
     "metadata": {},
     "output_type": "execute_result"
    }
   ],
   "source": [
    "modelnn_acc = np.mean(y_pred_classes == g_test)\n",
    "modelnn_acc"
   ]
  },
  {
   "cell_type": "code",
   "execution_count": 36,
   "id": "65698486-d2f7-478a-badc-10e969d4e4bb",
   "metadata": {},
   "outputs": [
    {
     "data": {
      "text/plain": [
       "array([1.1057343e-15, 5.1658211e-13, 1.0550620e-09, 5.3140570e-10,\n",
       "       1.4432273e-16, 4.4191346e-13, 4.2670540e-23, 1.0000000e+00,\n",
       "       2.3819600e-15, 5.7324229e-10], dtype=float32)"
      ]
     },
     "execution_count": 36,
     "metadata": {},
     "output_type": "execute_result"
    }
   ],
   "source": [
    "y_proba[0]"
   ]
  },
  {
   "cell_type": "code",
   "execution_count": 37,
   "id": "649d7a5c-8286-4623-a3f7-173ed241a7e3",
   "metadata": {},
   "outputs": [
    {
     "data": {
      "text/plain": [
       "((10000,), (10000,))"
      ]
     },
     "execution_count": 37,
     "metadata": {},
     "output_type": "execute_result"
    }
   ],
   "source": [
    "y_pred_classes.shape, g_test.shape"
   ]
  },
  {
   "cell_type": "markdown",
   "id": "25367f20-9fe2-48c4-aba1-ffecf7af9c84",
   "metadata": {},
   "source": [
    "## Multiclass Logistic Regression"
   ]
  },
  {
   "cell_type": "code",
   "execution_count": 38,
   "id": "cdb75123-2a2a-4bb6-af4c-13dde9129195",
   "metadata": {},
   "outputs": [],
   "source": [
    "modellr = keras.models.Sequential(\n",
    "    [\n",
    "            layers.Dense(units=10, activation='softmax')\n",
    "    ]\n",
    ")"
   ]
  },
  {
   "cell_type": "code",
   "execution_count": 39,
   "id": "47837509-8f1c-422b-8e4c-2d11f21932c1",
   "metadata": {},
   "outputs": [],
   "source": [
    "modellr.compile(loss='categorical_crossentropy', optimizer='rmsprop', metrics='accuracy')"
   ]
  },
  {
   "cell_type": "code",
   "execution_count": 40,
   "id": "96c727a0-38df-4003-a628-b73831d465fd",
   "metadata": {},
   "outputs": [
    {
     "data": {
      "text/plain": [
       "<keras.callbacks.History at 0x19400c160>"
      ]
     },
     "execution_count": 40,
     "metadata": {},
     "output_type": "execute_result"
    }
   ],
   "source": [
    "modellr.fit(x_train, \n",
    "            y_train, \n",
    "            epochs=30, \n",
    "            batch_size=128, \n",
    "            validation_split=0.2,\n",
    "            verbose=0)"
   ]
  },
  {
   "cell_type": "code",
   "execution_count": 41,
   "id": "e36bb462-9b82-40c0-a41d-dcf424e39f64",
   "metadata": {},
   "outputs": [
    {
     "name": "stdout",
     "output_type": "stream",
     "text": [
      "313/313 [==============================] - 0s 1ms/step\n"
     ]
    }
   ],
   "source": [
    "y_proba = modellr.predict(x_test)\n",
    "y_pred_classes = np.argmax(y_proba, axis=1)"
   ]
  },
  {
   "cell_type": "code",
   "execution_count": 42,
   "id": "ea19b6bc-6fa7-4ddd-a620-1cf787fa4a5a",
   "metadata": {},
   "outputs": [
    {
     "data": {
      "text/plain": [
       "0.927"
      ]
     },
     "execution_count": 42,
     "metadata": {},
     "output_type": "execute_result"
    }
   ],
   "source": [
    "modellr_acc = np.mean(y_pred_classes == g_test)\n",
    "modellr_acc"
   ]
  },
  {
   "cell_type": "markdown",
   "id": "68caeebf-16cb-4245-be81-b237394f68f8",
   "metadata": {},
   "source": [
    "# 10.9.3 Convolutional Neural Networks"
   ]
  },
  {
   "cell_type": "code",
   "execution_count": 99,
   "id": "43ecccce-6756-4ef0-9422-5e29d8821678",
   "metadata": {},
   "outputs": [
    {
     "data": {
      "text/plain": [
       "(50000, 32, 32, 3)"
      ]
     },
     "execution_count": 99,
     "metadata": {},
     "output_type": "execute_result"
    }
   ],
   "source": [
    "(x_train, g_train), (x_test, g_test) = keras.datasets.cifar100.load_data()\n",
    "\n",
    "x_train.shape"
   ]
  },
  {
   "cell_type": "code",
   "execution_count": 100,
   "id": "9c3d6f65-894f-4b1a-8b1f-057b043169a8",
   "metadata": {},
   "outputs": [
    {
     "data": {
      "text/plain": [
       "(13, 255)"
      ]
     },
     "execution_count": 100,
     "metadata": {},
     "output_type": "execute_result"
    }
   ],
   "source": [
    "x_train[0, :, :, 0].min(), x_train[0, :, :, 0].max()"
   ]
  },
  {
   "cell_type": "code",
   "execution_count": 101,
   "id": "a3a5819c-71d3-4574-9f81-63e7b1fb51c7",
   "metadata": {},
   "outputs": [
    {
     "data": {
      "text/plain": [
       "(50000, 100)"
      ]
     },
     "execution_count": 101,
     "metadata": {},
     "output_type": "execute_result"
    }
   ],
   "source": [
    "x_train = x_train / 255\n",
    "x_test = x_test / 255\n",
    "y_train = keras.utils.to_categorical(g_train, num_classes=100)\n",
    "\n",
    "y_train.shape"
   ]
  },
  {
   "cell_type": "code",
   "execution_count": 46,
   "id": "be0ea3bd-aae7-43a0-ab91-6f355fa39a05",
   "metadata": {},
   "outputs": [
    {
     "data": {
      "image/png": "[encoded data removed]",
      "text/plain": [
       "<Figure size 576x720 with 25 Axes>"
      ]
     },
     "metadata": {},
     "output_type": "display_data"
    }
   ],
   "source": [
    "# Code taken from https://www.binarystudy.com/2021/09/how-to-load-preprocess-visualize-CIFAR-10-and-CIFAR-100.html#cifar100-single\n",
    "rows, columns = 5,5\n",
    "rand_idx = np.random.randint(0, 50000, rows * columns)\n",
    "rand_images = x_train[rand_idx]\n",
    "fig = plt.figure(figsize=(8,10))\n",
    "for i in range(1, columns * rows + 1):\n",
    "    fig.add_subplot(rows, columns, i)\n",
    "    plt.imshow(rand_images[i-1])\n",
    "    plt.xticks([])\n",
    "    plt.yticks([])\n",
    "plt.tight_layout()\n",
    "plt.show()"
   ]
  },
  {
   "cell_type": "code",
   "execution_count": 47,
   "id": "5521b619-4a03-4332-be4b-548807f87aeb",
   "metadata": {},
   "outputs": [],
   "source": [
    "model = keras.models.Sequential(\n",
    "    [\n",
    "        layers.Conv2D(filters=32, kernel_size=(3,3),\n",
    "                     padding='same', activation='relu'),\n",
    "        layers.MaxPooling2D(pool_size=(2,2)),\n",
    "        layers.Conv2D(filters=64, kernel_size=(3,3),\n",
    "                     padding='same', activation='relu'),\n",
    "        layers.MaxPooling2D(pool_size=(2,2)),\n",
    "        layers.Conv2D(filters=128, kernel_size=(3,3),\n",
    "                     padding='same', activation='relu'),\n",
    "        layers.MaxPooling2D(pool_size=(2,2)),\n",
    "        layers.Flatten(),\n",
    "        layers.Dropout(rate=0.5),\n",
    "        layers.Dense(units=512, activation='relu'),\n",
    "        layers.Dense(units=100, activation='softmax')\n",
    "    ]\n",
    ")"
   ]
  },
  {
   "cell_type": "code",
   "execution_count": 48,
   "id": "c513ed85-bc68-47c6-a97a-2afe515b4f56",
   "metadata": {},
   "outputs": [
    {
     "name": "stdout",
     "output_type": "stream",
     "text": [
      "313/313 [==============================] - 3s 9ms/step\n"
     ]
    },
    {
     "data": {
      "text/plain": [
       "0.432"
      ]
     },
     "execution_count": 48,
     "metadata": {},
     "output_type": "execute_result"
    }
   ],
   "source": [
    "model.compile(loss='categorical_crossentropy', optimizer='rmsprop', metrics='accuracy')\n",
    "\n",
    "history = model.fit(x_train, \n",
    "                    y_train, \n",
    "                    epochs=30, \n",
    "                    batch_size=128, \n",
    "                    validation_split=0.2,\n",
    "                    verbose=0)\n",
    "\n",
    "y_proba = model.predict(x_test)\n",
    "y_pred_classes = np.argmax(y_proba, axis=-1)\n",
    "\n",
    "np.mean(y_pred_classes == g_test.flatten())"
   ]
  },
  {
   "cell_type": "code",
   "execution_count": 49,
   "id": "5ce1c9e4-5df6-49de-9e14-5b320fe9818b",
   "metadata": {},
   "outputs": [
    {
     "name": "stdout",
     "output_type": "stream",
     "text": [
      "Model: \"sequential_3\"\n",
      "_________________________________________________________________\n",
      " Layer (type)                Output Shape              Param #   \n",
      "=================================================================\n",
      " conv2d (Conv2D)             (None, 32, 32, 32)        896       \n",
      "                                                                 \n",
      " max_pooling2d (MaxPooling2D  (None, 16, 16, 32)       0         \n",
      " )                                                               \n",
      "                                                                 \n",
      " conv2d_1 (Conv2D)           (None, 16, 16, 64)        18496     \n",
      "                                                                 \n",
      " max_pooling2d_1 (MaxPooling  (None, 8, 8, 64)         0         \n",
      " 2D)                                                             \n",
      "                                                                 \n",
      " conv2d_2 (Conv2D)           (None, 8, 8, 128)         73856     \n",
      "                                                                 \n",
      " max_pooling2d_2 (MaxPooling  (None, 4, 4, 128)        0         \n",
      " 2D)                                                             \n",
      "                                                                 \n",
      " flatten (Flatten)           (None, 2048)              0         \n",
      "                                                                 \n",
      " dropout_3 (Dropout)         (None, 2048)              0         \n",
      "                                                                 \n",
      " dense_6 (Dense)             (None, 512)               1049088   \n",
      "                                                                 \n",
      " dense_7 (Dense)             (None, 100)               51300     \n",
      "                                                                 \n",
      "=================================================================\n",
      "Total params: 1,193,636\n",
      "Trainable params: 1,193,636\n",
      "Non-trainable params: 0\n",
      "_________________________________________________________________\n"
     ]
    }
   ],
   "source": [
    "model.summary()"
   ]
  },
  {
   "cell_type": "markdown",
   "id": "155cb72d-6c9e-456c-9e82-417c801006c6",
   "metadata": {},
   "source": [
    "# 10.9.4 Using Pretrained CNN Models"
   ]
  },
  {
   "cell_type": "markdown",
   "id": "bcce70a8-d036-4e6d-bf75-0ab8a768cf42",
   "metadata": {},
   "source": [
    "https://pyimagesearch.com/2016/08/10/imagenet-classification-with-python-and-keras/\n",
    "\n",
    "https://adamspannbauer.github.io/2018/02/14/image-classification-r-and-python/"
   ]
  },
  {
   "cell_type": "code",
   "execution_count": 50,
   "id": "5b15aaf7-f39d-4a22-a6b3-5416ee4825be",
   "metadata": {},
   "outputs": [],
   "source": [
    "img_dir = '/Users/rancher/Google Drive/Coding/ISLR2/Python/chp10/labs/book_images'\n",
    "\n",
    "image_names = os.listdir(img_dir)\n",
    "\n",
    "num_images = len(image_names)\n",
    "\n",
    "x = []\n",
    "for img_name in image_names:\n",
    "    if not img_name.startswith('.'):\n",
    "        img_path = img_dir + '/' + img_name\n",
    "        img = keras.preprocessing.image.load_img(img_path, target_size=(224, 224))\n",
    "        x.append(keras.preprocessing.image.img_to_array(img))\n",
    "\n",
    "x = np.array(x)\n",
    "\n",
    "x = preprocess_input(x)"
   ]
  },
  {
   "cell_type": "code",
   "execution_count": 51,
   "id": "64b55b05-0ba5-423e-b55b-565cc06b2d42",
   "metadata": {
    "tags": []
   },
   "outputs": [
    {
     "name": "stdout",
     "output_type": "stream",
     "text": [
      "Model: \"resnet50\"\n",
      "__________________________________________________________________________________________________\n",
      " Layer (type)                   Output Shape         Param #     Connected to                     \n",
      "==================================================================================================\n",
      " input_1 (InputLayer)           [(None, 224, 224, 3  0           []                               \n",
      "                                )]                                                                \n",
      "                                                                                                  \n",
      " conv1_pad (ZeroPadding2D)      (None, 230, 230, 3)  0           ['input_1[0][0]']                \n",
      "                                                                                                  \n",
      " conv1_conv (Conv2D)            (None, 112, 112, 64  9472        ['conv1_pad[0][0]']              \n",
      "                                )                                                                 \n",
      "                                                                                                  \n",
      " conv1_bn (BatchNormalization)  (None, 112, 112, 64  256         ['conv1_conv[0][0]']             \n",
      "                                )                                                                 \n",
      "                                                                                                  \n",
      " conv1_relu (Activation)        (None, 112, 112, 64  0           ['conv1_bn[0][0]']               \n",
      "                                )                                                                 \n",
      "                                                                                                  \n",
      " pool1_pad (ZeroPadding2D)      (None, 114, 114, 64  0           ['conv1_relu[0][0]']             \n",
      "                                )                                                                 \n",
      "                                                                                                  \n",
      " pool1_pool (MaxPooling2D)      (None, 56, 56, 64)   0           ['pool1_pad[0][0]']              \n",
      "                                                                                                  \n",
      " conv2_block1_1_conv (Conv2D)   (None, 56, 56, 64)   4160        ['pool1_pool[0][0]']             \n",
      "                                                                                                  \n",
      " conv2_block1_1_bn (BatchNormal  (None, 56, 56, 64)  256         ['conv2_block1_1_conv[0][0]']    \n",
      " ization)                                                                                         \n",
      "                                                                                                  \n",
      " conv2_block1_1_relu (Activatio  (None, 56, 56, 64)  0           ['conv2_block1_1_bn[0][0]']      \n",
      " n)                                                                                               \n",
      "                                                                                                  \n",
      " conv2_block1_2_conv (Conv2D)   (None, 56, 56, 64)   36928       ['conv2_block1_1_relu[0][0]']    \n",
      "                                                                                                  \n",
      " conv2_block1_2_bn (BatchNormal  (None, 56, 56, 64)  256         ['conv2_block1_2_conv[0][0]']    \n",
      " ization)                                                                                         \n",
      "                                                                                                  \n",
      " conv2_block1_2_relu (Activatio  (None, 56, 56, 64)  0           ['conv2_block1_2_bn[0][0]']      \n",
      " n)                                                                                               \n",
      "                                                                                                  \n",
      " conv2_block1_0_conv (Conv2D)   (None, 56, 56, 256)  16640       ['pool1_pool[0][0]']             \n",
      "                                                                                                  \n",
      " conv2_block1_3_conv (Conv2D)   (None, 56, 56, 256)  16640       ['conv2_block1_2_relu[0][0]']    \n",
      "                                                                                                  \n",
      " conv2_block1_0_bn (BatchNormal  (None, 56, 56, 256)  1024       ['conv2_block1_0_conv[0][0]']    \n",
      " ization)                                                                                         \n",
      "                                                                                                  \n",
      " conv2_block1_3_bn (BatchNormal  (None, 56, 56, 256)  1024       ['conv2_block1_3_conv[0][0]']    \n",
      " ization)                                                                                         \n",
      "                                                                                                  \n",
      " conv2_block1_add (Add)         (None, 56, 56, 256)  0           ['conv2_block1_0_bn[0][0]',      \n",
      "                                                                  'conv2_block1_3_bn[0][0]']      \n",
      "                                                                                                  \n",
      " conv2_block1_out (Activation)  (None, 56, 56, 256)  0           ['conv2_block1_add[0][0]']       \n",
      "                                                                                                  \n",
      " conv2_block2_1_conv (Conv2D)   (None, 56, 56, 64)   16448       ['conv2_block1_out[0][0]']       \n",
      "                                                                                                  \n",
      " conv2_block2_1_bn (BatchNormal  (None, 56, 56, 64)  256         ['conv2_block2_1_conv[0][0]']    \n",
      " ization)                                                                                         \n",
      "                                                                                                  \n",
      " conv2_block2_1_relu (Activatio  (None, 56, 56, 64)  0           ['conv2_block2_1_bn[0][0]']      \n",
      " n)                                                                                               \n",
      "                                                                                                  \n",
      " conv2_block2_2_conv (Conv2D)   (None, 56, 56, 64)   36928       ['conv2_block2_1_relu[0][0]']    \n",
      "                                                                                                  \n",
      " conv2_block2_2_bn (BatchNormal  (None, 56, 56, 64)  256         ['conv2_block2_2_conv[0][0]']    \n",
      " ization)                                                                                         \n",
      "                                                                                                  \n",
      " conv2_block2_2_relu (Activatio  (None, 56, 56, 64)  0           ['conv2_block2_2_bn[0][0]']      \n",
      " n)                                                                                               \n",
      "                                                                                                  \n",
      " conv2_block2_3_conv (Conv2D)   (None, 56, 56, 256)  16640       ['conv2_block2_2_relu[0][0]']    \n",
      "                                                                                                  \n",
      " conv2_block2_3_bn (BatchNormal  (None, 56, 56, 256)  1024       ['conv2_block2_3_conv[0][0]']    \n",
      " ization)                                                                                         \n",
      "                                                                                                  \n",
      " conv2_block2_add (Add)         (None, 56, 56, 256)  0           ['conv2_block1_out[0][0]',       \n",
      "                                                                  'conv2_block2_3_bn[0][0]']      \n",
      "                                                                                                  \n",
      " conv2_block2_out (Activation)  (None, 56, 56, 256)  0           ['conv2_block2_add[0][0]']       \n",
      "                                                                                                  \n",
      " conv2_block3_1_conv (Conv2D)   (None, 56, 56, 64)   16448       ['conv2_block2_out[0][0]']       \n",
      "                                                                                                  \n",
      " conv2_block3_1_bn (BatchNormal  (None, 56, 56, 64)  256         ['conv2_block3_1_conv[0][0]']    \n",
      " ization)                                                                                         \n",
      "                                                                                                  \n",
      " conv2_block3_1_relu (Activatio  (None, 56, 56, 64)  0           ['conv2_block3_1_bn[0][0]']      \n",
      " n)                                                                                               \n",
      "                                                                                                  \n",
      " conv2_block3_2_conv (Conv2D)   (None, 56, 56, 64)   36928       ['conv2_block3_1_relu[0][0]']    \n",
      "                                                                                                  \n",
      " conv2_block3_2_bn (BatchNormal  (None, 56, 56, 64)  256         ['conv2_block3_2_conv[0][0]']    \n",
      " ization)                                                                                         \n",
      "                                                                                                  \n",
      " conv2_block3_2_relu (Activatio  (None, 56, 56, 64)  0           ['conv2_block3_2_bn[0][0]']      \n",
      " n)                                                                                               \n",
      "                                                                                                  \n",
      " conv2_block3_3_conv (Conv2D)   (None, 56, 56, 256)  16640       ['conv2_block3_2_relu[0][0]']    \n",
      "                                                                                                  \n",
      " conv2_block3_3_bn (BatchNormal  (None, 56, 56, 256)  1024       ['conv2_block3_3_conv[0][0]']    \n",
      " ization)                                                                                         \n",
      "                                                                                                  \n",
      " conv2_block3_add (Add)         (None, 56, 56, 256)  0           ['conv2_block2_out[0][0]',       \n",
      "                                                                  'conv2_block3_3_bn[0][0]']      \n",
      "                                                                                                  \n",
      " conv2_block3_out (Activation)  (None, 56, 56, 256)  0           ['conv2_block3_add[0][0]']       \n",
      "                                                                                                  \n",
      " conv3_block1_1_conv (Conv2D)   (None, 28, 28, 128)  32896       ['conv2_block3_out[0][0]']       \n",
      "                                                                                                  \n",
      " conv3_block1_1_bn (BatchNormal  (None, 28, 28, 128)  512        ['conv3_block1_1_conv[0][0]']    \n",
      " ization)                                                                                         \n",
      "                                                                                                  \n",
      " conv3_block1_1_relu (Activatio  (None, 28, 28, 128)  0          ['conv3_block1_1_bn[0][0]']      \n",
      " n)                                                                                               \n",
      "                                                                                                  \n",
      " conv3_block1_2_conv (Conv2D)   (None, 28, 28, 128)  147584      ['conv3_block1_1_relu[0][0]']    \n",
      "                                                                                                  \n",
      " conv3_block1_2_bn (BatchNormal  (None, 28, 28, 128)  512        ['conv3_block1_2_conv[0][0]']    \n",
      " ization)                                                                                         \n",
      "                                                                                                  \n",
      " conv3_block1_2_relu (Activatio  (None, 28, 28, 128)  0          ['conv3_block1_2_bn[0][0]']      \n",
      " n)                                                                                               \n",
      "                                                                                                  \n",
      " conv3_block1_0_conv (Conv2D)   (None, 28, 28, 512)  131584      ['conv2_block3_out[0][0]']       \n",
      "                                                                                                  \n",
      " conv3_block1_3_conv (Conv2D)   (None, 28, 28, 512)  66048       ['conv3_block1_2_relu[0][0]']    \n",
      "                                                                                                  \n",
      " conv3_block1_0_bn (BatchNormal  (None, 28, 28, 512)  2048       ['conv3_block1_0_conv[0][0]']    \n",
      " ization)                                                                                         \n",
      "                                                                                                  \n",
      " conv3_block1_3_bn (BatchNormal  (None, 28, 28, 512)  2048       ['conv3_block1_3_conv[0][0]']    \n",
      " ization)                                                                                         \n",
      "                                                                                                  \n",
      " conv3_block1_add (Add)         (None, 28, 28, 512)  0           ['conv3_block1_0_bn[0][0]',      \n",
      "                                                                  'conv3_block1_3_bn[0][0]']      \n",
      "                                                                                                  \n",
      " conv3_block1_out (Activation)  (None, 28, 28, 512)  0           ['conv3_block1_add[0][0]']       \n",
      "                                                                                                  \n",
      " conv3_block2_1_conv (Conv2D)   (None, 28, 28, 128)  65664       ['conv3_block1_out[0][0]']       \n",
      "                                                                                                  \n",
      " conv3_block2_1_bn (BatchNormal  (None, 28, 28, 128)  512        ['conv3_block2_1_conv[0][0]']    \n",
      " ization)                                                                                         \n",
      "                                                                                                  \n",
      " conv3_block2_1_relu (Activatio  (None, 28, 28, 128)  0          ['conv3_block2_1_bn[0][0]']      \n",
      " n)                                                                                               \n",
      "                                                                                                  \n",
      " conv3_block2_2_conv (Conv2D)   (None, 28, 28, 128)  147584      ['conv3_block2_1_relu[0][0]']    \n",
      "                                                                                                  \n",
      " conv3_block2_2_bn (BatchNormal  (None, 28, 28, 128)  512        ['conv3_block2_2_conv[0][0]']    \n",
      " ization)                                                                                         \n",
      "                                                                                                  \n",
      " conv3_block2_2_relu (Activatio  (None, 28, 28, 128)  0          ['conv3_block2_2_bn[0][0]']      \n",
      " n)                                                                                               \n",
      "                                                                                                  \n",
      " conv3_block2_3_conv (Conv2D)   (None, 28, 28, 512)  66048       ['conv3_block2_2_relu[0][0]']    \n",
      "                                                                                                  \n",
      " conv3_block2_3_bn (BatchNormal  (None, 28, 28, 512)  2048       ['conv3_block2_3_conv[0][0]']    \n",
      " ization)                                                                                         \n",
      "                                                                                                  \n",
      " conv3_block2_add (Add)         (None, 28, 28, 512)  0           ['conv3_block1_out[0][0]',       \n",
      "                                                                  'conv3_block2_3_bn[0][0]']      \n",
      "                                                                                                  \n",
      " conv3_block2_out (Activation)  (None, 28, 28, 512)  0           ['conv3_block2_add[0][0]']       \n",
      "                                                                                                  \n",
      " conv3_block3_1_conv (Conv2D)   (None, 28, 28, 128)  65664       ['conv3_block2_out[0][0]']       \n",
      "                                                                                                  \n",
      " conv3_block3_1_bn (BatchNormal  (None, 28, 28, 128)  512        ['conv3_block3_1_conv[0][0]']    \n",
      " ization)                                                                                         \n",
      "                                                                                                  \n",
      " conv3_block3_1_relu (Activatio  (None, 28, 28, 128)  0          ['conv3_block3_1_bn[0][0]']      \n",
      " n)                                                                                               \n",
      "                                                                                                  \n",
      " conv3_block3_2_conv (Conv2D)   (None, 28, 28, 128)  147584      ['conv3_block3_1_relu[0][0]']    \n",
      "                                                                                                  \n",
      " conv3_block3_2_bn (BatchNormal  (None, 28, 28, 128)  512        ['conv3_block3_2_conv[0][0]']    \n",
      " ization)                                                                                         \n",
      "                                                                                                  \n",
      " conv3_block3_2_relu (Activatio  (None, 28, 28, 128)  0          ['conv3_block3_2_bn[0][0]']      \n",
      " n)                                                                                               \n",
      "                                                                                                  \n",
      " conv3_block3_3_conv (Conv2D)   (None, 28, 28, 512)  66048       ['conv3_block3_2_relu[0][0]']    \n",
      "                                                                                                  \n",
      " conv3_block3_3_bn (BatchNormal  (None, 28, 28, 512)  2048       ['conv3_block3_3_conv[0][0]']    \n",
      " ization)                                                                                         \n",
      "                                                                                                  \n",
      " conv3_block3_add (Add)         (None, 28, 28, 512)  0           ['conv3_block2_out[0][0]',       \n",
      "                                                                  'conv3_block3_3_bn[0][0]']      \n",
      "                                                                                                  \n",
      " conv3_block3_out (Activation)  (None, 28, 28, 512)  0           ['conv3_block3_add[0][0]']       \n",
      "                                                                                                  \n",
      " conv3_block4_1_conv (Conv2D)   (None, 28, 28, 128)  65664       ['conv3_block3_out[0][0]']       \n",
      "                                                                                                  \n",
      " conv3_block4_1_bn (BatchNormal  (None, 28, 28, 128)  512        ['conv3_block4_1_conv[0][0]']    \n",
      " ization)                                                                                         \n",
      "                                                                                                  \n",
      " conv3_block4_1_relu (Activatio  (None, 28, 28, 128)  0          ['conv3_block4_1_bn[0][0]']      \n",
      " n)                                                                                               \n",
      "                                                                                                  \n",
      " conv3_block4_2_conv (Conv2D)   (None, 28, 28, 128)  147584      ['conv3_block4_1_relu[0][0]']    \n",
      "                                                                                                  \n",
      " conv3_block4_2_bn (BatchNormal  (None, 28, 28, 128)  512        ['conv3_block4_2_conv[0][0]']    \n",
      " ization)                                                                                         \n",
      "                                                                                                  \n",
      " conv3_block4_2_relu (Activatio  (None, 28, 28, 128)  0          ['conv3_block4_2_bn[0][0]']      \n",
      " n)                                                                                               \n",
      "                                                                                                  \n",
      " conv3_block4_3_conv (Conv2D)   (None, 28, 28, 512)  66048       ['conv3_block4_2_relu[0][0]']    \n",
      "                                                                                                  \n",
      " conv3_block4_3_bn (BatchNormal  (None, 28, 28, 512)  2048       ['conv3_block4_3_conv[0][0]']    \n",
      " ization)                                                                                         \n",
      "                                                                                                  \n",
      " conv3_block4_add (Add)         (None, 28, 28, 512)  0           ['conv3_block3_out[0][0]',       \n",
      "                                                                  'conv3_block4_3_bn[0][0]']      \n",
      "                                                                                                  \n",
      " conv3_block4_out (Activation)  (None, 28, 28, 512)  0           ['conv3_block4_add[0][0]']       \n",
      "                                                                                                  \n",
      " conv4_block1_1_conv (Conv2D)   (None, 14, 14, 256)  131328      ['conv3_block4_out[0][0]']       \n",
      "                                                                                                  \n",
      " conv4_block1_1_bn (BatchNormal  (None, 14, 14, 256)  1024       ['conv4_block1_1_conv[0][0]']    \n",
      " ization)                                                                                         \n",
      "                                                                                                  \n",
      " conv4_block1_1_relu (Activatio  (None, 14, 14, 256)  0          ['conv4_block1_1_bn[0][0]']      \n",
      " n)                                                                                               \n",
      "                                                                                                  \n",
      " conv4_block1_2_conv (Conv2D)   (None, 14, 14, 256)  590080      ['conv4_block1_1_relu[0][0]']    \n",
      "                                                                                                  \n",
      " conv4_block1_2_bn (BatchNormal  (None, 14, 14, 256)  1024       ['conv4_block1_2_conv[0][0]']    \n",
      " ization)                                                                                         \n",
      "                                                                                                  \n",
      " conv4_block1_2_relu (Activatio  (None, 14, 14, 256)  0          ['conv4_block1_2_bn[0][0]']      \n",
      " n)                                                                                               \n",
      "                                                                                                  \n",
      " conv4_block1_0_conv (Conv2D)   (None, 14, 14, 1024  525312      ['conv3_block4_out[0][0]']       \n",
      "                                )                                                                 \n",
      "                                                                                                  \n",
      " conv4_block1_3_conv (Conv2D)   (None, 14, 14, 1024  263168      ['conv4_block1_2_relu[0][0]']    \n",
      "                                )                                                                 \n",
      "                                                                                                  \n",
      " conv4_block1_0_bn (BatchNormal  (None, 14, 14, 1024  4096       ['conv4_block1_0_conv[0][0]']    \n",
      " ization)                       )                                                                 \n",
      "                                                                                                  \n",
      " conv4_block1_3_bn (BatchNormal  (None, 14, 14, 1024  4096       ['conv4_block1_3_conv[0][0]']    \n",
      " ization)                       )                                                                 \n",
      "                                                                                                  \n",
      " conv4_block1_add (Add)         (None, 14, 14, 1024  0           ['conv4_block1_0_bn[0][0]',      \n",
      "                                )                                 'conv4_block1_3_bn[0][0]']      \n",
      "                                                                                                  \n",
      " conv4_block1_out (Activation)  (None, 14, 14, 1024  0           ['conv4_block1_add[0][0]']       \n",
      "                                )                                                                 \n",
      "                                                                                                  \n",
      " conv4_block2_1_conv (Conv2D)   (None, 14, 14, 256)  262400      ['conv4_block1_out[0][0]']       \n",
      "                                                                                                  \n",
      " conv4_block2_1_bn (BatchNormal  (None, 14, 14, 256)  1024       ['conv4_block2_1_conv[0][0]']    \n",
      " ization)                                                                                         \n",
      "                                                                                                  \n",
      " conv4_block2_1_relu (Activatio  (None, 14, 14, 256)  0          ['conv4_block2_1_bn[0][0]']      \n",
      " n)                                                                                               \n",
      "                                                                                                  \n",
      " conv4_block2_2_conv (Conv2D)   (None, 14, 14, 256)  590080      ['conv4_block2_1_relu[0][0]']    \n",
      "                                                                                                  \n",
      " conv4_block2_2_bn (BatchNormal  (None, 14, 14, 256)  1024       ['conv4_block2_2_conv[0][0]']    \n",
      " ization)                                                                                         \n",
      "                                                                                                  \n",
      " conv4_block2_2_relu (Activatio  (None, 14, 14, 256)  0          ['conv4_block2_2_bn[0][0]']      \n",
      " n)                                                                                               \n",
      "                                                                                                  \n",
      " conv4_block2_3_conv (Conv2D)   (None, 14, 14, 1024  263168      ['conv4_block2_2_relu[0][0]']    \n",
      "                                )                                                                 \n",
      "                                                                                                  \n",
      " conv4_block2_3_bn (BatchNormal  (None, 14, 14, 1024  4096       ['conv4_block2_3_conv[0][0]']    \n",
      " ization)                       )                                                                 \n",
      "                                                                                                  \n",
      " conv4_block2_add (Add)         (None, 14, 14, 1024  0           ['conv4_block1_out[0][0]',       \n",
      "                                )                                 'conv4_block2_3_bn[0][0]']      \n",
      "                                                                                                  \n",
      " conv4_block2_out (Activation)  (None, 14, 14, 1024  0           ['conv4_block2_add[0][0]']       \n",
      "                                )                                                                 \n",
      "                                                                                                  \n",
      " conv4_block3_1_conv (Conv2D)   (None, 14, 14, 256)  262400      ['conv4_block2_out[0][0]']       \n",
      "                                                                                                  \n",
      " conv4_block3_1_bn (BatchNormal  (None, 14, 14, 256)  1024       ['conv4_block3_1_conv[0][0]']    \n",
      " ization)                                                                                         \n",
      "                                                                                                  \n",
      " conv4_block3_1_relu (Activatio  (None, 14, 14, 256)  0          ['conv4_block3_1_bn[0][0]']      \n",
      " n)                                                                                               \n",
      "                                                                                                  \n",
      " conv4_block3_2_conv (Conv2D)   (None, 14, 14, 256)  590080      ['conv4_block3_1_relu[0][0]']    \n",
      "                                                                                                  \n",
      " conv4_block3_2_bn (BatchNormal  (None, 14, 14, 256)  1024       ['conv4_block3_2_conv[0][0]']    \n",
      " ization)                                                                                         \n",
      "                                                                                                  \n",
      " conv4_block3_2_relu (Activatio  (None, 14, 14, 256)  0          ['conv4_block3_2_bn[0][0]']      \n",
      " n)                                                                                               \n",
      "                                                                                                  \n",
      " conv4_block3_3_conv (Conv2D)   (None, 14, 14, 1024  263168      ['conv4_block3_2_relu[0][0]']    \n",
      "                                )                                                                 \n",
      "                                                                                                  \n",
      " conv4_block3_3_bn (BatchNormal  (None, 14, 14, 1024  4096       ['conv4_block3_3_conv[0][0]']    \n",
      " ization)                       )                                                                 \n",
      "                                                                                                  \n",
      " conv4_block3_add (Add)         (None, 14, 14, 1024  0           ['conv4_block2_out[0][0]',       \n",
      "                                )                                 'conv4_block3_3_bn[0][0]']      \n",
      "                                                                                                  \n",
      " conv4_block3_out (Activation)  (None, 14, 14, 1024  0           ['conv4_block3_add[0][0]']       \n",
      "                                )                                                                 \n",
      "                                                                                                  \n",
      " conv4_block4_1_conv (Conv2D)   (None, 14, 14, 256)  262400      ['conv4_block3_out[0][0]']       \n",
      "                                                                                                  \n",
      " conv4_block4_1_bn (BatchNormal  (None, 14, 14, 256)  1024       ['conv4_block4_1_conv[0][0]']    \n",
      " ization)                                                                                         \n",
      "                                                                                                  \n",
      " conv4_block4_1_relu (Activatio  (None, 14, 14, 256)  0          ['conv4_block4_1_bn[0][0]']      \n",
      " n)                                                                                               \n",
      "                                                                                                  \n",
      " conv4_block4_2_conv (Conv2D)   (None, 14, 14, 256)  590080      ['conv4_block4_1_relu[0][0]']    \n",
      "                                                                                                  \n",
      " conv4_block4_2_bn (BatchNormal  (None, 14, 14, 256)  1024       ['conv4_block4_2_conv[0][0]']    \n",
      " ization)                                                                                         \n",
      "                                                                                                  \n",
      " conv4_block4_2_relu (Activatio  (None, 14, 14, 256)  0          ['conv4_block4_2_bn[0][0]']      \n",
      " n)                                                                                               \n",
      "                                                                                                  \n",
      " conv4_block4_3_conv (Conv2D)   (None, 14, 14, 1024  263168      ['conv4_block4_2_relu[0][0]']    \n",
      "                                )                                                                 \n",
      "                                                                                                  \n",
      " conv4_block4_3_bn (BatchNormal  (None, 14, 14, 1024  4096       ['conv4_block4_3_conv[0][0]']    \n",
      " ization)                       )                                                                 \n",
      "                                                                                                  \n",
      " conv4_block4_add (Add)         (None, 14, 14, 1024  0           ['conv4_block3_out[0][0]',       \n",
      "                                )                                 'conv4_block4_3_bn[0][0]']      \n",
      "                                                                                                  \n",
      " conv4_block4_out (Activation)  (None, 14, 14, 1024  0           ['conv4_block4_add[0][0]']       \n",
      "                                )                                                                 \n",
      "                                                                                                  \n",
      " conv4_block5_1_conv (Conv2D)   (None, 14, 14, 256)  262400      ['conv4_block4_out[0][0]']       \n",
      "                                                                                                  \n",
      " conv4_block5_1_bn (BatchNormal  (None, 14, 14, 256)  1024       ['conv4_block5_1_conv[0][0]']    \n",
      " ization)                                                                                         \n",
      "                                                                                                  \n",
      " conv4_block5_1_relu (Activatio  (None, 14, 14, 256)  0          ['conv4_block5_1_bn[0][0]']      \n",
      " n)                                                                                               \n",
      "                                                                                                  \n",
      " conv4_block5_2_conv (Conv2D)   (None, 14, 14, 256)  590080      ['conv4_block5_1_relu[0][0]']    \n",
      "                                                                                                  \n",
      " conv4_block5_2_bn (BatchNormal  (None, 14, 14, 256)  1024       ['conv4_block5_2_conv[0][0]']    \n",
      " ization)                                                                                         \n",
      "                                                                                                  \n",
      " conv4_block5_2_relu (Activatio  (None, 14, 14, 256)  0          ['conv4_block5_2_bn[0][0]']      \n",
      " n)                                                                                               \n",
      "                                                                                                  \n",
      " conv4_block5_3_conv (Conv2D)   (None, 14, 14, 1024  263168      ['conv4_block5_2_relu[0][0]']    \n",
      "                                )                                                                 \n",
      "                                                                                                  \n",
      " conv4_block5_3_bn (BatchNormal  (None, 14, 14, 1024  4096       ['conv4_block5_3_conv[0][0]']    \n",
      " ization)                       )                                                                 \n",
      "                                                                                                  \n",
      " conv4_block5_add (Add)         (None, 14, 14, 1024  0           ['conv4_block4_out[0][0]',       \n",
      "                                )                                 'conv4_block5_3_bn[0][0]']      \n",
      "                                                                                                  \n",
      " conv4_block5_out (Activation)  (None, 14, 14, 1024  0           ['conv4_block5_add[0][0]']       \n",
      "                                )                                                                 \n",
      "                                                                                                  \n",
      " conv4_block6_1_conv (Conv2D)   (None, 14, 14, 256)  262400      ['conv4_block5_out[0][0]']       \n",
      "                                                                                                  \n",
      " conv4_block6_1_bn (BatchNormal  (None, 14, 14, 256)  1024       ['conv4_block6_1_conv[0][0]']    \n",
      " ization)                                                                                         \n",
      "                                                                                                  \n",
      " conv4_block6_1_relu (Activatio  (None, 14, 14, 256)  0          ['conv4_block6_1_bn[0][0]']      \n",
      " n)                                                                                               \n",
      "                                                                                                  \n",
      " conv4_block6_2_conv (Conv2D)   (None, 14, 14, 256)  590080      ['conv4_block6_1_relu[0][0]']    \n",
      "                                                                                                  \n",
      " conv4_block6_2_bn (BatchNormal  (None, 14, 14, 256)  1024       ['conv4_block6_2_conv[0][0]']    \n",
      " ization)                                                                                         \n",
      "                                                                                                  \n",
      " conv4_block6_2_relu (Activatio  (None, 14, 14, 256)  0          ['conv4_block6_2_bn[0][0]']      \n",
      " n)                                                                                               \n",
      "                                                                                                  \n",
      " conv4_block6_3_conv (Conv2D)   (None, 14, 14, 1024  263168      ['conv4_block6_2_relu[0][0]']    \n",
      "                                )                                                                 \n",
      "                                                                                                  \n",
      " conv4_block6_3_bn (BatchNormal  (None, 14, 14, 1024  4096       ['conv4_block6_3_conv[0][0]']    \n",
      " ization)                       )                                                                 \n",
      "                                                                                                  \n",
      " conv4_block6_add (Add)         (None, 14, 14, 1024  0           ['conv4_block5_out[0][0]',       \n",
      "                                )                                 'conv4_block6_3_bn[0][0]']      \n",
      "                                                                                                  \n",
      " conv4_block6_out (Activation)  (None, 14, 14, 1024  0           ['conv4_block6_add[0][0]']       \n",
      "                                )                                                                 \n",
      "                                                                                                  \n",
      " conv5_block1_1_conv (Conv2D)   (None, 7, 7, 512)    524800      ['conv4_block6_out[0][0]']       \n",
      "                                                                                                  \n",
      " conv5_block1_1_bn (BatchNormal  (None, 7, 7, 512)   2048        ['conv5_block1_1_conv[0][0]']    \n",
      " ization)                                                                                         \n",
      "                                                                                                  \n",
      " conv5_block1_1_relu (Activatio  (None, 7, 7, 512)   0           ['conv5_block1_1_bn[0][0]']      \n",
      " n)                                                                                               \n",
      "                                                                                                  \n",
      " conv5_block1_2_conv (Conv2D)   (None, 7, 7, 512)    2359808     ['conv5_block1_1_relu[0][0]']    \n",
      "                                                                                                  \n",
      " conv5_block1_2_bn (BatchNormal  (None, 7, 7, 512)   2048        ['conv5_block1_2_conv[0][0]']    \n",
      " ization)                                                                                         \n",
      "                                                                                                  \n",
      " conv5_block1_2_relu (Activatio  (None, 7, 7, 512)   0           ['conv5_block1_2_bn[0][0]']      \n",
      " n)                                                                                               \n",
      "                                                                                                  \n",
      " conv5_block1_0_conv (Conv2D)   (None, 7, 7, 2048)   2099200     ['conv4_block6_out[0][0]']       \n",
      "                                                                                                  \n",
      " conv5_block1_3_conv (Conv2D)   (None, 7, 7, 2048)   1050624     ['conv5_block1_2_relu[0][0]']    \n",
      "                                                                                                  \n",
      " conv5_block1_0_bn (BatchNormal  (None, 7, 7, 2048)  8192        ['conv5_block1_0_conv[0][0]']    \n",
      " ization)                                                                                         \n",
      "                                                                                                  \n",
      " conv5_block1_3_bn (BatchNormal  (None, 7, 7, 2048)  8192        ['conv5_block1_3_conv[0][0]']    \n",
      " ization)                                                                                         \n",
      "                                                                                                  \n",
      " conv5_block1_add (Add)         (None, 7, 7, 2048)   0           ['conv5_block1_0_bn[0][0]',      \n",
      "                                                                  'conv5_block1_3_bn[0][0]']      \n",
      "                                                                                                  \n",
      " conv5_block1_out (Activation)  (None, 7, 7, 2048)   0           ['conv5_block1_add[0][0]']       \n",
      "                                                                                                  \n",
      " conv5_block2_1_conv (Conv2D)   (None, 7, 7, 512)    1049088     ['conv5_block1_out[0][0]']       \n",
      "                                                                                                  \n",
      " conv5_block2_1_bn (BatchNormal  (None, 7, 7, 512)   2048        ['conv5_block2_1_conv[0][0]']    \n",
      " ization)                                                                                         \n",
      "                                                                                                  \n",
      " conv5_block2_1_relu (Activatio  (None, 7, 7, 512)   0           ['conv5_block2_1_bn[0][0]']      \n",
      " n)                                                                                               \n",
      "                                                                                                  \n",
      " conv5_block2_2_conv (Conv2D)   (None, 7, 7, 512)    2359808     ['conv5_block2_1_relu[0][0]']    \n",
      "                                                                                                  \n",
      " conv5_block2_2_bn (BatchNormal  (None, 7, 7, 512)   2048        ['conv5_block2_2_conv[0][0]']    \n",
      " ization)                                                                                         \n",
      "                                                                                                  \n",
      " conv5_block2_2_relu (Activatio  (None, 7, 7, 512)   0           ['conv5_block2_2_bn[0][0]']      \n",
      " n)                                                                                               \n",
      "                                                                                                  \n",
      " conv5_block2_3_conv (Conv2D)   (None, 7, 7, 2048)   1050624     ['conv5_block2_2_relu[0][0]']    \n",
      "                                                                                                  \n",
      " conv5_block2_3_bn (BatchNormal  (None, 7, 7, 2048)  8192        ['conv5_block2_3_conv[0][0]']    \n",
      " ization)                                                                                         \n",
      "                                                                                                  \n",
      " conv5_block2_add (Add)         (None, 7, 7, 2048)   0           ['conv5_block1_out[0][0]',       \n",
      "                                                                  'conv5_block2_3_bn[0][0]']      \n",
      "                                                                                                  \n",
      " conv5_block2_out (Activation)  (None, 7, 7, 2048)   0           ['conv5_block2_add[0][0]']       \n",
      "                                                                                                  \n",
      " conv5_block3_1_conv (Conv2D)   (None, 7, 7, 512)    1049088     ['conv5_block2_out[0][0]']       \n",
      "                                                                                                  \n",
      " conv5_block3_1_bn (BatchNormal  (None, 7, 7, 512)   2048        ['conv5_block3_1_conv[0][0]']    \n",
      " ization)                                                                                         \n",
      "                                                                                                  \n",
      " conv5_block3_1_relu (Activatio  (None, 7, 7, 512)   0           ['conv5_block3_1_bn[0][0]']      \n",
      " n)                                                                                               \n",
      "                                                                                                  \n",
      " conv5_block3_2_conv (Conv2D)   (None, 7, 7, 512)    2359808     ['conv5_block3_1_relu[0][0]']    \n",
      "                                                                                                  \n",
      " conv5_block3_2_bn (BatchNormal  (None, 7, 7, 512)   2048        ['conv5_block3_2_conv[0][0]']    \n",
      " ization)                                                                                         \n",
      "                                                                                                  \n",
      " conv5_block3_2_relu (Activatio  (None, 7, 7, 512)   0           ['conv5_block3_2_bn[0][0]']      \n",
      " n)                                                                                               \n",
      "                                                                                                  \n",
      " conv5_block3_3_conv (Conv2D)   (None, 7, 7, 2048)   1050624     ['conv5_block3_2_relu[0][0]']    \n",
      "                                                                                                  \n",
      " conv5_block3_3_bn (BatchNormal  (None, 7, 7, 2048)  8192        ['conv5_block3_3_conv[0][0]']    \n",
      " ization)                                                                                         \n",
      "                                                                                                  \n",
      " conv5_block3_add (Add)         (None, 7, 7, 2048)   0           ['conv5_block2_out[0][0]',       \n",
      "                                                                  'conv5_block3_3_bn[0][0]']      \n",
      "                                                                                                  \n",
      " conv5_block3_out (Activation)  (None, 7, 7, 2048)   0           ['conv5_block3_add[0][0]']       \n",
      "                                                                                                  \n",
      " avg_pool (GlobalAveragePooling  (None, 2048)        0           ['conv5_block3_out[0][0]']       \n",
      " 2D)                                                                                              \n",
      "                                                                                                  \n",
      " predictions (Dense)            (None, 1000)         2049000     ['avg_pool[0][0]']               \n",
      "                                                                                                  \n",
      "==================================================================================================\n",
      "Total params: 25,636,712\n",
      "Trainable params: 25,583,592\n",
      "Non-trainable params: 53,120\n",
      "__________________________________________________________________________________________________\n"
     ]
    }
   ],
   "source": [
    "model = keras.applications.resnet50.ResNet50(weights='imagenet')\n",
    "\n",
    "model.summary()"
   ]
  },
  {
   "cell_type": "code",
   "execution_count": 52,
   "id": "a4af270f-4670-4971-9449-c7a0730c0f3c",
   "metadata": {},
   "outputs": [
    {
     "name": "stdout",
     "output_type": "stream",
     "text": [
      "1/1 [==============================] - 2s 2s/step\n"
     ]
    },
    {
     "data": {
      "text/plain": [
       "[[('n01843065', 'jacamar', 0.48659828),\n",
       "  ('n01818515', 'macaw', 0.2302896),\n",
       "  ('n02494079', 'squirrel_monkey', 0.04457093)],\n",
       " [('n02007558', 'flamingo', 0.93010926),\n",
       "  ('n02006656', 'spoonbill', 0.06801473),\n",
       "  ('n02002556', 'white_stork', 0.0011723739)],\n",
       " [('n02097474', 'Tibetan_terrier', 0.5246219),\n",
       "  ('n02098413', 'Lhasa', 0.40590084),\n",
       "  ('n02094114', 'Norfolk_terrier', 0.016995287)],\n",
       " [('n01608432', 'kite', 0.7243432),\n",
       "  ('n01622779', 'great_grey_owl', 0.08683513),\n",
       "  ('n01532829', 'house_finch', 0.039976306)],\n",
       " [('n03388043', 'fountain', 0.27721667),\n",
       "  ('n03532672', 'hook', 0.17947064),\n",
       "  ('n03804744', 'nail', 0.11035818)],\n",
       " [('n02105641', 'Old_English_sheepdog', 0.8390029),\n",
       "  ('n02086240', 'Shih-Tzu', 0.042358067),\n",
       "  ('n03223299', 'doormat', 0.032265674)]]"
      ]
     },
     "execution_count": 52,
     "metadata": {},
     "output_type": "execute_result"
    }
   ],
   "source": [
    "pred6 = model.predict(x)\n",
    "keras.applications.imagenet_utils.decode_predictions(pred6, top=3)"
   ]
  },
  {
   "cell_type": "markdown",
   "id": "737c6d68-8c20-4d55-990a-c7bbb8f61b12",
   "metadata": {},
   "source": [
    "# 10.9.5 IMDb Document Classification"
   ]
  },
  {
   "cell_type": "code",
   "execution_count": 53,
   "id": "b697c137-6eec-4192-accc-8c0905fc1564",
   "metadata": {},
   "outputs": [],
   "source": [
    "max_features = 10_000\n",
    "(x_train, y_train), (x_test, y_test) = keras.datasets.imdb.load_data(num_words=max_features)"
   ]
  },
  {
   "cell_type": "code",
   "execution_count": 54,
   "id": "5c765ea2-2f4e-4b99-8ae2-0760e6b24364",
   "metadata": {},
   "outputs": [
    {
     "data": {
      "text/plain": [
       "[1, 14, 22, 16, 43, 530, 973, 1622, 1385, 65, 458, 4468]"
      ]
     },
     "execution_count": 54,
     "metadata": {},
     "output_type": "execute_result"
    }
   ],
   "source": [
    "x_train[0][0:12]"
   ]
  },
  {
   "cell_type": "code",
   "execution_count": 55,
   "id": "dd346be7-b23f-4a2c-ad36-889a63364df1",
   "metadata": {},
   "outputs": [
    {
     "name": "stdout",
     "output_type": "stream",
     "text": [
      "<START> this film was just brilliant casting location scenery story direction everyone's\n"
     ]
    }
   ],
   "source": [
    "word_index = keras.datasets.imdb.get_word_index()\n",
    "\n",
    "def decode_review(text: list, word_index: dict):\n",
    "    new_strings = [\"<PAD>\", \"<START>\", \"<UNK>\", \"<UNUSED>\"]\n",
    "    \n",
    "    idx = list(word_index.values())\n",
    "    idx_plus_3 = np.array(idx) + 3\n",
    "    new_idx = np.append(np.arange(0,4), idx_plus_3)\n",
    "    new_idx = list(new_idx)\n",
    "    \n",
    "    word = list(word_index.keys())\n",
    "    word = new_strings + word\n",
    "    \n",
    "    words = []\n",
    "    \n",
    "    for word_val in text:\n",
    "        if word_val not in new_idx:\n",
    "            word_val = 2 #use idx 2 to return \"<UNK>\" when idx of word can't be found\n",
    "        words.append(word[new_idx.index(word_val)])\n",
    "\n",
    "    print(\" \".join(words))\n",
    "    \n",
    "decode_review(x_train[0][0:12], word_index)"
   ]
  },
  {
   "cell_type": "code",
   "execution_count": 56,
   "id": "90757b16-3839-48c6-bcda-aedd7a0fb302",
   "metadata": {},
   "outputs": [],
   "source": [
    "def one_hot(sequences, dimension):\n",
    "    from scipy import sparse\n",
    "    from itertools import chain\n",
    "    \n",
    "    seqlen = np.array([], dtype=np.int64)\n",
    "    for seq in sequences:\n",
    "        seqlen = np.append(seqlen, len(seq))\n",
    "    \n",
    "    n = len(seqlen)\n",
    "    \n",
    "    rowind = np.repeat(np.arange(0, n), repeats=seqlen)\n",
    "    \n",
    "    # Because R starts indexing at 1 and word_index has a minimum value of 1, everything matches up nicely in R.  However, Python starts indexing at 0 and we need to adjust the values of word_index accordingly.  By subtracting 1 from colind, the first word in our dataset will be in the first column (column 0), just like in R where the first word is in the first column (column 1).\n",
    "    colind = np.array(list(chain(*sequences))) - 1  #taken from https://stackoverflow.com/questions/52573275/get-all-items-in-a-python-list\n",
    "    \n",
    "    sparse_array = np.zeros(shape=(n, dimension))\n",
    "    sparse_array[rowind, colind] = 1\n",
    "    \n",
    "    sparse_matrix = sparse.coo_matrix(sparse_array)\n",
    "        \n",
    "    return sparse_matrix"
   ]
  },
  {
   "cell_type": "code",
   "execution_count": 57,
   "id": "f2a26919-2b63-4646-822d-e519178c516e",
   "metadata": {},
   "outputs": [
    {
     "data": {
      "text/plain": [
       "(25000, 10000)"
      ]
     },
     "execution_count": 57,
     "metadata": {},
     "output_type": "execute_result"
    }
   ],
   "source": [
    "x_train_1h = one_hot(x_train, 10000)\n",
    "x_test_1h = one_hot(x_test, 10000)\n",
    "\n",
    "x_train_1h.shape"
   ]
  },
  {
   "cell_type": "code",
   "execution_count": 58,
   "id": "898a153c-be69-4df9-acd9-c98e7150252b",
   "metadata": {},
   "outputs": [
    {
     "data": {
      "text/plain": [
       "0.013169872"
      ]
     },
     "execution_count": 58,
     "metadata": {},
     "output_type": "execute_result"
    }
   ],
   "source": [
    "x_train_1h.count_nonzero() / (25000 * 10000)"
   ]
  },
  {
   "cell_type": "code",
   "execution_count": 59,
   "id": "80289a4c-1a2b-4c0e-b92c-624b3fc14a04",
   "metadata": {},
   "outputs": [],
   "source": [
    "data = robjects.r(\"\"\"\n",
    "set.seed(3)\n",
    "ival <- sample(seq(1:25000), 2000)\n",
    "\"\"\")\n",
    "\n",
    "ival = np.sort(np.array(data) - 1)\n",
    "ival_mask = pd.DataFrame(x_train_1h.toarray()).index.isin(ival)"
   ]
  },
  {
   "cell_type": "code",
   "execution_count": 60,
   "id": "5b54660a-ab36-43ca-8bac-5155aa749d16",
   "metadata": {},
   "outputs": [],
   "source": [
    "fitlm = glmnet(x=x_train_1h.tocsr()[~ival_mask].toarray(),\n",
    "               y=y_train[~ival_mask].astype(np.float64), \n",
    "               family='binomial', \n",
    "               standardize=True)\n",
    "\n",
    "classlmv = glmnetPredict(fitlm, x_train_1h.tocsr()[ival_mask]) > 0\n",
    "\n",
    "acclmv = []\n",
    "for i in range(100):\n",
    "    acc = np.mean(np.array(classlmv[:, i]).flatten() == (y_train[ival_mask] > 0))\n",
    "    acclmv.append(acc)"
   ]
  },
  {
   "cell_type": "code",
   "execution_count": 61,
   "id": "d7992ae5-2453-428e-9ef3-b928c1958d03",
   "metadata": {},
   "outputs": [
    {
     "data": {
      "image/png": "[encoded data removed]",
      "text/plain": [
       "<Figure size 432x288 with 1 Axes>"
      ]
     },
     "metadata": {
      "needs_background": "light"
     },
     "output_type": "display_data"
    }
   ],
   "source": [
    "plt.scatter(-np.log(fitlm['lambdau']), acclmv)\n",
    "plt.xlabel(\"$-log(fitlm(\\lambda u))$\")\n",
    "plt.ylabel(\"acclmv\");"
   ]
  },
  {
   "cell_type": "code",
   "execution_count": 62,
   "id": "989d9975-ae8b-4fbc-8476-27975c2051a7",
   "metadata": {},
   "outputs": [
    {
     "data": {
      "image/png": "[encoded data removed]",
      "text/plain": [
       "<Figure size 432x288 with 2 Axes>"
      ]
     },
     "metadata": {
      "needs_background": "light"
     },
     "output_type": "display_data"
    }
   ],
   "source": [
    "glmnetPlot(fitlm, xvar='lambda');"
   ]
  },
  {
   "cell_type": "code",
   "execution_count": 63,
   "id": "944da622-16b3-4d3f-af6b-a0ef06c665f2",
   "metadata": {},
   "outputs": [],
   "source": [
    "model = keras.models.Sequential(\n",
    "    [\n",
    "        layers.Dense(units=16, activation='relu'),\n",
    "        layers.Dense(units=16, activation='relu'),\n",
    "        layers.Dense(units=1, activation='sigmoid')\n",
    "    ]\n",
    ")\n",
    "\n",
    "model.compile(loss='binary_crossentropy', optimizer='rmsprop', metrics='accuracy')\n",
    "\n",
    "history = model.fit(x=x_train_1h.tocsr()[~ival_mask], \n",
    "                    y=y_train[~ival_mask], \n",
    "                    epochs=20, batch_size=512, \n",
    "                    validation_data=(\n",
    "                        x_train_1h.tocsr()[ival_mask], y_train[ival_mask]\n",
    "                    ),\n",
    "                    verbose=0\n",
    "                   )"
   ]
  },
  {
   "cell_type": "code",
   "execution_count": 64,
   "id": "e11a16d0-a54b-4589-93b2-d96db4dd2dcf",
   "metadata": {},
   "outputs": [
    {
     "data": {
      "image/png": "[encoded data removed]",
      "text/plain": [
       "<Figure size 576x432 with 2 Axes>"
      ]
     },
     "metadata": {
      "needs_background": "light"
     },
     "output_type": "display_data"
    }
   ],
   "source": [
    "fig, ax = plt.subplots(2, 1, sharex = True, figsize=(8,6))\n",
    "\n",
    "ax[0].plot(history.history['loss'])\n",
    "ax[0].plot(history.history['val_loss'])\n",
    "ax[0].set_title('model loss')\n",
    "ax[0].set_ylabel('loss')\n",
    "ax[0].set_xlabel('epoch')\n",
    "ax[0].legend(['Train', 'Validation'])\n",
    "\n",
    "ax[1].plot(history.history['accuracy'])\n",
    "ax[1].plot(history.history['val_accuracy'])\n",
    "ax[1].set_title('model accuracy')\n",
    "ax[1].set_ylabel('accuracy')\n",
    "ax[1].set_xlabel('epoch')\n",
    "ax[1].legend(['Train', 'Validation'])\n",
    "\n",
    "plt.tight_layout();"
   ]
  },
  {
   "cell_type": "code",
   "execution_count": 65,
   "id": "1747f04c-9ae8-4cea-a315-82f01b72c422",
   "metadata": {
    "tags": []
   },
   "outputs": [],
   "source": [
    "history2 = model.fit(x = x_train_1h.tocsr()[~ival_mask], \n",
    "                     y = y_train[~ival_mask], \n",
    "                     epochs=20, batch_size=512, \n",
    "                     validation_data=(x_test_1h.tocsr(), y_test),\n",
    "                     verbose=0\n",
    "                    )"
   ]
  },
  {
   "cell_type": "code",
   "execution_count": 66,
   "id": "c4ea11e1-9853-4103-9b36-bea81f0ae2c7",
   "metadata": {},
   "outputs": [
    {
     "data": {
      "image/png": "[encoded data removed]",
      "text/plain": [
       "<Figure size 576x432 with 2 Axes>"
      ]
     },
     "metadata": {
      "needs_background": "light"
     },
     "output_type": "display_data"
    }
   ],
   "source": [
    "fig, ax = plt.subplots(2, 1, sharex = True, figsize=(8,6))\n",
    "\n",
    "ax[0].plot(history2.history['loss'])\n",
    "ax[0].plot(history2.history['val_loss'])\n",
    "ax[0].set_title('model loss')\n",
    "ax[0].set_ylabel('loss')\n",
    "ax[0].set_xlabel('epoch')\n",
    "ax[0].legend(['Train', 'Validation'])\n",
    "\n",
    "ax[1].plot(history2.history['accuracy'])\n",
    "ax[1].plot(history2.history['val_accuracy'])\n",
    "ax[1].set_title('model accuracy')\n",
    "ax[1].set_ylabel('accuracy')\n",
    "ax[1].set_xlabel('epoch')\n",
    "ax[1].legend(['Train', 'Validation'])\n",
    "\n",
    "plt.tight_layout();"
   ]
  },
  {
   "cell_type": "markdown",
   "id": "ef2bad36-c8c0-42c2-9c75-f576436019f1",
   "metadata": {},
   "source": [
    "# 10.9.6 Recurrent Neural Networks"
   ]
  },
  {
   "cell_type": "code",
   "execution_count": 67,
   "id": "9d0c3dab-f24b-4cef-b2db-948e9ef18c42",
   "metadata": {},
   "outputs": [],
   "source": [
    "max_features = 10_000\n",
    "(x_train, y_train), (x_test, y_test) = keras.datasets.imdb.load_data(num_words=max_features)"
   ]
  },
  {
   "cell_type": "code",
   "execution_count": 68,
   "id": "f70f51d8-963a-4e8a-8331-aabd947f7af3",
   "metadata": {},
   "outputs": [
    {
     "data": {
      "text/plain": [
       "178.0"
      ]
     },
     "execution_count": 68,
     "metadata": {},
     "output_type": "execute_result"
    }
   ],
   "source": [
    "wc = []\n",
    "for seq in x_train:\n",
    "    seq_len = len(seq)\n",
    "    wc.append(seq_len)\n",
    "    \n",
    "wc = np.array(wc)\n",
    "\n",
    "np.median(wc)"
   ]
  },
  {
   "cell_type": "code",
   "execution_count": 69,
   "id": "ea3287dd-4002-4535-80df-79c485a5cc08",
   "metadata": {},
   "outputs": [
    {
     "data": {
      "text/plain": [
       "0.91568"
      ]
     },
     "execution_count": 69,
     "metadata": {},
     "output_type": "execute_result"
    }
   ],
   "source": [
    "sum(wc <= 500) / len(wc)"
   ]
  },
  {
   "cell_type": "code",
   "execution_count": 70,
   "id": "3e83313b-7655-4c62-8067-9e3819be436a",
   "metadata": {},
   "outputs": [],
   "source": [
    "maxlen = 500\n",
    "(x_train, y_train), (x_test, y_test) = keras.datasets.imdb.load_data(num_words=max_features)"
   ]
  },
  {
   "cell_type": "code",
   "execution_count": 71,
   "id": "736b521b-176c-4342-8676-d93167a6a11f",
   "metadata": {},
   "outputs": [],
   "source": [
    "def pad_sequences(data, maxlen):\n",
    "\n",
    "    padded = []\n",
    "\n",
    "    for row in data:\n",
    "        row_len = len(row)\n",
    "        abs_diff = abs(maxlen - row_len)\n",
    "        if row_len < maxlen:\n",
    "            padded.append(np.pad(array=row, pad_width=(abs_diff, 0)))\n",
    "        else:\n",
    "            padded.append(np.array(row[abs_diff:]))\n",
    "           \n",
    "    padded_array = np.array(padded)\n",
    "    \n",
    "    return padded_array"
   ]
  },
  {
   "cell_type": "code",
   "execution_count": 72,
   "id": "3f80275c-d8f9-4e33-8519-5eb0e89a1f0d",
   "metadata": {},
   "outputs": [
    {
     "data": {
      "text/plain": [
       "(25000, 500)"
      ]
     },
     "execution_count": 72,
     "metadata": {},
     "output_type": "execute_result"
    }
   ],
   "source": [
    "x_train = pad_sequences(x_train, maxlen)\n",
    "x_test = pad_sequences(x_test, maxlen)\n",
    "\n",
    "x_train.shape"
   ]
  },
  {
   "cell_type": "code",
   "execution_count": 73,
   "id": "b79e6185-c870-4e68-ac48-82446c76d0f9",
   "metadata": {},
   "outputs": [
    {
     "data": {
      "text/plain": [
       "(25000, 500)"
      ]
     },
     "execution_count": 73,
     "metadata": {},
     "output_type": "execute_result"
    }
   ],
   "source": [
    "x_test.shape"
   ]
  },
  {
   "cell_type": "code",
   "execution_count": 74,
   "id": "eff6749b-8059-44dc-a131-442cecbc91f7",
   "metadata": {},
   "outputs": [
    {
     "data": {
      "text/plain": [
       "array([  16, 4472,  113,  103,   32,   15,   16, 5345,   19,  178,   32])"
      ]
     },
     "execution_count": 74,
     "metadata": {},
     "output_type": "execute_result"
    }
   ],
   "source": [
    "x_train[0, 489:500]"
   ]
  },
  {
   "cell_type": "code",
   "execution_count": 75,
   "id": "2d3380b1-142f-42a3-965e-eb0a7faf66d3",
   "metadata": {},
   "outputs": [],
   "source": [
    "model = keras.models.Sequential(\n",
    "    [\n",
    "        layers.Embedding(input_dim = 10000, output_dim = 32),\n",
    "        layers.LSTM(units = 32),\n",
    "        layers.Dense(units = 1, activation = 'sigmoid')\n",
    "    ]\n",
    ")"
   ]
  },
  {
   "cell_type": "code",
   "execution_count": 76,
   "id": "b7eac539-9511-4fe8-b9fb-6575c5bd7665",
   "metadata": {},
   "outputs": [],
   "source": [
    "model.compile(optimizer = 'rmsprop', loss='binary_crossentropy', metrics='accuracy')\n",
    "\n",
    "history = model.fit(x = x_train, \n",
    "                    y = y_train,\n",
    "                    epochs = 10, batch_size = 128,\n",
    "                    validation_data = (x_test, y_test),\n",
    "                    verbose=0\n",
    "                   )"
   ]
  },
  {
   "cell_type": "code",
   "execution_count": 77,
   "id": "bfb2ab33-c641-4a35-8c2c-62ff9b74207b",
   "metadata": {},
   "outputs": [
    {
     "name": "stdout",
     "output_type": "stream",
     "text": [
      "782/782 [==============================] - 23s 28ms/step\n"
     ]
    },
    {
     "data": {
      "image/png": "[encoded data removed]",
      "text/plain": [
       "<Figure size 576x432 with 2 Axes>"
      ]
     },
     "metadata": {
      "needs_background": "light"
     },
     "output_type": "display_data"
    }
   ],
   "source": [
    "fig, ax = plt.subplots(2, 1, sharex = True, figsize = (8,6))\n",
    "\n",
    "ax[0].plot(history.history['loss'])\n",
    "ax[0].plot(history.history['val_loss'])\n",
    "ax[0].set_title('model loss')\n",
    "ax[0].set_ylabel('loss')\n",
    "ax[0].set_xlabel('epoch')\n",
    "ax[0].legend(['Train', 'Validation'])\n",
    "\n",
    "ax[1].plot(history.history['accuracy'])\n",
    "ax[1].plot(history.history['val_accuracy'])\n",
    "ax[1].set_title('model accuracy')\n",
    "ax[1].set_ylabel('accuracy')\n",
    "ax[1].set_xlabel('epoch')\n",
    "ax[1].legend(['Train', 'Validation'])\n",
    "\n",
    "plt.tight_layout()\n",
    "\n",
    "predy = model.predict(x_test) > 0.5\n",
    "\n",
    "np.mean(y_test == predy.flatten());"
   ]
  },
  {
   "cell_type": "markdown",
   "id": "d6e006b0-d503-4c04-937b-37babb28a1d4",
   "metadata": {},
   "source": [
    "## Time Series Prediction"
   ]
  },
  {
   "cell_type": "code",
   "execution_count": 78,
   "id": "a176cf84-12ad-4465-b498-f7b77f88e59c",
   "metadata": {
    "tags": []
   },
   "outputs": [],
   "source": [
    "data = robjects.r(\"\"\"\n",
    "library(ISLR2)\n",
    "xdata <- NYSE[, c(\"DJ_return\", \"log_volume\", \"log_volatility\")]\n",
    "\"\"\")\n",
    "with localconverter(robjects.default_converter + pandas2ri.converter):\n",
    "    xdata = robjects.conversion.rpy2py(data)\n",
    "    \n",
    "data = robjects.r(\"\"\"\n",
    "library(ISLR2)\n",
    "xdata <- NYSE[, \"train\"]\n",
    "\"\"\")\n",
    "istrain = np.array(data)\n",
    "\n",
    "xdata = (xdata - xdata.mean()) / xdata.std()"
   ]
  },
  {
   "cell_type": "code",
   "execution_count": 79,
   "id": "ebd17ab7-3141-457b-87df-ec59e7e84b88",
   "metadata": {},
   "outputs": [],
   "source": [
    "def lagm(df, prefix, k=1):\n",
    "    num_rows, num_cols = df.shape\n",
    "    \n",
    "    null_df = pd.DataFrame(np.ones(shape=(k, num_cols)) * np.nan,\n",
    "                           columns = df.columns)\n",
    "    \n",
    "    padded_df = pd.concat([null_df, df[:-k]], ignore_index=True)\n",
    "    #padded_df.index += 1\n",
    "    \n",
    "    for column in padded_df.columns:\n",
    "        padded_df = padded_df.rename(columns={column: prefix + '_' + column})\n",
    "    \n",
    "    return padded_df"
   ]
  },
  {
   "cell_type": "code",
   "execution_count": 80,
   "id": "d0b51c70-b8e6-4de8-b432-5445debcd792",
   "metadata": {},
   "outputs": [],
   "source": [
    "arframe = pd.concat(\n",
    "    [\n",
    "        xdata[['log_volume']].reset_index(drop=True),\n",
    "        lagm(xdata, 'L1', 1), \n",
    "        lagm(xdata, 'L2', 2),\n",
    "        lagm(xdata, 'L3', 3),\n",
    "        lagm(xdata, 'L4', 4),\n",
    "        lagm(xdata, 'L5', 5)\n",
    "    ], axis=1\n",
    ")"
   ]
  },
  {
   "cell_type": "code",
   "execution_count": 81,
   "id": "877bd800-fa0e-4324-8a4c-1e192ab24cb9",
   "metadata": {},
   "outputs": [
    {
     "data": {
      "text/html": [
       "<div>\n",
       "<style scoped>\n",
       "    .dataframe tbody tr th:only-of-type {\n",
       "        vertical-align: middle;\n",
       "    }\n",
       "\n",
       "    .dataframe tbody tr th {\n",
       "        vertical-align: top;\n",
       "    }\n",
       "\n",
       "    .dataframe thead th {\n",
       "        text-align: right;\n",
       "    }\n",
       "</style>\n",
       "<table border=\"1\" class=\"dataframe\">\n",
       "  <thead>\n",
       "    <tr style=\"text-align: right;\">\n",
       "      <th></th>\n",
       "      <th>log_volume</th>\n",
       "      <th>L1_DJ_return</th>\n",
       "      <th>L1_log_volume</th>\n",
       "      <th>L1_log_volatility</th>\n",
       "      <th>L2_DJ_return</th>\n",
       "      <th>L2_log_volume</th>\n",
       "      <th>L2_log_volatility</th>\n",
       "      <th>L3_DJ_return</th>\n",
       "      <th>L3_log_volume</th>\n",
       "      <th>L3_log_volatility</th>\n",
       "      <th>L4_DJ_return</th>\n",
       "      <th>L4_log_volume</th>\n",
       "      <th>L4_log_volatility</th>\n",
       "      <th>L5_DJ_return</th>\n",
       "      <th>L5_log_volume</th>\n",
       "      <th>L5_log_volatility</th>\n",
       "    </tr>\n",
       "  </thead>\n",
       "  <tbody>\n",
       "    <tr>\n",
       "      <th>0</th>\n",
       "      <td>0.175060</td>\n",
       "      <td>NaN</td>\n",
       "      <td>NaN</td>\n",
       "      <td>NaN</td>\n",
       "      <td>NaN</td>\n",
       "      <td>NaN</td>\n",
       "      <td>NaN</td>\n",
       "      <td>NaN</td>\n",
       "      <td>NaN</td>\n",
       "      <td>NaN</td>\n",
       "      <td>NaN</td>\n",
       "      <td>NaN</td>\n",
       "      <td>NaN</td>\n",
       "      <td>NaN</td>\n",
       "      <td>NaN</td>\n",
       "      <td>NaN</td>\n",
       "    </tr>\n",
       "    <tr>\n",
       "      <th>1</th>\n",
       "      <td>1.517165</td>\n",
       "      <td>-0.549778</td>\n",
       "      <td>0.175060</td>\n",
       "      <td>-4.356718</td>\n",
       "      <td>NaN</td>\n",
       "      <td>NaN</td>\n",
       "      <td>NaN</td>\n",
       "      <td>NaN</td>\n",
       "      <td>NaN</td>\n",
       "      <td>NaN</td>\n",
       "      <td>NaN</td>\n",
       "      <td>NaN</td>\n",
       "      <td>NaN</td>\n",
       "      <td>NaN</td>\n",
       "      <td>NaN</td>\n",
       "      <td>NaN</td>\n",
       "    </tr>\n",
       "    <tr>\n",
       "      <th>2</th>\n",
       "      <td>2.283601</td>\n",
       "      <td>0.905125</td>\n",
       "      <td>1.517165</td>\n",
       "      <td>-2.528849</td>\n",
       "      <td>-0.549778</td>\n",
       "      <td>0.175060</td>\n",
       "      <td>-4.356718</td>\n",
       "      <td>NaN</td>\n",
       "      <td>NaN</td>\n",
       "      <td>NaN</td>\n",
       "      <td>NaN</td>\n",
       "      <td>NaN</td>\n",
       "      <td>NaN</td>\n",
       "      <td>NaN</td>\n",
       "      <td>NaN</td>\n",
       "      <td>NaN</td>\n",
       "    </tr>\n",
       "    <tr>\n",
       "      <th>3</th>\n",
       "      <td>0.935098</td>\n",
       "      <td>0.434777</td>\n",
       "      <td>2.283601</td>\n",
       "      <td>-2.417837</td>\n",
       "      <td>0.905125</td>\n",
       "      <td>1.517165</td>\n",
       "      <td>-2.528849</td>\n",
       "      <td>-0.549778</td>\n",
       "      <td>0.175060</td>\n",
       "      <td>-4.356718</td>\n",
       "      <td>NaN</td>\n",
       "      <td>NaN</td>\n",
       "      <td>NaN</td>\n",
       "      <td>NaN</td>\n",
       "      <td>NaN</td>\n",
       "      <td>NaN</td>\n",
       "    </tr>\n",
       "    <tr>\n",
       "      <th>4</th>\n",
       "      <td>0.224760</td>\n",
       "      <td>-0.431361</td>\n",
       "      <td>0.935098</td>\n",
       "      <td>-2.366325</td>\n",
       "      <td>0.434777</td>\n",
       "      <td>2.283601</td>\n",
       "      <td>-2.417837</td>\n",
       "      <td>0.905125</td>\n",
       "      <td>1.517165</td>\n",
       "      <td>-2.528849</td>\n",
       "      <td>-0.549778</td>\n",
       "      <td>0.175060</td>\n",
       "      <td>-4.356718</td>\n",
       "      <td>NaN</td>\n",
       "      <td>NaN</td>\n",
       "      <td>NaN</td>\n",
       "    </tr>\n",
       "    <tr>\n",
       "      <th>...</th>\n",
       "      <td>...</td>\n",
       "      <td>...</td>\n",
       "      <td>...</td>\n",
       "      <td>...</td>\n",
       "      <td>...</td>\n",
       "      <td>...</td>\n",
       "      <td>...</td>\n",
       "      <td>...</td>\n",
       "      <td>...</td>\n",
       "      <td>...</td>\n",
       "      <td>...</td>\n",
       "      <td>...</td>\n",
       "      <td>...</td>\n",
       "      <td>...</td>\n",
       "      <td>...</td>\n",
       "      <td>...</td>\n",
       "    </tr>\n",
       "    <tr>\n",
       "      <th>6046</th>\n",
       "      <td>-0.974682</td>\n",
       "      <td>-0.749984</td>\n",
       "      <td>1.964683</td>\n",
       "      <td>0.080244</td>\n",
       "      <td>-0.185163</td>\n",
       "      <td>1.602537</td>\n",
       "      <td>0.127993</td>\n",
       "      <td>0.968186</td>\n",
       "      <td>4.258050</td>\n",
       "      <td>0.263384</td>\n",
       "      <td>-0.360714</td>\n",
       "      <td>0.142992</td>\n",
       "      <td>0.252329</td>\n",
       "      <td>-1.118866</td>\n",
       "      <td>-0.149903</td>\n",
       "      <td>0.375014</td>\n",
       "    </tr>\n",
       "    <tr>\n",
       "      <th>6047</th>\n",
       "      <td>-5.623349</td>\n",
       "      <td>0.751148</td>\n",
       "      <td>-0.974682</td>\n",
       "      <td>0.046882</td>\n",
       "      <td>-0.749984</td>\n",
       "      <td>1.964683</td>\n",
       "      <td>0.080244</td>\n",
       "      <td>-0.185163</td>\n",
       "      <td>1.602537</td>\n",
       "      <td>0.127993</td>\n",
       "      <td>0.968186</td>\n",
       "      <td>4.258050</td>\n",
       "      <td>0.263384</td>\n",
       "      <td>-0.360714</td>\n",
       "      <td>0.142992</td>\n",
       "      <td>0.252329</td>\n",
       "    </tr>\n",
       "    <tr>\n",
       "      <th>6048</th>\n",
       "      <td>-1.552954</td>\n",
       "      <td>0.195335</td>\n",
       "      <td>-5.623349</td>\n",
       "      <td>-0.083976</td>\n",
       "      <td>0.751148</td>\n",
       "      <td>-0.974682</td>\n",
       "      <td>0.046882</td>\n",
       "      <td>-0.749984</td>\n",
       "      <td>1.964683</td>\n",
       "      <td>0.080244</td>\n",
       "      <td>-0.185163</td>\n",
       "      <td>1.602537</td>\n",
       "      <td>0.127993</td>\n",
       "      <td>0.968186</td>\n",
       "      <td>4.258050</td>\n",
       "      <td>0.263384</td>\n",
       "    </tr>\n",
       "    <tr>\n",
       "      <th>6049</th>\n",
       "      <td>-1.614579</td>\n",
       "      <td>-1.148856</td>\n",
       "      <td>-1.552954</td>\n",
       "      <td>0.019965</td>\n",
       "      <td>0.195335</td>\n",
       "      <td>-5.623349</td>\n",
       "      <td>-0.083976</td>\n",
       "      <td>0.751148</td>\n",
       "      <td>-0.974682</td>\n",
       "      <td>0.046882</td>\n",
       "      <td>-0.749984</td>\n",
       "      <td>1.964683</td>\n",
       "      <td>0.080244</td>\n",
       "      <td>-0.185163</td>\n",
       "      <td>1.602537</td>\n",
       "      <td>0.127993</td>\n",
       "    </tr>\n",
       "    <tr>\n",
       "      <th>6050</th>\n",
       "      <td>-1.098276</td>\n",
       "      <td>-0.238741</td>\n",
       "      <td>-1.614579</td>\n",
       "      <td>-0.110590</td>\n",
       "      <td>-1.148856</td>\n",
       "      <td>-1.552954</td>\n",
       "      <td>0.019965</td>\n",
       "      <td>0.195335</td>\n",
       "      <td>-5.623349</td>\n",
       "      <td>-0.083976</td>\n",
       "      <td>0.751148</td>\n",
       "      <td>-0.974682</td>\n",
       "      <td>0.046882</td>\n",
       "      <td>-0.749984</td>\n",
       "      <td>1.964683</td>\n",
       "      <td>0.080244</td>\n",
       "    </tr>\n",
       "  </tbody>\n",
       "</table>\n",
       "<p>6051 rows × 16 columns</p>\n",
       "</div>"
      ],
      "text/plain": [
       "      log_volume  L1_DJ_return  L1_log_volume  L1_log_volatility  \\\n",
       "0       0.175060           NaN            NaN                NaN   \n",
       "1       1.517165     -0.549778       0.175060          -4.356718   \n",
       "2       2.283601      0.905125       1.517165          -2.528849   \n",
       "3       0.935098      0.434777       2.283601          -2.417837   \n",
       "4       0.224760     -0.431361       0.935098          -2.366325   \n",
       "...          ...           ...            ...                ...   \n",
       "6046   -0.974682     -0.749984       1.964683           0.080244   \n",
       "6047   -5.623349      0.751148      -0.974682           0.046882   \n",
       "6048   -1.552954      0.195335      -5.623349          -0.083976   \n",
       "6049   -1.614579     -1.148856      -1.552954           0.019965   \n",
       "6050   -1.098276     -0.238741      -1.614579          -0.110590   \n",
       "\n",
       "      L2_DJ_return  L2_log_volume  L2_log_volatility  L3_DJ_return  \\\n",
       "0              NaN            NaN                NaN           NaN   \n",
       "1              NaN            NaN                NaN           NaN   \n",
       "2        -0.549778       0.175060          -4.356718           NaN   \n",
       "3         0.905125       1.517165          -2.528849     -0.549778   \n",
       "4         0.434777       2.283601          -2.417837      0.905125   \n",
       "...            ...            ...                ...           ...   \n",
       "6046     -0.185163       1.602537           0.127993      0.968186   \n",
       "6047     -0.749984       1.964683           0.080244     -0.185163   \n",
       "6048      0.751148      -0.974682           0.046882     -0.749984   \n",
       "6049      0.195335      -5.623349          -0.083976      0.751148   \n",
       "6050     -1.148856      -1.552954           0.019965      0.195335   \n",
       "\n",
       "      L3_log_volume  L3_log_volatility  L4_DJ_return  L4_log_volume  \\\n",
       "0               NaN                NaN           NaN            NaN   \n",
       "1               NaN                NaN           NaN            NaN   \n",
       "2               NaN                NaN           NaN            NaN   \n",
       "3          0.175060          -4.356718           NaN            NaN   \n",
       "4          1.517165          -2.528849     -0.549778       0.175060   \n",
       "...             ...                ...           ...            ...   \n",
       "6046       4.258050           0.263384     -0.360714       0.142992   \n",
       "6047       1.602537           0.127993      0.968186       4.258050   \n",
       "6048       1.964683           0.080244     -0.185163       1.602537   \n",
       "6049      -0.974682           0.046882     -0.749984       1.964683   \n",
       "6050      -5.623349          -0.083976      0.751148      -0.974682   \n",
       "\n",
       "      L4_log_volatility  L5_DJ_return  L5_log_volume  L5_log_volatility  \n",
       "0                   NaN           NaN            NaN                NaN  \n",
       "1                   NaN           NaN            NaN                NaN  \n",
       "2                   NaN           NaN            NaN                NaN  \n",
       "3                   NaN           NaN            NaN                NaN  \n",
       "4             -4.356718           NaN            NaN                NaN  \n",
       "...                 ...           ...            ...                ...  \n",
       "6046           0.252329     -1.118866      -0.149903           0.375014  \n",
       "6047           0.263384     -0.360714       0.142992           0.252329  \n",
       "6048           0.127993      0.968186       4.258050           0.263384  \n",
       "6049           0.080244     -0.185163       1.602537           0.127993  \n",
       "6050           0.046882     -0.749984       1.964683           0.080244  \n",
       "\n",
       "[6051 rows x 16 columns]"
      ]
     },
     "execution_count": 81,
     "metadata": {},
     "output_type": "execute_result"
    }
   ],
   "source": [
    "arframe"
   ]
  },
  {
   "cell_type": "code",
   "execution_count": 82,
   "id": "3db99f06-4117-48a5-a8c6-a54afd80b986",
   "metadata": {},
   "outputs": [],
   "source": [
    "arframe = arframe[5:]\n",
    "istrain = istrain[5:]"
   ]
  },
  {
   "cell_type": "code",
   "execution_count": 83,
   "id": "d324683b-b0f2-460b-9f20-7630c00c532f",
   "metadata": {},
   "outputs": [
    {
     "data": {
      "text/plain": [
       "(6046, 16)"
      ]
     },
     "execution_count": 83,
     "metadata": {},
     "output_type": "execute_result"
    }
   ],
   "source": [
    "arframe.shape"
   ]
  },
  {
   "cell_type": "code",
   "execution_count": null,
   "id": "7e330381-4037-45ed-a560-9e046d2d312d",
   "metadata": {},
   "outputs": [],
   "source": []
  },
  {
   "cell_type": "code",
   "execution_count": 84,
   "id": "10598f38-d11d-4437-b3bd-2b0a4357294f",
   "metadata": {},
   "outputs": [
    {
     "data": {
      "text/plain": [
       "0.41322299369023163"
      ]
     },
     "execution_count": 84,
     "metadata": {},
     "output_type": "execute_result"
    }
   ],
   "source": [
    "training_mask = istrain.astype(bool)\n",
    "\n",
    "formula_string = formula_from_cols(arframe, 'log_volume')\n",
    "\n",
    "armodel = smf.ols(formula=formula_string, data = sm.add_constant(arframe[training_mask]))\n",
    "\n",
    "arfit = armodel.fit()\n",
    "\n",
    "arpred = arfit.predict(arframe[~training_mask])\n",
    "V_0 = arframe[~training_mask]['log_volume'].var()\n",
    "1 - np.mean((arpred - arframe[~training_mask]['log_volume'])**2) / V_0"
   ]
  },
  {
   "cell_type": "code",
   "execution_count": 86,
   "id": "75a27707-0724-49fc-844e-89ac8fcf864b",
   "metadata": {
    "tags": []
   },
   "outputs": [
    {
     "data": {
      "text/plain": [
       "0.459861648721539"
      ]
     },
     "execution_count": 86,
     "metadata": {},
     "output_type": "execute_result"
    }
   ],
   "source": [
    "data = robjects.r(\"\"\"\n",
    "library(ISLR2)\n",
    "xdata <- NYSE[, 'day_of_week']\n",
    "\"\"\")\n",
    "day_df = pd.DataFrame(np.array(data), columns=['day'])\n",
    "\n",
    "arframed = pd.concat([day_df[5:], arframe], axis=1)\n",
    "\n",
    "formula_string = formula_from_cols(arframed, 'log_volume')\n",
    "\n",
    "armodeld = smf.ols(formula=formula_string, data = sm.add_constant(arframed[training_mask]))\n",
    "\n",
    "arfitd = armodeld.fit()\n",
    "\n",
    "arpredd = arfitd.predict(arframed[~training_mask])\n",
    "1 - np.mean((arpredd - arframed[~training_mask]['log_volume']) ** 2) / V_0"
   ]
  },
  {
   "cell_type": "code",
   "execution_count": 87,
   "id": "48a9e6c1-0fab-40c9-8477-9a6f936e135b",
   "metadata": {},
   "outputs": [
    {
     "data": {
      "text/plain": [
       "((6046, 1), (6046, 16), (6046, 17))"
      ]
     },
     "execution_count": 87,
     "metadata": {},
     "output_type": "execute_result"
    }
   ],
   "source": [
    "day_df[5:].shape, arframe.shape, arframed.shape"
   ]
  },
  {
   "cell_type": "code",
   "execution_count": 88,
   "id": "f76a254d-c026-48f7-8d8d-4305e8e8dcf4",
   "metadata": {},
   "outputs": [
    {
     "data": {
      "text/plain": [
       "(6046, 5, 3)"
      ]
     },
     "execution_count": 88,
     "metadata": {},
     "output_type": "execute_result"
    }
   ],
   "source": [
    "n = arframe.shape[0]\n",
    "xrnn = pd.DataFrame(arframe.iloc[:,1:])\n",
    "xrnn = np.array(xrnn)\n",
    "xrnn = xrnn.reshape((n, 3, 5), order='F')\n",
    "xrnn = xrnn[:,:,::-1]\n",
    "xrnn = xrnn.transpose((0,2,1))\n",
    "xrnn.shape"
   ]
  },
  {
   "cell_type": "code",
   "execution_count": 89,
   "id": "d1223b51-bea1-46e4-a881-3f2c9044ec95",
   "metadata": {},
   "outputs": [],
   "source": [
    "model = keras.models.Sequential(\n",
    "    [\n",
    "        layers.SimpleRNN(units=12,\n",
    "                         dropout=0.1,\n",
    "                         recurrent_dropout=0.1),\n",
    "        layers.Dense(units=1)\n",
    "    ]\n",
    ")\n",
    "\n",
    "model.compile(optimizer='rmsprop', loss='mse')"
   ]
  },
  {
   "cell_type": "code",
   "execution_count": 90,
   "id": "8073fd7f-467f-4e19-8fa9-fe1c696751c2",
   "metadata": {
    "tags": []
   },
   "outputs": [
    {
     "name": "stdout",
     "output_type": "stream",
     "text": [
      "56/56 [==============================] - 0s 1ms/step\n"
     ]
    },
    {
     "data": {
      "text/plain": [
       "0.4048269212398954"
      ]
     },
     "execution_count": 90,
     "metadata": {},
     "output_type": "execute_result"
    }
   ],
   "source": [
    "history = model.fit(\n",
    "    x = xrnn[training_mask, :, :],\n",
    "    y = arframe[training_mask]['log_volume'],\n",
    "    batch_size = 64, epochs = 200,\n",
    "    validation_data = (xrnn[~training_mask, :, :], \n",
    "                       arframe[~training_mask]['log_volume']),\n",
    "    verbose=0\n",
    ")\n",
    "\n",
    "kpred = model.predict(xrnn[~training_mask])\n",
    "1 - np.mean((kpred.flatten() - arframe[~training_mask]['log_volume'])**2) / V_0"
   ]
  },
  {
   "cell_type": "code",
   "execution_count": 91,
   "id": "b355f1fa-41dc-41d7-94e2-1695b39ff11f",
   "metadata": {},
   "outputs": [
    {
     "data": {
      "image/png": "[encoded data removed]",
      "text/plain": [
       "<Figure size 432x288 with 1 Axes>"
      ]
     },
     "metadata": {
      "needs_background": "light"
     },
     "output_type": "display_data"
    }
   ],
   "source": [
    "plt.plot(history.history['loss'])\n",
    "plt.plot(history.history['val_loss'])\n",
    "plt.title('model loss')\n",
    "plt.ylabel('loss')\n",
    "plt.xlabel('epoch')\n",
    "plt.legend(['Train', 'Validation']);"
   ]
  },
  {
   "cell_type": "code",
   "execution_count": 92,
   "id": "b5b8b3a3-96be-4484-8ae5-9050287a3830",
   "metadata": {},
   "outputs": [],
   "source": [
    "model = keras.models.Sequential(\n",
    "    [\n",
    "        layers.Flatten(),\n",
    "        layers.Dense(units = 1)\n",
    "    ]\n",
    ")\n",
    "\n",
    "model.compile(optimizer='rmsprop', loss='mse')"
   ]
  },
  {
   "cell_type": "code",
   "execution_count": 93,
   "id": "ffdce130-e1b7-4a09-940c-d1292c1eb355",
   "metadata": {
    "tags": []
   },
   "outputs": [
    {
     "name": "stdout",
     "output_type": "stream",
     "text": [
      "56/56 [==============================] - 0s 812us/step\n"
     ]
    },
    {
     "data": {
      "text/plain": [
       "0.4124917441443945"
      ]
     },
     "execution_count": 93,
     "metadata": {},
     "output_type": "execute_result"
    }
   ],
   "source": [
    "history = model.fit(\n",
    "    x = xrnn[training_mask, :, :],\n",
    "    y = arframe[training_mask]['log_volume'],\n",
    "    batch_size = 64, epochs = 200,\n",
    "    validation_data = (xrnn[~training_mask, :, :], \n",
    "                       arframe[~training_mask]['log_volume']),\n",
    "    verbose = 0\n",
    ")\n",
    "\n",
    "kpred = model.predict(xrnn[~training_mask])\n",
    "1 - np.mean((kpred.flatten() - arframe[~training_mask]['log_volume'])**2) / V_0"
   ]
  },
  {
   "cell_type": "code",
   "execution_count": 94,
   "id": "cf1b0b19-2dcc-48c3-adaf-6160cb781911",
   "metadata": {},
   "outputs": [
    {
     "data": {
      "image/png": "[encoded data removed]",
      "text/plain": [
       "<Figure size 432x288 with 1 Axes>"
      ]
     },
     "metadata": {
      "needs_background": "light"
     },
     "output_type": "display_data"
    }
   ],
   "source": [
    "plt.plot(history.history['loss'])\n",
    "plt.plot(history.history['val_loss'])\n",
    "plt.title('model loss')\n",
    "plt.ylabel('loss')\n",
    "plt.xlabel('epoch')\n",
    "plt.legend(['Train', 'Validation']);"
   ]
  },
  {
   "cell_type": "code",
   "execution_count": 95,
   "id": "03f4ee82-a293-456b-8b72-a0526bea4255",
   "metadata": {},
   "outputs": [
    {
     "data": {
      "text/plain": [
       "['day[fri]',\n",
       " 'day[mon]',\n",
       " 'day[thur]',\n",
       " 'day[tues]',\n",
       " 'day[wed]',\n",
       " 'L1_DJ_return',\n",
       " 'L1_log_volume',\n",
       " 'L1_log_volatility',\n",
       " 'L2_DJ_return',\n",
       " 'L2_log_volume',\n",
       " 'L2_log_volatility',\n",
       " 'L3_DJ_return',\n",
       " 'L3_log_volume',\n",
       " 'L3_log_volatility',\n",
       " 'L4_DJ_return',\n",
       " 'L4_log_volume',\n",
       " 'L4_log_volatility',\n",
       " 'L5_DJ_return',\n",
       " 'L5_log_volume',\n",
       " 'L5_log_volatility']"
      ]
     },
     "execution_count": 95,
     "metadata": {},
     "output_type": "execute_result"
    }
   ],
   "source": [
    "x = patsy.dmatrix(formula_like = 'day + L1_DJ_return + L1_log_volume + L1_log_volatility + L2_DJ_return + L2_log_volume + L2_log_volatility + L3_DJ_return + L3_log_volume + L3_log_volatility + L4_DJ_return + L4_log_volume + L4_log_volatility + L5_DJ_return + L5_log_volume + L5_log_volatility - 1', data = arframed)\n",
    "\n",
    "x.design_info.column_names"
   ]
  },
  {
   "cell_type": "code",
   "execution_count": 96,
   "id": "e663a27c-457f-4baf-91d5-49837fba030a",
   "metadata": {},
   "outputs": [
    {
     "data": {
      "text/plain": [
       "(6046, 20)"
      ]
     },
     "execution_count": 96,
     "metadata": {},
     "output_type": "execute_result"
    }
   ],
   "source": [
    "x.shape"
   ]
  },
  {
   "cell_type": "code",
   "execution_count": 97,
   "id": "da226ff7-2979-4b9a-bf0c-a07ca5a27510",
   "metadata": {},
   "outputs": [
    {
     "name": "stdout",
     "output_type": "stream",
     "text": [
      "56/56 [==============================] - 0s 870us/step\n"
     ]
    },
    {
     "data": {
      "text/plain": [
       "0.46561653611689857"
      ]
     },
     "execution_count": 97,
     "metadata": {},
     "output_type": "execute_result"
    }
   ],
   "source": [
    "arnnd = keras.models.Sequential(\n",
    "    [\n",
    "        layers.Dense(units = 32, activation = 'relu'),\n",
    "        layers.Dropout(rate = 0.5),\n",
    "        layers.Dense(units = 1)\n",
    "    ]\n",
    ")\n",
    "\n",
    "arnnd.compile(loss = 'mse', optimizer = 'rmsprop')\n",
    "\n",
    "history = arnnd.fit(\n",
    "    x = x[training_mask],\n",
    "    y = arframe[training_mask]['log_volume'],\n",
    "    epochs = 100, batch_size = 32, \n",
    "    validation_data = [x[~training_mask], arframe[~training_mask]['log_volume']],\n",
    "    verbose = 0\n",
    ")\n",
    "\n",
    "npred = arnnd.predict(x[~training_mask])\n",
    "1 - np.mean((arframe[~training_mask]['log_volume'] - npred.flatten())**2) / V_0"
   ]
  },
  {
   "cell_type": "code",
   "execution_count": 98,
   "id": "c601c8e7-1dbd-43cb-9298-376847d0a880",
   "metadata": {},
   "outputs": [
    {
     "data": {
      "image/png": "[encoded data removed]",
      "text/plain": [
       "<Figure size 432x288 with 1 Axes>"
      ]
     },
     "metadata": {
      "needs_background": "light"
     },
     "output_type": "display_data"
    }
   ],
   "source": [
    "plt.plot(history.history['loss'])\n",
    "plt.plot(history.history['val_loss'])\n",
    "plt.title('model loss')\n",
    "plt.ylabel('loss')\n",
    "plt.xlabel('epoch')\n",
    "plt.legend(['Train', 'Validation']);"
   ]
  },
  {
   "cell_type": "markdown",
   "id": "eb453eac-1f66-4286-ba00-c0bd4ba34890",
   "metadata": {},
   "source": [
    "The End"
   ]
  }
 ],
 "metadata": {
  "jupytext": {
   "formats": "ipynb,auto:percent"
  },
  "kernelspec": {
   "display_name": "Python 3 (ipykernel)",
   "language": "python",
   "name": "python3"
  },
  "language_info": {
   "codemirror_mode": {
    "name": "ipython",
    "version": 3
   },
   "file_extension": ".py",
   "mimetype": "text/x-python",
   "name": "python",
   "nbconvert_exporter": "python",
   "pygments_lexer": "ipython3",
   "version": "3.9.12"
  }
 },
 "nbformat": 4,
 "nbformat_minor": 5
}
