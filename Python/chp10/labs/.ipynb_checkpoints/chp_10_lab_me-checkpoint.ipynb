{
 "cells": [
  {
   "cell_type": "code",
   "execution_count": 1,
   "id": "084fb53b-4db1-4b92-a3e5-c276a5121010",
   "metadata": {},
   "outputs": [
    {
     "name": "stderr",
     "output_type": "stream",
     "text": [
      "2022-12-04 18:00:08.586373: I tensorflow/core/platform/cpu_feature_guard.cc:193] This TensorFlow binary is optimized with oneAPI Deep Neural Network Library (oneDNN) to use the following CPU instructions in performance-critical operations:  AVX2 FMA\n",
      "To enable them in other operations, rebuild TensorFlow with the appropriate compiler flags.\n"
     ]
    }
   ],
   "source": [
    "import pandas as pd\n",
    "import numpy as np\n",
    "\n",
    "import rpy2.robjects as robjects\n",
    "\n",
    "import statsmodels.formula.api as smf\n",
    "import statsmodels.api as sm\n",
    "\n",
    "import patsy\n",
    "from sklearn.linear_model import RidgeCV\n",
    "\n",
    "import sklearn\n",
    "\n",
    "import tensorflow as tf\n",
    "#from tensorflow import keras\n",
    "import tensorflow.keras as keras\n",
    "from tensorflow.keras import layers\n",
    "\n",
    "import matplotlib.pyplot as plt\n",
    "\n",
    "import os\n",
    "\n",
    "from keras.preprocessing import image as image_utils\n",
    "from keras.applications.imagenet_utils import decode_predictions\n",
    "from keras.applications.imagenet_utils import preprocess_input\n",
    "\n",
    "from scipy import sparse\n",
    "from itertools import chain\n",
    "\n",
    "import glmnet_python\n",
    "from glmnet import glmnet; from glmnetPlot import glmnetPlot\n",
    "from glmnetPrint import glmnetPrint; from glmnetCoef import glmnetCoef; from glmnetPredict import glmnetPredict\n",
    "from cvglmnet import cvglmnet; from cvglmnetCoef import cvglmnetCoef\n",
    "from cvglmnetPlot import cvglmnetPlot; from cvglmnetPredict import cvglmnetPredict"
   ]
  },
  {
   "cell_type": "markdown",
   "id": "f7b1561e-626b-4eda-a861-47c0226e6452",
   "metadata": {},
   "source": [
    "# 10.9.1 A Single Layer Network on the Hitters Data"
   ]
  },
  {
   "cell_type": "code",
   "execution_count": null,
   "id": "46317695-7707-4e42-91ac-73e9b2575fd8",
   "metadata": {},
   "outputs": [],
   "source": [
    "Gitters = pd.read_csv('/Users/rancher/Google Drive/Coding/ISLR2/datasets/Hitters.csv')"
   ]
  },
  {
   "cell_type": "code",
   "execution_count": null,
   "id": "fcf091ca-dbcc-4a69-aa85-4b219d28698a",
   "metadata": {},
   "outputs": [],
   "source": [
    "Gitters = Gitters.dropna()\n",
    "\n",
    "# R starts indexing at 1, Python starts indexing at 0, this is to make sure the indices of the dataframes match\n",
    "Gitters = Gitters.set_index(keys=np.arange(1,264)) "
   ]
  },
  {
   "cell_type": "code",
   "execution_count": null,
   "id": "4cc95c45-c86e-4b92-a927-1988848e1179",
   "metadata": {},
   "outputs": [],
   "source": [
    "n = Gitters.shape[0]"
   ]
  },
  {
   "cell_type": "code",
   "execution_count": null,
   "id": "74e7fed8-1d31-49d4-b1ee-e31562745efc",
   "metadata": {},
   "outputs": [],
   "source": [
    "ntest = n // 3"
   ]
  },
  {
   "cell_type": "code",
   "execution_count": null,
   "id": "579e4604-9c6e-43a5-92a5-4e2ff5a50590",
   "metadata": {},
   "outputs": [],
   "source": [
    "data = robjects.r(\"\"\"\n",
    "library(ISLR2)\n",
    "n <- nrow(na.omit(Hitters))\n",
    "set.seed(13)\n",
    "ntest <- trunc(n / 3)\n",
    "testid <- sample(1:n, ntest)\n",
    "\"\"\")\n",
    "\n",
    "testid = np.sort(np.array(data))"
   ]
  },
  {
   "cell_type": "code",
   "execution_count": null,
   "id": "3cbf4fcb-df1c-42e7-af5f-8c7d6b39cc4d",
   "metadata": {},
   "outputs": [],
   "source": [
    "test_mask = Gitters.index.isin(testid)"
   ]
  },
  {
   "cell_type": "code",
   "execution_count": null,
   "id": "99eff012-0d30-4f13-9968-93b72cf4830e",
   "metadata": {},
   "outputs": [],
   "source": [
    "def formula_from_cols(df, y):\n",
    "    return y + ' ~ ' + ' + '.join([col for col in df.columns if not col==y])"
   ]
  },
  {
   "cell_type": "code",
   "execution_count": null,
   "id": "bc8cb774-f197-4582-8314-45cc4bc983a8",
   "metadata": {},
   "outputs": [],
   "source": [
    "formula_string = formula_from_cols(Gitters, 'Salary')"
   ]
  },
  {
   "cell_type": "code",
   "execution_count": null,
   "id": "36fde575-9b7e-4d71-b0bf-8706acbc1407",
   "metadata": {},
   "outputs": [],
   "source": [
    "lmodel = smf.ols(formula=formula_string, data = sm.add_constant(Gitters[~test_mask]))\n",
    "\n",
    "lfit = lmodel.fit()"
   ]
  },
  {
   "cell_type": "code",
   "execution_count": null,
   "id": "b36e8221-9f23-44e2-aa01-c5afec394458",
   "metadata": {},
   "outputs": [],
   "source": [
    "lpred = lfit.predict(Gitters[test_mask])"
   ]
  },
  {
   "cell_type": "code",
   "execution_count": null,
   "id": "c910f4ea-9ea7-4a36-90a5-4e67b46e0421",
   "metadata": {},
   "outputs": [],
   "source": [
    "np.mean(abs(lpred - Gitters[test_mask]['Salary']))"
   ]
  },
  {
   "cell_type": "code",
   "execution_count": null,
   "id": "43035dec-63f1-4d66-be0f-e9f76174b704",
   "metadata": {},
   "outputs": [],
   "source": []
  },
  {
   "cell_type": "code",
   "execution_count": null,
   "id": "e32a2580-ddc3-48e3-9fb1-6d8827703b80",
   "metadata": {},
   "outputs": [],
   "source": []
  },
  {
   "cell_type": "code",
   "execution_count": null,
   "id": "d5c8736e-4648-4d2f-960b-857aab826812",
   "metadata": {},
   "outputs": [],
   "source": [
    "x = patsy.dmatrices(formula_string + \"-1\", Gitters)"
   ]
  },
  {
   "cell_type": "code",
   "execution_count": null,
   "id": "cf275ac2-1b1e-4787-8b42-ba2e3b1f37c9",
   "metadata": {},
   "outputs": [],
   "source": [
    "x_scale = patsy.scale(x[1])"
   ]
  },
  {
   "cell_type": "code",
   "execution_count": null,
   "id": "b313aa92-93dc-4d01-af3b-8d1e1d9aa4a6",
   "metadata": {},
   "outputs": [],
   "source": [
    "X_train = x_scale[~test_mask]\n",
    "X_test = x_scale[test_mask]"
   ]
  },
  {
   "cell_type": "code",
   "execution_count": null,
   "id": "784956d4-c34b-4a21-999a-b182187f37a9",
   "metadata": {},
   "outputs": [],
   "source": [
    "y_train = Gitters[~test_mask]['Salary']\n",
    "y_test = Gitters[test_mask]['Salary']"
   ]
  },
  {
   "cell_type": "code",
   "execution_count": null,
   "id": "099508dd-6836-442f-88a2-7337ea009cbc",
   "metadata": {},
   "outputs": [],
   "source": [
    "ridge_cv = RidgeCV(scoring='neg_mean_absolute_error').fit(X_train, y_train)"
   ]
  },
  {
   "cell_type": "code",
   "execution_count": null,
   "id": "637788a4-cccb-4d59-9dbc-c00cd1150038",
   "metadata": {
    "tags": []
   },
   "outputs": [],
   "source": [
    "for key in sklearn.metrics.SCORERS.keys():\n",
    "    print(key)"
   ]
  },
  {
   "cell_type": "code",
   "execution_count": null,
   "id": "21470c2a-04ee-45c1-a648-8923ee0c9063",
   "metadata": {},
   "outputs": [],
   "source": [
    "rpred = ridge_cv.predict(X_test)\n",
    "rpred"
   ]
  },
  {
   "cell_type": "code",
   "execution_count": null,
   "id": "71c72a4e-13ca-4d34-8d2f-fd71b9456ba7",
   "metadata": {},
   "outputs": [],
   "source": [
    "np.mean(abs(y_test - rpred))"
   ]
  },
  {
   "cell_type": "code",
   "execution_count": null,
   "id": "d07aa882-4d27-4198-b62e-6312fcb0a91c",
   "metadata": {},
   "outputs": [],
   "source": [
    "modnn = keras.Sequential(\n",
    "    [\n",
    "            layers.Dense(units = 50, activation='relu'),\n",
    "            layers.Dropout(rate=0.4),\n",
    "            layers.Dense(units=1)\n",
    "    ]\n",
    ")"
   ]
  },
  {
   "cell_type": "code",
   "execution_count": null,
   "id": "b7bcb6a1-691a-4995-bcf3-c72a4a9c63dd",
   "metadata": {},
   "outputs": [],
   "source": [
    "modnn.compile(loss=tf.keras.losses.MeanSquaredError(), optimizer='rmsprop', metrics=tf.keras.losses.MeanAbsoluteError())"
   ]
  },
  {
   "cell_type": "code",
   "execution_count": null,
   "id": "9104eaac-4f73-4b7c-a66d-7bcdb185351a",
   "metadata": {
    "tags": []
   },
   "outputs": [],
   "source": [
    "history = modnn.fit(X_train, y_train, epochs=1500, batch_size=32, validation_data=(X_test, y_test))"
   ]
  },
  {
   "cell_type": "code",
   "execution_count": null,
   "id": "cdce47ee-38b4-4b21-9004-e4e26af58d56",
   "metadata": {
    "tags": []
   },
   "outputs": [],
   "source": [
    "plt.plot(history.history['loss'])\n",
    "plt.plot(history.history['val_loss'])\n",
    "plt.title('model loss')\n",
    "plt.ylabel('loss')\n",
    "plt.xlabel('epoch')\n",
    "plt.legend(['Train', 'Validation']);"
   ]
  },
  {
   "cell_type": "code",
   "execution_count": null,
   "id": "198047dd-8962-4d74-a09e-0a4c2907bbe3",
   "metadata": {},
   "outputs": [],
   "source": [
    "plt.plot(history.history['mean_absolute_error'])\n",
    "plt.plot(history.history['val_mean_absolute_error'])\n",
    "plt.title('model mean_abs_error')\n",
    "plt.ylabel('mean_abs_error')\n",
    "plt.xlabel('epoch')\n",
    "plt.legend(['Train', 'Validation']);"
   ]
  },
  {
   "cell_type": "code",
   "execution_count": null,
   "id": "edf426e0-9ccc-4d6b-803f-19cdeba52f5d",
   "metadata": {},
   "outputs": [],
   "source": [
    "npred = modnn.predict(X_test)"
   ]
  },
  {
   "cell_type": "code",
   "execution_count": null,
   "id": "5e93af7b-1486-4b6e-8b7d-58c5a6c73a3b",
   "metadata": {
    "tags": []
   },
   "outputs": [],
   "source": [
    "np.mean(abs(y_test - npred.flatten()))"
   ]
  },
  {
   "cell_type": "code",
   "execution_count": null,
   "id": "23a14616-fe50-4455-8a5b-bb90d313d5df",
   "metadata": {},
   "outputs": [],
   "source": []
  },
  {
   "cell_type": "code",
   "execution_count": null,
   "id": "69d716a1-cbea-439d-b8bb-ffb2bec4d396",
   "metadata": {},
   "outputs": [],
   "source": []
  },
  {
   "cell_type": "markdown",
   "id": "e35bc4df-bd9b-4e59-87b7-a6841e6ecd2c",
   "metadata": {},
   "source": [
    "# 10.9.2 A Multilayer Network on the MNIST Digit Data"
   ]
  },
  {
   "cell_type": "code",
   "execution_count": null,
   "id": "3228b5ec-6558-4ebe-8d6d-920ba0274264",
   "metadata": {},
   "outputs": [],
   "source": [
    "(x_train, g_train), (x_test, g_test) = keras.datasets.mnist.load_data()"
   ]
  },
  {
   "cell_type": "code",
   "execution_count": null,
   "id": "acb73f94-0203-4b59-bf89-00e172a15e20",
   "metadata": {},
   "outputs": [],
   "source": [
    "x_train.shape"
   ]
  },
  {
   "cell_type": "code",
   "execution_count": null,
   "id": "c88c5b5a-e0b0-482c-8b0d-7bff56eaa320",
   "metadata": {},
   "outputs": [],
   "source": [
    "x_test.shape"
   ]
  },
  {
   "cell_type": "code",
   "execution_count": null,
   "id": "ccb49e60-5647-4997-8eed-7fa5c4fbc6f5",
   "metadata": {},
   "outputs": [],
   "source": [
    "x_train = np.reshape(x_train, newshape=(x_train.shape[0], 784))\n",
    "x_test = np.reshape(x_test, newshape=(x_test.shape[0], 784))"
   ]
  },
  {
   "cell_type": "code",
   "execution_count": null,
   "id": "083bbd87-1b43-4973-a819-f3a771f7d87d",
   "metadata": {},
   "outputs": [],
   "source": [
    "# y_train = pd.get_dummies(g_train)\n",
    "# y_test = pd.get_dummies(g_test)\n",
    "\n",
    "y_train = keras.utils.to_categorical(g_train)\n",
    "y_test = keras.utils.to_categorical(g_test)"
   ]
  },
  {
   "cell_type": "code",
   "execution_count": null,
   "id": "fbe2da79-1fd1-42f3-a014-3632a404757c",
   "metadata": {},
   "outputs": [],
   "source": [
    "x_train = x_train / 255\n",
    "x_test = x_test / 255"
   ]
  },
  {
   "cell_type": "code",
   "execution_count": null,
   "id": "9cdbe26b-01a5-43b5-9190-541cae97938f",
   "metadata": {},
   "outputs": [],
   "source": [
    "modelnn = keras.Sequential(\n",
    "    [\n",
    "            layers.Dense(units=256, activation='relu'),\n",
    "            layers.Dropout(rate=0.4),\n",
    "            layers.Dense(units=128, activation='relu'),\n",
    "            layers.Dropout(rate=0.3),\n",
    "            layers.Dense(units=10, activation='softmax')\n",
    "    ]\n",
    ")"
   ]
  },
  {
   "cell_type": "code",
   "execution_count": null,
   "id": "49642772-cc44-4ec2-aea5-ae2a6d98e238",
   "metadata": {},
   "outputs": [],
   "source": [
    "modelnn.compile(loss='categorical_crossentropy', optimizer='rmsprop', metrics='accuracy')"
   ]
  },
  {
   "cell_type": "code",
   "execution_count": null,
   "id": "f1475b56-2923-4742-8160-671b8127be2f",
   "metadata": {},
   "outputs": [],
   "source": [
    "history = modelnn.fit(x_train, y_train, epochs=30, batch_size=128, validation_split=0.2)"
   ]
  },
  {
   "cell_type": "code",
   "execution_count": null,
   "id": "15792b3b-0306-4aaa-ab78-ee2fa3cce992",
   "metadata": {},
   "outputs": [],
   "source": [
    "modelnn.summary()"
   ]
  },
  {
   "cell_type": "code",
   "execution_count": null,
   "id": "742041ef-45d3-45f9-b78e-d71c03185501",
   "metadata": {},
   "outputs": [],
   "source": [
    "plt.plot(history.history['loss'])\n",
    "plt.plot(history.history['val_loss'])\n",
    "plt.title('model loss')\n",
    "plt.ylabel('loss')\n",
    "plt.xlabel('epoch')\n",
    "plt.legend(['Train', 'Validation']);"
   ]
  },
  {
   "cell_type": "code",
   "execution_count": null,
   "id": "742203bb-3cab-4214-80ad-5dde1df08c94",
   "metadata": {},
   "outputs": [],
   "source": [
    "plt.plot(history.history['accuracy'])\n",
    "plt.plot(history.history['val_accuracy'])\n",
    "plt.title('model accuracy')\n",
    "plt.ylabel('accuracy')\n",
    "plt.xlabel('epoch')\n",
    "plt.legend(['Train', 'Validation']);"
   ]
  },
  {
   "cell_type": "code",
   "execution_count": null,
   "id": "94f1f462-d2b8-4dae-b2b4-f56f1cedaa58",
   "metadata": {},
   "outputs": [],
   "source": [
    "y_proba = modelnn.predict(x_test)\n",
    "y_pred_classes = np.argmax(y_proba, axis=1)"
   ]
  },
  {
   "cell_type": "code",
   "execution_count": null,
   "id": "08a949a3-74f8-423b-8f5e-2928c8032606",
   "metadata": {},
   "outputs": [],
   "source": [
    "modelnn_acc = np.mean(y_pred_classes == g_test)\n",
    "modelnn_acc"
   ]
  },
  {
   "cell_type": "markdown",
   "id": "25367f20-9fe2-48c4-aba1-ffecf7af9c84",
   "metadata": {},
   "source": [
    "## Multiclass Logistic Regressions"
   ]
  },
  {
   "cell_type": "code",
   "execution_count": null,
   "id": "cdb75123-2a2a-4bb6-af4c-13dde9129195",
   "metadata": {},
   "outputs": [],
   "source": [
    "modellr = keras.models.Sequential(\n",
    "    [\n",
    "            layers.Dense(units=10, activation='softmax')\n",
    "    ]\n",
    ")"
   ]
  },
  {
   "cell_type": "code",
   "execution_count": null,
   "id": "47837509-8f1c-422b-8e4c-2d11f21932c1",
   "metadata": {},
   "outputs": [],
   "source": [
    "modellr.compile(loss='categorical_crossentropy', optimizer='rmsprop', metrics='accuracy')"
   ]
  },
  {
   "cell_type": "code",
   "execution_count": null,
   "id": "96c727a0-38df-4003-a628-b73831d465fd",
   "metadata": {},
   "outputs": [],
   "source": [
    "modellr.fit(x_train, y_train, epochs=30, batch_size=128, validation_split=0.2)"
   ]
  },
  {
   "cell_type": "code",
   "execution_count": null,
   "id": "e36bb462-9b82-40c0-a41d-dcf424e39f64",
   "metadata": {},
   "outputs": [],
   "source": [
    "y_proba = modellr.predict(x_test)\n",
    "y_pred_classes = np.argmax(y_proba, axis=1)"
   ]
  },
  {
   "cell_type": "code",
   "execution_count": null,
   "id": "ea19b6bc-6fa7-4ddd-a620-1cf787fa4a5a",
   "metadata": {},
   "outputs": [],
   "source": [
    "modellr_acc = np.mean(y_pred_classes == g_test)\n",
    "modellr_acc"
   ]
  },
  {
   "cell_type": "markdown",
   "id": "68caeebf-16cb-4245-be81-b237394f68f8",
   "metadata": {},
   "source": [
    "# 10.9.3 Convolutional Neural Networks"
   ]
  },
  {
   "cell_type": "code",
   "execution_count": null,
   "id": "43ecccce-6756-4ef0-9422-5e29d8821678",
   "metadata": {},
   "outputs": [],
   "source": [
    "(x_train, g_train), (x_test, g_test) = keras.datasets.cifar100.load_data()"
   ]
  },
  {
   "cell_type": "code",
   "execution_count": null,
   "id": "58019341-15e0-431b-8d81-e729f6345a25",
   "metadata": {},
   "outputs": [],
   "source": [
    "x_train.shape"
   ]
  },
  {
   "cell_type": "code",
   "execution_count": null,
   "id": "b481b261-512c-4bbf-bff9-27b228930eef",
   "metadata": {},
   "outputs": [],
   "source": [
    "range(x_train)"
   ]
  },
  {
   "cell_type": "code",
   "execution_count": null,
   "id": "a3a5819c-71d3-4574-9f81-63e7b1fb51c7",
   "metadata": {},
   "outputs": [],
   "source": [
    "x_train = x_train / 255\n",
    "x_test = x_test / 255\n",
    "y_train = keras.utils.to_categorical(g_train, num_classes=100)"
   ]
  },
  {
   "cell_type": "code",
   "execution_count": null,
   "id": "107e9f19-74b1-4d15-960f-87deed69c346",
   "metadata": {},
   "outputs": [],
   "source": [
    "y_train.shape"
   ]
  },
  {
   "cell_type": "code",
   "execution_count": null,
   "id": "44d65802-3294-4be4-ae45-1b648fd9e59f",
   "metadata": {},
   "outputs": [],
   "source": [
    "type(x_train)"
   ]
  },
  {
   "cell_type": "code",
   "execution_count": null,
   "id": "be0ea3bd-aae7-43a0-ab91-6f355fa39a05",
   "metadata": {},
   "outputs": [],
   "source": [
    "# Code taken from https://www.binarystudy.com/2021/09/how-to-load-preprocess-visualize-CIFAR-10-and-CIFAR-100.html#cifar100-single\n",
    "rows, columns = 5,5\n",
    "rand_idx = np.random.randint(0, 50000, rows * columns)\n",
    "rand_images = x_train[rand_idx]\n",
    "fig = plt.figure(figsize=(8,10))\n",
    "for i in range(1, columns * rows + 1):\n",
    "    fig.add_subplot(rows, columns, i)\n",
    "    plt.imshow(rand_images[i-1])\n",
    "    plt.xticks([])\n",
    "    plt.yticks([])\n",
    "plt.tight_layout()\n",
    "plt.show()"
   ]
  },
  {
   "cell_type": "code",
   "execution_count": null,
   "id": "5521b619-4a03-4332-be4b-548807f87aeb",
   "metadata": {},
   "outputs": [],
   "source": [
    "model = keras.models.Sequential(\n",
    "    [\n",
    "        layers.Conv2D(filters=32, kernel_size=(3,3),\n",
    "                     padding='same', activation='relu'),\n",
    "        layers.MaxPooling2D(pool_size=(2,2)),\n",
    "        layers.Conv2D(filters=64, kernel_size=(3,3),\n",
    "                     padding='same', activation='relu'),\n",
    "        layers.MaxPooling2D(pool_size=(2,2)),\n",
    "        layers.Conv2D(filters=128, kernel_size=(3,3),\n",
    "                     padding='same', activation='relu'),\n",
    "        layers.MaxPooling2D(pool_size=(2,2)),\n",
    "        layers.Flatten(),\n",
    "        layers.Dropout(rate=0.5),\n",
    "        layers.Dense(units=512, activation='relu'),\n",
    "        layers.Dense(units=100, activation='softmax')\n",
    "    ]\n",
    ")"
   ]
  },
  {
   "cell_type": "code",
   "execution_count": null,
   "id": "c513ed85-bc68-47c6-a97a-2afe515b4f56",
   "metadata": {},
   "outputs": [],
   "source": [
    "model.compile(loss='categorical_crossentropy', optimizer='rmsprop', metrics='accuracy')"
   ]
  },
  {
   "cell_type": "code",
   "execution_count": null,
   "id": "2945b1f6-426b-4f57-8ecb-4b04960e47b1",
   "metadata": {},
   "outputs": [],
   "source": [
    "history = model.fit(x_train, y_train, epochs=30, batch_size=128, validation_split=0.2)"
   ]
  },
  {
   "cell_type": "code",
   "execution_count": null,
   "id": "5ce1c9e4-5df6-49de-9e14-5b320fe9818b",
   "metadata": {},
   "outputs": [],
   "source": [
    "model.summary()"
   ]
  },
  {
   "cell_type": "code",
   "execution_count": null,
   "id": "8fa87070-a65b-4a79-8f6f-57ac53286813",
   "metadata": {},
   "outputs": [],
   "source": [
    "y_proba = model.predict(x_test)\n",
    "y_pred_classes = np.argmax(y_proba, axis=-1)"
   ]
  },
  {
   "cell_type": "code",
   "execution_count": null,
   "id": "b8906788-dd92-4724-98c1-7c6f88614e73",
   "metadata": {},
   "outputs": [],
   "source": [
    "np.mean(y_pred_classes == g_test.flatten())"
   ]
  },
  {
   "cell_type": "markdown",
   "id": "155cb72d-6c9e-456c-9e82-417c801006c6",
   "metadata": {},
   "source": [
    "# 10.9.4 Using Pretrained CNN Models"
   ]
  },
  {
   "cell_type": "code",
   "execution_count": null,
   "id": "5b15aaf7-f39d-4a22-a6b3-5416ee4825be",
   "metadata": {},
   "outputs": [],
   "source": [
    "img_dir = '/Users/rancher/Google Drive/Coding/ISLR2/Python/chp10/labs/book_images'"
   ]
  },
  {
   "cell_type": "code",
   "execution_count": null,
   "id": "7513182a-2174-4a71-93b5-fa40a380250f",
   "metadata": {},
   "outputs": [],
   "source": [
    "image_names = os.listdir(img_dir)"
   ]
  },
  {
   "cell_type": "code",
   "execution_count": null,
   "id": "c214c9cb-37e8-4f26-8bae-a8160b45fecd",
   "metadata": {},
   "outputs": [],
   "source": [
    "num_images = len(image_names)"
   ]
  },
  {
   "cell_type": "code",
   "execution_count": null,
   "id": "d18d6fc6-7c6e-415d-ace4-a2d2ab245b67",
   "metadata": {},
   "outputs": [],
   "source": [
    "x = []\n",
    "for img_name in image_names:\n",
    "    img_path = img_dir + '/' + img_name\n",
    "    img = keras.preprocessing.image.load_img(img_path, target_size=(224, 224))\n",
    "    x.append(keras.preprocessing.image.img_to_array(img))\n",
    "    \n",
    "x = np.array(x)"
   ]
  },
  {
   "cell_type": "code",
   "execution_count": null,
   "id": "8f570a36-f644-44ec-8ac1-62e854118dc2",
   "metadata": {},
   "outputs": [],
   "source": [
    "x = preprocess_input(x)"
   ]
  },
  {
   "cell_type": "code",
   "execution_count": null,
   "id": "64b55b05-0ba5-423e-b55b-565cc06b2d42",
   "metadata": {
    "tags": []
   },
   "outputs": [],
   "source": [
    "model = keras.applications.resnet50.ResNet50(weights='imagenet')\n",
    "\n",
    "model.summary()"
   ]
  },
  {
   "cell_type": "code",
   "execution_count": null,
   "id": "a4af270f-4670-4971-9449-c7a0730c0f3c",
   "metadata": {},
   "outputs": [],
   "source": [
    "pred6 = model.predict(x)"
   ]
  },
  {
   "cell_type": "code",
   "execution_count": null,
   "id": "40a0a9d1-5d08-45b5-a2a6-96b227dcbece",
   "metadata": {},
   "outputs": [],
   "source": [
    "keras.applications.imagenet_utils.decode_predictions(pred6, top=3)"
   ]
  },
  {
   "cell_type": "markdown",
   "id": "737c6d68-8c20-4d55-990a-c7bbb8f61b12",
   "metadata": {},
   "source": [
    "# 10.9.5 IMDb Document Classification"
   ]
  },
  {
   "cell_type": "code",
   "execution_count": 2,
   "id": "b697c137-6eec-4192-accc-8c0905fc1564",
   "metadata": {},
   "outputs": [],
   "source": [
    "max_features = 10_000\n",
    "(x_train, y_train), (x_test, y_test) = keras.datasets.imdb.load_data(num_words=max_features)"
   ]
  },
  {
   "cell_type": "code",
   "execution_count": 3,
   "id": "5c765ea2-2f4e-4b99-8ae2-0760e6b24364",
   "metadata": {},
   "outputs": [
    {
     "data": {
      "text/plain": [
       "[1, 14, 22, 16, 43, 530, 973, 1622, 1385, 65, 458, 4468]"
      ]
     },
     "execution_count": 3,
     "metadata": {},
     "output_type": "execute_result"
    }
   ],
   "source": [
    "x_train[0][0:12]"
   ]
  },
  {
   "cell_type": "code",
   "execution_count": 4,
   "id": "dd346be7-b23f-4a2c-ad36-889a63364df1",
   "metadata": {},
   "outputs": [],
   "source": [
    "word_index = keras.datasets.imdb.get_word_index()"
   ]
  },
  {
   "cell_type": "code",
   "execution_count": 5,
   "id": "877b648c-2e96-415b-962e-bc859b53cc5c",
   "metadata": {},
   "outputs": [],
   "source": [
    "def decode_review(text: list, word_index: dict):\n",
    "    new_strings = [\"<PAD>\", \"<START>\", \"<UNK>\", \"<UNUSED>\"]\n",
    "    \n",
    "    idx = list(word_index.values())\n",
    "    idx_plus_3 = np.array(idx) + 3\n",
    "    new_idx = np.append(np.arange(0,4), idx_plus_3)\n",
    "    new_idx = list(new_idx)\n",
    "    \n",
    "    word = list(word_index.keys())\n",
    "    word = new_strings + word\n",
    "    \n",
    "    words = []\n",
    "    \n",
    "    for word_val in text:\n",
    "        if word_val not in new_idx:\n",
    "            word_val = 2 #use idx 2 to return \"<UNK>\" when idx of word can't be found\n",
    "        words.append(word[new_idx.index(word_val)])\n",
    "\n",
    "    print(\" \".join(words))"
   ]
  },
  {
   "cell_type": "code",
   "execution_count": 6,
   "id": "8300611d-9341-408b-a7e0-cd7cc97de2ae",
   "metadata": {},
   "outputs": [
    {
     "name": "stdout",
     "output_type": "stream",
     "text": [
      "<START> this film was just brilliant casting location scenery story direction everyone's\n"
     ]
    }
   ],
   "source": [
    "decode_review(x_train[0][0:12], word_index)"
   ]
  },
  {
   "cell_type": "code",
   "execution_count": 7,
   "id": "90757b16-3839-48c6-bcda-aedd7a0fb302",
   "metadata": {},
   "outputs": [],
   "source": [
    "def one_hot(sequences, dimension):\n",
    "    from scipy import sparse\n",
    "    \n",
    "    seqlen = np.array([], dtype=np.int64)\n",
    "    for seq in sequences:\n",
    "        seqlen = np.append(seqlen, len(seq))\n",
    "    \n",
    "    n = len(seqlen)\n",
    "    \n",
    "    rowind = np.repeat(np.arange(0, n), repeats=seqlen)\n",
    "    \n",
    "    # Because R starts indexing at 1 and word_index has a minimum value of 1, everything matches up nicely in R.  However, Python starts indexing at 0 and we need to adjust the values of word_index accordingly.  By subtracting 1 from colind, the first word in our dataset will be in the first column (column 0), just like in R where the first word is in the first column (column 1).\n",
    "    colind = np.array(list(chain(*sequences))) - 1 \n",
    "    \n",
    "    sparse_array = np.zeros(shape=(n, dimension))\n",
    "    sparse_array[rowind, colind] = 1\n",
    "    \n",
    "    sparse_matrix = sparse.coo_matrix(sparse_array)\n",
    "        \n",
    "    return sparse_matrix"
   ]
  },
  {
   "cell_type": "code",
   "execution_count": 8,
   "id": "f2a26919-2b63-4646-822d-e519178c516e",
   "metadata": {},
   "outputs": [],
   "source": [
    "x_train_1h = one_hot(x_train, 10000)\n",
    "x_test_1h = one_hot(x_test, 10000)"
   ]
  },
  {
   "cell_type": "code",
   "execution_count": 9,
   "id": "1a81bde0-0dd4-4dea-bcd4-2b96f6599005",
   "metadata": {},
   "outputs": [
    {
     "data": {
      "text/plain": [
       "(25000, 10000)"
      ]
     },
     "execution_count": 9,
     "metadata": {},
     "output_type": "execute_result"
    }
   ],
   "source": [
    "x_train_1h.shape"
   ]
  },
  {
   "cell_type": "code",
   "execution_count": 10,
   "id": "898a153c-be69-4df9-acd9-c98e7150252b",
   "metadata": {},
   "outputs": [
    {
     "data": {
      "text/plain": [
       "0.013169872"
      ]
     },
     "execution_count": 10,
     "metadata": {},
     "output_type": "execute_result"
    }
   ],
   "source": [
    "x_train_1h.count_nonzero() / (25000 * 10000)"
   ]
  },
  {
   "cell_type": "code",
   "execution_count": 11,
   "id": "80289a4c-1a2b-4c0e-b92c-624b3fc14a04",
   "metadata": {},
   "outputs": [],
   "source": [
    "data = robjects.r(\"\"\"\n",
    "set.seed(3)\n",
    "ival <- sample(seq(1:25000), 2000)\n",
    "\"\"\")\n",
    "\n",
    "ival = np.sort(np.array(data) - 1)\n",
    "ival_mask = pd.DataFrame(x_train_1h.toarray()).index.isin(ival)"
   ]
  },
  {
   "cell_type": "code",
   "execution_count": 12,
   "id": "5b54660a-ab36-43ca-8bac-5155aa749d16",
   "metadata": {},
   "outputs": [],
   "source": [
    "fitlm = glmnet(x=x_train_1h.tocsr()[~ival_mask].toarray(), y=y_train[~ival_mask].astype(np.float64), family='binomial', standardize=False)"
   ]
  },
  {
   "cell_type": "code",
   "execution_count": 13,
   "id": "bc1714dd-91c3-4666-8af3-4319995e2057",
   "metadata": {},
   "outputs": [],
   "source": [
    "classlmv = glmnetPredict(fitlm, x_train_1h.tocsr()[ival_mask]) > 0"
   ]
  },
  {
   "cell_type": "code",
   "execution_count": 14,
   "id": "ef64b0ee-b65f-49ec-bf4e-249560142196",
   "metadata": {},
   "outputs": [
    {
     "data": {
      "text/plain": [
       "matrix([[False,  True,  True, ..., False, False, False],\n",
       "        [False,  True,  True, ..., False, False, False],\n",
       "        [False,  True,  True, ...,  True,  True,  True],\n",
       "        ...,\n",
       "        [False,  True,  True, ..., False, False, False],\n",
       "        [False,  True,  True, ...,  True,  True,  True],\n",
       "        [False,  True,  True, ..., False, False, False]])"
      ]
     },
     "execution_count": 14,
     "metadata": {},
     "output_type": "execute_result"
    }
   ],
   "source": [
    "classlmv"
   ]
  },
  {
   "cell_type": "code",
   "execution_count": 15,
   "id": "bf8897f8-d1f9-4bb7-9a05-24191a13a3d3",
   "metadata": {},
   "outputs": [
    {
     "data": {
      "text/plain": [
       "array([[0., 1., 1., ..., 0., 0., 0.],\n",
       "       [0., 1., 1., ..., 0., 0., 0.],\n",
       "       [0., 1., 1., ..., 1., 1., 1.],\n",
       "       ...,\n",
       "       [0., 1., 1., ..., 0., 0., 0.],\n",
       "       [0., 1., 1., ..., 1., 1., 1.],\n",
       "       [0., 1., 1., ..., 0., 0., 0.]])"
      ]
     },
     "execution_count": 15,
     "metadata": {},
     "output_type": "execute_result"
    }
   ],
   "source": [
    "glmnetPredict(fitlm, x_train_1h.tocsr()[ival_mask], ptype='class')"
   ]
  },
  {
   "cell_type": "code",
   "execution_count": 16,
   "id": "a29755fa-88ef-4355-9204-04310421fbfe",
   "metadata": {},
   "outputs": [
    {
     "data": {
      "text/plain": [
       "array([False, False,  True,  True,  True, False, False, False, False,\n",
       "        True, False, False, False, False,  True,  True,  True,  True,\n",
       "       False,  True, False, False,  True, False,  True])"
      ]
     },
     "execution_count": 16,
     "metadata": {},
     "output_type": "execute_result"
    }
   ],
   "source": [
    "np.array(classlmv[:,98]).flatten()[0:25]"
   ]
  },
  {
   "cell_type": "code",
   "execution_count": 17,
   "id": "635b83ab-5739-4e2b-adbb-4f9b2e8f0dcd",
   "metadata": {},
   "outputs": [
    {
     "data": {
      "text/plain": [
       "array([1, 0, 0, ..., 0, 1, 0])"
      ]
     },
     "execution_count": 17,
     "metadata": {},
     "output_type": "execute_result"
    }
   ],
   "source": [
    "y_train"
   ]
  },
  {
   "cell_type": "code",
   "execution_count": 18,
   "id": "533693d5-4b6c-4f2b-bef5-f882359f273c",
   "metadata": {},
   "outputs": [
    {
     "data": {
      "text/plain": [
       "0.8545"
      ]
     },
     "execution_count": 18,
     "metadata": {},
     "output_type": "execute_result"
    }
   ],
   "source": [
    "np.mean(np.array(classlmv[:,99]).flatten() == y_train[ival])"
   ]
  },
  {
   "cell_type": "code",
   "execution_count": 19,
   "id": "944ada85-7799-473e-a5b6-06969a35b535",
   "metadata": {},
   "outputs": [
    {
     "data": {
      "text/plain": [
       "dict_keys(['a0', 'label', 'beta', 'dev', 'nulldev', 'df', 'lambdau', 'npasses', 'jerr', 'dim', 'offset', 'class'])"
      ]
     },
     "execution_count": 19,
     "metadata": {},
     "output_type": "execute_result"
    }
   ],
   "source": [
    "fitlm.keys()"
   ]
  },
  {
   "cell_type": "code",
   "execution_count": 20,
   "id": "0946781f-fc40-4abd-ab40-257d960d8642",
   "metadata": {},
   "outputs": [
    {
     "data": {
      "text/plain": [
       "array([ 2.84078347,  2.93381721,  3.02685095,  3.11988469,  3.21291843,\n",
       "        3.30595217,  3.39898591,  3.49201966,  3.5850534 ,  3.67808714,\n",
       "        3.77112088,  3.86415462,  3.95718836,  4.0502221 ,  4.14325584,\n",
       "        4.23628958,  4.32932333,  4.42235707,  4.51539081,  4.60842455,\n",
       "        4.70145829,  4.79449203,  4.88752577,  4.98055951,  5.07359325,\n",
       "        5.166627  ,  5.25966074,  5.35269448,  5.44572822,  5.53876196,\n",
       "        5.6317957 ,  5.72482944,  5.81786318,  5.91089693,  6.00393067,\n",
       "        6.09696441,  6.18999815,  6.28303189,  6.37606563,  6.46909937,\n",
       "        6.56213311,  6.65516685,  6.7482006 ,  6.84123434,  6.93426808,\n",
       "        7.02730182,  7.12033556,  7.2133693 ,  7.30640304,  7.39943678,\n",
       "        7.49247052,  7.58550427,  7.67853801,  7.77157175,  7.86460549,\n",
       "        7.95763923,  8.05067297,  8.14370671,  8.23674045,  8.32977419,\n",
       "        8.42280794,  8.51584168,  8.60887542,  8.70190916,  8.7949429 ,\n",
       "        8.88797664,  8.98101038,  9.07404412,  9.16707786,  9.26011161,\n",
       "        9.35314535,  9.44617909,  9.53921283,  9.63224657,  9.72528031,\n",
       "        9.81831405,  9.91134779, 10.00438153, 10.09741528, 10.19044902,\n",
       "       10.28348276, 10.3765165 , 10.46955024, 10.56258398, 10.65561772,\n",
       "       10.74865146, 10.84168521, 10.93471895, 11.02775269, 11.12078643,\n",
       "       11.21382017, 11.30685391, 11.39988765, 11.49292139, 11.58595513,\n",
       "       11.67898888, 11.77202262, 11.86505636, 11.9580901 , 12.05112384])"
      ]
     },
     "execution_count": 20,
     "metadata": {},
     "output_type": "execute_result"
    }
   ],
   "source": [
    "-np.log(fitlm['lambdau'])"
   ]
  },
  {
   "cell_type": "code",
   "execution_count": 21,
   "id": "be75a70a-0c56-454a-8fd5-1d28fca7ea20",
   "metadata": {},
   "outputs": [],
   "source": [
    "acclmv = []\n",
    "for i in range(100):\n",
    "    acc = np.mean(np.array(classlmv[:, i]).flatten() == (y_train[ival_mask] > 0))\n",
    "    acclmv.append(acc)"
   ]
  },
  {
   "cell_type": "code",
   "execution_count": 22,
   "id": "05f4b272-0090-4056-8612-fcd3691ab438",
   "metadata": {
    "tags": []
   },
   "outputs": [
    {
     "data": {
      "text/plain": [
       "[0.491,\n",
       " 0.6145,\n",
       " 0.6145,\n",
       " 0.6145,\n",
       " 0.6145,\n",
       " 0.6145,\n",
       " 0.6145,\n",
       " 0.6485,\n",
       " 0.6485,\n",
       " 0.649,\n",
       " 0.674,\n",
       " 0.6765,\n",
       " 0.686,\n",
       " 0.7,\n",
       " 0.721,\n",
       " 0.729,\n",
       " 0.738,\n",
       " 0.7435,\n",
       " 0.7555,\n",
       " 0.764,\n",
       " 0.7725,\n",
       " 0.777,\n",
       " 0.78,\n",
       " 0.7835,\n",
       " 0.7895,\n",
       " 0.7965,\n",
       " 0.804,\n",
       " 0.8065,\n",
       " 0.8145,\n",
       " 0.8195,\n",
       " 0.823,\n",
       " 0.831,\n",
       " 0.834,\n",
       " 0.841,\n",
       " 0.842,\n",
       " 0.8425,\n",
       " 0.8445,\n",
       " 0.844,\n",
       " 0.8475,\n",
       " 0.856,\n",
       " 0.858,\n",
       " 0.8585,\n",
       " 0.862,\n",
       " 0.86,\n",
       " 0.864,\n",
       " 0.865,\n",
       " 0.8655,\n",
       " 0.8645,\n",
       " 0.868,\n",
       " 0.8695,\n",
       " 0.8725,\n",
       " 0.8725,\n",
       " 0.873,\n",
       " 0.8755,\n",
       " 0.8775,\n",
       " 0.8775,\n",
       " 0.8805,\n",
       " 0.881,\n",
       " 0.88,\n",
       " 0.88,\n",
       " 0.882,\n",
       " 0.883,\n",
       " 0.88,\n",
       " 0.879,\n",
       " 0.8795,\n",
       " 0.8795,\n",
       " 0.879,\n",
       " 0.878,\n",
       " 0.877,\n",
       " 0.878,\n",
       " 0.877,\n",
       " 0.8775,\n",
       " 0.8745,\n",
       " 0.8735,\n",
       " 0.872,\n",
       " 0.874,\n",
       " 0.8725,\n",
       " 0.87,\n",
       " 0.869,\n",
       " 0.871,\n",
       " 0.8695,\n",
       " 0.865,\n",
       " 0.865,\n",
       " 0.8635,\n",
       " 0.8625,\n",
       " 0.864,\n",
       " 0.8645,\n",
       " 0.862,\n",
       " 0.8595,\n",
       " 0.8595,\n",
       " 0.858,\n",
       " 0.859,\n",
       " 0.859,\n",
       " 0.8585,\n",
       " 0.857,\n",
       " 0.857,\n",
       " 0.856,\n",
       " 0.856,\n",
       " 0.8545,\n",
       " 0.8545]"
      ]
     },
     "execution_count": 22,
     "metadata": {},
     "output_type": "execute_result"
    }
   ],
   "source": [
    "acclmv"
   ]
  },
  {
   "cell_type": "code",
   "execution_count": 23,
   "id": "d7992ae5-2453-428e-9ef3-b928c1958d03",
   "metadata": {},
   "outputs": [
    {
     "data": {
      "image/png": "[encoded data removed]",
      "text/plain": [
       "<Figure size 432x288 with 1 Axes>"
      ]
     },
     "metadata": {
      "needs_background": "light"
     },
     "output_type": "display_data"
    }
   ],
   "source": [
    "plt.scatter(-np.log(fitlm['lambdau']), acclmv)\n",
    "plt.xlabel(\"$-log(fitlm(\\lambda u))$\")\n",
    "plt.ylabel(\"acclmv\");"
   ]
  },
  {
   "cell_type": "code",
   "execution_count": 24,
   "id": "989d9975-ae8b-4fbc-8476-27975c2051a7",
   "metadata": {},
   "outputs": [
    {
     "data": {
      "image/png": "[encoded data removed]",
      "text/plain": [
       "<Figure size 432x288 with 2 Axes>"
      ]
     },
     "metadata": {
      "needs_background": "light"
     },
     "output_type": "display_data"
    }
   ],
   "source": [
    "glmnetPlot(fitlm, xvar='lambda');"
   ]
  },
  {
   "cell_type": "code",
   "execution_count": null,
   "id": "19e0241c-0399-4560-a6fd-8980bc64a0e1",
   "metadata": {},
   "outputs": [],
   "source": []
  },
  {
   "cell_type": "code",
   "execution_count": null,
   "id": "cac38221-8c07-4d6c-ba16-fdd050e091ac",
   "metadata": {},
   "outputs": [],
   "source": []
  },
  {
   "cell_type": "code",
   "execution_count": null,
   "id": "5cceace3-5a1d-4be3-b3cb-67eec41ec8c9",
   "metadata": {},
   "outputs": [],
   "source": []
  },
  {
   "cell_type": "code",
   "execution_count": null,
   "id": "944da622-16b3-4d3f-af6b-a0ef06c665f2",
   "metadata": {},
   "outputs": [],
   "source": [
    "model = keras.models.Sequential(\n",
    "    [\n",
    "        layers.Dense(units=16, activation='relu'),\n",
    "        layers.Dense(units=16, activation='relu'),\n",
    "        layers.Dense(units=1, activation='sigmoid')\n",
    "    ]\n",
    ")"
   ]
  },
  {
   "cell_type": "code",
   "execution_count": null,
   "id": "1da53322-3d2c-47f0-b38c-c0d74557124a",
   "metadata": {},
   "outputs": [],
   "source": [
    "model.compile(loss='binary_crossentropy', optimizer='rmsprop', metrics='accuracy')"
   ]
  },
  {
   "cell_type": "code",
   "execution_count": null,
   "id": "3a1d071f-db51-42f3-8394-f638d88c7627",
   "metadata": {},
   "outputs": [],
   "source": [
    "x_train_1h.tocsr()[ival_mask].shape"
   ]
  },
  {
   "cell_type": "code",
   "execution_count": null,
   "id": "e74f373a-1d5d-4799-85d4-ba8d05ab5840",
   "metadata": {},
   "outputs": [],
   "source": [
    "y_train[ival_mask].shape"
   ]
  },
  {
   "cell_type": "code",
   "execution_count": null,
   "id": "4354679e-4d9f-4681-a75f-4831ffff7238",
   "metadata": {
    "tags": []
   },
   "outputs": [],
   "source": [
    "history = model.fit(a_train_1h.tocsr()[~ival_mask], y_train[~ival_mask], epochs=20, batch_size=512, validation_data=(a_train_1h.tocsr()[ival_mask], y_train[ival_mask]))"
   ]
  },
  {
   "cell_type": "code",
   "execution_count": null,
   "id": "c0e6622a-fc35-45a2-a875-c381157ae670",
   "metadata": {},
   "outputs": [],
   "source": [
    "plt.plot(history.history['loss'])\n",
    "plt.plot(history.history['val_loss'])\n",
    "plt.title('model loss')\n",
    "plt.ylabel('loss')\n",
    "plt.xlabel('epoch')\n",
    "plt.legend(['Train', 'Validation']);"
   ]
  },
  {
   "cell_type": "code",
   "execution_count": null,
   "id": "a8230cf7-5c89-4d5b-9141-747ad0adc927",
   "metadata": {},
   "outputs": [],
   "source": [
    "plt.plot(history.history['accuracy'])\n",
    "plt.plot(history.history['val_accuracy'])\n",
    "plt.title('model accuracy')\n",
    "plt.ylabel('accuracy')\n",
    "plt.xlabel('epoch')\n",
    "plt.legend(['Train', 'Validation']);"
   ]
  },
  {
   "cell_type": "code",
   "execution_count": null,
   "id": "1747f04c-9ae8-4cea-a315-82f01b72c422",
   "metadata": {
    "tags": []
   },
   "outputs": [],
   "source": [
    "history2 = model.fit(a_train_1h.tocsr()[~ival_mask], y_train[~ival_mask], epochs=20, batch_size=512, validation_data=(x_test_1h.tocsr(), y_test))"
   ]
  },
  {
   "cell_type": "code",
   "execution_count": null,
   "id": "c4ea11e1-9853-4103-9b36-bea81f0ae2c7",
   "metadata": {},
   "outputs": [],
   "source": [
    "plt.plot(history2.history['loss'])\n",
    "plt.plot(history2.history['val_loss'])\n",
    "plt.title('model loss')\n",
    "plt.ylabel('loss')\n",
    "plt.xlabel('epoch')\n",
    "plt.legend(['Train', 'Validation']);"
   ]
  },
  {
   "cell_type": "code",
   "execution_count": null,
   "id": "9786194c-fee4-419b-bd89-9bba055abe2c",
   "metadata": {},
   "outputs": [],
   "source": [
    "plt.plot(history2.history['accuracy'])\n",
    "plt.plot(history2.history['val_accuracy'])\n",
    "plt.title('model accuracy')\n",
    "plt.ylabel('accuracy')\n",
    "plt.xlabel('epoch')\n",
    "plt.legend(['Train', 'Validation']);"
   ]
  },
  {
   "cell_type": "code",
   "execution_count": null,
   "id": "69c6eed7-d844-4a58-9105-23543b52e0c2",
   "metadata": {},
   "outputs": [],
   "source": []
  },
  {
   "cell_type": "code",
   "execution_count": null,
   "id": "f70f51d8-963a-4e8a-8331-aabd947f7af3",
   "metadata": {},
   "outputs": [],
   "source": []
  }
 ],
 "metadata": {
  "kernelspec": {
   "display_name": "Python 3 (ipykernel)",
   "language": "python",
   "name": "python3"
  },
  "language_info": {
   "codemirror_mode": {
    "name": "ipython",
    "version": 3
   },
   "file_extension": ".py",
   "mimetype": "text/x-python",
   "name": "python",
   "nbconvert_exporter": "python",
   "pygments_lexer": "ipython3",
   "version": "3.9.12"
  }
 },
 "nbformat": 4,
 "nbformat_minor": 5
}
