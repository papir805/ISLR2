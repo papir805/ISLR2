{
 "cells": [
  {
   "cell_type": "code",
   "execution_count": 1,
   "id": "084fb53b-4db1-4b92-a3e5-c276a5121010",
   "metadata": {},
   "outputs": [],
   "source": [
    "import pandas as pd\n",
    "import numpy as np"
   ]
  },
  {
   "cell_type": "markdown",
   "id": "f7b1561e-626b-4eda-a861-47c0226e6452",
   "metadata": {},
   "source": [
    "# 10.9.1 A Single Layer Network on the Hitters Data"
   ]
  },
  {
   "cell_type": "code",
   "execution_count": null,
   "id": "46317695-7707-4e42-91ac-73e9b2575fd8",
   "metadata": {},
   "outputs": [],
   "source": [
    "Gitters = pd.read_csv('/Users/rancher/Google Drive/Coding/ISLR2/datasets/Hitters.csv')"
   ]
  },
  {
   "cell_type": "code",
   "execution_count": null,
   "id": "fcf091ca-dbcc-4a69-aa85-4b219d28698a",
   "metadata": {},
   "outputs": [],
   "source": [
    "Gitters = Gitters.dropna()\n",
    "\n",
    "# R starts indexing at 1, Python starts indexing at 0, this is to make sure the indices of the dataframes match\n",
    "Gitters = Gitters.set_index(keys=np.arange(1,264)) "
   ]
  },
  {
   "cell_type": "code",
   "execution_count": null,
   "id": "4cc95c45-c86e-4b92-a927-1988848e1179",
   "metadata": {},
   "outputs": [],
   "source": [
    "n = Gitters.shape[0]"
   ]
  },
  {
   "cell_type": "code",
   "execution_count": null,
   "id": "74e7fed8-1d31-49d4-b1ee-e31562745efc",
   "metadata": {},
   "outputs": [],
   "source": [
    "ntest = n // 3"
   ]
  },
  {
   "cell_type": "code",
   "execution_count": 2,
   "id": "579e4604-9c6e-43a5-92a5-4e2ff5a50590",
   "metadata": {},
   "outputs": [],
   "source": [
    "import rpy2.robjects as robjects\n",
    "\n",
    "data = robjects.r(\"\"\"\n",
    "library(ISLR2)\n",
    "n <- nrow(na.omit(Hitters))\n",
    "set.seed(13)\n",
    "ntest <- trunc(n / 3)\n",
    "testid <- sample(1:n, ntest)\n",
    "\"\"\")\n",
    "\n",
    "testid = np.sort(np.array(data))"
   ]
  },
  {
   "cell_type": "code",
   "execution_count": null,
   "id": "3e3a1aa2-8794-4a10-bcea-13eac7bcb34a",
   "metadata": {},
   "outputs": [],
   "source": [
    "import statsmodels.formula.api as smf\n",
    "import statsmodels.api as sm"
   ]
  },
  {
   "cell_type": "code",
   "execution_count": null,
   "id": "3cbf4fcb-df1c-42e7-af5f-8c7d6b39cc4d",
   "metadata": {},
   "outputs": [],
   "source": [
    "test_mask = Gitters.index.isin(testid)"
   ]
  },
  {
   "cell_type": "code",
   "execution_count": null,
   "id": "99eff012-0d30-4f13-9968-93b72cf4830e",
   "metadata": {},
   "outputs": [],
   "source": [
    "def formula_from_cols(df, y):\n",
    "    return y + ' ~ ' + ' + '.join([col for col in df.columns if not col==y])"
   ]
  },
  {
   "cell_type": "code",
   "execution_count": null,
   "id": "bc8cb774-f197-4582-8314-45cc4bc983a8",
   "metadata": {},
   "outputs": [],
   "source": [
    "formula_string = formula_from_cols(Gitters, 'Salary')"
   ]
  },
  {
   "cell_type": "code",
   "execution_count": null,
   "id": "36fde575-9b7e-4d71-b0bf-8706acbc1407",
   "metadata": {},
   "outputs": [],
   "source": [
    "lmodel = smf.ols(formula=formula_string, data = sm.add_constant(Gitters[~test_mask]))\n",
    "\n",
    "lfit = lmodel.fit()"
   ]
  },
  {
   "cell_type": "code",
   "execution_count": null,
   "id": "b36e8221-9f23-44e2-aa01-c5afec394458",
   "metadata": {},
   "outputs": [],
   "source": [
    "lpred = lfit.predict(Gitters[test_mask])"
   ]
  },
  {
   "cell_type": "code",
   "execution_count": null,
   "id": "c910f4ea-9ea7-4a36-90a5-4e67b46e0421",
   "metadata": {},
   "outputs": [],
   "source": [
    "np.mean(abs(lpred - Gitters[test_mask]['Salary']))"
   ]
  },
  {
   "cell_type": "code",
   "execution_count": null,
   "id": "43035dec-63f1-4d66-be0f-e9f76174b704",
   "metadata": {},
   "outputs": [],
   "source": []
  },
  {
   "cell_type": "code",
   "execution_count": null,
   "id": "e32a2580-ddc3-48e3-9fb1-6d8827703b80",
   "metadata": {},
   "outputs": [],
   "source": []
  },
  {
   "cell_type": "code",
   "execution_count": null,
   "id": "ab86694d-63bf-471f-a4dd-efc45ee2d73d",
   "metadata": {},
   "outputs": [],
   "source": [
    "import patsy"
   ]
  },
  {
   "cell_type": "code",
   "execution_count": null,
   "id": "d5c8736e-4648-4d2f-960b-857aab826812",
   "metadata": {},
   "outputs": [],
   "source": [
    "x = patsy.dmatrices(formula_string + \"-1\", Gitters)"
   ]
  },
  {
   "cell_type": "code",
   "execution_count": null,
   "id": "cf275ac2-1b1e-4787-8b42-ba2e3b1f37c9",
   "metadata": {},
   "outputs": [],
   "source": [
    "x_scale = patsy.scale(x[1])"
   ]
  },
  {
   "cell_type": "code",
   "execution_count": null,
   "id": "acab6187-3558-4c2b-b161-5dbde16c7c00",
   "metadata": {},
   "outputs": [],
   "source": [
    "from sklearn.linear_model import RidgeCV"
   ]
  },
  {
   "cell_type": "code",
   "execution_count": null,
   "id": "b313aa92-93dc-4d01-af3b-8d1e1d9aa4a6",
   "metadata": {},
   "outputs": [],
   "source": [
    "X_train = x_scale[~test_mask]\n",
    "X_test = x_scale[test_mask]"
   ]
  },
  {
   "cell_type": "code",
   "execution_count": null,
   "id": "784956d4-c34b-4a21-999a-b182187f37a9",
   "metadata": {},
   "outputs": [],
   "source": [
    "y_train = Gitters[~test_mask]['Salary']\n",
    "y_test = Gitters[test_mask]['Salary']"
   ]
  },
  {
   "cell_type": "code",
   "execution_count": null,
   "id": "5efd3688-5b7d-4e51-80ba-993b2061524f",
   "metadata": {},
   "outputs": [],
   "source": [
    "import sklearn"
   ]
  },
  {
   "cell_type": "code",
   "execution_count": null,
   "id": "099508dd-6836-442f-88a2-7337ea009cbc",
   "metadata": {},
   "outputs": [],
   "source": [
    "ridge_cv = RidgeCV(scoring='neg_mean_absolute_error').fit(X_train, y_train)"
   ]
  },
  {
   "cell_type": "code",
   "execution_count": null,
   "id": "637788a4-cccb-4d59-9dbc-c00cd1150038",
   "metadata": {
    "tags": []
   },
   "outputs": [],
   "source": [
    "for key in sklearn.metrics.SCORERS.keys():\n",
    "    print(key)"
   ]
  },
  {
   "cell_type": "code",
   "execution_count": null,
   "id": "21470c2a-04ee-45c1-a648-8923ee0c9063",
   "metadata": {},
   "outputs": [],
   "source": [
    "rpred = ridge_cv.predict(X_test)\n",
    "rpred"
   ]
  },
  {
   "cell_type": "code",
   "execution_count": null,
   "id": "71c72a4e-13ca-4d34-8d2f-fd71b9456ba7",
   "metadata": {},
   "outputs": [],
   "source": [
    "np.mean(abs(y_test - rpred))"
   ]
  },
  {
   "cell_type": "code",
   "execution_count": 10,
   "id": "a6e5aa7e-f6a9-4e1b-96cf-d37a1fa0db85",
   "metadata": {},
   "outputs": [
    {
     "name": "stderr",
     "output_type": "stream",
     "text": [
      "2022-12-03 22:55:26.212633: I tensorflow/core/platform/cpu_feature_guard.cc:193] This TensorFlow binary is optimized with oneAPI Deep Neural Network Library (oneDNN) to use the following CPU instructions in performance-critical operations:  AVX2 FMA\n",
      "To enable them in other operations, rebuild TensorFlow with the appropriate compiler flags.\n"
     ]
    }
   ],
   "source": [
    "import tensorflow as tf\n",
    "#from tensorflow import keras\n",
    "import tensorflow.keras as keras\n",
    "from tensorflow.keras import layers"
   ]
  },
  {
   "cell_type": "code",
   "execution_count": null,
   "id": "d07aa882-4d27-4198-b62e-6312fcb0a91c",
   "metadata": {},
   "outputs": [],
   "source": [
    "modnn = keras.Sequential(\n",
    "    [\n",
    "            layers.Dense(units = 50, activation='relu'),\n",
    "            layers.Dropout(rate=0.4),\n",
    "            layers.Dense(units=1)\n",
    "    ]\n",
    ")"
   ]
  },
  {
   "cell_type": "code",
   "execution_count": null,
   "id": "b7bcb6a1-691a-4995-bcf3-c72a4a9c63dd",
   "metadata": {},
   "outputs": [],
   "source": [
    "modnn.compile(loss=tf.keras.losses.MeanSquaredError(), optimizer='rmsprop', metrics=tf.keras.losses.MeanAbsoluteError())"
   ]
  },
  {
   "cell_type": "code",
   "execution_count": null,
   "id": "9104eaac-4f73-4b7c-a66d-7bcdb185351a",
   "metadata": {
    "tags": []
   },
   "outputs": [],
   "source": [
    "history = modnn.fit(X_train, y_train, epochs=1500, batch_size=32, validation_data=(X_test, y_test))"
   ]
  },
  {
   "cell_type": "code",
   "execution_count": 3,
   "id": "9d0bdd21-1187-4f88-acb8-2d43f83dd3d0",
   "metadata": {},
   "outputs": [],
   "source": [
    "import matplotlib.pyplot as plt"
   ]
  },
  {
   "cell_type": "code",
   "execution_count": null,
   "id": "cdce47ee-38b4-4b21-9004-e4e26af58d56",
   "metadata": {
    "tags": []
   },
   "outputs": [],
   "source": [
    "plt.plot(history.history['loss'])\n",
    "plt.plot(history.history['val_loss'])\n",
    "plt.title('model loss')\n",
    "plt.ylabel('loss')\n",
    "plt.xlabel('epoch')\n",
    "plt.legend(['Train', 'Validation']);"
   ]
  },
  {
   "cell_type": "code",
   "execution_count": null,
   "id": "198047dd-8962-4d74-a09e-0a4c2907bbe3",
   "metadata": {},
   "outputs": [],
   "source": [
    "plt.plot(history.history['mean_absolute_error'])\n",
    "plt.plot(history.history['val_mean_absolute_error'])\n",
    "plt.title('model mean_abs_error')\n",
    "plt.ylabel('mean_abs_error')\n",
    "plt.xlabel('epoch')\n",
    "plt.legend(['Train', 'Validation']);"
   ]
  },
  {
   "cell_type": "code",
   "execution_count": null,
   "id": "edf426e0-9ccc-4d6b-803f-19cdeba52f5d",
   "metadata": {},
   "outputs": [],
   "source": [
    "npred = modnn.predict(X_test)"
   ]
  },
  {
   "cell_type": "code",
   "execution_count": null,
   "id": "5e93af7b-1486-4b6e-8b7d-58c5a6c73a3b",
   "metadata": {
    "tags": []
   },
   "outputs": [],
   "source": [
    "np.mean(abs(y_test - npred.flatten()))"
   ]
  },
  {
   "cell_type": "code",
   "execution_count": null,
   "id": "23a14616-fe50-4455-8a5b-bb90d313d5df",
   "metadata": {},
   "outputs": [],
   "source": []
  },
  {
   "cell_type": "code",
   "execution_count": null,
   "id": "69d716a1-cbea-439d-b8bb-ffb2bec4d396",
   "metadata": {},
   "outputs": [],
   "source": []
  },
  {
   "cell_type": "markdown",
   "id": "e35bc4df-bd9b-4e59-87b7-a6841e6ecd2c",
   "metadata": {},
   "source": [
    "# 10.9.2 A Multilayer Network on the MNIST Digit Data"
   ]
  },
  {
   "cell_type": "code",
   "execution_count": null,
   "id": "3228b5ec-6558-4ebe-8d6d-920ba0274264",
   "metadata": {},
   "outputs": [],
   "source": [
    "(x_train, g_train), (x_test, g_test) = keras.datasets.mnist.load_data()"
   ]
  },
  {
   "cell_type": "code",
   "execution_count": null,
   "id": "acb73f94-0203-4b59-bf89-00e172a15e20",
   "metadata": {},
   "outputs": [],
   "source": [
    "x_train.shape"
   ]
  },
  {
   "cell_type": "code",
   "execution_count": null,
   "id": "c88c5b5a-e0b0-482c-8b0d-7bff56eaa320",
   "metadata": {},
   "outputs": [],
   "source": [
    "x_test.shape"
   ]
  },
  {
   "cell_type": "code",
   "execution_count": null,
   "id": "ccb49e60-5647-4997-8eed-7fa5c4fbc6f5",
   "metadata": {},
   "outputs": [],
   "source": [
    "x_train = np.reshape(x_train, newshape=(x_train.shape[0], 784))\n",
    "x_test = np.reshape(x_test, newshape=(x_test.shape[0], 784))"
   ]
  },
  {
   "cell_type": "code",
   "execution_count": null,
   "id": "083bbd87-1b43-4973-a819-f3a771f7d87d",
   "metadata": {},
   "outputs": [],
   "source": [
    "# y_train = pd.get_dummies(g_train)\n",
    "# y_test = pd.get_dummies(g_test)\n",
    "\n",
    "y_train = keras.utils.to_categorical(g_train)\n",
    "y_test = keras.utils.to_categorical(g_test)"
   ]
  },
  {
   "cell_type": "code",
   "execution_count": null,
   "id": "fbe2da79-1fd1-42f3-a014-3632a404757c",
   "metadata": {},
   "outputs": [],
   "source": [
    "x_train = x_train / 255\n",
    "x_test = x_test / 255"
   ]
  },
  {
   "cell_type": "code",
   "execution_count": null,
   "id": "9cdbe26b-01a5-43b5-9190-541cae97938f",
   "metadata": {},
   "outputs": [],
   "source": [
    "modelnn = keras.Sequential(\n",
    "    [\n",
    "            layers.Dense(units=256, activation='relu'),\n",
    "            layers.Dropout(rate=0.4),\n",
    "            layers.Dense(units=128, activation='relu'),\n",
    "            layers.Dropout(rate=0.3),\n",
    "            layers.Dense(units=10, activation='softmax')\n",
    "    ]\n",
    ")"
   ]
  },
  {
   "cell_type": "code",
   "execution_count": null,
   "id": "49642772-cc44-4ec2-aea5-ae2a6d98e238",
   "metadata": {},
   "outputs": [],
   "source": [
    "modelnn.compile(loss='categorical_crossentropy', optimizer='rmsprop', metrics='accuracy')"
   ]
  },
  {
   "cell_type": "code",
   "execution_count": null,
   "id": "f1475b56-2923-4742-8160-671b8127be2f",
   "metadata": {},
   "outputs": [],
   "source": [
    "history = modelnn.fit(x_train, y_train, epochs=30, batch_size=128, validation_split=0.2)"
   ]
  },
  {
   "cell_type": "code",
   "execution_count": null,
   "id": "15792b3b-0306-4aaa-ab78-ee2fa3cce992",
   "metadata": {},
   "outputs": [],
   "source": [
    "modelnn.summary()"
   ]
  },
  {
   "cell_type": "code",
   "execution_count": null,
   "id": "742041ef-45d3-45f9-b78e-d71c03185501",
   "metadata": {},
   "outputs": [],
   "source": [
    "plt.plot(history.history['loss'])\n",
    "plt.plot(history.history['val_loss'])\n",
    "plt.title('model loss')\n",
    "plt.ylabel('loss')\n",
    "plt.xlabel('epoch')\n",
    "plt.legend(['Train', 'Validation']);"
   ]
  },
  {
   "cell_type": "code",
   "execution_count": null,
   "id": "742203bb-3cab-4214-80ad-5dde1df08c94",
   "metadata": {},
   "outputs": [],
   "source": [
    "plt.plot(history.history['accuracy'])\n",
    "plt.plot(history.history['val_accuracy'])\n",
    "plt.title('model accuracy')\n",
    "plt.ylabel('accuracy')\n",
    "plt.xlabel('epoch')\n",
    "plt.legend(['Train', 'Validation']);"
   ]
  },
  {
   "cell_type": "code",
   "execution_count": null,
   "id": "94f1f462-d2b8-4dae-b2b4-f56f1cedaa58",
   "metadata": {},
   "outputs": [],
   "source": [
    "y_proba = modelnn.predict(x_test)\n",
    "y_pred_classes = np.argmax(y_proba, axis=1)"
   ]
  },
  {
   "cell_type": "code",
   "execution_count": null,
   "id": "08a949a3-74f8-423b-8f5e-2928c8032606",
   "metadata": {},
   "outputs": [],
   "source": [
    "modelnn_acc = np.mean(y_pred_classes == g_test)\n",
    "modelnn_acc"
   ]
  },
  {
   "cell_type": "markdown",
   "id": "25367f20-9fe2-48c4-aba1-ffecf7af9c84",
   "metadata": {},
   "source": [
    "## Multiclass Logistic Regressions"
   ]
  },
  {
   "cell_type": "code",
   "execution_count": null,
   "id": "cdb75123-2a2a-4bb6-af4c-13dde9129195",
   "metadata": {},
   "outputs": [],
   "source": [
    "modellr = keras.models.Sequential(\n",
    "    [\n",
    "            layers.Dense(units=10, activation='softmax')\n",
    "    ]\n",
    ")"
   ]
  },
  {
   "cell_type": "code",
   "execution_count": null,
   "id": "47837509-8f1c-422b-8e4c-2d11f21932c1",
   "metadata": {},
   "outputs": [],
   "source": [
    "modellr.compile(loss='categorical_crossentropy', optimizer='rmsprop', metrics='accuracy')"
   ]
  },
  {
   "cell_type": "code",
   "execution_count": null,
   "id": "96c727a0-38df-4003-a628-b73831d465fd",
   "metadata": {},
   "outputs": [],
   "source": [
    "modellr.fit(x_train, y_train, epochs=30, batch_size=128, validation_split=0.2)"
   ]
  },
  {
   "cell_type": "code",
   "execution_count": null,
   "id": "e36bb462-9b82-40c0-a41d-dcf424e39f64",
   "metadata": {},
   "outputs": [],
   "source": [
    "y_proba = modellr.predict(x_test)\n",
    "y_pred_classes = np.argmax(y_proba, axis=1)"
   ]
  },
  {
   "cell_type": "code",
   "execution_count": null,
   "id": "ea19b6bc-6fa7-4ddd-a620-1cf787fa4a5a",
   "metadata": {},
   "outputs": [],
   "source": [
    "modellr_acc = np.mean(y_pred_classes == g_test)\n",
    "modellr_acc"
   ]
  },
  {
   "cell_type": "markdown",
   "id": "68caeebf-16cb-4245-be81-b237394f68f8",
   "metadata": {},
   "source": [
    "# 10.9.3 Convolutional Neural Networks"
   ]
  },
  {
   "cell_type": "code",
   "execution_count": null,
   "id": "43ecccce-6756-4ef0-9422-5e29d8821678",
   "metadata": {},
   "outputs": [],
   "source": [
    "(x_train, g_train), (x_test, g_test) = keras.datasets.cifar100.load_data()"
   ]
  },
  {
   "cell_type": "code",
   "execution_count": null,
   "id": "58019341-15e0-431b-8d81-e729f6345a25",
   "metadata": {},
   "outputs": [],
   "source": [
    "x_train.shape"
   ]
  },
  {
   "cell_type": "code",
   "execution_count": null,
   "id": "b481b261-512c-4bbf-bff9-27b228930eef",
   "metadata": {},
   "outputs": [],
   "source": [
    "range(x_train)"
   ]
  },
  {
   "cell_type": "code",
   "execution_count": null,
   "id": "a3a5819c-71d3-4574-9f81-63e7b1fb51c7",
   "metadata": {},
   "outputs": [],
   "source": [
    "x_train = x_train / 255\n",
    "x_test = x_test / 255\n",
    "y_train = keras.utils.to_categorical(g_train, num_classes=100)"
   ]
  },
  {
   "cell_type": "code",
   "execution_count": null,
   "id": "107e9f19-74b1-4d15-960f-87deed69c346",
   "metadata": {},
   "outputs": [],
   "source": [
    "y_train.shape"
   ]
  },
  {
   "cell_type": "code",
   "execution_count": null,
   "id": "44d65802-3294-4be4-ae45-1b648fd9e59f",
   "metadata": {},
   "outputs": [],
   "source": [
    "type(x_train)"
   ]
  },
  {
   "cell_type": "code",
   "execution_count": null,
   "id": "be0ea3bd-aae7-43a0-ab91-6f355fa39a05",
   "metadata": {},
   "outputs": [],
   "source": [
    "# Code taken from https://www.binarystudy.com/2021/09/how-to-load-preprocess-visualize-CIFAR-10-and-CIFAR-100.html#cifar100-single\n",
    "rows, columns = 5,5\n",
    "rand_idx = np.random.randint(0, 50000, rows * columns)\n",
    "rand_images = x_train[rand_idx]\n",
    "fig = plt.figure(figsize=(8,10))\n",
    "for i in range(1, columns * rows + 1):\n",
    "    fig.add_subplot(rows, columns, i)\n",
    "    plt.imshow(rand_images[i-1])\n",
    "    plt.xticks([])\n",
    "    plt.yticks([])\n",
    "plt.tight_layout()\n",
    "plt.show()"
   ]
  },
  {
   "cell_type": "code",
   "execution_count": null,
   "id": "5521b619-4a03-4332-be4b-548807f87aeb",
   "metadata": {},
   "outputs": [],
   "source": [
    "model = keras.models.Sequential(\n",
    "    [\n",
    "        layers.Conv2D(filters=32, kernel_size=(3,3),\n",
    "                     padding='same', activation='relu'),\n",
    "        layers.MaxPooling2D(pool_size=(2,2)),\n",
    "        layers.Conv2D(filters=64, kernel_size=(3,3),\n",
    "                     padding='same', activation='relu'),\n",
    "        layers.MaxPooling2D(pool_size=(2,2)),\n",
    "        layers.Conv2D(filters=128, kernel_size=(3,3),\n",
    "                     padding='same', activation='relu'),\n",
    "        layers.MaxPooling2D(pool_size=(2,2)),\n",
    "        layers.Flatten(),\n",
    "        layers.Dropout(rate=0.5),\n",
    "        layers.Dense(units=512, activation='relu'),\n",
    "        layers.Dense(units=100, activation='softmax')\n",
    "    ]\n",
    ")"
   ]
  },
  {
   "cell_type": "code",
   "execution_count": null,
   "id": "c513ed85-bc68-47c6-a97a-2afe515b4f56",
   "metadata": {},
   "outputs": [],
   "source": [
    "model.compile(loss='categorical_crossentropy', optimizer='rmsprop', metrics='accuracy')"
   ]
  },
  {
   "cell_type": "code",
   "execution_count": null,
   "id": "2945b1f6-426b-4f57-8ecb-4b04960e47b1",
   "metadata": {},
   "outputs": [],
   "source": [
    "history = model.fit(x_train, y_train, epochs=30, batch_size=128, validation_split=0.2)"
   ]
  },
  {
   "cell_type": "code",
   "execution_count": null,
   "id": "5ce1c9e4-5df6-49de-9e14-5b320fe9818b",
   "metadata": {},
   "outputs": [],
   "source": [
    "model.summary()"
   ]
  },
  {
   "cell_type": "code",
   "execution_count": null,
   "id": "8fa87070-a65b-4a79-8f6f-57ac53286813",
   "metadata": {},
   "outputs": [],
   "source": [
    "y_proba = model.predict(x_test)\n",
    "y_pred_classes = np.argmax(y_proba, axis=-1)"
   ]
  },
  {
   "cell_type": "code",
   "execution_count": null,
   "id": "b8906788-dd92-4724-98c1-7c6f88614e73",
   "metadata": {},
   "outputs": [],
   "source": [
    "np.mean(y_pred_classes == g_test.flatten())"
   ]
  },
  {
   "cell_type": "markdown",
   "id": "155cb72d-6c9e-456c-9e82-417c801006c6",
   "metadata": {},
   "source": [
    "# 10.9.4 Using Pretrained CNN Models"
   ]
  },
  {
   "cell_type": "code",
   "execution_count": null,
   "id": "f9f74204-199d-4427-ab76-550f3545372c",
   "metadata": {},
   "outputs": [],
   "source": [
    "import os\n",
    "\n",
    "from keras.preprocessing import image as image_utils\n",
    "from keras.applications.imagenet_utils import decode_predictions\n",
    "from keras.applications.imagenet_utils import preprocess_input"
   ]
  },
  {
   "cell_type": "code",
   "execution_count": null,
   "id": "5b15aaf7-f39d-4a22-a6b3-5416ee4825be",
   "metadata": {},
   "outputs": [],
   "source": [
    "img_dir = '/Users/rancher/Google Drive/Coding/ISLR2/Python/chp10/labs/book_images'"
   ]
  },
  {
   "cell_type": "code",
   "execution_count": null,
   "id": "7513182a-2174-4a71-93b5-fa40a380250f",
   "metadata": {},
   "outputs": [],
   "source": [
    "image_names = os.listdir(img_dir)"
   ]
  },
  {
   "cell_type": "code",
   "execution_count": null,
   "id": "c214c9cb-37e8-4f26-8bae-a8160b45fecd",
   "metadata": {},
   "outputs": [],
   "source": [
    "num_images = len(image_names)"
   ]
  },
  {
   "cell_type": "code",
   "execution_count": null,
   "id": "d18d6fc6-7c6e-415d-ace4-a2d2ab245b67",
   "metadata": {},
   "outputs": [],
   "source": [
    "x = []\n",
    "for img_name in image_names:\n",
    "    img_path = img_dir + '/' + img_name\n",
    "    img = keras.preprocessing.image.load_img(img_path, target_size=(224, 224))\n",
    "    x.append(keras.preprocessing.image.img_to_array(img))\n",
    "    \n",
    "x = np.array(x)"
   ]
  },
  {
   "cell_type": "code",
   "execution_count": null,
   "id": "8f570a36-f644-44ec-8ac1-62e854118dc2",
   "metadata": {},
   "outputs": [],
   "source": [
    "x = preprocess_input(x)"
   ]
  },
  {
   "cell_type": "code",
   "execution_count": null,
   "id": "64b55b05-0ba5-423e-b55b-565cc06b2d42",
   "metadata": {
    "tags": []
   },
   "outputs": [],
   "source": [
    "model = keras.applications.resnet50.ResNet50(weights='imagenet')\n",
    "\n",
    "model.summary()"
   ]
  },
  {
   "cell_type": "code",
   "execution_count": null,
   "id": "a4af270f-4670-4971-9449-c7a0730c0f3c",
   "metadata": {},
   "outputs": [],
   "source": [
    "pred6 = model.predict(x)"
   ]
  },
  {
   "cell_type": "code",
   "execution_count": null,
   "id": "40a0a9d1-5d08-45b5-a2a6-96b227dcbece",
   "metadata": {},
   "outputs": [],
   "source": [
    "keras.applications.imagenet_utils.decode_predictions(pred6, top=3)"
   ]
  },
  {
   "cell_type": "markdown",
   "id": "737c6d68-8c20-4d55-990a-c7bbb8f61b12",
   "metadata": {},
   "source": [
    "# 10.9.5 IMDb Document Classification"
   ]
  },
  {
   "cell_type": "code",
   "execution_count": 56,
   "id": "b697c137-6eec-4192-accc-8c0905fc1564",
   "metadata": {},
   "outputs": [],
   "source": [
    "max_features = 10_000\n",
    "(x_train, y_train), (x_test, y_test) = keras.datasets.imdb.load_data(num_words=max_features)"
   ]
  },
  {
   "cell_type": "code",
   "execution_count": 57,
   "id": "5c765ea2-2f4e-4b99-8ae2-0760e6b24364",
   "metadata": {},
   "outputs": [
    {
     "data": {
      "text/plain": [
       "[1, 14, 22, 16, 43, 530, 973, 1622, 1385, 65, 458, 4468]"
      ]
     },
     "execution_count": 57,
     "metadata": {},
     "output_type": "execute_result"
    }
   ],
   "source": [
    "test_text = x_train[0][0:12]\n",
    "test_text"
   ]
  },
  {
   "cell_type": "code",
   "execution_count": 58,
   "id": "dd346be7-b23f-4a2c-ad36-889a63364df1",
   "metadata": {},
   "outputs": [],
   "source": [
    "word_index = keras.datasets.imdb.get_word_index()"
   ]
  },
  {
   "cell_type": "code",
   "execution_count": 59,
   "id": "877b648c-2e96-415b-962e-bc859b53cc5c",
   "metadata": {},
   "outputs": [],
   "source": [
    "def decode_review(text: list, word_index: dict):\n",
    "    new_strings = [\"<PAD>\", \"<START>\", \"<UNK>\", \"<UNUSED>\"]\n",
    "    \n",
    "    # word_index_copy = word_index.copy()\n",
    "    idx = list(word_index.values())\n",
    "    idx_plus_3 = np.array(idx) + 3\n",
    "    new_idx = np.append(np.arange(0,4), idx_plus_3)\n",
    "    new_idx = list(new_idx)\n",
    "    \n",
    "    \n",
    "    # word = list(word_index.keys())\n",
    "    # word = np.array(word)\n",
    "    # word = np.append(new_strings, word)\n",
    "    \n",
    "    word = list(word_index.keys())\n",
    "    word = new_strings + word\n",
    "    \n",
    "    words = []\n",
    "    \n",
    "    for word_val in text:\n",
    "        if word_val not in new_idx:\n",
    "            word_val = 2 #use idx 2 to return \"<UNK>\"\n",
    "            # words += word[new_idx.index(word_val)]\n",
    "        words.append(word[new_idx.index(word_val)])\n",
    "        # else:\n",
    "        #     # words += word[new_idx.index(2)] # If word_val not found, use idx 2 to return \"<UNK>\"\n",
    "        #      words.append(word[new_idx.index(2)]) # If word_val not found, use idx 2 to return \"<UNK>\"\n",
    "    \n",
    "    print(\" \".join(words))\n",
    "    # list(word_index.keys())[list(word_index.values()).index(34701)]"
   ]
  },
  {
   "cell_type": "code",
   "execution_count": 60,
   "id": "8300611d-9341-408b-a7e0-cd7cc97de2ae",
   "metadata": {},
   "outputs": [
    {
     "name": "stdout",
     "output_type": "stream",
     "text": [
      "<START> this film was just brilliant casting location scenery story direction everyone's\n"
     ]
    }
   ],
   "source": [
    "decode_review(test_text, word_index)"
   ]
  },
  {
   "cell_type": "code",
   "execution_count": 61,
   "id": "883e2303-9b1e-4012-b274-7f9166e22fae",
   "metadata": {},
   "outputs": [],
   "source": [
    "# new_strings = [\"<PAD>\", \"<START>\", \"<UNK>\", \"<UNUSED>\"]\n",
    "# word_index_copy = word_index.copy()\n",
    "# indices = list(word_index.values())\n",
    "# indices_plus_3 = np.array(indices) + 3\n",
    "# new_indices = np.append(np.arange(0,4), indices_plus_3)\n",
    "\n",
    "# for i, string in enumerate(new_strings):\n",
    "#     word_index_copy[string] = i"
   ]
  },
  {
   "cell_type": "code",
   "execution_count": 62,
   "id": "e5e265c7-1097-4c0c-b435-ba3fda10c09d",
   "metadata": {},
   "outputs": [],
   "source": [
    "# def decode_review(text: list, word_index: dict) -> str:\n",
    "#     word_index_copy = word_index.copy()\n",
    "#     for key, value in word_index_copy.items():\n",
    "#         word_index_copy[key] = value + 3\n",
    "#         #print(word_index_copy[key])\n",
    "\n",
    "#     new_strings = [\"<PAD>\", \"<START>\", \"<UNK>\", \"<UNUSED>\"]\n",
    "#     for i, string in enumerate(new_strings):\n",
    "#         word_index_copy[string] = i\n",
    "        \n",
    "#     words = []\n",
    "#     for word in text:\n",
    "        "
   ]
  },
  {
   "cell_type": "code",
   "execution_count": 63,
   "id": "7dc4bf61-c07a-433b-b0a8-e1a1b30bd61e",
   "metadata": {},
   "outputs": [],
   "source": [
    "from scipy import sparse\n",
    "from itertools import chain"
   ]
  },
  {
   "cell_type": "code",
   "execution_count": 99,
   "id": "90757b16-3839-48c6-bcda-aedd7a0fb302",
   "metadata": {},
   "outputs": [],
   "source": [
    "def one_hot(sequences, dimension):\n",
    "    from scipy import sparse\n",
    "    \n",
    "    seqlen = np.array([], dtype=np.int64)\n",
    "    for seq in sequences:\n",
    "        seqlen = np.append(seqlen, len(seq))\n",
    "    \n",
    "    n = len(seqlen)\n",
    "    \n",
    "    rowind = np.repeat(np.arange(0, n), repeats=seqlen)\n",
    "    colind = np.array(list(chain(*sequences)))\n",
    "    \n",
    "    sparse_matrix = sparse.coo_matrix((np.ones(len(rowind)), (rowind, colind)), shape=(n, dimension))\n",
    "    \n",
    "    return sparse_matrix"
   ]
  },
  {
   "cell_type": "code",
   "execution_count": 101,
   "id": "f2a26919-2b63-4646-822d-e519178c516e",
   "metadata": {},
   "outputs": [],
   "source": [
    "x_train_1h = one_hot(x_train, 10000)\n",
    "x_test_1h = one_hot(x_test, 10000)"
   ]
  },
  {
   "cell_type": "code",
   "execution_count": 301,
   "id": "0dad45d0-7f87-4eb6-b472-ca0fa3896d96",
   "metadata": {},
   "outputs": [
    {
     "data": {
      "text/plain": [
       "<25000x10000 sparse matrix of type '<class 'numpy.float64'>'\n",
       "\twith 3292468 stored elements in Compressed Sparse Row format>"
      ]
     },
     "execution_count": 301,
     "metadata": {},
     "output_type": "execute_result"
    }
   ],
   "source": [
    "x_train_1h.tocsr()"
   ]
  },
  {
   "cell_type": "code",
   "execution_count": 302,
   "id": "53caca38-6b70-4cff-a8fb-2f7ed81e4e3d",
   "metadata": {},
   "outputs": [
    {
     "data": {
      "text/plain": [
       "<25000x10000 sparse matrix of type '<class 'numpy.float64'>'\n",
       "\twith 3292468 stored elements in COOrdinate format>"
      ]
     },
     "execution_count": 302,
     "metadata": {},
     "output_type": "execute_result"
    }
   ],
   "source": [
    "a_train_1h"
   ]
  },
  {
   "cell_type": "code",
   "execution_count": 184,
   "id": "52eedd0a-36d1-4702-8aae-1fa693c8a709",
   "metadata": {},
   "outputs": [],
   "source": [
    "seqlen = np.array([], dtype=np.int64)\n",
    "for seq in x_train:\n",
    "    seqlen = np.append(seqlen, len(seq))\n",
    "\n",
    "n = len(seqlen)\n",
    "\n",
    "rowind = np.repeat(np.arange(0, n), repeats=seqlen)\n",
    "colind = np.array(list(chain(*x_train)))"
   ]
  },
  {
   "cell_type": "code",
   "execution_count": 185,
   "id": "1559f6a3-ef9b-4a75-9d62-cfe03930231e",
   "metadata": {},
   "outputs": [
    {
     "data": {
      "text/plain": [
       "array([    0,     0,     0, ..., 24999, 24999, 24999])"
      ]
     },
     "execution_count": 185,
     "metadata": {},
     "output_type": "execute_result"
    }
   ],
   "source": [
    "rowind"
   ]
  },
  {
   "cell_type": "code",
   "execution_count": 186,
   "id": "75b94b7e-f643-4ec7-b3d5-801f774a921c",
   "metadata": {},
   "outputs": [
    {
     "data": {
      "text/plain": [
       "164"
      ]
     },
     "execution_count": 186,
     "metadata": {},
     "output_type": "execute_result"
    }
   ],
   "source": [
    "np.unique(rowind, return_counts=True)[1][310]"
   ]
  },
  {
   "cell_type": "code",
   "execution_count": 187,
   "id": "fc865b0c-54cd-49d1-8276-c18a454cab78",
   "metadata": {},
   "outputs": [
    {
     "data": {
      "text/plain": [
       "array([  1,  14,  22, ..., 204, 131,   9])"
      ]
     },
     "execution_count": 187,
     "metadata": {},
     "output_type": "execute_result"
    }
   ],
   "source": [
    "colind"
   ]
  },
  {
   "cell_type": "code",
   "execution_count": 188,
   "id": "7ffdacd0-acec-4872-a589-10118422c643",
   "metadata": {},
   "outputs": [
    {
     "data": {
      "text/plain": [
       "(array([   1,    2,    4, ..., 9997, 9998, 9999]),\n",
       " array([ 25000, 341611, 336148, ...,     31,     31,     31]))"
      ]
     },
     "execution_count": 188,
     "metadata": {},
     "output_type": "execute_result"
    }
   ],
   "source": [
    "np.unique(colind, return_counts=True)"
   ]
  },
  {
   "cell_type": "code",
   "execution_count": 270,
   "id": "2285c57d-fab8-4cc5-b8a2-de42d4fd1d88",
   "metadata": {},
   "outputs": [],
   "source": [
    "a = np.zeros(shape=(25000, 10000))\n",
    "a[rowind, colind] = 1\n",
    "\n",
    "ival_mask = pd.DataFrame(a).index.isin(ival)\n",
    "\n",
    "a_train_1h = sparse.coo_matrix(a)"
   ]
  },
  {
   "cell_type": "code",
   "execution_count": 273,
   "id": "fc40ffe8-97c8-4ed4-b2da-4b7efb84808a",
   "metadata": {},
   "outputs": [
    {
     "data": {
      "text/plain": [
       "<23000x10000 sparse matrix of type '<class 'numpy.float64'>'\n",
       "\twith 3026139 stored elements in Compressed Sparse Row format>"
      ]
     },
     "execution_count": 273,
     "metadata": {},
     "output_type": "execute_result"
    }
   ],
   "source": [
    "a_train_1h.tocsr()[~ival_mask]"
   ]
  },
  {
   "cell_type": "code",
   "execution_count": 212,
   "id": "4fd71132-74a1-4852-b20c-f8aae63a05a7",
   "metadata": {},
   "outputs": [
    {
     "data": {
      "text/plain": [
       "<2000x10000 sparse matrix of type '<class 'numpy.float64'>'\n",
       "\twith 264024 stored elements in Compressed Sparse Row format>"
      ]
     },
     "execution_count": 212,
     "metadata": {},
     "output_type": "execute_result"
    }
   ],
   "source": [
    "x_train_1h_test.tocsr()[~ival]"
   ]
  },
  {
   "cell_type": "code",
   "execution_count": 219,
   "id": "33b7bf7e-d6ad-42c9-a731-3126847be919",
   "metadata": {},
   "outputs": [],
   "source": [
    "ival_mask = pd.DataFrame(a).index.isin(ival)"
   ]
  },
  {
   "cell_type": "code",
   "execution_count": 223,
   "id": "e0203d1b-7743-4a49-9e89-a488fe961f0e",
   "metadata": {},
   "outputs": [
    {
     "data": {
      "text/plain": [
       "(2000, 10000)"
      ]
     },
     "execution_count": 223,
     "metadata": {},
     "output_type": "execute_result"
    }
   ],
   "source": [
    "a[ival_mask].shape"
   ]
  },
  {
   "cell_type": "code",
   "execution_count": 224,
   "id": "60d1f8a8-0151-442b-9f39-412bfc791f21",
   "metadata": {},
   "outputs": [
    {
     "data": {
      "text/plain": [
       "(23000, 10000)"
      ]
     },
     "execution_count": 224,
     "metadata": {},
     "output_type": "execute_result"
    }
   ],
   "source": [
    "a[~ival_mask].shape"
   ]
  },
  {
   "cell_type": "code",
   "execution_count": 227,
   "id": "7fc45957-3d83-4684-b276-bf1c0de93d3c",
   "metadata": {},
   "outputs": [
    {
     "data": {
      "text/plain": [
       "(2000,)"
      ]
     },
     "execution_count": 227,
     "metadata": {},
     "output_type": "execute_result"
    }
   ],
   "source": [
    "y_train[ival_mask].shape"
   ]
  },
  {
   "cell_type": "code",
   "execution_count": 229,
   "id": "109ea718-26b5-4e82-a7ff-cfd99139a171",
   "metadata": {},
   "outputs": [
    {
     "data": {
      "text/plain": [
       "(23000,)"
      ]
     },
     "execution_count": 229,
     "metadata": {},
     "output_type": "execute_result"
    }
   ],
   "source": [
    "y_train[~ival_mask].shape"
   ]
  },
  {
   "cell_type": "code",
   "execution_count": 254,
   "id": "41533b82-69b1-4316-b993-b264024f3ce8",
   "metadata": {},
   "outputs": [],
   "source": [
    "a_sum = a.sum(axis=1)"
   ]
  },
  {
   "cell_type": "code",
   "execution_count": 263,
   "id": "a1de8baf-3c58-4625-b0b4-5e71764db3dc",
   "metadata": {},
   "outputs": [
    {
     "data": {
      "text/plain": [
       "294.0"
      ]
     },
     "execution_count": 263,
     "metadata": {},
     "output_type": "execute_result"
    }
   ],
   "source": [
    "a_sum[7]"
   ]
  },
  {
   "cell_type": "code",
   "execution_count": 247,
   "id": "9bd6cf67-5f27-44d7-b79c-ef82a3250e30",
   "metadata": {},
   "outputs": [
    {
     "data": {
      "text/plain": [
       "(25000, 10000)"
      ]
     },
     "execution_count": 247,
     "metadata": {},
     "output_type": "execute_result"
    }
   ],
   "source": [
    "a.shape"
   ]
  },
  {
   "cell_type": "code",
   "execution_count": 206,
   "id": "5fc9641a-ac39-4b84-aa17-024681cef443",
   "metadata": {},
   "outputs": [
    {
     "ename": "AttributeError",
     "evalue": "'numpy.ndarray' object has no attribute 'index'",
     "output_type": "error",
     "traceback": [
      "\u001b[0;31m---------------------------------------------------------------------------\u001b[0m",
      "\u001b[0;31mAttributeError\u001b[0m                            Traceback (most recent call last)",
      "Input \u001b[0;32mIn [206]\u001b[0m, in \u001b[0;36m<cell line: 1>\u001b[0;34m()\u001b[0m\n\u001b[0;32m----> 1\u001b[0m test_mask \u001b[38;5;241m=\u001b[39m \u001b[43ma\u001b[49m\u001b[38;5;241;43m.\u001b[39;49m\u001b[43mindex\u001b[49m\u001b[38;5;241m.\u001b[39misin(ival)\n\u001b[1;32m      2\u001b[0m a[test_mask]\u001b[38;5;241m.\u001b[39mshape\n",
      "\u001b[0;31mAttributeError\u001b[0m: 'numpy.ndarray' object has no attribute 'index'"
     ]
    }
   ],
   "source": [
    "test_mask = a.index.isin(ival)\n",
    "a[test_mask].shape"
   ]
  },
  {
   "cell_type": "code",
   "execution_count": 196,
   "id": "48fa2ab6-d506-44b6-881b-41a862f1b40a",
   "metadata": {},
   "outputs": [
    {
     "data": {
      "text/plain": [
       "3292468.0"
      ]
     },
     "execution_count": 196,
     "metadata": {},
     "output_type": "execute_result"
    }
   ],
   "source": [
    "x_train_1h_test.sum()"
   ]
  },
  {
   "cell_type": "code",
   "execution_count": 152,
   "id": "398deff9-71b6-40e6-8856-7d02792711f3",
   "metadata": {},
   "outputs": [],
   "source": [
    "x_train_1h_array = x_train_1h.toarray()\n",
    "x_train_1h_array[x_train_1h_array != 0] = 1\n",
    "x_train_1h_test = sparse.coo_matrix(x_train_1h_array)\n",
    "\n",
    "x_test_1h_array = x_test_1h.toarray()\n",
    "x_test_1h_array[x_test_1h_array != 0] = 1\n",
    "x_test_1h_test = sparse.coo_matrix(x_test_1h_array)"
   ]
  },
  {
   "cell_type": "code",
   "execution_count": 269,
   "id": "815bb257-c1af-489a-a055-af78560abb72",
   "metadata": {},
   "outputs": [
    {
     "data": {
      "text/plain": [
       "array([False, False, False, ...,  True, False, False])"
      ]
     },
     "execution_count": 269,
     "metadata": {},
     "output_type": "execute_result"
    }
   ],
   "source": []
  },
  {
   "cell_type": "code",
   "execution_count": 177,
   "id": "3bc73982-e622-42c1-aa2d-f85682412dab",
   "metadata": {},
   "outputs": [
    {
     "data": {
      "text/plain": [
       "10000"
      ]
     },
     "execution_count": 178,
     "metadata": {},
     "output_type": "execute_result"
    }
   ],
   "source": [
    "x_train_1h_test.toarray()[0]"
   ]
  },
  {
   "cell_type": "code",
   "execution_count": 147,
   "id": "a4ae79ec-6708-4d6b-a6a3-be71307f8d94",
   "metadata": {},
   "outputs": [
    {
     "data": {
      "text/plain": [
       "matrix([[1., 3., 6., ..., 3., 1., 5.]])"
      ]
     },
     "execution_count": 147,
     "metadata": {},
     "output_type": "execute_result"
    }
   ],
   "source": [
    "x_train_1h.tocsr()[rowind, colind]"
   ]
  },
  {
   "cell_type": "code",
   "execution_count": 132,
   "id": "cb9187cd-5498-4df7-84ff-9337d8e13124",
   "metadata": {
    "collapsed": true,
    "jupyter": {
     "outputs_hidden": true
    },
    "tags": []
   },
   "outputs": [
    {
     "ename": "KeyboardInterrupt",
     "evalue": "",
     "output_type": "error",
     "traceback": [
      "\u001b[0;31m---------------------------------------------------------------------------\u001b[0m",
      "\u001b[0;31mKeyboardInterrupt\u001b[0m                         Traceback (most recent call last)",
      "Input \u001b[0;32mIn [132]\u001b[0m, in \u001b[0;36m<cell line: 1>\u001b[0;34m()\u001b[0m\n\u001b[1;32m      1\u001b[0m \u001b[38;5;28;01mfor\u001b[39;00m i \u001b[38;5;129;01min\u001b[39;00m rowind:\n\u001b[1;32m      2\u001b[0m     \u001b[38;5;28;01mfor\u001b[39;00m j \u001b[38;5;129;01min\u001b[39;00m colind:\n\u001b[0;32m----> 3\u001b[0m         \u001b[43mx_train_1h\u001b[49m\u001b[38;5;241;43m.\u001b[39;49m\u001b[43mtolil\u001b[49m\u001b[43m(\u001b[49m\u001b[43m)\u001b[49m[i, j] \u001b[38;5;241m=\u001b[39m \u001b[38;5;241m1\u001b[39m\n\u001b[1;32m      4\u001b[0m x_train_1h\u001b[38;5;241m.\u001b[39mtocsr()[rowind, colind]\n",
      "File \u001b[0;32m~/opt/anaconda3/envs/ox/lib/python3.9/site-packages/scipy/sparse/_base.py:1006\u001b[0m, in \u001b[0;36mspmatrix.tolil\u001b[0;34m(self, copy)\u001b[0m\n\u001b[1;32m   1000\u001b[0m \u001b[38;5;28;01mdef\u001b[39;00m \u001b[38;5;21mtolil\u001b[39m(\u001b[38;5;28mself\u001b[39m, copy\u001b[38;5;241m=\u001b[39m\u001b[38;5;28;01mFalse\u001b[39;00m):\n\u001b[1;32m   1001\u001b[0m     \u001b[38;5;124;03m\"\"\"Convert this matrix to List of Lists format.\u001b[39;00m\n\u001b[1;32m   1002\u001b[0m \n\u001b[1;32m   1003\u001b[0m \u001b[38;5;124;03m    With copy=False, the data/indices may be shared between this matrix and\u001b[39;00m\n\u001b[1;32m   1004\u001b[0m \u001b[38;5;124;03m    the resultant lil_matrix.\u001b[39;00m\n\u001b[1;32m   1005\u001b[0m \u001b[38;5;124;03m    \"\"\"\u001b[39;00m\n\u001b[0;32m-> 1006\u001b[0m     \u001b[38;5;28;01mreturn\u001b[39;00m \u001b[38;5;28;43mself\u001b[39;49m\u001b[38;5;241;43m.\u001b[39;49m\u001b[43mtocsr\u001b[49m\u001b[43m(\u001b[49m\u001b[43mcopy\u001b[49m\u001b[38;5;241;43m=\u001b[39;49m\u001b[38;5;28;43;01mFalse\u001b[39;49;00m\u001b[43m)\u001b[49m\u001b[38;5;241m.\u001b[39mtolil(copy\u001b[38;5;241m=\u001b[39mcopy)\n",
      "File \u001b[0;32m~/opt/anaconda3/envs/ox/lib/python3.9/site-packages/scipy/sparse/_coo.py:409\u001b[0m, in \u001b[0;36mcoo_matrix.tocsr\u001b[0;34m(self, copy)\u001b[0m\n\u001b[1;32m    407\u001b[0m x \u001b[38;5;241m=\u001b[39m \u001b[38;5;28mself\u001b[39m\u001b[38;5;241m.\u001b[39m_csr_container((data, indices, indptr), shape\u001b[38;5;241m=\u001b[39m\u001b[38;5;28mself\u001b[39m\u001b[38;5;241m.\u001b[39mshape)\n\u001b[1;32m    408\u001b[0m \u001b[38;5;28;01mif\u001b[39;00m \u001b[38;5;129;01mnot\u001b[39;00m \u001b[38;5;28mself\u001b[39m\u001b[38;5;241m.\u001b[39mhas_canonical_format:\n\u001b[0;32m--> 409\u001b[0m     \u001b[43mx\u001b[49m\u001b[38;5;241;43m.\u001b[39;49m\u001b[43msum_duplicates\u001b[49m\u001b[43m(\u001b[49m\u001b[43m)\u001b[49m\n\u001b[1;32m    410\u001b[0m \u001b[38;5;28;01mreturn\u001b[39;00m x\n",
      "File \u001b[0;32m~/opt/anaconda3/envs/ox/lib/python3.9/site-packages/scipy/sparse/_compressed.py:1118\u001b[0m, in \u001b[0;36m_cs_matrix.sum_duplicates\u001b[0;34m(self)\u001b[0m\n\u001b[1;32m   1116\u001b[0m \u001b[38;5;28;01mif\u001b[39;00m \u001b[38;5;28mself\u001b[39m\u001b[38;5;241m.\u001b[39mhas_canonical_format:\n\u001b[1;32m   1117\u001b[0m     \u001b[38;5;28;01mreturn\u001b[39;00m\n\u001b[0;32m-> 1118\u001b[0m \u001b[38;5;28;43mself\u001b[39;49m\u001b[38;5;241;43m.\u001b[39;49m\u001b[43msort_indices\u001b[49m\u001b[43m(\u001b[49m\u001b[43m)\u001b[49m\n\u001b[1;32m   1120\u001b[0m M, N \u001b[38;5;241m=\u001b[39m \u001b[38;5;28mself\u001b[39m\u001b[38;5;241m.\u001b[39m_swap(\u001b[38;5;28mself\u001b[39m\u001b[38;5;241m.\u001b[39mshape)\n\u001b[1;32m   1121\u001b[0m _sparsetools\u001b[38;5;241m.\u001b[39mcsr_sum_duplicates(M, N, \u001b[38;5;28mself\u001b[39m\u001b[38;5;241m.\u001b[39mindptr, \u001b[38;5;28mself\u001b[39m\u001b[38;5;241m.\u001b[39mindices,\n\u001b[1;32m   1122\u001b[0m                                 \u001b[38;5;28mself\u001b[39m\u001b[38;5;241m.\u001b[39mdata)\n",
      "File \u001b[0;32m~/opt/anaconda3/envs/ox/lib/python3.9/site-packages/scipy/sparse/_compressed.py:1164\u001b[0m, in \u001b[0;36m_cs_matrix.sort_indices\u001b[0;34m(self)\u001b[0m\n\u001b[1;32m   1160\u001b[0m \u001b[38;5;124;03m\"\"\"Sort the indices of this matrix *in place*\u001b[39;00m\n\u001b[1;32m   1161\u001b[0m \u001b[38;5;124;03m\"\"\"\u001b[39;00m\n\u001b[1;32m   1163\u001b[0m \u001b[38;5;28;01mif\u001b[39;00m \u001b[38;5;129;01mnot\u001b[39;00m \u001b[38;5;28mself\u001b[39m\u001b[38;5;241m.\u001b[39mhas_sorted_indices:\n\u001b[0;32m-> 1164\u001b[0m     \u001b[43m_sparsetools\u001b[49m\u001b[38;5;241;43m.\u001b[39;49m\u001b[43mcsr_sort_indices\u001b[49m\u001b[43m(\u001b[49m\u001b[38;5;28;43mlen\u001b[39;49m\u001b[43m(\u001b[49m\u001b[38;5;28;43mself\u001b[39;49m\u001b[38;5;241;43m.\u001b[39;49m\u001b[43mindptr\u001b[49m\u001b[43m)\u001b[49m\u001b[43m \u001b[49m\u001b[38;5;241;43m-\u001b[39;49m\u001b[43m \u001b[49m\u001b[38;5;241;43m1\u001b[39;49m\u001b[43m,\u001b[49m\u001b[43m \u001b[49m\u001b[38;5;28;43mself\u001b[39;49m\u001b[38;5;241;43m.\u001b[39;49m\u001b[43mindptr\u001b[49m\u001b[43m,\u001b[49m\n\u001b[1;32m   1165\u001b[0m \u001b[43m                                  \u001b[49m\u001b[38;5;28;43mself\u001b[39;49m\u001b[38;5;241;43m.\u001b[39;49m\u001b[43mindices\u001b[49m\u001b[43m,\u001b[49m\u001b[43m \u001b[49m\u001b[38;5;28;43mself\u001b[39;49m\u001b[38;5;241;43m.\u001b[39;49m\u001b[43mdata\u001b[49m\u001b[43m)\u001b[49m\n\u001b[1;32m   1166\u001b[0m     \u001b[38;5;28mself\u001b[39m\u001b[38;5;241m.\u001b[39mhas_sorted_indices \u001b[38;5;241m=\u001b[39m \u001b[38;5;28;01mTrue\u001b[39;00m\n",
      "\u001b[0;31mKeyboardInterrupt\u001b[0m: "
     ]
    }
   ],
   "source": [
    "for i in rowind:\n",
    "    for j in colind:\n",
    "        x_train_1h.tolil()[i, j] = 1\n",
    "x_train_1h.tocsr()[rowind, colind]"
   ]
  },
  {
   "cell_type": "code",
   "execution_count": 143,
   "id": "0fb197b5-6629-4cc7-a5ad-5711baded08a",
   "metadata": {},
   "outputs": [
    {
     "data": {
      "text/plain": [
       "6.0"
      ]
     },
     "execution_count": 143,
     "metadata": {},
     "output_type": "execute_result"
    }
   ],
   "source": [
    "x_train_1h.tolil()[0,2]"
   ]
  },
  {
   "cell_type": "code",
   "execution_count": 117,
   "id": "1990b654-dfc5-476f-b3df-372c4a01eb1b",
   "metadata": {},
   "outputs": [
    {
     "data": {
      "text/plain": [
       "38124379.0"
      ]
     },
     "execution_count": 117,
     "metadata": {},
     "output_type": "execute_result"
    }
   ],
   "source": [
    "x_train_1h.tocsr()[rowind, colind].sum()"
   ]
  },
  {
   "cell_type": "code",
   "execution_count": 119,
   "id": "6988564c-67e5-4c21-89ef-a40d5bbda8fe",
   "metadata": {},
   "outputs": [
    {
     "data": {
      "text/plain": [
       "(array([    0,     0,     0, ..., 24999, 24999, 24999], dtype=int32),\n",
       " array([   1,    2,    4, ..., 8778, 9245, 9685], dtype=int32))"
      ]
     },
     "execution_count": 119,
     "metadata": {},
     "output_type": "execute_result"
    }
   ],
   "source": [
    "x_train_1h.tocsr().nonzero()"
   ]
  },
  {
   "cell_type": "code",
   "execution_count": 118,
   "id": "5bfaec56-6b47-485c-a8ff-8e90fd66c0b5",
   "metadata": {},
   "outputs": [
    {
     "data": {
      "text/plain": [
       "5967841.0"
      ]
     },
     "execution_count": 118,
     "metadata": {},
     "output_type": "execute_result"
    }
   ],
   "source": [
    "x_train_1h.tocsr()[x_train_1h.tocsr().nonzero()].sum()"
   ]
  },
  {
   "cell_type": "code",
   "execution_count": 113,
   "id": "d65200a3-df38-4217-8b4f-07f04c8bcc83",
   "metadata": {},
   "outputs": [
    {
     "data": {
      "text/plain": [
       "(array([    0,     0,     0, ..., 24999, 24999, 24999], dtype=int32),\n",
       " array([   1,    2,    4, ..., 8778, 9245, 9685], dtype=int32))"
      ]
     },
     "execution_count": 113,
     "metadata": {},
     "output_type": "execute_result"
    }
   ],
   "source": [
    "x_train_1h.tocsr().nonzero()"
   ]
  },
  {
   "cell_type": "code",
   "execution_count": 125,
   "id": "a6e55bdc-6abf-41eb-b2be-cdd157a30564",
   "metadata": {},
   "outputs": [
    {
     "data": {
      "text/plain": [
       "array([0., 1., 2., ..., 0., 0., 0.])"
      ]
     },
     "execution_count": 125,
     "metadata": {},
     "output_type": "execute_result"
    }
   ],
   "source": [
    "x_train_1h.toarray()[2]"
   ]
  },
  {
   "cell_type": "code",
   "execution_count": 111,
   "id": "4919c931-f6f9-4280-8124-ef8a92ba30f7",
   "metadata": {},
   "outputs": [
    {
     "data": {
      "text/plain": [
       "array([[ 0.,  1.,  6., ...,  0.,  0.,  0.],\n",
       "       [ 0.,  1.,  7., ...,  0.,  0.,  0.],\n",
       "       [ 0.,  1.,  2., ...,  0.,  0.,  0.],\n",
       "       ...,\n",
       "       [ 0.,  1., 14., ...,  0.,  0.,  0.],\n",
       "       [ 0.,  1.,  5., ...,  0.,  0.,  0.],\n",
       "       [ 0.,  1., 12., ...,  0.,  0.,  0.]])"
      ]
     },
     "execution_count": 111,
     "metadata": {},
     "output_type": "execute_result"
    }
   ],
   "source": [
    "x_train_1h.toarray()"
   ]
  },
  {
   "cell_type": "code",
   "execution_count": 66,
   "id": "1a81bde0-0dd4-4dea-bcd4-2b96f6599005",
   "metadata": {},
   "outputs": [
    {
     "data": {
      "text/plain": [
       "(25000, 10000)"
      ]
     },
     "execution_count": 66,
     "metadata": {},
     "output_type": "execute_result"
    }
   ],
   "source": [
    "x_train_1h.shape"
   ]
  },
  {
   "cell_type": "code",
   "execution_count": 67,
   "id": "898a153c-be69-4df9-acd9-c98e7150252b",
   "metadata": {},
   "outputs": [
    {
     "data": {
      "text/plain": [
       "0.013169872"
      ]
     },
     "execution_count": 67,
     "metadata": {},
     "output_type": "execute_result"
    }
   ],
   "source": [
    "x_train_1h.count_nonzero() / (25000 * 10000)"
   ]
  },
  {
   "cell_type": "code",
   "execution_count": 68,
   "id": "80289a4c-1a2b-4c0e-b92c-624b3fc14a04",
   "metadata": {},
   "outputs": [],
   "source": [
    "import rpy2.robjects as robjects\n",
    "\n",
    "data = robjects.r(\"\"\"\n",
    "set.seed(3)\n",
    "ival <- sample(seq(1:25000), 2000)\n",
    "\"\"\")\n",
    "\n",
    "ival = np.sort(np.array(data))"
   ]
  },
  {
   "cell_type": "code",
   "execution_count": 69,
   "id": "56fc814e-f7d4-4648-8c65-4c862b83596f",
   "metadata": {},
   "outputs": [],
   "source": [
    "import glmnet_python\n",
    "from glmnet import glmnet; from glmnetPlot import glmnetPlot\n",
    "from glmnetPrint import glmnetPrint; from glmnetCoef import glmnetCoef; from glmnetPredict import glmnetPredict\n",
    "from cvglmnet import cvglmnet; from cvglmnetCoef import cvglmnetCoef\n",
    "from cvglmnetPlot import cvglmnetPlot; from cvglmnetPredict import cvglmnetPredict"
   ]
  },
  {
   "cell_type": "code",
   "execution_count": 70,
   "id": "da3247cf-8742-426a-8ddf-1022cf116dac",
   "metadata": {},
   "outputs": [
    {
     "data": {
      "text/plain": [
       "array([[ 0.,  1., 10., ...,  0.,  0.,  0.],\n",
       "       [ 0.,  1., 28., ...,  0.,  0.,  0.],\n",
       "       [ 0.,  1.,  6., ...,  0.,  0.,  0.],\n",
       "       ...,\n",
       "       [ 0.,  1.,  9., ...,  0.,  0.,  0.],\n",
       "       [ 0.,  1., 11., ...,  0.,  0.,  0.],\n",
       "       [ 0.,  1., 14., ...,  0.,  0.,  0.]])"
      ]
     },
     "execution_count": 70,
     "metadata": {},
     "output_type": "execute_result"
    }
   ],
   "source": [
    "x_train_1h.tocsr()[ival].tocoo().toarray()"
   ]
  },
  {
   "cell_type": "code",
   "execution_count": 274,
   "id": "5b54660a-ab36-43ca-8bac-5155aa749d16",
   "metadata": {},
   "outputs": [
    {
     "ename": "ValueError",
     "evalue": "x input must be a scipy float64 ndarray",
     "output_type": "error",
     "traceback": [
      "\u001b[0;31m---------------------------------------------------------------------------\u001b[0m",
      "\u001b[0;31mValueError\u001b[0m                                Traceback (most recent call last)",
      "Input \u001b[0;32mIn [283]\u001b[0m, in \u001b[0;36m<cell line: 3>\u001b[0;34m()\u001b[0m\n\u001b[1;32m      1\u001b[0m \u001b[38;5;66;03m# fitlm = glmnet(x=x_train_1h_test.tocsr()[-ival].toarray(), y=y_train[-ival].astype(np.float64), family='binomial', standardize=False)\u001b[39;00m\n\u001b[0;32m----> 3\u001b[0m fitlm \u001b[38;5;241m=\u001b[39m \u001b[43mglmnet\u001b[49m\u001b[43m(\u001b[49m\u001b[43mx\u001b[49m\u001b[38;5;241;43m=\u001b[39;49m\u001b[43ma_train_1h\u001b[49m\u001b[38;5;241;43m.\u001b[39;49m\u001b[43mtocsr\u001b[49m\u001b[43m(\u001b[49m\u001b[43m)\u001b[49m\u001b[43m[\u001b[49m\u001b[38;5;241;43m~\u001b[39;49m\u001b[43mival_mask\u001b[49m\u001b[43m]\u001b[49m\u001b[43m,\u001b[49m\u001b[43m \u001b[49m\u001b[43my\u001b[49m\u001b[38;5;241;43m=\u001b[39;49m\u001b[43my_train\u001b[49m\u001b[43m[\u001b[49m\u001b[38;5;241;43m~\u001b[39;49m\u001b[43mival_mask\u001b[49m\u001b[43m]\u001b[49m\u001b[38;5;241;43m.\u001b[39;49m\u001b[43mastype\u001b[49m\u001b[43m(\u001b[49m\u001b[43mnp\u001b[49m\u001b[38;5;241;43m.\u001b[39;49m\u001b[43mfloat64\u001b[49m\u001b[43m)\u001b[49m\u001b[43m,\u001b[49m\u001b[43m \u001b[49m\u001b[43mfamily\u001b[49m\u001b[38;5;241;43m=\u001b[39;49m\u001b[38;5;124;43m'\u001b[39;49m\u001b[38;5;124;43mbinomial\u001b[39;49m\u001b[38;5;124;43m'\u001b[39;49m\u001b[43m,\u001b[49m\u001b[43m \u001b[49m\u001b[43mstandardize\u001b[49m\u001b[38;5;241;43m=\u001b[39;49m\u001b[38;5;28;43;01mFalse\u001b[39;49;00m\u001b[43m)\u001b[49m\n",
      "File \u001b[0;32m~/opt/anaconda3/envs/ox/lib/python3.9/site-packages/glmnet_python/glmnet.py:252\u001b[0m, in \u001b[0;36mglmnet\u001b[0;34m(x, y, family, **options)\u001b[0m\n\u001b[1;32m    250\u001b[0m \u001b[38;5;28;01mif\u001b[39;00m \u001b[38;5;129;01mnot\u001b[39;00m( \u001b[38;5;28misinstance\u001b[39m(x, scipy\u001b[38;5;241m.\u001b[39msparse\u001b[38;5;241m.\u001b[39mcsc\u001b[38;5;241m.\u001b[39mcsc_matrix) ):\n\u001b[1;32m    251\u001b[0m     \u001b[38;5;28;01mif\u001b[39;00m \u001b[38;5;129;01mnot\u001b[39;00m( \u001b[38;5;28misinstance\u001b[39m(x, scipy\u001b[38;5;241m.\u001b[39mndarray) \u001b[38;5;129;01mand\u001b[39;00m x\u001b[38;5;241m.\u001b[39mdtype \u001b[38;5;241m==\u001b[39m \u001b[38;5;124m'\u001b[39m\u001b[38;5;124mfloat64\u001b[39m\u001b[38;5;124m'\u001b[39m):\n\u001b[0;32m--> 252\u001b[0m         \u001b[38;5;28;01mraise\u001b[39;00m \u001b[38;5;167;01mValueError\u001b[39;00m(\u001b[38;5;124m'\u001b[39m\u001b[38;5;124mx input must be a scipy float64 ndarray\u001b[39m\u001b[38;5;124m'\u001b[39m)\n\u001b[1;32m    253\u001b[0m \u001b[38;5;28;01melse\u001b[39;00m:\n\u001b[1;32m    254\u001b[0m     \u001b[38;5;28;01mif\u001b[39;00m \u001b[38;5;129;01mnot\u001b[39;00m (x\u001b[38;5;241m.\u001b[39mdtype \u001b[38;5;241m==\u001b[39m \u001b[38;5;124m'\u001b[39m\u001b[38;5;124mfloat64\u001b[39m\u001b[38;5;124m'\u001b[39m):\n",
      "\u001b[0;31mValueError\u001b[0m: x input must be a scipy float64 ndarray"
     ]
    }
   ],
   "source": [
    "# fitlm = glmnet(x=x_train_1h_test.tocsr()[-ival].toarray(), y=y_train[-ival].astype(np.float64), family='binomial', standardize=False)\n",
    "\n",
    "fitlm = glmnet(x=a_train_1h.tocsr()[~ival_mask].toarray(), y=y_train[~ival_mask].astype(np.float64), family='binomial', standardize=False)"
   ]
  },
  {
   "cell_type": "code",
   "execution_count": 275,
   "id": "bc1714dd-91c3-4666-8af3-4319995e2057",
   "metadata": {},
   "outputs": [],
   "source": [
    "classlmv = glmnetPredict(fitlm, a[ival_mask]) > 0"
   ]
  },
  {
   "cell_type": "code",
   "execution_count": 276,
   "id": "b2e79095-0ee7-4138-8eb2-4bce363eec11",
   "metadata": {},
   "outputs": [
    {
     "data": {
      "text/plain": [
       "array([False, False,  True, ...,  True, False, False])"
      ]
     },
     "execution_count": 276,
     "metadata": {},
     "output_type": "execute_result"
    }
   ],
   "source": [
    "classlmv[:,99]"
   ]
  },
  {
   "cell_type": "code",
   "execution_count": 277,
   "id": "944ada85-7799-473e-a5b6-06969a35b535",
   "metadata": {},
   "outputs": [
    {
     "data": {
      "text/plain": [
       "dict_keys(['a0', 'label', 'beta', 'dev', 'nulldev', 'df', 'lambdau', 'npasses', 'jerr', 'dim', 'offset', 'class'])"
      ]
     },
     "execution_count": 277,
     "metadata": {},
     "output_type": "execute_result"
    }
   ],
   "source": [
    "fitlm.keys()"
   ]
  },
  {
   "cell_type": "code",
   "execution_count": 278,
   "id": "0946781f-fc40-4abd-ab40-257d960d8642",
   "metadata": {},
   "outputs": [
    {
     "data": {
      "text/plain": [
       "array([ 2.8395692 ,  2.93260294,  3.02563668,  3.11867042,  3.21170416,\n",
       "        3.3047379 ,  3.39777165,  3.49080539,  3.58383913,  3.67687287,\n",
       "        3.76990661,  3.86294035,  3.95597409,  4.04900783,  4.14204158,\n",
       "        4.23507532,  4.32810906,  4.4211428 ,  4.51417654,  4.60721028,\n",
       "        4.70024402,  4.79327776,  4.8863115 ,  4.97934525,  5.07237899,\n",
       "        5.16541273,  5.25844647,  5.35148021,  5.44451395,  5.53754769,\n",
       "        5.63058143,  5.72361517,  5.81664892,  5.90968266,  6.0027164 ,\n",
       "        6.09575014,  6.18878388,  6.28181762,  6.37485136,  6.4678851 ,\n",
       "        6.56091884,  6.65395259,  6.74698633,  6.84002007,  6.93305381,\n",
       "        7.02608755,  7.11912129,  7.21215503,  7.30518877,  7.39822251,\n",
       "        7.49125626,  7.58429   ,  7.67732374,  7.77035748,  7.86339122,\n",
       "        7.95642496,  8.0494587 ,  8.14249244,  8.23552618,  8.32855993,\n",
       "        8.42159367,  8.51462741,  8.60766115,  8.70069489,  8.79372863,\n",
       "        8.88676237,  8.97979611,  9.07282985,  9.1658636 ,  9.25889734,\n",
       "        9.35193108,  9.44496482,  9.53799856,  9.6310323 ,  9.72406604,\n",
       "        9.81709978,  9.91013353, 10.00316727, 10.09620101, 10.18923475,\n",
       "       10.28226849, 10.37530223, 10.46833597, 10.56136971, 10.65440345,\n",
       "       10.7474372 , 10.84047094, 10.93350468, 11.02653842, 11.11957216,\n",
       "       11.2126059 , 11.30563964, 11.39867338, 11.49170712, 11.58474087,\n",
       "       11.67777461, 11.77080835, 11.86384209, 11.95687583, 12.04990957])"
      ]
     },
     "execution_count": 278,
     "metadata": {},
     "output_type": "execute_result"
    }
   ],
   "source": [
    "-np.log(fitlm['lambdau'])"
   ]
  },
  {
   "cell_type": "code",
   "execution_count": 279,
   "id": "be75a70a-0c56-454a-8fd5-1d28fca7ea20",
   "metadata": {},
   "outputs": [],
   "source": [
    "acclmv = []\n",
    "for i in range(100):\n",
    "    acc = np.mean(classlmv[:, i] == (y_train[ival_mask] > 0))\n",
    "    acclmv.append(acc)"
   ]
  },
  {
   "cell_type": "code",
   "execution_count": 280,
   "id": "05f4b272-0090-4056-8612-fcd3691ab438",
   "metadata": {
    "tags": []
   },
   "outputs": [
    {
     "data": {
      "text/plain": [
       "[0.4955,\n",
       " 0.6105,\n",
       " 0.6105,\n",
       " 0.6105,\n",
       " 0.6105,\n",
       " 0.6105,\n",
       " 0.6105,\n",
       " 0.639,\n",
       " 0.639,\n",
       " 0.639,\n",
       " 0.66,\n",
       " 0.6815,\n",
       " 0.692,\n",
       " 0.705,\n",
       " 0.722,\n",
       " 0.736,\n",
       " 0.743,\n",
       " 0.747,\n",
       " 0.758,\n",
       " 0.7695,\n",
       " 0.7735,\n",
       " 0.777,\n",
       " 0.782,\n",
       " 0.7895,\n",
       " 0.7975,\n",
       " 0.801,\n",
       " 0.816,\n",
       " 0.8225,\n",
       " 0.828,\n",
       " 0.8345,\n",
       " 0.839,\n",
       " 0.8455,\n",
       " 0.852,\n",
       " 0.857,\n",
       " 0.86,\n",
       " 0.8605,\n",
       " 0.8605,\n",
       " 0.863,\n",
       " 0.866,\n",
       " 0.8675,\n",
       " 0.872,\n",
       " 0.875,\n",
       " 0.8775,\n",
       " 0.8785,\n",
       " 0.879,\n",
       " 0.8825,\n",
       " 0.8815,\n",
       " 0.8835,\n",
       " 0.886,\n",
       " 0.888,\n",
       " 0.89,\n",
       " 0.891,\n",
       " 0.8905,\n",
       " 0.8905,\n",
       " 0.889,\n",
       " 0.89,\n",
       " 0.894,\n",
       " 0.895,\n",
       " 0.8965,\n",
       " 0.898,\n",
       " 0.9,\n",
       " 0.9025,\n",
       " 0.8985,\n",
       " 0.9005,\n",
       " 0.8985,\n",
       " 0.8995,\n",
       " 0.9,\n",
       " 0.9,\n",
       " 0.902,\n",
       " 0.899,\n",
       " 0.9005,\n",
       " 0.8985,\n",
       " 0.897,\n",
       " 0.896,\n",
       " 0.895,\n",
       " 0.892,\n",
       " 0.889,\n",
       " 0.8885,\n",
       " 0.888,\n",
       " 0.887,\n",
       " 0.886,\n",
       " 0.885,\n",
       " 0.883,\n",
       " 0.8815,\n",
       " 0.8805,\n",
       " 0.879,\n",
       " 0.8785,\n",
       " 0.8765,\n",
       " 0.876,\n",
       " 0.874,\n",
       " 0.8725,\n",
       " 0.87,\n",
       " 0.8705,\n",
       " 0.868,\n",
       " 0.8675,\n",
       " 0.8665,\n",
       " 0.867,\n",
       " 0.8665,\n",
       " 0.866,\n",
       " 0.8645]"
      ]
     },
     "execution_count": 280,
     "metadata": {},
     "output_type": "execute_result"
    }
   ],
   "source": [
    "acclmv"
   ]
  },
  {
   "cell_type": "code",
   "execution_count": 281,
   "id": "d7992ae5-2453-428e-9ef3-b928c1958d03",
   "metadata": {},
   "outputs": [
    {
     "data": {
      "image/png": "[encoded data removed]",
      "text/plain": [
       "<Figure size 432x288 with 1 Axes>"
      ]
     },
     "metadata": {
      "needs_background": "light"
     },
     "output_type": "display_data"
    }
   ],
   "source": [
    "plt.scatter(-np.log(fitlm['lambdau']), acclmv)\n",
    "plt.xlabel(\"-log(fitlm['lambdau'])\")\n",
    "plt.ylabel(\"accuracy\");"
   ]
  },
  {
   "cell_type": "code",
   "execution_count": 240,
   "id": "a143bf92-a529-4ece-8dca-9aa0408ff97c",
   "metadata": {},
   "outputs": [
    {
     "data": {
      "image/png": "[encoded data removed]",
      "text/plain": [
       "<Figure size 432x288 with 1 Axes>"
      ]
     },
     "metadata": {
      "needs_background": "light"
     },
     "output_type": "display_data"
    }
   ],
   "source": [
    "fig, ax = plt.subplots()"
   ]
  },
  {
   "cell_type": "code",
   "execution_count": 241,
   "id": "d9733e2c-fbc2-40b2-a940-8ce22bffa3e8",
   "metadata": {},
   "outputs": [
    {
     "data": {
      "text/plain": [
       "[(0.0, 1.0)]"
      ]
     },
     "execution_count": 241,
     "metadata": {},
     "output_type": "execute_result"
    }
   ],
   "source": [
    "ax.set(xlim=0)"
   ]
  },
  {
   "cell_type": "code",
   "execution_count": 242,
   "id": "989d9975-ae8b-4fbc-8476-27975c2051a7",
   "metadata": {},
   "outputs": [
    {
     "data": {
      "image/png": "[encoded data removed]",
      "text/plain": [
       "<Figure size 432x288 with 2 Axes>"
      ]
     },
     "metadata": {
      "needs_background": "light"
     },
     "output_type": "display_data"
    },
    {
     "data": {
      "text/plain": [
       "{'fig': <Figure size 432x288 with 2 Axes>,\n",
       " 'ax1': <AxesSubplot:xlabel='Log Lambda', ylabel='Coefficients'>,\n",
       " 'ax2': <AxesSubplot:xlabel='Degrees of Freedom'>}"
      ]
     },
     "execution_count": 242,
     "metadata": {},
     "output_type": "execute_result"
    }
   ],
   "source": [
    "glmnetPlot(fitlm, xvar='lambda')"
   ]
  },
  {
   "cell_type": "code",
   "execution_count": 284,
   "id": "944da622-16b3-4d3f-af6b-a0ef06c665f2",
   "metadata": {},
   "outputs": [],
   "source": [
    "model = keras.models.Sequential(\n",
    "    [\n",
    "        layers.Dense(units=16, activation='relu'),\n",
    "        layers.Dense(units=16, activation='relu'),\n",
    "        layers.Dense(units=1, activation='sigmoid')\n",
    "    ]\n",
    ")"
   ]
  },
  {
   "cell_type": "code",
   "execution_count": 285,
   "id": "1da53322-3d2c-47f0-b38c-c0d74557124a",
   "metadata": {},
   "outputs": [],
   "source": [
    "model.compile(loss='binary_crossentropy', optimizer='rmsprop', metrics='accuracy')"
   ]
  },
  {
   "cell_type": "code",
   "execution_count": 288,
   "id": "3a1d071f-db51-42f3-8394-f638d88c7627",
   "metadata": {},
   "outputs": [
    {
     "data": {
      "text/plain": [
       "(2000, 10000)"
      ]
     },
     "execution_count": 288,
     "metadata": {},
     "output_type": "execute_result"
    }
   ],
   "source": [
    "x_train_1h.tocsr()[ival_mask].shape"
   ]
  },
  {
   "cell_type": "code",
   "execution_count": 289,
   "id": "e74f373a-1d5d-4799-85d4-ba8d05ab5840",
   "metadata": {},
   "outputs": [
    {
     "data": {
      "text/plain": [
       "(2000,)"
      ]
     },
     "execution_count": 289,
     "metadata": {},
     "output_type": "execute_result"
    }
   ],
   "source": [
    "y_train[ival_mask].shape"
   ]
  },
  {
   "cell_type": "code",
   "execution_count": 294,
   "id": "4354679e-4d9f-4681-a75f-4831ffff7238",
   "metadata": {
    "tags": []
   },
   "outputs": [
    {
     "name": "stdout",
     "output_type": "stream",
     "text": [
      "Epoch 1/20\n",
      "45/45 [==============================] - 1s 10ms/step - loss: 0.0236 - accuracy: 0.9943 - val_loss: 0.5526 - val_accuracy: 0.8800\n",
      "Epoch 2/20\n",
      "45/45 [==============================] - 0s 10ms/step - loss: 0.0189 - accuracy: 0.9951 - val_loss: 0.5775 - val_accuracy: 0.8800\n",
      "Epoch 3/20\n",
      "45/45 [==============================] - 1s 10ms/step - loss: 0.0159 - accuracy: 0.9965 - val_loss: 0.6015 - val_accuracy: 0.8780\n",
      "Epoch 4/20\n",
      "45/45 [==============================] - 1s 10ms/step - loss: 0.0149 - accuracy: 0.9963 - val_loss: 0.6101 - val_accuracy: 0.8760\n",
      "Epoch 5/20\n",
      "45/45 [==============================] - 0s 10ms/step - loss: 0.0119 - accuracy: 0.9973 - val_loss: 0.6315 - val_accuracy: 0.8765\n",
      "Epoch 6/20\n",
      "45/45 [==============================] - 0s 9ms/step - loss: 0.0136 - accuracy: 0.9969 - val_loss: 0.6486 - val_accuracy: 0.8740\n",
      "Epoch 7/20\n",
      "45/45 [==============================] - 1s 10ms/step - loss: 0.0108 - accuracy: 0.9974 - val_loss: 0.6641 - val_accuracy: 0.8740\n",
      "Epoch 8/20\n",
      "45/45 [==============================] - 1s 12ms/step - loss: 0.0109 - accuracy: 0.9967 - val_loss: 0.6766 - val_accuracy: 0.8745\n",
      "Epoch 9/20\n",
      "45/45 [==============================] - 0s 10ms/step - loss: 0.0045 - accuracy: 0.9996 - val_loss: 0.9626 - val_accuracy: 0.8440\n",
      "Epoch 10/20\n",
      "45/45 [==============================] - 0s 9ms/step - loss: 0.0072 - accuracy: 0.9982 - val_loss: 0.7250 - val_accuracy: 0.8750\n",
      "Epoch 11/20\n",
      "45/45 [==============================] - 0s 9ms/step - loss: 0.0114 - accuracy: 0.9967 - val_loss: 0.7403 - val_accuracy: 0.8780\n",
      "Epoch 12/20\n",
      "45/45 [==============================] - 0s 10ms/step - loss: 0.0061 - accuracy: 0.9983 - val_loss: 0.7553 - val_accuracy: 0.8765\n",
      "Epoch 13/20\n",
      "45/45 [==============================] - 0s 9ms/step - loss: 0.0020 - accuracy: 1.0000 - val_loss: 0.7849 - val_accuracy: 0.8735\n",
      "Epoch 14/20\n",
      "45/45 [==============================] - 0s 9ms/step - loss: 0.0085 - accuracy: 0.9976 - val_loss: 0.7985 - val_accuracy: 0.8745\n",
      "Epoch 15/20\n",
      "45/45 [==============================] - 0s 9ms/step - loss: 0.0067 - accuracy: 0.9977 - val_loss: 0.8199 - val_accuracy: 0.8725\n",
      "Epoch 16/20\n",
      "45/45 [==============================] - 0s 10ms/step - loss: 0.0013 - accuracy: 1.0000 - val_loss: 0.8435 - val_accuracy: 0.8725\n",
      "Epoch 17/20\n",
      "45/45 [==============================] - 0s 9ms/step - loss: 0.0078 - accuracy: 0.9977 - val_loss: 0.8440 - val_accuracy: 0.8730\n",
      "Epoch 18/20\n",
      "45/45 [==============================] - 0s 10ms/step - loss: 0.0104 - accuracy: 0.9975 - val_loss: 0.8699 - val_accuracy: 0.8740\n",
      "Epoch 19/20\n",
      "45/45 [==============================] - 0s 9ms/step - loss: 0.0010 - accuracy: 1.0000 - val_loss: 0.8724 - val_accuracy: 0.8740\n",
      "Epoch 20/20\n",
      "45/45 [==============================] - 1s 11ms/step - loss: 0.0068 - accuracy: 0.9981 - val_loss: 0.8878 - val_accuracy: 0.8735\n"
     ]
    }
   ],
   "source": [
    "history = model.fit(a_train_1h.tocsr()[~ival_mask], y_train[~ival_mask], epochs=20, batch_size=512, validation_data=(a_train_1h.tocsr()[ival_mask], y_train[ival_mask]))"
   ]
  },
  {
   "cell_type": "code",
   "execution_count": 295,
   "id": "c0e6622a-fc35-45a2-a875-c381157ae670",
   "metadata": {},
   "outputs": [
    {
     "data": {
      "image/png": "[encoded data removed]",
      "text/plain": [
       "<Figure size 432x288 with 1 Axes>"
      ]
     },
     "metadata": {
      "needs_background": "light"
     },
     "output_type": "display_data"
    }
   ],
   "source": [
    "plt.plot(history.history['loss'])\n",
    "plt.plot(history.history['val_loss'])\n",
    "plt.title('model loss')\n",
    "plt.ylabel('loss')\n",
    "plt.xlabel('epoch')\n",
    "plt.legend(['Train', 'Validation']);"
   ]
  },
  {
   "cell_type": "code",
   "execution_count": 296,
   "id": "a8230cf7-5c89-4d5b-9141-747ad0adc927",
   "metadata": {},
   "outputs": [
    {
     "data": {
      "image/png": "[encoded data removed]",
      "text/plain": [
       "<Figure size 432x288 with 1 Axes>"
      ]
     },
     "metadata": {
      "needs_background": "light"
     },
     "output_type": "display_data"
    }
   ],
   "source": [
    "plt.plot(history.history['accuracy'])\n",
    "plt.plot(history.history['val_accuracy'])\n",
    "plt.title('model accuracy')\n",
    "plt.ylabel('accuracy')\n",
    "plt.xlabel('epoch')\n",
    "plt.legend(['Train', 'Validation']);"
   ]
  },
  {
   "cell_type": "code",
   "execution_count": 297,
   "id": "1747f04c-9ae8-4cea-a315-82f01b72c422",
   "metadata": {
    "tags": []
   },
   "outputs": [
    {
     "name": "stdout",
     "output_type": "stream",
     "text": [
      "Epoch 1/20\n",
      "45/45 [==============================] - 1s 28ms/step - loss: 7.8105e-04 - accuracy: 1.0000 - val_loss: 1.8276 - val_accuracy: 0.8474\n",
      "Epoch 2/20\n",
      "45/45 [==============================] - 1s 13ms/step - loss: 0.0092 - accuracy: 0.9973 - val_loss: 1.8511 - val_accuracy: 0.8460\n",
      "Epoch 3/20\n",
      "45/45 [==============================] - 1s 14ms/step - loss: 6.6720e-04 - accuracy: 1.0000 - val_loss: 1.8850 - val_accuracy: 0.8466\n",
      "Epoch 4/20\n",
      "45/45 [==============================] - 1s 14ms/step - loss: 0.0087 - accuracy: 0.9974 - val_loss: 1.9115 - val_accuracy: 0.8467\n",
      "Epoch 5/20\n",
      "45/45 [==============================] - 1s 12ms/step - loss: 5.3825e-04 - accuracy: 1.0000 - val_loss: 1.9363 - val_accuracy: 0.8472\n",
      "Epoch 6/20\n",
      "45/45 [==============================] - 1s 13ms/step - loss: 0.0064 - accuracy: 0.9979 - val_loss: 1.9603 - val_accuracy: 0.8476\n",
      "Epoch 7/20\n",
      "45/45 [==============================] - 1s 14ms/step - loss: 4.6063e-04 - accuracy: 1.0000 - val_loss: 1.9838 - val_accuracy: 0.8480\n",
      "Epoch 8/20\n",
      "45/45 [==============================] - 1s 14ms/step - loss: 0.0070 - accuracy: 0.9979 - val_loss: 2.0219 - val_accuracy: 0.8473\n",
      "Epoch 9/20\n",
      "45/45 [==============================] - 1s 13ms/step - loss: 4.0479e-04 - accuracy: 1.0000 - val_loss: 2.0335 - val_accuracy: 0.8474\n",
      "Epoch 10/20\n",
      "45/45 [==============================] - 1s 13ms/step - loss: 0.0065 - accuracy: 0.9979 - val_loss: 2.0524 - val_accuracy: 0.8466\n",
      "Epoch 11/20\n",
      "45/45 [==============================] - 1s 14ms/step - loss: 3.6587e-04 - accuracy: 1.0000 - val_loss: 2.0697 - val_accuracy: 0.8481\n",
      "Epoch 12/20\n",
      "45/45 [==============================] - 1s 15ms/step - loss: 0.0056 - accuracy: 0.9984 - val_loss: 2.2040 - val_accuracy: 0.8459\n",
      "Epoch 13/20\n",
      "45/45 [==============================] - 1s 15ms/step - loss: 3.6575e-04 - accuracy: 1.0000 - val_loss: 2.1199 - val_accuracy: 0.8470\n",
      "Epoch 14/20\n",
      "45/45 [==============================] - 1s 14ms/step - loss: 2.6438e-04 - accuracy: 1.0000 - val_loss: 2.1645 - val_accuracy: 0.8482\n",
      "Epoch 15/20\n",
      "45/45 [==============================] - 1s 14ms/step - loss: 0.0052 - accuracy: 0.9985 - val_loss: 2.1779 - val_accuracy: 0.8472\n",
      "Epoch 16/20\n",
      "45/45 [==============================] - 1s 13ms/step - loss: 2.4176e-04 - accuracy: 1.0000 - val_loss: 2.2245 - val_accuracy: 0.8474\n",
      "Epoch 17/20\n",
      "45/45 [==============================] - 1s 14ms/step - loss: 0.0048 - accuracy: 0.9986 - val_loss: 2.2581 - val_accuracy: 0.8462\n",
      "Epoch 18/20\n",
      "45/45 [==============================] - 1s 15ms/step - loss: 2.2087e-04 - accuracy: 1.0000 - val_loss: 2.2613 - val_accuracy: 0.8456\n",
      "Epoch 19/20\n",
      "45/45 [==============================] - 1s 15ms/step - loss: 1.8716e-04 - accuracy: 1.0000 - val_loss: 2.4079 - val_accuracy: 0.8425\n",
      "Epoch 20/20\n",
      "45/45 [==============================] - 1s 14ms/step - loss: 0.0058 - accuracy: 0.9983 - val_loss: 2.3202 - val_accuracy: 0.8456\n"
     ]
    }
   ],
   "source": [
    "history2 = model.fit(a_train_1h.tocsr()[~ival_mask], y_train[~ival_mask], epochs=20, batch_size=512, validation_data=(x_test_1h.tocsr(), y_test))"
   ]
  },
  {
   "cell_type": "code",
   "execution_count": 298,
   "id": "c4ea11e1-9853-4103-9b36-bea81f0ae2c7",
   "metadata": {},
   "outputs": [
    {
     "data": {
      "image/png": "[encoded data removed]",
      "text/plain": [
       "<Figure size 432x288 with 1 Axes>"
      ]
     },
     "metadata": {
      "needs_background": "light"
     },
     "output_type": "display_data"
    }
   ],
   "source": [
    "plt.plot(history2.history['loss'])\n",
    "plt.plot(history2.history['val_loss'])\n",
    "plt.title('model loss')\n",
    "plt.ylabel('loss')\n",
    "plt.xlabel('epoch')\n",
    "plt.legend(['Train', 'Validation']);"
   ]
  },
  {
   "cell_type": "code",
   "execution_count": 299,
   "id": "9786194c-fee4-419b-bd89-9bba055abe2c",
   "metadata": {},
   "outputs": [
    {
     "data": {
      "image/png": "[encoded data removed]",
      "text/plain": [
       "<Figure size 432x288 with 1 Axes>"
      ]
     },
     "metadata": {
      "needs_background": "light"
     },
     "output_type": "display_data"
    }
   ],
   "source": [
    "plt.plot(history2.history['accuracy'])\n",
    "plt.plot(history2.history['val_accuracy'])\n",
    "plt.title('model accuracy')\n",
    "plt.ylabel('accuracy')\n",
    "plt.xlabel('epoch')\n",
    "plt.legend(['Train', 'Validation']);"
   ]
  },
  {
   "cell_type": "code",
   "execution_count": null,
   "id": "69c6eed7-d844-4a58-9105-23543b52e0c2",
   "metadata": {},
   "outputs": [],
   "source": []
  },
  {
   "cell_type": "code",
   "execution_count": null,
   "id": "f70f51d8-963a-4e8a-8331-aabd947f7af3",
   "metadata": {},
   "outputs": [],
   "source": []
  }
 ],
 "metadata": {
  "kernelspec": {
   "display_name": "Python 3 (ipykernel)",
   "language": "python",
   "name": "python3"
  },
  "language_info": {
   "codemirror_mode": {
    "name": "ipython",
    "version": 3
   },
   "file_extension": ".py",
   "mimetype": "text/x-python",
   "name": "python",
   "nbconvert_exporter": "python",
   "pygments_lexer": "ipython3",
   "version": "3.9.12"
  }
 },
 "nbformat": 4,
 "nbformat_minor": 5
}
