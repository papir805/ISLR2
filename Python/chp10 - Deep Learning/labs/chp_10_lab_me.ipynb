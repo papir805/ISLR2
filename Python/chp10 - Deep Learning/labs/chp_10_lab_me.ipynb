{
 "cells": [
  {
   "cell_type": "markdown",
   "id": "28a1e227-db22-4c0a-ba4e-ad020b0f102c",
   "metadata": {},
   "source": [
    "# 10.9 Lab: Deep Learning"
   ]
  },
  {
   "cell_type": "code",
   "execution_count": 1,
   "id": "084fb53b-4db1-4b92-a3e5-c276a5121010",
   "metadata": {},
   "outputs": [
    {
     "name": "stderr",
     "output_type": "stream",
     "text": [
      "2023-01-01 21:51:35.433843: I tensorflow/core/platform/cpu_feature_guard.cc:193] This TensorFlow binary is optimized with oneAPI Deep Neural Network Library (oneDNN) to use the following CPU instructions in performance-critical operations:  AVX2 FMA\n",
      "To enable them in other operations, rebuild TensorFlow with the appropriate compiler flags.\n"
     ]
    }
   ],
   "source": [
    "import pandas as pd\n",
    "import numpy as np\n",
    "\n",
    "import rpy2.robjects as robjects\n",
    "from rpy2.robjects.conversion import localconverter\n",
    "from rpy2.robjects import pandas2ri\n",
    "\n",
    "import statsmodels.formula.api as smf\n",
    "import statsmodels.api as sm\n",
    "\n",
    "import patsy\n",
    "\n",
    "import tensorflow as tf\n",
    "import tensorflow.keras as keras\n",
    "from tensorflow.keras import layers\n",
    "\n",
    "import matplotlib.pyplot as plt\n",
    "\n",
    "import os\n",
    "\n",
    "from keras.applications.imagenet_utils import decode_predictions\n",
    "from keras.applications.imagenet_utils import preprocess_input\n",
    "\n",
    "\n",
    "import glmnet_python\n",
    "from glmnet import glmnet; from glmnetPlot import glmnetPlot\n",
    "from glmnetPredict import glmnetPredict\n",
    "\n",
    "from cvglmnet import cvglmnet\n",
    "from cvglmnetPredict import cvglmnetPredict"
   ]
  },
  {
   "cell_type": "markdown",
   "id": "f7b1561e-626b-4eda-a861-47c0226e6452",
   "metadata": {},
   "source": [
    "## 10.9.1 A Single Layer Network on the Hitters Data"
   ]
  },
  {
   "cell_type": "markdown",
   "id": "a895120c-31e0-4818-bf61-33827fde63cc",
   "metadata": {},
   "source": [
    "The lab starts off by reading baseball player data from Hitters.csv and then randomly generating a list of numbers, called testids.  Testids are indices referring to rows in our testing dataset.  This list of numbers will separate the training data from the testing data when creating a model and assessing its performance.\n",
    "\n",
    "In order to reproduce the results from the part of the lab in Python, I need to get the same list of testids in Python.  Unfortunately, there is no easy way to generate them in Python, however I can generate them in R and send them over to Python quite easily by using the [rpy2](https://rpy2.github.io/) module.\n",
    "\n",
    "After I have the testids, I adjust the index of the baseball data to start at 1.  Because R starts indexing at 1, but Python starts at 0, adjusting the indices ensures that I'm using the correct rows that were used in the lab.  Failure to do so would lead to different results."
   ]
  },
  {
   "cell_type": "code",
   "execution_count": 2,
   "id": "46317695-7707-4e42-91ac-73e9b2575fd8",
   "metadata": {},
   "outputs": [],
   "source": [
    "data = robjects.r(\"\"\"\n",
    "library(ISLR2)\n",
    "n <- nrow(na.omit(Hitters))\n",
    "set.seed(13)\n",
    "ntest <- trunc(n / 3)\n",
    "testid <- sample(1:n, ntest)\n",
    "\"\"\")\n",
    "\n",
    "Gitters = pd.read_csv('../../../datasets/Hitters.csv')\n",
    "\n",
    "Gitters = Gitters.dropna()\n",
    "\n",
    "# R starts indexing at 1, Python starts indexing at 0, this is to make sure the indices of the dataframes match\n",
    "\n",
    "\n",
    "Gitters = Gitters.set_index(keys=np.arange(1, len(Gitters) + 1)) \n",
    "\n",
    "testid = np.sort(np.array(data))\n",
    "test_mask = Gitters.index.isin(testid)"
   ]
  },
  {
   "cell_type": "markdown",
   "id": "7f550111-9bd9-4e00-b682-5e77131d31fc",
   "metadata": {},
   "source": [
    "In R, many models can be built using the `forumla=` parameter, which behaves like this:\n",
    "\n",
    "`formula = OutputFeature ~ InputFeature1 + InputFeature 2 + ...`\n",
    "\n",
    "When you want to use all of the features in your dataset to predict/approximate the `OutputFeature`, there's a special syntax that simplies the process, where a `.` can be used to refer to all columns in the dataset that aren't your `OutputFeature`:\n",
    "\n",
    "`formula = OutputFeature ~ .`\n",
    "\n",
    "To fit the model in R, we can use the `lm()` function, but in Python there's the `OLS()` function from the statsmodels library.  Unfortunately, `OLS()` doesn't have the same special syntax to refer to many columns at once and each individual column has to be explcitly typed into `formula=`.\n",
    "\n",
    "To simplify this process, I define a function `formula_from_cols()`, which will build the formulas for me."
   ]
  },
  {
   "cell_type": "code",
   "execution_count": 3,
   "id": "99eff012-0d30-4f13-9968-93b72cf4830e",
   "metadata": {},
   "outputs": [],
   "source": [
    "def formula_from_cols(df, y, use_target, remove_intercept):\n",
    "    formula_string = ' + '.join([col for col in df.columns if not col==y])\n",
    "    if use_target == True:\n",
    "        formula_string = y + ' ~ ' + formula_string\n",
    "    if remove_intercept == True:\n",
    "        formula_string = formula_string + ' - 1'\n",
    "    return formula_string"
   ]
  },
  {
   "cell_type": "code",
   "execution_count": 4,
   "id": "36fde575-9b7e-4d71-b0bf-8706acbc1407",
   "metadata": {},
   "outputs": [
    {
     "data": {
      "text/plain": [
       "254.6686528837497"
      ]
     },
     "execution_count": 4,
     "metadata": {},
     "output_type": "execute_result"
    }
   ],
   "source": [
    "formula_string = formula_from_cols(Gitters, 'Salary', use_target = True, remove_intercept=False)\n",
    "\n",
    "lmodel = smf.ols(formula=formula_string, data = sm.add_constant(Gitters[~test_mask]))\n",
    "\n",
    "lfit = lmodel.fit()\n",
    "\n",
    "lpred = lfit.predict(Gitters[test_mask])\n",
    "\n",
    "np.mean(abs(lpred - Gitters[test_mask]['Salary']))"
   ]
  },
  {
   "cell_type": "markdown",
   "id": "398d5892-7eab-42ec-ac2e-bcb082333b28",
   "metadata": {},
   "source": [
    "Using this linear regression model to predict a baseball player's salary, the mean absolute error (MAE) is the same as the lab from the textbook."
   ]
  },
  {
   "cell_type": "markdown",
   "id": "94c4dcb7-e8db-4241-865c-f12cc09675bd",
   "metadata": {},
   "source": [
    "Next, the lab goes on to fit a lasso regresson model on the same dataset, however the dataset needs some preprocessing beforehand.  In R, the lab uses the `model.matrix()` function to create what's called a [design matrix](https://www.statlect.com/glossary/design-matrix), but in Python we can use the [Patsy](https://patsy.readthedocs.io/en/latest/) library and the `dmatrix()` function.  \n",
    "\n",
    "Among other things, Patsy will take categorical variables, such as `League` or `Division` from the baseball dataset and convert them into dummy variables.  We can also use Patsy to scale the dataset, however we need to set `ddof=1` so that Patsy divides by the square root of the unbiased estimator of the variance as opposed to the maximum likelihood estimate."
   ]
  },
  {
   "cell_type": "code",
   "execution_count": 5,
   "id": "49057207-c5e5-4291-b541-61557f63aa2e",
   "metadata": {},
   "outputs": [],
   "source": [
    "formula_string = formula_from_cols(Gitters, 'Salary', use_target = False, remove_intercept=True)\n",
    "\n",
    "x = patsy.dmatrix(formula_like = 'AtBat + Hits + HmRun + Runs + RBI + Walks + Years + CAtBat + CHits + CHmRun + CRuns + CRBI + CWalks + League + Division + PutOuts + Assists + Errors + NewLeague - 1', data = Gitters)\n",
    "\n",
    "x_scale = patsy.scale(x, ddof=1)\n",
    "\n",
    "y = np.array(Gitters['Salary'])"
   ]
  },
  {
   "cell_type": "code",
   "execution_count": 6,
   "id": "43035dec-63f1-4d66-be0f-e9f76174b704",
   "metadata": {},
   "outputs": [
    {
     "data": {
      "text/plain": [
       "['League[A]',\n",
       " 'League[N]',\n",
       " 'Division[T.W]',\n",
       " 'NewLeague[T.N]',\n",
       " 'AtBat',\n",
       " 'Hits',\n",
       " 'HmRun',\n",
       " 'Runs',\n",
       " 'RBI',\n",
       " 'Walks',\n",
       " 'Years',\n",
       " 'CAtBat',\n",
       " 'CHits',\n",
       " 'CHmRun',\n",
       " 'CRuns',\n",
       " 'CRBI',\n",
       " 'CWalks',\n",
       " 'PutOuts',\n",
       " 'Assists',\n",
       " 'Errors']"
      ]
     },
     "execution_count": 6,
     "metadata": {},
     "output_type": "execute_result"
    }
   ],
   "source": [
    "x.design_info.column_names"
   ]
  },
  {
   "cell_type": "markdown",
   "id": "2915618c-4d5b-4b82-8216-3aef1e502d68",
   "metadata": {},
   "source": [
    "In R, the `glmnet` library can be used to fit the lasso regression model, but in Python, the [glmnet_python](https://glmnet-python.readthedocs.io/en/latest/) library is needed."
   ]
  },
  {
   "cell_type": "code",
   "execution_count": 7,
   "id": "1795bd35-7032-40d1-a1d2-102136463665",
   "metadata": {},
   "outputs": [],
   "source": [
    "X_train = x_scale[~test_mask]\n",
    "X_test = x_scale[test_mask]\n",
    "\n",
    "y_train = Gitters[~test_mask]['Salary']\n",
    "y_test = Gitters[test_mask]['Salary']\n",
    "\n",
    "cvfit = cvglmnet(x = x_scale[~test_mask], y = y[~test_mask], ptype='mae')\n",
    "\n",
    "cpred = cvglmnetPredict(cvfit, newx = x_scale[test_mask], s = 'lambda_min')"
   ]
  },
  {
   "cell_type": "code",
   "execution_count": 8,
   "id": "8d495d49-17aa-4611-98a5-2c9680d7920c",
   "metadata": {},
   "outputs": [
    {
     "data": {
      "text/plain": [
       "427.2936419595149"
      ]
     },
     "execution_count": 8,
     "metadata": {},
     "output_type": "execute_result"
    }
   ],
   "source": [
    "np.mean(abs(y[test_mask] - cpred))"
   ]
  },
  {
   "cell_type": "markdown",
   "id": "7369c9a0-d87a-4023-b8bf-5dd96625615d",
   "metadata": {},
   "source": [
    "I'm getting a much higher MAE than the ISLR textbook does (they get ~253) and I'm not entirely sure why.  As far as I can tell, the inputs, `x_scale` and `y` are the same as in the textbook, however the predictions (`cpred`) are different, leading to a different MAE.  I need to investigate further."
   ]
  },
  {
   "cell_type": "markdown",
   "id": "238e2692-152c-467e-9612-a878ba22b056",
   "metadata": {},
   "source": [
    "Lastly, the lab uses the `keras` library in R to create a neural network to predict Salary from the baseball dataset.  The neural model has one hidden layer with 50 units that activate based on the `relu` activation function, then a dropout layer with a dropout rate of 40%, and finally an output layer with a single output, the predicted salary.\n",
    "\n",
    "The neural network will treat each row of our design matrix as an input vector.  Because the design matrix has 20 columns, each input vectors will have 20 features, one for each column.  Each feature of the input vectors will be fed into the 50 units in the first hidden layer.  The output of this first hidden layer will be either 0 or 1 based on the `relu` function, where an output of 1 means that the neuron \"fired\".  These outputs are then fed into the next layer, the dropout layer, where 40% of the outputs will be excluded and before being fed into the last layer, the output layer."
   ]
  },
  {
   "cell_type": "code",
   "execution_count": 9,
   "id": "d07aa882-4d27-4198-b62e-6312fcb0a91c",
   "metadata": {},
   "outputs": [
    {
     "name": "stderr",
     "output_type": "stream",
     "text": [
      "2023-01-01 21:51:56.730420: I tensorflow/core/platform/cpu_feature_guard.cc:193] This TensorFlow binary is optimized with oneAPI Deep Neural Network Library (oneDNN) to use the following CPU instructions in performance-critical operations:  AVX2 FMA\n",
      "To enable them in other operations, rebuild TensorFlow with the appropriate compiler flags.\n"
     ]
    }
   ],
   "source": [
    "modnn = keras.Sequential(\n",
    "    [\n",
    "            layers.Dense(units = 50, activation='relu'),\n",
    "            layers.Dropout(rate=0.4),\n",
    "            layers.Dense(units=1)\n",
    "    ]\n",
    ")"
   ]
  },
  {
   "cell_type": "markdown",
   "id": "4a6e6fc7-a147-4cc3-b443-df93704e036f",
   "metadata": {},
   "source": [
    "After defining the neural network model, we compile and fit it to our dataset, then view the model's performance over time.\n",
    "\n",
    "When compiling the model, we define loss as mean squared error (MSE), which is what the neural network will try to minimize during the training process.  By defining extra metrics, such as MAE, the model will also keep track of the MAE during the training process.  Because the model is trying to predict salary, both MSE and MAE make sense to track the model's performance, however we'll see different metrics are needed later when trying to solve classification problems."
   ]
  },
  {
   "cell_type": "code",
   "execution_count": 10,
   "id": "b7bcb6a1-691a-4995-bcf3-c72a4a9c63dd",
   "metadata": {},
   "outputs": [],
   "source": [
    "modnn.compile(\n",
    "    loss=tf.keras.losses.MeanSquaredError(), \n",
    "    optimizer='rmsprop', \n",
    "    metrics=tf.keras.losses.MeanAbsoluteError()\n",
    ")"
   ]
  },
  {
   "cell_type": "code",
   "execution_count": 11,
   "id": "9104eaac-4f73-4b7c-a66d-7bcdb185351a",
   "metadata": {
    "tags": []
   },
   "outputs": [],
   "source": [
    "history = modnn.fit(X_train, \n",
    "                    y_train, \n",
    "                    epochs=1500, \n",
    "                    batch_size=32, \n",
    "                    validation_data=(X_test, y_test),\n",
    "                    verbose=0)"
   ]
  },
  {
   "cell_type": "code",
   "execution_count": 12,
   "id": "27a6f9da-731d-4370-b487-d626fccf14ba",
   "metadata": {},
   "outputs": [
    {
     "data": {
      "image/png": "[encoded data removed]",
      "text/plain": [
       "<Figure size 576x432 with 2 Axes>"
      ]
     },
     "metadata": {
      "needs_background": "light"
     },
     "output_type": "display_data"
    }
   ],
   "source": [
    "fig, ax = plt.subplots(2, 1, sharex = True, figsize=(8,6))\n",
    "\n",
    "ax[0].plot(history.history['loss'])\n",
    "ax[0].plot(history.history['val_loss'])\n",
    "ax[0].set_title('model loss')\n",
    "ax[0].set_ylabel('loss')\n",
    "ax[0].set_xlabel('epoch')\n",
    "ax[0].legend(['Train', 'Validation'])\n",
    "\n",
    "ax[1].plot(history.history['mean_absolute_error'])\n",
    "ax[1].plot(history.history['val_mean_absolute_error'])\n",
    "ax[1].set_title('model mean_abs_error')\n",
    "ax[1].set_ylabel('mean_abs_error')\n",
    "ax[1].set_xlabel('epoch')\n",
    "ax[1].legend(['Train', 'Validation'])\n",
    "\n",
    "plt.tight_layout();"
   ]
  },
  {
   "cell_type": "code",
   "execution_count": 13,
   "id": "edf426e0-9ccc-4d6b-803f-19cdeba52f5d",
   "metadata": {},
   "outputs": [
    {
     "name": "stdout",
     "output_type": "stream",
     "text": [
      "3/3 [==============================] - 0s 1ms/step\n"
     ]
    }
   ],
   "source": [
    "npred = modnn.predict(X_test)"
   ]
  },
  {
   "cell_type": "code",
   "execution_count": 14,
   "id": "5e93af7b-1486-4b6e-8b7d-58c5a6c73a3b",
   "metadata": {
    "tags": []
   },
   "outputs": [
    {
     "data": {
      "text/plain": [
       "252.02255198020498"
      ]
     },
     "execution_count": 14,
     "metadata": {},
     "output_type": "execute_result"
    }
   ],
   "source": [
    "np.mean(abs(y_test - npred.flatten()))"
   ]
  },
  {
   "cell_type": "markdown",
   "id": "28b3a8c6-6eb4-4a3f-a7c3-30733fde7e41",
   "metadata": {},
   "source": [
    "The graph above shows that after about 800 training epochs, the validation MAE settles down and remains constant roughly at 250.  This is close to what the book gets (they get 257.43) and is close to what our linear regression model in the first part of this lab got (254.6687).  \n",
    "\n",
    "Because the dropout layer drops at random, I don't think it's possible to reproduce the results from the lab in R exactly, however the MAE is close enough and the plots above are quite similar to the plots in R, such that I'm confident I've reproduced the lab's results as much as possible."
   ]
  },
  {
   "cell_type": "markdown",
   "id": "e35bc4df-bd9b-4e59-87b7-a6841e6ecd2c",
   "metadata": {},
   "source": [
    "## 10.9.2 A Multilayer Network on the MNIST Digit Data"
   ]
  },
  {
   "cell_type": "markdown",
   "id": "ec27572e-69dd-4c4b-95af-a9ba85197505",
   "metadata": {},
   "source": [
    "This lab demonstrates the ability of a neural network to recognize and classify digits 0-9 from pictures of hand written digits.  The mnist dataset, which can be found in the `keras` library contains many such images and is first loaded into a training and testing dataset"
   ]
  },
  {
   "cell_type": "code",
   "execution_count": 15,
   "id": "3228b5ec-6558-4ebe-8d6d-920ba0274264",
   "metadata": {},
   "outputs": [],
   "source": [
    "(x_train, g_train), (x_test, g_test) = keras.datasets.mnist.load_data()"
   ]
  },
  {
   "cell_type": "code",
   "execution_count": 16,
   "id": "acb73f94-0203-4b59-bf89-00e172a15e20",
   "metadata": {},
   "outputs": [
    {
     "data": {
      "text/plain": [
       "(60000, 28, 28)"
      ]
     },
     "execution_count": 16,
     "metadata": {},
     "output_type": "execute_result"
    }
   ],
   "source": [
    "x_train.shape"
   ]
  },
  {
   "cell_type": "code",
   "execution_count": 17,
   "id": "c88c5b5a-e0b0-482c-8b0d-7bff56eaa320",
   "metadata": {},
   "outputs": [
    {
     "data": {
      "text/plain": [
       "(10000, 28, 28)"
      ]
     },
     "execution_count": 17,
     "metadata": {},
     "output_type": "execute_result"
    }
   ],
   "source": [
    "x_test.shape"
   ]
  },
  {
   "cell_type": "code",
   "execution_count": 18,
   "id": "ccb49e60-5647-4997-8eed-7fa5c4fbc6f5",
   "metadata": {},
   "outputs": [],
   "source": [
    "x_train = np.reshape(x_train, newshape=(x_train.shape[0], 784))\n",
    "x_test = np.reshape(x_test, newshape=(x_test.shape[0], 784))\n",
    "\n",
    "y_train = keras.utils.to_categorical(g_train, num_classes=10)\n",
    "y_test = keras.utils.to_categorical(g_test, num_classes=10)"
   ]
  },
  {
   "cell_type": "markdown",
   "id": "cdaed175-27b7-40e8-83a1-05ab25e35017",
   "metadata": {},
   "source": [
    "The lab describes how neural networks are sensitive to the scale of the inputs.  Since our dataset consists of grayscale images, each pixel in the image will have a value between 0 and 255.  Because our minimum value is 0, dividing by 255 will scale all values down such that they are now between 0 and 1, which is equivalent to what's known as [Min-Max scaling](https://en.wikipedia.org/wiki/Feature_scaling#Rescaling_(min-max_normalization)).\n",
    "\n",
    "$$x_\\text{new} = \\frac{x_\\text{old}-min(x)}{max(x)-min(x)}$$\n",
    "\n",
    "$$x_\\text{new} = \\frac{x_\\text{old}-0}{255-0}$$\n",
    "\n",
    "$$x_\\text{new} = \\frac{x_\\text{old}}{255}$$"
   ]
  },
  {
   "cell_type": "code",
   "execution_count": 19,
   "id": "fbe2da79-1fd1-42f3-a014-3632a404757c",
   "metadata": {},
   "outputs": [],
   "source": [
    "x_train = x_train / 255\n",
    "x_test = x_test / 255"
   ]
  },
  {
   "cell_type": "markdown",
   "id": "f84eda63-4350-40ef-9fd0-704fbd423c9c",
   "metadata": {},
   "source": [
    "The neural network in this lab increases in complexity by adding a second hidden layer.  \n",
    "\n",
    "Each feature of an input vector will first be fed into each of the 256 neurons in the first hidden layer, where 40% of the outputs will be dropped, before feeding the remainder into each of the 128 neurons in the second hidden layer.  Finally, 30% of the outputs from the second hidden layer will be dropped before being passed to the 10 units in the final output layer.\n",
    "\n",
    "The output layer uses the 'softmax' activation function, which will compute the probability for each of the 10 units in the output layer, which will correspond to the probability of each digit 0-9 being written in a given picture."
   ]
  },
  {
   "cell_type": "code",
   "execution_count": 20,
   "id": "9cdbe26b-01a5-43b5-9190-541cae97938f",
   "metadata": {},
   "outputs": [],
   "source": [
    "modelnn = keras.Sequential(\n",
    "    [\n",
    "            layers.Dense(units=256, activation='relu'),\n",
    "            layers.Dropout(rate=0.4),\n",
    "            layers.Dense(units=128, activation='relu'),\n",
    "            layers.Dropout(rate=0.3),\n",
    "            layers.Dense(units=10, activation='softmax')\n",
    "    ]\n",
    ")"
   ]
  },
  {
   "cell_type": "markdown",
   "id": "01aa36d0-a91b-4a6e-b59c-6a45db4fece9",
   "metadata": {},
   "source": [
    "In this example, the model is trying to solve a classification problem with 10 potential categories to predict.  \n",
    "\n",
    "Minimizing MSE doesn't make sense anymore and `categorical_crossentropy` should be used as the loss function that the model will try to minimize instead.  Accuracy will also be tracked during the training process, as MAE also doesn't make sense for a classification problem."
   ]
  },
  {
   "cell_type": "code",
   "execution_count": 21,
   "id": "49642772-cc44-4ec2-aea5-ae2a6d98e238",
   "metadata": {},
   "outputs": [],
   "source": [
    "modelnn.compile(\n",
    "    loss='categorical_crossentropy', \n",
    "    optimizer='rmsprop', \n",
    "    metrics='accuracy'\n",
    ")"
   ]
  },
  {
   "cell_type": "code",
   "execution_count": 22,
   "id": "f1475b56-2923-4742-8160-671b8127be2f",
   "metadata": {
    "tags": []
   },
   "outputs": [],
   "source": [
    "history = modelnn.fit(x_train, \n",
    "                      y_train, \n",
    "                      epochs=30, \n",
    "                      batch_size=128, \n",
    "                      validation_split=0.2,\n",
    "                      verbose=0)"
   ]
  },
  {
   "cell_type": "code",
   "execution_count": 23,
   "id": "15792b3b-0306-4aaa-ab78-ee2fa3cce992",
   "metadata": {},
   "outputs": [
    {
     "name": "stdout",
     "output_type": "stream",
     "text": [
      "Model: \"sequential_1\"\n",
      "_________________________________________________________________\n",
      " Layer (type)                Output Shape              Param #   \n",
      "=================================================================\n",
      " dense_2 (Dense)             (None, 256)               200960    \n",
      "                                                                 \n",
      " dropout_1 (Dropout)         (None, 256)               0         \n",
      "                                                                 \n",
      " dense_3 (Dense)             (None, 128)               32896     \n",
      "                                                                 \n",
      " dropout_2 (Dropout)         (None, 128)               0         \n",
      "                                                                 \n",
      " dense_4 (Dense)             (None, 10)                1290      \n",
      "                                                                 \n",
      "=================================================================\n",
      "Total params: 235,146\n",
      "Trainable params: 235,146\n",
      "Non-trainable params: 0\n",
      "_________________________________________________________________\n"
     ]
    }
   ],
   "source": [
    "modelnn.summary()"
   ]
  },
  {
   "cell_type": "code",
   "execution_count": 24,
   "id": "a3831aec-b7e4-4cd4-bebf-f004a1844258",
   "metadata": {},
   "outputs": [
    {
     "data": {
      "image/png": "[encoded data removed]",
      "text/plain": [
       "<Figure size 576x432 with 2 Axes>"
      ]
     },
     "metadata": {
      "needs_background": "light"
     },
     "output_type": "display_data"
    }
   ],
   "source": [
    "fig, ax = plt.subplots(2, 1, sharex = True, figsize=(8,6))\n",
    "\n",
    "ax[0].plot(history.history['loss'])\n",
    "ax[0].plot(history.history['val_loss'])\n",
    "ax[0].set_title('model loss')\n",
    "ax[0].set_ylabel('loss')\n",
    "ax[0].set_xlabel('epoch')\n",
    "ax[0].legend(['Train', 'Validation'])\n",
    "\n",
    "ax[1].plot(history.history['accuracy'])\n",
    "ax[1].plot(history.history['val_accuracy'])\n",
    "ax[1].set_title('model accuracy')\n",
    "ax[1].set_ylabel('accuracy')\n",
    "ax[1].set_xlabel('epoch')\n",
    "ax[1].legend(['Train', 'Validation'])\n",
    "\n",
    "plt.tight_layout();"
   ]
  },
  {
   "cell_type": "markdown",
   "id": "28829e3e-c6f6-498a-bcd7-b346209c7009",
   "metadata": {},
   "source": [
    "The `softmax` activation function will output the probability of each of the 10 digits being written in the photo, like so:\n",
    "    \n",
    "`[prob_of_digit_0, prob_of_digit_1, ..., prob_of_digit9]`\n",
    "\n",
    "Using these probabilities, we can base the prediction on which digit has the highest probability.\n",
    "\n",
    "The `np.argmax()` function with `axis=1` will return the index of the maximum value (probability) in each row.  Since NumPy arrays begin indexing at 0, the index of the row will correspond to digit with the highest probability, the one that we want to use as the prediction."
   ]
  },
  {
   "cell_type": "code",
   "execution_count": 25,
   "id": "94f1f462-d2b8-4dae-b2b4-f56f1cedaa58",
   "metadata": {},
   "outputs": [
    {
     "name": "stdout",
     "output_type": "stream",
     "text": [
      "313/313 [==============================] - 0s 1ms/step\n"
     ]
    }
   ],
   "source": [
    "y_proba = modelnn.predict(x_test)\n",
    "y_pred_classes = np.argmax(y_proba, axis=1)"
   ]
  },
  {
   "cell_type": "code",
   "execution_count": 26,
   "id": "60d92423-fa0d-412f-95ba-ab289977e6ca",
   "metadata": {},
   "outputs": [
    {
     "data": {
      "text/plain": [
       "array([7, 2, 1, ..., 4, 5, 6])"
      ]
     },
     "execution_count": 26,
     "metadata": {},
     "output_type": "execute_result"
    }
   ],
   "source": [
    "y_pred_classes"
   ]
  },
  {
   "cell_type": "code",
   "execution_count": 27,
   "id": "08a949a3-74f8-423b-8f5e-2928c8032606",
   "metadata": {},
   "outputs": [
    {
     "data": {
      "text/plain": [
       "0.9829"
      ]
     },
     "execution_count": 27,
     "metadata": {},
     "output_type": "execute_result"
    }
   ],
   "source": [
    "modelnn_acc = np.mean(y_pred_classes == g_test)\n",
    "modelnn_acc"
   ]
  },
  {
   "cell_type": "markdown",
   "id": "876419ff-8559-4802-bfba-9d87637fcfb1",
   "metadata": {},
   "source": [
    "The neural network does well with 98% accuracy, close to the accuracy from the textbook (0.9813).  Again, because the dropout layers drop randomly, I don't think it's possible to recreate the results from the lab exactly, but these are very close."
   ]
  },
  {
   "cell_type": "markdown",
   "id": "25367f20-9fe2-48c4-aba1-ffecf7af9c84",
   "metadata": {},
   "source": [
    "### Multiclass Logistic Regression"
   ]
  },
  {
   "cell_type": "markdown",
   "id": "b21df666-944c-4cd3-84f1-e237e2e78db8",
   "metadata": {},
   "source": [
    "This part of the lab shows how `keras` can perform multiclass logistic regression.  The lab mentions that `glmnet` library, which was used in lab 10.9.1, can also perform multiclass logistic regression, `keras` does it more quickly.  \n",
    "\n",
    "When constructing the `keras` model there is just a single output layer with 10, which uses the `softmax` activation function, similar to before."
   ]
  },
  {
   "cell_type": "code",
   "execution_count": 28,
   "id": "cdb75123-2a2a-4bb6-af4c-13dde9129195",
   "metadata": {},
   "outputs": [],
   "source": [
    "modellr = keras.models.Sequential(\n",
    "    [\n",
    "            layers.Dense(units=10, activation='softmax')\n",
    "    ]\n",
    ")"
   ]
  },
  {
   "cell_type": "markdown",
   "id": "2170c535-ed5a-468c-bf58-26c565276d5e",
   "metadata": {},
   "source": [
    "Same as before, the model is trying to solve a classification problem with 10 potential classes to predict.  The model will try to minimize `categorical_crossentropy` as its loss function."
   ]
  },
  {
   "cell_type": "code",
   "execution_count": 29,
   "id": "47837509-8f1c-422b-8e4c-2d11f21932c1",
   "metadata": {},
   "outputs": [],
   "source": [
    "modellr.compile(\n",
    "    loss='categorical_crossentropy', \n",
    "    optimizer='rmsprop', \n",
    "    metrics='accuracy')"
   ]
  },
  {
   "cell_type": "code",
   "execution_count": 30,
   "id": "96c727a0-38df-4003-a628-b73831d465fd",
   "metadata": {},
   "outputs": [],
   "source": [
    "history = modellr.fit(x_train, \n",
    "            y_train, \n",
    "            epochs=30, \n",
    "            batch_size=128, \n",
    "            validation_split=0.2,\n",
    "            verbose=0)"
   ]
  },
  {
   "cell_type": "code",
   "execution_count": 31,
   "id": "924e07b9-8fa1-4826-b10c-c621de172226",
   "metadata": {},
   "outputs": [
    {
     "data": {
      "image/png": "[encoded data removed]",
      "text/plain": [
       "<Figure size 576x432 with 2 Axes>"
      ]
     },
     "metadata": {
      "needs_background": "light"
     },
     "output_type": "display_data"
    }
   ],
   "source": [
    "fig, ax = plt.subplots(2, 1, sharex = True, figsize=(8,6))\n",
    "\n",
    "ax[0].plot(history.history['loss'])\n",
    "ax[0].plot(history.history['val_loss'])\n",
    "ax[0].set_title('model loss')\n",
    "ax[0].set_ylabel('loss')\n",
    "ax[0].set_xlabel('epoch')\n",
    "ax[0].legend(['Train', 'Validation'])\n",
    "\n",
    "ax[1].plot(history.history['accuracy'])\n",
    "ax[1].plot(history.history['val_accuracy'])\n",
    "ax[1].set_title('model accuracy')\n",
    "ax[1].set_ylabel('accuracy')\n",
    "ax[1].set_xlabel('epoch')\n",
    "ax[1].legend(['Train', 'Validation'])\n",
    "\n",
    "plt.tight_layout();"
   ]
  },
  {
   "cell_type": "markdown",
   "id": "bc9776bf-e25d-49c2-ac1b-3f974b118293",
   "metadata": {},
   "source": [
    "The `np.argmax()` function needs to be used again to determine which digit has the highest probability, in order to make the prediction,"
   ]
  },
  {
   "cell_type": "code",
   "execution_count": 32,
   "id": "e36bb462-9b82-40c0-a41d-dcf424e39f64",
   "metadata": {},
   "outputs": [
    {
     "name": "stdout",
     "output_type": "stream",
     "text": [
      "313/313 [==============================] - 0s 946us/step\n"
     ]
    }
   ],
   "source": [
    "y_proba = modellr.predict(x_test)\n",
    "y_pred_classes = np.argmax(y_proba, axis=1)"
   ]
  },
  {
   "cell_type": "code",
   "execution_count": 33,
   "id": "ea19b6bc-6fa7-4ddd-a620-1cf787fa4a5a",
   "metadata": {},
   "outputs": [
    {
     "data": {
      "text/plain": [
       "0.9275"
      ]
     },
     "execution_count": 33,
     "metadata": {},
     "output_type": "execute_result"
    }
   ],
   "source": [
    "modellr_acc = np.mean(y_pred_classes == g_test)\n",
    "modellr_acc"
   ]
  },
  {
   "cell_type": "markdown",
   "id": "59f85e6a-67e0-4b21-abee-c71dac9ab9d4",
   "metadata": {},
   "source": [
    "The accuracy for this logistic regression model is quite close to what was found in the lab (0.9286).  It's a little lower when compared to ~98% in the neural network, but the model is far simpler and if interpretability matters, would be way easier to interpret."
   ]
  },
  {
   "cell_type": "markdown",
   "id": "68caeebf-16cb-4245-be81-b237394f68f8",
   "metadata": {},
   "source": [
    "## 10.9.3 Convolutional Neural Networks"
   ]
  },
  {
   "cell_type": "markdown",
   "id": "93de3b94-465e-445c-86b5-a4c963a0e648",
   "metadata": {},
   "source": [
    "This next lab focuses on a special kind of neural network known as Convolutional Neural Networks (CNN).  According to the text, CNNs recognize specific patterns in an image and use these patterns to make a classification.  \n",
    "\n",
    "The CNN will start by recognizing what are called low-level features, which include edges of shapes, patches of color, etc., which are combined to make distinct higher-level features that distinguish objects in a photo, such as the wheels or headlights of a car, or the eyes and nose in of a person's face.  By learning these higher-level features, the model can make better classifications based on what features it detects in a photo and what features are missing.\n",
    "\n",
    "For instance, if you zoomed into a photo such that you could only see a round object, such as the headlights of a car or the eye of a human, it would be hard for the CNN to tell whether the the photo was of a car or a person, and might assign equal probabilities to both.  However, if you zoomed out to reveal more of the photo and the CNN detected the presence of other features, such as a nose, it would assign a higher probability to the photo being a person as opposed to being a car.  Essentially, the CNN uses the greater context of a photo to make up its mind."
   ]
  },
  {
   "cell_type": "code",
   "execution_count": 34,
   "id": "43ecccce-6756-4ef0-9422-5e29d8821678",
   "metadata": {},
   "outputs": [
    {
     "data": {
      "text/plain": [
       "(50000, 32, 32, 3)"
      ]
     },
     "execution_count": 34,
     "metadata": {},
     "output_type": "execute_result"
    }
   ],
   "source": [
    "(x_train, g_train), (x_test, g_test) = keras.datasets.cifar100.load_data()\n",
    "\n",
    "x_train.shape"
   ]
  },
  {
   "cell_type": "code",
   "execution_count": 35,
   "id": "9c3d6f65-894f-4b1a-8b1f-057b043169a8",
   "metadata": {},
   "outputs": [
    {
     "data": {
      "text/plain": [
       "(13, 255)"
      ]
     },
     "execution_count": 35,
     "metadata": {},
     "output_type": "execute_result"
    }
   ],
   "source": [
    "x_train[0, :, :, 0].min(), x_train[0, :, :, 0].max()"
   ]
  },
  {
   "cell_type": "code",
   "execution_count": 36,
   "id": "a3a5819c-71d3-4574-9f81-63e7b1fb51c7",
   "metadata": {},
   "outputs": [
    {
     "data": {
      "text/plain": [
       "(50000, 100)"
      ]
     },
     "execution_count": 36,
     "metadata": {},
     "output_type": "execute_result"
    }
   ],
   "source": [
    "x_train = x_train / 255\n",
    "x_test = x_test / 255\n",
    "y_train = keras.utils.to_categorical(g_train, num_classes=100)\n",
    "\n",
    "y_train.shape"
   ]
  },
  {
   "cell_type": "markdown",
   "id": "829e9625-3f4b-45fe-b5fa-9a2649f084a5",
   "metadata": {},
   "source": [
    "The lab displays a random set of 25 pictures from the dataset, however I was unsure how to display images in Python, so I borrowed some code from: https://www.binarystudy.com/2021/09/how-to-load-preprocess-visualize-CIFAR-10-and-CIFAR-100.html#cifar100-single."
   ]
  },
  {
   "cell_type": "code",
   "execution_count": 37,
   "id": "be0ea3bd-aae7-43a0-ab91-6f355fa39a05",
   "metadata": {},
   "outputs": [
    {
     "data": {
      "image/png": "[encoded data removed]",
      "text/plain": [
       "<Figure size 576x720 with 25 Axes>"
      ]
     },
     "metadata": {},
     "output_type": "display_data"
    }
   ],
   "source": [
    "rows, columns = 5,5\n",
    "rand_idx = np.random.randint(0, 50000, rows * columns)\n",
    "rand_images = x_train[rand_idx]\n",
    "fig = plt.figure(figsize=(8,10))\n",
    "for i in range(1, columns * rows + 1):\n",
    "    fig.add_subplot(rows, columns, i)\n",
    "    plt.imshow(rand_images[i-1])\n",
    "    plt.xticks([])\n",
    "    plt.yticks([])\n",
    "plt.tight_layout()\n",
    "plt.show()"
   ]
  },
  {
   "cell_type": "markdown",
   "id": "60ae50e9-c48e-40d2-874e-667ff92a2609",
   "metadata": {},
   "source": [
    "The complexity of this model increases significantly, using two new types of layers, `Conv2D` and `MaxPooling2d`.  Both of these types of layers are fairly complicated and would be important if working on image classification.  \n",
    "\n",
    "These topics don't come up much for me and I don't feel it's important to understand well how they work at the moment, but I'll provide a brief summary their purpose:\n",
    "- A convolution layer distorts an image in such a way that the convolved image hightlights sections of the image that are similar to convolution filter.  For instance, a convolution filter might be one of a circle.  The convolved image would hightlight areas of the image that are circular.\n",
    "- A pooling layer condenses large images into smaller images.  Certain sections of the data are dropped and the rest is pooled back together.  Because data is lost in the process, the smaller image acts as a summary of the original. A max pooling layer keeps data that is the maximum within a given section of the data, dropping the remaining smaller values."
   ]
  },
  {
   "cell_type": "code",
   "execution_count": 38,
   "id": "5521b619-4a03-4332-be4b-548807f87aeb",
   "metadata": {},
   "outputs": [],
   "source": [
    "model = keras.models.Sequential(\n",
    "    [\n",
    "        layers.Conv2D(filters=32, kernel_size=(3,3),\n",
    "                     padding='same', activation='relu'),\n",
    "        layers.MaxPooling2D(pool_size=(2,2)),\n",
    "        layers.Conv2D(filters=64, kernel_size=(3,3),\n",
    "                     padding='same', activation='relu'),\n",
    "        layers.MaxPooling2D(pool_size=(2,2)),\n",
    "        layers.Conv2D(filters=128, kernel_size=(3,3),\n",
    "                     padding='same', activation='relu'),\n",
    "        layers.MaxPooling2D(pool_size=(2,2)),\n",
    "        layers.Conv2D(filters=256, kernel_size=(3,3),\n",
    "                     padding='same', activation='relu'),\n",
    "        layers.MaxPool2D(pool_size=(2,2)),\n",
    "        layers.Flatten(),\n",
    "        layers.Dropout(rate=0.5),\n",
    "        layers.Dense(units=512, activation='relu'),\n",
    "        layers.Dense(units=100, activation='softmax')\n",
    "    ]\n",
    ")"
   ]
  },
  {
   "cell_type": "code",
   "execution_count": 39,
   "id": "c513ed85-bc68-47c6-a97a-2afe515b4f56",
   "metadata": {},
   "outputs": [
    {
     "name": "stdout",
     "output_type": "stream",
     "text": [
      "Model: \"sequential_3\"\n",
      "_________________________________________________________________\n",
      " Layer (type)                Output Shape              Param #   \n",
      "=================================================================\n",
      " conv2d (Conv2D)             (None, 32, 32, 32)        896       \n",
      "                                                                 \n",
      " max_pooling2d (MaxPooling2D  (None, 16, 16, 32)       0         \n",
      " )                                                               \n",
      "                                                                 \n",
      " conv2d_1 (Conv2D)           (None, 16, 16, 64)        18496     \n",
      "                                                                 \n",
      " max_pooling2d_1 (MaxPooling  (None, 8, 8, 64)         0         \n",
      " 2D)                                                             \n",
      "                                                                 \n",
      " conv2d_2 (Conv2D)           (None, 8, 8, 128)         73856     \n",
      "                                                                 \n",
      " max_pooling2d_2 (MaxPooling  (None, 4, 4, 128)        0         \n",
      " 2D)                                                             \n",
      "                                                                 \n",
      " conv2d_3 (Conv2D)           (None, 4, 4, 256)         295168    \n",
      "                                                                 \n",
      " max_pooling2d_3 (MaxPooling  (None, 2, 2, 256)        0         \n",
      " 2D)                                                             \n",
      "                                                                 \n",
      " flatten (Flatten)           (None, 1024)              0         \n",
      "                                                                 \n",
      " dropout_3 (Dropout)         (None, 1024)              0         \n",
      "                                                                 \n",
      " dense_6 (Dense)             (None, 512)               524800    \n",
      "                                                                 \n",
      " dense_7 (Dense)             (None, 100)               51300     \n",
      "                                                                 \n",
      "=================================================================\n",
      "Total params: 964,516\n",
      "Trainable params: 964,516\n",
      "Non-trainable params: 0\n",
      "_________________________________________________________________\n"
     ]
    }
   ],
   "source": [
    "model.compile(\n",
    "    loss='categorical_crossentropy', \n",
    "    optimizer='rmsprop', \n",
    "    metrics='accuracy'\n",
    ")\n",
    "\n",
    "history = model.fit(x_train, \n",
    "                    y_train, \n",
    "                    epochs=30, \n",
    "                    batch_size=128, \n",
    "                    validation_split=0.2,\n",
    "                    verbose=0)\n",
    "\n",
    "model.summary()"
   ]
  },
  {
   "cell_type": "code",
   "execution_count": 40,
   "id": "5ce1c9e4-5df6-49de-9e14-5b320fe9818b",
   "metadata": {},
   "outputs": [
    {
     "name": "stdout",
     "output_type": "stream",
     "text": [
      "313/313 [==============================] - 4s 11ms/step\n"
     ]
    },
    {
     "data": {
      "text/plain": [
       "0.4526"
      ]
     },
     "execution_count": 40,
     "metadata": {},
     "output_type": "execute_result"
    }
   ],
   "source": [
    "y_proba = model.predict(x_test)\n",
    "y_pred_classes = np.argmax(y_proba, axis=-1)\n",
    "\n",
    "np.mean(y_pred_classes == g_test.flatten())"
   ]
  },
  {
   "cell_type": "markdown",
   "id": "6e4d1159-0e16-4fb4-aabd-d01b4b4f0eed",
   "metadata": {},
   "source": [
    "The test accuracy is ~44%, close to 0.4561, which was found in the lab."
   ]
  },
  {
   "cell_type": "markdown",
   "id": "155cb72d-6c9e-456c-9e82-417c801006c6",
   "metadata": {},
   "source": [
    "## 10.9.4 Using Pretrained CNN Models"
   ]
  },
  {
   "cell_type": "markdown",
   "id": "30b949a2-3630-457a-84b3-c3527676f0df",
   "metadata": {},
   "source": [
    "This part of the lab focuses on using a pretrained CNN model called `resnet50`, which was trained on a data base of natural images called `imagenet`.  Because `reset50` is already trained, we can immediately use it to make predictions. \n",
    "\n",
    "The book provides several images to feed to the model, however they need some preprocessing done first.  `keras` has some built in built in helper functions that perform the necessary preprocessing.\n",
    "\n",
    "I found help with understanding how to use the `keras` preprocessing helper functions here: https://pyimagesearch.com/2016/08/10/imagenet-classification-with-python-and-keras/"
   ]
  },
  {
   "cell_type": "code",
   "execution_count": 41,
   "id": "5b15aaf7-f39d-4a22-a6b3-5416ee4825be",
   "metadata": {},
   "outputs": [],
   "source": [
    "img_dir = './book_images'\n",
    "\n",
    "image_names = os.listdir(img_dir)\n",
    "\n",
    "num_images = len(image_names)\n",
    "\n",
    "x = []\n",
    "for img_name in image_names:\n",
    "    if not img_name.startswith('.'):\n",
    "        img_path = img_dir + '/' + img_name\n",
    "        img = keras.preprocessing.image.load_img(img_path, target_size=(224, 224))\n",
    "        x.append(keras.preprocessing.image.img_to_array(img))\n",
    "\n",
    "x = np.array(x)\n",
    "\n",
    "x = preprocess_input(x)"
   ]
  },
  {
   "cell_type": "markdown",
   "id": "ea2266e0-1457-45ab-949d-332baf65e9d2",
   "metadata": {},
   "source": [
    "Below is a summary of `resnet50`, showing the many, many layers that make up the neural network.  This model would be far too complicated to produce. onyour own, but because it's been tweaked and curated over time, it should perform well."
   ]
  },
  {
   "cell_type": "code",
   "execution_count": 42,
   "id": "64b55b05-0ba5-423e-b55b-565cc06b2d42",
   "metadata": {
    "tags": []
   },
   "outputs": [
    {
     "name": "stdout",
     "output_type": "stream",
     "text": [
      "Model: \"resnet50\"\n",
      "__________________________________________________________________________________________________\n",
      " Layer (type)                   Output Shape         Param #     Connected to                     \n",
      "==================================================================================================\n",
      " input_1 (InputLayer)           [(None, 224, 224, 3  0           []                               \n",
      "                                )]                                                                \n",
      "                                                                                                  \n",
      " conv1_pad (ZeroPadding2D)      (None, 230, 230, 3)  0           ['input_1[0][0]']                \n",
      "                                                                                                  \n",
      " conv1_conv (Conv2D)            (None, 112, 112, 64  9472        ['conv1_pad[0][0]']              \n",
      "                                )                                                                 \n",
      "                                                                                                  \n",
      " conv1_bn (BatchNormalization)  (None, 112, 112, 64  256         ['conv1_conv[0][0]']             \n",
      "                                )                                                                 \n",
      "                                                                                                  \n",
      " conv1_relu (Activation)        (None, 112, 112, 64  0           ['conv1_bn[0][0]']               \n",
      "                                )                                                                 \n",
      "                                                                                                  \n",
      " pool1_pad (ZeroPadding2D)      (None, 114, 114, 64  0           ['conv1_relu[0][0]']             \n",
      "                                )                                                                 \n",
      "                                                                                                  \n",
      " pool1_pool (MaxPooling2D)      (None, 56, 56, 64)   0           ['pool1_pad[0][0]']              \n",
      "                                                                                                  \n",
      " conv2_block1_1_conv (Conv2D)   (None, 56, 56, 64)   4160        ['pool1_pool[0][0]']             \n",
      "                                                                                                  \n",
      " conv2_block1_1_bn (BatchNormal  (None, 56, 56, 64)  256         ['conv2_block1_1_conv[0][0]']    \n",
      " ization)                                                                                         \n",
      "                                                                                                  \n",
      " conv2_block1_1_relu (Activatio  (None, 56, 56, 64)  0           ['conv2_block1_1_bn[0][0]']      \n",
      " n)                                                                                               \n",
      "                                                                                                  \n",
      " conv2_block1_2_conv (Conv2D)   (None, 56, 56, 64)   36928       ['conv2_block1_1_relu[0][0]']    \n",
      "                                                                                                  \n",
      " conv2_block1_2_bn (BatchNormal  (None, 56, 56, 64)  256         ['conv2_block1_2_conv[0][0]']    \n",
      " ization)                                                                                         \n",
      "                                                                                                  \n",
      " conv2_block1_2_relu (Activatio  (None, 56, 56, 64)  0           ['conv2_block1_2_bn[0][0]']      \n",
      " n)                                                                                               \n",
      "                                                                                                  \n",
      " conv2_block1_0_conv (Conv2D)   (None, 56, 56, 256)  16640       ['pool1_pool[0][0]']             \n",
      "                                                                                                  \n",
      " conv2_block1_3_conv (Conv2D)   (None, 56, 56, 256)  16640       ['conv2_block1_2_relu[0][0]']    \n",
      "                                                                                                  \n",
      " conv2_block1_0_bn (BatchNormal  (None, 56, 56, 256)  1024       ['conv2_block1_0_conv[0][0]']    \n",
      " ization)                                                                                         \n",
      "                                                                                                  \n",
      " conv2_block1_3_bn (BatchNormal  (None, 56, 56, 256)  1024       ['conv2_block1_3_conv[0][0]']    \n",
      " ization)                                                                                         \n",
      "                                                                                                  \n",
      " conv2_block1_add (Add)         (None, 56, 56, 256)  0           ['conv2_block1_0_bn[0][0]',      \n",
      "                                                                  'conv2_block1_3_bn[0][0]']      \n",
      "                                                                                                  \n",
      " conv2_block1_out (Activation)  (None, 56, 56, 256)  0           ['conv2_block1_add[0][0]']       \n",
      "                                                                                                  \n",
      " conv2_block2_1_conv (Conv2D)   (None, 56, 56, 64)   16448       ['conv2_block1_out[0][0]']       \n",
      "                                                                                                  \n",
      " conv2_block2_1_bn (BatchNormal  (None, 56, 56, 64)  256         ['conv2_block2_1_conv[0][0]']    \n",
      " ization)                                                                                         \n",
      "                                                                                                  \n",
      " conv2_block2_1_relu (Activatio  (None, 56, 56, 64)  0           ['conv2_block2_1_bn[0][0]']      \n",
      " n)                                                                                               \n",
      "                                                                                                  \n",
      " conv2_block2_2_conv (Conv2D)   (None, 56, 56, 64)   36928       ['conv2_block2_1_relu[0][0]']    \n",
      "                                                                                                  \n",
      " conv2_block2_2_bn (BatchNormal  (None, 56, 56, 64)  256         ['conv2_block2_2_conv[0][0]']    \n",
      " ization)                                                                                         \n",
      "                                                                                                  \n",
      " conv2_block2_2_relu (Activatio  (None, 56, 56, 64)  0           ['conv2_block2_2_bn[0][0]']      \n",
      " n)                                                                                               \n",
      "                                                                                                  \n",
      " conv2_block2_3_conv (Conv2D)   (None, 56, 56, 256)  16640       ['conv2_block2_2_relu[0][0]']    \n",
      "                                                                                                  \n",
      " conv2_block2_3_bn (BatchNormal  (None, 56, 56, 256)  1024       ['conv2_block2_3_conv[0][0]']    \n",
      " ization)                                                                                         \n",
      "                                                                                                  \n",
      " conv2_block2_add (Add)         (None, 56, 56, 256)  0           ['conv2_block1_out[0][0]',       \n",
      "                                                                  'conv2_block2_3_bn[0][0]']      \n",
      "                                                                                                  \n",
      " conv2_block2_out (Activation)  (None, 56, 56, 256)  0           ['conv2_block2_add[0][0]']       \n",
      "                                                                                                  \n",
      " conv2_block3_1_conv (Conv2D)   (None, 56, 56, 64)   16448       ['conv2_block2_out[0][0]']       \n",
      "                                                                                                  \n",
      " conv2_block3_1_bn (BatchNormal  (None, 56, 56, 64)  256         ['conv2_block3_1_conv[0][0]']    \n",
      " ization)                                                                                         \n",
      "                                                                                                  \n",
      " conv2_block3_1_relu (Activatio  (None, 56, 56, 64)  0           ['conv2_block3_1_bn[0][0]']      \n",
      " n)                                                                                               \n",
      "                                                                                                  \n",
      " conv2_block3_2_conv (Conv2D)   (None, 56, 56, 64)   36928       ['conv2_block3_1_relu[0][0]']    \n",
      "                                                                                                  \n",
      " conv2_block3_2_bn (BatchNormal  (None, 56, 56, 64)  256         ['conv2_block3_2_conv[0][0]']    \n",
      " ization)                                                                                         \n",
      "                                                                                                  \n",
      " conv2_block3_2_relu (Activatio  (None, 56, 56, 64)  0           ['conv2_block3_2_bn[0][0]']      \n",
      " n)                                                                                               \n",
      "                                                                                                  \n",
      " conv2_block3_3_conv (Conv2D)   (None, 56, 56, 256)  16640       ['conv2_block3_2_relu[0][0]']    \n",
      "                                                                                                  \n",
      " conv2_block3_3_bn (BatchNormal  (None, 56, 56, 256)  1024       ['conv2_block3_3_conv[0][0]']    \n",
      " ization)                                                                                         \n",
      "                                                                                                  \n",
      " conv2_block3_add (Add)         (None, 56, 56, 256)  0           ['conv2_block2_out[0][0]',       \n",
      "                                                                  'conv2_block3_3_bn[0][0]']      \n",
      "                                                                                                  \n",
      " conv2_block3_out (Activation)  (None, 56, 56, 256)  0           ['conv2_block3_add[0][0]']       \n",
      "                                                                                                  \n",
      " conv3_block1_1_conv (Conv2D)   (None, 28, 28, 128)  32896       ['conv2_block3_out[0][0]']       \n",
      "                                                                                                  \n",
      " conv3_block1_1_bn (BatchNormal  (None, 28, 28, 128)  512        ['conv3_block1_1_conv[0][0]']    \n",
      " ization)                                                                                         \n",
      "                                                                                                  \n",
      " conv3_block1_1_relu (Activatio  (None, 28, 28, 128)  0          ['conv3_block1_1_bn[0][0]']      \n",
      " n)                                                                                               \n",
      "                                                                                                  \n",
      " conv3_block1_2_conv (Conv2D)   (None, 28, 28, 128)  147584      ['conv3_block1_1_relu[0][0]']    \n",
      "                                                                                                  \n",
      " conv3_block1_2_bn (BatchNormal  (None, 28, 28, 128)  512        ['conv3_block1_2_conv[0][0]']    \n",
      " ization)                                                                                         \n",
      "                                                                                                  \n",
      " conv3_block1_2_relu (Activatio  (None, 28, 28, 128)  0          ['conv3_block1_2_bn[0][0]']      \n",
      " n)                                                                                               \n",
      "                                                                                                  \n",
      " conv3_block1_0_conv (Conv2D)   (None, 28, 28, 512)  131584      ['conv2_block3_out[0][0]']       \n",
      "                                                                                                  \n",
      " conv3_block1_3_conv (Conv2D)   (None, 28, 28, 512)  66048       ['conv3_block1_2_relu[0][0]']    \n",
      "                                                                                                  \n",
      " conv3_block1_0_bn (BatchNormal  (None, 28, 28, 512)  2048       ['conv3_block1_0_conv[0][0]']    \n",
      " ization)                                                                                         \n",
      "                                                                                                  \n",
      " conv3_block1_3_bn (BatchNormal  (None, 28, 28, 512)  2048       ['conv3_block1_3_conv[0][0]']    \n",
      " ization)                                                                                         \n",
      "                                                                                                  \n",
      " conv3_block1_add (Add)         (None, 28, 28, 512)  0           ['conv3_block1_0_bn[0][0]',      \n",
      "                                                                  'conv3_block1_3_bn[0][0]']      \n",
      "                                                                                                  \n",
      " conv3_block1_out (Activation)  (None, 28, 28, 512)  0           ['conv3_block1_add[0][0]']       \n",
      "                                                                                                  \n",
      " conv3_block2_1_conv (Conv2D)   (None, 28, 28, 128)  65664       ['conv3_block1_out[0][0]']       \n",
      "                                                                                                  \n",
      " conv3_block2_1_bn (BatchNormal  (None, 28, 28, 128)  512        ['conv3_block2_1_conv[0][0]']    \n",
      " ization)                                                                                         \n",
      "                                                                                                  \n",
      " conv3_block2_1_relu (Activatio  (None, 28, 28, 128)  0          ['conv3_block2_1_bn[0][0]']      \n",
      " n)                                                                                               \n",
      "                                                                                                  \n",
      " conv3_block2_2_conv (Conv2D)   (None, 28, 28, 128)  147584      ['conv3_block2_1_relu[0][0]']    \n",
      "                                                                                                  \n",
      " conv3_block2_2_bn (BatchNormal  (None, 28, 28, 128)  512        ['conv3_block2_2_conv[0][0]']    \n",
      " ization)                                                                                         \n",
      "                                                                                                  \n",
      " conv3_block2_2_relu (Activatio  (None, 28, 28, 128)  0          ['conv3_block2_2_bn[0][0]']      \n",
      " n)                                                                                               \n",
      "                                                                                                  \n",
      " conv3_block2_3_conv (Conv2D)   (None, 28, 28, 512)  66048       ['conv3_block2_2_relu[0][0]']    \n",
      "                                                                                                  \n",
      " conv3_block2_3_bn (BatchNormal  (None, 28, 28, 512)  2048       ['conv3_block2_3_conv[0][0]']    \n",
      " ization)                                                                                         \n",
      "                                                                                                  \n",
      " conv3_block2_add (Add)         (None, 28, 28, 512)  0           ['conv3_block1_out[0][0]',       \n",
      "                                                                  'conv3_block2_3_bn[0][0]']      \n",
      "                                                                                                  \n",
      " conv3_block2_out (Activation)  (None, 28, 28, 512)  0           ['conv3_block2_add[0][0]']       \n",
      "                                                                                                  \n",
      " conv3_block3_1_conv (Conv2D)   (None, 28, 28, 128)  65664       ['conv3_block2_out[0][0]']       \n",
      "                                                                                                  \n",
      " conv3_block3_1_bn (BatchNormal  (None, 28, 28, 128)  512        ['conv3_block3_1_conv[0][0]']    \n",
      " ization)                                                                                         \n",
      "                                                                                                  \n",
      " conv3_block3_1_relu (Activatio  (None, 28, 28, 128)  0          ['conv3_block3_1_bn[0][0]']      \n",
      " n)                                                                                               \n",
      "                                                                                                  \n",
      " conv3_block3_2_conv (Conv2D)   (None, 28, 28, 128)  147584      ['conv3_block3_1_relu[0][0]']    \n",
      "                                                                                                  \n",
      " conv3_block3_2_bn (BatchNormal  (None, 28, 28, 128)  512        ['conv3_block3_2_conv[0][0]']    \n",
      " ization)                                                                                         \n",
      "                                                                                                  \n",
      " conv3_block3_2_relu (Activatio  (None, 28, 28, 128)  0          ['conv3_block3_2_bn[0][0]']      \n",
      " n)                                                                                               \n",
      "                                                                                                  \n",
      " conv3_block3_3_conv (Conv2D)   (None, 28, 28, 512)  66048       ['conv3_block3_2_relu[0][0]']    \n",
      "                                                                                                  \n",
      " conv3_block3_3_bn (BatchNormal  (None, 28, 28, 512)  2048       ['conv3_block3_3_conv[0][0]']    \n",
      " ization)                                                                                         \n",
      "                                                                                                  \n",
      " conv3_block3_add (Add)         (None, 28, 28, 512)  0           ['conv3_block2_out[0][0]',       \n",
      "                                                                  'conv3_block3_3_bn[0][0]']      \n",
      "                                                                                                  \n",
      " conv3_block3_out (Activation)  (None, 28, 28, 512)  0           ['conv3_block3_add[0][0]']       \n",
      "                                                                                                  \n",
      " conv3_block4_1_conv (Conv2D)   (None, 28, 28, 128)  65664       ['conv3_block3_out[0][0]']       \n",
      "                                                                                                  \n",
      " conv3_block4_1_bn (BatchNormal  (None, 28, 28, 128)  512        ['conv3_block4_1_conv[0][0]']    \n",
      " ization)                                                                                         \n",
      "                                                                                                  \n",
      " conv3_block4_1_relu (Activatio  (None, 28, 28, 128)  0          ['conv3_block4_1_bn[0][0]']      \n",
      " n)                                                                                               \n",
      "                                                                                                  \n",
      " conv3_block4_2_conv (Conv2D)   (None, 28, 28, 128)  147584      ['conv3_block4_1_relu[0][0]']    \n",
      "                                                                                                  \n",
      " conv3_block4_2_bn (BatchNormal  (None, 28, 28, 128)  512        ['conv3_block4_2_conv[0][0]']    \n",
      " ization)                                                                                         \n",
      "                                                                                                  \n",
      " conv3_block4_2_relu (Activatio  (None, 28, 28, 128)  0          ['conv3_block4_2_bn[0][0]']      \n",
      " n)                                                                                               \n",
      "                                                                                                  \n",
      " conv3_block4_3_conv (Conv2D)   (None, 28, 28, 512)  66048       ['conv3_block4_2_relu[0][0]']    \n",
      "                                                                                                  \n",
      " conv3_block4_3_bn (BatchNormal  (None, 28, 28, 512)  2048       ['conv3_block4_3_conv[0][0]']    \n",
      " ization)                                                                                         \n",
      "                                                                                                  \n",
      " conv3_block4_add (Add)         (None, 28, 28, 512)  0           ['conv3_block3_out[0][0]',       \n",
      "                                                                  'conv3_block4_3_bn[0][0]']      \n",
      "                                                                                                  \n",
      " conv3_block4_out (Activation)  (None, 28, 28, 512)  0           ['conv3_block4_add[0][0]']       \n",
      "                                                                                                  \n",
      " conv4_block1_1_conv (Conv2D)   (None, 14, 14, 256)  131328      ['conv3_block4_out[0][0]']       \n",
      "                                                                                                  \n",
      " conv4_block1_1_bn (BatchNormal  (None, 14, 14, 256)  1024       ['conv4_block1_1_conv[0][0]']    \n",
      " ization)                                                                                         \n",
      "                                                                                                  \n",
      " conv4_block1_1_relu (Activatio  (None, 14, 14, 256)  0          ['conv4_block1_1_bn[0][0]']      \n",
      " n)                                                                                               \n",
      "                                                                                                  \n",
      " conv4_block1_2_conv (Conv2D)   (None, 14, 14, 256)  590080      ['conv4_block1_1_relu[0][0]']    \n",
      "                                                                                                  \n",
      " conv4_block1_2_bn (BatchNormal  (None, 14, 14, 256)  1024       ['conv4_block1_2_conv[0][0]']    \n",
      " ization)                                                                                         \n",
      "                                                                                                  \n",
      " conv4_block1_2_relu (Activatio  (None, 14, 14, 256)  0          ['conv4_block1_2_bn[0][0]']      \n",
      " n)                                                                                               \n",
      "                                                                                                  \n",
      " conv4_block1_0_conv (Conv2D)   (None, 14, 14, 1024  525312      ['conv3_block4_out[0][0]']       \n",
      "                                )                                                                 \n",
      "                                                                                                  \n",
      " conv4_block1_3_conv (Conv2D)   (None, 14, 14, 1024  263168      ['conv4_block1_2_relu[0][0]']    \n",
      "                                )                                                                 \n",
      "                                                                                                  \n",
      " conv4_block1_0_bn (BatchNormal  (None, 14, 14, 1024  4096       ['conv4_block1_0_conv[0][0]']    \n",
      " ization)                       )                                                                 \n",
      "                                                                                                  \n",
      " conv4_block1_3_bn (BatchNormal  (None, 14, 14, 1024  4096       ['conv4_block1_3_conv[0][0]']    \n",
      " ization)                       )                                                                 \n",
      "                                                                                                  \n",
      " conv4_block1_add (Add)         (None, 14, 14, 1024  0           ['conv4_block1_0_bn[0][0]',      \n",
      "                                )                                 'conv4_block1_3_bn[0][0]']      \n",
      "                                                                                                  \n",
      " conv4_block1_out (Activation)  (None, 14, 14, 1024  0           ['conv4_block1_add[0][0]']       \n",
      "                                )                                                                 \n",
      "                                                                                                  \n",
      " conv4_block2_1_conv (Conv2D)   (None, 14, 14, 256)  262400      ['conv4_block1_out[0][0]']       \n",
      "                                                                                                  \n",
      " conv4_block2_1_bn (BatchNormal  (None, 14, 14, 256)  1024       ['conv4_block2_1_conv[0][0]']    \n",
      " ization)                                                                                         \n",
      "                                                                                                  \n",
      " conv4_block2_1_relu (Activatio  (None, 14, 14, 256)  0          ['conv4_block2_1_bn[0][0]']      \n",
      " n)                                                                                               \n",
      "                                                                                                  \n",
      " conv4_block2_2_conv (Conv2D)   (None, 14, 14, 256)  590080      ['conv4_block2_1_relu[0][0]']    \n",
      "                                                                                                  \n",
      " conv4_block2_2_bn (BatchNormal  (None, 14, 14, 256)  1024       ['conv4_block2_2_conv[0][0]']    \n",
      " ization)                                                                                         \n",
      "                                                                                                  \n",
      " conv4_block2_2_relu (Activatio  (None, 14, 14, 256)  0          ['conv4_block2_2_bn[0][0]']      \n",
      " n)                                                                                               \n",
      "                                                                                                  \n",
      " conv4_block2_3_conv (Conv2D)   (None, 14, 14, 1024  263168      ['conv4_block2_2_relu[0][0]']    \n",
      "                                )                                                                 \n",
      "                                                                                                  \n",
      " conv4_block2_3_bn (BatchNormal  (None, 14, 14, 1024  4096       ['conv4_block2_3_conv[0][0]']    \n",
      " ization)                       )                                                                 \n",
      "                                                                                                  \n",
      " conv4_block2_add (Add)         (None, 14, 14, 1024  0           ['conv4_block1_out[0][0]',       \n",
      "                                )                                 'conv4_block2_3_bn[0][0]']      \n",
      "                                                                                                  \n",
      " conv4_block2_out (Activation)  (None, 14, 14, 1024  0           ['conv4_block2_add[0][0]']       \n",
      "                                )                                                                 \n",
      "                                                                                                  \n",
      " conv4_block3_1_conv (Conv2D)   (None, 14, 14, 256)  262400      ['conv4_block2_out[0][0]']       \n",
      "                                                                                                  \n",
      " conv4_block3_1_bn (BatchNormal  (None, 14, 14, 256)  1024       ['conv4_block3_1_conv[0][0]']    \n",
      " ization)                                                                                         \n",
      "                                                                                                  \n",
      " conv4_block3_1_relu (Activatio  (None, 14, 14, 256)  0          ['conv4_block3_1_bn[0][0]']      \n",
      " n)                                                                                               \n",
      "                                                                                                  \n",
      " conv4_block3_2_conv (Conv2D)   (None, 14, 14, 256)  590080      ['conv4_block3_1_relu[0][0]']    \n",
      "                                                                                                  \n",
      " conv4_block3_2_bn (BatchNormal  (None, 14, 14, 256)  1024       ['conv4_block3_2_conv[0][0]']    \n",
      " ization)                                                                                         \n",
      "                                                                                                  \n",
      " conv4_block3_2_relu (Activatio  (None, 14, 14, 256)  0          ['conv4_block3_2_bn[0][0]']      \n",
      " n)                                                                                               \n",
      "                                                                                                  \n",
      " conv4_block3_3_conv (Conv2D)   (None, 14, 14, 1024  263168      ['conv4_block3_2_relu[0][0]']    \n",
      "                                )                                                                 \n",
      "                                                                                                  \n",
      " conv4_block3_3_bn (BatchNormal  (None, 14, 14, 1024  4096       ['conv4_block3_3_conv[0][0]']    \n",
      " ization)                       )                                                                 \n",
      "                                                                                                  \n",
      " conv4_block3_add (Add)         (None, 14, 14, 1024  0           ['conv4_block2_out[0][0]',       \n",
      "                                )                                 'conv4_block3_3_bn[0][0]']      \n",
      "                                                                                                  \n",
      " conv4_block3_out (Activation)  (None, 14, 14, 1024  0           ['conv4_block3_add[0][0]']       \n",
      "                                )                                                                 \n",
      "                                                                                                  \n",
      " conv4_block4_1_conv (Conv2D)   (None, 14, 14, 256)  262400      ['conv4_block3_out[0][0]']       \n",
      "                                                                                                  \n",
      " conv4_block4_1_bn (BatchNormal  (None, 14, 14, 256)  1024       ['conv4_block4_1_conv[0][0]']    \n",
      " ization)                                                                                         \n",
      "                                                                                                  \n",
      " conv4_block4_1_relu (Activatio  (None, 14, 14, 256)  0          ['conv4_block4_1_bn[0][0]']      \n",
      " n)                                                                                               \n",
      "                                                                                                  \n",
      " conv4_block4_2_conv (Conv2D)   (None, 14, 14, 256)  590080      ['conv4_block4_1_relu[0][0]']    \n",
      "                                                                                                  \n",
      " conv4_block4_2_bn (BatchNormal  (None, 14, 14, 256)  1024       ['conv4_block4_2_conv[0][0]']    \n",
      " ization)                                                                                         \n",
      "                                                                                                  \n",
      " conv4_block4_2_relu (Activatio  (None, 14, 14, 256)  0          ['conv4_block4_2_bn[0][0]']      \n",
      " n)                                                                                               \n",
      "                                                                                                  \n",
      " conv4_block4_3_conv (Conv2D)   (None, 14, 14, 1024  263168      ['conv4_block4_2_relu[0][0]']    \n",
      "                                )                                                                 \n",
      "                                                                                                  \n",
      " conv4_block4_3_bn (BatchNormal  (None, 14, 14, 1024  4096       ['conv4_block4_3_conv[0][0]']    \n",
      " ization)                       )                                                                 \n",
      "                                                                                                  \n",
      " conv4_block4_add (Add)         (None, 14, 14, 1024  0           ['conv4_block3_out[0][0]',       \n",
      "                                )                                 'conv4_block4_3_bn[0][0]']      \n",
      "                                                                                                  \n",
      " conv4_block4_out (Activation)  (None, 14, 14, 1024  0           ['conv4_block4_add[0][0]']       \n",
      "                                )                                                                 \n",
      "                                                                                                  \n",
      " conv4_block5_1_conv (Conv2D)   (None, 14, 14, 256)  262400      ['conv4_block4_out[0][0]']       \n",
      "                                                                                                  \n",
      " conv4_block5_1_bn (BatchNormal  (None, 14, 14, 256)  1024       ['conv4_block5_1_conv[0][0]']    \n",
      " ization)                                                                                         \n",
      "                                                                                                  \n",
      " conv4_block5_1_relu (Activatio  (None, 14, 14, 256)  0          ['conv4_block5_1_bn[0][0]']      \n",
      " n)                                                                                               \n",
      "                                                                                                  \n",
      " conv4_block5_2_conv (Conv2D)   (None, 14, 14, 256)  590080      ['conv4_block5_1_relu[0][0]']    \n",
      "                                                                                                  \n",
      " conv4_block5_2_bn (BatchNormal  (None, 14, 14, 256)  1024       ['conv4_block5_2_conv[0][0]']    \n",
      " ization)                                                                                         \n",
      "                                                                                                  \n",
      " conv4_block5_2_relu (Activatio  (None, 14, 14, 256)  0          ['conv4_block5_2_bn[0][0]']      \n",
      " n)                                                                                               \n",
      "                                                                                                  \n",
      " conv4_block5_3_conv (Conv2D)   (None, 14, 14, 1024  263168      ['conv4_block5_2_relu[0][0]']    \n",
      "                                )                                                                 \n",
      "                                                                                                  \n",
      " conv4_block5_3_bn (BatchNormal  (None, 14, 14, 1024  4096       ['conv4_block5_3_conv[0][0]']    \n",
      " ization)                       )                                                                 \n",
      "                                                                                                  \n",
      " conv4_block5_add (Add)         (None, 14, 14, 1024  0           ['conv4_block4_out[0][0]',       \n",
      "                                )                                 'conv4_block5_3_bn[0][0]']      \n",
      "                                                                                                  \n",
      " conv4_block5_out (Activation)  (None, 14, 14, 1024  0           ['conv4_block5_add[0][0]']       \n",
      "                                )                                                                 \n",
      "                                                                                                  \n",
      " conv4_block6_1_conv (Conv2D)   (None, 14, 14, 256)  262400      ['conv4_block5_out[0][0]']       \n",
      "                                                                                                  \n",
      " conv4_block6_1_bn (BatchNormal  (None, 14, 14, 256)  1024       ['conv4_block6_1_conv[0][0]']    \n",
      " ization)                                                                                         \n",
      "                                                                                                  \n",
      " conv4_block6_1_relu (Activatio  (None, 14, 14, 256)  0          ['conv4_block6_1_bn[0][0]']      \n",
      " n)                                                                                               \n",
      "                                                                                                  \n",
      " conv4_block6_2_conv (Conv2D)   (None, 14, 14, 256)  590080      ['conv4_block6_1_relu[0][0]']    \n",
      "                                                                                                  \n",
      " conv4_block6_2_bn (BatchNormal  (None, 14, 14, 256)  1024       ['conv4_block6_2_conv[0][0]']    \n",
      " ization)                                                                                         \n",
      "                                                                                                  \n",
      " conv4_block6_2_relu (Activatio  (None, 14, 14, 256)  0          ['conv4_block6_2_bn[0][0]']      \n",
      " n)                                                                                               \n",
      "                                                                                                  \n",
      " conv4_block6_3_conv (Conv2D)   (None, 14, 14, 1024  263168      ['conv4_block6_2_relu[0][0]']    \n",
      "                                )                                                                 \n",
      "                                                                                                  \n",
      " conv4_block6_3_bn (BatchNormal  (None, 14, 14, 1024  4096       ['conv4_block6_3_conv[0][0]']    \n",
      " ization)                       )                                                                 \n",
      "                                                                                                  \n",
      " conv4_block6_add (Add)         (None, 14, 14, 1024  0           ['conv4_block5_out[0][0]',       \n",
      "                                )                                 'conv4_block6_3_bn[0][0]']      \n",
      "                                                                                                  \n",
      " conv4_block6_out (Activation)  (None, 14, 14, 1024  0           ['conv4_block6_add[0][0]']       \n",
      "                                )                                                                 \n",
      "                                                                                                  \n",
      " conv5_block1_1_conv (Conv2D)   (None, 7, 7, 512)    524800      ['conv4_block6_out[0][0]']       \n",
      "                                                                                                  \n",
      " conv5_block1_1_bn (BatchNormal  (None, 7, 7, 512)   2048        ['conv5_block1_1_conv[0][0]']    \n",
      " ization)                                                                                         \n",
      "                                                                                                  \n",
      " conv5_block1_1_relu (Activatio  (None, 7, 7, 512)   0           ['conv5_block1_1_bn[0][0]']      \n",
      " n)                                                                                               \n",
      "                                                                                                  \n",
      " conv5_block1_2_conv (Conv2D)   (None, 7, 7, 512)    2359808     ['conv5_block1_1_relu[0][0]']    \n",
      "                                                                                                  \n",
      " conv5_block1_2_bn (BatchNormal  (None, 7, 7, 512)   2048        ['conv5_block1_2_conv[0][0]']    \n",
      " ization)                                                                                         \n",
      "                                                                                                  \n",
      " conv5_block1_2_relu (Activatio  (None, 7, 7, 512)   0           ['conv5_block1_2_bn[0][0]']      \n",
      " n)                                                                                               \n",
      "                                                                                                  \n",
      " conv5_block1_0_conv (Conv2D)   (None, 7, 7, 2048)   2099200     ['conv4_block6_out[0][0]']       \n",
      "                                                                                                  \n",
      " conv5_block1_3_conv (Conv2D)   (None, 7, 7, 2048)   1050624     ['conv5_block1_2_relu[0][0]']    \n",
      "                                                                                                  \n",
      " conv5_block1_0_bn (BatchNormal  (None, 7, 7, 2048)  8192        ['conv5_block1_0_conv[0][0]']    \n",
      " ization)                                                                                         \n",
      "                                                                                                  \n",
      " conv5_block1_3_bn (BatchNormal  (None, 7, 7, 2048)  8192        ['conv5_block1_3_conv[0][0]']    \n",
      " ization)                                                                                         \n",
      "                                                                                                  \n",
      " conv5_block1_add (Add)         (None, 7, 7, 2048)   0           ['conv5_block1_0_bn[0][0]',      \n",
      "                                                                  'conv5_block1_3_bn[0][0]']      \n",
      "                                                                                                  \n",
      " conv5_block1_out (Activation)  (None, 7, 7, 2048)   0           ['conv5_block1_add[0][0]']       \n",
      "                                                                                                  \n",
      " conv5_block2_1_conv (Conv2D)   (None, 7, 7, 512)    1049088     ['conv5_block1_out[0][0]']       \n",
      "                                                                                                  \n",
      " conv5_block2_1_bn (BatchNormal  (None, 7, 7, 512)   2048        ['conv5_block2_1_conv[0][0]']    \n",
      " ization)                                                                                         \n",
      "                                                                                                  \n",
      " conv5_block2_1_relu (Activatio  (None, 7, 7, 512)   0           ['conv5_block2_1_bn[0][0]']      \n",
      " n)                                                                                               \n",
      "                                                                                                  \n",
      " conv5_block2_2_conv (Conv2D)   (None, 7, 7, 512)    2359808     ['conv5_block2_1_relu[0][0]']    \n",
      "                                                                                                  \n",
      " conv5_block2_2_bn (BatchNormal  (None, 7, 7, 512)   2048        ['conv5_block2_2_conv[0][0]']    \n",
      " ization)                                                                                         \n",
      "                                                                                                  \n",
      " conv5_block2_2_relu (Activatio  (None, 7, 7, 512)   0           ['conv5_block2_2_bn[0][0]']      \n",
      " n)                                                                                               \n",
      "                                                                                                  \n",
      " conv5_block2_3_conv (Conv2D)   (None, 7, 7, 2048)   1050624     ['conv5_block2_2_relu[0][0]']    \n",
      "                                                                                                  \n",
      " conv5_block2_3_bn (BatchNormal  (None, 7, 7, 2048)  8192        ['conv5_block2_3_conv[0][0]']    \n",
      " ization)                                                                                         \n",
      "                                                                                                  \n",
      " conv5_block2_add (Add)         (None, 7, 7, 2048)   0           ['conv5_block1_out[0][0]',       \n",
      "                                                                  'conv5_block2_3_bn[0][0]']      \n",
      "                                                                                                  \n",
      " conv5_block2_out (Activation)  (None, 7, 7, 2048)   0           ['conv5_block2_add[0][0]']       \n",
      "                                                                                                  \n",
      " conv5_block3_1_conv (Conv2D)   (None, 7, 7, 512)    1049088     ['conv5_block2_out[0][0]']       \n",
      "                                                                                                  \n",
      " conv5_block3_1_bn (BatchNormal  (None, 7, 7, 512)   2048        ['conv5_block3_1_conv[0][0]']    \n",
      " ization)                                                                                         \n",
      "                                                                                                  \n",
      " conv5_block3_1_relu (Activatio  (None, 7, 7, 512)   0           ['conv5_block3_1_bn[0][0]']      \n",
      " n)                                                                                               \n",
      "                                                                                                  \n",
      " conv5_block3_2_conv (Conv2D)   (None, 7, 7, 512)    2359808     ['conv5_block3_1_relu[0][0]']    \n",
      "                                                                                                  \n",
      " conv5_block3_2_bn (BatchNormal  (None, 7, 7, 512)   2048        ['conv5_block3_2_conv[0][0]']    \n",
      " ization)                                                                                         \n",
      "                                                                                                  \n",
      " conv5_block3_2_relu (Activatio  (None, 7, 7, 512)   0           ['conv5_block3_2_bn[0][0]']      \n",
      " n)                                                                                               \n",
      "                                                                                                  \n",
      " conv5_block3_3_conv (Conv2D)   (None, 7, 7, 2048)   1050624     ['conv5_block3_2_relu[0][0]']    \n",
      "                                                                                                  \n",
      " conv5_block3_3_bn (BatchNormal  (None, 7, 7, 2048)  8192        ['conv5_block3_3_conv[0][0]']    \n",
      " ization)                                                                                         \n",
      "                                                                                                  \n",
      " conv5_block3_add (Add)         (None, 7, 7, 2048)   0           ['conv5_block2_out[0][0]',       \n",
      "                                                                  'conv5_block3_3_bn[0][0]']      \n",
      "                                                                                                  \n",
      " conv5_block3_out (Activation)  (None, 7, 7, 2048)   0           ['conv5_block3_add[0][0]']       \n",
      "                                                                                                  \n",
      " avg_pool (GlobalAveragePooling  (None, 2048)        0           ['conv5_block3_out[0][0]']       \n",
      " 2D)                                                                                              \n",
      "                                                                                                  \n",
      " predictions (Dense)            (None, 1000)         2049000     ['avg_pool[0][0]']               \n",
      "                                                                                                  \n",
      "==================================================================================================\n",
      "Total params: 25,636,712\n",
      "Trainable params: 25,583,592\n",
      "Non-trainable params: 53,120\n",
      "__________________________________________________________________________________________________\n"
     ]
    }
   ],
   "source": [
    "model = keras.applications.resnet50.ResNet50(weights='imagenet')\n",
    "\n",
    "model.summary()"
   ]
  },
  {
   "cell_type": "markdown",
   "id": "c3f7be7c-c618-4f96-9e47-3fbe21bbcf8d",
   "metadata": {},
   "source": [
    "Feeding the images we want to classify into `resnet5` and using the `top=3` parameter, we can see the top 3 most likely labels for each image, as well as their probabilities."
   ]
  },
  {
   "cell_type": "code",
   "execution_count": 43,
   "id": "a4af270f-4670-4971-9449-c7a0730c0f3c",
   "metadata": {},
   "outputs": [
    {
     "name": "stdout",
     "output_type": "stream",
     "text": [
      "1/1 [==============================] - 2s 2s/step\n"
     ]
    },
    {
     "data": {
      "text/plain": [
       "[[('n01843065', 'jacamar', 0.48659828),\n",
       "  ('n01818515', 'macaw', 0.2302896),\n",
       "  ('n02494079', 'squirrel_monkey', 0.04457093)],\n",
       " [('n02007558', 'flamingo', 0.93010926),\n",
       "  ('n02006656', 'spoonbill', 0.06801473),\n",
       "  ('n02002556', 'white_stork', 0.0011723739)],\n",
       " [('n02097474', 'Tibetan_terrier', 0.5246219),\n",
       "  ('n02098413', 'Lhasa', 0.40590084),\n",
       "  ('n02094114', 'Norfolk_terrier', 0.016995287)],\n",
       " [('n01608432', 'kite', 0.7243432),\n",
       "  ('n01622779', 'great_grey_owl', 0.08683513),\n",
       "  ('n01532829', 'house_finch', 0.039976306)],\n",
       " [('n03388043', 'fountain', 0.27721667),\n",
       "  ('n03532672', 'hook', 0.17947064),\n",
       "  ('n03804744', 'nail', 0.11035818)],\n",
       " [('n02105641', 'Old_English_sheepdog', 0.8390029),\n",
       "  ('n02086240', 'Shih-Tzu', 0.042358067),\n",
       "  ('n03223299', 'doormat', 0.032265674)]]"
      ]
     },
     "execution_count": 43,
     "metadata": {},
     "output_type": "execute_result"
    }
   ],
   "source": [
    "pred6 = model.predict(x)\n",
    "keras.applications.imagenet_utils.decode_predictions(pred6, top=3)"
   ]
  },
  {
   "cell_type": "markdown",
   "id": "737c6d68-8c20-4d55-990a-c7bbb8f61b12",
   "metadata": {},
   "source": [
    "## 10.9.5 IMDb Document Classification"
   ]
  },
  {
   "cell_type": "markdown",
   "id": "54735892-b467-40ef-9194-6fb7575d2c75",
   "metadata": {},
   "source": [
    "This part of the lab uses movie review data from the [Internet Movie Database](www.imdb.com), to perform sentiment analysis and classify a review as either positive or negative.  The dataset is part of the `keras` package and `num_words` specifies how many words will be in the `word_index` object, discussed soon."
   ]
  },
  {
   "cell_type": "code",
   "execution_count": 44,
   "id": "b697c137-6eec-4192-accc-8c0905fc1564",
   "metadata": {},
   "outputs": [],
   "source": [
    "max_features = 10_000\n",
    "(x_train, y_train), (x_test, y_test) = keras.datasets.imdb.load_data(num_words=max_features)"
   ]
  },
  {
   "cell_type": "markdown",
   "id": "62bb1b26-3589-45f8-a356-f5efbde79c25",
   "metadata": {},
   "source": [
    "Reviews in the dataset aren't stored as strings of words that make up the review, rather each review is a series of numbers that correspond to the values in the word_index object mentioned earlier.  The `word_index` is a dictionary where a key is the string representation of a word and the value will be an integer representing that word, such that `word_index['word_string'] = some_int`.\n",
    "\n",
    "For instance, the thirteen integers found below represent the first thirteen words in a review."
   ]
  },
  {
   "cell_type": "code",
   "execution_count": 45,
   "id": "5c765ea2-2f4e-4b99-8ae2-0760e6b24364",
   "metadata": {},
   "outputs": [
    {
     "data": {
      "text/plain": [
       "[1, 14, 22, 16, 43, 530, 973, 1622, 1385, 65, 458, 4468]"
      ]
     },
     "execution_count": 45,
     "metadata": {},
     "output_type": "execute_result"
    }
   ],
   "source": [
    "x_train[0][0:12]"
   ]
  },
  {
   "cell_type": "markdown",
   "id": "085531c2-f18b-4d92-9152-9fefee50f00f",
   "metadata": {},
   "source": [
    "The `decode_review()` function does just that, it takes the integer representations of words in a review and converts them to the string representation by using the `word_index`.  The thirteen words mentioned earlier are decoded below:"
   ]
  },
  {
   "cell_type": "code",
   "execution_count": 46,
   "id": "dd346be7-b23f-4a2c-ad36-889a63364df1",
   "metadata": {},
   "outputs": [
    {
     "name": "stdout",
     "output_type": "stream",
     "text": [
      "<START> this film was just brilliant casting location scenery story direction everyone's\n"
     ]
    }
   ],
   "source": [
    "word_index = keras.datasets.imdb.get_word_index()\n",
    "\n",
    "def decode_review(text: list, word_index: dict):\n",
    "    new_strings = [\"<PAD>\", \"<START>\", \"<UNK>\", \"<UNUSED>\"]\n",
    "    \n",
    "    idx = list(word_index.values())\n",
    "    idx_plus_3 = np.array(idx) + 3\n",
    "    new_idx = np.append(np.arange(0,4), idx_plus_3)\n",
    "    new_idx = list(new_idx)\n",
    "    \n",
    "    word = list(word_index.keys())\n",
    "    word = new_strings + word\n",
    "    \n",
    "    words = []\n",
    "    \n",
    "    for word_val in text:\n",
    "        if word_val not in new_idx:\n",
    "            word_val = 2 #use idx 2 to return \"<UNK>\" when idx of word can't be found\n",
    "        words.append(word[new_idx.index(word_val)])\n",
    "\n",
    "    print(\" \".join(words))\n",
    "    \n",
    "decode_review(x_train[0][0:12], word_index)"
   ]
  },
  {
   "cell_type": "markdown",
   "id": "5f96e2cc-da72-4920-a8fb-f9461a1dbfd4",
   "metadata": {},
   "source": [
    "The next part of the lab was challenging as I had to reproduce the `one_hot()` function that was created in the lab.  \n",
    "\n",
    "This function takes a review and returns a sparse matrix where each row in the matrix represents a review and each column represents a word in the `word_index`.  Each row will contain 0s or 1s, indicating whether a word is present in the review or not.\n",
    "\n",
    "To recreate this function in Python, I had to learn more about sparse matrices and the `sparse` module of the `scipy` library.  The general utility of a sparse matrix is that it allows for more convenient storage of large datasets, when the meaningful entries are sparse (not 0).\n",
    "\n",
    "Since we have such a large `word_index`, most of those words won't be present in a review and a row will contain many more 0s than 1s.  Using a sparse matrix will save space in memory and training the neural network will run much faster too."
   ]
  },
  {
   "cell_type": "code",
   "execution_count": 47,
   "id": "90757b16-3839-48c6-bcda-aedd7a0fb302",
   "metadata": {},
   "outputs": [],
   "source": [
    "def one_hot(sequences, dimension):\n",
    "    from scipy import sparse\n",
    "    from itertools import chain\n",
    "    \n",
    "    seqlen = np.array([], dtype=np.int64)\n",
    "    for seq in sequences:\n",
    "        seqlen = np.append(seqlen, len(seq))\n",
    "    \n",
    "    n = len(seqlen)\n",
    "    \n",
    "    rowind = np.repeat(np.arange(0, n), repeats=seqlen)\n",
    "    \n",
    "    # Because R starts indexing at 1 and word_index has a minimum value of 1, everything matches up nicely in R.  However, Python starts indexing at 0 and we need to adjust the values of word_index accordingly.  By subtracting 1 from colind, the first word in our dataset will be in the first column (column 0), just like in R where the first word is in the first column (column 1).\n",
    "    colind = np.array(list(chain(*sequences))) - 1  #taken from https://stackoverflow.com/questions/52573275/get-all-items-in-a-python-list\n",
    "    \n",
    "    sparse_array = np.zeros(shape=(n, dimension))\n",
    "    sparse_array[rowind, colind] = 1\n",
    "    \n",
    "    sparse_matrix = sparse.coo_matrix(sparse_array)\n",
    "        \n",
    "    return sparse_matrix"
   ]
  },
  {
   "cell_type": "code",
   "execution_count": 48,
   "id": "f2a26919-2b63-4646-822d-e519178c516e",
   "metadata": {},
   "outputs": [
    {
     "data": {
      "text/plain": [
       "(25000, 10000)"
      ]
     },
     "execution_count": 48,
     "metadata": {},
     "output_type": "execute_result"
    }
   ],
   "source": [
    "x_train_1h = one_hot(x_train, 10000)\n",
    "x_test_1h = one_hot(x_test, 10000)\n",
    "\n",
    "x_train_1h.shape"
   ]
  },
  {
   "cell_type": "markdown",
   "id": "0b3ebc73-bc27-4f3d-88e7-8996b0db91ad",
   "metadata": {},
   "source": [
    "After using the `one_hot()` function, only about 1.3% of the entries are non-zero, which is why using a sparse matrix is so preferable. "
   ]
  },
  {
   "cell_type": "code",
   "execution_count": 49,
   "id": "898a153c-be69-4df9-acd9-c98e7150252b",
   "metadata": {},
   "outputs": [
    {
     "data": {
      "text/plain": [
       "0.013169872"
      ]
     },
     "execution_count": 49,
     "metadata": {},
     "output_type": "execute_result"
    }
   ],
   "source": [
    "x_train_1h.count_nonzero() / (25000 * 10000)"
   ]
  },
  {
   "cell_type": "code",
   "execution_count": 50,
   "id": "80289a4c-1a2b-4c0e-b92c-624b3fc14a04",
   "metadata": {},
   "outputs": [],
   "source": [
    "data = robjects.r(\"\"\"\n",
    "set.seed(3)\n",
    "ival <- sample(seq(1:25000), 2000)\n",
    "\"\"\")\n",
    "\n",
    "ival = np.sort(np.array(data) - 1)\n",
    "ival_mask = pd.DataFrame(x_train_1h.toarray()).index.isin(ival)"
   ]
  },
  {
   "cell_type": "markdown",
   "id": "6e057df9-fb3f-47cb-9afc-c9f042229fc6",
   "metadata": {},
   "source": [
    "The lab once again uses the `sample()` function from R to randomly generate numbers that will refer to indices for training and testing data.  I use [rpy2](https://rpy2.github.io/) once more to replicate these values and then turn them into a boolean mask.\n",
    "\n",
    "The boolean mask has worked just fine in earlier parts of the lab, when the data was stored in a `Pandas` dataframe, however the sparse matrices from `Scipy` are different and a boolean mask doesn't work unless the sparse matrix is converted to a compressed sparse row (CSR) matrix first.  \n",
    "\n",
    "This article was used as a reference for how to select rows from a sparse matrix so that I could use `ival_mask` (the boolean mask) to separate training and testing observations:\n",
    "https://cmdlinetips.com/2019/07/how-to-slice-rows-and-columns-of-sparse-matrix-in-python/"
   ]
  },
  {
   "cell_type": "markdown",
   "id": "9296dc77-3fb4-4628-ab2b-ae6bd59066ac",
   "metadata": {},
   "source": [
    "The lab starts by first using lasso logistic regression to predict positive/negative IMDb reviews.  In order to reproduce the results, I had to use the [glmnet_python](https://glmnet-python.readthedocs.io/en/latest/) library once more."
   ]
  },
  {
   "cell_type": "code",
   "execution_count": 51,
   "id": "5b54660a-ab36-43ca-8bac-5155aa749d16",
   "metadata": {},
   "outputs": [],
   "source": [
    "fitlm = glmnet(x=x_train_1h.tocsr()[~ival_mask].toarray(),\n",
    "               y=y_train[~ival_mask].astype(np.float64), \n",
    "               family='binomial', \n",
    "               standardize=True)\n",
    "\n",
    "classlmv = glmnetPredict(fitlm, x_train_1h.tocsr()[ival_mask]) > 0\n",
    "\n",
    "acclmv = []\n",
    "for i in range(100):\n",
    "    acc = np.mean(np.array(classlmv[:, i]).flatten() == (y_train[ival_mask] > 0))\n",
    "    acclmv.append(acc)"
   ]
  },
  {
   "cell_type": "code",
   "execution_count": 52,
   "id": "d7992ae5-2453-428e-9ef3-b928c1958d03",
   "metadata": {},
   "outputs": [
    {
     "data": {
      "image/png": "[encoded data removed]",
      "text/plain": [
       "<Figure size 432x288 with 1 Axes>"
      ]
     },
     "metadata": {
      "needs_background": "light"
     },
     "output_type": "display_data"
    }
   ],
   "source": [
    "plt.scatter(-np.log(fitlm['lambdau']), acclmv)\n",
    "plt.xlabel(\"$-log(fitlm(\\lambda u))$\")\n",
    "plt.ylabel(\"acclmv\");"
   ]
  },
  {
   "cell_type": "code",
   "execution_count": 53,
   "id": "989d9975-ae8b-4fbc-8476-27975c2051a7",
   "metadata": {},
   "outputs": [
    {
     "data": {
      "image/png": "[encoded data removed]",
      "text/plain": [
       "<Figure size 432x288 with 2 Axes>"
      ]
     },
     "metadata": {
      "needs_background": "light"
     },
     "output_type": "display_data"
    }
   ],
   "source": [
    "glmnetPlot(fitlm, xvar='lambda');"
   ]
  },
  {
   "cell_type": "markdown",
   "id": "64012c1b-43b5-4da9-b307-467987488f59",
   "metadata": {},
   "source": [
    "Since the purpose of this model is to classify a review as either positive or negative, this is a binary classifcation problem, slightly different than the classification problems from parts 10.9.3 and 10.9.4 of the lab.  \n",
    "\n",
    "Consequently, the loss function is defined as `binary_crossentropy` instead of the `categorical_crossentropy` seen earlier.  Because it's still a classification problem, it still makes sense to track accuracy during the training process.\n",
    "\n",
    "Because this is a binary classification problem, the `softmax` function isn't needed and the final output layer uses the `sigmoid` function instead.  The `sigmoid` function will return probabilities that the label is 1, or true."
   ]
  },
  {
   "cell_type": "code",
   "execution_count": 54,
   "id": "944da622-16b3-4d3f-af6b-a0ef06c665f2",
   "metadata": {},
   "outputs": [],
   "source": [
    "model = keras.models.Sequential(\n",
    "    [\n",
    "        layers.Dense(units=16, activation='relu'),\n",
    "        layers.Dense(units=16, activation='relu'),\n",
    "        layers.Dense(units=1, activation='sigmoid')\n",
    "    ]\n",
    ")\n",
    "\n",
    "model.compile(\n",
    "    loss='binary_crossentropy', \n",
    "    optimizer='rmsprop', \n",
    "    metrics='accuracy'\n",
    ")\n",
    "\n",
    "history = model.fit(x=x_train_1h.tocsr()[~ival_mask], \n",
    "                    y=y_train[~ival_mask], \n",
    "                    epochs=20, \n",
    "                    batch_size=512, \n",
    "                    validation_data=(x_train_1h.tocsr()[ival_mask], \n",
    "                                     y_train[ival_mask]),\n",
    "                    verbose=0)"
   ]
  },
  {
   "cell_type": "code",
   "execution_count": 55,
   "id": "e11a16d0-a54b-4589-93b2-d96db4dd2dcf",
   "metadata": {},
   "outputs": [
    {
     "data": {
      "image/png": "[encoded data removed]",
      "text/plain": [
       "<Figure size 576x432 with 2 Axes>"
      ]
     },
     "metadata": {
      "needs_background": "light"
     },
     "output_type": "display_data"
    }
   ],
   "source": [
    "fig, ax = plt.subplots(2, 1, sharex = True, figsize=(8,6))\n",
    "\n",
    "fig.suptitle(\"Training/Validation Data\")\n",
    "\n",
    "ax[0].plot(history.history['loss'])\n",
    "ax[0].plot(history.history['val_loss'])\n",
    "ax[0].set_title('model loss')\n",
    "ax[0].set_ylabel('loss')\n",
    "ax[0].set_xlabel('epoch')\n",
    "ax[0].legend(['Train', 'Validation'])\n",
    "\n",
    "ax[1].plot(history.history['accuracy'])\n",
    "ax[1].plot(history.history['val_accuracy'])\n",
    "ax[1].set_title('model accuracy')\n",
    "ax[1].set_ylabel('accuracy')\n",
    "ax[1].set_xlabel('epoch')\n",
    "ax[1].legend(['Train', 'Validation'])\n",
    "\n",
    "plt.tight_layout();"
   ]
  },
  {
   "cell_type": "markdown",
   "id": "79ded983-3d27-4e5b-94b6-f08d4d45e1a3",
   "metadata": {},
   "source": [
    "This model was generated using training data that was split into a training and validation set.  The figure above shows training loss/accuracy and validation loss/accuracy of that model epoch by epoch."
   ]
  },
  {
   "cell_type": "code",
   "execution_count": 56,
   "id": "1747f04c-9ae8-4cea-a315-82f01b72c422",
   "metadata": {
    "tags": []
   },
   "outputs": [],
   "source": [
    "history2 = model.fit(x = x_train_1h.tocsr()[~ival_mask], \n",
    "                     y = y_train[~ival_mask], \n",
    "                     epochs=20, \n",
    "                     batch_size=512, \n",
    "                     validation_data=(x_test_1h.tocsr(), y_test),\n",
    "                     verbose=0)"
   ]
  },
  {
   "cell_type": "code",
   "execution_count": 57,
   "id": "c4ea11e1-9853-4103-9b36-bea81f0ae2c7",
   "metadata": {},
   "outputs": [
    {
     "data": {
      "image/png": "[encoded data removed]",
      "text/plain": [
       "<Figure size 576x432 with 2 Axes>"
      ]
     },
     "metadata": {
      "needs_background": "light"
     },
     "output_type": "display_data"
    }
   ],
   "source": [
    "fig, ax = plt.subplots(2, 1, sharex = True, figsize=(8,6))\n",
    "\n",
    "fig.suptitle(\"Training/Testing Data\")\n",
    "\n",
    "ax[0].plot(history2.history['loss'])\n",
    "ax[0].plot(history2.history['val_loss'])\n",
    "ax[0].set_title('model loss')\n",
    "ax[0].set_ylabel('loss')\n",
    "ax[0].set_xlabel('epoch')\n",
    "ax[0].legend(['Train', 'Test'])\n",
    "\n",
    "ax[1].plot(history2.history['accuracy'])\n",
    "ax[1].plot(history2.history['val_accuracy'])\n",
    "ax[1].set_title('model accuracy')\n",
    "ax[1].set_ylabel('accuracy')\n",
    "ax[1].set_xlabel('epoch')\n",
    "ax[1].legend(['Train', 'Test'])\n",
    "\n",
    "plt.tight_layout();"
   ]
  },
  {
   "cell_type": "markdown",
   "id": "da6f106c-d0b4-432b-b224-cf58d41ac056",
   "metadata": {},
   "source": [
    "Another model was generated from the same training data as the last model, however it was validated against test data.  The figure above shows training loss/accuracy and test loss/accuracy epoch by epoch.  "
   ]
  },
  {
   "cell_type": "markdown",
   "id": "ef2bad36-c8c0-42c2-9c75-f576436019f1",
   "metadata": {},
   "source": [
    "## 10.9.6 Recurrent Neural Networks"
   ]
  },
  {
   "cell_type": "markdown",
   "id": "6557d7a5-280d-42c2-b1e7-a4d2eb3fbcfd",
   "metadata": {},
   "source": [
    "The last lab highlights what are known as Recurrent Neural Networks (RNN) and are best used when the order or sequencing of inputs to the model carries information and is important.  The book gives several examples:\n",
    "   * Documents Classification: Word ordering is important and paying attention to the order in which words in a document are placed may help with the classification process.  For instance, \"the sauce on my pizza\" versus \"the pizza on my sauce\" are the same words but convey different meaning because the words are in a different order.  \n",
    "       - The first part of Lab 10.9.6 revisits sentiment analysis for IMDb reviews.\n",
    "   * Time series: temperature, rainfall, etc, where times early in the year and going to be colder or more rainy, whereas times in the middle of the year will be hotter with less rainfall.  \n",
    "       - The later part of lab 10.9.6 focuses on time series data from the New York Stock Exchange (NYSE)\n",
    "   * Recordings: Recorded speech, musical recordings, other sound recordings.  In many ways this is similar to document classification as recorded speech or music and constructed with specific sequences in mind.\n",
    "   * Handwriting: Similar to recordings or document classification.  \n",
    "    \n",
    "For the most part, it seems things related to human communication are prime targets for RNN."
   ]
  },
  {
   "cell_type": "markdown",
   "id": "1719c3a7-182c-4b3c-84e2-482f74ec0706",
   "metadata": {},
   "source": [
    "### Sentiment analysis with IMDb again"
   ]
  },
  {
   "cell_type": "code",
   "execution_count": 58,
   "id": "9d0c3dab-f24b-4cef-b2db-948e9ef18c42",
   "metadata": {},
   "outputs": [],
   "source": [
    "max_features = 10_000\n",
    "(x_train, y_train), (x_test, y_test) = keras.datasets.imdb.load_data(num_words=max_features)"
   ]
  },
  {
   "cell_type": "markdown",
   "id": "b15e6cc3-fd71-437e-91c7-842e4b77ea43",
   "metadata": {},
   "source": [
    "The median word count is 178, with ~92% of reviews containing less than 500 words.  The RNN requires the dimensions of your input to be constant, so we need to do some preprocessing before fitting the model. "
   ]
  },
  {
   "cell_type": "code",
   "execution_count": 59,
   "id": "f70f51d8-963a-4e8a-8331-aabd947f7af3",
   "metadata": {},
   "outputs": [
    {
     "data": {
      "text/plain": [
       "178.0"
      ]
     },
     "execution_count": 59,
     "metadata": {},
     "output_type": "execute_result"
    }
   ],
   "source": [
    "wc = []\n",
    "for seq in x_train:\n",
    "    seq_len = len(seq)\n",
    "    wc.append(seq_len)\n",
    "    \n",
    "wc = np.array(wc)\n",
    "\n",
    "np.median(wc)"
   ]
  },
  {
   "cell_type": "code",
   "execution_count": 60,
   "id": "ea3287dd-4002-4535-80df-79c485a5cc08",
   "metadata": {},
   "outputs": [
    {
     "data": {
      "text/plain": [
       "0.91568"
      ]
     },
     "execution_count": 60,
     "metadata": {},
     "output_type": "execute_result"
    }
   ],
   "source": [
    "sum(wc <= 500) / len(wc)"
   ]
  },
  {
   "cell_type": "markdown",
   "id": "24d279a1-de4c-4d62-bbd2-1a86fbec61b4",
   "metadata": {},
   "source": [
    "R has a function called `pad_sequences()`, which can insert blank values at the start of a sequence, elongating it until it reaches the desires amount of values needed.  \n",
    "\n",
    "NumPy has a pad function, however to my knowledge, it doesn't function exactly like `pad_sequences()` does in R, and I have to write a custom function that picks up the slack.\n",
    "\n",
    "My function checks the length of each row in a dataframe and for rows that are shorter than desired, 0s are padded at the start of the row until it reaches the desired length.  For rows that are longer than desired, then we keep the last 500 words.  The result is a new dataset than has 500 values for each review."
   ]
  },
  {
   "cell_type": "code",
   "execution_count": 61,
   "id": "736b521b-176c-4342-8676-d93167a6a11f",
   "metadata": {},
   "outputs": [],
   "source": [
    "def pad_sequences(data, maxlen):\n",
    "\n",
    "    padded = []\n",
    "\n",
    "    for row in data:\n",
    "        row_len = len(row)\n",
    "        abs_diff = abs(maxlen - row_len)\n",
    "        if row_len < maxlen:\n",
    "            padded.append(np.pad(array=row, pad_width=(abs_diff, 0)))\n",
    "        else:\n",
    "            padded.append(np.array(row[abs_diff:]))\n",
    "           \n",
    "    padded_array = np.array(padded)\n",
    "    \n",
    "    return padded_array"
   ]
  },
  {
   "cell_type": "code",
   "execution_count": 62,
   "id": "3f80275c-d8f9-4e33-8519-5eb0e89a1f0d",
   "metadata": {},
   "outputs": [
    {
     "data": {
      "text/plain": [
       "(25000, 500)"
      ]
     },
     "execution_count": 62,
     "metadata": {},
     "output_type": "execute_result"
    }
   ],
   "source": [
    "maxlen = 500\n",
    "\n",
    "x_train = pad_sequences(x_train, maxlen)\n",
    "x_test = pad_sequences(x_test, maxlen)\n",
    "\n",
    "x_train.shape"
   ]
  },
  {
   "cell_type": "code",
   "execution_count": 63,
   "id": "b79e6185-c870-4e68-ac48-82446c76d0f9",
   "metadata": {},
   "outputs": [
    {
     "data": {
      "text/plain": [
       "(25000, 500)"
      ]
     },
     "execution_count": 63,
     "metadata": {},
     "output_type": "execute_result"
    }
   ],
   "source": [
    "x_test.shape"
   ]
  },
  {
   "cell_type": "code",
   "execution_count": 64,
   "id": "eff6749b-8059-44dc-a131-442cecbc91f7",
   "metadata": {},
   "outputs": [
    {
     "data": {
      "text/plain": [
       "array([  16, 4472,  113,  103,   32,   15,   16, 5345,   19,  178,   32])"
      ]
     },
     "execution_count": 64,
     "metadata": {},
     "output_type": "execute_result"
    }
   ],
   "source": [
    "x_train[0, 489:500]"
   ]
  },
  {
   "cell_type": "markdown",
   "id": "d7c51a89-f6cc-434b-863f-d10b7cfe2176",
   "metadata": {},
   "source": [
    "When creating the model, there are two new layers, `Embedding` and `LSTM` that are used.  At this point, I don't need to be extremely familiar with their inner workings and won't worry about these details too much.  A quick summary is as follows:\n",
    "   * An embedding layer does the one hot encoding for us and reduces the dimensionality from 10000 words down to just 32.  \n",
    "   * LSTM stands for long term and short term memory.  The book doesn't go into much detail about this kind of layer, but mentions how the model keeps tracks of sequences of neuron activations through time.  Typically, the output of a layer in a neural network becomes the only inputs for the next layer, however LSTM enables the model to feed input from hidden units further back in time into the current layer as well, hence the term long term and short term memory.  "
   ]
  },
  {
   "cell_type": "code",
   "execution_count": 65,
   "id": "2d3380b1-142f-42a3-965e-eb0a7faf66d3",
   "metadata": {},
   "outputs": [],
   "source": [
    "model = keras.models.Sequential(\n",
    "    [\n",
    "        layers.Embedding(input_dim = 10000, output_dim = 32),\n",
    "        layers.LSTM(units = 32),\n",
    "        layers.Dense(units = 1, activation = 'sigmoid')\n",
    "    ]\n",
    ")"
   ]
  },
  {
   "cell_type": "code",
   "execution_count": 66,
   "id": "b7eac539-9511-4fe8-b9fb-6575c5bd7665",
   "metadata": {},
   "outputs": [],
   "source": [
    "model.compile(\n",
    "    optimizer = 'rmsprop', \n",
    "    loss='binary_crossentropy', \n",
    "    metrics='accuracy'\n",
    ")\n",
    "\n",
    "history = model.fit(x = x_train, \n",
    "                    y = y_train,\n",
    "                    epochs = 10, \n",
    "                    batch_size = 128,\n",
    "                    validation_data = (x_test, y_test),\n",
    "                    verbose=0)"
   ]
  },
  {
   "cell_type": "code",
   "execution_count": 67,
   "id": "bfb2ab33-c641-4a35-8c2c-62ff9b74207b",
   "metadata": {},
   "outputs": [
    {
     "data": {
      "image/png": "[encoded data removed]",
      "text/plain": [
       "<Figure size 576x432 with 2 Axes>"
      ]
     },
     "metadata": {
      "needs_background": "light"
     },
     "output_type": "display_data"
    }
   ],
   "source": [
    "fig, ax = plt.subplots(2, 1, sharex = True, figsize = (8,6))\n",
    "\n",
    "ax[0].plot(history.history['loss'])\n",
    "ax[0].plot(history.history['val_loss'])\n",
    "ax[0].set_title('model loss')\n",
    "ax[0].set_ylabel('loss')\n",
    "ax[0].set_xlabel('epoch')\n",
    "ax[0].legend(['Train', 'Validation'])\n",
    "\n",
    "ax[1].plot(history.history['accuracy'])\n",
    "ax[1].plot(history.history['val_accuracy'])\n",
    "ax[1].set_title('model accuracy')\n",
    "ax[1].set_ylabel('accuracy')\n",
    "ax[1].set_xlabel('epoch')\n",
    "ax[1].legend(['Train', 'Validation'])\n",
    "\n",
    "plt.tight_layout();"
   ]
  },
  {
   "cell_type": "code",
   "execution_count": 68,
   "id": "11bed2b6-9222-486b-b7fc-43b2b23017cc",
   "metadata": {},
   "outputs": [
    {
     "name": "stdout",
     "output_type": "stream",
     "text": [
      "782/782 [==============================] - 27s 33ms/step\n"
     ]
    },
    {
     "data": {
      "text/plain": [
       "0.86316"
      ]
     },
     "execution_count": 68,
     "metadata": {},
     "output_type": "execute_result"
    }
   ],
   "source": [
    "predy = model.predict(x_test) > 0.5\n",
    "\n",
    "np.mean(y_test == predy.flatten())"
   ]
  },
  {
   "cell_type": "markdown",
   "id": "0b455a06-4168-4f9d-8b71-c56fb147d7d7",
   "metadata": {},
   "source": [
    "The testing accuracy of the RNN is ~87%, which is very close to the 0.8721 found in the lab."
   ]
  },
  {
   "cell_type": "markdown",
   "id": "d6e006b0-d503-4c04-937b-37babb28a1d4",
   "metadata": {},
   "source": [
    "### Time Series Prediction"
   ]
  },
  {
   "cell_type": "markdown",
   "id": "3da63797-a5e1-482b-b1b7-a728cc3e2342",
   "metadata": {},
   "source": [
    "The final part of the lab uses time series data of the New York Stock Exchange (NYSE) to predict trading volume."
   ]
  },
  {
   "cell_type": "markdown",
   "id": "737faa1f-69f1-4305-8e68-27fec17b888e",
   "metadata": {},
   "source": [
    "The NYSE dataset is found in the ISLR2 library in R, however I was unable to find that dataset elsewhere.  I use the rpy2 library in Python to get the NYSE data , then scale the data using standard scaling:\n",
    "    \n",
    "$$x_\\text{new}=\\frac{x_\\text{old}-\\mu_x}{\\sigma_x}$$"
   ]
  },
  {
   "cell_type": "code",
   "execution_count": 69,
   "id": "a176cf84-12ad-4465-b498-f7b77f88e59c",
   "metadata": {
    "tags": []
   },
   "outputs": [],
   "source": [
    "data = robjects.r(\"\"\"\n",
    "library(ISLR2)\n",
    "xdata <- NYSE[, c(\"DJ_return\", \"log_volume\", \"log_volatility\")]\n",
    "\"\"\")\n",
    "with localconverter(robjects.default_converter + pandas2ri.converter):\n",
    "    xdata = robjects.conversion.rpy2py(data)\n",
    "    \n",
    "data = robjects.r(\"\"\"\n",
    "library(ISLR2)\n",
    "xdata <- NYSE[, \"train\"]\n",
    "\"\"\")\n",
    "istrain = np.array(data)\n",
    "\n",
    "xdata = (xdata - xdata.mean()) / xdata.std()"
   ]
  },
  {
   "cell_type": "markdown",
   "id": "e84e85bd-eeeb-493d-94f5-7662792c171f",
   "metadata": {},
   "source": [
    "The `lagm()` function is used to generate lagged versions of the data, by inserting k rows at the top of each column in a dataset and removing k rows from the bottom."
   ]
  },
  {
   "cell_type": "code",
   "execution_count": 70,
   "id": "ebd17ab7-3141-457b-87df-ec59e7e84b88",
   "metadata": {},
   "outputs": [],
   "source": [
    "def lagm(df, prefix, k=1):\n",
    "    num_rows, num_cols = df.shape\n",
    "    \n",
    "    null_df = pd.DataFrame(np.ones(shape=(k, num_cols)) * np.nan,\n",
    "                           columns = df.columns)\n",
    "    \n",
    "    padded_df = pd.concat([null_df, df[:-k]], ignore_index=True)\n",
    "    #padded_df.index += 1\n",
    "    \n",
    "    for column in padded_df.columns:\n",
    "        padded_df = padded_df.rename(columns={column: prefix + '_' + column})\n",
    "    \n",
    "    return padded_df"
   ]
  },
  {
   "cell_type": "code",
   "execution_count": 71,
   "id": "d0b51c70-b8e6-4de8-b432-5445debcd792",
   "metadata": {},
   "outputs": [],
   "source": [
    "arframe = pd.concat(\n",
    "    [\n",
    "        xdata[['log_volume']].reset_index(drop=True),\n",
    "        lagm(xdata, 'L1', 1), \n",
    "        lagm(xdata, 'L2', 2),\n",
    "        lagm(xdata, 'L3', 3),\n",
    "        lagm(xdata, 'L4', 4),\n",
    "        lagm(xdata, 'L5', 5)\n",
    "    ], axis=1\n",
    ")"
   ]
  },
  {
   "cell_type": "markdown",
   "id": "4c6e2346-a1ed-49c7-9c60-db8d74efbad6",
   "metadata": {},
   "source": [
    "Because values in the first 5 rows have been padded, some of the values will be missing.  As such, those rows are excluded and only the remaining rows will be used."
   ]
  },
  {
   "cell_type": "code",
   "execution_count": 72,
   "id": "3db99f06-4117-48a5-a8c6-a54afd80b986",
   "metadata": {},
   "outputs": [],
   "source": [
    "arframe = arframe[5:]\n",
    "istrain = istrain[5:]"
   ]
  },
  {
   "cell_type": "markdown",
   "id": "b052bfbf-42a1-46d9-b661-5393ce368cb9",
   "metadata": {},
   "source": [
    "Using `smf.ols()` again, we can mimic R's `lm()` function to perform the regression and predit `log_volume`.  After generating the predictions, performance is measured using $R^2$."
   ]
  },
  {
   "cell_type": "code",
   "execution_count": 73,
   "id": "10598f38-d11d-4437-b3bd-2b0a4357294f",
   "metadata": {},
   "outputs": [
    {
     "data": {
      "text/plain": [
       "0.41322299369023163"
      ]
     },
     "execution_count": 73,
     "metadata": {},
     "output_type": "execute_result"
    }
   ],
   "source": [
    "training_mask = istrain.astype(bool)\n",
    "\n",
    "formula_string = formula_from_cols(arframe, 'log_volume', use_target = True, remove_intercept = False)\n",
    "\n",
    "armodel = smf.ols(formula=formula_string, data = sm.add_constant(arframe[training_mask]))\n",
    "\n",
    "arfit = armodel.fit()\n",
    "\n",
    "arpred = arfit.predict(arframe[~training_mask])\n",
    "V_0 = arframe[~training_mask]['log_volume'].var()\n",
    "1 - np.mean((arpred - arframe[~training_mask]['log_volume'])**2) / V_0"
   ]
  },
  {
   "cell_type": "markdown",
   "id": "87948d8d-8938-4b4c-81ce-961770f57a5a",
   "metadata": {},
   "source": [
    "The lagged linear model has $R^2=0.4132$, which is the same as in the lab."
   ]
  },
  {
   "cell_type": "markdown",
   "id": "9e81c216-e2d1-4367-af24-fcde53358ad5",
   "metadata": {},
   "source": [
    "Next, information regarding `day_of_week` is pulled from the NYSE dataset and a new lagged linear model is fit using `smf.ols()`."
   ]
  },
  {
   "cell_type": "code",
   "execution_count": 74,
   "id": "75a27707-0724-49fc-844e-89ac8fcf864b",
   "metadata": {
    "tags": []
   },
   "outputs": [
    {
     "data": {
      "text/plain": [
       "0.459861648721539"
      ]
     },
     "execution_count": 74,
     "metadata": {},
     "output_type": "execute_result"
    }
   ],
   "source": [
    "data = robjects.r(\"\"\"\n",
    "library(ISLR2)\n",
    "xdata <- NYSE[, 'day_of_week']\n",
    "\"\"\")\n",
    "day_df = pd.DataFrame(np.array(data), columns=['day'])\n",
    "\n",
    "arframed = pd.concat([day_df[5:], arframe], axis=1)\n",
    "\n",
    "formula_string = formula_from_cols(arframed, 'log_volume', use_target = True, remove_intercept = False)\n",
    "\n",
    "armodeld = smf.ols(formula=formula_string, data = sm.add_constant(arframed[training_mask]))\n",
    "\n",
    "arfitd = armodeld.fit()\n",
    "\n",
    "arpredd = arfitd.predict(arframed[~training_mask])\n",
    "1 - np.mean((arpredd - arframed[~training_mask]['log_volume']) ** 2) / V_0"
   ]
  },
  {
   "cell_type": "markdown",
   "id": "1a456201-83de-4f62-a22b-be884cf3cea7",
   "metadata": {},
   "source": [
    "This new model performs slightly better than the old, achieving $R^2=0.4597$, which is the same as in the lab."
   ]
  },
  {
   "cell_type": "markdown",
   "id": "604046e4-d45f-4dc8-ae04-fe1bdc278fe6",
   "metadata": {},
   "source": [
    "Next, the lab uses a RNN to try and predict `log_volume`, however the dataset needs to be preprocessed, specifically it needs to be reshaped, before being used in the RNN.  Of particular interest was the need to specify `order='F'` when reshaping the data, which puts the array in what is known as Fortran order.  Because R uses Fortran quite a bit, this is important so that Python processes the data in the same way R does."
   ]
  },
  {
   "cell_type": "code",
   "execution_count": 75,
   "id": "f76a254d-c026-48f7-8d8d-4305e8e8dcf4",
   "metadata": {},
   "outputs": [
    {
     "data": {
      "text/plain": [
       "(6046, 5, 3)"
      ]
     },
     "execution_count": 75,
     "metadata": {},
     "output_type": "execute_result"
    }
   ],
   "source": [
    "n = arframe.shape[0]\n",
    "# This step extracts the n X 15 matrix of lagged versions of the three predictor variables\n",
    "xrnn = pd.DataFrame(arframe.iloc[:,1:])\n",
    "\n",
    "# These two steps construct an array of shape (n, 3, 5) in Fortran order\n",
    "xrnn = np.array(xrnn)\n",
    "xrnn = xrnn.reshape((n, 3, 5), order='F')\n",
    "\n",
    "# This step reverses the order of the lagged variables, so that index 0 in our sequence is furthest in time and index 5 is further away in time.\n",
    "xrnn = xrnn[:,:,::-1]\n",
    "\n",
    "# This last step rearranges the array into shape (n, 5, 3), which is what the RNN will\n",
    "xrnn = xrnn.transpose((0,2,1))\n",
    "xrnn.shape"
   ]
  },
  {
   "cell_type": "markdown",
   "id": "04f162de-fce7-4088-8257-2f2a9fc1eeff",
   "metadata": {},
   "source": [
    "Because this model is predicting `log_volume` which is quantitative, it makes sense to use MSE as the loss function again.  The model will minimize MSE during training."
   ]
  },
  {
   "cell_type": "code",
   "execution_count": 76,
   "id": "d1223b51-bea1-46e4-a881-3f2c9044ec95",
   "metadata": {},
   "outputs": [],
   "source": [
    "model = keras.models.Sequential(\n",
    "    [\n",
    "        layers.SimpleRNN(units=12,\n",
    "                         dropout=0.1,\n",
    "                         recurrent_dropout=0.1),\n",
    "        layers.Dense(units=1)\n",
    "    ]\n",
    ")\n",
    "\n",
    "model.compile(optimizer='rmsprop', loss='mse')"
   ]
  },
  {
   "cell_type": "code",
   "execution_count": 77,
   "id": "8073fd7f-467f-4e19-8fa9-fe1c696751c2",
   "metadata": {
    "tags": []
   },
   "outputs": [],
   "source": [
    "history = model.fit(\n",
    "    x = xrnn[training_mask, :, :],\n",
    "    y = arframe[training_mask]['log_volume'],\n",
    "    batch_size = 64, epochs = 200,\n",
    "    validation_data = (xrnn[~training_mask, :, :], \n",
    "                       arframe[~training_mask]['log_volume']),\n",
    "    verbose=0\n",
    ")"
   ]
  },
  {
   "cell_type": "code",
   "execution_count": 78,
   "id": "b355f1fa-41dc-41d7-94e2-1695b39ff11f",
   "metadata": {},
   "outputs": [
    {
     "data": {
      "image/png": "[encoded data removed]",
      "text/plain": [
       "<Figure size 432x288 with 1 Axes>"
      ]
     },
     "metadata": {
      "needs_background": "light"
     },
     "output_type": "display_data"
    }
   ],
   "source": [
    "plt.plot(history.history['loss'])\n",
    "plt.plot(history.history['val_loss'])\n",
    "plt.title('model loss')\n",
    "plt.ylabel('loss')\n",
    "plt.xlabel('epoch')\n",
    "plt.legend(['Train', 'Validation']);"
   ]
  },
  {
   "cell_type": "code",
   "execution_count": 79,
   "id": "c820eee9-161e-4b1d-af6b-5cbf99263bb9",
   "metadata": {},
   "outputs": [
    {
     "name": "stdout",
     "output_type": "stream",
     "text": [
      "56/56 [==============================] - 0s 1ms/step\n"
     ]
    },
    {
     "data": {
      "text/plain": [
       "0.4112298962871761"
      ]
     },
     "execution_count": 79,
     "metadata": {},
     "output_type": "execute_result"
    }
   ],
   "source": [
    "kpred = model.predict(xrnn[~training_mask])\n",
    "1 - np.mean((kpred.flatten() - arframe[~training_mask]['log_volume'])**2) / V_0"
   ]
  },
  {
   "cell_type": "markdown",
   "id": "99c4b288-2f50-498f-9508-4198dd5cbb12",
   "metadata": {},
   "source": [
    "The $R^2$ of the RNN is ~41%, close to the 0.416 from the lab.  Because of the dropout parameter in the SimpleRNN layer, I don't think it's possible to reproduce the $R^2$ from the lab exactly."
   ]
  },
  {
   "cell_type": "markdown",
   "id": "56b74a27-a097-4f4b-9980-7691b39b7ae4",
   "metadata": {},
   "source": [
    "Lastly, the final part of this lab uses `keras` to construct a nonlinear regression model to predict `log_volume`, however first `patsy` is used to create a design matrix again."
   ]
  },
  {
   "cell_type": "code",
   "execution_count": 80,
   "id": "03f4ee82-a293-456b-8b72-a0526bea4255",
   "metadata": {},
   "outputs": [
    {
     "data": {
      "text/plain": [
       "['day[fri]',\n",
       " 'day[mon]',\n",
       " 'day[thur]',\n",
       " 'day[tues]',\n",
       " 'day[wed]',\n",
       " 'L1_DJ_return',\n",
       " 'L1_log_volume',\n",
       " 'L1_log_volatility',\n",
       " 'L2_DJ_return',\n",
       " 'L2_log_volume',\n",
       " 'L2_log_volatility',\n",
       " 'L3_DJ_return',\n",
       " 'L3_log_volume',\n",
       " 'L3_log_volatility',\n",
       " 'L4_DJ_return',\n",
       " 'L4_log_volume',\n",
       " 'L4_log_volatility',\n",
       " 'L5_DJ_return',\n",
       " 'L5_log_volume',\n",
       " 'L5_log_volatility']"
      ]
     },
     "execution_count": 80,
     "metadata": {},
     "output_type": "execute_result"
    }
   ],
   "source": [
    "x = patsy.dmatrix(formula_like = 'day + L1_DJ_return + L1_log_volume + L1_log_volatility + L2_DJ_return + L2_log_volume + L2_log_volatility + L3_DJ_return + L3_log_volume + L3_log_volatility + L4_DJ_return + L4_log_volume + L4_log_volatility + L5_DJ_return + L5_log_volume + L5_log_volatility - 1', data = arframed)\n",
    "\n",
    "x.design_info.column_names"
   ]
  },
  {
   "cell_type": "markdown",
   "id": "9ed9f412-3494-456f-a2e6-f3ddaaaa20db",
   "metadata": {},
   "source": [
    "With the design matrix in hand, a `keras` model with 32 units in the first hidden layer, a dropout layer with a dropout rate of 50%, and finally an output layer with one unit, which will represent the predicted `log_volume`.  The model will again minimize MSE during training as it's predicting a quantitative output."
   ]
  },
  {
   "cell_type": "code",
   "execution_count": 81,
   "id": "da226ff7-2979-4b9a-bf0c-a07ca5a27510",
   "metadata": {},
   "outputs": [],
   "source": [
    "arnnd = keras.models.Sequential(\n",
    "    [\n",
    "        layers.Dense(units = 32, activation = 'relu'),\n",
    "        layers.Dropout(rate = 0.5),\n",
    "        layers.Dense(units = 1)\n",
    "    ]\n",
    ")\n",
    "\n",
    "arnnd.compile(loss = 'mse', optimizer = 'rmsprop')\n",
    "\n",
    "history = arnnd.fit(\n",
    "    x = x[training_mask],\n",
    "    y = arframe[training_mask]['log_volume'],\n",
    "    epochs = 100, batch_size = 32, \n",
    "    validation_data = [x[~training_mask], arframe[~training_mask]['log_volume']],\n",
    "    verbose = 0\n",
    ")"
   ]
  },
  {
   "cell_type": "code",
   "execution_count": 82,
   "id": "c601c8e7-1dbd-43cb-9298-376847d0a880",
   "metadata": {},
   "outputs": [
    {
     "data": {
      "image/png": "[encoded data removed]",
      "text/plain": [
       "<Figure size 432x288 with 1 Axes>"
      ]
     },
     "metadata": {
      "needs_background": "light"
     },
     "output_type": "display_data"
    }
   ],
   "source": [
    "plt.plot(history.history['loss'])\n",
    "plt.plot(history.history['val_loss'])\n",
    "plt.title('model loss')\n",
    "plt.ylabel('loss')\n",
    "plt.xlabel('epoch')\n",
    "plt.legend(['Train', 'Validation']);"
   ]
  },
  {
   "cell_type": "code",
   "execution_count": 83,
   "id": "b2ea3eb6-7b64-4eb8-bd84-b7bcbbcfa29a",
   "metadata": {},
   "outputs": [
    {
     "name": "stdout",
     "output_type": "stream",
     "text": [
      "56/56 [==============================] - 0s 846us/step\n"
     ]
    },
    {
     "data": {
      "text/plain": [
       "0.4686781667204557"
      ]
     },
     "execution_count": 83,
     "metadata": {},
     "output_type": "execute_result"
    }
   ],
   "source": [
    "npred = arnnd.predict(x[~training_mask])\n",
    "1 - np.mean((arframe[~training_mask]['log_volume'] - npred.flatten())**2) / V_0"
   ]
  },
  {
   "cell_type": "markdown",
   "id": "77ecebf8-71c2-4235-a7da-f57e6abcd9c2",
   "metadata": {},
   "source": [
    "The nonlinear regression model achieves accuracy of ~47%, close to the 0.4698 found in the lab.  I don't think it's possible to reproduce the results of the lab exactly because of the dropout layer again."
   ]
  },
  {
   "cell_type": "markdown",
   "id": "eb453eac-1f66-4286-ba00-c0bd4ba34890",
   "metadata": {},
   "source": [
    "The End"
   ]
  }
 ],
 "metadata": {
  "jupytext": {
   "formats": "ipynb,py:percent"
  },
  "kernelspec": {
   "display_name": "Python 3 (ipykernel)",
   "language": "python",
   "name": "python3"
  },
  "language_info": {
   "codemirror_mode": {
    "name": "ipython",
    "version": 3
   },
   "file_extension": ".py",
   "mimetype": "text/x-python",
   "name": "python",
   "nbconvert_exporter": "python",
   "pygments_lexer": "ipython3",
   "version": "3.9.12"
  }
 },
 "nbformat": 4,
 "nbformat_minor": 5
}
