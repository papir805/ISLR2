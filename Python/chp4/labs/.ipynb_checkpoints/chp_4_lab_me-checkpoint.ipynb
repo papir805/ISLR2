{
 "cells": [
  {
   "cell_type": "markdown",
   "id": "f8b7ae92-1ffa-4b9d-962e-f31d4e265df4",
   "metadata": {},
   "source": [
    "# 4.7 Lab: Logistic Regression, LDA, QDA, and KNN"
   ]
  },
  {
   "cell_type": "code",
   "execution_count": 1,
   "id": "f77ffc29-8407-4700-b980-780cd2e87014",
   "metadata": {},
   "outputs": [],
   "source": [
    "import pandas as pd\n",
    "import numpy as np\n",
    "\n",
    "import statsmodels.api as sm\n",
    "import statsmodels.formula.api as smf\n",
    "\n",
    "from sklearn.linear_model import LinearRegression, LogisticRegression\n",
    "from sklearn.discriminant_analysis import LinearDiscriminantAnalysis as LDA\n",
    "from sklearn.discriminant_analysis import QuadraticDiscriminantAnalysis as QDA\n",
    "from sklearn.neighbors import KNeighborsClassifier\n",
    "from sklearn.preprocessing import StandardScaler\n",
    "from sklearn.metrics import accuracy_score, confusion_matrix\n",
    "\n",
    "import matplotlib.pyplot as plt\n",
    "import seaborn as sns"
   ]
  },
  {
   "cell_type": "markdown",
   "id": "b954c48b-01d4-4c3f-9458-fd41af3b4b8e",
   "metadata": {},
   "source": [
    "## 4.6.1 The Stock Market Data"
   ]
  },
  {
   "cell_type": "code",
   "execution_count": 2,
   "id": "e2e8912b-2e3e-4ed6-9cac-8a7d0629e30d",
   "metadata": {},
   "outputs": [
    {
     "name": "stdout",
     "output_type": "stream",
     "text": [
      "(1250, 9)\n"
     ]
    },
    {
     "data": {
      "text/html": [
       "<div>\n",
       "<style scoped>\n",
       "    .dataframe tbody tr th:only-of-type {\n",
       "        vertical-align: middle;\n",
       "    }\n",
       "\n",
       "    .dataframe tbody tr th {\n",
       "        vertical-align: top;\n",
       "    }\n",
       "\n",
       "    .dataframe thead th {\n",
       "        text-align: right;\n",
       "    }\n",
       "</style>\n",
       "<table border=\"1\" class=\"dataframe\">\n",
       "  <thead>\n",
       "    <tr style=\"text-align: right;\">\n",
       "      <th></th>\n",
       "      <th>Year</th>\n",
       "      <th>Lag1</th>\n",
       "      <th>Lag2</th>\n",
       "      <th>Lag3</th>\n",
       "      <th>Lag4</th>\n",
       "      <th>Lag5</th>\n",
       "      <th>Volume</th>\n",
       "      <th>Today</th>\n",
       "      <th>Direction</th>\n",
       "    </tr>\n",
       "  </thead>\n",
       "  <tbody>\n",
       "    <tr>\n",
       "      <th>1</th>\n",
       "      <td>2001</td>\n",
       "      <td>0.381</td>\n",
       "      <td>-0.192</td>\n",
       "      <td>-2.624</td>\n",
       "      <td>-1.055</td>\n",
       "      <td>5.010</td>\n",
       "      <td>1.1913</td>\n",
       "      <td>0.959</td>\n",
       "      <td>Up</td>\n",
       "    </tr>\n",
       "    <tr>\n",
       "      <th>2</th>\n",
       "      <td>2001</td>\n",
       "      <td>0.959</td>\n",
       "      <td>0.381</td>\n",
       "      <td>-0.192</td>\n",
       "      <td>-2.624</td>\n",
       "      <td>-1.055</td>\n",
       "      <td>1.2965</td>\n",
       "      <td>1.032</td>\n",
       "      <td>Up</td>\n",
       "    </tr>\n",
       "    <tr>\n",
       "      <th>3</th>\n",
       "      <td>2001</td>\n",
       "      <td>1.032</td>\n",
       "      <td>0.959</td>\n",
       "      <td>0.381</td>\n",
       "      <td>-0.192</td>\n",
       "      <td>-2.624</td>\n",
       "      <td>1.4112</td>\n",
       "      <td>-0.623</td>\n",
       "      <td>Down</td>\n",
       "    </tr>\n",
       "    <tr>\n",
       "      <th>4</th>\n",
       "      <td>2001</td>\n",
       "      <td>-0.623</td>\n",
       "      <td>1.032</td>\n",
       "      <td>0.959</td>\n",
       "      <td>0.381</td>\n",
       "      <td>-0.192</td>\n",
       "      <td>1.2760</td>\n",
       "      <td>0.614</td>\n",
       "      <td>Up</td>\n",
       "    </tr>\n",
       "    <tr>\n",
       "      <th>5</th>\n",
       "      <td>2001</td>\n",
       "      <td>0.614</td>\n",
       "      <td>-0.623</td>\n",
       "      <td>1.032</td>\n",
       "      <td>0.959</td>\n",
       "      <td>0.381</td>\n",
       "      <td>1.2057</td>\n",
       "      <td>0.213</td>\n",
       "      <td>Up</td>\n",
       "    </tr>\n",
       "  </tbody>\n",
       "</table>\n",
       "</div>"
      ],
      "text/plain": [
       "   Year   Lag1   Lag2   Lag3   Lag4   Lag5  Volume  Today Direction\n",
       "1  2001  0.381 -0.192 -2.624 -1.055  5.010  1.1913  0.959        Up\n",
       "2  2001  0.959  0.381 -0.192 -2.624 -1.055  1.2965  1.032        Up\n",
       "3  2001  1.032  0.959  0.381 -0.192 -2.624  1.4112 -0.623      Down\n",
       "4  2001 -0.623  1.032  0.959  0.381 -0.192  1.2760  0.614        Up\n",
       "5  2001  0.614 -0.623  1.032  0.959  0.381  1.2057  0.213        Up"
      ]
     },
     "execution_count": 2,
     "metadata": {},
     "output_type": "execute_result"
    }
   ],
   "source": [
    "data = pd.read_csv('~/Google Drive/Coding/ISLR2/datasets/Smarket.csv')\n",
    "data.index = data.index + 1\n",
    "print(data.shape)\n",
    "data.head()"
   ]
  },
  {
   "cell_type": "code",
   "execution_count": 3,
   "id": "0c14433c-c137-4efb-a75d-a9e98a622ac6",
   "metadata": {},
   "outputs": [
    {
     "data": {
      "text/plain": [
       "Index(['Year', 'Lag1', 'Lag2', 'Lag3', 'Lag4', 'Lag5', 'Volume', 'Today',\n",
       "       'Direction'],\n",
       "      dtype='object')"
      ]
     },
     "execution_count": 3,
     "metadata": {},
     "output_type": "execute_result"
    }
   ],
   "source": [
    "data.columns"
   ]
  },
  {
   "cell_type": "code",
   "execution_count": 4,
   "id": "031bcb17-4e89-49bd-b457-40b339cecaad",
   "metadata": {},
   "outputs": [
    {
     "data": {
      "text/html": [
       "<div>\n",
       "<style scoped>\n",
       "    .dataframe tbody tr th:only-of-type {\n",
       "        vertical-align: middle;\n",
       "    }\n",
       "\n",
       "    .dataframe tbody tr th {\n",
       "        vertical-align: top;\n",
       "    }\n",
       "\n",
       "    .dataframe thead th {\n",
       "        text-align: right;\n",
       "    }\n",
       "</style>\n",
       "<table border=\"1\" class=\"dataframe\">\n",
       "  <thead>\n",
       "    <tr style=\"text-align: right;\">\n",
       "      <th></th>\n",
       "      <th>Year</th>\n",
       "      <th>Lag1</th>\n",
       "      <th>Lag2</th>\n",
       "      <th>Lag3</th>\n",
       "      <th>Lag4</th>\n",
       "      <th>Lag5</th>\n",
       "      <th>Volume</th>\n",
       "      <th>Today</th>\n",
       "    </tr>\n",
       "  </thead>\n",
       "  <tbody>\n",
       "    <tr>\n",
       "      <th>count</th>\n",
       "      <td>1250.000000</td>\n",
       "      <td>1250.000000</td>\n",
       "      <td>1250.000000</td>\n",
       "      <td>1250.000000</td>\n",
       "      <td>1250.000000</td>\n",
       "      <td>1250.00000</td>\n",
       "      <td>1250.000000</td>\n",
       "      <td>1250.000000</td>\n",
       "    </tr>\n",
       "    <tr>\n",
       "      <th>mean</th>\n",
       "      <td>2003.016000</td>\n",
       "      <td>0.003834</td>\n",
       "      <td>0.003919</td>\n",
       "      <td>0.001716</td>\n",
       "      <td>0.001636</td>\n",
       "      <td>0.00561</td>\n",
       "      <td>1.478305</td>\n",
       "      <td>0.003138</td>\n",
       "    </tr>\n",
       "    <tr>\n",
       "      <th>std</th>\n",
       "      <td>1.409018</td>\n",
       "      <td>1.136299</td>\n",
       "      <td>1.136280</td>\n",
       "      <td>1.138703</td>\n",
       "      <td>1.138774</td>\n",
       "      <td>1.14755</td>\n",
       "      <td>0.360357</td>\n",
       "      <td>1.136334</td>\n",
       "    </tr>\n",
       "    <tr>\n",
       "      <th>min</th>\n",
       "      <td>2001.000000</td>\n",
       "      <td>-4.922000</td>\n",
       "      <td>-4.922000</td>\n",
       "      <td>-4.922000</td>\n",
       "      <td>-4.922000</td>\n",
       "      <td>-4.92200</td>\n",
       "      <td>0.356070</td>\n",
       "      <td>-4.922000</td>\n",
       "    </tr>\n",
       "    <tr>\n",
       "      <th>25%</th>\n",
       "      <td>2002.000000</td>\n",
       "      <td>-0.639500</td>\n",
       "      <td>-0.639500</td>\n",
       "      <td>-0.640000</td>\n",
       "      <td>-0.640000</td>\n",
       "      <td>-0.64000</td>\n",
       "      <td>1.257400</td>\n",
       "      <td>-0.639500</td>\n",
       "    </tr>\n",
       "    <tr>\n",
       "      <th>50%</th>\n",
       "      <td>2003.000000</td>\n",
       "      <td>0.039000</td>\n",
       "      <td>0.039000</td>\n",
       "      <td>0.038500</td>\n",
       "      <td>0.038500</td>\n",
       "      <td>0.03850</td>\n",
       "      <td>1.422950</td>\n",
       "      <td>0.038500</td>\n",
       "    </tr>\n",
       "    <tr>\n",
       "      <th>75%</th>\n",
       "      <td>2004.000000</td>\n",
       "      <td>0.596750</td>\n",
       "      <td>0.596750</td>\n",
       "      <td>0.596750</td>\n",
       "      <td>0.596750</td>\n",
       "      <td>0.59700</td>\n",
       "      <td>1.641675</td>\n",
       "      <td>0.596750</td>\n",
       "    </tr>\n",
       "    <tr>\n",
       "      <th>max</th>\n",
       "      <td>2005.000000</td>\n",
       "      <td>5.733000</td>\n",
       "      <td>5.733000</td>\n",
       "      <td>5.733000</td>\n",
       "      <td>5.733000</td>\n",
       "      <td>5.73300</td>\n",
       "      <td>3.152470</td>\n",
       "      <td>5.733000</td>\n",
       "    </tr>\n",
       "  </tbody>\n",
       "</table>\n",
       "</div>"
      ],
      "text/plain": [
       "              Year         Lag1         Lag2         Lag3         Lag4  \\\n",
       "count  1250.000000  1250.000000  1250.000000  1250.000000  1250.000000   \n",
       "mean   2003.016000     0.003834     0.003919     0.001716     0.001636   \n",
       "std       1.409018     1.136299     1.136280     1.138703     1.138774   \n",
       "min    2001.000000    -4.922000    -4.922000    -4.922000    -4.922000   \n",
       "25%    2002.000000    -0.639500    -0.639500    -0.640000    -0.640000   \n",
       "50%    2003.000000     0.039000     0.039000     0.038500     0.038500   \n",
       "75%    2004.000000     0.596750     0.596750     0.596750     0.596750   \n",
       "max    2005.000000     5.733000     5.733000     5.733000     5.733000   \n",
       "\n",
       "             Lag5       Volume        Today  \n",
       "count  1250.00000  1250.000000  1250.000000  \n",
       "mean      0.00561     1.478305     0.003138  \n",
       "std       1.14755     0.360357     1.136334  \n",
       "min      -4.92200     0.356070    -4.922000  \n",
       "25%      -0.64000     1.257400    -0.639500  \n",
       "50%       0.03850     1.422950     0.038500  \n",
       "75%       0.59700     1.641675     0.596750  \n",
       "max       5.73300     3.152470     5.733000  "
      ]
     },
     "execution_count": 4,
     "metadata": {},
     "output_type": "execute_result"
    }
   ],
   "source": [
    "data.describe()"
   ]
  },
  {
   "cell_type": "code",
   "execution_count": 5,
   "id": "563a980f-fae4-4297-a65a-d2202d8e4687",
   "metadata": {},
   "outputs": [
    {
     "data": {
      "text/html": [
       "<div>\n",
       "<style scoped>\n",
       "    .dataframe tbody tr th:only-of-type {\n",
       "        vertical-align: middle;\n",
       "    }\n",
       "\n",
       "    .dataframe tbody tr th {\n",
       "        vertical-align: top;\n",
       "    }\n",
       "\n",
       "    .dataframe thead th {\n",
       "        text-align: right;\n",
       "    }\n",
       "</style>\n",
       "<table border=\"1\" class=\"dataframe\">\n",
       "  <thead>\n",
       "    <tr style=\"text-align: right;\">\n",
       "      <th></th>\n",
       "      <th>Year</th>\n",
       "      <th>Lag1</th>\n",
       "      <th>Lag2</th>\n",
       "      <th>Lag3</th>\n",
       "      <th>Lag4</th>\n",
       "      <th>Lag5</th>\n",
       "      <th>Volume</th>\n",
       "      <th>Today</th>\n",
       "    </tr>\n",
       "  </thead>\n",
       "  <tbody>\n",
       "    <tr>\n",
       "      <th>Year</th>\n",
       "      <td>1.000000</td>\n",
       "      <td>0.029700</td>\n",
       "      <td>0.030596</td>\n",
       "      <td>0.033195</td>\n",
       "      <td>0.035689</td>\n",
       "      <td>0.029788</td>\n",
       "      <td>0.539006</td>\n",
       "      <td>0.030095</td>\n",
       "    </tr>\n",
       "    <tr>\n",
       "      <th>Lag1</th>\n",
       "      <td>0.029700</td>\n",
       "      <td>1.000000</td>\n",
       "      <td>-0.026294</td>\n",
       "      <td>-0.010803</td>\n",
       "      <td>-0.002986</td>\n",
       "      <td>-0.005675</td>\n",
       "      <td>0.040910</td>\n",
       "      <td>-0.026155</td>\n",
       "    </tr>\n",
       "    <tr>\n",
       "      <th>Lag2</th>\n",
       "      <td>0.030596</td>\n",
       "      <td>-0.026294</td>\n",
       "      <td>1.000000</td>\n",
       "      <td>-0.025897</td>\n",
       "      <td>-0.010854</td>\n",
       "      <td>-0.003558</td>\n",
       "      <td>-0.043383</td>\n",
       "      <td>-0.010250</td>\n",
       "    </tr>\n",
       "    <tr>\n",
       "      <th>Lag3</th>\n",
       "      <td>0.033195</td>\n",
       "      <td>-0.010803</td>\n",
       "      <td>-0.025897</td>\n",
       "      <td>1.000000</td>\n",
       "      <td>-0.024051</td>\n",
       "      <td>-0.018808</td>\n",
       "      <td>-0.041824</td>\n",
       "      <td>-0.002448</td>\n",
       "    </tr>\n",
       "    <tr>\n",
       "      <th>Lag4</th>\n",
       "      <td>0.035689</td>\n",
       "      <td>-0.002986</td>\n",
       "      <td>-0.010854</td>\n",
       "      <td>-0.024051</td>\n",
       "      <td>1.000000</td>\n",
       "      <td>-0.027084</td>\n",
       "      <td>-0.048414</td>\n",
       "      <td>-0.006900</td>\n",
       "    </tr>\n",
       "    <tr>\n",
       "      <th>Lag5</th>\n",
       "      <td>0.029788</td>\n",
       "      <td>-0.005675</td>\n",
       "      <td>-0.003558</td>\n",
       "      <td>-0.018808</td>\n",
       "      <td>-0.027084</td>\n",
       "      <td>1.000000</td>\n",
       "      <td>-0.022002</td>\n",
       "      <td>-0.034860</td>\n",
       "    </tr>\n",
       "    <tr>\n",
       "      <th>Volume</th>\n",
       "      <td>0.539006</td>\n",
       "      <td>0.040910</td>\n",
       "      <td>-0.043383</td>\n",
       "      <td>-0.041824</td>\n",
       "      <td>-0.048414</td>\n",
       "      <td>-0.022002</td>\n",
       "      <td>1.000000</td>\n",
       "      <td>0.014592</td>\n",
       "    </tr>\n",
       "    <tr>\n",
       "      <th>Today</th>\n",
       "      <td>0.030095</td>\n",
       "      <td>-0.026155</td>\n",
       "      <td>-0.010250</td>\n",
       "      <td>-0.002448</td>\n",
       "      <td>-0.006900</td>\n",
       "      <td>-0.034860</td>\n",
       "      <td>0.014592</td>\n",
       "      <td>1.000000</td>\n",
       "    </tr>\n",
       "  </tbody>\n",
       "</table>\n",
       "</div>"
      ],
      "text/plain": [
       "            Year      Lag1      Lag2      Lag3      Lag4      Lag5    Volume  \\\n",
       "Year    1.000000  0.029700  0.030596  0.033195  0.035689  0.029788  0.539006   \n",
       "Lag1    0.029700  1.000000 -0.026294 -0.010803 -0.002986 -0.005675  0.040910   \n",
       "Lag2    0.030596 -0.026294  1.000000 -0.025897 -0.010854 -0.003558 -0.043383   \n",
       "Lag3    0.033195 -0.010803 -0.025897  1.000000 -0.024051 -0.018808 -0.041824   \n",
       "Lag4    0.035689 -0.002986 -0.010854 -0.024051  1.000000 -0.027084 -0.048414   \n",
       "Lag5    0.029788 -0.005675 -0.003558 -0.018808 -0.027084  1.000000 -0.022002   \n",
       "Volume  0.539006  0.040910 -0.043383 -0.041824 -0.048414 -0.022002  1.000000   \n",
       "Today   0.030095 -0.026155 -0.010250 -0.002448 -0.006900 -0.034860  0.014592   \n",
       "\n",
       "           Today  \n",
       "Year    0.030095  \n",
       "Lag1   -0.026155  \n",
       "Lag2   -0.010250  \n",
       "Lag3   -0.002448  \n",
       "Lag4   -0.006900  \n",
       "Lag5   -0.034860  \n",
       "Volume  0.014592  \n",
       "Today   1.000000  "
      ]
     },
     "execution_count": 5,
     "metadata": {},
     "output_type": "execute_result"
    }
   ],
   "source": [
    "corr = data.corr()\n",
    "corr"
   ]
  },
  {
   "cell_type": "code",
   "execution_count": 6,
   "id": "1fa2e4da-17ef-4629-aaef-fd7b7d416159",
   "metadata": {},
   "outputs": [
    {
     "data": {
      "image/png": "[encoded data removed]",
      "text/plain": [
       "<Figure size 576x576 with 2 Axes>"
      ]
     },
     "metadata": {
      "needs_background": "light"
     },
     "output_type": "display_data"
    }
   ],
   "source": [
    "plt.figure(figsize=(8,8))\n",
    "sns.heatmap(corr);"
   ]
  },
  {
   "cell_type": "markdown",
   "id": "ad482e16-4d8d-4956-8dbc-e3f61edc1151",
   "metadata": {},
   "source": [
    "The only significant correlation appears to be between Year and Volume"
   ]
  },
  {
   "cell_type": "code",
   "execution_count": 7,
   "id": "c8ef69a9-a069-44bf-8600-c311ad95e560",
   "metadata": {},
   "outputs": [
    {
     "data": {
      "text/html": [
       "<div>\n",
       "<style scoped>\n",
       "    .dataframe tbody tr th:only-of-type {\n",
       "        vertical-align: middle;\n",
       "    }\n",
       "\n",
       "    .dataframe tbody tr th {\n",
       "        vertical-align: top;\n",
       "    }\n",
       "\n",
       "    .dataframe thead th {\n",
       "        text-align: right;\n",
       "    }\n",
       "</style>\n",
       "<table border=\"1\" class=\"dataframe\">\n",
       "  <thead>\n",
       "    <tr style=\"text-align: right;\">\n",
       "      <th></th>\n",
       "      <th>Volume</th>\n",
       "    </tr>\n",
       "  </thead>\n",
       "  <tbody>\n",
       "    <tr>\n",
       "      <th>Year</th>\n",
       "      <td>0.539006</td>\n",
       "    </tr>\n",
       "    <tr>\n",
       "      <th>Lag1</th>\n",
       "      <td>0.040910</td>\n",
       "    </tr>\n",
       "    <tr>\n",
       "      <th>Lag2</th>\n",
       "      <td>-0.043383</td>\n",
       "    </tr>\n",
       "    <tr>\n",
       "      <th>Lag3</th>\n",
       "      <td>-0.041824</td>\n",
       "    </tr>\n",
       "    <tr>\n",
       "      <th>Lag4</th>\n",
       "      <td>-0.048414</td>\n",
       "    </tr>\n",
       "    <tr>\n",
       "      <th>Lag5</th>\n",
       "      <td>-0.022002</td>\n",
       "    </tr>\n",
       "    <tr>\n",
       "      <th>Volume</th>\n",
       "      <td>1.000000</td>\n",
       "    </tr>\n",
       "    <tr>\n",
       "      <th>Today</th>\n",
       "      <td>0.014592</td>\n",
       "    </tr>\n",
       "  </tbody>\n",
       "</table>\n",
       "</div>"
      ],
      "text/plain": [
       "          Volume\n",
       "Year    0.539006\n",
       "Lag1    0.040910\n",
       "Lag2   -0.043383\n",
       "Lag3   -0.041824\n",
       "Lag4   -0.048414\n",
       "Lag5   -0.022002\n",
       "Volume  1.000000\n",
       "Today   0.014592"
      ]
     },
     "execution_count": 7,
     "metadata": {},
     "output_type": "execute_result"
    }
   ],
   "source": [
    "corr.iloc[:,-2].to_frame()"
   ]
  },
  {
   "cell_type": "code",
   "execution_count": 8,
   "id": "0843245b-39ff-425a-970d-fa12468015e7",
   "metadata": {},
   "outputs": [
    {
     "data": {
      "image/png": "[encoded data removed]",
      "text/plain": [
       "<Figure size 864x432 with 1 Axes>"
      ]
     },
     "metadata": {
      "needs_background": "light"
     },
     "output_type": "display_data"
    }
   ],
   "source": [
    "plt.figure(figsize=(12,6))\n",
    "sns.scatterplot(x=data.index, y=data['Volume']);"
   ]
  },
  {
   "cell_type": "markdown",
   "id": "362d0a15-dc14-4756-b6de-6718a9f407c8",
   "metadata": {},
   "source": [
    "## 4.6.2 Logistic Regression"
   ]
  },
  {
   "cell_type": "code",
   "execution_count": 9,
   "id": "cf377a7a-3e68-4027-9b31-9e46db058399",
   "metadata": {},
   "outputs": [],
   "source": [
    "# Keep a copy of the original data intact so we can manipulate the data\n",
    "data_orig = data.copy()"
   ]
  },
  {
   "cell_type": "code",
   "execution_count": 10,
   "id": "5211f9af-7032-4955-a218-2a7ef2c2f002",
   "metadata": {},
   "outputs": [],
   "source": [
    "data['Direction'] = data['Direction'].map({'Down':0, 'Up':1})"
   ]
  },
  {
   "cell_type": "code",
   "execution_count": 11,
   "id": "c78d7c7f-22ae-497d-ba70-3ad8c8ce88ab",
   "metadata": {},
   "outputs": [
    {
     "name": "stdout",
     "output_type": "stream",
     "text": [
      "Optimization terminated successfully.\n",
      "         Current function value: 0.691034\n",
      "         Iterations 4\n"
     ]
    }
   ],
   "source": [
    "logit = smf.logit(formula='Direction ~ Lag1 + Lag2 + Lag3 + Lag4 + Lag5 + Volume', data = data).fit()"
   ]
  },
  {
   "cell_type": "code",
   "execution_count": 12,
   "id": "f41d5e7c-66af-4465-90ef-bdc89896be2e",
   "metadata": {},
   "outputs": [
    {
     "data": {
      "text/html": [
       "<table class=\"simpletable\">\n",
       "<caption>Logit Regression Results</caption>\n",
       "<tr>\n",
       "  <th>Dep. Variable:</th>       <td>Direction</td>    <th>  No. Observations:  </th>  <td>  1250</td> \n",
       "</tr>\n",
       "<tr>\n",
       "  <th>Model:</th>                 <td>Logit</td>      <th>  Df Residuals:      </th>  <td>  1243</td> \n",
       "</tr>\n",
       "<tr>\n",
       "  <th>Method:</th>                 <td>MLE</td>       <th>  Df Model:          </th>  <td>     6</td> \n",
       "</tr>\n",
       "<tr>\n",
       "  <th>Date:</th>            <td>Tue, 05 Jul 2022</td> <th>  Pseudo R-squ.:     </th> <td>0.002074</td>\n",
       "</tr>\n",
       "<tr>\n",
       "  <th>Time:</th>                <td>23:33:57</td>     <th>  Log-Likelihood:    </th> <td> -863.79</td>\n",
       "</tr>\n",
       "<tr>\n",
       "  <th>converged:</th>             <td>True</td>       <th>  LL-Null:           </th> <td> -865.59</td>\n",
       "</tr>\n",
       "<tr>\n",
       "  <th>Covariance Type:</th>     <td>nonrobust</td>    <th>  LLR p-value:       </th>  <td>0.7319</td> \n",
       "</tr>\n",
       "</table>\n",
       "<table class=\"simpletable\">\n",
       "<tr>\n",
       "      <td></td>         <th>coef</th>     <th>std err</th>      <th>z</th>      <th>P>|z|</th>  <th>[0.025</th>    <th>0.975]</th>  \n",
       "</tr>\n",
       "<tr>\n",
       "  <th>Intercept</th> <td>   -0.1260</td> <td>    0.241</td> <td>   -0.523</td> <td> 0.601</td> <td>   -0.598</td> <td>    0.346</td>\n",
       "</tr>\n",
       "<tr>\n",
       "  <th>Lag1</th>      <td>   -0.0731</td> <td>    0.050</td> <td>   -1.457</td> <td> 0.145</td> <td>   -0.171</td> <td>    0.025</td>\n",
       "</tr>\n",
       "<tr>\n",
       "  <th>Lag2</th>      <td>   -0.0423</td> <td>    0.050</td> <td>   -0.845</td> <td> 0.398</td> <td>   -0.140</td> <td>    0.056</td>\n",
       "</tr>\n",
       "<tr>\n",
       "  <th>Lag3</th>      <td>    0.0111</td> <td>    0.050</td> <td>    0.222</td> <td> 0.824</td> <td>   -0.087</td> <td>    0.109</td>\n",
       "</tr>\n",
       "<tr>\n",
       "  <th>Lag4</th>      <td>    0.0094</td> <td>    0.050</td> <td>    0.187</td> <td> 0.851</td> <td>   -0.089</td> <td>    0.107</td>\n",
       "</tr>\n",
       "<tr>\n",
       "  <th>Lag5</th>      <td>    0.0103</td> <td>    0.050</td> <td>    0.208</td> <td> 0.835</td> <td>   -0.087</td> <td>    0.107</td>\n",
       "</tr>\n",
       "<tr>\n",
       "  <th>Volume</th>    <td>    0.1354</td> <td>    0.158</td> <td>    0.855</td> <td> 0.392</td> <td>   -0.175</td> <td>    0.446</td>\n",
       "</tr>\n",
       "</table>"
      ],
      "text/plain": [
       "<class 'statsmodels.iolib.summary.Summary'>\n",
       "\"\"\"\n",
       "                           Logit Regression Results                           \n",
       "==============================================================================\n",
       "Dep. Variable:              Direction   No. Observations:                 1250\n",
       "Model:                          Logit   Df Residuals:                     1243\n",
       "Method:                           MLE   Df Model:                            6\n",
       "Date:                Tue, 05 Jul 2022   Pseudo R-squ.:                0.002074\n",
       "Time:                        23:33:57   Log-Likelihood:                -863.79\n",
       "converged:                       True   LL-Null:                       -865.59\n",
       "Covariance Type:            nonrobust   LLR p-value:                    0.7319\n",
       "==============================================================================\n",
       "                 coef    std err          z      P>|z|      [0.025      0.975]\n",
       "------------------------------------------------------------------------------\n",
       "Intercept     -0.1260      0.241     -0.523      0.601      -0.598       0.346\n",
       "Lag1          -0.0731      0.050     -1.457      0.145      -0.171       0.025\n",
       "Lag2          -0.0423      0.050     -0.845      0.398      -0.140       0.056\n",
       "Lag3           0.0111      0.050      0.222      0.824      -0.087       0.109\n",
       "Lag4           0.0094      0.050      0.187      0.851      -0.089       0.107\n",
       "Lag5           0.0103      0.050      0.208      0.835      -0.087       0.107\n",
       "Volume         0.1354      0.158      0.855      0.392      -0.175       0.446\n",
       "==============================================================================\n",
       "\"\"\""
      ]
     },
     "execution_count": 12,
     "metadata": {},
     "output_type": "execute_result"
    }
   ],
   "source": [
    "logit.summary()"
   ]
  },
  {
   "cell_type": "code",
   "execution_count": 13,
   "id": "deec460b-b943-414a-a9fc-a7d78abcff43",
   "metadata": {},
   "outputs": [
    {
     "data": {
      "text/plain": [
       "Intercept   -0.126000\n",
       "Lag1        -0.073074\n",
       "Lag2        -0.042301\n",
       "Lag3         0.011085\n",
       "Lag4         0.009359\n",
       "Lag5         0.010313\n",
       "Volume       0.135441\n",
       "dtype: float64"
      ]
     },
     "execution_count": 13,
     "metadata": {},
     "output_type": "execute_result"
    }
   ],
   "source": [
    "logit.params"
   ]
  },
  {
   "cell_type": "code",
   "execution_count": 14,
   "id": "d07946b2-eac2-48fd-8f9d-7c4088e9932d",
   "metadata": {},
   "outputs": [
    {
     "data": {
      "text/plain": [
       "Intercept    0.600700\n",
       "Lag1         0.145232\n",
       "Lag2         0.398352\n",
       "Lag3         0.824334\n",
       "Lag4         0.851445\n",
       "Lag5         0.834998\n",
       "Volume       0.392404\n",
       "dtype: float64"
      ]
     },
     "execution_count": 14,
     "metadata": {},
     "output_type": "execute_result"
    }
   ],
   "source": [
    "logit.pvalues"
   ]
  },
  {
   "cell_type": "code",
   "execution_count": 15,
   "id": "beda695f-49fc-476c-a40e-84a9b373b7a4",
   "metadata": {},
   "outputs": [
    {
     "name": "stdout",
     "output_type": "stream",
     "text": [
      "['__class__', '__delattr__', '__dict__', '__dir__', '__doc__', '__eq__', '__format__', '__ge__', '__getattribute__', '__getstate__', '__gt__', '__hash__', '__init__', '__init_subclass__', '__le__', '__lt__', '__module__', '__ne__', '__new__', '__reduce__', '__reduce_ex__', '__repr__', '__setattr__', '__sizeof__', '__str__', '__subclasshook__', '__weakref__', '_cache', '_data_attr', '_data_in_cache', '_get_endog_name', '_get_robustcov_results', '_use_t', 'aic', 'bic', 'bse', 'conf_int', 'cov_kwds', 'cov_params', 'cov_type', 'df_model', 'df_resid', 'f_test', 'fittedvalues', 'get_margeff', 'initialize', 'k_constant', 'llf', 'llnull', 'llr', 'llr_pvalue', 'load', 'mle_retvals', 'mle_settings', 'model', 'nobs', 'normalized_cov_params', 'params', 'pred_table', 'predict', 'prsquared', 'pvalues', 'remove_data', 'resid_dev', 'resid_generalized', 'resid_pearson', 'resid_response', 'save', 'scale', 'set_null_options', 'summary', 'summary2', 't_test', 't_test_pairwise', 'tvalues', 'use_t', 'wald_test', 'wald_test_terms']\n"
     ]
    }
   ],
   "source": [
    "print(dir(logit))"
   ]
  },
  {
   "cell_type": "code",
   "execution_count": 16,
   "id": "51e307d2-9659-492a-b42e-69331a6c38a7",
   "metadata": {},
   "outputs": [
    {
     "name": "stdout",
     "output_type": "stream",
     "text": [
      "[0.5070841334630001, 0.48146787817516973, 0.4811388348131379, 0.5152223557927659, 0.5107811625911515, 0.5069564604552573, 0.49265087386752915, 0.5092291581449722, 0.5176135261687921, 0.4888377794207711]\n"
     ]
    },
    {
     "data": {
      "text/html": [
       "<div>\n",
       "<style scoped>\n",
       "    .dataframe tbody tr th:only-of-type {\n",
       "        vertical-align: middle;\n",
       "    }\n",
       "\n",
       "    .dataframe tbody tr th {\n",
       "        vertical-align: top;\n",
       "    }\n",
       "\n",
       "    .dataframe thead th {\n",
       "        text-align: right;\n",
       "    }\n",
       "</style>\n",
       "<table border=\"1\" class=\"dataframe\">\n",
       "  <thead>\n",
       "    <tr style=\"text-align: right;\">\n",
       "      <th></th>\n",
       "      <th>Probabilities</th>\n",
       "      <th>Classes</th>\n",
       "    </tr>\n",
       "  </thead>\n",
       "  <tbody>\n",
       "    <tr>\n",
       "      <th>1</th>\n",
       "      <td>0.507084</td>\n",
       "      <td>Up</td>\n",
       "    </tr>\n",
       "    <tr>\n",
       "      <th>2</th>\n",
       "      <td>0.481468</td>\n",
       "      <td>Down</td>\n",
       "    </tr>\n",
       "    <tr>\n",
       "      <th>3</th>\n",
       "      <td>0.481139</td>\n",
       "      <td>Down</td>\n",
       "    </tr>\n",
       "    <tr>\n",
       "      <th>4</th>\n",
       "      <td>0.515222</td>\n",
       "      <td>Up</td>\n",
       "    </tr>\n",
       "    <tr>\n",
       "      <th>5</th>\n",
       "      <td>0.510781</td>\n",
       "      <td>Up</td>\n",
       "    </tr>\n",
       "    <tr>\n",
       "      <th>6</th>\n",
       "      <td>0.506956</td>\n",
       "      <td>Up</td>\n",
       "    </tr>\n",
       "    <tr>\n",
       "      <th>7</th>\n",
       "      <td>0.492651</td>\n",
       "      <td>Down</td>\n",
       "    </tr>\n",
       "    <tr>\n",
       "      <th>8</th>\n",
       "      <td>0.509229</td>\n",
       "      <td>Up</td>\n",
       "    </tr>\n",
       "    <tr>\n",
       "      <th>9</th>\n",
       "      <td>0.517614</td>\n",
       "      <td>Up</td>\n",
       "    </tr>\n",
       "    <tr>\n",
       "      <th>10</th>\n",
       "      <td>0.488838</td>\n",
       "      <td>Down</td>\n",
       "    </tr>\n",
       "  </tbody>\n",
       "</table>\n",
       "</div>"
      ],
      "text/plain": [
       "    Probabilities Classes\n",
       "1        0.507084      Up\n",
       "2        0.481468    Down\n",
       "3        0.481139    Down\n",
       "4        0.515222      Up\n",
       "5        0.510781      Up\n",
       "6        0.506956      Up\n",
       "7        0.492651    Down\n",
       "8        0.509229      Up\n",
       "9        0.517614      Up\n",
       "10       0.488838    Down"
      ]
     },
     "execution_count": 16,
     "metadata": {},
     "output_type": "execute_result"
    }
   ],
   "source": [
    "X = data.iloc[:, 1:-2]\n",
    "X = sm.add_constant(X)\n",
    "\n",
    "# Probability that the given observation will result in 'UP'\n",
    "prob = logit.predict(X)[:10]\n",
    "print(list(prob))\n",
    "\n",
    "predicted_classes = np.where(prob <= 0.5, 'Down', 'Up')\n",
    "pd.DataFrame({\"Probabilities\":prob, 'Classes':predicted_classes})"
   ]
  },
  {
   "cell_type": "code",
   "execution_count": 17,
   "id": "29f3b6d7-e36b-46be-bacb-c794800dfe52",
   "metadata": {},
   "outputs": [
    {
     "data": {
      "text/plain": [
       "(array([-0.12600781]),\n",
       " array([[-0.07307339, -0.04230074,  0.01108552,  0.00935968,  0.01031339,\n",
       "          0.13544567]]))"
      ]
     },
     "execution_count": 17,
     "metadata": {},
     "output_type": "execute_result"
    }
   ],
   "source": [
    "# Using Sklearn\n",
    "X = data.iloc[:, 1:-2]\n",
    "y = data['Direction']\n",
    "lr = LogisticRegression(C=1e9).fit(X, y) # Large C for no regularization\n",
    "lr_preds = lr.predict(X)\n",
    "lr.intercept_, lr.coef_"
   ]
  },
  {
   "cell_type": "code",
   "execution_count": 18,
   "id": "944b198a-23a4-4cbf-94df-b9433c34d224",
   "metadata": {},
   "outputs": [
    {
     "data": {
      "text/html": [
       "<div>\n",
       "<style scoped>\n",
       "    .dataframe tbody tr th:only-of-type {\n",
       "        vertical-align: middle;\n",
       "    }\n",
       "\n",
       "    .dataframe tbody tr th {\n",
       "        vertical-align: top;\n",
       "    }\n",
       "\n",
       "    .dataframe thead th {\n",
       "        text-align: right;\n",
       "    }\n",
       "</style>\n",
       "<table border=\"1\" class=\"dataframe\">\n",
       "  <thead>\n",
       "    <tr style=\"text-align: right;\">\n",
       "      <th></th>\n",
       "      <th>prob_0</th>\n",
       "      <th>prob_1</th>\n",
       "      <th>pred_class</th>\n",
       "    </tr>\n",
       "  </thead>\n",
       "  <tbody>\n",
       "    <tr>\n",
       "      <th>0</th>\n",
       "      <td>0.492916</td>\n",
       "      <td>0.507084</td>\n",
       "      <td>1</td>\n",
       "    </tr>\n",
       "    <tr>\n",
       "      <th>1</th>\n",
       "      <td>0.518533</td>\n",
       "      <td>0.481467</td>\n",
       "      <td>0</td>\n",
       "    </tr>\n",
       "    <tr>\n",
       "      <th>2</th>\n",
       "      <td>0.518861</td>\n",
       "      <td>0.481139</td>\n",
       "      <td>0</td>\n",
       "    </tr>\n",
       "    <tr>\n",
       "      <th>3</th>\n",
       "      <td>0.484778</td>\n",
       "      <td>0.515222</td>\n",
       "      <td>1</td>\n",
       "    </tr>\n",
       "    <tr>\n",
       "      <th>4</th>\n",
       "      <td>0.489219</td>\n",
       "      <td>0.510781</td>\n",
       "      <td>1</td>\n",
       "    </tr>\n",
       "    <tr>\n",
       "      <th>...</th>\n",
       "      <td>...</td>\n",
       "      <td>...</td>\n",
       "      <td>...</td>\n",
       "    </tr>\n",
       "    <tr>\n",
       "      <th>1245</th>\n",
       "      <td>0.480107</td>\n",
       "      <td>0.519893</td>\n",
       "      <td>1</td>\n",
       "    </tr>\n",
       "    <tr>\n",
       "      <th>1246</th>\n",
       "      <td>0.494075</td>\n",
       "      <td>0.505925</td>\n",
       "      <td>1</td>\n",
       "    </tr>\n",
       "    <tr>\n",
       "      <th>1247</th>\n",
       "      <td>0.460732</td>\n",
       "      <td>0.539268</td>\n",
       "      <td>1</td>\n",
       "    </tr>\n",
       "    <tr>\n",
       "      <th>1248</th>\n",
       "      <td>0.473882</td>\n",
       "      <td>0.526118</td>\n",
       "      <td>1</td>\n",
       "    </tr>\n",
       "    <tr>\n",
       "      <th>1249</th>\n",
       "      <td>0.482084</td>\n",
       "      <td>0.517916</td>\n",
       "      <td>1</td>\n",
       "    </tr>\n",
       "  </tbody>\n",
       "</table>\n",
       "<p>1250 rows × 3 columns</p>\n",
       "</div>"
      ],
      "text/plain": [
       "        prob_0    prob_1  pred_class\n",
       "0     0.492916  0.507084           1\n",
       "1     0.518533  0.481467           0\n",
       "2     0.518861  0.481139           0\n",
       "3     0.484778  0.515222           1\n",
       "4     0.489219  0.510781           1\n",
       "...        ...       ...         ...\n",
       "1245  0.480107  0.519893           1\n",
       "1246  0.494075  0.505925           1\n",
       "1247  0.460732  0.539268           1\n",
       "1248  0.473882  0.526118           1\n",
       "1249  0.482084  0.517916           1\n",
       "\n",
       "[1250 rows x 3 columns]"
      ]
     },
     "execution_count": 18,
     "metadata": {},
     "output_type": "execute_result"
    }
   ],
   "source": [
    "# Prediction Summary\n",
    "pd.DataFrame({\"prob_0\": lr.predict_proba(X)[:, 0],\n",
    "              \"prob_1\": lr.predict_proba(X)[:, 1],\n",
    "              \"pred_class\": lr_preds})"
   ]
  },
  {
   "cell_type": "code",
   "execution_count": 19,
   "id": "f5645184-df13-4369-8d1b-62acf17c0434",
   "metadata": {},
   "outputs": [
    {
     "data": {
      "text/html": [
       "<div>\n",
       "<style scoped>\n",
       "    .dataframe tbody tr th:only-of-type {\n",
       "        vertical-align: middle;\n",
       "    }\n",
       "\n",
       "    .dataframe tbody tr th {\n",
       "        vertical-align: top;\n",
       "    }\n",
       "\n",
       "    .dataframe thead th {\n",
       "        text-align: right;\n",
       "    }\n",
       "</style>\n",
       "<table border=\"1\" class=\"dataframe\">\n",
       "  <thead>\n",
       "    <tr style=\"text-align: right;\">\n",
       "      <th>Predicted</th>\n",
       "      <th>Down</th>\n",
       "      <th>Up</th>\n",
       "    </tr>\n",
       "    <tr>\n",
       "      <th>True</th>\n",
       "      <th></th>\n",
       "      <th></th>\n",
       "    </tr>\n",
       "  </thead>\n",
       "  <tbody>\n",
       "    <tr>\n",
       "      <th>Down</th>\n",
       "      <td>145</td>\n",
       "      <td>141</td>\n",
       "    </tr>\n",
       "    <tr>\n",
       "      <th>Up</th>\n",
       "      <td>457</td>\n",
       "      <td>507</td>\n",
       "    </tr>\n",
       "  </tbody>\n",
       "</table>\n",
       "</div>"
      ],
      "text/plain": [
       "Predicted  Down   Up\n",
       "True                \n",
       "Down        145  141\n",
       "Up          457  507"
      ]
     },
     "execution_count": 19,
     "metadata": {},
     "output_type": "execute_result"
    }
   ],
   "source": [
    "# Confusion Matrix and Accuracy \n",
    "\n",
    "conf_m = pd.DataFrame(confusion_matrix(y, lr_preds).T,\n",
    "                      columns = ['Down', 'Up'],\n",
    "                      index = ['Down', 'Up'])\n",
    "conf_m.columns.name = 'Predicted'\n",
    "conf_m.index.name = 'True'\n",
    "conf_m"
   ]
  },
  {
   "cell_type": "code",
   "execution_count": 20,
   "id": "7084030c-ebdd-4318-ab1d-6ca85ab9bf6f",
   "metadata": {},
   "outputs": [
    {
     "name": "stdout",
     "output_type": "stream",
     "text": [
      "Accuracy: 0.5216\n",
      "Training Error: 0.47840000000000005\n"
     ]
    }
   ],
   "source": [
    "acc_score = accuracy_score(y, lr_preds)\n",
    "print('Accuracy: ' + str(acc_score))\n",
    "print('Training Error: ' + str(1 - acc_score))"
   ]
  },
  {
   "cell_type": "code",
   "execution_count": 21,
   "id": "fea1a512-195a-45ff-853b-628180962551",
   "metadata": {},
   "outputs": [],
   "source": [
    "# Separate training and test sets\n",
    "train = data.loc[data['Year']<2005]\n",
    "smarket_2005 = data.loc[data['Year'] >= 2005]"
   ]
  },
  {
   "cell_type": "code",
   "execution_count": 22,
   "id": "eefe4bee-350f-4ef4-81b4-0a6d5380bed8",
   "metadata": {},
   "outputs": [],
   "source": [
    "X_sk_train = train.loc[:, 'Lag1':'Volume']\n",
    "y_sk_train = train.loc[:, 'Direction']\n",
    "\n",
    "X_sk_test = smarket_2005.loc[:, 'Lag1':'Volume']\n",
    "y_sk_test = smarket_2005.loc[:, 'Direction']\n",
    "\n",
    "lr_model_t = LogisticRegression(C=1e9) # Large C for no regularization\n",
    "lr_fit_t = lr_model_t.fit(X_sk_train, y_sk_train)"
   ]
  },
  {
   "cell_type": "code",
   "execution_count": 23,
   "id": "64db283d-dfc0-497f-96b5-adc8764c080b",
   "metadata": {},
   "outputs": [
    {
     "data": {
      "text/html": [
       "<div>\n",
       "<style scoped>\n",
       "    .dataframe tbody tr th:only-of-type {\n",
       "        vertical-align: middle;\n",
       "    }\n",
       "\n",
       "    .dataframe tbody tr th {\n",
       "        vertical-align: top;\n",
       "    }\n",
       "\n",
       "    .dataframe thead th {\n",
       "        text-align: right;\n",
       "    }\n",
       "</style>\n",
       "<table border=\"1\" class=\"dataframe\">\n",
       "  <thead>\n",
       "    <tr style=\"text-align: right;\">\n",
       "      <th></th>\n",
       "      <th>prob_0</th>\n",
       "      <th>prob_1</th>\n",
       "      <th>pred_class</th>\n",
       "    </tr>\n",
       "  </thead>\n",
       "  <tbody>\n",
       "    <tr>\n",
       "      <th>0</th>\n",
       "      <td>0.471780</td>\n",
       "      <td>0.528220</td>\n",
       "      <td>1</td>\n",
       "    </tr>\n",
       "    <tr>\n",
       "      <th>1</th>\n",
       "      <td>0.484332</td>\n",
       "      <td>0.515668</td>\n",
       "      <td>1</td>\n",
       "    </tr>\n",
       "    <tr>\n",
       "      <th>2</th>\n",
       "      <td>0.477348</td>\n",
       "      <td>0.522652</td>\n",
       "      <td>1</td>\n",
       "    </tr>\n",
       "    <tr>\n",
       "      <th>3</th>\n",
       "      <td>0.486146</td>\n",
       "      <td>0.513854</td>\n",
       "      <td>1</td>\n",
       "    </tr>\n",
       "    <tr>\n",
       "      <th>4</th>\n",
       "      <td>0.501665</td>\n",
       "      <td>0.498335</td>\n",
       "      <td>0</td>\n",
       "    </tr>\n",
       "    <tr>\n",
       "      <th>...</th>\n",
       "      <td>...</td>\n",
       "      <td>...</td>\n",
       "      <td>...</td>\n",
       "    </tr>\n",
       "    <tr>\n",
       "      <th>247</th>\n",
       "      <td>0.516363</td>\n",
       "      <td>0.483637</td>\n",
       "      <td>0</td>\n",
       "    </tr>\n",
       "    <tr>\n",
       "      <th>248</th>\n",
       "      <td>0.493951</td>\n",
       "      <td>0.506049</td>\n",
       "      <td>1</td>\n",
       "    </tr>\n",
       "    <tr>\n",
       "      <th>249</th>\n",
       "      <td>0.483342</td>\n",
       "      <td>0.516658</td>\n",
       "      <td>1</td>\n",
       "    </tr>\n",
       "    <tr>\n",
       "      <th>250</th>\n",
       "      <td>0.483876</td>\n",
       "      <td>0.516124</td>\n",
       "      <td>1</td>\n",
       "    </tr>\n",
       "    <tr>\n",
       "      <th>251</th>\n",
       "      <td>0.491928</td>\n",
       "      <td>0.508072</td>\n",
       "      <td>1</td>\n",
       "    </tr>\n",
       "  </tbody>\n",
       "</table>\n",
       "<p>252 rows × 3 columns</p>\n",
       "</div>"
      ],
      "text/plain": [
       "       prob_0    prob_1  pred_class\n",
       "0    0.471780  0.528220           1\n",
       "1    0.484332  0.515668           1\n",
       "2    0.477348  0.522652           1\n",
       "3    0.486146  0.513854           1\n",
       "4    0.501665  0.498335           0\n",
       "..        ...       ...         ...\n",
       "247  0.516363  0.483637           0\n",
       "248  0.493951  0.506049           1\n",
       "249  0.483342  0.516658           1\n",
       "250  0.483876  0.516124           1\n",
       "251  0.491928  0.508072           1\n",
       "\n",
       "[252 rows x 3 columns]"
      ]
     },
     "execution_count": 23,
     "metadata": {},
     "output_type": "execute_result"
    }
   ],
   "source": [
    "lr_fit_proba = lr_fit_t.predict_proba(X_sk_test)\n",
    "lr_fit_pred = lr_fit_t.predict(X_sk_test)\n",
    "\n",
    "pd.DataFrame({\"prob_0\":lr_fit_proba[:, 0],\n",
    "              \"prob_1\":lr_fit_proba[:, 1],\n",
    "              \"pred_class\":lr_fit_pred})"
   ]
  },
  {
   "cell_type": "code",
   "execution_count": 24,
   "id": "1a57207f-b456-4c35-85c1-f4825834c811",
   "metadata": {},
   "outputs": [
    {
     "data": {
      "text/html": [
       "<div>\n",
       "<style scoped>\n",
       "    .dataframe tbody tr th:only-of-type {\n",
       "        vertical-align: middle;\n",
       "    }\n",
       "\n",
       "    .dataframe tbody tr th {\n",
       "        vertical-align: top;\n",
       "    }\n",
       "\n",
       "    .dataframe thead th {\n",
       "        text-align: right;\n",
       "    }\n",
       "</style>\n",
       "<table border=\"1\" class=\"dataframe\">\n",
       "  <thead>\n",
       "    <tr style=\"text-align: right;\">\n",
       "      <th>Predicted</th>\n",
       "      <th>Down</th>\n",
       "      <th>Up</th>\n",
       "    </tr>\n",
       "    <tr>\n",
       "      <th>True</th>\n",
       "      <th></th>\n",
       "      <th></th>\n",
       "    </tr>\n",
       "  </thead>\n",
       "  <tbody>\n",
       "    <tr>\n",
       "      <th>Down</th>\n",
       "      <td>77</td>\n",
       "      <td>97</td>\n",
       "    </tr>\n",
       "    <tr>\n",
       "      <th>Up</th>\n",
       "      <td>34</td>\n",
       "      <td>44</td>\n",
       "    </tr>\n",
       "  </tbody>\n",
       "</table>\n",
       "</div>"
      ],
      "text/plain": [
       "Predicted  Down  Up\n",
       "True               \n",
       "Down         77  97\n",
       "Up           34  44"
      ]
     },
     "execution_count": 24,
     "metadata": {},
     "output_type": "execute_result"
    }
   ],
   "source": [
    "conf_m_t = pd.DataFrame(confusion_matrix(y_sk_test, lr_fit_pred).T,\n",
    "                        index=['Down', 'Up'],\n",
    "                        columns=['Down', 'Up'])\n",
    "conf_m_t.columns.name = 'Predicted'\n",
    "conf_m_t.index.name = 'True'\n",
    "conf_m_t"
   ]
  },
  {
   "cell_type": "code",
   "execution_count": 25,
   "id": "e2af7d1a-f16e-41dd-992c-bbc73da3d368",
   "metadata": {},
   "outputs": [
    {
     "name": "stdout",
     "output_type": "stream",
     "text": [
      "Accuracy: 0.4801587301587302\n",
      "Training Error: 0.5198412698412698\n"
     ]
    }
   ],
   "source": [
    "acc_score_t = accuracy_score(y_sk_test, lr_fit_pred)\n",
    "\n",
    "print(F\"Accuracy: {acc_score_t}\")\n",
    "print(F\"Training Error: {1-acc_score_t}\")"
   ]
  },
  {
   "cell_type": "code",
   "execution_count": 26,
   "id": "e37d6fe5-8344-44bf-baa9-3bebd91e49f9",
   "metadata": {},
   "outputs": [],
   "source": [
    "X_sk_train_s = train.loc[:, 'Lag1':'Lag2']\n",
    "y_sk_train_s = train.loc[:, 'Direction']\n",
    "\n",
    "X_sk_test_s = smarket_2005.loc[:, 'Lag1':'Lag2']\n",
    "y_sk_test_s = smarket_2005.loc[:, 'Direction']\n",
    "\n",
    "lr_model_s = LogisticRegression(C=1e9)\n",
    "lr_fit_s = lr_model_s.fit(X_sk_train_s, y_sk_train_s)"
   ]
  },
  {
   "cell_type": "code",
   "execution_count": 27,
   "id": "f598681d-fb69-4d66-b18f-cf59e1c4fa7c",
   "metadata": {},
   "outputs": [
    {
     "data": {
      "text/html": [
       "<div>\n",
       "<style scoped>\n",
       "    .dataframe tbody tr th:only-of-type {\n",
       "        vertical-align: middle;\n",
       "    }\n",
       "\n",
       "    .dataframe tbody tr th {\n",
       "        vertical-align: top;\n",
       "    }\n",
       "\n",
       "    .dataframe thead th {\n",
       "        text-align: right;\n",
       "    }\n",
       "</style>\n",
       "<table border=\"1\" class=\"dataframe\">\n",
       "  <thead>\n",
       "    <tr style=\"text-align: right;\">\n",
       "      <th></th>\n",
       "      <th>prob_0</th>\n",
       "      <th>prob_1</th>\n",
       "      <th>pred_class</th>\n",
       "    </tr>\n",
       "  </thead>\n",
       "  <tbody>\n",
       "    <tr>\n",
       "      <th>0</th>\n",
       "      <td>0.490173</td>\n",
       "      <td>0.509827</td>\n",
       "      <td>1</td>\n",
       "    </tr>\n",
       "    <tr>\n",
       "      <th>1</th>\n",
       "      <td>0.479180</td>\n",
       "      <td>0.520820</td>\n",
       "      <td>1</td>\n",
       "    </tr>\n",
       "    <tr>\n",
       "      <th>2</th>\n",
       "      <td>0.466737</td>\n",
       "      <td>0.533263</td>\n",
       "      <td>1</td>\n",
       "    </tr>\n",
       "    <tr>\n",
       "      <th>3</th>\n",
       "      <td>0.473935</td>\n",
       "      <td>0.526065</td>\n",
       "      <td>1</td>\n",
       "    </tr>\n",
       "    <tr>\n",
       "      <th>4</th>\n",
       "      <td>0.492784</td>\n",
       "      <td>0.507216</td>\n",
       "      <td>1</td>\n",
       "    </tr>\n",
       "    <tr>\n",
       "      <th>...</th>\n",
       "      <td>...</td>\n",
       "      <td>...</td>\n",
       "      <td>...</td>\n",
       "    </tr>\n",
       "    <tr>\n",
       "      <th>247</th>\n",
       "      <td>0.500615</td>\n",
       "      <td>0.499385</td>\n",
       "      <td>0</td>\n",
       "    </tr>\n",
       "    <tr>\n",
       "      <th>248</th>\n",
       "      <td>0.497239</td>\n",
       "      <td>0.502761</td>\n",
       "      <td>1</td>\n",
       "    </tr>\n",
       "    <tr>\n",
       "      <th>249</th>\n",
       "      <td>0.479163</td>\n",
       "      <td>0.520837</td>\n",
       "      <td>1</td>\n",
       "    </tr>\n",
       "    <tr>\n",
       "      <th>250</th>\n",
       "      <td>0.483129</td>\n",
       "      <td>0.516871</td>\n",
       "      <td>1</td>\n",
       "    </tr>\n",
       "    <tr>\n",
       "      <th>251</th>\n",
       "      <td>0.489252</td>\n",
       "      <td>0.510748</td>\n",
       "      <td>1</td>\n",
       "    </tr>\n",
       "  </tbody>\n",
       "</table>\n",
       "<p>252 rows × 3 columns</p>\n",
       "</div>"
      ],
      "text/plain": [
       "       prob_0    prob_1  pred_class\n",
       "0    0.490173  0.509827           1\n",
       "1    0.479180  0.520820           1\n",
       "2    0.466737  0.533263           1\n",
       "3    0.473935  0.526065           1\n",
       "4    0.492784  0.507216           1\n",
       "..        ...       ...         ...\n",
       "247  0.500615  0.499385           0\n",
       "248  0.497239  0.502761           1\n",
       "249  0.479163  0.520837           1\n",
       "250  0.483129  0.516871           1\n",
       "251  0.489252  0.510748           1\n",
       "\n",
       "[252 rows x 3 columns]"
      ]
     },
     "execution_count": 27,
     "metadata": {},
     "output_type": "execute_result"
    }
   ],
   "source": [
    "lr_fit_s_proba = lr_fit_s.predict_proba(X_sk_test_s)\n",
    "lr_fit_s_preds = lr_fit_s.predict(X_sk_test_s)\n",
    "\n",
    "pd.DataFrame({\"prob_0\":lr_fit_s_proba[:, 0],\n",
    "              \"prob_1\":lr_fit_s_proba[:, 1],\n",
    "              \"pred_class\":lr_fit_s_preds})"
   ]
  },
  {
   "cell_type": "code",
   "execution_count": 28,
   "id": "33faf244-ab9b-4fdc-825a-7cd08b44eb8e",
   "metadata": {},
   "outputs": [
    {
     "data": {
      "text/html": [
       "<div>\n",
       "<style scoped>\n",
       "    .dataframe tbody tr th:only-of-type {\n",
       "        vertical-align: middle;\n",
       "    }\n",
       "\n",
       "    .dataframe tbody tr th {\n",
       "        vertical-align: top;\n",
       "    }\n",
       "\n",
       "    .dataframe thead th {\n",
       "        text-align: right;\n",
       "    }\n",
       "</style>\n",
       "<table border=\"1\" class=\"dataframe\">\n",
       "  <thead>\n",
       "    <tr style=\"text-align: right;\">\n",
       "      <th>Predicted</th>\n",
       "      <th>Down</th>\n",
       "      <th>Up</th>\n",
       "    </tr>\n",
       "    <tr>\n",
       "      <th>True</th>\n",
       "      <th></th>\n",
       "      <th></th>\n",
       "    </tr>\n",
       "  </thead>\n",
       "  <tbody>\n",
       "    <tr>\n",
       "      <th>Down</th>\n",
       "      <td>35</td>\n",
       "      <td>35</td>\n",
       "    </tr>\n",
       "    <tr>\n",
       "      <th>Up</th>\n",
       "      <td>76</td>\n",
       "      <td>106</td>\n",
       "    </tr>\n",
       "  </tbody>\n",
       "</table>\n",
       "</div>"
      ],
      "text/plain": [
       "Predicted  Down   Up\n",
       "True                \n",
       "Down         35   35\n",
       "Up           76  106"
      ]
     },
     "execution_count": 28,
     "metadata": {},
     "output_type": "execute_result"
    }
   ],
   "source": [
    "conf_m_s = pd.DataFrame(confusion_matrix(y_sk_test_s, lr_fit_s_preds).T,\n",
    "                        index = ['Down', 'Up'],\n",
    "                        columns = ['Down', 'Up'])\n",
    "conf_m_s.index.name = \"True\"\n",
    "conf_m_s.columns.name = 'Predicted'\n",
    "conf_m_s"
   ]
  },
  {
   "cell_type": "code",
   "execution_count": 29,
   "id": "f1a2615d-e89b-4ada-8c2a-54bf81308e1b",
   "metadata": {},
   "outputs": [
    {
     "name": "stdout",
     "output_type": "stream",
     "text": [
      "Accuracy: 0.5595238095238095\n",
      "Training Error: 0.44047619047619047\n"
     ]
    }
   ],
   "source": [
    "acc_score_s = accuracy_score(y_sk_test_s, lr_fit_s_preds)\n",
    "\n",
    "print(F\"Accuracy: {acc_score_s}\")\n",
    "print(F\"Training Error: {1-acc_score_s}\")"
   ]
  },
  {
   "cell_type": "code",
   "execution_count": 30,
   "id": "9ff246ee-b17f-4d45-bb0e-80051a0dd507",
   "metadata": {},
   "outputs": [
    {
     "data": {
      "text/plain": [
       "array([0.47914604, 0.49611109])"
      ]
     },
     "execution_count": 30,
     "metadata": {},
     "output_type": "execute_result"
    }
   ],
   "source": [
    "# Predictions for arbitrary data\n",
    "\n",
    "predict_data = pd.DataFrame({\"Lag1\": [1.2, 1.5], \"Lag2\": [1.1, -0.8]})\n",
    "\n",
    "lr_fit_s.predict_proba(predict_data)[:, 1]"
   ]
  },
  {
   "cell_type": "markdown",
   "id": "ecfe494f-1fd1-4e93-9551-0637594da782",
   "metadata": {},
   "source": [
    "## 4.6.3 Linear Discriminant Analysis"
   ]
  },
  {
   "cell_type": "code",
   "execution_count": 31,
   "id": "d21b4eb9-2677-4166-a690-df33454d1514",
   "metadata": {},
   "outputs": [],
   "source": [
    "X_train = train.loc[:, 'Lag1':'Lag2']\n",
    "y_train = train.loc[:, 'Direction']\n",
    "\n",
    "X_test = smarket_2005.loc[:, 'Lag1':'Lag2']\n",
    "y_test = smarket_2005.loc[:, 'Direction']\n",
    "\n",
    "lda_model = LDA()\n",
    "lda_fit = lda_model.fit(X_train, y_train)"
   ]
  },
  {
   "cell_type": "code",
   "execution_count": 32,
   "id": "11db4cf4-cb41-428c-a183-8b681bffd758",
   "metadata": {},
   "outputs": [
    {
     "data": {
      "text/plain": [
       "array([0.49198397, 0.50801603])"
      ]
     },
     "execution_count": 32,
     "metadata": {},
     "output_type": "execute_result"
    }
   ],
   "source": [
    "lda_fit.priors_ # group priors"
   ]
  },
  {
   "cell_type": "code",
   "execution_count": 33,
   "id": "244dfd0e-2109-4399-b56c-1b59be0e0fed",
   "metadata": {},
   "outputs": [
    {
     "data": {
      "text/plain": [
       "array([[ 0.04279022,  0.03389409],\n",
       "       [-0.03954635, -0.03132544]])"
      ]
     },
     "execution_count": 33,
     "metadata": {},
     "output_type": "execute_result"
    }
   ],
   "source": [
    "lda_fit.means_ # group means"
   ]
  },
  {
   "cell_type": "code",
   "execution_count": 34,
   "id": "ab6cf1a2-ad2a-47a3-8ffc-6f01d5075aac",
   "metadata": {},
   "outputs": [
    {
     "data": {
      "text/plain": [
       "array([[-0.64201904],\n",
       "       [-0.51352928]])"
      ]
     },
     "execution_count": 34,
     "metadata": {},
     "output_type": "execute_result"
    }
   ],
   "source": [
    "lda_fit.scalings_ # coefficients of ld"
   ]
  },
  {
   "cell_type": "code",
   "execution_count": 35,
   "id": "224ab254-aa59-471b-a082-b28b244c8d58",
   "metadata": {},
   "outputs": [
    {
     "data": {
      "image/png": "[encoded data removed]",
      "text/plain": [
       "<Figure size 432x216 with 2 Axes>"
      ]
     },
     "metadata": {
      "needs_background": "light"
     },
     "output_type": "display_data"
    }
   ],
   "source": [
    "# For plotting LDA, needs improvement\n",
    "ld_sc = X_train.iloc[:, 0] * lda_fit.scalings_[0] + X_train.iloc[:, 1] * lda_fit.scalings_[1]\n",
    "\n",
    "ld = pd.DataFrame({'groups':y_train, 'ld': ld_sc})\n",
    "\n",
    "g = sns.FacetGrid(ld, col='groups')\n",
    "g.map(plt.hist, 'ld');"
   ]
  },
  {
   "cell_type": "code",
   "execution_count": 36,
   "id": "34545f8c-0d46-4af3-94db-724b9278e8b4",
   "metadata": {},
   "outputs": [
    {
     "data": {
      "text/html": [
       "<div>\n",
       "<style scoped>\n",
       "    .dataframe tbody tr th:only-of-type {\n",
       "        vertical-align: middle;\n",
       "    }\n",
       "\n",
       "    .dataframe tbody tr th {\n",
       "        vertical-align: top;\n",
       "    }\n",
       "\n",
       "    .dataframe thead th {\n",
       "        text-align: right;\n",
       "    }\n",
       "</style>\n",
       "<table border=\"1\" class=\"dataframe\">\n",
       "  <thead>\n",
       "    <tr style=\"text-align: right;\">\n",
       "      <th></th>\n",
       "      <th>prob_0</th>\n",
       "      <th>prob_1</th>\n",
       "      <th>pred_class</th>\n",
       "    </tr>\n",
       "  </thead>\n",
       "  <tbody>\n",
       "    <tr>\n",
       "      <th>0</th>\n",
       "      <td>0.490179</td>\n",
       "      <td>0.509821</td>\n",
       "      <td>1</td>\n",
       "    </tr>\n",
       "    <tr>\n",
       "      <th>1</th>\n",
       "      <td>0.479218</td>\n",
       "      <td>0.520782</td>\n",
       "      <td>1</td>\n",
       "    </tr>\n",
       "    <tr>\n",
       "      <th>2</th>\n",
       "      <td>0.466818</td>\n",
       "      <td>0.533182</td>\n",
       "      <td>1</td>\n",
       "    </tr>\n",
       "    <tr>\n",
       "      <th>3</th>\n",
       "      <td>0.474001</td>\n",
       "      <td>0.525999</td>\n",
       "      <td>1</td>\n",
       "    </tr>\n",
       "    <tr>\n",
       "      <th>4</th>\n",
       "      <td>0.492788</td>\n",
       "      <td>0.507212</td>\n",
       "      <td>1</td>\n",
       "    </tr>\n",
       "    <tr>\n",
       "      <th>...</th>\n",
       "      <td>...</td>\n",
       "      <td>...</td>\n",
       "      <td>...</td>\n",
       "    </tr>\n",
       "    <tr>\n",
       "      <th>247</th>\n",
       "      <td>0.500589</td>\n",
       "      <td>0.499411</td>\n",
       "      <td>0</td>\n",
       "    </tr>\n",
       "    <tr>\n",
       "      <th>248</th>\n",
       "      <td>0.497221</td>\n",
       "      <td>0.502779</td>\n",
       "      <td>1</td>\n",
       "    </tr>\n",
       "    <tr>\n",
       "      <th>249</th>\n",
       "      <td>0.479199</td>\n",
       "      <td>0.520801</td>\n",
       "      <td>1</td>\n",
       "    </tr>\n",
       "    <tr>\n",
       "      <th>250</th>\n",
       "      <td>0.483167</td>\n",
       "      <td>0.516833</td>\n",
       "      <td>1</td>\n",
       "    </tr>\n",
       "    <tr>\n",
       "      <th>251</th>\n",
       "      <td>0.489259</td>\n",
       "      <td>0.510741</td>\n",
       "      <td>1</td>\n",
       "    </tr>\n",
       "  </tbody>\n",
       "</table>\n",
       "<p>252 rows × 3 columns</p>\n",
       "</div>"
      ],
      "text/plain": [
       "       prob_0    prob_1  pred_class\n",
       "0    0.490179  0.509821           1\n",
       "1    0.479218  0.520782           1\n",
       "2    0.466818  0.533182           1\n",
       "3    0.474001  0.525999           1\n",
       "4    0.492788  0.507212           1\n",
       "..        ...       ...         ...\n",
       "247  0.500589  0.499411           0\n",
       "248  0.497221  0.502779           1\n",
       "249  0.479199  0.520801           1\n",
       "250  0.483167  0.516833           1\n",
       "251  0.489259  0.510741           1\n",
       "\n",
       "[252 rows x 3 columns]"
      ]
     },
     "execution_count": 36,
     "metadata": {},
     "output_type": "execute_result"
    }
   ],
   "source": [
    "# prediction summary\n",
    "lda_fit_proba = lda_fit.predict_proba(X_test)\n",
    "lda_fit_preds = lda_fit.predict(X_test)\n",
    "\n",
    "pd.DataFrame({\"prob_0\":lda_fit_proba[:, 0],\n",
    "              \"prob_1\":lda_fit_proba[:, 1],\n",
    "              \"pred_class\":lda_fit_preds})"
   ]
  },
  {
   "cell_type": "code",
   "execution_count": 37,
   "id": "f8f4b1a7-c7e6-4f9a-9c64-a96e132ae4a6",
   "metadata": {},
   "outputs": [
    {
     "data": {
      "text/html": [
       "<div>\n",
       "<style scoped>\n",
       "    .dataframe tbody tr th:only-of-type {\n",
       "        vertical-align: middle;\n",
       "    }\n",
       "\n",
       "    .dataframe tbody tr th {\n",
       "        vertical-align: top;\n",
       "    }\n",
       "\n",
       "    .dataframe thead th {\n",
       "        text-align: right;\n",
       "    }\n",
       "</style>\n",
       "<table border=\"1\" class=\"dataframe\">\n",
       "  <thead>\n",
       "    <tr style=\"text-align: right;\">\n",
       "      <th>Predicted</th>\n",
       "      <th>Down</th>\n",
       "      <th>Up</th>\n",
       "    </tr>\n",
       "    <tr>\n",
       "      <th>True</th>\n",
       "      <th></th>\n",
       "      <th></th>\n",
       "    </tr>\n",
       "  </thead>\n",
       "  <tbody>\n",
       "    <tr>\n",
       "      <th>Down</th>\n",
       "      <td>35</td>\n",
       "      <td>35</td>\n",
       "    </tr>\n",
       "    <tr>\n",
       "      <th>Up</th>\n",
       "      <td>76</td>\n",
       "      <td>106</td>\n",
       "    </tr>\n",
       "  </tbody>\n",
       "</table>\n",
       "</div>"
      ],
      "text/plain": [
       "Predicted  Down   Up\n",
       "True                \n",
       "Down         35   35\n",
       "Up           76  106"
      ]
     },
     "execution_count": 37,
     "metadata": {},
     "output_type": "execute_result"
    }
   ],
   "source": [
    "conf_m_lda = pd.DataFrame(confusion_matrix(y_test, lda_fit_preds).T,\n",
    "                          index=['Down', 'Up'],\n",
    "                          columns=['Down', 'Up'])\n",
    "conf_m_lda.index.name = 'True'\n",
    "conf_m_lda.columns.name = 'Predicted'\n",
    "conf_m_lda"
   ]
  },
  {
   "cell_type": "code",
   "execution_count": 38,
   "id": "ee60ff2e-403b-47fa-9ec3-95d1d2f6b406",
   "metadata": {},
   "outputs": [
    {
     "data": {
      "text/plain": [
       "70"
      ]
     },
     "execution_count": 38,
     "metadata": {},
     "output_type": "execute_result"
    }
   ],
   "source": [
    "sum(lda_fit_proba[:,0]>0.5)"
   ]
  },
  {
   "cell_type": "code",
   "execution_count": 39,
   "id": "3cd277c3-68d0-4627-819f-36c50814615e",
   "metadata": {},
   "outputs": [
    {
     "data": {
      "text/plain": [
       "182"
      ]
     },
     "execution_count": 39,
     "metadata": {},
     "output_type": "execute_result"
    }
   ],
   "source": [
    "sum(lda_fit_proba[:,0]<=0.5)"
   ]
  },
  {
   "cell_type": "code",
   "execution_count": 40,
   "id": "bb6aee63-431c-4997-82ac-c937606a8396",
   "metadata": {},
   "outputs": [
    {
     "data": {
      "text/plain": [
       "0"
      ]
     },
     "execution_count": 40,
     "metadata": {},
     "output_type": "execute_result"
    }
   ],
   "source": [
    "sum(lda_fit_proba[:,0]>0.9)"
   ]
  },
  {
   "cell_type": "markdown",
   "id": "9dfd79a2-8ac6-49a5-aac8-bab60c8ee538",
   "metadata": {},
   "source": [
    "## 4.7.4 Quadratic Discriminant Analysis"
   ]
  },
  {
   "cell_type": "code",
   "execution_count": 41,
   "id": "88c0d9ea-1549-49a9-b4ec-9d6aad206b78",
   "metadata": {},
   "outputs": [],
   "source": [
    "qda_model = QDA()\n",
    "qda_fit = qda_model.fit(X_train, y_train)"
   ]
  },
  {
   "cell_type": "code",
   "execution_count": 42,
   "id": "d0153b4d-1d71-4eb3-bf61-1f72d4dacdca",
   "metadata": {},
   "outputs": [
    {
     "data": {
      "text/plain": [
       "array([0.49198397, 0.50801603])"
      ]
     },
     "execution_count": 42,
     "metadata": {},
     "output_type": "execute_result"
    }
   ],
   "source": [
    "qda_fit.priors_ # group priors"
   ]
  },
  {
   "cell_type": "code",
   "execution_count": 43,
   "id": "cc7816a5-d79d-49a3-91f7-cb49fd7ad685",
   "metadata": {},
   "outputs": [
    {
     "data": {
      "text/plain": [
       "array([[ 0.04279022,  0.03389409],\n",
       "       [-0.03954635, -0.03132544]])"
      ]
     },
     "execution_count": 43,
     "metadata": {},
     "output_type": "execute_result"
    }
   ],
   "source": [
    "qda_fit.means_ # group means"
   ]
  },
  {
   "cell_type": "code",
   "execution_count": 44,
   "id": "9db9ea3c-0860-4a6a-973a-4ba757b667d4",
   "metadata": {},
   "outputs": [
    {
     "data": {
      "text/plain": [
       "[array([1.56294495, 1.47927279]), array([1.53455065, 1.47272326])]"
      ]
     },
     "execution_count": 44,
     "metadata": {},
     "output_type": "execute_result"
    }
   ],
   "source": [
    "qda_fit.scalings_ # coefficients of qd"
   ]
  },
  {
   "cell_type": "code",
   "execution_count": 45,
   "id": "f944fbf8-6b4c-46cb-b21b-1cdf27b0c332",
   "metadata": {},
   "outputs": [
    {
     "data": {
      "text/html": [
       "<div>\n",
       "<style scoped>\n",
       "    .dataframe tbody tr th:only-of-type {\n",
       "        vertical-align: middle;\n",
       "    }\n",
       "\n",
       "    .dataframe tbody tr th {\n",
       "        vertical-align: top;\n",
       "    }\n",
       "\n",
       "    .dataframe thead th {\n",
       "        text-align: right;\n",
       "    }\n",
       "</style>\n",
       "<table border=\"1\" class=\"dataframe\">\n",
       "  <thead>\n",
       "    <tr style=\"text-align: right;\">\n",
       "      <th></th>\n",
       "      <th>prob_0</th>\n",
       "      <th>prob_1</th>\n",
       "      <th>pred_class</th>\n",
       "    </tr>\n",
       "  </thead>\n",
       "  <tbody>\n",
       "    <tr>\n",
       "      <th>0</th>\n",
       "      <td>0.487324</td>\n",
       "      <td>0.512676</td>\n",
       "      <td>1</td>\n",
       "    </tr>\n",
       "    <tr>\n",
       "      <th>1</th>\n",
       "      <td>0.475901</td>\n",
       "      <td>0.524099</td>\n",
       "      <td>1</td>\n",
       "    </tr>\n",
       "    <tr>\n",
       "      <th>2</th>\n",
       "      <td>0.463691</td>\n",
       "      <td>0.536309</td>\n",
       "      <td>1</td>\n",
       "    </tr>\n",
       "    <tr>\n",
       "      <th>3</th>\n",
       "      <td>0.473925</td>\n",
       "      <td>0.526075</td>\n",
       "      <td>1</td>\n",
       "    </tr>\n",
       "    <tr>\n",
       "      <th>4</th>\n",
       "      <td>0.490343</td>\n",
       "      <td>0.509657</td>\n",
       "      <td>1</td>\n",
       "    </tr>\n",
       "    <tr>\n",
       "      <th>...</th>\n",
       "      <td>...</td>\n",
       "      <td>...</td>\n",
       "      <td>...</td>\n",
       "    </tr>\n",
       "    <tr>\n",
       "      <th>247</th>\n",
       "      <td>0.497670</td>\n",
       "      <td>0.502330</td>\n",
       "      <td>1</td>\n",
       "    </tr>\n",
       "    <tr>\n",
       "      <th>248</th>\n",
       "      <td>0.494787</td>\n",
       "      <td>0.505213</td>\n",
       "      <td>1</td>\n",
       "    </tr>\n",
       "    <tr>\n",
       "      <th>249</th>\n",
       "      <td>0.475864</td>\n",
       "      <td>0.524136</td>\n",
       "      <td>1</td>\n",
       "    </tr>\n",
       "    <tr>\n",
       "      <th>250</th>\n",
       "      <td>0.482695</td>\n",
       "      <td>0.517305</td>\n",
       "      <td>1</td>\n",
       "    </tr>\n",
       "    <tr>\n",
       "      <th>251</th>\n",
       "      <td>0.486446</td>\n",
       "      <td>0.513554</td>\n",
       "      <td>1</td>\n",
       "    </tr>\n",
       "  </tbody>\n",
       "</table>\n",
       "<p>252 rows × 3 columns</p>\n",
       "</div>"
      ],
      "text/plain": [
       "       prob_0    prob_1  pred_class\n",
       "0    0.487324  0.512676           1\n",
       "1    0.475901  0.524099           1\n",
       "2    0.463691  0.536309           1\n",
       "3    0.473925  0.526075           1\n",
       "4    0.490343  0.509657           1\n",
       "..        ...       ...         ...\n",
       "247  0.497670  0.502330           1\n",
       "248  0.494787  0.505213           1\n",
       "249  0.475864  0.524136           1\n",
       "250  0.482695  0.517305           1\n",
       "251  0.486446  0.513554           1\n",
       "\n",
       "[252 rows x 3 columns]"
      ]
     },
     "execution_count": 45,
     "metadata": {},
     "output_type": "execute_result"
    }
   ],
   "source": [
    "qda_fit_proba = qda_fit.predict_proba(X_test)\n",
    "qda_fit_preds = qda_fit.predict(X_test)\n",
    "\n",
    "pd.DataFrame({'prob_0':qda_fit_proba[:, 0],\n",
    "              'prob_1':qda_fit_proba[:, 1],\n",
    "              'pred_class':qda_fit_preds})"
   ]
  },
  {
   "cell_type": "code",
   "execution_count": 46,
   "id": "2d07165c-6fc5-4056-b4c4-965be1638452",
   "metadata": {},
   "outputs": [
    {
     "data": {
      "text/html": [
       "<div>\n",
       "<style scoped>\n",
       "    .dataframe tbody tr th:only-of-type {\n",
       "        vertical-align: middle;\n",
       "    }\n",
       "\n",
       "    .dataframe tbody tr th {\n",
       "        vertical-align: top;\n",
       "    }\n",
       "\n",
       "    .dataframe thead th {\n",
       "        text-align: right;\n",
       "    }\n",
       "</style>\n",
       "<table border=\"1\" class=\"dataframe\">\n",
       "  <thead>\n",
       "    <tr style=\"text-align: right;\">\n",
       "      <th>Predicted</th>\n",
       "      <th>Down</th>\n",
       "      <th>Up</th>\n",
       "    </tr>\n",
       "    <tr>\n",
       "      <th>True</th>\n",
       "      <th></th>\n",
       "      <th></th>\n",
       "    </tr>\n",
       "  </thead>\n",
       "  <tbody>\n",
       "    <tr>\n",
       "      <th>Down</th>\n",
       "      <td>30</td>\n",
       "      <td>20</td>\n",
       "    </tr>\n",
       "    <tr>\n",
       "      <th>Up</th>\n",
       "      <td>81</td>\n",
       "      <td>121</td>\n",
       "    </tr>\n",
       "  </tbody>\n",
       "</table>\n",
       "</div>"
      ],
      "text/plain": [
       "Predicted  Down   Up\n",
       "True                \n",
       "Down         30   20\n",
       "Up           81  121"
      ]
     },
     "execution_count": 46,
     "metadata": {},
     "output_type": "execute_result"
    }
   ],
   "source": [
    "conf_m_qda = pd.DataFrame(confusion_matrix(y_test, qda_fit_preds).T,\n",
    "                          index=['Down', 'Up'],\n",
    "                          columns=['Down', 'Up'])\n",
    "conf_m_qda.index.name = 'True'\n",
    "conf_m_qda.columns.name = 'Predicted'\n",
    "conf_m_qda"
   ]
  },
  {
   "cell_type": "code",
   "execution_count": 47,
   "id": "b2120f9d-b77f-47bd-b182-247bc5a99c36",
   "metadata": {},
   "outputs": [
    {
     "name": "stdout",
     "output_type": "stream",
     "text": [
      "Accuracy: 0.5992063492063492\n",
      "Test Error: 0.4007936507936508\n"
     ]
    }
   ],
   "source": [
    "acc_score_qda = accuracy_score(y_test, qda_fit_preds)\n",
    "\n",
    "print(F\"Accuracy: {acc_score_qda}\")\n",
    "print(F\"Test Error: {1-acc_score_qda}\")"
   ]
  },
  {
   "cell_type": "markdown",
   "id": "f5754d87-54dd-4e8c-8688-e6041e2eefb1",
   "metadata": {},
   "source": [
    "## 4.7.5 Naive Bayes - New to ISLR v2"
   ]
  },
  {
   "cell_type": "code",
   "execution_count": 48,
   "id": "f9506889-2839-4276-aeb1-c9ea7676d3e3",
   "metadata": {},
   "outputs": [],
   "source": [
    "from sklearn.naive_bayes import GaussianNB"
   ]
  },
  {
   "cell_type": "code",
   "execution_count": 49,
   "id": "94ef24be-2e87-4db3-bc58-060565286701",
   "metadata": {},
   "outputs": [],
   "source": [
    "gnb_model = GaussianNB()\n",
    "gnb_fit = gnb_model.fit(X_train, y_train)"
   ]
  },
  {
   "cell_type": "code",
   "execution_count": 50,
   "id": "e4374c85-df63-4054-b2dd-2be1542ccc8a",
   "metadata": {},
   "outputs": [
    {
     "data": {
      "text/plain": [
       "array([0.49198397, 0.50801603])"
      ]
     },
     "execution_count": 50,
     "metadata": {},
     "output_type": "execute_result"
    }
   ],
   "source": [
    "gnb_fit.class_prior_ # A-priori probabilities"
   ]
  },
  {
   "cell_type": "code",
   "execution_count": 51,
   "id": "146c658f-752e-44cc-b45d-c2a1975de188",
   "metadata": {},
   "outputs": [
    {
     "data": {
      "text/plain": [
       "array([[ 0.04279022,  0.03389409],\n",
       "       [-0.03954635, -0.03132544]])"
      ]
     },
     "execution_count": 51,
     "metadata": {},
     "output_type": "execute_result"
    }
   ],
   "source": [
    "gnb_fit.theta_ # group means"
   ]
  },
  {
   "cell_type": "code",
   "execution_count": 52,
   "id": "2a4f16b8-268f-47fd-a22e-2ce11ab0e437",
   "metadata": {},
   "outputs": [
    {
     "data": {
      "text/plain": [
       "array([[1.22619505, 1.23792871],\n",
       "       [1.23045262, 1.21956089]])"
      ]
     },
     "execution_count": 52,
     "metadata": {},
     "output_type": "execute_result"
    }
   ],
   "source": [
    "gnb_fit.var_**.5 # group std dev"
   ]
  },
  {
   "cell_type": "code",
   "execution_count": 53,
   "id": "7231eda9-6906-41c3-8dbf-ddef301a4a77",
   "metadata": {},
   "outputs": [
    {
     "name": "stdout",
     "output_type": "stream",
     "text": [
      "Mean Lag1 values for training data that had down direction: 0.04279022403258655\n",
      "SD Lag1 values for training data that had down direction: 1.2274456282010824\n"
     ]
    }
   ],
   "source": [
    "lag1_down_mean = X_train[y_train==0]['Lag1'].mean()\n",
    "lag1_down_sd = X_train[y_train==0]['Lag1'].std()\n",
    "\n",
    "print(F\"Mean Lag1 values for training data that had down direction: {lag1_down_mean}\")\n",
    "print(F\"SD Lag1 values for training data that had down direction: {lag1_down_sd}\")"
   ]
  },
  {
   "cell_type": "code",
   "execution_count": 54,
   "id": "61f2a593-4bea-4fca-8a17-cfe10258be10",
   "metadata": {},
   "outputs": [
    {
     "data": {
      "text/html": [
       "<div>\n",
       "<style scoped>\n",
       "    .dataframe tbody tr th:only-of-type {\n",
       "        vertical-align: middle;\n",
       "    }\n",
       "\n",
       "    .dataframe tbody tr th {\n",
       "        vertical-align: top;\n",
       "    }\n",
       "\n",
       "    .dataframe thead th {\n",
       "        text-align: right;\n",
       "    }\n",
       "</style>\n",
       "<table border=\"1\" class=\"dataframe\">\n",
       "  <thead>\n",
       "    <tr style=\"text-align: right;\">\n",
       "      <th></th>\n",
       "      <th>prob_0</th>\n",
       "      <th>prob_1</th>\n",
       "      <th>pred_class</th>\n",
       "    </tr>\n",
       "  </thead>\n",
       "  <tbody>\n",
       "    <tr>\n",
       "      <th>0</th>\n",
       "      <td>0.487329</td>\n",
       "      <td>0.512671</td>\n",
       "      <td>1</td>\n",
       "    </tr>\n",
       "    <tr>\n",
       "      <th>1</th>\n",
       "      <td>0.476236</td>\n",
       "      <td>0.523764</td>\n",
       "      <td>1</td>\n",
       "    </tr>\n",
       "    <tr>\n",
       "      <th>2</th>\n",
       "      <td>0.465295</td>\n",
       "      <td>0.534705</td>\n",
       "      <td>1</td>\n",
       "    </tr>\n",
       "    <tr>\n",
       "      <th>3</th>\n",
       "      <td>0.474845</td>\n",
       "      <td>0.525155</td>\n",
       "      <td>1</td>\n",
       "    </tr>\n",
       "    <tr>\n",
       "      <th>4</th>\n",
       "      <td>0.490206</td>\n",
       "      <td>0.509794</td>\n",
       "      <td>1</td>\n",
       "    </tr>\n",
       "    <tr>\n",
       "      <th>...</th>\n",
       "      <td>...</td>\n",
       "      <td>...</td>\n",
       "      <td>...</td>\n",
       "    </tr>\n",
       "    <tr>\n",
       "      <th>247</th>\n",
       "      <td>0.497612</td>\n",
       "      <td>0.502388</td>\n",
       "      <td>1</td>\n",
       "    </tr>\n",
       "    <tr>\n",
       "      <th>248</th>\n",
       "      <td>0.494660</td>\n",
       "      <td>0.505340</td>\n",
       "      <td>1</td>\n",
       "    </tr>\n",
       "    <tr>\n",
       "      <th>249</th>\n",
       "      <td>0.476011</td>\n",
       "      <td>0.523989</td>\n",
       "      <td>1</td>\n",
       "    </tr>\n",
       "    <tr>\n",
       "      <th>250</th>\n",
       "      <td>0.482798</td>\n",
       "      <td>0.517202</td>\n",
       "      <td>1</td>\n",
       "    </tr>\n",
       "    <tr>\n",
       "      <th>251</th>\n",
       "      <td>0.486410</td>\n",
       "      <td>0.513590</td>\n",
       "      <td>1</td>\n",
       "    </tr>\n",
       "  </tbody>\n",
       "</table>\n",
       "<p>252 rows × 3 columns</p>\n",
       "</div>"
      ],
      "text/plain": [
       "       prob_0    prob_1  pred_class\n",
       "0    0.487329  0.512671           1\n",
       "1    0.476236  0.523764           1\n",
       "2    0.465295  0.534705           1\n",
       "3    0.474845  0.525155           1\n",
       "4    0.490206  0.509794           1\n",
       "..        ...       ...         ...\n",
       "247  0.497612  0.502388           1\n",
       "248  0.494660  0.505340           1\n",
       "249  0.476011  0.523989           1\n",
       "250  0.482798  0.517202           1\n",
       "251  0.486410  0.513590           1\n",
       "\n",
       "[252 rows x 3 columns]"
      ]
     },
     "execution_count": 54,
     "metadata": {},
     "output_type": "execute_result"
    }
   ],
   "source": [
    "gnb_proba = gnb_fit.predict_proba(X_test)\n",
    "gnb_preds = gnb_fit.predict(X_test)\n",
    "\n",
    "pd.DataFrame({\"prob_0\":gnb_proba[:, 0],\n",
    "              \"prob_1\":gnb_proba[:, 1],\n",
    "              \"pred_class\":gnb_preds})"
   ]
  },
  {
   "cell_type": "code",
   "execution_count": 55,
   "id": "89b7103d-b43a-48ac-ac72-573cb1219b6b",
   "metadata": {},
   "outputs": [
    {
     "data": {
      "text/html": [
       "<div>\n",
       "<style scoped>\n",
       "    .dataframe tbody tr th:only-of-type {\n",
       "        vertical-align: middle;\n",
       "    }\n",
       "\n",
       "    .dataframe tbody tr th {\n",
       "        vertical-align: top;\n",
       "    }\n",
       "\n",
       "    .dataframe thead th {\n",
       "        text-align: right;\n",
       "    }\n",
       "</style>\n",
       "<table border=\"1\" class=\"dataframe\">\n",
       "  <thead>\n",
       "    <tr style=\"text-align: right;\">\n",
       "      <th>Predicted</th>\n",
       "      <th>Down</th>\n",
       "      <th>Up</th>\n",
       "    </tr>\n",
       "    <tr>\n",
       "      <th>True</th>\n",
       "      <th></th>\n",
       "      <th></th>\n",
       "    </tr>\n",
       "  </thead>\n",
       "  <tbody>\n",
       "    <tr>\n",
       "      <th>Down</th>\n",
       "      <td>29</td>\n",
       "      <td>20</td>\n",
       "    </tr>\n",
       "    <tr>\n",
       "      <th>Up</th>\n",
       "      <td>82</td>\n",
       "      <td>121</td>\n",
       "    </tr>\n",
       "  </tbody>\n",
       "</table>\n",
       "</div>"
      ],
      "text/plain": [
       "Predicted  Down   Up\n",
       "True                \n",
       "Down         29   20\n",
       "Up           82  121"
      ]
     },
     "execution_count": 55,
     "metadata": {},
     "output_type": "execute_result"
    }
   ],
   "source": [
    "gnb_conf_m = pd.DataFrame(confusion_matrix(y_test, gnb_preds).T,\n",
    "                          index=['Down', 'Up'],\n",
    "                          columns=['Down', 'Up'])\n",
    "gnb_conf_m.index.name = 'True'\n",
    "gnb_conf_m.columns.name = 'Predicted'\n",
    "gnb_conf_m"
   ]
  },
  {
   "cell_type": "code",
   "execution_count": 56,
   "id": "25549ed2-dd10-48cc-a989-8232981082ec",
   "metadata": {},
   "outputs": [
    {
     "name": "stdout",
     "output_type": "stream",
     "text": [
      "Accuracy: 0.5992063492063492\n",
      "Testing Error: 0.4007936507936508\n"
     ]
    }
   ],
   "source": [
    "acc_score_gnb = accuracy_score(y_test, qda_fit_preds)\n",
    "\n",
    "print(F\"Accuracy: {acc_score_gnb}\")\n",
    "print(F\"Testing Error: {1-acc_score_gnb}\")"
   ]
  },
  {
   "cell_type": "markdown",
   "id": "493e102b-e8c9-45a2-89e3-a6bd5baed571",
   "metadata": {},
   "source": [
    "## 4.7.6 K-Nearest Neighbors\n",
    "### When k = 1"
   ]
  },
  {
   "cell_type": "code",
   "execution_count": 57,
   "id": "4c009523-1325-4145-8d14-137a86232986",
   "metadata": {},
   "outputs": [],
   "source": [
    "knn_model_1 = KNeighborsClassifier(n_neighbors=1)\n",
    "knn_fit_1 = knn_model_1.fit(X_train, y_train)"
   ]
  },
  {
   "cell_type": "code",
   "execution_count": 58,
   "id": "ba8adb52-c1f7-4ac6-9704-dc0b442a5151",
   "metadata": {},
   "outputs": [
    {
     "data": {
      "text/html": [
       "<div>\n",
       "<style scoped>\n",
       "    .dataframe tbody tr th:only-of-type {\n",
       "        vertical-align: middle;\n",
       "    }\n",
       "\n",
       "    .dataframe tbody tr th {\n",
       "        vertical-align: top;\n",
       "    }\n",
       "\n",
       "    .dataframe thead th {\n",
       "        text-align: right;\n",
       "    }\n",
       "</style>\n",
       "<table border=\"1\" class=\"dataframe\">\n",
       "  <thead>\n",
       "    <tr style=\"text-align: right;\">\n",
       "      <th></th>\n",
       "      <th>prob_0</th>\n",
       "      <th>prob_1</th>\n",
       "      <th>pred_class</th>\n",
       "    </tr>\n",
       "  </thead>\n",
       "  <tbody>\n",
       "    <tr>\n",
       "      <th>0</th>\n",
       "      <td>0.0</td>\n",
       "      <td>1.0</td>\n",
       "      <td>1</td>\n",
       "    </tr>\n",
       "    <tr>\n",
       "      <th>1</th>\n",
       "      <td>1.0</td>\n",
       "      <td>0.0</td>\n",
       "      <td>0</td>\n",
       "    </tr>\n",
       "    <tr>\n",
       "      <th>2</th>\n",
       "      <td>0.0</td>\n",
       "      <td>1.0</td>\n",
       "      <td>1</td>\n",
       "    </tr>\n",
       "    <tr>\n",
       "      <th>3</th>\n",
       "      <td>0.0</td>\n",
       "      <td>1.0</td>\n",
       "      <td>1</td>\n",
       "    </tr>\n",
       "    <tr>\n",
       "      <th>4</th>\n",
       "      <td>0.0</td>\n",
       "      <td>1.0</td>\n",
       "      <td>1</td>\n",
       "    </tr>\n",
       "    <tr>\n",
       "      <th>...</th>\n",
       "      <td>...</td>\n",
       "      <td>...</td>\n",
       "      <td>...</td>\n",
       "    </tr>\n",
       "    <tr>\n",
       "      <th>247</th>\n",
       "      <td>1.0</td>\n",
       "      <td>0.0</td>\n",
       "      <td>0</td>\n",
       "    </tr>\n",
       "    <tr>\n",
       "      <th>248</th>\n",
       "      <td>1.0</td>\n",
       "      <td>0.0</td>\n",
       "      <td>0</td>\n",
       "    </tr>\n",
       "    <tr>\n",
       "      <th>249</th>\n",
       "      <td>0.0</td>\n",
       "      <td>1.0</td>\n",
       "      <td>1</td>\n",
       "    </tr>\n",
       "    <tr>\n",
       "      <th>250</th>\n",
       "      <td>1.0</td>\n",
       "      <td>0.0</td>\n",
       "      <td>0</td>\n",
       "    </tr>\n",
       "    <tr>\n",
       "      <th>251</th>\n",
       "      <td>0.0</td>\n",
       "      <td>1.0</td>\n",
       "      <td>1</td>\n",
       "    </tr>\n",
       "  </tbody>\n",
       "</table>\n",
       "<p>252 rows × 3 columns</p>\n",
       "</div>"
      ],
      "text/plain": [
       "     prob_0  prob_1  pred_class\n",
       "0       0.0     1.0           1\n",
       "1       1.0     0.0           0\n",
       "2       0.0     1.0           1\n",
       "3       0.0     1.0           1\n",
       "4       0.0     1.0           1\n",
       "..      ...     ...         ...\n",
       "247     1.0     0.0           0\n",
       "248     1.0     0.0           0\n",
       "249     0.0     1.0           1\n",
       "250     1.0     0.0           0\n",
       "251     0.0     1.0           1\n",
       "\n",
       "[252 rows x 3 columns]"
      ]
     },
     "execution_count": 58,
     "metadata": {},
     "output_type": "execute_result"
    }
   ],
   "source": [
    "knn_proba_1 = knn_fit_1.predict_proba(X_test)\n",
    "knn_preds_1 = knn_fit_1.predict(X_test)\n",
    "\n",
    "pd.DataFrame({\"prob_0\":knn_proba_1[:, 0],\n",
    "              \"prob_1\":knn_proba_1[:, 1],\n",
    "              \"pred_class\":knn_preds_1})"
   ]
  },
  {
   "cell_type": "code",
   "execution_count": 59,
   "id": "26013b8a-4203-4a2d-93f2-e60639b4018e",
   "metadata": {},
   "outputs": [
    {
     "data": {
      "text/html": [
       "<div>\n",
       "<style scoped>\n",
       "    .dataframe tbody tr th:only-of-type {\n",
       "        vertical-align: middle;\n",
       "    }\n",
       "\n",
       "    .dataframe tbody tr th {\n",
       "        vertical-align: top;\n",
       "    }\n",
       "\n",
       "    .dataframe thead th {\n",
       "        text-align: right;\n",
       "    }\n",
       "</style>\n",
       "<table border=\"1\" class=\"dataframe\">\n",
       "  <thead>\n",
       "    <tr style=\"text-align: right;\">\n",
       "      <th>Predicted</th>\n",
       "      <th>Down</th>\n",
       "      <th>Up</th>\n",
       "    </tr>\n",
       "    <tr>\n",
       "      <th>True</th>\n",
       "      <th></th>\n",
       "      <th></th>\n",
       "    </tr>\n",
       "  </thead>\n",
       "  <tbody>\n",
       "    <tr>\n",
       "      <th>Down</th>\n",
       "      <td>43</td>\n",
       "      <td>58</td>\n",
       "    </tr>\n",
       "    <tr>\n",
       "      <th>Up</th>\n",
       "      <td>68</td>\n",
       "      <td>83</td>\n",
       "    </tr>\n",
       "  </tbody>\n",
       "</table>\n",
       "</div>"
      ],
      "text/plain": [
       "Predicted  Down  Up\n",
       "True               \n",
       "Down         43  58\n",
       "Up           68  83"
      ]
     },
     "execution_count": 59,
     "metadata": {},
     "output_type": "execute_result"
    }
   ],
   "source": [
    "conf_m_knn_1 = pd.DataFrame(confusion_matrix(y_test, knn_preds_1).T,\n",
    "                          index=['Down', 'Up'],\n",
    "                          columns=['Down', 'Up'])\n",
    "conf_m_knn_1.index.name = 'True'\n",
    "conf_m_knn_1.columns.name = 'Predicted'\n",
    "\n",
    "conf_m_knn_1"
   ]
  },
  {
   "cell_type": "code",
   "execution_count": 60,
   "id": "9e39764c-c636-4466-a924-aa49818bfcd7",
   "metadata": {},
   "outputs": [
    {
     "name": "stdout",
     "output_type": "stream",
     "text": [
      "Accuracy: 0.5\n",
      "Testing Error: 0.5\n"
     ]
    }
   ],
   "source": [
    "acc_score_knn_1 = accuracy_score(y_test, knn_preds_1)\n",
    "print(F\"Accuracy: {acc_score_knn_1}\")\n",
    "print(F\"Testing Error: {1-acc_score_knn_1}\")"
   ]
  },
  {
   "cell_type": "markdown",
   "id": "1c6e4e16-34ec-4fec-9eef-c6759bf59a52",
   "metadata": {},
   "source": [
    "### When k = 3"
   ]
  },
  {
   "cell_type": "code",
   "execution_count": 61,
   "id": "6281dba2-231b-4b36-afc6-8429918718c9",
   "metadata": {},
   "outputs": [
    {
     "data": {
      "text/html": [
       "<div>\n",
       "<style scoped>\n",
       "    .dataframe tbody tr th:only-of-type {\n",
       "        vertical-align: middle;\n",
       "    }\n",
       "\n",
       "    .dataframe tbody tr th {\n",
       "        vertical-align: top;\n",
       "    }\n",
       "\n",
       "    .dataframe thead th {\n",
       "        text-align: right;\n",
       "    }\n",
       "</style>\n",
       "<table border=\"1\" class=\"dataframe\">\n",
       "  <thead>\n",
       "    <tr style=\"text-align: right;\">\n",
       "      <th></th>\n",
       "      <th>prob_0</th>\n",
       "      <th>prob_1</th>\n",
       "      <th>pred_class</th>\n",
       "    </tr>\n",
       "  </thead>\n",
       "  <tbody>\n",
       "    <tr>\n",
       "      <th>0</th>\n",
       "      <td>0.666667</td>\n",
       "      <td>0.333333</td>\n",
       "      <td>0</td>\n",
       "    </tr>\n",
       "    <tr>\n",
       "      <th>1</th>\n",
       "      <td>0.666667</td>\n",
       "      <td>0.333333</td>\n",
       "      <td>0</td>\n",
       "    </tr>\n",
       "    <tr>\n",
       "      <th>2</th>\n",
       "      <td>0.666667</td>\n",
       "      <td>0.333333</td>\n",
       "      <td>0</td>\n",
       "    </tr>\n",
       "    <tr>\n",
       "      <th>3</th>\n",
       "      <td>0.333333</td>\n",
       "      <td>0.666667</td>\n",
       "      <td>1</td>\n",
       "    </tr>\n",
       "    <tr>\n",
       "      <th>4</th>\n",
       "      <td>0.333333</td>\n",
       "      <td>0.666667</td>\n",
       "      <td>1</td>\n",
       "    </tr>\n",
       "    <tr>\n",
       "      <th>...</th>\n",
       "      <td>...</td>\n",
       "      <td>...</td>\n",
       "      <td>...</td>\n",
       "    </tr>\n",
       "    <tr>\n",
       "      <th>247</th>\n",
       "      <td>1.000000</td>\n",
       "      <td>0.000000</td>\n",
       "      <td>0</td>\n",
       "    </tr>\n",
       "    <tr>\n",
       "      <th>248</th>\n",
       "      <td>0.666667</td>\n",
       "      <td>0.333333</td>\n",
       "      <td>0</td>\n",
       "    </tr>\n",
       "    <tr>\n",
       "      <th>249</th>\n",
       "      <td>0.333333</td>\n",
       "      <td>0.666667</td>\n",
       "      <td>1</td>\n",
       "    </tr>\n",
       "    <tr>\n",
       "      <th>250</th>\n",
       "      <td>0.333333</td>\n",
       "      <td>0.666667</td>\n",
       "      <td>1</td>\n",
       "    </tr>\n",
       "    <tr>\n",
       "      <th>251</th>\n",
       "      <td>0.333333</td>\n",
       "      <td>0.666667</td>\n",
       "      <td>1</td>\n",
       "    </tr>\n",
       "  </tbody>\n",
       "</table>\n",
       "<p>252 rows × 3 columns</p>\n",
       "</div>"
      ],
      "text/plain": [
       "       prob_0    prob_1  pred_class\n",
       "0    0.666667  0.333333           0\n",
       "1    0.666667  0.333333           0\n",
       "2    0.666667  0.333333           0\n",
       "3    0.333333  0.666667           1\n",
       "4    0.333333  0.666667           1\n",
       "..        ...       ...         ...\n",
       "247  1.000000  0.000000           0\n",
       "248  0.666667  0.333333           0\n",
       "249  0.333333  0.666667           1\n",
       "250  0.333333  0.666667           1\n",
       "251  0.333333  0.666667           1\n",
       "\n",
       "[252 rows x 3 columns]"
      ]
     },
     "execution_count": 61,
     "metadata": {},
     "output_type": "execute_result"
    }
   ],
   "source": [
    "knn_model_3 = KNeighborsClassifier(n_neighbors=3)\n",
    "knn_fit_3 = knn_model_3.fit(X_train, y_train)\n",
    "\n",
    "knn_proba_3 = knn_fit_3.predict_proba(X_test)\n",
    "knn_preds_3 = knn_fit_3.predict(X_test)\n",
    "\n",
    "pd.DataFrame({\"prob_0\":knn_proba_3[:, 0],\n",
    "              \"prob_1\":knn_proba_3[:, 1],\n",
    "              \"pred_class\":knn_preds_3})"
   ]
  },
  {
   "cell_type": "code",
   "execution_count": 62,
   "id": "62d43423-7d36-47f8-9df9-2cf40d07e37c",
   "metadata": {},
   "outputs": [
    {
     "data": {
      "text/html": [
       "<div>\n",
       "<style scoped>\n",
       "    .dataframe tbody tr th:only-of-type {\n",
       "        vertical-align: middle;\n",
       "    }\n",
       "\n",
       "    .dataframe tbody tr th {\n",
       "        vertical-align: top;\n",
       "    }\n",
       "\n",
       "    .dataframe thead th {\n",
       "        text-align: right;\n",
       "    }\n",
       "</style>\n",
       "<table border=\"1\" class=\"dataframe\">\n",
       "  <thead>\n",
       "    <tr style=\"text-align: right;\">\n",
       "      <th>Predicted</th>\n",
       "      <th>Down</th>\n",
       "      <th>Up</th>\n",
       "    </tr>\n",
       "    <tr>\n",
       "      <th>True</th>\n",
       "      <th></th>\n",
       "      <th></th>\n",
       "    </tr>\n",
       "  </thead>\n",
       "  <tbody>\n",
       "    <tr>\n",
       "      <th>Down</th>\n",
       "      <td>48</td>\n",
       "      <td>55</td>\n",
       "    </tr>\n",
       "    <tr>\n",
       "      <th>Up</th>\n",
       "      <td>63</td>\n",
       "      <td>86</td>\n",
       "    </tr>\n",
       "  </tbody>\n",
       "</table>\n",
       "</div>"
      ],
      "text/plain": [
       "Predicted  Down  Up\n",
       "True               \n",
       "Down         48  55\n",
       "Up           63  86"
      ]
     },
     "execution_count": 62,
     "metadata": {},
     "output_type": "execute_result"
    }
   ],
   "source": [
    "conf_m_knn_3 = pd.DataFrame(confusion_matrix(y_test, knn_preds_3).T,\n",
    "                          index=['Down', 'Up'],\n",
    "                          columns=['Down', 'Up'])\n",
    "conf_m_knn_3.index.name = 'True'\n",
    "conf_m_knn_3.columns.name = 'Predicted'\n",
    "\n",
    "conf_m_knn_3"
   ]
  },
  {
   "cell_type": "code",
   "execution_count": 63,
   "id": "22ffe220-f43d-490b-a500-6e25e0d8ca04",
   "metadata": {},
   "outputs": [
    {
     "name": "stdout",
     "output_type": "stream",
     "text": [
      "Accuracy: 0.5317460317460317\n",
      "Testing Error: 0.46825396825396826\n"
     ]
    }
   ],
   "source": [
    "acc_score_knn_3 = accuracy_score(y_test, knn_preds_3)\n",
    "print(F\"Accuracy: {acc_score_knn_3}\")\n",
    "print(F\"Testing Error: {1-acc_score_knn_3}\")"
   ]
  },
  {
   "cell_type": "markdown",
   "id": "88b929fb-545d-46d1-98ff-843ad85d47b8",
   "metadata": {},
   "source": [
    "### An Application to Caravan Insurance Data"
   ]
  },
  {
   "cell_type": "code",
   "execution_count": 64,
   "id": "6b0d2559-0afe-459b-90e0-827b458fbb72",
   "metadata": {},
   "outputs": [
    {
     "data": {
      "text/html": [
       "<div>\n",
       "<style scoped>\n",
       "    .dataframe tbody tr th:only-of-type {\n",
       "        vertical-align: middle;\n",
       "    }\n",
       "\n",
       "    .dataframe tbody tr th {\n",
       "        vertical-align: top;\n",
       "    }\n",
       "\n",
       "    .dataframe thead th {\n",
       "        text-align: right;\n",
       "    }\n",
       "</style>\n",
       "<table border=\"1\" class=\"dataframe\">\n",
       "  <thead>\n",
       "    <tr style=\"text-align: right;\">\n",
       "      <th></th>\n",
       "      <th>MOSTYPE</th>\n",
       "      <th>MAANTHUI</th>\n",
       "      <th>MGEMOMV</th>\n",
       "      <th>MGEMLEEF</th>\n",
       "      <th>MOSHOOFD</th>\n",
       "      <th>MGODRK</th>\n",
       "      <th>MGODPR</th>\n",
       "      <th>MGODOV</th>\n",
       "      <th>MGODGE</th>\n",
       "      <th>MRELGE</th>\n",
       "      <th>...</th>\n",
       "      <th>APERSONG</th>\n",
       "      <th>AGEZONG</th>\n",
       "      <th>AWAOREG</th>\n",
       "      <th>ABRAND</th>\n",
       "      <th>AZEILPL</th>\n",
       "      <th>APLEZIER</th>\n",
       "      <th>AFIETS</th>\n",
       "      <th>AINBOED</th>\n",
       "      <th>ABYSTAND</th>\n",
       "      <th>Purchase</th>\n",
       "    </tr>\n",
       "  </thead>\n",
       "  <tbody>\n",
       "    <tr>\n",
       "      <th>0</th>\n",
       "      <td>33</td>\n",
       "      <td>1</td>\n",
       "      <td>3</td>\n",
       "      <td>2</td>\n",
       "      <td>8</td>\n",
       "      <td>0</td>\n",
       "      <td>5</td>\n",
       "      <td>1</td>\n",
       "      <td>3</td>\n",
       "      <td>7</td>\n",
       "      <td>...</td>\n",
       "      <td>0</td>\n",
       "      <td>0</td>\n",
       "      <td>0</td>\n",
       "      <td>1</td>\n",
       "      <td>0</td>\n",
       "      <td>0</td>\n",
       "      <td>0</td>\n",
       "      <td>0</td>\n",
       "      <td>0</td>\n",
       "      <td>No</td>\n",
       "    </tr>\n",
       "    <tr>\n",
       "      <th>1</th>\n",
       "      <td>37</td>\n",
       "      <td>1</td>\n",
       "      <td>2</td>\n",
       "      <td>2</td>\n",
       "      <td>8</td>\n",
       "      <td>1</td>\n",
       "      <td>4</td>\n",
       "      <td>1</td>\n",
       "      <td>4</td>\n",
       "      <td>6</td>\n",
       "      <td>...</td>\n",
       "      <td>0</td>\n",
       "      <td>0</td>\n",
       "      <td>0</td>\n",
       "      <td>1</td>\n",
       "      <td>0</td>\n",
       "      <td>0</td>\n",
       "      <td>0</td>\n",
       "      <td>0</td>\n",
       "      <td>0</td>\n",
       "      <td>No</td>\n",
       "    </tr>\n",
       "    <tr>\n",
       "      <th>2</th>\n",
       "      <td>37</td>\n",
       "      <td>1</td>\n",
       "      <td>2</td>\n",
       "      <td>2</td>\n",
       "      <td>8</td>\n",
       "      <td>0</td>\n",
       "      <td>4</td>\n",
       "      <td>2</td>\n",
       "      <td>4</td>\n",
       "      <td>3</td>\n",
       "      <td>...</td>\n",
       "      <td>0</td>\n",
       "      <td>0</td>\n",
       "      <td>0</td>\n",
       "      <td>1</td>\n",
       "      <td>0</td>\n",
       "      <td>0</td>\n",
       "      <td>0</td>\n",
       "      <td>0</td>\n",
       "      <td>0</td>\n",
       "      <td>No</td>\n",
       "    </tr>\n",
       "    <tr>\n",
       "      <th>3</th>\n",
       "      <td>9</td>\n",
       "      <td>1</td>\n",
       "      <td>3</td>\n",
       "      <td>3</td>\n",
       "      <td>3</td>\n",
       "      <td>2</td>\n",
       "      <td>3</td>\n",
       "      <td>2</td>\n",
       "      <td>4</td>\n",
       "      <td>5</td>\n",
       "      <td>...</td>\n",
       "      <td>0</td>\n",
       "      <td>0</td>\n",
       "      <td>0</td>\n",
       "      <td>1</td>\n",
       "      <td>0</td>\n",
       "      <td>0</td>\n",
       "      <td>0</td>\n",
       "      <td>0</td>\n",
       "      <td>0</td>\n",
       "      <td>No</td>\n",
       "    </tr>\n",
       "    <tr>\n",
       "      <th>4</th>\n",
       "      <td>40</td>\n",
       "      <td>1</td>\n",
       "      <td>4</td>\n",
       "      <td>2</td>\n",
       "      <td>10</td>\n",
       "      <td>1</td>\n",
       "      <td>4</td>\n",
       "      <td>1</td>\n",
       "      <td>4</td>\n",
       "      <td>7</td>\n",
       "      <td>...</td>\n",
       "      <td>0</td>\n",
       "      <td>0</td>\n",
       "      <td>0</td>\n",
       "      <td>1</td>\n",
       "      <td>0</td>\n",
       "      <td>0</td>\n",
       "      <td>0</td>\n",
       "      <td>0</td>\n",
       "      <td>0</td>\n",
       "      <td>No</td>\n",
       "    </tr>\n",
       "  </tbody>\n",
       "</table>\n",
       "<p>5 rows × 86 columns</p>\n",
       "</div>"
      ],
      "text/plain": [
       "   MOSTYPE  MAANTHUI  MGEMOMV  MGEMLEEF  MOSHOOFD  MGODRK  MGODPR  MGODOV  \\\n",
       "0       33         1        3         2         8       0       5       1   \n",
       "1       37         1        2         2         8       1       4       1   \n",
       "2       37         1        2         2         8       0       4       2   \n",
       "3        9         1        3         3         3       2       3       2   \n",
       "4       40         1        4         2        10       1       4       1   \n",
       "\n",
       "   MGODGE  MRELGE  ...  APERSONG  AGEZONG  AWAOREG  ABRAND  AZEILPL  APLEZIER  \\\n",
       "0       3       7  ...         0        0        0       1        0         0   \n",
       "1       4       6  ...         0        0        0       1        0         0   \n",
       "2       4       3  ...         0        0        0       1        0         0   \n",
       "3       4       5  ...         0        0        0       1        0         0   \n",
       "4       4       7  ...         0        0        0       1        0         0   \n",
       "\n",
       "   AFIETS  AINBOED  ABYSTAND  Purchase  \n",
       "0       0        0         0        No  \n",
       "1       0        0         0        No  \n",
       "2       0        0         0        No  \n",
       "3       0        0         0        No  \n",
       "4       0        0         0        No  \n",
       "\n",
       "[5 rows x 86 columns]"
      ]
     },
     "execution_count": 64,
     "metadata": {},
     "output_type": "execute_result"
    }
   ],
   "source": [
    "caravan = pd.read_csv(\"~/Google Drive/Coding/ISLR2/datasets/Caravan.csv\")\n",
    "caravan['Purchase'] = caravan['Purchase'].astype('category')\n",
    "caravan.head()"
   ]
  },
  {
   "cell_type": "code",
   "execution_count": 65,
   "id": "1850e602-caea-48d4-a82d-ace6e47c6d4a",
   "metadata": {},
   "outputs": [
    {
     "data": {
      "text/plain": [
       "No     5474\n",
       "Yes     348\n",
       "Name: Purchase, dtype: int64"
      ]
     },
     "execution_count": 65,
     "metadata": {},
     "output_type": "execute_result"
    }
   ],
   "source": [
    "caravan['Purchase'].value_counts()"
   ]
  },
  {
   "cell_type": "code",
   "execution_count": 66,
   "id": "cc334644-5733-44a6-8f10-9faba045e9f3",
   "metadata": {},
   "outputs": [
    {
     "data": {
      "text/plain": [
       "0.05977327378907592"
      ]
     },
     "execution_count": 66,
     "metadata": {},
     "output_type": "execute_result"
    }
   ],
   "source": [
    "caravan['Purchase'].value_counts(normalize=True)['Yes']"
   ]
  },
  {
   "cell_type": "code",
   "execution_count": 67,
   "id": "987cc1cb-b7ce-464e-9be1-996e0c3a8331",
   "metadata": {},
   "outputs": [
    {
     "name": "stdout",
     "output_type": "stream",
     "text": [
      "<class 'pandas.core.frame.DataFrame'>\n",
      "RangeIndex: 5822 entries, 0 to 5821\n",
      "Data columns (total 86 columns):\n",
      " #   Column    Non-Null Count  Dtype   \n",
      "---  ------    --------------  -----   \n",
      " 0   MOSTYPE   5822 non-null   int64   \n",
      " 1   MAANTHUI  5822 non-null   int64   \n",
      " 2   MGEMOMV   5822 non-null   int64   \n",
      " 3   MGEMLEEF  5822 non-null   int64   \n",
      " 4   MOSHOOFD  5822 non-null   int64   \n",
      " 5   MGODRK    5822 non-null   int64   \n",
      " 6   MGODPR    5822 non-null   int64   \n",
      " 7   MGODOV    5822 non-null   int64   \n",
      " 8   MGODGE    5822 non-null   int64   \n",
      " 9   MRELGE    5822 non-null   int64   \n",
      " 10  MRELSA    5822 non-null   int64   \n",
      " 11  MRELOV    5822 non-null   int64   \n",
      " 12  MFALLEEN  5822 non-null   int64   \n",
      " 13  MFGEKIND  5822 non-null   int64   \n",
      " 14  MFWEKIND  5822 non-null   int64   \n",
      " 15  MOPLHOOG  5822 non-null   int64   \n",
      " 16  MOPLMIDD  5822 non-null   int64   \n",
      " 17  MOPLLAAG  5822 non-null   int64   \n",
      " 18  MBERHOOG  5822 non-null   int64   \n",
      " 19  MBERZELF  5822 non-null   int64   \n",
      " 20  MBERBOER  5822 non-null   int64   \n",
      " 21  MBERMIDD  5822 non-null   int64   \n",
      " 22  MBERARBG  5822 non-null   int64   \n",
      " 23  MBERARBO  5822 non-null   int64   \n",
      " 24  MSKA      5822 non-null   int64   \n",
      " 25  MSKB1     5822 non-null   int64   \n",
      " 26  MSKB2     5822 non-null   int64   \n",
      " 27  MSKC      5822 non-null   int64   \n",
      " 28  MSKD      5822 non-null   int64   \n",
      " 29  MHHUUR    5822 non-null   int64   \n",
      " 30  MHKOOP    5822 non-null   int64   \n",
      " 31  MAUT1     5822 non-null   int64   \n",
      " 32  MAUT2     5822 non-null   int64   \n",
      " 33  MAUT0     5822 non-null   int64   \n",
      " 34  MZFONDS   5822 non-null   int64   \n",
      " 35  MZPART    5822 non-null   int64   \n",
      " 36  MINKM30   5822 non-null   int64   \n",
      " 37  MINK3045  5822 non-null   int64   \n",
      " 38  MINK4575  5822 non-null   int64   \n",
      " 39  MINK7512  5822 non-null   int64   \n",
      " 40  MINK123M  5822 non-null   int64   \n",
      " 41  MINKGEM   5822 non-null   int64   \n",
      " 42  MKOOPKLA  5822 non-null   int64   \n",
      " 43  PWAPART   5822 non-null   int64   \n",
      " 44  PWABEDR   5822 non-null   int64   \n",
      " 45  PWALAND   5822 non-null   int64   \n",
      " 46  PPERSAUT  5822 non-null   int64   \n",
      " 47  PBESAUT   5822 non-null   int64   \n",
      " 48  PMOTSCO   5822 non-null   int64   \n",
      " 49  PVRAAUT   5822 non-null   int64   \n",
      " 50  PAANHANG  5822 non-null   int64   \n",
      " 51  PTRACTOR  5822 non-null   int64   \n",
      " 52  PWERKT    5822 non-null   int64   \n",
      " 53  PBROM     5822 non-null   int64   \n",
      " 54  PLEVEN    5822 non-null   int64   \n",
      " 55  PPERSONG  5822 non-null   int64   \n",
      " 56  PGEZONG   5822 non-null   int64   \n",
      " 57  PWAOREG   5822 non-null   int64   \n",
      " 58  PBRAND    5822 non-null   int64   \n",
      " 59  PZEILPL   5822 non-null   int64   \n",
      " 60  PPLEZIER  5822 non-null   int64   \n",
      " 61  PFIETS    5822 non-null   int64   \n",
      " 62  PINBOED   5822 non-null   int64   \n",
      " 63  PBYSTAND  5822 non-null   int64   \n",
      " 64  AWAPART   5822 non-null   int64   \n",
      " 65  AWABEDR   5822 non-null   int64   \n",
      " 66  AWALAND   5822 non-null   int64   \n",
      " 67  APERSAUT  5822 non-null   int64   \n",
      " 68  ABESAUT   5822 non-null   int64   \n",
      " 69  AMOTSCO   5822 non-null   int64   \n",
      " 70  AVRAAUT   5822 non-null   int64   \n",
      " 71  AAANHANG  5822 non-null   int64   \n",
      " 72  ATRACTOR  5822 non-null   int64   \n",
      " 73  AWERKT    5822 non-null   int64   \n",
      " 74  ABROM     5822 non-null   int64   \n",
      " 75  ALEVEN    5822 non-null   int64   \n",
      " 76  APERSONG  5822 non-null   int64   \n",
      " 77  AGEZONG   5822 non-null   int64   \n",
      " 78  AWAOREG   5822 non-null   int64   \n",
      " 79  ABRAND    5822 non-null   int64   \n",
      " 80  AZEILPL   5822 non-null   int64   \n",
      " 81  APLEZIER  5822 non-null   int64   \n",
      " 82  AFIETS    5822 non-null   int64   \n",
      " 83  AINBOED   5822 non-null   int64   \n",
      " 84  ABYSTAND  5822 non-null   int64   \n",
      " 85  Purchase  5822 non-null   category\n",
      "dtypes: category(1), int64(85)\n",
      "memory usage: 3.8 MB\n"
     ]
    }
   ],
   "source": [
    "caravan.info(memory_usage='deep')"
   ]
  },
  {
   "cell_type": "code",
   "execution_count": 68,
   "id": "b47ac812-230a-4651-a575-c15a9fb53ae0",
   "metadata": {},
   "outputs": [],
   "source": [
    "from scipy.stats import zscore\n",
    "\n",
    "X = caravan.iloc[:, 0:85].apply(zscore) # standardize for KNN\n",
    "y = caravan['Purchase']"
   ]
  },
  {
   "cell_type": "code",
   "execution_count": 69,
   "id": "e21ddd31-51ec-40e4-89d4-0af228126ba5",
   "metadata": {},
   "outputs": [
    {
     "data": {
      "text/plain": [
       "165.03784739518855"
      ]
     },
     "execution_count": 69,
     "metadata": {},
     "output_type": "execute_result"
    }
   ],
   "source": [
    "caravan.iloc[:, 0].std()**2"
   ]
  },
  {
   "cell_type": "code",
   "execution_count": 70,
   "id": "8858dab5-d40a-43c2-8532-cd449d6ad3aa",
   "metadata": {},
   "outputs": [
    {
     "data": {
      "text/plain": [
       "1.0001717917883528"
      ]
     },
     "execution_count": 70,
     "metadata": {},
     "output_type": "execute_result"
    }
   ],
   "source": [
    "X.iloc[:, 0].std()**2"
   ]
  },
  {
   "cell_type": "code",
   "execution_count": 71,
   "id": "672a1259-6c16-4540-9e9b-74e7f3d7197a",
   "metadata": {},
   "outputs": [
    {
     "data": {
      "text/plain": [
       "0.1647077819319536"
      ]
     },
     "execution_count": 71,
     "metadata": {},
     "output_type": "execute_result"
    }
   ],
   "source": [
    "caravan.iloc[:, 1].std()**2"
   ]
  },
  {
   "cell_type": "code",
   "execution_count": 72,
   "id": "ac2fbfc6-d5e4-4b64-8bb7-3323a55ec8cc",
   "metadata": {},
   "outputs": [
    {
     "data": {
      "text/plain": [
       "1.0001717917883524"
      ]
     },
     "execution_count": 72,
     "metadata": {},
     "output_type": "execute_result"
    }
   ],
   "source": [
    "X.iloc[:, 1].std()**2"
   ]
  },
  {
   "cell_type": "markdown",
   "id": "f146a5bd-7e0c-406a-9e5f-58c6691e1170",
   "metadata": {},
   "source": [
    "#### When k = 1"
   ]
  },
  {
   "cell_type": "code",
   "execution_count": 73,
   "id": "272aa14d-7dd8-4515-8574-6f8eee6301bc",
   "metadata": {},
   "outputs": [],
   "source": [
    "X_train = X[1001:]\n",
    "y_train = y[1001:]\n",
    "\n",
    "X_test = X[:1000]\n",
    "y_test = y[:1000]"
   ]
  },
  {
   "cell_type": "code",
   "execution_count": 74,
   "id": "f9de2fc2-ebcb-40cf-a064-9c5c0f00b923",
   "metadata": {},
   "outputs": [],
   "source": [
    "knn_fit = knn_model_1.fit(X_train, y_train)\n",
    "\n",
    "knn_preds = knn_fit.predict(X_test)"
   ]
  },
  {
   "cell_type": "code",
   "execution_count": 75,
   "id": "290f3827-4093-407c-92d8-3b09f650cf4f",
   "metadata": {},
   "outputs": [
    {
     "data": {
      "text/plain": [
       "0.118"
      ]
     },
     "execution_count": 75,
     "metadata": {},
     "output_type": "execute_result"
    }
   ],
   "source": [
    "np.mean(y_test != knn_preds)"
   ]
  },
  {
   "cell_type": "code",
   "execution_count": 76,
   "id": "6dfad9e1-6db9-456e-af99-f553093d39aa",
   "metadata": {},
   "outputs": [
    {
     "data": {
      "text/plain": [
       "0.059"
      ]
     },
     "execution_count": 76,
     "metadata": {},
     "output_type": "execute_result"
    }
   ],
   "source": [
    "np.mean(y_test != 'No')"
   ]
  },
  {
   "cell_type": "code",
   "execution_count": 77,
   "id": "89b937c6-c1ea-4745-8891-c854981780b0",
   "metadata": {},
   "outputs": [
    {
     "name": "stdout",
     "output_type": "stream",
     "text": [
      "Accuracy: 0.882\n",
      "Testing Error: 0.118\n"
     ]
    }
   ],
   "source": [
    "acc_score_caravan_knn_1 = accuracy_score(y_test, knn_preds)\n",
    "\n",
    "print(F\"Accuracy: {acc_score_caravan_knn_1}\")\n",
    "print(F\"Testing Error: {1-acc_score_caravan_knn_1}\")"
   ]
  },
  {
   "cell_type": "code",
   "execution_count": 78,
   "id": "0ce6c0aa-ce91-4062-9e3c-7fbd91310269",
   "metadata": {},
   "outputs": [
    {
     "data": {
      "text/html": [
       "<div>\n",
       "<style scoped>\n",
       "    .dataframe tbody tr th:only-of-type {\n",
       "        vertical-align: middle;\n",
       "    }\n",
       "\n",
       "    .dataframe tbody tr th {\n",
       "        vertical-align: top;\n",
       "    }\n",
       "\n",
       "    .dataframe thead th {\n",
       "        text-align: right;\n",
       "    }\n",
       "</style>\n",
       "<table border=\"1\" class=\"dataframe\">\n",
       "  <thead>\n",
       "    <tr style=\"text-align: right;\">\n",
       "      <th>Predicted</th>\n",
       "      <th>No</th>\n",
       "      <th>Yes</th>\n",
       "    </tr>\n",
       "    <tr>\n",
       "      <th>True</th>\n",
       "      <th></th>\n",
       "      <th></th>\n",
       "    </tr>\n",
       "  </thead>\n",
       "  <tbody>\n",
       "    <tr>\n",
       "      <th>No</th>\n",
       "      <td>873</td>\n",
       "      <td>50</td>\n",
       "    </tr>\n",
       "    <tr>\n",
       "      <th>Yes</th>\n",
       "      <td>68</td>\n",
       "      <td>9</td>\n",
       "    </tr>\n",
       "  </tbody>\n",
       "</table>\n",
       "</div>"
      ],
      "text/plain": [
       "Predicted   No  Yes\n",
       "True               \n",
       "No         873   50\n",
       "Yes         68    9"
      ]
     },
     "execution_count": 78,
     "metadata": {},
     "output_type": "execute_result"
    }
   ],
   "source": [
    "conf_m_caravan_knn = pd.DataFrame(confusion_matrix(y_test, knn_preds).T,\n",
    "                                  index=['No', 'Yes'],\n",
    "                                  columns=['No', 'Yes'])\n",
    "conf_m_caravan_knn.index.name = 'True'\n",
    "conf_m_caravan_knn.columns.name = 'Predicted'\n",
    "conf_m_caravan_knn"
   ]
  },
  {
   "cell_type": "code",
   "execution_count": 79,
   "id": "5b75984d-3074-4a37-a913-2ff8e1a36f26",
   "metadata": {},
   "outputs": [
    {
     "name": "stdout",
     "output_type": "stream",
     "text": [
      "Precision (True Positive Rate): 0.11688311688311688\n",
      "False Positive Rate: 0.8831168831168831\n"
     ]
    }
   ],
   "source": [
    "from sklearn.metrics import precision_score\n",
    "\n",
    "prec_score_caravan_knn = precision_score(y_test, knn_preds, pos_label='Yes')\n",
    "\n",
    "print(F\"Precision (True Positive Rate): {prec_score_caravan_knn}\")\n",
    "print(F\"False Positive Rate: {1-prec_score_caravan_knn}\")"
   ]
  },
  {
   "cell_type": "markdown",
   "id": "6f69017b-67fb-4d50-aa27-7f6b09e2f080",
   "metadata": {
    "tags": []
   },
   "source": [
    "#### When k = 3"
   ]
  },
  {
   "cell_type": "code",
   "execution_count": 80,
   "id": "256e9829-6663-4044-afcc-dd54d61a9709",
   "metadata": {},
   "outputs": [
    {
     "data": {
      "text/html": [
       "<div>\n",
       "<style scoped>\n",
       "    .dataframe tbody tr th:only-of-type {\n",
       "        vertical-align: middle;\n",
       "    }\n",
       "\n",
       "    .dataframe tbody tr th {\n",
       "        vertical-align: top;\n",
       "    }\n",
       "\n",
       "    .dataframe thead th {\n",
       "        text-align: right;\n",
       "    }\n",
       "</style>\n",
       "<table border=\"1\" class=\"dataframe\">\n",
       "  <thead>\n",
       "    <tr style=\"text-align: right;\">\n",
       "      <th></th>\n",
       "      <th>No</th>\n",
       "      <th>Yes</th>\n",
       "    </tr>\n",
       "  </thead>\n",
       "  <tbody>\n",
       "    <tr>\n",
       "      <th>No</th>\n",
       "      <td>921</td>\n",
       "      <td>54</td>\n",
       "    </tr>\n",
       "    <tr>\n",
       "      <th>Yes</th>\n",
       "      <td>20</td>\n",
       "      <td>5</td>\n",
       "    </tr>\n",
       "  </tbody>\n",
       "</table>\n",
       "</div>"
      ],
      "text/plain": [
       "      No  Yes\n",
       "No   921   54\n",
       "Yes   20    5"
      ]
     },
     "execution_count": 80,
     "metadata": {},
     "output_type": "execute_result"
    }
   ],
   "source": [
    "knn_fit = knn_model_3.fit(X_train, y_train)\n",
    "knn_preds = knn_fit.predict(X_test)\n",
    "\n",
    "conf_m_carvan_knn_3 = pd.DataFrame(confusion_matrix(y_test, knn_preds).T,\n",
    "                                   index=['No', 'Yes'],\n",
    "                                   columns=['No', 'Yes'])\n",
    "\n",
    "conf_m_carvan_knn_3"
   ]
  },
  {
   "cell_type": "code",
   "execution_count": 81,
   "id": "d318ab15-6fd9-473a-97e9-e9e0261f5ff0",
   "metadata": {},
   "outputs": [
    {
     "name": "stdout",
     "output_type": "stream",
     "text": [
      "Precision (True Positive Rate): 0.2\n",
      "False Positive Rate: 0.8\n"
     ]
    }
   ],
   "source": [
    "prec_score_caravan_knn_3 = precision_score(y_test, knn_preds, pos_label='Yes')\n",
    "\n",
    "print(F\"Precision (True Positive Rate): {prec_score_caravan_knn_3}\")\n",
    "print(F\"False Positive Rate: {1-prec_score_caravan_knn_3}\")"
   ]
  },
  {
   "cell_type": "markdown",
   "id": "ef7993a2-6856-4150-9a83-3fcf71bd37a7",
   "metadata": {},
   "source": [
    "#### When k = 5"
   ]
  },
  {
   "cell_type": "code",
   "execution_count": 82,
   "id": "82fa8dfb-8020-4f99-bd20-6fafadd28ea1",
   "metadata": {},
   "outputs": [
    {
     "data": {
      "text/html": [
       "<div>\n",
       "<style scoped>\n",
       "    .dataframe tbody tr th:only-of-type {\n",
       "        vertical-align: middle;\n",
       "    }\n",
       "\n",
       "    .dataframe tbody tr th {\n",
       "        vertical-align: top;\n",
       "    }\n",
       "\n",
       "    .dataframe thead th {\n",
       "        text-align: right;\n",
       "    }\n",
       "</style>\n",
       "<table border=\"1\" class=\"dataframe\">\n",
       "  <thead>\n",
       "    <tr style=\"text-align: right;\">\n",
       "      <th></th>\n",
       "      <th>No</th>\n",
       "      <th>Yes</th>\n",
       "    </tr>\n",
       "  </thead>\n",
       "  <tbody>\n",
       "    <tr>\n",
       "      <th>No</th>\n",
       "      <td>931</td>\n",
       "      <td>55</td>\n",
       "    </tr>\n",
       "    <tr>\n",
       "      <th>Yes</th>\n",
       "      <td>10</td>\n",
       "      <td>4</td>\n",
       "    </tr>\n",
       "  </tbody>\n",
       "</table>\n",
       "</div>"
      ],
      "text/plain": [
       "      No  Yes\n",
       "No   931   55\n",
       "Yes   10    4"
      ]
     },
     "execution_count": 82,
     "metadata": {},
     "output_type": "execute_result"
    }
   ],
   "source": [
    "knn_model_5 = KNeighborsClassifier(n_neighbors=5)\n",
    "knn_fit = knn_model_5.fit(X_train, y_train)\n",
    "knn_preds = knn_fit.predict(X_test)\n",
    "\n",
    "conf_m_carvan_knn_5 = pd.DataFrame(confusion_matrix(y_test, knn_preds).T,\n",
    "                                   index=['No', 'Yes'],\n",
    "                                   columns=['No', 'Yes'])\n",
    "\n",
    "conf_m_carvan_knn_5"
   ]
  },
  {
   "cell_type": "code",
   "execution_count": 83,
   "id": "e516fe3b-bd73-42cc-bb11-b3552255b8bf",
   "metadata": {},
   "outputs": [
    {
     "name": "stdout",
     "output_type": "stream",
     "text": [
      "Precision (True Positive Rate): 0.2857142857142857\n",
      "False Positive Rate: 0.7142857142857143\n"
     ]
    }
   ],
   "source": [
    "prec_score_caravan_knn_5 = precision_score(y_test, knn_preds, pos_label='Yes')\n",
    "\n",
    "print(F\"Precision (True Positive Rate): {prec_score_caravan_knn_5}\")\n",
    "print(F\"False Positive Rate: {1-prec_score_caravan_knn_5}\")"
   ]
  },
  {
   "cell_type": "markdown",
   "id": "09886625-3710-43ef-9f4b-a9be721a82e9",
   "metadata": {},
   "source": [
    "#### Comparing KNN to Logistic Regression"
   ]
  },
  {
   "cell_type": "code",
   "execution_count": 84,
   "id": "1aeb195e-4bc5-41f8-84fa-73402a0003b7",
   "metadata": {},
   "outputs": [],
   "source": [
    "lr_model = LogisticRegression(C=1e9, max_iter=900)\n",
    "lr_fit = lr_model.fit(X_train, y_train)\n",
    "\n",
    "lr_proba = lr_fit.predict_proba(X_test)\n",
    "lr_preds = lr_fit.predict(X_test)"
   ]
  },
  {
   "cell_type": "code",
   "execution_count": 85,
   "id": "226daf0d-2488-4d65-97ef-9d06dd2ba48e",
   "metadata": {},
   "outputs": [
    {
     "data": {
      "text/html": [
       "<div>\n",
       "<style scoped>\n",
       "    .dataframe tbody tr th:only-of-type {\n",
       "        vertical-align: middle;\n",
       "    }\n",
       "\n",
       "    .dataframe tbody tr th {\n",
       "        vertical-align: top;\n",
       "    }\n",
       "\n",
       "    .dataframe thead th {\n",
       "        text-align: right;\n",
       "    }\n",
       "</style>\n",
       "<table border=\"1\" class=\"dataframe\">\n",
       "  <thead>\n",
       "    <tr style=\"text-align: right;\">\n",
       "      <th>Predicted</th>\n",
       "      <th>No</th>\n",
       "      <th>Yes</th>\n",
       "    </tr>\n",
       "    <tr>\n",
       "      <th>True</th>\n",
       "      <th></th>\n",
       "      <th></th>\n",
       "    </tr>\n",
       "  </thead>\n",
       "  <tbody>\n",
       "    <tr>\n",
       "      <th>No</th>\n",
       "      <td>934</td>\n",
       "      <td>59</td>\n",
       "    </tr>\n",
       "    <tr>\n",
       "      <th>Yes</th>\n",
       "      <td>7</td>\n",
       "      <td>0</td>\n",
       "    </tr>\n",
       "  </tbody>\n",
       "</table>\n",
       "</div>"
      ],
      "text/plain": [
       "Predicted   No  Yes\n",
       "True               \n",
       "No         934   59\n",
       "Yes          7    0"
      ]
     },
     "execution_count": 85,
     "metadata": {},
     "output_type": "execute_result"
    }
   ],
   "source": [
    "conf_m_caravan_lr = pd.DataFrame(confusion_matrix(y_test, lr_preds).T,\n",
    "                                 index=['No', 'Yes'],\n",
    "                                 columns=['No', 'Yes'])\n",
    "conf_m_caravan_lr.index.name = 'True'\n",
    "conf_m_caravan_lr.columns.name = 'Predicted'\n",
    "\n",
    "conf_m_caravan_lr"
   ]
  },
  {
   "cell_type": "code",
   "execution_count": 86,
   "id": "e4def171-1222-4241-99db-114658789a87",
   "metadata": {},
   "outputs": [
    {
     "data": {
      "text/plain": [
       "array([[0.90789934, 0.09210066],\n",
       "       [0.99064915, 0.00935085],\n",
       "       [0.94248818, 0.05751182],\n",
       "       ...,\n",
       "       [0.98150969, 0.01849031],\n",
       "       [0.83256376, 0.16743624],\n",
       "       [0.96738182, 0.03261818]])"
      ]
     },
     "execution_count": 86,
     "metadata": {},
     "output_type": "execute_result"
    }
   ],
   "source": [
    "lr_proba"
   ]
  },
  {
   "cell_type": "code",
   "execution_count": 87,
   "id": "cc3e908e-d25e-4dbb-8072-f56c227c33ba",
   "metadata": {},
   "outputs": [
    {
     "data": {
      "text/html": [
       "<div>\n",
       "<style scoped>\n",
       "    .dataframe tbody tr th:only-of-type {\n",
       "        vertical-align: middle;\n",
       "    }\n",
       "\n",
       "    .dataframe tbody tr th {\n",
       "        vertical-align: top;\n",
       "    }\n",
       "\n",
       "    .dataframe thead th {\n",
       "        text-align: right;\n",
       "    }\n",
       "</style>\n",
       "<table border=\"1\" class=\"dataframe\">\n",
       "  <thead>\n",
       "    <tr style=\"text-align: right;\">\n",
       "      <th>Predicted</th>\n",
       "      <th>No</th>\n",
       "      <th>Yes</th>\n",
       "    </tr>\n",
       "    <tr>\n",
       "      <th>True</th>\n",
       "      <th></th>\n",
       "      <th></th>\n",
       "    </tr>\n",
       "  </thead>\n",
       "  <tbody>\n",
       "    <tr>\n",
       "      <th>No</th>\n",
       "      <td>919</td>\n",
       "      <td>48</td>\n",
       "    </tr>\n",
       "    <tr>\n",
       "      <th>Yes</th>\n",
       "      <td>22</td>\n",
       "      <td>11</td>\n",
       "    </tr>\n",
       "  </tbody>\n",
       "</table>\n",
       "</div>"
      ],
      "text/plain": [
       "Predicted   No  Yes\n",
       "True               \n",
       "No         919   48\n",
       "Yes         22   11"
      ]
     },
     "execution_count": 87,
     "metadata": {},
     "output_type": "execute_result"
    }
   ],
   "source": [
    "lr_preds_point25 = np.where(lr_proba[:,1]>0.25, 'Yes', 'No')\n",
    "\n",
    "conf_m_caravan_lr_point25 = pd.DataFrame(confusion_matrix(y_test, lr_preds_point25).T,\n",
    "                                 index=['No', 'Yes'],\n",
    "                                 columns=['No', 'Yes'])\n",
    "conf_m_caravan_lr_point25.index.name = 'True'\n",
    "conf_m_caravan_lr_point25.columns.name = 'Predicted'\n",
    "\n",
    "conf_m_caravan_lr_point25"
   ]
  },
  {
   "cell_type": "code",
   "execution_count": 88,
   "id": "35d75a46-31ba-4de9-9ba8-44e443882979",
   "metadata": {},
   "outputs": [
    {
     "name": "stdout",
     "output_type": "stream",
     "text": [
      "Precision (True Positive Rate): 0.3333333333333333\n",
      "False Positive Rate: 0.6666666666666667\n"
     ]
    }
   ],
   "source": [
    "prec_score_caravan_lr = precision_score(y_test, lr_preds_point25, pos_label='Yes')\n",
    "\n",
    "print(F\"Precision (True Positive Rate): {prec_score_caravan_lr}\")\n",
    "print(F\"False Positive Rate: {1-prec_score_caravan_lr}\")"
   ]
  },
  {
   "cell_type": "markdown",
   "id": "b37c72ab-59df-4723-a562-6d263906b5ec",
   "metadata": {},
   "source": [
    "## 4.7.7 Poisson Regression"
   ]
  },
  {
   "cell_type": "code",
   "execution_count": 89,
   "id": "11e6a0a7-0287-46b3-a4bf-eecc9cb3d388",
   "metadata": {},
   "outputs": [],
   "source": [
    "bikeshare = pd.read_csv(\"~/Google Drive/Coding/ISLR2/datasets/Bikeshare.csv\", index_col=0)"
   ]
  },
  {
   "cell_type": "code",
   "execution_count": 90,
   "id": "be583bdd-0329-4c9a-aa62-a94a3185fee3",
   "metadata": {},
   "outputs": [
    {
     "data": {
      "text/html": [
       "<div>\n",
       "<style scoped>\n",
       "    .dataframe tbody tr th:only-of-type {\n",
       "        vertical-align: middle;\n",
       "    }\n",
       "\n",
       "    .dataframe tbody tr th {\n",
       "        vertical-align: top;\n",
       "    }\n",
       "\n",
       "    .dataframe thead th {\n",
       "        text-align: right;\n",
       "    }\n",
       "</style>\n",
       "<table border=\"1\" class=\"dataframe\">\n",
       "  <thead>\n",
       "    <tr style=\"text-align: right;\">\n",
       "      <th></th>\n",
       "      <th>season</th>\n",
       "      <th>mnth</th>\n",
       "      <th>day</th>\n",
       "      <th>hr</th>\n",
       "      <th>holiday</th>\n",
       "      <th>weekday</th>\n",
       "      <th>workingday</th>\n",
       "      <th>weathersit</th>\n",
       "      <th>temp</th>\n",
       "      <th>atemp</th>\n",
       "      <th>hum</th>\n",
       "      <th>windspeed</th>\n",
       "      <th>casual</th>\n",
       "      <th>registered</th>\n",
       "      <th>bikers</th>\n",
       "    </tr>\n",
       "  </thead>\n",
       "  <tbody>\n",
       "    <tr>\n",
       "      <th>1</th>\n",
       "      <td>1</td>\n",
       "      <td>Jan</td>\n",
       "      <td>1</td>\n",
       "      <td>0</td>\n",
       "      <td>0</td>\n",
       "      <td>6</td>\n",
       "      <td>0</td>\n",
       "      <td>clear</td>\n",
       "      <td>0.24</td>\n",
       "      <td>0.2879</td>\n",
       "      <td>0.81</td>\n",
       "      <td>0.0</td>\n",
       "      <td>3</td>\n",
       "      <td>13</td>\n",
       "      <td>16</td>\n",
       "    </tr>\n",
       "    <tr>\n",
       "      <th>2</th>\n",
       "      <td>1</td>\n",
       "      <td>Jan</td>\n",
       "      <td>1</td>\n",
       "      <td>1</td>\n",
       "      <td>0</td>\n",
       "      <td>6</td>\n",
       "      <td>0</td>\n",
       "      <td>clear</td>\n",
       "      <td>0.22</td>\n",
       "      <td>0.2727</td>\n",
       "      <td>0.80</td>\n",
       "      <td>0.0</td>\n",
       "      <td>8</td>\n",
       "      <td>32</td>\n",
       "      <td>40</td>\n",
       "    </tr>\n",
       "    <tr>\n",
       "      <th>3</th>\n",
       "      <td>1</td>\n",
       "      <td>Jan</td>\n",
       "      <td>1</td>\n",
       "      <td>2</td>\n",
       "      <td>0</td>\n",
       "      <td>6</td>\n",
       "      <td>0</td>\n",
       "      <td>clear</td>\n",
       "      <td>0.22</td>\n",
       "      <td>0.2727</td>\n",
       "      <td>0.80</td>\n",
       "      <td>0.0</td>\n",
       "      <td>5</td>\n",
       "      <td>27</td>\n",
       "      <td>32</td>\n",
       "    </tr>\n",
       "    <tr>\n",
       "      <th>4</th>\n",
       "      <td>1</td>\n",
       "      <td>Jan</td>\n",
       "      <td>1</td>\n",
       "      <td>3</td>\n",
       "      <td>0</td>\n",
       "      <td>6</td>\n",
       "      <td>0</td>\n",
       "      <td>clear</td>\n",
       "      <td>0.24</td>\n",
       "      <td>0.2879</td>\n",
       "      <td>0.75</td>\n",
       "      <td>0.0</td>\n",
       "      <td>3</td>\n",
       "      <td>10</td>\n",
       "      <td>13</td>\n",
       "    </tr>\n",
       "    <tr>\n",
       "      <th>5</th>\n",
       "      <td>1</td>\n",
       "      <td>Jan</td>\n",
       "      <td>1</td>\n",
       "      <td>4</td>\n",
       "      <td>0</td>\n",
       "      <td>6</td>\n",
       "      <td>0</td>\n",
       "      <td>clear</td>\n",
       "      <td>0.24</td>\n",
       "      <td>0.2879</td>\n",
       "      <td>0.75</td>\n",
       "      <td>0.0</td>\n",
       "      <td>0</td>\n",
       "      <td>1</td>\n",
       "      <td>1</td>\n",
       "    </tr>\n",
       "  </tbody>\n",
       "</table>\n",
       "</div>"
      ],
      "text/plain": [
       "   season mnth  day  hr  holiday  weekday  workingday weathersit  temp  \\\n",
       "1       1  Jan    1   0        0        6           0      clear  0.24   \n",
       "2       1  Jan    1   1        0        6           0      clear  0.22   \n",
       "3       1  Jan    1   2        0        6           0      clear  0.22   \n",
       "4       1  Jan    1   3        0        6           0      clear  0.24   \n",
       "5       1  Jan    1   4        0        6           0      clear  0.24   \n",
       "\n",
       "    atemp   hum  windspeed  casual  registered  bikers  \n",
       "1  0.2879  0.81        0.0       3          13      16  \n",
       "2  0.2727  0.80        0.0       8          32      40  \n",
       "3  0.2727  0.80        0.0       5          27      32  \n",
       "4  0.2879  0.75        0.0       3          10      13  \n",
       "5  0.2879  0.75        0.0       0           1       1  "
      ]
     },
     "execution_count": 90,
     "metadata": {},
     "output_type": "execute_result"
    }
   ],
   "source": [
    "bikeshare.head()"
   ]
  },
  {
   "cell_type": "code",
   "execution_count": 91,
   "id": "e34dd3e1-7027-4a85-ba3d-c4c81867cd48",
   "metadata": {},
   "outputs": [
    {
     "data": {
      "text/plain": [
       "(8645, 15)"
      ]
     },
     "execution_count": 91,
     "metadata": {},
     "output_type": "execute_result"
    }
   ],
   "source": [
    "bikeshare.shape"
   ]
  },
  {
   "cell_type": "code",
   "execution_count": 92,
   "id": "9aac6a67-fa38-4006-8eb6-6506106bb42a",
   "metadata": {},
   "outputs": [
    {
     "data": {
      "text/plain": [
       "Index(['season', 'mnth', 'day', 'hr', 'holiday', 'weekday', 'workingday',\n",
       "       'weathersit', 'temp', 'atemp', 'hum', 'windspeed', 'casual',\n",
       "       'registered', 'bikers'],\n",
       "      dtype='object')"
      ]
     },
     "execution_count": 92,
     "metadata": {},
     "output_type": "execute_result"
    }
   ],
   "source": [
    "bikeshare.columns"
   ]
  },
  {
   "cell_type": "markdown",
   "id": "85ae3450-1966-40d0-a727-2995059ce8c7",
   "metadata": {},
   "source": [
    "### Linear Model"
   ]
  },
  {
   "cell_type": "code",
   "execution_count": 93,
   "id": "3fd011f7-2cc9-464e-8463-11c1a441f187",
   "metadata": {},
   "outputs": [],
   "source": [
    "X = bikeshare[['mnth', 'hr', 'workingday', 'temp', 'weathersit']]\n",
    "y = bikeshare['bikers']\n",
    "X = pd.get_dummies(X, columns=['mnth', 'weathersit', 'hr']).drop(['mnth_Jan', 'hr_0', 'weathersit_clear'], axis=1)\n",
    "X = sm.add_constant(X)"
   ]
  },
  {
   "cell_type": "code",
   "execution_count": 94,
   "id": "f94ccfbc-84e7-469f-bcc4-d40e98840a23",
   "metadata": {},
   "outputs": [],
   "source": [
    "linear_model1 = sm.OLS(y, X)\n",
    "linear_fit1 = linear_model1.fit()"
   ]
  },
  {
   "cell_type": "code",
   "execution_count": 95,
   "id": "802aa3d4-4e81-4b0b-b16c-d408217c0a97",
   "metadata": {},
   "outputs": [
    {
     "data": {
      "text/html": [
       "<table class=\"simpletable\">\n",
       "<caption>OLS Regression Results</caption>\n",
       "<tr>\n",
       "  <th>Dep. Variable:</th>         <td>bikers</td>      <th>  R-squared:         </th> <td>   0.675</td> \n",
       "</tr>\n",
       "<tr>\n",
       "  <th>Model:</th>                   <td>OLS</td>       <th>  Adj. R-squared:    </th> <td>   0.673</td> \n",
       "</tr>\n",
       "<tr>\n",
       "  <th>Method:</th>             <td>Least Squares</td>  <th>  F-statistic:       </th> <td>   457.3</td> \n",
       "</tr>\n",
       "<tr>\n",
       "  <th>Date:</th>             <td>Tue, 05 Jul 2022</td> <th>  Prob (F-statistic):</th>  <td>  0.00</td>  \n",
       "</tr>\n",
       "<tr>\n",
       "  <th>Time:</th>                 <td>23:33:59</td>     <th>  Log-Likelihood:    </th> <td> -49743.</td> \n",
       "</tr>\n",
       "<tr>\n",
       "  <th>No. Observations:</th>      <td>  8645</td>      <th>  AIC:               </th> <td>9.957e+04</td>\n",
       "</tr>\n",
       "<tr>\n",
       "  <th>Df Residuals:</th>          <td>  8605</td>      <th>  BIC:               </th> <td>9.985e+04</td>\n",
       "</tr>\n",
       "<tr>\n",
       "  <th>Df Model:</th>              <td>    39</td>      <th>                     </th>     <td> </td>    \n",
       "</tr>\n",
       "<tr>\n",
       "  <th>Covariance Type:</th>      <td>nonrobust</td>    <th>                     </th>     <td> </td>    \n",
       "</tr>\n",
       "</table>\n",
       "<table class=\"simpletable\">\n",
       "<tr>\n",
       "               <td></td>                 <th>coef</th>     <th>std err</th>      <th>t</th>      <th>P>|t|</th>  <th>[0.025</th>    <th>0.975]</th>  \n",
       "</tr>\n",
       "<tr>\n",
       "  <th>const</th>                      <td>  -68.6317</td> <td>    5.307</td> <td>  -12.932</td> <td> 0.000</td> <td>  -79.035</td> <td>  -58.229</td>\n",
       "</tr>\n",
       "<tr>\n",
       "  <th>workingday</th>                 <td>    1.2696</td> <td>    1.784</td> <td>    0.711</td> <td> 0.477</td> <td>   -2.228</td> <td>    4.768</td>\n",
       "</tr>\n",
       "<tr>\n",
       "  <th>temp</th>                       <td>  157.2094</td> <td>   10.261</td> <td>   15.321</td> <td> 0.000</td> <td>  137.095</td> <td>  177.324</td>\n",
       "</tr>\n",
       "<tr>\n",
       "  <th>mnth_April</th>                 <td>   41.4249</td> <td>    4.972</td> <td>    8.331</td> <td> 0.000</td> <td>   31.678</td> <td>   51.172</td>\n",
       "</tr>\n",
       "<tr>\n",
       "  <th>mnth_Aug</th>                   <td>   53.2430</td> <td>    6.640</td> <td>    8.019</td> <td> 0.000</td> <td>   40.227</td> <td>   66.259</td>\n",
       "</tr>\n",
       "<tr>\n",
       "  <th>mnth_Dec</th>                   <td>   46.4577</td> <td>    4.271</td> <td>   10.878</td> <td> 0.000</td> <td>   38.086</td> <td>   54.829</td>\n",
       "</tr>\n",
       "<tr>\n",
       "  <th>mnth_Feb</th>                   <td>    6.8452</td> <td>    4.287</td> <td>    1.597</td> <td> 0.110</td> <td>   -1.559</td> <td>   15.250</td>\n",
       "</tr>\n",
       "<tr>\n",
       "  <th>mnth_July</th>                  <td>   45.3245</td> <td>    7.081</td> <td>    6.401</td> <td> 0.000</td> <td>   31.444</td> <td>   59.205</td>\n",
       "</tr>\n",
       "<tr>\n",
       "  <th>mnth_June</th>                  <td>   67.8187</td> <td>    6.544</td> <td>   10.364</td> <td> 0.000</td> <td>   54.992</td> <td>   80.646</td>\n",
       "</tr>\n",
       "<tr>\n",
       "  <th>mnth_March</th>                 <td>   16.5514</td> <td>    4.301</td> <td>    3.848</td> <td> 0.000</td> <td>    8.120</td> <td>   24.983</td>\n",
       "</tr>\n",
       "<tr>\n",
       "  <th>mnth_May</th>                   <td>   72.5571</td> <td>    5.641</td> <td>   12.862</td> <td> 0.000</td> <td>   61.499</td> <td>   83.615</td>\n",
       "</tr>\n",
       "<tr>\n",
       "  <th>mnth_Nov</th>                   <td>   60.3100</td> <td>    4.610</td> <td>   13.083</td> <td> 0.000</td> <td>   51.273</td> <td>   69.347</td>\n",
       "</tr>\n",
       "<tr>\n",
       "  <th>mnth_Oct</th>                   <td>   75.8343</td> <td>    4.950</td> <td>   15.319</td> <td> 0.000</td> <td>   66.130</td> <td>   85.538</td>\n",
       "</tr>\n",
       "<tr>\n",
       "  <th>mnth_Sept</th>                  <td>   66.6783</td> <td>    5.925</td> <td>   11.254</td> <td> 0.000</td> <td>   55.064</td> <td>   78.293</td>\n",
       "</tr>\n",
       "<tr>\n",
       "  <th>weathersit_cloudy/misty</th>    <td>  -12.8903</td> <td>    1.964</td> <td>   -6.562</td> <td> 0.000</td> <td>  -16.741</td> <td>   -9.040</td>\n",
       "</tr>\n",
       "<tr>\n",
       "  <th>weathersit_heavy rain/snow</th> <td> -109.7446</td> <td>   76.667</td> <td>   -1.431</td> <td> 0.152</td> <td> -260.031</td> <td>   40.542</td>\n",
       "</tr>\n",
       "<tr>\n",
       "  <th>weathersit_light rain/snow</th> <td>  -66.4944</td> <td>    2.965</td> <td>  -22.425</td> <td> 0.000</td> <td>  -72.307</td> <td>  -60.682</td>\n",
       "</tr>\n",
       "<tr>\n",
       "  <th>hr_1</th>                       <td>  -14.5793</td> <td>    5.699</td> <td>   -2.558</td> <td> 0.011</td> <td>  -25.750</td> <td>   -3.408</td>\n",
       "</tr>\n",
       "<tr>\n",
       "  <th>hr_2</th>                       <td>  -21.5791</td> <td>    5.733</td> <td>   -3.764</td> <td> 0.000</td> <td>  -32.817</td> <td>  -10.341</td>\n",
       "</tr>\n",
       "<tr>\n",
       "  <th>hr_3</th>                       <td>  -31.1408</td> <td>    5.778</td> <td>   -5.389</td> <td> 0.000</td> <td>  -42.468</td> <td>  -19.814</td>\n",
       "</tr>\n",
       "<tr>\n",
       "  <th>hr_4</th>                       <td>  -36.9075</td> <td>    5.802</td> <td>   -6.361</td> <td> 0.000</td> <td>  -48.281</td> <td>  -25.534</td>\n",
       "</tr>\n",
       "<tr>\n",
       "  <th>hr_5</th>                       <td>  -24.1355</td> <td>    5.737</td> <td>   -4.207</td> <td> 0.000</td> <td>  -35.381</td> <td>  -12.890</td>\n",
       "</tr>\n",
       "<tr>\n",
       "  <th>hr_6</th>                       <td>   20.5997</td> <td>    5.704</td> <td>    3.612</td> <td> 0.000</td> <td>    9.419</td> <td>   31.781</td>\n",
       "</tr>\n",
       "<tr>\n",
       "  <th>hr_7</th>                       <td>  120.0931</td> <td>    5.693</td> <td>   21.095</td> <td> 0.000</td> <td>  108.934</td> <td>  131.253</td>\n",
       "</tr>\n",
       "<tr>\n",
       "  <th>hr_8</th>                       <td>  223.6619</td> <td>    5.690</td> <td>   39.310</td> <td> 0.000</td> <td>  212.509</td> <td>  234.815</td>\n",
       "</tr>\n",
       "<tr>\n",
       "  <th>hr_9</th>                       <td>  120.5819</td> <td>    5.693</td> <td>   21.182</td> <td> 0.000</td> <td>  109.423</td> <td>  131.741</td>\n",
       "</tr>\n",
       "<tr>\n",
       "  <th>hr_10</th>                      <td>   83.8013</td> <td>    5.705</td> <td>   14.689</td> <td> 0.000</td> <td>   72.618</td> <td>   94.985</td>\n",
       "</tr>\n",
       "<tr>\n",
       "  <th>hr_11</th>                      <td>  105.4234</td> <td>    5.722</td> <td>   18.424</td> <td> 0.000</td> <td>   94.207</td> <td>  116.640</td>\n",
       "</tr>\n",
       "<tr>\n",
       "  <th>hr_12</th>                      <td>  137.2837</td> <td>    5.740</td> <td>   23.916</td> <td> 0.000</td> <td>  126.032</td> <td>  148.536</td>\n",
       "</tr>\n",
       "<tr>\n",
       "  <th>hr_13</th>                      <td>  136.0359</td> <td>    5.760</td> <td>   23.617</td> <td> 0.000</td> <td>  124.745</td> <td>  147.327</td>\n",
       "</tr>\n",
       "<tr>\n",
       "  <th>hr_14</th>                      <td>  126.6361</td> <td>    5.776</td> <td>   21.923</td> <td> 0.000</td> <td>  115.313</td> <td>  137.959</td>\n",
       "</tr>\n",
       "<tr>\n",
       "  <th>hr_15</th>                      <td>  132.0865</td> <td>    5.780</td> <td>   22.852</td> <td> 0.000</td> <td>  120.756</td> <td>  143.417</td>\n",
       "</tr>\n",
       "<tr>\n",
       "  <th>hr_16</th>                      <td>  178.5206</td> <td>    5.772</td> <td>   30.927</td> <td> 0.000</td> <td>  167.206</td> <td>  189.836</td>\n",
       "</tr>\n",
       "<tr>\n",
       "  <th>hr_17</th>                      <td>  296.2670</td> <td>    5.749</td> <td>   51.537</td> <td> 0.000</td> <td>  284.998</td> <td>  307.536</td>\n",
       "</tr>\n",
       "<tr>\n",
       "  <th>hr_18</th>                      <td>  269.4409</td> <td>    5.736</td> <td>   46.976</td> <td> 0.000</td> <td>  258.198</td> <td>  280.684</td>\n",
       "</tr>\n",
       "<tr>\n",
       "  <th>hr_19</th>                      <td>  186.2558</td> <td>    5.714</td> <td>   32.596</td> <td> 0.000</td> <td>  175.055</td> <td>  197.457</td>\n",
       "</tr>\n",
       "<tr>\n",
       "  <th>hr_20</th>                      <td>  125.5492</td> <td>    5.704</td> <td>   22.012</td> <td> 0.000</td> <td>  114.369</td> <td>  136.730</td>\n",
       "</tr>\n",
       "<tr>\n",
       "  <th>hr_21</th>                      <td>   87.5537</td> <td>    5.693</td> <td>   15.378</td> <td> 0.000</td> <td>   76.393</td> <td>   98.714</td>\n",
       "</tr>\n",
       "<tr>\n",
       "  <th>hr_22</th>                      <td>   59.1226</td> <td>    5.689</td> <td>   10.392</td> <td> 0.000</td> <td>   47.970</td> <td>   70.275</td>\n",
       "</tr>\n",
       "<tr>\n",
       "  <th>hr_23</th>                      <td>   26.8376</td> <td>    5.688</td> <td>    4.719</td> <td> 0.000</td> <td>   15.688</td> <td>   37.987</td>\n",
       "</tr>\n",
       "</table>\n",
       "<table class=\"simpletable\">\n",
       "<tr>\n",
       "  <th>Omnibus:</th>       <td>288.526</td> <th>  Durbin-Watson:     </th> <td>   0.519</td> \n",
       "</tr>\n",
       "<tr>\n",
       "  <th>Prob(Omnibus):</th> <td> 0.000</td>  <th>  Jarque-Bera (JB):  </th> <td> 518.512</td> \n",
       "</tr>\n",
       "<tr>\n",
       "  <th>Skew:</th>          <td> 0.273</td>  <th>  Prob(JB):          </th> <td>2.55e-113</td>\n",
       "</tr>\n",
       "<tr>\n",
       "  <th>Kurtosis:</th>      <td> 4.068</td>  <th>  Cond. No.          </th> <td>    131.</td> \n",
       "</tr>\n",
       "</table><br/><br/>Notes:<br/>[1] Standard Errors assume that the covariance matrix of the errors is correctly specified."
      ],
      "text/plain": [
       "<class 'statsmodels.iolib.summary.Summary'>\n",
       "\"\"\"\n",
       "                            OLS Regression Results                            \n",
       "==============================================================================\n",
       "Dep. Variable:                 bikers   R-squared:                       0.675\n",
       "Model:                            OLS   Adj. R-squared:                  0.673\n",
       "Method:                 Least Squares   F-statistic:                     457.3\n",
       "Date:                Tue, 05 Jul 2022   Prob (F-statistic):               0.00\n",
       "Time:                        23:33:59   Log-Likelihood:                -49743.\n",
       "No. Observations:                8645   AIC:                         9.957e+04\n",
       "Df Residuals:                    8605   BIC:                         9.985e+04\n",
       "Df Model:                          39                                         \n",
       "Covariance Type:            nonrobust                                         \n",
       "==============================================================================================\n",
       "                                 coef    std err          t      P>|t|      [0.025      0.975]\n",
       "----------------------------------------------------------------------------------------------\n",
       "const                        -68.6317      5.307    -12.932      0.000     -79.035     -58.229\n",
       "workingday                     1.2696      1.784      0.711      0.477      -2.228       4.768\n",
       "temp                         157.2094     10.261     15.321      0.000     137.095     177.324\n",
       "mnth_April                    41.4249      4.972      8.331      0.000      31.678      51.172\n",
       "mnth_Aug                      53.2430      6.640      8.019      0.000      40.227      66.259\n",
       "mnth_Dec                      46.4577      4.271     10.878      0.000      38.086      54.829\n",
       "mnth_Feb                       6.8452      4.287      1.597      0.110      -1.559      15.250\n",
       "mnth_July                     45.3245      7.081      6.401      0.000      31.444      59.205\n",
       "mnth_June                     67.8187      6.544     10.364      0.000      54.992      80.646\n",
       "mnth_March                    16.5514      4.301      3.848      0.000       8.120      24.983\n",
       "mnth_May                      72.5571      5.641     12.862      0.000      61.499      83.615\n",
       "mnth_Nov                      60.3100      4.610     13.083      0.000      51.273      69.347\n",
       "mnth_Oct                      75.8343      4.950     15.319      0.000      66.130      85.538\n",
       "mnth_Sept                     66.6783      5.925     11.254      0.000      55.064      78.293\n",
       "weathersit_cloudy/misty      -12.8903      1.964     -6.562      0.000     -16.741      -9.040\n",
       "weathersit_heavy rain/snow  -109.7446     76.667     -1.431      0.152    -260.031      40.542\n",
       "weathersit_light rain/snow   -66.4944      2.965    -22.425      0.000     -72.307     -60.682\n",
       "hr_1                         -14.5793      5.699     -2.558      0.011     -25.750      -3.408\n",
       "hr_2                         -21.5791      5.733     -3.764      0.000     -32.817     -10.341\n",
       "hr_3                         -31.1408      5.778     -5.389      0.000     -42.468     -19.814\n",
       "hr_4                         -36.9075      5.802     -6.361      0.000     -48.281     -25.534\n",
       "hr_5                         -24.1355      5.737     -4.207      0.000     -35.381     -12.890\n",
       "hr_6                          20.5997      5.704      3.612      0.000       9.419      31.781\n",
       "hr_7                         120.0931      5.693     21.095      0.000     108.934     131.253\n",
       "hr_8                         223.6619      5.690     39.310      0.000     212.509     234.815\n",
       "hr_9                         120.5819      5.693     21.182      0.000     109.423     131.741\n",
       "hr_10                         83.8013      5.705     14.689      0.000      72.618      94.985\n",
       "hr_11                        105.4234      5.722     18.424      0.000      94.207     116.640\n",
       "hr_12                        137.2837      5.740     23.916      0.000     126.032     148.536\n",
       "hr_13                        136.0359      5.760     23.617      0.000     124.745     147.327\n",
       "hr_14                        126.6361      5.776     21.923      0.000     115.313     137.959\n",
       "hr_15                        132.0865      5.780     22.852      0.000     120.756     143.417\n",
       "hr_16                        178.5206      5.772     30.927      0.000     167.206     189.836\n",
       "hr_17                        296.2670      5.749     51.537      0.000     284.998     307.536\n",
       "hr_18                        269.4409      5.736     46.976      0.000     258.198     280.684\n",
       "hr_19                        186.2558      5.714     32.596      0.000     175.055     197.457\n",
       "hr_20                        125.5492      5.704     22.012      0.000     114.369     136.730\n",
       "hr_21                         87.5537      5.693     15.378      0.000      76.393      98.714\n",
       "hr_22                         59.1226      5.689     10.392      0.000      47.970      70.275\n",
       "hr_23                         26.8376      5.688      4.719      0.000      15.688      37.987\n",
       "==============================================================================\n",
       "Omnibus:                      288.526   Durbin-Watson:                   0.519\n",
       "Prob(Omnibus):                  0.000   Jarque-Bera (JB):              518.512\n",
       "Skew:                           0.273   Prob(JB):                    2.55e-113\n",
       "Kurtosis:                       4.068   Cond. No.                         131.\n",
       "==============================================================================\n",
       "\n",
       "Notes:\n",
       "[1] Standard Errors assume that the covariance matrix of the errors is correctly specified.\n",
       "\"\"\""
      ]
     },
     "execution_count": 95,
     "metadata": {},
     "output_type": "execute_result"
    }
   ],
   "source": [
    "linear_fit1.summary()"
   ]
  },
  {
   "cell_type": "code",
   "execution_count": 110,
   "id": "b495e8e8-1916-4b21-93e5-8481286c9110",
   "metadata": {},
   "outputs": [],
   "source": [
    "bikeshare_copy = bikeshare.copy()\n",
    "\n",
    "month_map = {month:i for (i, month) in enumerate(bikeshare_copy['mnth'].unique(), start=1)}\n",
    "\n",
    "bikeshare_copy['mnth'].replace(month_map, inplace=True)\n",
    "bikeshare_copy['hr'] = bikeshare_copy['hr'] + 1"
   ]
  },
  {
   "cell_type": "code",
   "execution_count": 111,
   "id": "6e77e524-48e3-4b1b-bd5e-2a0a7faf8b9a",
   "metadata": {},
   "outputs": [],
   "source": [
    "linear_model2 = smf.ols(formula = 'bikers ~ C(mnth, Sum) + C(hr, Sum) + workingday + temp + C(weathersit, Treatment)', data=bikeshare_copy)\n",
    "\n",
    "linear_fit2 = linear_model2.fit()"
   ]
  },
  {
   "cell_type": "code",
   "execution_count": 112,
   "id": "f3a282e0-e7a6-4ec2-aaea-7287fff1ae5a",
   "metadata": {},
   "outputs": [
    {
     "data": {
      "text/html": [
       "<table class=\"simpletable\">\n",
       "<caption>OLS Regression Results</caption>\n",
       "<tr>\n",
       "  <th>Dep. Variable:</th>         <td>bikers</td>      <th>  R-squared:         </th> <td>   0.675</td> \n",
       "</tr>\n",
       "<tr>\n",
       "  <th>Model:</th>                   <td>OLS</td>       <th>  Adj. R-squared:    </th> <td>   0.673</td> \n",
       "</tr>\n",
       "<tr>\n",
       "  <th>Method:</th>             <td>Least Squares</td>  <th>  F-statistic:       </th> <td>   457.3</td> \n",
       "</tr>\n",
       "<tr>\n",
       "  <th>Date:</th>             <td>Tue, 05 Jul 2022</td> <th>  Prob (F-statistic):</th>  <td>  0.00</td>  \n",
       "</tr>\n",
       "<tr>\n",
       "  <th>Time:</th>                 <td>23:44:05</td>     <th>  Log-Likelihood:    </th> <td> -49743.</td> \n",
       "</tr>\n",
       "<tr>\n",
       "  <th>No. Observations:</th>      <td>  8645</td>      <th>  AIC:               </th> <td>9.957e+04</td>\n",
       "</tr>\n",
       "<tr>\n",
       "  <th>Df Residuals:</th>          <td>  8605</td>      <th>  BIC:               </th> <td>9.985e+04</td>\n",
       "</tr>\n",
       "<tr>\n",
       "  <th>Df Model:</th>              <td>    39</td>      <th>                     </th>     <td> </td>    \n",
       "</tr>\n",
       "<tr>\n",
       "  <th>Covariance Type:</th>      <td>nonrobust</td>    <th>                     </th>     <td> </td>    \n",
       "</tr>\n",
       "</table>\n",
       "<table class=\"simpletable\">\n",
       "<tr>\n",
       "                       <td></td>                          <th>coef</th>     <th>std err</th>      <th>t</th>      <th>P>|t|</th>  <th>[0.025</th>    <th>0.975]</th>  \n",
       "</tr>\n",
       "<tr>\n",
       "  <th>Intercept</th>                                   <td>   73.5974</td> <td>    5.132</td> <td>   14.340</td> <td> 0.000</td> <td>   63.537</td> <td>   83.658</td>\n",
       "</tr>\n",
       "<tr>\n",
       "  <th>C(mnth, Sum)[S.1]</th>                           <td>  -46.0871</td> <td>    4.085</td> <td>  -11.281</td> <td> 0.000</td> <td>  -54.096</td> <td>  -38.079</td>\n",
       "</tr>\n",
       "<tr>\n",
       "  <th>C(mnth, Sum)[S.2]</th>                           <td>  -39.2419</td> <td>    3.539</td> <td>  -11.088</td> <td> 0.000</td> <td>  -46.179</td> <td>  -32.304</td>\n",
       "</tr>\n",
       "<tr>\n",
       "  <th>C(mnth, Sum)[S.3]</th>                           <td>  -29.5357</td> <td>    3.155</td> <td>   -9.361</td> <td> 0.000</td> <td>  -35.721</td> <td>  -23.351</td>\n",
       "</tr>\n",
       "<tr>\n",
       "  <th>C(mnth, Sum)[S.4]</th>                           <td>   -4.6622</td> <td>    2.741</td> <td>   -1.701</td> <td> 0.089</td> <td>  -10.034</td> <td>    0.710</td>\n",
       "</tr>\n",
       "<tr>\n",
       "  <th>C(mnth, Sum)[S.5]</th>                           <td>   26.4700</td> <td>    2.851</td> <td>    9.285</td> <td> 0.000</td> <td>   20.882</td> <td>   32.058</td>\n",
       "</tr>\n",
       "<tr>\n",
       "  <th>C(mnth, Sum)[S.6]</th>                           <td>   21.7317</td> <td>    3.465</td> <td>    6.272</td> <td> 0.000</td> <td>   14.939</td> <td>   28.524</td>\n",
       "</tr>\n",
       "<tr>\n",
       "  <th>C(mnth, Sum)[S.7]</th>                           <td>   -0.7626</td> <td>    3.908</td> <td>   -0.195</td> <td> 0.845</td> <td>   -8.424</td> <td>    6.899</td>\n",
       "</tr>\n",
       "<tr>\n",
       "  <th>C(mnth, Sum)[S.8]</th>                           <td>    7.1560</td> <td>    3.535</td> <td>    2.024</td> <td> 0.043</td> <td>    0.227</td> <td>   14.085</td>\n",
       "</tr>\n",
       "<tr>\n",
       "  <th>C(mnth, Sum)[S.9]</th>                           <td>   20.5912</td> <td>    3.046</td> <td>    6.761</td> <td> 0.000</td> <td>   14.621</td> <td>   26.561</td>\n",
       "</tr>\n",
       "<tr>\n",
       "  <th>C(mnth, Sum)[S.10]</th>                          <td>   29.7472</td> <td>    2.700</td> <td>   11.019</td> <td> 0.000</td> <td>   24.455</td> <td>   35.039</td>\n",
       "</tr>\n",
       "<tr>\n",
       "  <th>C(mnth, Sum)[S.11]</th>                          <td>   14.2229</td> <td>    2.860</td> <td>    4.972</td> <td> 0.000</td> <td>    8.616</td> <td>   19.830</td>\n",
       "</tr>\n",
       "<tr>\n",
       "  <th>C(hr, Sum)[S.1]</th>                             <td>  -96.1420</td> <td>    3.955</td> <td>  -24.307</td> <td> 0.000</td> <td> -103.895</td> <td>  -88.389</td>\n",
       "</tr>\n",
       "<tr>\n",
       "  <th>C(hr, Sum)[S.2]</th>                             <td> -110.7213</td> <td>    3.966</td> <td>  -27.916</td> <td> 0.000</td> <td> -118.496</td> <td> -102.947</td>\n",
       "</tr>\n",
       "<tr>\n",
       "  <th>C(hr, Sum)[S.3]</th>                             <td> -117.7212</td> <td>    4.016</td> <td>  -29.310</td> <td> 0.000</td> <td> -125.594</td> <td> -109.848</td>\n",
       "</tr>\n",
       "<tr>\n",
       "  <th>C(hr, Sum)[S.4]</th>                             <td> -127.2828</td> <td>    4.081</td> <td>  -31.191</td> <td> 0.000</td> <td> -135.282</td> <td> -119.283</td>\n",
       "</tr>\n",
       "<tr>\n",
       "  <th>C(hr, Sum)[S.5]</th>                             <td> -133.0495</td> <td>    4.117</td> <td>  -32.319</td> <td> 0.000</td> <td> -141.119</td> <td> -124.980</td>\n",
       "</tr>\n",
       "<tr>\n",
       "  <th>C(hr, Sum)[S.6]</th>                             <td> -120.2775</td> <td>    4.037</td> <td>  -29.794</td> <td> 0.000</td> <td> -128.191</td> <td> -112.364</td>\n",
       "</tr>\n",
       "<tr>\n",
       "  <th>C(hr, Sum)[S.7]</th>                             <td>  -75.5424</td> <td>    3.992</td> <td>  -18.925</td> <td> 0.000</td> <td>  -83.367</td> <td>  -67.718</td>\n",
       "</tr>\n",
       "<tr>\n",
       "  <th>C(hr, Sum)[S.8]</th>                             <td>   23.9511</td> <td>    3.969</td> <td>    6.035</td> <td> 0.000</td> <td>   16.172</td> <td>   31.730</td>\n",
       "</tr>\n",
       "<tr>\n",
       "  <th>C(hr, Sum)[S.9]</th>                             <td>  127.5199</td> <td>    3.950</td> <td>   32.284</td> <td> 0.000</td> <td>  119.777</td> <td>  135.263</td>\n",
       "</tr>\n",
       "<tr>\n",
       "  <th>C(hr, Sum)[S.10]</th>                            <td>   24.4399</td> <td>    3.936</td> <td>    6.209</td> <td> 0.000</td> <td>   16.724</td> <td>   32.155</td>\n",
       "</tr>\n",
       "<tr>\n",
       "  <th>C(hr, Sum)[S.11]</th>                            <td>  -12.3407</td> <td>    3.936</td> <td>   -3.135</td> <td> 0.002</td> <td>  -20.056</td> <td>   -4.625</td>\n",
       "</tr>\n",
       "<tr>\n",
       "  <th>C(hr, Sum)[S.12]</th>                            <td>    9.2814</td> <td>    3.945</td> <td>    2.353</td> <td> 0.019</td> <td>    1.549</td> <td>   17.014</td>\n",
       "</tr>\n",
       "<tr>\n",
       "  <th>C(hr, Sum)[S.13]</th>                            <td>   41.1417</td> <td>    3.957</td> <td>   10.397</td> <td> 0.000</td> <td>   33.385</td> <td>   48.899</td>\n",
       "</tr>\n",
       "<tr>\n",
       "  <th>C(hr, Sum)[S.14]</th>                            <td>   39.8939</td> <td>    3.975</td> <td>   10.036</td> <td> 0.000</td> <td>   32.102</td> <td>   47.686</td>\n",
       "</tr>\n",
       "<tr>\n",
       "  <th>C(hr, Sum)[S.15]</th>                            <td>   30.4940</td> <td>    3.991</td> <td>    7.641</td> <td> 0.000</td> <td>   22.671</td> <td>   38.317</td>\n",
       "</tr>\n",
       "<tr>\n",
       "  <th>C(hr, Sum)[S.16]</th>                            <td>   35.9445</td> <td>    3.995</td> <td>    8.998</td> <td> 0.000</td> <td>   28.114</td> <td>   43.775</td>\n",
       "</tr>\n",
       "<tr>\n",
       "  <th>C(hr, Sum)[S.17]</th>                            <td>   82.3786</td> <td>    3.988</td> <td>   20.655</td> <td> 0.000</td> <td>   74.561</td> <td>   90.197</td>\n",
       "</tr>\n",
       "<tr>\n",
       "  <th>C(hr, Sum)[S.18]</th>                            <td>  200.1249</td> <td>    3.964</td> <td>   50.488</td> <td> 0.000</td> <td>  192.355</td> <td>  207.895</td>\n",
       "</tr>\n",
       "<tr>\n",
       "  <th>C(hr, Sum)[S.19]</th>                            <td>  173.2989</td> <td>    3.956</td> <td>   43.806</td> <td> 0.000</td> <td>  165.544</td> <td>  181.054</td>\n",
       "</tr>\n",
       "<tr>\n",
       "  <th>C(hr, Sum)[S.20]</th>                            <td>   90.1138</td> <td>    3.940</td> <td>   22.872</td> <td> 0.000</td> <td>   82.390</td> <td>   97.837</td>\n",
       "</tr>\n",
       "<tr>\n",
       "  <th>C(hr, Sum)[S.21]</th>                            <td>   29.4071</td> <td>    3.936</td> <td>    7.471</td> <td> 0.000</td> <td>   21.691</td> <td>   37.123</td>\n",
       "</tr>\n",
       "<tr>\n",
       "  <th>C(hr, Sum)[S.22]</th>                            <td>   -8.5883</td> <td>    3.933</td> <td>   -2.184</td> <td> 0.029</td> <td>  -16.298</td> <td>   -0.878</td>\n",
       "</tr>\n",
       "<tr>\n",
       "  <th>C(hr, Sum)[S.23]</th>                            <td>  -37.0194</td> <td>    3.934</td> <td>   -9.409</td> <td> 0.000</td> <td>  -44.732</td> <td>  -29.307</td>\n",
       "</tr>\n",
       "<tr>\n",
       "  <th>C(weathersit, Treatment)[T.cloudy/misty]</th>    <td>  -12.8903</td> <td>    1.964</td> <td>   -6.562</td> <td> 0.000</td> <td>  -16.741</td> <td>   -9.040</td>\n",
       "</tr>\n",
       "<tr>\n",
       "  <th>C(weathersit, Treatment)[T.heavy rain/snow]</th> <td> -109.7446</td> <td>   76.667</td> <td>   -1.431</td> <td> 0.152</td> <td> -260.031</td> <td>   40.542</td>\n",
       "</tr>\n",
       "<tr>\n",
       "  <th>C(weathersit, Treatment)[T.light rain/snow]</th> <td>  -66.4944</td> <td>    2.965</td> <td>  -22.425</td> <td> 0.000</td> <td>  -72.307</td> <td>  -60.682</td>\n",
       "</tr>\n",
       "<tr>\n",
       "  <th>workingday</th>                                  <td>    1.2696</td> <td>    1.784</td> <td>    0.711</td> <td> 0.477</td> <td>   -2.228</td> <td>    4.768</td>\n",
       "</tr>\n",
       "<tr>\n",
       "  <th>temp</th>                                        <td>  157.2094</td> <td>   10.261</td> <td>   15.321</td> <td> 0.000</td> <td>  137.095</td> <td>  177.324</td>\n",
       "</tr>\n",
       "</table>\n",
       "<table class=\"simpletable\">\n",
       "<tr>\n",
       "  <th>Omnibus:</th>       <td>288.526</td> <th>  Durbin-Watson:     </th> <td>   0.519</td> \n",
       "</tr>\n",
       "<tr>\n",
       "  <th>Prob(Omnibus):</th> <td> 0.000</td>  <th>  Jarque-Bera (JB):  </th> <td> 518.512</td> \n",
       "</tr>\n",
       "<tr>\n",
       "  <th>Skew:</th>          <td> 0.273</td>  <th>  Prob(JB):          </th> <td>2.55e-113</td>\n",
       "</tr>\n",
       "<tr>\n",
       "  <th>Kurtosis:</th>      <td> 4.068</td>  <th>  Cond. No.          </th> <td>    127.</td> \n",
       "</tr>\n",
       "</table><br/><br/>Notes:<br/>[1] Standard Errors assume that the covariance matrix of the errors is correctly specified."
      ],
      "text/plain": [
       "<class 'statsmodels.iolib.summary.Summary'>\n",
       "\"\"\"\n",
       "                            OLS Regression Results                            \n",
       "==============================================================================\n",
       "Dep. Variable:                 bikers   R-squared:                       0.675\n",
       "Model:                            OLS   Adj. R-squared:                  0.673\n",
       "Method:                 Least Squares   F-statistic:                     457.3\n",
       "Date:                Tue, 05 Jul 2022   Prob (F-statistic):               0.00\n",
       "Time:                        23:44:05   Log-Likelihood:                -49743.\n",
       "No. Observations:                8645   AIC:                         9.957e+04\n",
       "Df Residuals:                    8605   BIC:                         9.985e+04\n",
       "Df Model:                          39                                         \n",
       "Covariance Type:            nonrobust                                         \n",
       "===============================================================================================================\n",
       "                                                  coef    std err          t      P>|t|      [0.025      0.975]\n",
       "---------------------------------------------------------------------------------------------------------------\n",
       "Intercept                                      73.5974      5.132     14.340      0.000      63.537      83.658\n",
       "C(mnth, Sum)[S.1]                             -46.0871      4.085    -11.281      0.000     -54.096     -38.079\n",
       "C(mnth, Sum)[S.2]                             -39.2419      3.539    -11.088      0.000     -46.179     -32.304\n",
       "C(mnth, Sum)[S.3]                             -29.5357      3.155     -9.361      0.000     -35.721     -23.351\n",
       "C(mnth, Sum)[S.4]                              -4.6622      2.741     -1.701      0.089     -10.034       0.710\n",
       "C(mnth, Sum)[S.5]                              26.4700      2.851      9.285      0.000      20.882      32.058\n",
       "C(mnth, Sum)[S.6]                              21.7317      3.465      6.272      0.000      14.939      28.524\n",
       "C(mnth, Sum)[S.7]                              -0.7626      3.908     -0.195      0.845      -8.424       6.899\n",
       "C(mnth, Sum)[S.8]                               7.1560      3.535      2.024      0.043       0.227      14.085\n",
       "C(mnth, Sum)[S.9]                              20.5912      3.046      6.761      0.000      14.621      26.561\n",
       "C(mnth, Sum)[S.10]                             29.7472      2.700     11.019      0.000      24.455      35.039\n",
       "C(mnth, Sum)[S.11]                             14.2229      2.860      4.972      0.000       8.616      19.830\n",
       "C(hr, Sum)[S.1]                               -96.1420      3.955    -24.307      0.000    -103.895     -88.389\n",
       "C(hr, Sum)[S.2]                              -110.7213      3.966    -27.916      0.000    -118.496    -102.947\n",
       "C(hr, Sum)[S.3]                              -117.7212      4.016    -29.310      0.000    -125.594    -109.848\n",
       "C(hr, Sum)[S.4]                              -127.2828      4.081    -31.191      0.000    -135.282    -119.283\n",
       "C(hr, Sum)[S.5]                              -133.0495      4.117    -32.319      0.000    -141.119    -124.980\n",
       "C(hr, Sum)[S.6]                              -120.2775      4.037    -29.794      0.000    -128.191    -112.364\n",
       "C(hr, Sum)[S.7]                               -75.5424      3.992    -18.925      0.000     -83.367     -67.718\n",
       "C(hr, Sum)[S.8]                                23.9511      3.969      6.035      0.000      16.172      31.730\n",
       "C(hr, Sum)[S.9]                               127.5199      3.950     32.284      0.000     119.777     135.263\n",
       "C(hr, Sum)[S.10]                               24.4399      3.936      6.209      0.000      16.724      32.155\n",
       "C(hr, Sum)[S.11]                              -12.3407      3.936     -3.135      0.002     -20.056      -4.625\n",
       "C(hr, Sum)[S.12]                                9.2814      3.945      2.353      0.019       1.549      17.014\n",
       "C(hr, Sum)[S.13]                               41.1417      3.957     10.397      0.000      33.385      48.899\n",
       "C(hr, Sum)[S.14]                               39.8939      3.975     10.036      0.000      32.102      47.686\n",
       "C(hr, Sum)[S.15]                               30.4940      3.991      7.641      0.000      22.671      38.317\n",
       "C(hr, Sum)[S.16]                               35.9445      3.995      8.998      0.000      28.114      43.775\n",
       "C(hr, Sum)[S.17]                               82.3786      3.988     20.655      0.000      74.561      90.197\n",
       "C(hr, Sum)[S.18]                              200.1249      3.964     50.488      0.000     192.355     207.895\n",
       "C(hr, Sum)[S.19]                              173.2989      3.956     43.806      0.000     165.544     181.054\n",
       "C(hr, Sum)[S.20]                               90.1138      3.940     22.872      0.000      82.390      97.837\n",
       "C(hr, Sum)[S.21]                               29.4071      3.936      7.471      0.000      21.691      37.123\n",
       "C(hr, Sum)[S.22]                               -8.5883      3.933     -2.184      0.029     -16.298      -0.878\n",
       "C(hr, Sum)[S.23]                              -37.0194      3.934     -9.409      0.000     -44.732     -29.307\n",
       "C(weathersit, Treatment)[T.cloudy/misty]      -12.8903      1.964     -6.562      0.000     -16.741      -9.040\n",
       "C(weathersit, Treatment)[T.heavy rain/snow]  -109.7446     76.667     -1.431      0.152    -260.031      40.542\n",
       "C(weathersit, Treatment)[T.light rain/snow]   -66.4944      2.965    -22.425      0.000     -72.307     -60.682\n",
       "workingday                                      1.2696      1.784      0.711      0.477      -2.228       4.768\n",
       "temp                                          157.2094     10.261     15.321      0.000     137.095     177.324\n",
       "==============================================================================\n",
       "Omnibus:                      288.526   Durbin-Watson:                   0.519\n",
       "Prob(Omnibus):                  0.000   Jarque-Bera (JB):              518.512\n",
       "Skew:                           0.273   Prob(JB):                    2.55e-113\n",
       "Kurtosis:                       4.068   Cond. No.                         127.\n",
       "==============================================================================\n",
       "\n",
       "Notes:\n",
       "[1] Standard Errors assume that the covariance matrix of the errors is correctly specified.\n",
       "\"\"\""
      ]
     },
     "execution_count": 112,
     "metadata": {},
     "output_type": "execute_result"
    }
   ],
   "source": [
    "linear_fit2.summary()"
   ]
  },
  {
   "cell_type": "code",
   "execution_count": 113,
   "id": "07d2245c-5311-4967-87ea-ee012a139290",
   "metadata": {},
   "outputs": [
    {
     "data": {
      "text/plain": [
       "1.2810914258985223e-20"
      ]
     },
     "execution_count": 113,
     "metadata": {},
     "output_type": "execute_result"
    }
   ],
   "source": [
    "sum((linear_fit1.predict(X) - linear_fit2.predict())**2)"
   ]
  },
  {
   "cell_type": "code",
   "execution_count": 114,
   "id": "7c1401a7-6729-4078-8a76-8096c27d0ac8",
   "metadata": {},
   "outputs": [],
   "source": [
    "jan_to_nov_coef = linear_fit2.params[1:12]\n",
    "dec_coef = -sum(jan_to_nov_coef)\n",
    "jan_to_dec_coef = pd.concat([jan_to_nov_coef, pd.Series(dec_coef, index=[\"C(mnth, Sum)[S.12]\"])])\n",
    "\n",
    "jan_to_dec_coef.index = np.arange(1,13)"
   ]
  },
  {
   "cell_type": "code",
   "execution_count": 115,
   "id": "86eda380-cb40-4116-8155-cfd499eac799",
   "metadata": {},
   "outputs": [],
   "source": [
    "first_23_hour_coef = linear_fit2.params[12:13+22]\n",
    "last_hour_coef = -sum(first_23_hour_coef)\n",
    "all_hour_coef = pd.concat([first_23_hour_coef, pd.Series(last_hour_coef, index=[\"C(hr, Sum)[S.23]\"])])\n",
    "\n",
    "all_hour_coef.index = np.arange(1,25)"
   ]
  },
  {
   "cell_type": "code",
   "execution_count": 116,
   "id": "6be767c6-bf39-43a5-971a-7253f62a90d6",
   "metadata": {},
   "outputs": [
    {
     "data": {
      "image/png": "[encoded data removed]",
      "text/plain": [
       "<Figure size 864x360 with 2 Axes>"
      ]
     },
     "metadata": {
      "needs_background": "light"
     },
     "output_type": "display_data"
    }
   ],
   "source": [
    "fig, ax = plt.subplots(1, 2, figsize=(12,5))\n",
    "\n",
    "ax[0].plot(jan_to_dec_coef, marker='o', color='b')\n",
    "ax[0].set_xlabel('Month')\n",
    "ax[0].set_ylabel('Coefficient')\n",
    "ax[0].set_xticks(ticks=np.arange(1,13), labels=['J', 'F', 'M', 'A', 'M', 'J', 'J', 'A', 'S', 'O', 'N', 'D'])\n",
    "\n",
    "ax[1].plot(all_hour_coef, marker='o', color='b')\n",
    "ax[1].set_xlabel('Hour')\n",
    "ax[1].set_ylabel('Coefficient')\n",
    "ax[1].set_xticks(ticks=np.arange(5,24,5));"
   ]
  },
  {
   "cell_type": "markdown",
   "id": "e25048ec-8c2f-483d-89e2-e9101b80b8e2",
   "metadata": {},
   "source": [
    "### Poisson"
   ]
  },
  {
   "cell_type": "code",
   "execution_count": 117,
   "id": "98bacee5-0f24-4b13-b9a2-dd30f3495f60",
   "metadata": {},
   "outputs": [],
   "source": [
    "poison_model = smf.glm(formula = \"bikers ~ C(mnth, Sum) + C(hr, Sum) + workingday + temp + C(weathersit, Treatment)\", data=bikeshare_copy, family=sm.families.Poisson())\n",
    "poisson_fit = poison_model.fit()"
   ]
  },
  {
   "cell_type": "code",
   "execution_count": 118,
   "id": "591872bd-4618-49f6-9818-756c3997b8b7",
   "metadata": {},
   "outputs": [
    {
     "data": {
      "text/html": [
       "<table class=\"simpletable\">\n",
       "<caption>Generalized Linear Model Regression Results</caption>\n",
       "<tr>\n",
       "  <th>Dep. Variable:</th>        <td>bikers</td>      <th>  No. Observations:  </th>   <td>  8645</td>   \n",
       "</tr>\n",
       "<tr>\n",
       "  <th>Model:</th>                  <td>GLM</td>       <th>  Df Residuals:      </th>   <td>  8605</td>   \n",
       "</tr>\n",
       "<tr>\n",
       "  <th>Model Family:</th>         <td>Poisson</td>     <th>  Df Model:          </th>   <td>    39</td>   \n",
       "</tr>\n",
       "<tr>\n",
       "  <th>Link Function:</th>          <td>Log</td>       <th>  Scale:             </th>  <td>  1.0000</td>  \n",
       "</tr>\n",
       "<tr>\n",
       "  <th>Method:</th>                <td>IRLS</td>       <th>  Log-Likelihood:    </th> <td>-1.4054e+05</td>\n",
       "</tr>\n",
       "<tr>\n",
       "  <th>Date:</th>            <td>Tue, 05 Jul 2022</td> <th>  Deviance:          </th> <td>2.2804e+05</td> \n",
       "</tr>\n",
       "<tr>\n",
       "  <th>Time:</th>                <td>23:44:19</td>     <th>  Pearson chi2:      </th>  <td>2.20e+05</td>  \n",
       "</tr>\n",
       "<tr>\n",
       "  <th>No. Iterations:</th>          <td>7</td>        <th>  Pseudo R-squ. (CS):</th>   <td> 1.000</td>   \n",
       "</tr>\n",
       "<tr>\n",
       "  <th>Covariance Type:</th>     <td>nonrobust</td>    <th>                     </th>      <td> </td>     \n",
       "</tr>\n",
       "</table>\n",
       "<table class=\"simpletable\">\n",
       "<tr>\n",
       "                       <td></td>                          <th>coef</th>     <th>std err</th>      <th>z</th>      <th>P>|z|</th>  <th>[0.025</th>    <th>0.975]</th>  \n",
       "</tr>\n",
       "<tr>\n",
       "  <th>Intercept</th>                                   <td>    4.1182</td> <td>    0.006</td> <td>  683.963</td> <td> 0.000</td> <td>    4.106</td> <td>    4.130</td>\n",
       "</tr>\n",
       "<tr>\n",
       "  <th>C(mnth, Sum)[S.1]</th>                           <td>   -0.6702</td> <td>    0.006</td> <td> -113.445</td> <td> 0.000</td> <td>   -0.682</td> <td>   -0.659</td>\n",
       "</tr>\n",
       "<tr>\n",
       "  <th>C(mnth, Sum)[S.2]</th>                           <td>   -0.4441</td> <td>    0.005</td> <td>  -91.379</td> <td> 0.000</td> <td>   -0.454</td> <td>   -0.435</td>\n",
       "</tr>\n",
       "<tr>\n",
       "  <th>C(mnth, Sum)[S.3]</th>                           <td>   -0.2937</td> <td>    0.004</td> <td>  -70.886</td> <td> 0.000</td> <td>   -0.302</td> <td>   -0.286</td>\n",
       "</tr>\n",
       "<tr>\n",
       "  <th>C(mnth, Sum)[S.4]</th>                           <td>    0.0215</td> <td>    0.003</td> <td>    6.888</td> <td> 0.000</td> <td>    0.015</td> <td>    0.028</td>\n",
       "</tr>\n",
       "<tr>\n",
       "  <th>C(mnth, Sum)[S.5]</th>                           <td>    0.2405</td> <td>    0.003</td> <td>   82.462</td> <td> 0.000</td> <td>    0.235</td> <td>    0.246</td>\n",
       "</tr>\n",
       "<tr>\n",
       "  <th>C(mnth, Sum)[S.6]</th>                           <td>    0.2232</td> <td>    0.004</td> <td>   62.818</td> <td> 0.000</td> <td>    0.216</td> <td>    0.230</td>\n",
       "</tr>\n",
       "<tr>\n",
       "  <th>C(mnth, Sum)[S.7]</th>                           <td>    0.1036</td> <td>    0.004</td> <td>   25.121</td> <td> 0.000</td> <td>    0.096</td> <td>    0.112</td>\n",
       "</tr>\n",
       "<tr>\n",
       "  <th>C(mnth, Sum)[S.8]</th>                           <td>    0.1512</td> <td>    0.004</td> <td>   41.281</td> <td> 0.000</td> <td>    0.144</td> <td>    0.158</td>\n",
       "</tr>\n",
       "<tr>\n",
       "  <th>C(mnth, Sum)[S.9]</th>                           <td>    0.2335</td> <td>    0.003</td> <td>   75.281</td> <td> 0.000</td> <td>    0.227</td> <td>    0.240</td>\n",
       "</tr>\n",
       "<tr>\n",
       "  <th>C(mnth, Sum)[S.10]</th>                          <td>    0.2676</td> <td>    0.003</td> <td>   96.091</td> <td> 0.000</td> <td>    0.262</td> <td>    0.273</td>\n",
       "</tr>\n",
       "<tr>\n",
       "  <th>C(mnth, Sum)[S.11]</th>                          <td>    0.1503</td> <td>    0.003</td> <td>   47.248</td> <td> 0.000</td> <td>    0.144</td> <td>    0.156</td>\n",
       "</tr>\n",
       "<tr>\n",
       "  <th>C(hr, Sum)[S.1]</th>                             <td>   -0.7544</td> <td>    0.008</td> <td>  -95.744</td> <td> 0.000</td> <td>   -0.770</td> <td>   -0.739</td>\n",
       "</tr>\n",
       "<tr>\n",
       "  <th>C(hr, Sum)[S.2]</th>                             <td>   -1.2260</td> <td>    0.010</td> <td> -123.173</td> <td> 0.000</td> <td>   -1.245</td> <td>   -1.206</td>\n",
       "</tr>\n",
       "<tr>\n",
       "  <th>C(hr, Sum)[S.3]</th>                             <td>   -1.5631</td> <td>    0.012</td> <td> -131.702</td> <td> 0.000</td> <td>   -1.586</td> <td>   -1.540</td>\n",
       "</tr>\n",
       "<tr>\n",
       "  <th>C(hr, Sum)[S.4]</th>                             <td>   -2.1983</td> <td>    0.016</td> <td> -133.846</td> <td> 0.000</td> <td>   -2.230</td> <td>   -2.166</td>\n",
       "</tr>\n",
       "<tr>\n",
       "  <th>C(hr, Sum)[S.5]</th>                             <td>   -2.8305</td> <td>    0.023</td> <td> -125.586</td> <td> 0.000</td> <td>   -2.875</td> <td>   -2.786</td>\n",
       "</tr>\n",
       "<tr>\n",
       "  <th>C(hr, Sum)[S.6]</th>                             <td>   -1.8147</td> <td>    0.013</td> <td> -134.775</td> <td> 0.000</td> <td>   -1.841</td> <td>   -1.788</td>\n",
       "</tr>\n",
       "<tr>\n",
       "  <th>C(hr, Sum)[S.7]</th>                             <td>   -0.4299</td> <td>    0.007</td> <td>  -62.341</td> <td> 0.000</td> <td>   -0.443</td> <td>   -0.416</td>\n",
       "</tr>\n",
       "<tr>\n",
       "  <th>C(hr, Sum)[S.8]</th>                             <td>    0.5752</td> <td>    0.004</td> <td>  130.544</td> <td> 0.000</td> <td>    0.567</td> <td>    0.584</td>\n",
       "</tr>\n",
       "<tr>\n",
       "  <th>C(hr, Sum)[S.9]</th>                             <td>    1.0769</td> <td>    0.004</td> <td>  302.220</td> <td> 0.000</td> <td>    1.070</td> <td>    1.084</td>\n",
       "</tr>\n",
       "<tr>\n",
       "  <th>C(hr, Sum)[S.10]</th>                            <td>    0.5818</td> <td>    0.004</td> <td>  135.727</td> <td> 0.000</td> <td>    0.573</td> <td>    0.590</td>\n",
       "</tr>\n",
       "<tr>\n",
       "  <th>C(hr, Sum)[S.11]</th>                            <td>    0.3369</td> <td>    0.005</td> <td>   71.372</td> <td> 0.000</td> <td>    0.328</td> <td>    0.346</td>\n",
       "</tr>\n",
       "<tr>\n",
       "  <th>C(hr, Sum)[S.12]</th>                            <td>    0.4941</td> <td>    0.004</td> <td>  112.494</td> <td> 0.000</td> <td>    0.486</td> <td>    0.503</td>\n",
       "</tr>\n",
       "<tr>\n",
       "  <th>C(hr, Sum)[S.13]</th>                            <td>    0.6796</td> <td>    0.004</td> <td>  167.040</td> <td> 0.000</td> <td>    0.672</td> <td>    0.688</td>\n",
       "</tr>\n",
       "<tr>\n",
       "  <th>C(hr, Sum)[S.14]</th>                            <td>    0.6736</td> <td>    0.004</td> <td>  164.722</td> <td> 0.000</td> <td>    0.666</td> <td>    0.682</td>\n",
       "</tr>\n",
       "<tr>\n",
       "  <th>C(hr, Sum)[S.15]</th>                            <td>    0.6249</td> <td>    0.004</td> <td>  149.570</td> <td> 0.000</td> <td>    0.617</td> <td>    0.633</td>\n",
       "</tr>\n",
       "<tr>\n",
       "  <th>C(hr, Sum)[S.16]</th>                            <td>    0.6538</td> <td>    0.004</td> <td>  158.205</td> <td> 0.000</td> <td>    0.646</td> <td>    0.662</td>\n",
       "</tr>\n",
       "<tr>\n",
       "  <th>C(hr, Sum)[S.17]</th>                            <td>    0.8743</td> <td>    0.004</td> <td>  231.040</td> <td> 0.000</td> <td>    0.867</td> <td>    0.882</td>\n",
       "</tr>\n",
       "<tr>\n",
       "  <th>C(hr, Sum)[S.18]</th>                            <td>    1.2946</td> <td>    0.003</td> <td>  397.848</td> <td> 0.000</td> <td>    1.288</td> <td>    1.301</td>\n",
       "</tr>\n",
       "<tr>\n",
       "  <th>C(hr, Sum)[S.19]</th>                            <td>    1.2123</td> <td>    0.003</td> <td>  365.084</td> <td> 0.000</td> <td>    1.206</td> <td>    1.219</td>\n",
       "</tr>\n",
       "<tr>\n",
       "  <th>C(hr, Sum)[S.20]</th>                            <td>    0.9140</td> <td>    0.004</td> <td>  247.065</td> <td> 0.000</td> <td>    0.907</td> <td>    0.921</td>\n",
       "</tr>\n",
       "<tr>\n",
       "  <th>C(hr, Sum)[S.21]</th>                            <td>    0.6162</td> <td>    0.004</td> <td>  147.045</td> <td> 0.000</td> <td>    0.608</td> <td>    0.624</td>\n",
       "</tr>\n",
       "<tr>\n",
       "  <th>C(hr, Sum)[S.22]</th>                            <td>    0.3642</td> <td>    0.005</td> <td>   78.173</td> <td> 0.000</td> <td>    0.355</td> <td>    0.373</td>\n",
       "</tr>\n",
       "<tr>\n",
       "  <th>C(hr, Sum)[S.23]</th>                            <td>    0.1175</td> <td>    0.005</td> <td>   22.488</td> <td> 0.000</td> <td>    0.107</td> <td>    0.128</td>\n",
       "</tr>\n",
       "<tr>\n",
       "  <th>C(weathersit, Treatment)[T.cloudy/misty]</th>    <td>   -0.0752</td> <td>    0.002</td> <td>  -34.528</td> <td> 0.000</td> <td>   -0.080</td> <td>   -0.071</td>\n",
       "</tr>\n",
       "<tr>\n",
       "  <th>C(weathersit, Treatment)[T.heavy rain/snow]</th> <td>   -0.9263</td> <td>    0.167</td> <td>   -5.554</td> <td> 0.000</td> <td>   -1.253</td> <td>   -0.599</td>\n",
       "</tr>\n",
       "<tr>\n",
       "  <th>C(weathersit, Treatment)[T.light rain/snow]</th> <td>   -0.5758</td> <td>    0.004</td> <td> -141.905</td> <td> 0.000</td> <td>   -0.584</td> <td>   -0.568</td>\n",
       "</tr>\n",
       "<tr>\n",
       "  <th>workingday</th>                                  <td>    0.0147</td> <td>    0.002</td> <td>    7.502</td> <td> 0.000</td> <td>    0.011</td> <td>    0.018</td>\n",
       "</tr>\n",
       "<tr>\n",
       "  <th>temp</th>                                        <td>    0.7853</td> <td>    0.011</td> <td>   68.434</td> <td> 0.000</td> <td>    0.763</td> <td>    0.808</td>\n",
       "</tr>\n",
       "</table>"
      ],
      "text/plain": [
       "<class 'statsmodels.iolib.summary.Summary'>\n",
       "\"\"\"\n",
       "                 Generalized Linear Model Regression Results                  \n",
       "==============================================================================\n",
       "Dep. Variable:                 bikers   No. Observations:                 8645\n",
       "Model:                            GLM   Df Residuals:                     8605\n",
       "Model Family:                 Poisson   Df Model:                           39\n",
       "Link Function:                    Log   Scale:                          1.0000\n",
       "Method:                          IRLS   Log-Likelihood:            -1.4054e+05\n",
       "Date:                Tue, 05 Jul 2022   Deviance:                   2.2804e+05\n",
       "Time:                        23:44:19   Pearson chi2:                 2.20e+05\n",
       "No. Iterations:                     7   Pseudo R-squ. (CS):              1.000\n",
       "Covariance Type:            nonrobust                                         \n",
       "===============================================================================================================\n",
       "                                                  coef    std err          z      P>|z|      [0.025      0.975]\n",
       "---------------------------------------------------------------------------------------------------------------\n",
       "Intercept                                       4.1182      0.006    683.963      0.000       4.106       4.130\n",
       "C(mnth, Sum)[S.1]                              -0.6702      0.006   -113.445      0.000      -0.682      -0.659\n",
       "C(mnth, Sum)[S.2]                              -0.4441      0.005    -91.379      0.000      -0.454      -0.435\n",
       "C(mnth, Sum)[S.3]                              -0.2937      0.004    -70.886      0.000      -0.302      -0.286\n",
       "C(mnth, Sum)[S.4]                               0.0215      0.003      6.888      0.000       0.015       0.028\n",
       "C(mnth, Sum)[S.5]                               0.2405      0.003     82.462      0.000       0.235       0.246\n",
       "C(mnth, Sum)[S.6]                               0.2232      0.004     62.818      0.000       0.216       0.230\n",
       "C(mnth, Sum)[S.7]                               0.1036      0.004     25.121      0.000       0.096       0.112\n",
       "C(mnth, Sum)[S.8]                               0.1512      0.004     41.281      0.000       0.144       0.158\n",
       "C(mnth, Sum)[S.9]                               0.2335      0.003     75.281      0.000       0.227       0.240\n",
       "C(mnth, Sum)[S.10]                              0.2676      0.003     96.091      0.000       0.262       0.273\n",
       "C(mnth, Sum)[S.11]                              0.1503      0.003     47.248      0.000       0.144       0.156\n",
       "C(hr, Sum)[S.1]                                -0.7544      0.008    -95.744      0.000      -0.770      -0.739\n",
       "C(hr, Sum)[S.2]                                -1.2260      0.010   -123.173      0.000      -1.245      -1.206\n",
       "C(hr, Sum)[S.3]                                -1.5631      0.012   -131.702      0.000      -1.586      -1.540\n",
       "C(hr, Sum)[S.4]                                -2.1983      0.016   -133.846      0.000      -2.230      -2.166\n",
       "C(hr, Sum)[S.5]                                -2.8305      0.023   -125.586      0.000      -2.875      -2.786\n",
       "C(hr, Sum)[S.6]                                -1.8147      0.013   -134.775      0.000      -1.841      -1.788\n",
       "C(hr, Sum)[S.7]                                -0.4299      0.007    -62.341      0.000      -0.443      -0.416\n",
       "C(hr, Sum)[S.8]                                 0.5752      0.004    130.544      0.000       0.567       0.584\n",
       "C(hr, Sum)[S.9]                                 1.0769      0.004    302.220      0.000       1.070       1.084\n",
       "C(hr, Sum)[S.10]                                0.5818      0.004    135.727      0.000       0.573       0.590\n",
       "C(hr, Sum)[S.11]                                0.3369      0.005     71.372      0.000       0.328       0.346\n",
       "C(hr, Sum)[S.12]                                0.4941      0.004    112.494      0.000       0.486       0.503\n",
       "C(hr, Sum)[S.13]                                0.6796      0.004    167.040      0.000       0.672       0.688\n",
       "C(hr, Sum)[S.14]                                0.6736      0.004    164.722      0.000       0.666       0.682\n",
       "C(hr, Sum)[S.15]                                0.6249      0.004    149.570      0.000       0.617       0.633\n",
       "C(hr, Sum)[S.16]                                0.6538      0.004    158.205      0.000       0.646       0.662\n",
       "C(hr, Sum)[S.17]                                0.8743      0.004    231.040      0.000       0.867       0.882\n",
       "C(hr, Sum)[S.18]                                1.2946      0.003    397.848      0.000       1.288       1.301\n",
       "C(hr, Sum)[S.19]                                1.2123      0.003    365.084      0.000       1.206       1.219\n",
       "C(hr, Sum)[S.20]                                0.9140      0.004    247.065      0.000       0.907       0.921\n",
       "C(hr, Sum)[S.21]                                0.6162      0.004    147.045      0.000       0.608       0.624\n",
       "C(hr, Sum)[S.22]                                0.3642      0.005     78.173      0.000       0.355       0.373\n",
       "C(hr, Sum)[S.23]                                0.1175      0.005     22.488      0.000       0.107       0.128\n",
       "C(weathersit, Treatment)[T.cloudy/misty]       -0.0752      0.002    -34.528      0.000      -0.080      -0.071\n",
       "C(weathersit, Treatment)[T.heavy rain/snow]    -0.9263      0.167     -5.554      0.000      -1.253      -0.599\n",
       "C(weathersit, Treatment)[T.light rain/snow]    -0.5758      0.004   -141.905      0.000      -0.584      -0.568\n",
       "workingday                                      0.0147      0.002      7.502      0.000       0.011       0.018\n",
       "temp                                            0.7853      0.011     68.434      0.000       0.763       0.808\n",
       "===============================================================================================================\n",
       "\"\"\""
      ]
     },
     "execution_count": 118,
     "metadata": {},
     "output_type": "execute_result"
    }
   ],
   "source": [
    "poisson_fit.summary()"
   ]
  },
  {
   "cell_type": "code",
   "execution_count": 119,
   "id": "df91f19e-0fac-43eb-a17d-43828580cf76",
   "metadata": {},
   "outputs": [],
   "source": [
    "jan_to_nov_coef = poisson_fit.params[1:12]\n",
    "dec_coef = -sum(jan_to_nov_coef)\n",
    "jan_to_dec_coef = pd.concat([jan_to_nov_coef, pd.Series(dec_coef, index=[\"C(mnth, Sum)[S.12]\"])])\n",
    "\n",
    "jan_to_dec_coef.index = np.arange(1,13)"
   ]
  },
  {
   "cell_type": "code",
   "execution_count": 121,
   "id": "0ae5d6a1-ca90-402d-8a42-ba63246dce44",
   "metadata": {},
   "outputs": [],
   "source": [
    "first_23_hour_coef = poisson_fit.params[12:13+22]\n",
    "last_hour_coef = -sum(first_23_hour_coef)\n",
    "all_hour_coef = pd.concat([first_23_hour_coef, pd.Series(last_hour_coef, index=[\"C(hr, Sum)[S.23]\"])])\n",
    "\n",
    "all_hour_coef.index = np.arange(1,25)"
   ]
  },
  {
   "cell_type": "code",
   "execution_count": 122,
   "id": "6310b60e-9b3a-47ac-921c-ae2c028205b1",
   "metadata": {},
   "outputs": [
    {
     "data": {
      "image/png": "[encoded data removed]",
      "text/plain": [
       "<Figure size 864x360 with 2 Axes>"
      ]
     },
     "metadata": {
      "needs_background": "light"
     },
     "output_type": "display_data"
    }
   ],
   "source": [
    "fig, ax = plt.subplots(1, 2, figsize=(12,5))\n",
    "\n",
    "ax[0].plot(jan_to_dec_coef, marker='o', color='b')\n",
    "ax[0].set_xlabel('Month')\n",
    "ax[0].set_ylabel('Coefficient')\n",
    "ax[0].set_xticks(ticks=np.arange(1,13), labels=['J', 'F', 'M', 'A', 'M', 'J', 'J', 'A', 'S', 'O', 'N', 'D'])\n",
    "\n",
    "ax[1].plot(all_hour_coef, marker='o', color='b')\n",
    "ax[1].set_xlabel('Hour')\n",
    "ax[1].set_ylabel('Coefficient')\n",
    "ax[1].set_xticks(ticks=np.arange(5,24,5));"
   ]
  },
  {
   "cell_type": "code",
   "execution_count": 123,
   "id": "caa1b934-09c3-4fdc-9690-34e520f8f66d",
   "metadata": {},
   "outputs": [
    {
     "data": {
      "text/plain": [
       "array([ 17.85276764,  10.96665932,   7.82788338, ..., 123.12777547,\n",
       "        94.7108554 ,  63.09432714])"
      ]
     },
     "execution_count": 123,
     "metadata": {},
     "output_type": "execute_result"
    }
   ],
   "source": [
    "poisson_fit.predict()"
   ]
  },
  {
   "cell_type": "code",
   "execution_count": 133,
   "id": "3b82d1f3-4e1f-43ed-bf98-6c12bc0bd79d",
   "metadata": {},
   "outputs": [
    {
     "data": {
      "image/png": "[encoded data removed]",
      "text/plain": [
       "<Figure size 432x288 with 1 Axes>"
      ]
     },
     "metadata": {
      "needs_background": "light"
     },
     "output_type": "display_data"
    }
   ],
   "source": [
    "plt.plot(linear_fit2.predict(), poisson_fit.predict())\n",
    "x = np.linspace(min(linear_fit2.predict()), max(linear_fit2.predict()), 100)\n",
    "y = x\n",
    "plt.plot(x, y);"
   ]
  },
  {
   "cell_type": "code",
   "execution_count": null,
   "id": "6cc29121-8ed2-4120-8192-a2fac40b0ab7",
   "metadata": {},
   "outputs": [],
   "source": []
  }
 ],
 "metadata": {
  "kernelspec": {
   "display_name": "Python 3 (ipykernel)",
   "language": "python",
   "name": "python3"
  },
  "language_info": {
   "codemirror_mode": {
    "name": "ipython",
    "version": 3
   },
   "file_extension": ".py",
   "mimetype": "text/x-python",
   "name": "python",
   "nbconvert_exporter": "python",
   "pygments_lexer": "ipython3",
   "version": "3.9.12"
  }
 },
 "nbformat": 4,
 "nbformat_minor": 5
}
