{
 "cells": [
  {
   "cell_type": "code",
   "execution_count": 3,
   "id": "33099e03-a5ad-49f5-8bd5-c5b3a97fd01e",
   "metadata": {},
   "outputs": [],
   "source": [
    "library(ISLR2)"
   ]
  },
  {
   "cell_type": "code",
   "execution_count": 9,
   "id": "bd335fd0-db12-4206-8283-67e26071dbaf",
   "metadata": {},
   "outputs": [
    {
     "name": "stderr",
     "output_type": "stream",
     "text": [
      "Warning message in install.packages(\"glmnet\"):\n",
      "“installation of package ‘glmnet’ had non-zero exit status”\n",
      "Updating HTML index of packages in '.Library'\n",
      "\n",
      "Making 'packages.html' ...\n",
      " done\n",
      "\n"
     ]
    }
   ],
   "source": [
    "install.packages('glmnet');"
   ]
  },
  {
   "cell_type": "code",
   "execution_count": 4,
   "id": "ef1ca8ce-343a-4643-94c8-aeed591299df",
   "metadata": {},
   "outputs": [
    {
     "name": "stderr",
     "output_type": "stream",
     "text": [
      "Loading required package: Matrix\n",
      "\n",
      "Loaded glmnet 4.1-2\n",
      "\n"
     ]
    }
   ],
   "source": [
    "library(glmnet)"
   ]
  },
  {
   "cell_type": "code",
   "execution_count": 10,
   "id": "822b4f32-b54b-4d0d-b1fd-829f9ddc6bee",
   "metadata": {},
   "outputs": [
    {
     "data": {
      "text/plain": [
       "               _                           \n",
       "platform       x86_64-apple-darwin13.4.0   \n",
       "arch           x86_64                      \n",
       "os             darwin13.4.0                \n",
       "system         x86_64, darwin13.4.0        \n",
       "status                                     \n",
       "major          4                           \n",
       "minor          0.5                         \n",
       "year           2021                        \n",
       "month          03                          \n",
       "day            31                          \n",
       "svn rev        80133                       \n",
       "language       R                           \n",
       "version.string R version 4.0.5 (2021-03-31)\n",
       "nickname       Shake and Throw             "
      ]
     },
     "metadata": {},
     "output_type": "display_data"
    }
   ],
   "source": [
    "R.version"
   ]
  },
  {
   "cell_type": "code",
   "execution_count": 11,
   "id": "e342b46d-8158-40da-8cce-318621cc667f",
   "metadata": {},
   "outputs": [],
   "source": [
    "library('keras')"
   ]
  },
  {
   "cell_type": "code",
   "execution_count": null,
   "id": "8534f346-6deb-4f6c-8f40-10e4980d3aef",
   "metadata": {},
   "outputs": [],
   "source": []
  }
 ],
 "metadata": {
  "kernelspec": {
   "display_name": "R",
   "language": "R",
   "name": "ir"
  },
  "language_info": {
   "codemirror_mode": "r",
   "file_extension": ".r",
   "mimetype": "text/x-r-source",
   "name": "R",
   "pygments_lexer": "r",
   "version": "4.0.5"
  }
 },
 "nbformat": 4,
 "nbformat_minor": 5
}
