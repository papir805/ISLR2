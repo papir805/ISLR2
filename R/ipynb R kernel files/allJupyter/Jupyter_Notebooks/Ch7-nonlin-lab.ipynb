{
 "cells": [
  {
   "cell_type": "raw",
   "id": "b4fa2bec",
   "metadata": {},
   "source": [
    "---\n",
    "title: \"Ch7-nonlin-lab\"\n",
    "---"
   ]
  },
  {
   "cell_type": "markdown",
   "id": "0dd0ebdc",
   "metadata": {},
   "source": [
    "# Lab: Non-linear Modeling\n",
    "In this lab, we re-analyze the `Wage` data considered in the\n",
    "examples throughout this chapter, in order to illustrate the fact that\n",
    "many of the complex non-linear fitting procedures discussed  can\n",
    "be easily implemented in `R`.  We begin by loading the\n",
    "`ISLR2` library, which contains the data."
   ]
  },
  {
   "cell_type": "code",
   "execution_count": null,
   "id": "12824bc2",
   "metadata": {
    "lines_to_next_cell": 2,
    "name": "chunk1"
   },
   "outputs": [],
   "source": [
    "library(ISLR2)\n",
    "attach(Wage)"
   ]
  },
  {
   "cell_type": "markdown",
   "id": "0bd054ec",
   "metadata": {},
   "source": [
    "## Polynomial Regression and Step Functions\n",
    "\\def\\caret{{^}}\n",
    "\n",
    "We now examine how Figure 7.1 was produced. We first fit the model using the following command:"
   ]
  },
  {
   "cell_type": "code",
   "execution_count": null,
   "id": "e2db138c",
   "metadata": {
    "name": "chunk2"
   },
   "outputs": [],
   "source": [
    "fit <- lm(wage ~ poly(age, 4), data = Wage)\n",
    "coef(summary(fit))"
   ]
  },
  {
   "cell_type": "markdown",
   "id": "eadd5ccd",
   "metadata": {},
   "source": [
    "This syntax fits a linear model, using the `lm()` function, in order to predict `wage` using a fourth-degree polynomial in `age`: `poly(age, 4)`. The `poly()` command allows us to avoid having to write out a long formula with powers of `age`. The function returns a matrix whose columns are a basis of *orthogonal polynomials* , which essentially means that each column is a linear combination of the variables `age`, `age^2`,  `age^3` and `age^4`.\n",
    "\n",
    "However, we can also use `poly()` to obtain `age`, `age^2`,  `age^3` and `age^4` directly, if we prefer. We can do this by using the `raw = TRUE` argument to the `poly()` function.\n",
    "Later we   see that this does not affect the model in a meaningful way---though the choice of basis clearly affects the coefficient estimates, it does not affect the fitted values obtained."
   ]
  },
  {
   "cell_type": "code",
   "execution_count": null,
   "id": "f6d5f4cb",
   "metadata": {
    "lines_to_next_cell": 2,
    "name": "chunk3"
   },
   "outputs": [],
   "source": [
    "fit2 <- lm(wage ~ poly(age, 4, raw = T), data = Wage)\n",
    "coef(summary(fit2))"
   ]
  },
  {
   "cell_type": "markdown",
   "id": "dab7d348",
   "metadata": {},
   "source": [
    "There are several other equivalent ways of fitting this model, which showcase the flexibility of the formula language in `R`. For example"
   ]
  },
  {
   "cell_type": "code",
   "execution_count": null,
   "id": "4a64d806",
   "metadata": {
    "name": "chunk4"
   },
   "outputs": [],
   "source": [
    "fit2a <- lm(wage ~ age + I(age^2) + I(age^3) + I(age^4),\n",
    "    data = Wage)\n",
    "coef(fit2a)"
   ]
  },
  {
   "cell_type": "markdown",
   "id": "8a71313c",
   "metadata": {},
   "source": [
    "This simply creates the polynomial basis functions on the fly, taking care to protect terms like `age^2` via the  function `I()` (the `^` symbol has a special meaning in formulas)."
   ]
  },
  {
   "cell_type": "code",
   "execution_count": null,
   "id": "6725588a",
   "metadata": {
    "name": "chunk5"
   },
   "outputs": [],
   "source": [
    "fit2b <- lm(wage ~ cbind(age, age^2, age^3, age^4),\n",
    "    data = Wage)"
   ]
  },
  {
   "cell_type": "markdown",
   "id": "e9a03bcc",
   "metadata": {},
   "source": [
    "This does the same more compactly, using the `cbind()` function for building a matrix from a collection of vectors; any function call such as `cbind()` inside a formula also serves as a wrapper.\n",
    "\n",
    "We now create a grid of values for `age` at which we want predictions, and then call the generic `predict()` function, specifying that we want standard errors as well."
   ]
  },
  {
   "cell_type": "code",
   "execution_count": null,
   "id": "0e3963ae",
   "metadata": {
    "name": "chunk6"
   },
   "outputs": [],
   "source": [
    "agelims <- range(age)\n",
    "age.grid <- seq(from = agelims[1], to = agelims[2])\n",
    "preds <- predict(fit, newdata = list(age = age.grid),\n",
    "    se = TRUE)\n",
    "se.bands <- cbind(preds$fit + 2 * preds$se.fit,\n",
    "    preds$fit - 2 * preds$se.fit)"
   ]
  },
  {
   "cell_type": "markdown",
   "id": "9fdf3794",
   "metadata": {},
   "source": [
    "Finally, we plot the data and add the fit from the degree-4 polynomial."
   ]
  },
  {
   "cell_type": "code",
   "execution_count": null,
   "id": "6f077c27",
   "metadata": {
    "name": "chunk7"
   },
   "outputs": [],
   "source": [
    "par(mfrow = c(1, 2), mar = c(4.5, 4.5, 1, 1),\n",
    "    oma = c(0, 0, 4, 0))\n",
    "plot(age, wage, xlim = agelims, cex = .5, col = \"darkgrey\")\n",
    "title(\"Degree-4 Polynomial\", outer = T)\n",
    "lines(age.grid, preds$fit, lwd = 2, col = \"blue\")\n",
    "matlines(age.grid, se.bands, lwd = 1, col = \"blue\", lty = 3)"
   ]
  },
  {
   "cell_type": "markdown",
   "id": "3929a010",
   "metadata": {},
   "source": [
    "Here the `mar` and `oma` arguments to `par()` allow us to control the margins of the plot, and the `title()` function creates a figure title that spans both subplots.\n",
    "\n",
    "We mentioned earlier that whether or not an orthogonal set of basis functions is produced in the `poly()` function will not affect the model obtained in a meaningful way. What do we mean by this? The fitted values obtained in either case are\n",
    "identical:"
   ]
  },
  {
   "cell_type": "code",
   "execution_count": null,
   "id": "b38b8491",
   "metadata": {
    "lines_to_next_cell": 2,
    "name": "chunk8"
   },
   "outputs": [],
   "source": [
    "preds2 <- predict(fit2, newdata = list(age = age.grid),\n",
    "    se = TRUE)\n",
    "max(abs(preds$fit - preds2$fit))"
   ]
  },
  {
   "cell_type": "markdown",
   "id": "f86e53c7",
   "metadata": {},
   "source": [
    "In performing a polynomial regression we must decide on the degree of\n",
    "the polynomial to use. One way to do this is by using hypothesis\n",
    "tests. We now fit models ranging from linear to a degree-5 polynomial\n",
    "and seek to determine the simplest model which is sufficient to\n",
    "explain the relationship \n",
    "between `wage` and `age`. We use the\n",
    "`anova()` function, which performs an \\define{analysis of\n",
    "  variance} (ANOVA, using an F-test) in order to test the null\n",
    "hypothesis that a model $\\mathcal{M}_1$ is sufficient to explain the\n",
    "data against the alternative hypothesis that a more complex model\n",
    "$\\mathcal{M}_2$ is required. In order to use the `anova()`\n",
    "function, $\\mathcal{M}_1$ and $\\mathcal{M}_2$ must be *nested*\n",
    "models: the predictors in $\\mathcal{M}_1$ must be a subset of the\n",
    "predictors in $\\mathcal{M}_2$. In this case, we fit five different\n",
    "models and sequentially compare the simpler model to the more complex\n",
    "model."
   ]
  },
  {
   "cell_type": "code",
   "execution_count": null,
   "id": "b6c15a7b",
   "metadata": {
    "lines_to_next_cell": 2,
    "name": "chunk9"
   },
   "outputs": [],
   "source": [
    "fit.1 <- lm(wage ~ age, data = Wage)\n",
    "fit.2 <- lm(wage ~ poly(age, 2), data = Wage)\n",
    "fit.3 <- lm(wage ~ poly(age, 3), data = Wage)\n",
    "fit.4 <- lm(wage ~ poly(age, 4), data = Wage)\n",
    "fit.5 <- lm(wage ~ poly(age, 5), data = Wage)\n",
    "anova(fit.1, fit.2, fit.3, fit.4, fit.5)"
   ]
  },
  {
   "cell_type": "markdown",
   "id": "62f7c990",
   "metadata": {},
   "source": [
    "The p-value comparing the linear `Model 1` to the quadratic\n",
    "`Model 2` is essentially zero ($<$$10^{-15}$), indicating that a linear\n",
    "fit is not sufficient. Similarly the p-value comparing the quadratic\n",
    " `Model 2` to the cubic `Model 3` is very low ($0.0017$), so\n",
    "the quadratic fit is also insufficient. The p-value comparing the\n",
    "cubic and degree-4 polynomials, `Model 3` and `Model 4`, is approximately $5\\,\\%$\n",
    "while the degree-5 polynomial `Model 5` seems unnecessary because its\n",
    "p-value is $0.37$. Hence, either a cubic or a quartic\n",
    "polynomial appear to provide a reasonable fit to the data, but lower-\n",
    "or higher-order models are not justified."
   ]
  },
  {
   "cell_type": "markdown",
   "id": "2bcb0f2e",
   "metadata": {},
   "source": [
    "In this case, instead of using the `anova()` function, we could have obtained these p-values more succinctly by exploiting the fact that `poly()` creates orthogonal polynomials."
   ]
  },
  {
   "cell_type": "code",
   "execution_count": null,
   "id": "0dd42471",
   "metadata": {
    "name": "chunk10"
   },
   "outputs": [],
   "source": [
    "coef(summary(fit.5))"
   ]
  },
  {
   "cell_type": "markdown",
   "id": "038d9edb",
   "metadata": {},
   "source": [
    "Notice that the p-values are the same, and in fact the square of the  $t$-statistics are equal to the F-statistics from the `anova()` function; for example:"
   ]
  },
  {
   "cell_type": "code",
   "execution_count": null,
   "id": "2b30405a",
   "metadata": {
    "name": "chunk11"
   },
   "outputs": [],
   "source": [
    "(-11.983)^2"
   ]
  },
  {
   "cell_type": "markdown",
   "id": "9833841c",
   "metadata": {},
   "source": [
    "However, the ANOVA method works whether or not we used orthogonal polynomials; it also works when we have other terms in the model as well. For example, we can use `anova()` to compare these three models:"
   ]
  },
  {
   "cell_type": "code",
   "execution_count": null,
   "id": "4cb8c160",
   "metadata": {
    "lines_to_next_cell": 2,
    "name": "chunk12"
   },
   "outputs": [],
   "source": [
    "fit.1 <- lm(wage ~ education + age, data = Wage)\n",
    "fit.2 <- lm(wage ~ education + poly(age, 2), data = Wage)\n",
    "fit.3 <- lm(wage ~ education + poly(age, 3), data = Wage)\n",
    "anova(fit.1, fit.2, fit.3)"
   ]
  },
  {
   "cell_type": "markdown",
   "id": "a26a345b",
   "metadata": {},
   "source": [
    "As an alternative to using hypothesis tests and ANOVA, we could choose the polynomial degree using  cross-validation, as discussed in Chapter 5.\n",
    "\n",
    "Next we consider the task of predicting whether an individual earns more than $$250{,}000$ per year. We proceed much as before, except that first we create the appropriate response vector, and then apply the `glm()` function using `family = \"binomial\"` in order to fit a polynomial logistic regression model."
   ]
  },
  {
   "cell_type": "code",
   "execution_count": null,
   "id": "b79c3674",
   "metadata": {
    "lines_to_next_cell": 2,
    "name": "chunk13"
   },
   "outputs": [],
   "source": [
    "fit <- glm(I(wage > 250) ~ poly(age, 4), data = Wage,\n",
    "    family = binomial)"
   ]
  },
  {
   "cell_type": "markdown",
   "id": "a5439925",
   "metadata": {},
   "source": [
    "Note that we again use the wrapper `I()` to create this binary response variable on the fly. The expression `wage > 250` evaluates to a logical variable containing `TRUE`s and `FALSE`s, which `glm()` coerces to binary by setting the `TRUE`s to 1 and the `FALSE`s to 0.\n",
    "\n",
    "Once again, we make predictions using the `predict()` function."
   ]
  },
  {
   "cell_type": "code",
   "execution_count": null,
   "id": "0331b166",
   "metadata": {
    "name": "chunk14"
   },
   "outputs": [],
   "source": [
    "preds <- predict(fit, newdata = list(age = age.grid), se = T)"
   ]
  },
  {
   "cell_type": "markdown",
   "id": "d6106678",
   "metadata": {},
   "source": [
    "However, calculating the confidence intervals is slightly more involved than in the linear regression case.\n",
    "The default prediction type for a `glm()` model\n",
    "is `type = \"link\"`, which is what we use here.  This means we get\n",
    "predictions for the *logit* , or log-odds: that is, we have fit a model of the form\n",
    "\\[\n",
    "\\log\\left(\\frac{\\Pr(Y=1|X)}{1-\\Pr(Y=1|X)}\\right)=X\\beta,\n",
    "\\]\n",
    " and the predictions given are of the form $X\\hat\\beta$.  The  standard errors given are also for $X \\hat\\beta$. In order to obtain confidence intervals for $\\Pr(Y=1|X)$, we use the transformation\n",
    "\\[\n",
    "\\Pr(Y=1|X)=\\frac{\\exp(X\\beta)}{1+\\exp(X\\beta)}.\n",
    "\\]"
   ]
  },
  {
   "cell_type": "code",
   "execution_count": null,
   "id": "28e844c8",
   "metadata": {
    "name": "chunk15"
   },
   "outputs": [],
   "source": [
    "pfit <- exp(preds$fit) / (1 + exp(preds$fit))\n",
    "se.bands.logit <- cbind(preds$fit + 2 * preds$se.fit,\n",
    "    preds$fit - 2 * preds$se.fit)\n",
    "se.bands <- exp(se.bands.logit) / (1 + exp(se.bands.logit))"
   ]
  },
  {
   "cell_type": "markdown",
   "id": "c980f413",
   "metadata": {},
   "source": [
    "Note that we could have directly computed the probabilities by selecting the `type = \"response\"` option in the `predict()` function."
   ]
  },
  {
   "cell_type": "code",
   "execution_count": null,
   "id": "ff2b6dac",
   "metadata": {
    "name": "chunk16"
   },
   "outputs": [],
   "source": [
    "preds <- predict(fit, newdata = list(age = age.grid),\n",
    "    type = \"response\", se = T)"
   ]
  },
  {
   "cell_type": "markdown",
   "id": "0408e741",
   "metadata": {},
   "source": [
    "However, the corresponding confidence intervals would not have been sensible because we would end up with negative probabilities!\n",
    "\n",
    "Finally, the right-hand plot from Figure 7.1 was made as follows:"
   ]
  },
  {
   "cell_type": "code",
   "execution_count": null,
   "id": "aa0b5e6b",
   "metadata": {
    "name": "chunk17"
   },
   "outputs": [],
   "source": [
    "plot(age, I(wage > 250), xlim = agelims, type = \"n\",\n",
    "    ylim = c(0, .2))\n",
    "points(jitter(age), I((wage > 250) / 5), cex = .5, pch = \"|\", col = \"darkgrey\")\n",
    "lines(age.grid, pfit, lwd = 2, col = \"blue\")\n",
    "matlines(age.grid, se.bands, lwd = 1, col = \"blue\", lty = 3)"
   ]
  },
  {
   "cell_type": "markdown",
   "id": "7aee3893",
   "metadata": {},
   "source": [
    "We have drawn  the `age` values corresponding to the observations with `wage` values above $250$ as gray marks on the top of the plot, and those with `wage` values below $250$ are shown as gray marks on the bottom of the plot. We used\n",
    "the `jitter()` function to jitter the `age` values a bit so that observations with the same `age` value do not cover each other up. This is often called a .\n",
    "\n",
    "In order to fit a step function, as discussed in Section 7.2, we use the `cut()` function."
   ]
  },
  {
   "cell_type": "code",
   "execution_count": null,
   "id": "3fad221e",
   "metadata": {
    "name": "chunk18"
   },
   "outputs": [],
   "source": [
    "table(cut(age, 4))\n",
    "fit <- lm(wage ~ cut(age, 4), data = Wage)\n",
    "coef(summary(fit))"
   ]
  },
  {
   "cell_type": "markdown",
   "id": "66c3169d",
   "metadata": {},
   "source": [
    "Here `cut()` automatically picked the cutpoints at $33.5$, $49$, and $64.5$~years of age. We could also have specified our own cutpoints directly using the `breaks` option.\n",
    "The function `cut()` returns an ordered categorical variable ; the `lm()` function then creates a set of dummy variables for use in the regression. The `age < 33.5` category is left out, so the intercept coefficient of $$94{,}160$ can be interpreted as the average salary for those under $33.5$~years of age, and the other coefficients can be interpreted as the average additional salary for those in the other age groups.\n",
    "We can produce predictions and plots just as we did in the case of the polynomial fit.\n"
   ]
  },
  {
   "cell_type": "markdown",
   "id": "3a12dffd",
   "metadata": {},
   "source": [
    "In order to fit regression splines in `R`, we use the `splines` library.\n",
    "In Section 7.4, we saw that regression\n",
    "splines can be fit by constructing an appropriate matrix of basis functions.\n",
    "The\n",
    " `bs()` function generates the entire matrix of basis functions for splines with the specified set of knots. By default, cubic splines are produced.\n",
    "Fitting `wage` to `age` using a regression spline is simple:"
   ]
  },
  {
   "cell_type": "code",
   "execution_count": null,
   "id": "b133262e",
   "metadata": {
    "name": "chunk19"
   },
   "outputs": [],
   "source": [
    "library(splines)\n",
    "fit <- lm(wage ~ bs(age, knots = c(25, 40, 60)), data = Wage)\n",
    "pred <- predict(fit, newdata = list(age = age.grid), se = T)\n",
    "plot(age, wage, col = \"gray\")\n",
    "lines(age.grid, pred$fit, lwd = 2)\n",
    "lines(age.grid, pred$fit + 2 * pred$se, lty = \"dashed\")\n",
    "lines(age.grid, pred$fit - 2 * pred$se, lty = \"dashed\")"
   ]
  },
  {
   "cell_type": "markdown",
   "id": "35abfa22",
   "metadata": {},
   "source": [
    "Here we have prespecified knots at ages $25$, $40$, and $60$. This produces a spline with six basis functions. (Recall that a cubic spline with three knots has seven degrees of freedom; these degrees of freedom are used up by an intercept, plus six basis functions.) We could also use the `df` option to produce a spline with knots at uniform quantiles\n",
    "of the data."
   ]
  },
  {
   "cell_type": "code",
   "execution_count": null,
   "id": "e8a8e7a6",
   "metadata": {
    "name": "chunk20"
   },
   "outputs": [],
   "source": [
    "dim(bs(age, knots = c(25, 40, 60)))\n",
    "dim(bs(age, df = 6))\n",
    "attr(bs(age, df = 6), \"knots\")"
   ]
  },
  {
   "cell_type": "markdown",
   "id": "c4fbcce6",
   "metadata": {},
   "source": [
    "In this case `R` chooses knots at ages $33.8, 42.0$, and $51.0$, which correspond to the 25th, 50th, and 75th percentiles of `age`. The function `bs()` also has a `degree` argument, so we can fit splines of any degree, rather than the default degree of 3 (which yields a cubic spline).  \n",
    "\n",
    "In order to instead fit a natural spline, we use the `ns()` function. \n",
    "Here we fit a natural spline with four degrees of freedom."
   ]
  },
  {
   "cell_type": "code",
   "execution_count": null,
   "id": "559104cf",
   "metadata": {
    "name": "chunk21"
   },
   "outputs": [],
   "source": [
    "fit2 <- lm(wage ~ ns(age, df = 4), data = Wage)\n",
    "pred2 <- predict(fit2, newdata = list(age = age.grid),\n",
    "     se = T)\n",
    "plot(age, wage, col = \"gray\")\n",
    "lines(age.grid, pred2$fit, col = \"red\", lwd = 2)"
   ]
  },
  {
   "cell_type": "markdown",
   "id": "8cdc20d5",
   "metadata": {},
   "source": [
    "As with the `bs()` function, we could instead specify the knots directly using the `knots` option.\n",
    "\n",
    "  In order to fit a smoothing spline, we use\n",
    "the `smooth.spline()` function.\n",
    "Figure 7.8  was produced with the following\n",
    "code:"
   ]
  },
  {
   "cell_type": "code",
   "execution_count": null,
   "id": "ab74873e",
   "metadata": {
    "name": "chunk22"
   },
   "outputs": [],
   "source": [
    "plot(age, wage, xlim = agelims, cex = .5, col = \"darkgrey\")\n",
    "title(\"Smoothing Spline\")\n",
    "fit <- smooth.spline(age, wage, df = 16)\n",
    "fit2 <- smooth.spline(age, wage, cv = TRUE)\n",
    "fit2$df\n",
    "lines(fit, col = \"red\", lwd = 2)\n",
    "lines(fit2, col = \"blue\", lwd = 2)\n",
    "legend(\"topright\", legend = c(\"16 DF\", \"6.8 DF\"),\n",
    "    col = c(\"red\", \"blue\"), lty = 1, lwd = 2, cex = .8)"
   ]
  },
  {
   "cell_type": "markdown",
   "id": "11a4a228",
   "metadata": {},
   "source": [
    "Notice that in the first call to `smooth.spline()`, we specified `df = 16`. The function then  determines which value of $\\lambda$  leads to $16$ degrees of freedom.\n",
    " In the second call to `smooth.spline()`, we select the smoothness level by cross-validation;\n",
    " this results in a value of $\\lambda$ that yields 6.8 degrees of freedom.\n",
    "\n",
    "In order to perform local regression, we use the `loess()` function. "
   ]
  },
  {
   "cell_type": "code",
   "execution_count": null,
   "id": "f3d32d23",
   "metadata": {
    "name": "chunk23"
   },
   "outputs": [],
   "source": [
    "plot(age, wage, xlim = agelims, cex = .5, col = \"darkgrey\")\n",
    "title(\"Local Regression\")\n",
    "fit <- loess(wage ~ age, span = .2, data = Wage)\n",
    "fit2 <- loess(wage ~ age, span = .5, data = Wage)\n",
    "lines(age.grid, predict(fit, data.frame(age = age.grid)),\n",
    "    col = \"red\", lwd = 2)\n",
    "lines(age.grid, predict(fit2, data.frame(age = age.grid)),\n",
    "    col = \"blue\", lwd = 2)\n",
    "legend(\"topright\", legend = c(\"Span = 0.2\", \"Span = 0.5\"),\n",
    "    col = c(\"red\", \"blue\"), lty = 1, lwd = 2, cex = .8)"
   ]
  },
  {
   "cell_type": "markdown",
   "id": "49d06028",
   "metadata": {},
   "source": [
    "Here we have performed local linear regression using spans of $0.2$ and $0.5$: that is, each neighborhood consists of 20\\,\\% or 50\\,\\% of the observations. The larger the span, the smoother the fit.\n",
    "The `locfit` library can also be used for fitting local regression models in `R`."
   ]
  },
  {
   "cell_type": "markdown",
   "id": "b4a9ef94",
   "metadata": {},
   "source": [
    "## GAMs"
   ]
  },
  {
   "cell_type": "markdown",
   "id": "9068cd8a",
   "metadata": {},
   "source": [
    "We now fit a GAM to predict `wage` using natural spline functions of `lyear` and `age`,  treating `education` as a qualitative predictor, as in (7.16). Since this is just a big linear regression model using an appropriate choice of basis functions, we can simply do this using the `lm()` function."
   ]
  },
  {
   "cell_type": "code",
   "execution_count": null,
   "id": "5fd0fe5d",
   "metadata": {
    "lines_to_next_cell": 2,
    "name": "chunk24"
   },
   "outputs": [],
   "source": [
    "gam1 <- lm(wage ~ ns(year, 4) + ns(age, 5) + education,\n",
    "    data = Wage)"
   ]
  },
  {
   "cell_type": "markdown",
   "id": "0f15c153",
   "metadata": {},
   "source": [
    "We now fit the model (7.16) using smoothing splines rather than natural splines.  In order to fit more general sorts of GAMs, using smoothing splines or other components that cannot be expressed in terms of basis functions and then fit using least squares regression, we will need to use the `gam` library in `R`.\n",
    "\n",
    "The `s()` function, which is part of the `gam` library, is used to indicate that we would like to use a smoothing spline. We specify that the function of `lyear` should have $4$ degrees of freedom, and that the function of `age` will have $5$ degrees of freedom. Since `education` is qualitative, we leave it as is, and it is converted into four dummy variables. We use the `gam()` function in order to fit a GAM using these components.\n",
    " All of the terms in (7.16) are fit simultaneously, taking each other into account to explain the response."
   ]
  },
  {
   "cell_type": "code",
   "execution_count": null,
   "id": "ee513d54",
   "metadata": {
    "lines_to_next_cell": 2,
    "name": "chunk25"
   },
   "outputs": [],
   "source": [
    "library(gam)\n",
    "gam.m3 <- gam(wage ~ s(year, 4) + s(age, 5) + education,\n",
    "    data = Wage)"
   ]
  },
  {
   "cell_type": "markdown",
   "id": "1b54ac29",
   "metadata": {},
   "source": [
    "In order to produce  Figure 7.12, we simply call the `plot()` function:"
   ]
  },
  {
   "cell_type": "code",
   "execution_count": null,
   "id": "7e66f638",
   "metadata": {
    "name": "chunk26"
   },
   "outputs": [],
   "source": [
    "par(mfrow = c(1, 3))\n",
    "plot(gam.m3, se = TRUE, col = \"blue\")"
   ]
  },
  {
   "cell_type": "markdown",
   "id": "a6e1a243",
   "metadata": {},
   "source": [
    "The generic `plot()` function recognizes that `gam.m3` is an\n",
    "object of class `Gam`, and invokes the appropriate\n",
    "`plot.Gam()` method.  Conveniently, even though\n",
    "  `gam1` is not of class `Gam` but rather of class `lm`, we can {\\em\n",
    "  still} use `plot.Gam()` on it.  Figure 7.11 was produced using the following expression:"
   ]
  },
  {
   "cell_type": "code",
   "execution_count": null,
   "id": "2199d7f7",
   "metadata": {
    "name": "chunk27"
   },
   "outputs": [],
   "source": [
    "plot.Gam(gam1, se = TRUE, col = \"red\")"
   ]
  },
  {
   "cell_type": "markdown",
   "id": "4f971c9f",
   "metadata": {},
   "source": [
    "Notice here we had to use `plot.Gam()` rather than the *generic* `plot()` function.\n",
    "\n",
    "In these plots, the function of `lyear` looks rather linear. We can perform a series of ANOVA tests in order to determine which of these three models is best:  a GAM that excludes `lyear` ($\\mathcal{M}_1$),  a GAM that uses a linear function of `lyear` ($\\mathcal{M}_2$), or  a GAM that uses a spline function\n",
    "of `lyear` ($\\mathcal{M}_3$)."
   ]
  },
  {
   "cell_type": "code",
   "execution_count": null,
   "id": "4f9a2586",
   "metadata": {
    "name": "chunk28"
   },
   "outputs": [],
   "source": [
    "gam.m1 <- gam(wage ~ s(age, 5) + education, data = Wage)\n",
    "gam.m2 <- gam(wage ~ year + s(age, 5) + education,\n",
    "    data = Wage)\n",
    "anova(gam.m1, gam.m2, gam.m3, test = \"F\")"
   ]
  },
  {
   "cell_type": "markdown",
   "id": "67568d0e",
   "metadata": {},
   "source": [
    "We find that there is compelling evidence that a GAM with a linear function of `lyear` is better than a GAM that does not include `lyear` at all \\hbox{(p-value\\,=\\,0.00014).} However, there is no evidence that a non-linear function of `lyear` is needed (p-value\\,=\\,0.349).\n",
    "In other words, based on the results of this ANOVA, $\\mathcal{M}_2$ is preferred.\n",
    "\n",
    "The `summary()` function produces a summary of the gam fit."
   ]
  },
  {
   "cell_type": "code",
   "execution_count": null,
   "id": "883b9f7d",
   "metadata": {
    "name": "chunk29"
   },
   "outputs": [],
   "source": [
    "summary(gam.m3)"
   ]
  },
  {
   "cell_type": "markdown",
   "id": "a1d12825",
   "metadata": {},
   "source": [
    "The ``Anova for Parametric Effects\" p-values clearly demonstrate that `year`, `age`, and `education` are all highly statistically significant, even when only assuming a linear relationship. Alternatively, the ``Anova for Nonparametric Effects\" p-values for `year` and `age` correspond to a null hypothesis of a linear relationship versus the alternative of a non-linear relationship. The large p-value for `year` reinforces our conclusion from the ANOVA test that a linear function is adequate for this term. However, there is very clear evidence that a non-linear term is required for `age`.\n",
    "\n",
    "We can make predictions\n",
    "using the `predict()` method for the class `Gam`.\n",
    " Here we make predictions on the training set."
   ]
  },
  {
   "cell_type": "code",
   "execution_count": null,
   "id": "5400f77a",
   "metadata": {
    "lines_to_next_cell": 2,
    "name": "chunk30"
   },
   "outputs": [],
   "source": [
    "preds <- predict(gam.m2, newdata = Wage)"
   ]
  },
  {
   "cell_type": "markdown",
   "id": "192b9d89",
   "metadata": {},
   "source": [
    "We can also use local regression fits as building blocks in a GAM, using the `lo()` function."
   ]
  },
  {
   "cell_type": "code",
   "execution_count": null,
   "id": "a691140a",
   "metadata": {
    "name": "chunk31"
   },
   "outputs": [],
   "source": [
    "gam.lo <- gam(\n",
    "    wage ~ s(year, df = 4) + lo(age, span = 0.7) + education,\n",
    "    data = Wage\n",
    "  )\n",
    "plot.Gam(gam.lo, se = TRUE, col = \"green\")"
   ]
  },
  {
   "cell_type": "markdown",
   "id": "a4eaf8f7",
   "metadata": {},
   "source": [
    "Here we have used local regression for the `age` term, with a span of\n",
    "$0.7$.\n",
    "We can also use the `lo()` function to create interactions before calling the `gam()` function. For example,"
   ]
  },
  {
   "cell_type": "code",
   "execution_count": null,
   "id": "69848b22",
   "metadata": {
    "name": "chunk32"
   },
   "outputs": [],
   "source": [
    "gam.lo.i <- gam(wage ~ lo(year, age, span = 0.5) + education,\n",
    "    data = Wage)"
   ]
  },
  {
   "cell_type": "markdown",
   "id": "c2c7f652",
   "metadata": {},
   "source": [
    "fits a two-term model, in which the first term is an interaction between `lyear` and `age`, fit by a local regression surface. We can plot the resulting two-dimensional surface if we first install the `akima` package."
   ]
  },
  {
   "cell_type": "code",
   "execution_count": null,
   "id": "625e44d6",
   "metadata": {
    "lines_to_next_cell": 0,
    "name": "chunk33"
   },
   "outputs": [],
   "source": [
    "library(akima)\n",
    "plot(gam.lo.i)"
   ]
  },
  {
   "cell_type": "markdown",
   "id": "3cfca3e8",
   "metadata": {},
   "source": [
    "\n"
   ]
  },
  {
   "cell_type": "markdown",
   "id": "d63f77a6",
   "metadata": {},
   "source": [
    "In order to fit a logistic regression GAM, we once again use the `I()` function in constructing the binary response variable, and set `family=binomial`."
   ]
  },
  {
   "cell_type": "code",
   "execution_count": null,
   "id": "c43938e3",
   "metadata": {
    "name": "chunk34"
   },
   "outputs": [],
   "source": [
    "gam.lr <- gam(\n",
    "    I(wage > 250) ~ year + s(age, df = 5) + education,\n",
    "    family = binomial, data = Wage\n",
    "  )\n",
    "par(mfrow = c(1, 3))\n",
    "plot(gam.lr, se = T, col = \"green\")"
   ]
  },
  {
   "cell_type": "markdown",
   "id": "d6caa027",
   "metadata": {},
   "source": [
    "It is easy to see that there are no high earners in the `< HS` category:"
   ]
  },
  {
   "cell_type": "code",
   "execution_count": null,
   "id": "5f23b583",
   "metadata": {
    "name": "chunk35"
   },
   "outputs": [],
   "source": [
    "table(education, I(wage > 250))"
   ]
  },
  {
   "cell_type": "markdown",
   "id": "8e1a5477",
   "metadata": {},
   "source": [
    "Hence, we fit a logistic regression GAM using all but this category. This provides more sensible results."
   ]
  },
  {
   "cell_type": "code",
   "execution_count": null,
   "id": "503969a9",
   "metadata": {
    "lines_to_next_cell": 0,
    "name": "chunk36"
   },
   "outputs": [],
   "source": [
    "gam.lr.s <- gam(\n",
    "    I(wage > 250) ~ year + s(age, df = 5) + education,\n",
    "    family = binomial, data = Wage,\n",
    "    subset = (education != \"1. < HS Grad\")\n",
    "  )\n",
    "plot(gam.lr.s, se = T, col = \"green\")"
   ]
  },
  {
   "cell_type": "markdown",
   "id": "9237649e",
   "metadata": {},
   "source": [
    "\n",
    "\n"
   ]
  }
 ],
 "metadata": {
  "celltoolbar": "Edit Metadata",
  "jupytext": {
   "formats": "ipynb,Rmd"
  },
  "kernelspec": {
   "display_name": "R",
   "language": "R",
   "name": "ir"
  },
  "language_info": {
   "codemirror_mode": "r",
   "file_extension": ".r",
   "mimetype": "text/x-r-source",
   "name": "R",
   "pygments_lexer": "r",
   "version": "4.0.5"
  },
  "substitutions": {
   "ISLPmod": "`ISLP`",
   "Rlang": "`R`",
   "mpl": "`matplotlib`",
   "numpy": "`numpy`",
   "pandas": "`pandas`",
   "pylang": "`python`",
   "smlib": "`statsmodels`"
  }
 },
 "nbformat": 4,
 "nbformat_minor": 5
}
