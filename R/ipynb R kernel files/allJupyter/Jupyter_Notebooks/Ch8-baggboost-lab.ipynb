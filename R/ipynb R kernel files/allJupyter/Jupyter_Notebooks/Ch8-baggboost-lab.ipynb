{
 "cells": [
  {
   "cell_type": "raw",
   "id": "b4fa2bec",
   "metadata": {},
   "source": [
    "---\n",
    "title: \"Ch8-baggboost-lab\"\n",
    "---"
   ]
  },
  {
   "cell_type": "markdown",
   "id": "0dd0ebdc",
   "metadata": {},
   "source": [
    "# Lab: Decision Trees\n",
    "## Fitting Classification Trees"
   ]
  },
  {
   "cell_type": "markdown",
   "id": "65c6e7dd",
   "metadata": {},
   "source": [
    "The `tree` library is used to construct classification and regression trees."
   ]
  },
  {
   "cell_type": "code",
   "execution_count": null,
   "id": "12824bc2",
   "metadata": {
    "name": "chunk1"
   },
   "outputs": [],
   "source": [
    "library(tree)"
   ]
  },
  {
   "cell_type": "markdown",
   "id": "0bd054ec",
   "metadata": {},
   "source": [
    "We first use classification trees  to analyze the `Carseats` data set.\n",
    "In these data, `Sales` is a continuous variable, and so we begin by recoding it  as a binary variable. We use the `ifelse()` function to create a variable, called `High`, which takes on a value of `Yes` if the `Sales` variable exceeds $8$,\n",
    "and takes on a value of `No` otherwise."
   ]
  },
  {
   "cell_type": "code",
   "execution_count": null,
   "id": "e2db138c",
   "metadata": {
    "name": "chunk2"
   },
   "outputs": [],
   "source": [
    "library(ISLR2)\n",
    "attach(Carseats)\n",
    "High <- factor(ifelse(Sales <= 8, \"No\", \"Yes\"))"
   ]
  },
  {
   "cell_type": "markdown",
   "id": "eadd5ccd",
   "metadata": {},
   "source": [
    "Finally, we use the `data.frame()` function to merge `High` with the rest of the `Carseats` data."
   ]
  },
  {
   "cell_type": "code",
   "execution_count": null,
   "id": "f6d5f4cb",
   "metadata": {
    "name": "chunk3"
   },
   "outputs": [],
   "source": [
    "Carseats <- data.frame(Carseats, High)"
   ]
  },
  {
   "cell_type": "markdown",
   "id": "dab7d348",
   "metadata": {},
   "source": [
    "We now  use the `tree()` function to fit a classification tree in order to predict `High` using all variables but `Sales`.\n",
    "The syntax of the `tree()` function is quite similar to that of the `lm()` function."
   ]
  },
  {
   "cell_type": "code",
   "execution_count": null,
   "id": "4a64d806",
   "metadata": {
    "name": "chunk4"
   },
   "outputs": [],
   "source": [
    "tree.carseats <- tree(High ~ . - Sales, Carseats)"
   ]
  },
  {
   "cell_type": "markdown",
   "id": "8a71313c",
   "metadata": {},
   "source": [
    "The `summary()` function lists the variables that are used as internal nodes in the tree, the number of terminal nodes, and the (training) error rate."
   ]
  },
  {
   "cell_type": "code",
   "execution_count": null,
   "id": "6725588a",
   "metadata": {
    "name": "chunk5"
   },
   "outputs": [],
   "source": [
    "summary(tree.carseats)"
   ]
  },
  {
   "cell_type": "markdown",
   "id": "e9a03bcc",
   "metadata": {},
   "source": [
    "We see that the training error rate is  $9\\%$.\n",
    "For classification trees, the deviance reported in the output of `summary()` is\n",
    "given by\n",
    "\\[\n",
    "-2 \\sum_m \\sum_k n_{mk} \\log \\hat{p}_{mk},\n",
    "\\]\n",
    " where $n_{mk}$ is the number of observations in the $m$th terminal node that belong to the $k$th class. This is closely related to the entropy, defined in (8.7).\n",
    "A small deviance indicates a tree that provides a good fit to the (training) data.\n",
    "The *residual mean deviance* reported is simply the deviance divided by $n-|{T}_0|$, which in this case is $400-27=373$.\n",
    "\n",
    "One of the most attractive properties of trees is that they can be  graphically displayed. We use the `plot()` function to display the tree structure, and the `text()` function to display the node labels. The argument `pretty = 0` instructs `R` to include the category names for any qualitative predictors, rather than simply displaying a letter for each category."
   ]
  },
  {
   "cell_type": "code",
   "execution_count": null,
   "id": "0e3963ae",
   "metadata": {
    "name": "chunk6"
   },
   "outputs": [],
   "source": [
    "plot(tree.carseats)\n",
    "text(tree.carseats, pretty = 0)"
   ]
  },
  {
   "cell_type": "markdown",
   "id": "9fdf3794",
   "metadata": {},
   "source": [
    "The most important indicator of `Sales` appears to be shelving location, since the first branch differentiates `Good` locations from `Bad` and `Medium` locations.\n",
    "\n",
    "If we just type the name of the tree object,  `R` prints output corresponding to each branch of the tree. `R` displays the split criterion  (e.g. `Price < 92.5`), the number of observations in  that branch, the deviance,  the overall prediction for the branch (`Yes` or `No`),  and the fraction of observations in that branch that take on values of `Yes` and `No`. Branches that lead to terminal nodes are indicated using asterisks."
   ]
  },
  {
   "cell_type": "code",
   "execution_count": null,
   "id": "6f077c27",
   "metadata": {
    "lines_to_next_cell": 2,
    "name": "chunk7"
   },
   "outputs": [],
   "source": [
    "tree.carseats"
   ]
  },
  {
   "cell_type": "markdown",
   "id": "3929a010",
   "metadata": {},
   "source": [
    "In order to properly evaluate the performance of a classification tree\n",
    "on these data, we must estimate the test error rather than simply\n",
    "computing the training error. We split the observations into a\n",
    "training set and a test set, build the tree using the training set,\n",
    "and evaluate its performance on the test data. The `predict()`\n",
    "function can be used for this purpose. In the case of a classification\n",
    "tree, the argument `type = \"class\"` instructs `R` to return the\n",
    "actual class prediction. This approach leads to correct predictions\n",
    "for around $77\\,\\%$ of the locations in the test data set."
   ]
  },
  {
   "cell_type": "code",
   "execution_count": null,
   "id": "b38b8491",
   "metadata": {
    "name": "chunk8"
   },
   "outputs": [],
   "source": [
    "set.seed(2)\n",
    "train <- sample(1:nrow(Carseats), 200)\n",
    "Carseats.test <- Carseats[-train, ]\n",
    "High.test <- High[-train]\n",
    "tree.carseats <- tree(High ~ . - Sales, Carseats,\n",
    "    subset = train)\n",
    "tree.pred <- predict(tree.carseats, Carseats.test,\n",
    "    type = \"class\")\n",
    "table(tree.pred, High.test)\n",
    "(104 + 50) / 200"
   ]
  },
  {
   "cell_type": "markdown",
   "id": "f86e53c7",
   "metadata": {},
   "source": [
    "(If you re-run the `predict()` function then you might get slightly different results, due to \"ties\": for instance, this can happen when the training observations corresponding to a terminal node are evenly split between `Yes` and `No` response values.)\n",
    "\n",
    "Next, we consider whether pruning the tree might lead to improved  results.\n",
    "The function `cv.tree()` performs cross-validation in order to  determine the optimal level of tree complexity; cost complexity pruning is used in order to select a sequence of trees for consideration.\n",
    "We use the argument `FUN = prune.misclass` in order to indicate that we want the classification error rate to guide the cross-validation and pruning process, rather than the default for the `cv.tree()` function, which is deviance. The `cv.tree()` function reports the number of terminal nodes of each tree considered (`size`) as well as the corresponding error rate and the value of the cost-complexity parameter used (`k`, which corresponds to $\\alpha$ in (8.4))."
   ]
  },
  {
   "cell_type": "code",
   "execution_count": null,
   "id": "b6c15a7b",
   "metadata": {
    "name": "chunk9"
   },
   "outputs": [],
   "source": [
    "set.seed(7)\n",
    "cv.carseats <- cv.tree(tree.carseats, FUN = prune.misclass)\n",
    "names(cv.carseats)\n",
    "cv.carseats"
   ]
  },
  {
   "cell_type": "markdown",
   "id": "62f7c990",
   "metadata": {},
   "source": [
    "Despite its name, `dev` corresponds to the number of\n",
    "cross-validation errors. The tree with 9 terminal nodes results in only 74 cross-validation errors.  We plot\n",
    "the  error rate as a function of both `size` and\n",
    "`k`."
   ]
  },
  {
   "cell_type": "code",
   "execution_count": null,
   "id": "e43716d7",
   "metadata": {
    "name": "chunk10"
   },
   "outputs": [],
   "source": [
    "par(mfrow = c(1, 2))\n",
    "plot(cv.carseats$size, cv.carseats$dev, type = \"b\")\n",
    "plot(cv.carseats$k, cv.carseats$dev, type = \"b\")"
   ]
  },
  {
   "cell_type": "markdown",
   "id": "2bcb0f2e",
   "metadata": {},
   "source": [
    "We now apply the  `prune.misclass()`  function in order to prune the tree to obtain the nine-node tree."
   ]
  },
  {
   "cell_type": "code",
   "execution_count": null,
   "id": "0dd42471",
   "metadata": {
    "lines_to_next_cell": 2,
    "name": "chunk11"
   },
   "outputs": [],
   "source": [
    "prune.carseats <- prune.misclass(tree.carseats, best = 9)\n",
    "plot(prune.carseats)\n",
    "text(prune.carseats, pretty = 0)"
   ]
  },
  {
   "cell_type": "markdown",
   "id": "038d9edb",
   "metadata": {},
   "source": [
    "How well does this pruned tree perform on the test data set? Once again, we apply the `predict()` function."
   ]
  },
  {
   "cell_type": "code",
   "execution_count": null,
   "id": "2b30405a",
   "metadata": {
    "name": "chunk12"
   },
   "outputs": [],
   "source": [
    "tree.pred <- predict(prune.carseats, Carseats.test,\n",
    "    type = \"class\")\n",
    "table(tree.pred, High.test)\n",
    "(97 + 58) / 200"
   ]
  },
  {
   "cell_type": "markdown",
   "id": "9833841c",
   "metadata": {},
   "source": [
    "Now $77.5\\,\\%$ of the test observations are correctly classified, so not only has the pruning process produced a more interpretable tree, but it has also slightly improved the classification accuracy.\n",
    "\n",
    "If we increase the value of `best`, we obtain a larger pruned tree with lower classification accuracy:"
   ]
  },
  {
   "cell_type": "code",
   "execution_count": null,
   "id": "4cb8c160",
   "metadata": {
    "lines_to_next_cell": 0,
    "name": "chunk13"
   },
   "outputs": [],
   "source": [
    "prune.carseats <- prune.misclass(tree.carseats, best = 14)\n",
    "plot(prune.carseats)\n",
    "text(prune.carseats, pretty = 0)\n",
    "tree.pred <- predict(prune.carseats, Carseats.test,\n",
    "    type = \"class\")\n",
    "table(tree.pred, High.test)\n",
    "(102 + 52) / 200"
   ]
  },
  {
   "cell_type": "markdown",
   "id": "3cfca3e8",
   "metadata": {},
   "source": [
    "\n",
    "\n",
    "\n"
   ]
  },
  {
   "cell_type": "markdown",
   "id": "d63f77a6",
   "metadata": {},
   "source": [
    "## Fitting Regression Trees\n",
    "\n",
    "Here we fit a regression tree to the `Boston`  data set. First, we create a training set, and fit the tree to the training data."
   ]
  },
  {
   "cell_type": "code",
   "execution_count": null,
   "id": "c43938e3",
   "metadata": {
    "name": "chunk14"
   },
   "outputs": [],
   "source": [
    "set.seed(1)\n",
    "train <- sample(1:nrow(Boston), nrow(Boston) / 2)\n",
    "tree.boston <- tree(medv ~ ., Boston, subset = train)\n",
    "summary(tree.boston)"
   ]
  },
  {
   "cell_type": "markdown",
   "id": "d6caa027",
   "metadata": {},
   "source": [
    "Notice that the output of `summary()` indicates that only four of the variables have been used in constructing the tree. In the context of a regression tree, the deviance is simply the sum of squared errors for the tree. We now plot the tree."
   ]
  },
  {
   "cell_type": "code",
   "execution_count": null,
   "id": "5f23b583",
   "metadata": {
    "name": "chunk15"
   },
   "outputs": [],
   "source": [
    "plot(tree.boston)\n",
    "text(tree.boston, pretty = 0)"
   ]
  },
  {
   "cell_type": "markdown",
   "id": "8e1a5477",
   "metadata": {},
   "source": [
    "The variable `lstat` measures the percentage of individuals with {lower  socioeconomic status}, while the variable `rm` corresponds to the average number of rooms. The tree indicates that larger values of `rm`, or lower values of `lstat`, correspond to more expensive houses. For example, the tree predicts a median house price of $$45{,}400$ for homes in census tracts in which `rm >= 7.553`."
   ]
  },
  {
   "cell_type": "markdown",
   "id": "25759ac1",
   "metadata": {},
   "source": [
    "It is worth noting that we could have fit a much bigger tree, by\n",
    "passing `control = tree.control(nobs = length(train), mindev = 0)` into the `tree()` function.\n",
    "\n",
    "Now we use the `cv.tree()` function to see whether pruning the tree will improve performance."
   ]
  },
  {
   "cell_type": "code",
   "execution_count": null,
   "id": "503969a9",
   "metadata": {
    "name": "chunk16"
   },
   "outputs": [],
   "source": [
    "cv.boston <- cv.tree(tree.boston)\n",
    "plot(cv.boston$size, cv.boston$dev, type = \"b\")"
   ]
  },
  {
   "cell_type": "markdown",
   "id": "c3bc41ae",
   "metadata": {},
   "source": [
    "In this case, the most complex tree  under consideration is selected by cross-validation. However, if we wish to prune the tree, we could do so as follows, using the `prune.tree()` function:"
   ]
  },
  {
   "cell_type": "code",
   "execution_count": null,
   "id": "d8fafa13",
   "metadata": {
    "name": "chunk17"
   },
   "outputs": [],
   "source": [
    "prune.boston <- prune.tree(tree.boston, best = 5)\n",
    "plot(prune.boston)\n",
    "text(prune.boston, pretty = 0)"
   ]
  },
  {
   "cell_type": "markdown",
   "id": "5d4767f0",
   "metadata": {},
   "source": [
    "In keeping with the cross-validation results, we use the unpruned tree to make predictions on the test set."
   ]
  },
  {
   "cell_type": "code",
   "execution_count": null,
   "id": "21b40a07",
   "metadata": {
    "name": "chunk18"
   },
   "outputs": [],
   "source": [
    "yhat <- predict(tree.boston, newdata = Boston[-train, ])\n",
    "boston.test <- Boston[-train, \"medv\"]\n",
    "plot(yhat, boston.test)\n",
    "abline(0, 1)\n",
    "mean((yhat - boston.test)^2)"
   ]
  },
  {
   "cell_type": "markdown",
   "id": "8fbae953",
   "metadata": {},
   "source": [
    "In other words, the  test set MSE associated with the regression tree is $35.29$.\n",
    "The square root of the MSE is therefore around $5.941$, indicating that this model leads to test predictions that are (on average) within approximately $$5{,}941$ of the true median home value for the census tract.\n"
   ]
  },
  {
   "cell_type": "markdown",
   "id": "8adae47c",
   "metadata": {},
   "source": [
    "## Bagging and Random Forests\n",
    "\n"
   ]
  },
  {
   "cell_type": "markdown",
   "id": "14c0d870",
   "metadata": {},
   "source": [
    "Here we apply bagging and random forests to the `Boston` data, using the `randomForest` package in `R`. The exact results obtained in this section may depend on the version of `R` and the version of the `randomForest` package installed on your computer.\n",
    "Recall that bagging is simply a special case of a random forest with\n",
    "$m=p$. Therefore, the\n",
    "`randomForest()` function can be used to perform both random forests and bagging.\n",
    "We perform bagging as follows:"
   ]
  },
  {
   "cell_type": "code",
   "execution_count": null,
   "id": "b786c803",
   "metadata": {
    "name": "chunk19"
   },
   "outputs": [],
   "source": [
    "library(randomForest)\n",
    "set.seed(1)\n",
    "bag.boston <- randomForest(medv ~ ., data = Boston,\n",
    "    subset = train, mtry = 12, importance = TRUE)\n",
    "bag.boston"
   ]
  },
  {
   "cell_type": "markdown",
   "id": "32c26874",
   "metadata": {},
   "source": [
    "The argument `mtry = 12` indicates that all $12$ predictors should be considered for each split of the tree---in other words, that bagging should be done.\n",
    "How well does this bagged model perform on the test set?"
   ]
  },
  {
   "cell_type": "code",
   "execution_count": null,
   "id": "00a03a46",
   "metadata": {
    "name": "chunk20"
   },
   "outputs": [],
   "source": [
    "yhat.bag <- predict(bag.boston, newdata = Boston[-train, ])\n",
    "plot(yhat.bag, boston.test)\n",
    "abline(0, 1)\n",
    "mean((yhat.bag - boston.test)^2)"
   ]
  },
  {
   "cell_type": "markdown",
   "id": "4f0bd720",
   "metadata": {},
   "source": [
    "The test set MSE associated with the bagged regression tree is $23.42$, about two-thirds of that obtained using an optimally-pruned single tree.\n",
    "We could change the number of trees grown by `randomForest()` using the `ntree` argument:"
   ]
  },
  {
   "cell_type": "code",
   "execution_count": null,
   "id": "0d5cb94c",
   "metadata": {
    "lines_to_next_cell": 2,
    "name": "chunk21"
   },
   "outputs": [],
   "source": [
    "bag.boston <- randomForest(medv ~ ., data = Boston,\n",
    "    subset = train, mtry = 12, ntree = 25)\n",
    "yhat.bag <- predict(bag.boston, newdata = Boston[-train, ])\n",
    "mean((yhat.bag - boston.test)^2)"
   ]
  },
  {
   "cell_type": "markdown",
   "id": "17f6192a",
   "metadata": {},
   "source": [
    "Growing a random forest proceeds in exactly the same way, except that we use a smaller value of the `mtry` argument. By default, `randomForest()` uses $p/3$ variables when building a random forest of regression trees, and $\\sqrt{p}$ variables when building a random forest of classification trees. Here we use `mtry = 6`."
   ]
  },
  {
   "cell_type": "code",
   "execution_count": null,
   "id": "d566affe",
   "metadata": {
    "name": "chunk22"
   },
   "outputs": [],
   "source": [
    "set.seed(1)\n",
    "rf.boston <- randomForest(medv ~ ., data = Boston,\n",
    "    subset = train, mtry = 6, importance = TRUE)\n",
    "yhat.rf <- predict(rf.boston, newdata = Boston[-train, ])\n",
    "mean((yhat.rf - boston.test)^2)"
   ]
  },
  {
   "cell_type": "markdown",
   "id": "051b32e6",
   "metadata": {},
   "source": [
    "The test set MSE is $20.07$; this indicates that random forests yielded an improvement over bagging in this case.\n",
    "\n",
    "Using the `importance()` function, we can view the importance of each variable."
   ]
  },
  {
   "cell_type": "code",
   "execution_count": null,
   "id": "1a9888cd",
   "metadata": {
    "name": "chunk23"
   },
   "outputs": [],
   "source": [
    "importance(rf.boston)"
   ]
  },
  {
   "cell_type": "markdown",
   "id": "e6b5212d",
   "metadata": {},
   "source": [
    "Two measures of variable importance are reported. The first is based upon the mean decrease of accuracy in predictions on the out of bag samples when a given variable is permuted. The second is a measure of the total decrease in node impurity that results from splits over that variable, averaged over all trees (this was plotted in Figure 8.9). In the case of regression trees, the node impurity is measured by the training RSS, and for classification trees by the deviance. Plots of these importance measures can be produced using the `varImpPlot()` function."
   ]
  },
  {
   "cell_type": "code",
   "execution_count": null,
   "id": "97cb3ac3",
   "metadata": {
    "name": "chunk24"
   },
   "outputs": [],
   "source": [
    "varImpPlot(rf.boston)"
   ]
  },
  {
   "cell_type": "markdown",
   "id": "4c860efe",
   "metadata": {},
   "source": [
    "The results indicate that across all of the trees considered in the random forest, the wealth of the community (`lstat`) and the house size (`rm`) are by far the two most important variables.\n",
    "\n"
   ]
  },
  {
   "cell_type": "markdown",
   "id": "b80f71f2",
   "metadata": {},
   "source": [
    "## Boosting"
   ]
  },
  {
   "cell_type": "markdown",
   "id": "5e66738b",
   "metadata": {},
   "source": [
    "Here we use the `gbm` package, and within it the `gbm()` function, to fit boosted regression trees to the `Boston` data set. We run `gbm()` with the option `distribution = \"gaussian\"` since this is a regression problem; if it were a binary classification problem, we would use `distribution = \"bernoulli\"`.\n",
    "The argument `n.trees = 5000` indicates that we want $5000$ trees, and the option `interaction.depth = 4` limits the depth of each tree."
   ]
  },
  {
   "cell_type": "code",
   "execution_count": null,
   "id": "bf9c0613",
   "metadata": {
    "name": "chunk25"
   },
   "outputs": [],
   "source": [
    "library(gbm)\n",
    "set.seed(1)\n",
    "boost.boston <- gbm(medv ~ ., data = Boston[train, ],\n",
    "    distribution = \"gaussian\", n.trees = 5000,\n",
    "    interaction.depth = 4)"
   ]
  },
  {
   "cell_type": "markdown",
   "id": "86f49e20",
   "metadata": {},
   "source": [
    "The `summary()` function produces a relative influence plot and also outputs the relative influence statistics."
   ]
  },
  {
   "cell_type": "code",
   "execution_count": null,
   "id": "6a580fc9",
   "metadata": {
    "name": "chunk26"
   },
   "outputs": [],
   "source": [
    "summary(boost.boston)"
   ]
  },
  {
   "cell_type": "markdown",
   "id": "42b565cb",
   "metadata": {},
   "source": [
    "We see that `lstat` and `rm` are by far the most important variables. We can also produce *partial dependence plots* for these two variables. These plots illustrate the marginal effect of the selected variables on the response after *integrating* out the other variables. In this case, as we might expect, median house prices are increasing with `rm` and decreasing with `lstat`."
   ]
  },
  {
   "cell_type": "code",
   "execution_count": null,
   "id": "5fcfb469",
   "metadata": {
    "lines_to_next_cell": 2,
    "name": "chunk27"
   },
   "outputs": [],
   "source": [
    "plot(boost.boston, i = \"rm\")\n",
    "plot(boost.boston, i = \"lstat\")"
   ]
  },
  {
   "cell_type": "markdown",
   "id": "84ded502",
   "metadata": {},
   "source": [
    "We now use the boosted model to predict `medv` on the test set:"
   ]
  },
  {
   "cell_type": "code",
   "execution_count": null,
   "id": "d2b0f9b5",
   "metadata": {
    "name": "chunk28"
   },
   "outputs": [],
   "source": [
    "yhat.boost <- predict(boost.boston,\n",
    "    newdata = Boston[-train, ], n.trees = 5000)\n",
    "mean((yhat.boost - boston.test)^2)"
   ]
  },
  {
   "cell_type": "markdown",
   "id": "6d08aa79",
   "metadata": {},
   "source": [
    "The test MSE obtained is $18.39$: this is superior to the test MSE of random forests and bagging. If we want to, we can perform boosting with a different value of the shrinkage parameter $\\lambda$ in (8.10). The default value is $0.001$, but this is easily modified.\n",
    "Here we take $\\lambda=0.2$."
   ]
  },
  {
   "cell_type": "code",
   "execution_count": null,
   "id": "b86efb2f",
   "metadata": {
    "name": "chunk29"
   },
   "outputs": [],
   "source": [
    "boost.boston <- gbm(medv ~ ., data = Boston[train, ],\n",
    "    distribution = \"gaussian\", n.trees = 5000,\n",
    "    interaction.depth = 4, shrinkage = 0.2, verbose = F)\n",
    "yhat.boost <- predict(boost.boston,\n",
    "    newdata = Boston[-train, ], n.trees = 5000)\n",
    "mean((yhat.boost - boston.test)^2)"
   ]
  },
  {
   "cell_type": "markdown",
   "id": "bff2e847",
   "metadata": {},
   "source": [
    "In this case, using $\\lambda=0.2$ leads to a lower test MSE than $\\lambda=0.001$.\n",
    "\n",
    "\n"
   ]
  },
  {
   "cell_type": "markdown",
   "id": "7576eb59",
   "metadata": {},
   "source": [
    "## Bayesian Additive Regression Trees\n"
   ]
  },
  {
   "cell_type": "markdown",
   "id": "190b29c1",
   "metadata": {},
   "source": [
    "In this section  we use the `BART` package, and within it the `gbart()` function, to fit a Bayesian additive regression tree model to the `Boston` housing data set. The `gbart()` function  is\n",
    "designed for quantitative outcome variables. For binary outcomes,   `lbart()`  and  `pbart()`  are available.\n",
    "\n",
    "To run the `gbart()` function, we must first create matrices of predictors for the training and test data. We run BART with default settings."
   ]
  },
  {
   "cell_type": "code",
   "execution_count": null,
   "id": "5c3a3b6d",
   "metadata": {
    "name": "chunk30"
   },
   "outputs": [],
   "source": [
    "library(BART)\n",
    "x <- Boston[, 1:12]\n",
    "y <- Boston[, \"medv\"]\n",
    "xtrain <- x[train, ]\n",
    "ytrain <- y[train]\n",
    "xtest <- x[-train, ]\n",
    "ytest <- y[-train]\n",
    "set.seed(1)\n",
    "bartfit <- gbart(xtrain, ytrain, x.test = xtest)"
   ]
  },
  {
   "cell_type": "markdown",
   "id": "c98f779b",
   "metadata": {},
   "source": [
    "Next we compute the test error."
   ]
  },
  {
   "cell_type": "code",
   "execution_count": null,
   "id": "2538637c",
   "metadata": {
    "lines_to_next_cell": 2,
    "name": "chunk31"
   },
   "outputs": [],
   "source": [
    "yhat.bart <- bartfit$yhat.test.mean\n",
    "mean((ytest - yhat.bart)^2)"
   ]
  },
  {
   "cell_type": "markdown",
   "id": "862ab44b",
   "metadata": {},
   "source": [
    "On this data set, the test error of BART is lower than the test error of random forests and boosting.\n",
    "\n",
    "Now we can check how many times each variable appeared in the collection of trees."
   ]
  },
  {
   "cell_type": "code",
   "execution_count": null,
   "id": "c2938e26",
   "metadata": {
    "lines_to_next_cell": 0,
    "name": "chunk32"
   },
   "outputs": [],
   "source": [
    "ord <- order(bartfit$varcount.mean, decreasing = T)\n",
    "bartfit$varcount.mean[ord]"
   ]
  },
  {
   "cell_type": "markdown",
   "id": "9237649e",
   "metadata": {},
   "source": [
    "\n",
    "\n",
    "\n",
    "\n",
    "\n",
    "\n",
    "\n",
    "\n",
    "\n",
    "\n"
   ]
  }
 ],
 "metadata": {
  "celltoolbar": "Edit Metadata",
  "jupytext": {
   "formats": "ipynb,Rmd"
  },
  "kernelspec": {
   "display_name": "R",
   "language": "R",
   "name": "ir"
  },
  "language_info": {
   "codemirror_mode": "r",
   "file_extension": ".r",
   "mimetype": "text/x-r-source",
   "name": "R",
   "pygments_lexer": "r",
   "version": "4.0.5"
  },
  "substitutions": {
   "ISLPmod": "`ISLP`",
   "Rlang": "`R`",
   "mpl": "`matplotlib`",
   "numpy": "`numpy`",
   "pandas": "`pandas`",
   "pylang": "`python`",
   "smlib": "`statsmodels`"
  }
 },
 "nbformat": 4,
 "nbformat_minor": 5
}
